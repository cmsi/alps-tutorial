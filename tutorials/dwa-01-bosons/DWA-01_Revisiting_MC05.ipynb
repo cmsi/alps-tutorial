{
 "metadata": {
  "name": ""
 },
 "nbformat": 3,
 "nbformat_minor": 0,
 "worksheets": [
  {
   "cells": [
    {
     "cell_type": "markdown",
     "metadata": {},
     "source": [
      "# ALPS_2_Tutorials:DWA-01_Revisiting_MC05"
     ]
    },
    {
     "cell_type": "markdown",
     "metadata": {},
     "source": [
      "#  Quantum phase transitions in the Bose-Hubbard model "
     ]
    },
    {
     "cell_type": "markdown",
     "metadata": {},
     "source": [
      "As an example of the dwa QMC code we will study a quantum phase transition in the Bose-Hubbard model."
     ]
    },
    {
     "cell_type": "markdown",
     "metadata": {},
     "source": [
      "## Superfluid density in the Bose Hubbard model"
     ]
    },
    {
     "cell_type": "markdown",
     "metadata": {},
     "source": [
      "### Preparing and running the simulation from the command line"
     ]
    },
    {
     "cell_type": "markdown",
     "metadata": {},
     "source": [
      "The parameter file [parm1a](http://alps.comp-phys.org/static/tutorials2.2.0/dwa-01-bosons/parm1a) sets up Monte Carlo simulations of the quantum Bose Hubbard model on a square lattice with 4x4 sites for a couple of hopping parameters (t=0.01, 0.02, ..., 0.1) using the dwa code."
     ]
    },
    {
     "cell_type": "raw",
     "metadata": {},
     "source": [
      "LATTICE=\"square lattice\";\n",
      "L=4;\n",
      "\n",
      "MODEL=\"boson Hubbard\";\n",
      "Nmax = 2;\n",
      "U    = 1.0;\n",
      "mu   = 0.5;\n",
      "\n",
      "T    = 0.1;\n",
      "\n",
      "SWEEPS=5000000;\n",
      "THERMALIZATION=100000;\n",
      "SKIP=500;\n",
      "\n",
      "MEASURE[Winding Number]=1\n",
      "\n",
      "{ t=0.01; }\n",
      "{ t=0.02; }\n",
      "{ t=0.03; }\n",
      "{ t=0.04; }\n",
      "{ t=0.05; }\n",
      "{ t=0.06; }\n",
      "{ t=0.07; }\n",
      "{ t=0.08; }\n",
      "{ t=0.09; }\n",
      "{ t=0.1;  }"
     ]
    },
    {
     "cell_type": "markdown",
     "metadata": {},
     "source": [
      "Using the standard sequence of commands you can run the simulation using the quantum dwa code"
     ]
    },
    {
     "cell_type": "code",
     "collapsed": false,
     "input": [
      "%%bash\n",
      "parameter2xml parm1a\n",
      "dwa --Tmin 5 --write-xml parm1a.in.xml"
     ],
     "language": "python",
     "metadata": {},
     "outputs": []
    },
    {
     "cell_type": "markdown",
     "metadata": {},
     "source": [
      "### Preparing and running the simulation using Python"
     ]
    },
    {
     "cell_type": "markdown",
     "metadata": {},
     "source": [
      "To set up and run the simulation in Python we use the script  [tutorial1a.py](http://alps.comp-phys.org/static/tutorials2.2.0/dwa-01-bosons/tutorial1a.py). The first parts of this script imports the required modules and then prepares the input files as a list of Python dictionaries:"
     ]
    },
    {
     "cell_type": "code",
     "collapsed": false,
     "input": [
      "import pyalps\n",
      "\n",
      "parms = []\n",
      "for t in [0.01, 0.02, 0.03, 0.04, 0.05, 0.06, 0.07, 0.08, 0.09, 0.1]:\n",
      "   parms.append(\n",
      "       { \n",
      "         'LATTICE'                 : \"square lattice\", \n",
      "         'MODEL'                   : \"boson Hubbard\",\n",
      "         'T'                       : 0.1,\n",
      "         'L'                       : 4 ,\n",
      "         't'                       : t ,\n",
      "         'mu'                      : 0.5,\n",
      "         'U'                       : 1.0 ,\n",
      "         'Nmax'                    : 2 ,\n",
      "         'THERMALIZATION'          : 100000,\n",
      "         'SWEEPS'                  : 2000000,\n",
      "         'SKIP'                    : 500,\n",
      "         'MEASURE[Winding Number]' : 1\n",
      "       }\n",
      "   )"
     ],
     "language": "python",
     "metadata": {},
     "outputs": []
    },
    {
     "cell_type": "markdown",
     "metadata": {},
     "source": [
      "We next convert this into a job file in XML format and run the worm simulation:"
     ]
    },
    {
     "cell_type": "code",
     "collapsed": false,
     "input": [
      "input_file = pyalps.writeInputFiles('parm1a', parms)\n",
      "res = pyalps.runApplication('dwa', input_file, Tmin=5, writexml=True)"
     ],
     "language": "python",
     "metadata": {},
     "outputs": []
    },
    {
     "cell_type": "markdown",
     "metadata": {},
     "source": [
      "We now have the same output files as in the command line version."
     ]
    },
    {
     "cell_type": "markdown",
     "metadata": {},
     "source": [
      "### Evaluating the simulation and preparing plots using Python"
     ]
    },
    {
     "cell_type": "markdown",
     "metadata": {},
     "source": [
      "To load the results and prepare plots we load the results from the output files and collect the magntization density as a function of magnetic field from all output files starting with <tt>parm1a</tt>. The script is again in [tutorial1a.py](http://alps.comp-phys.org/static/tutorials2.2.0/dwa-01-bosons/tutorial1a.py)"
     ]
    },
    {
     "cell_type": "code",
     "collapsed": false,
     "input": [
      "import pyalps\n",
      "import matplotlib.pyplot as plt\n",
      "import pyalps.plot as aplt\n",
      "\n",
      "data = pyalps.loadMeasurements(pyalps.getResultFiles(prefix='parm1a'),'Stiffness')\n",
      "rhos = pyalps.collectXY(data,x='t',y='Stiffness')"
     ],
     "language": "python",
     "metadata": {},
     "outputs": []
    },
    {
     "cell_type": "code",
     "collapsed": false,
     "input": [
      "plt.figure()\n",
      "aplt.plot(rhos)\n",
      "plt.xlabel('Hopping $t/U$')\n",
      "plt.ylabel('Superfluid density $\\\\rho _s$')\n",
      "plt.show()"
     ],
     "language": "python",
     "metadata": {},
     "outputs": []
    },
    {
     "cell_type": "markdown",
     "metadata": {},
     "source": [
      "### Setting up and running the simulation in Vistrails"
     ]
    },
    {
     "cell_type": "markdown",
     "metadata": {},
     "source": [
      "To run the simulation in Vistrails open the file [dwa-01-bosons.vt](http://alps.comp-phys.org/static/tutorials2.2.0/dwa-01-bosons/dwa-01-bosons.vt) and look at the workflow labeled \"L=4\". Click on \"Execute\" to prepare the input file, run the simulation and create the output figure."
     ]
    },
    {
     "cell_type": "markdown",
     "metadata": {},
     "source": [
      "##  The transition from the Mott insulator to the superfluid "
     ]
    },
    {
     "cell_type": "markdown",
     "metadata": {},
     "source": [
      "We next want to pin down the location of the phase transition more accurately. For this we simulate  a two-dimensional square lattice for various system sizes and look for a crossing of the quantity $\\rho_s*L$."
     ]
    },
    {
     "cell_type": "markdown",
     "metadata": {},
     "source": [
      "### Preparing and running the simulation from the command line"
     ]
    },
    {
     "cell_type": "markdown",
     "metadata": {},
     "source": [
      "In the parameter file [parm1b](http://alps.comp-phys.org/static/tutorials2.2.0/dwa-01-bosons/parm1b) we focus on the region around the critical point for three system sizes L=4,6, and 8:"
     ]
    },
    {
     "cell_type": "raw",
     "metadata": {},
     "source": [
      "LATTICE=\"square lattice\";\n",
      " \n",
      "MODEL=\"boson Hubbard\";\n",
      "Nmax  =2;\n",
      "U    = 1.0;\n",
      "mu   = 0.5;\n",
      " \n",
      "T    = 0.05;\n",
      " \n",
      "SWEEPS=2000000;\n",
      "THERMALIZATION=150000;\n",
      "SKIP=500;\n",
      " \n",
      "{ L=4; t=0.01; }\n",
      "{ L=4; t=0.02; }\n",
      "{ L=4; t=0.03; }\n",
      "{ L=4; t=0.04; }\n",
      "{ L=4; t=0.05; }\n",
      "{ L=4; t=0.06; }\n",
      "{ L=4; t=0.07; }\n",
      "{ L=4; t=0.08; }\n",
      "{ L=4; t=0.09; }\n",
      "{ L=4; t=0.1;  }\n",
      "\n",
      "{ L=6; t=0.01; }\n",
      "{ L=6; t=0.02; }\n",
      "{ L=6; t=0.03; }\n",
      "{ L=6; t=0.04; }\n",
      "{ L=6; t=0.05; }\n",
      "{ L=6; t=0.06; }\n",
      "{ L=6; t=0.07; }\n",
      "{ L=6; t=0.08; }\n",
      "{ L=6; t=0.09; }\n",
      "{ L=6; t=0.1;  }\n",
      "{ L=8; t=0.01; }\n",
      "{ L=8; t=0.02; }\n",
      "{ L=8; t=0.03; }\n",
      "{ L=8; t=0.04; }\n",
      "{ L=8; t=0.05; }\n",
      "{ L=8; t=0.06; }\n",
      "{ L=8; t=0.07; }\n",
      "{ L=8; t=0.08; }\n",
      "{ L=8; t=0.09; }\n",
      "{ L=8; t=0.1;  }"
     ]
    },
    {
     "cell_type": "markdown",
     "metadata": {},
     "source": [
      "Using the standard sequence of commands you can run the simulation using the quantum dwa code"
     ]
    },
    {
     "cell_type": "code",
     "collapsed": false,
     "input": [
      "%%bash\n",
      "parameter2xml parm1b\n",
      "dwa --Tmin 5 --write-xml parm1b.in.xml"
     ],
     "language": "python",
     "metadata": {},
     "outputs": []
    },
    {
     "cell_type": "markdown",
     "metadata": {},
     "source": [
      "### Preparing and running the simulation using Python"
     ]
    },
    {
     "cell_type": "markdown",
     "metadata": {},
     "source": [
      "To set up and run the simulation in Python we use the script  [tutorial1b.py](http://alps.comp-phys.org/static/tutorials2.2.0/dwa-01-bosons/tutorial1b.py). The first parts of this script imports the required modules and then prepares the input files as a list of Python dictionaries:"
     ]
    },
    {
     "cell_type": "code",
     "collapsed": false,
     "input": [
      "parms = []\n",
      "for L in [4,6,8]:\n",
      "  for t in [0.01, 0.02, 0.03, 0.04, 0.05, 0.06, 0.07, 0.08, 0.09, 0.1]:\n",
      "     parms.append(\n",
      "        {\n",
      "          'LATTICE'                 : \"square lattice\",\n",
      "          'MODEL'                   : \"boson Hubbard\",\n",
      "          'T'                       : 0.1,\n",
      "          'L'                       : L ,\n",
      "          't'                       : t ,\n",
      "          'mu'                      : 0.5,\n",
      "          'U'                       : 1.0 ,\n",
      "          'Nmax'                    : 2 ,\n",
      "          'THERMALIZATION'          : 100000,\n",
      "          'SWEEPS'                  : 2000000,\n",
      "          'SKIP'                    : 500,\n",
      "          'MEASURE[Winding Number]': 1\n",
      "        }\n",
      "    )"
     ],
     "language": "python",
     "metadata": {},
     "outputs": []
    },
    {
     "cell_type": "markdown",
     "metadata": {},
     "source": [
      "We next convert this into a job file in XML format and run the worm simulation:"
     ]
    },
    {
     "cell_type": "code",
     "collapsed": false,
     "input": [
      "input_file = pyalps.writeInputFiles('parm1b', parms)\n",
      "res = pyalps.runApplication('dwa', input_file, Tmin=5, writexml=True)"
     ],
     "language": "python",
     "metadata": {},
     "outputs": []
    },
    {
     "cell_type": "markdown",
     "metadata": {},
     "source": [
      "We now have the same output files as in the command line version."
     ]
    },
    {
     "cell_type": "markdown",
     "metadata": {},
     "source": [
      "### Evaluating the simulation and preparing plots using Python"
     ]
    },
    {
     "cell_type": "markdown",
     "metadata": {},
     "source": [
      "To load the results and prepare plots we load the results from the output files and collect the magntization density as a function of magnetic field from all output files starting with <tt>parm1b</tt>. The script is again in [tutorial1b.py](http://alps.comp-phys.org/static/tutorials2.2.0/dwa-01-bosons/tutorial1b.py)"
     ]
    },
    {
     "cell_type": "code",
     "collapsed": false,
     "input": [
      "import pyalps\n",
      "import matplotlib.pyplot as plt\n",
      "import pyalps.plot as aplt\n",
      "\n",
      "data = pyalps.loadMeasurements(pyalps.getResultFiles(prefix='parm1b'),'Stiffness')\n",
      "rhos = pyalps.collectXY(data,x='t',y='Stiffness',foreach=['L'])\n",
      "\n",
      "for rho in rhos:\n",
      "  rho.y = rho.y * float(rho.props['L'])"
     ],
     "language": "python",
     "metadata": {},
     "outputs": []
    },
    {
     "cell_type": "code",
     "collapsed": false,
     "input": [
      "plt.figure()\n",
      "aplt.plot(rhos)\n",
      "plt.xlabel('Hopping $t/U$')\n",
      "plt.ylabel('$\\\\rho _sL$')\n",
      "plt.legend()\n",
      "plt.title('Scaling plot for Bose-Hubbard model')\n",
      "plt.show()"
     ],
     "language": "python",
     "metadata": {},
     "outputs": []
    },
    {
     "cell_type": "markdown",
     "metadata": {},
     "source": [
      "Note the legend and labels that are nicely set up."
     ]
    },
    {
     "cell_type": "markdown",
     "metadata": {},
     "source": [
      "### Setting up and running the simulation in Vistrails"
     ]
    },
    {
     "cell_type": "markdown",
     "metadata": {},
     "source": [
      "To run the simulation in Vistrails open the file [dwa-01-bosons.vt](http://alps.comp-phys.org/static/tutorials2.2.0/dwa-01-bosons/dwa-01-bosons.vt) and look at the workflow labeled \"scaling plot\". "
     ]
    },
    {
     "cell_type": "markdown",
     "metadata": {},
     "source": [
      "&copy; 2013 by Matthias Troyer, Ping Nang M"
     ]
    }
   ],
   "metadata": {}
  }
 ]
}