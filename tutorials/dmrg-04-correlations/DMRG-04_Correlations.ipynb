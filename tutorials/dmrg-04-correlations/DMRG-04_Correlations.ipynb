{
 "metadata": {
  "name": ""
 },
 "nbformat": 3,
 "nbformat_minor": 0,
 "worksheets": [
  {
   "cells": [
    {
     "cell_type": "markdown",
     "metadata": {},
     "source": [
      "# ALPS_2_Tutorials:DMRG-04_Correlations"
     ]
    },
    {
     "cell_type": "markdown",
     "metadata": {},
     "source": [
      "# Correlation Functions"
     ]
    },
    {
     "cell_type": "markdown",
     "metadata": {},
     "source": [
      "The most important correlation functions in many-body physics are two-point correlators, i.e. correlators that involve two sites $i$ and $j$, such as $\\langle S^+_i S^-_j \\rangle$.\n",
      "Short-ranged ones determine energies (in the typical short-ranged Hamiltonians of correlation physics), long-ranged ones determine correlation lengths."
     ]
    },
    {
     "cell_type": "markdown",
     "metadata": {},
     "source": [
      "## Another Go At The Energy Per Bond"
     ]
    },
    {
     "cell_type": "markdown",
     "metadata": {},
     "source": [
      "As already mentioned above, the ground state energy per bond in both spin-1/2 and spin-1 chain is given by"
     ]
    },
    {
     "cell_type": "markdown",
     "metadata": {},
     "source": [
      "$e_0(i) = \\frac{1}{2} (\\langle S^+_i S^-_{i+1}\\rangle  + \\langle S^-_i S^+_{i+1}\\rangle ) + \\langle S^z_i S^z_{i+1} \\rangle $"
     ]
    },
    {
     "cell_type": "markdown",
     "metadata": {},
     "source": [
      "This gives the energy of each bond individually, but we are interested in the thermodynamic limit, where all bonds are on equal footing and hence should have the same energy unless there is some physical breaking of translational invariance. "
     ]
    },
    {
     "cell_type": "markdown",
     "metadata": {},
     "source": [
      "Obviously, the bonds that are closest to the thermodynamic limit behaviour are those in the chain center. So, the direct approach would be to calculate $e_0(L/2)$ and extrapolate it first in $D$ for fixed $L$ and then in $L$. "
     ]
    },
    {
     "cell_type": "markdown",
     "metadata": {},
     "source": [
      "Before you do this, however, plot for some values of $D$ and not too small $L$ $e_0(i)$ versus $i$ (as a check of the program, you may also consider the three contributions individually before you do the sum. What relationship between them should exist?). "
     ]
    },
    {
     "cell_type": "markdown",
     "metadata": {},
     "source": [
      "What do you observe for spin-1? And what for spin-1/2?"
     ]
    },
    {
     "cell_type": "markdown",
     "metadata": {},
     "source": [
      "For the spin-1/2 chain, bond energies oscillate strongly between odd and even numbered bonds. This is because the open ends make themselves felt very strongly due to criticality and because the spin-1/2 chain is on the verge of dimerization, i.e. a spontaneous breaking of translational symmetry of the ground state down to a periodicity of 2. It is therefore more meaningful to extrapolate the average energy of a strong and a weak bond; you immediately gain lots of accuracy. This is yet another example that it is worthwhile to have a close look at the actual output of DMRG by considering various local or (here) almost local observables."
     ]
    },
    {
     "cell_type": "markdown",
     "metadata": {},
     "source": [
      "## Spin-Spin Correlations: Spin-1/2"
     ]
    },
    {
     "cell_type": "markdown",
     "metadata": {},
     "source": [
      "Take a relatively long chain (say, $L=192$), and calculate $ \\langle S^z_i S^z_j \\rangle$ for various increasing $D$. "
     ]
    },
    {
     "cell_type": "markdown",
     "metadata": {},
     "source": [
      "Now plot $C_l = \\langle S^z_{L/2-l/2} S^z_{L/2+l/2} \\rangle$ where you round the positions such that their distance is $l$. The purpose of this is to center the correlators about the chain center to make boundary effects as small as possible; there are also other ways of doing this (like averaging over several correlators with same site distance, also more or less centered). As we expect a power law, use a log-log plot. Take absolute values or multiply out the antiferromagnetic factor $(-1)^l$."
     ]
    },
    {
     "cell_type": "markdown",
     "metadata": {},
     "source": [
      "What you should see, is a power law on short distances, but a faster (in fact, exponential) decay for larger distances. This has two reasons: (i) the finite system size cuts off the power-law correlations; but as we took a large system size here, this should not matter too much. (ii) DMRG's algorithmic structure effectively generates correlators which are superpositions of up to $D^2$ purely exponential decays, and therefore can only mimic power laws by such superpositions - at large distance, the slowest exponential decay will survive all the others, replacing the power law by an exponential law. The larger you choose $D$, the further you push out this crossover."
     ]
    },
    {
     "cell_type": "markdown",
     "metadata": {},
     "source": [
      "### Using parameter files"
     ]
    },
    {
     "cell_type": "markdown",
     "metadata": {},
     "source": [
      "The following parameter file [spin_one_half](http://alps.comp-phys.org/static/tutorials2.2.0/dmrg-04-correlations/spin_one_half) will setup this run for us (once again, for illustration we shall use a smaller system and number of states than the more realistic numbers stated above). In this example we consider a chain of length $L=32$ and we setup multiple runs with different numbers of states $D$. We use 6 sweeps. Make sure that the correlations look symmetric.   "
     ]
    },
    {
     "cell_type": "raw",
     "metadata": {},
     "source": [
      "LATTICE=\"open chain lattice\"\n",
      "MODEL=\"spin\"\n",
      "CONSERVED_QUANTUMNUMBERS=\"N,Sz\"\n",
      "Sz_total=0\n",
      "SWEEPS=6\n",
      "J=1\n",
      "NUMBER_EIGENVALUES=1\n",
      "MEASURE_AVERAGE[Magnetization]=Sz\n",
      "MEASURE_AVERAGE[Exchange]=exchange\n",
      "MEASURE_LOCAL[Local magnetization]=Sz\n",
      "MEASURE_CORRELATIONS[Diagonal spin correlations]=Sz\n",
      "MEASURE_CORRELATIONS[Offdiagonal spin correlations]=\"Splus:Sminus\"\n",
      "L=32\n",
      "{ MAXSTATES=20 }\n",
      "{ MAXSTATES=40 }\n",
      "{ MAXSTATES=60 }"
     ]
    },
    {
     "cell_type": "markdown",
     "metadata": {},
     "source": [
      "### Using Python"
     ]
    },
    {
     "cell_type": "markdown",
     "metadata": {},
     "source": [
      "The script [spin_one_half.py](http://alps.comp-phys.org/static/tutorials2.2.0/dmrg-04-correlations/spin_one_half.py) sets up three runs with different numbers of states $D$ and loads the results."
     ]
    },
    {
     "cell_type": "code",
     "collapsed": false,
     "input": [
      "import pyalps\n",
      "import numpy as np\n",
      "import matplotlib.pyplot as plt\n",
      "import pyalps.plot\n",
      "\n",
      "parms = []\n",
      "for D in [20,40,60]:\n",
      "   parms.append( { \n",
      "       'LATTICE'                               : 'open chain lattice', \n",
      "       'MODEL'                                 : 'spin',\n",
      "       'CONSERVED_QUANTUMNUMBERS'              : 'N,Sz',\n",
      "       'Sz_total'                              : 0,\n",
      "       'J'                                     : 1,\n",
      "       'SWEEPS'                                : 6,\n",
      "       'NUMBER_EIGENVALUES'                    : 1,\n",
      "       'L'                                     : 32,\n",
      "       'MAXSTATES'                             : D,\n",
      "       'MEASURE_AVERAGE[Magnetization]'        : 'Sz',\n",
      "       'MEASURE_AVERAGE[Exchange]'             : 'exchange',\n",
      "       'MEASURE_LOCAL[Local magnetization]'    : 'Sz',\n",
      "       'MEASURE_CORRELATIONS[Diagonal spin correlations]'      : 'Sz',\n",
      "       'MEASURE_CORRELATIONS[Offdiagonal spin correlations]'   : 'Splus:Sminus'\n",
      "      } )\n",
      "\n",
      "input_file = pyalps.writeInputFiles('parm_spin_one_half',parms)\n",
      "res = pyalps.runApplication('dmrg',input_file,writexml=True)\n",
      "\n",
      "data = pyalps.loadEigenstateMeasurements(pyalps.getResultFiles(prefix='parm_spin_one_half'))"
     ],
     "language": "python",
     "metadata": {},
     "outputs": []
    },
    {
     "cell_type": "markdown",
     "metadata": {},
     "source": [
      "Now we can extract e.g. Sz:Sz correlations"
     ]
    },
    {
     "cell_type": "code",
     "collapsed": false,
     "input": [
      "curves = []\n",
      "for run in data:\n",
      "   for s in run:\n",
      "       if s.props['observable'] == 'Diagonal spin correlations':\n",
      "           d = pyalps.DataSet()\n",
      "           d.props['observable'] = 'Sz correlations'\n",
      "           d.props['label'] = 'D = '+str(s.props['MAXSTATES'])\n",
      "           L = int(s.props['L'])\n",
      "           d.x = np.arange(L)\n",
      "            \n",
      "           # sites with increasing distance l symmetric to the chain center\n",
      "           site1 = np.array([int(-(l+1)/2.0) for l in range(0,L)]) + L/2\n",
      "           site2 = np.array([int(  l   /2.0) for l in range(0,L)]) + L/2\n",
      "           indices = L*site1 + site2\n",
      "           d.y = abs(s.y[0][indices])\n",
      "            \n",
      "           curves.append(d)"
     ],
     "language": "python",
     "metadata": {},
     "outputs": []
    },
    {
     "cell_type": "markdown",
     "metadata": {},
     "source": [
      "and plot them vs. site distance."
     ]
    },
    {
     "cell_type": "code",
     "collapsed": false,
     "input": [
      "plt.figure()\n",
      "pyalps.plot.plot(curves)\n",
      "plt.xscale('log')\n",
      "plt.yscale('log')\n",
      "plt.legend()\n",
      "plt.title('Spin correlations in antiferromagnetic Heisenberg chain (S=1/2)')\n",
      "plt.ylabel('correlations $| \\\\langle S^z_{L/2-l/2} S^z_{L/2+l/2} \\\\rangle |$')\n",
      "plt.xlabel('distance $l$')\n",
      "plt.show()"
     ],
     "language": "python",
     "metadata": {},
     "outputs": []
    },
    {
     "cell_type": "markdown",
     "metadata": {},
     "source": [
      "### Using Vistrails"
     ]
    },
    {
     "cell_type": "markdown",
     "metadata": {},
     "source": [
      "Open the file [dmrg-04-correlations.vt](http://alps.comp-phys.org/static/tutorials2.2.0/dmrg-04-correlations/dmrg-04-correlations.vt) and select the workflow labeled \"spin 1/2\"."
     ]
    },
    {
     "cell_type": "markdown",
     "metadata": {},
     "source": [
      "## Spin-Spin Correlations: Spin-1"
     ]
    },
    {
     "cell_type": "markdown",
     "metadata": {},
     "source": [
      "In the spin-1 chain, we do expect exponential decay (with an analytic modification), so the exponential nature of the correlators of DMRG should fit well. Again, choose a long chain (say,$L=192$), and calculate $ \\langle S^z_i S^z_j \\rangle$ for various increasing $D$. "
     ]
    },
    {
     "cell_type": "markdown",
     "metadata": {},
     "source": [
      "Now plot $C_l = \\langle S^z_{L/2-l/2} S^z_{L/2+l/2} \\rangle$ where you round the positions such that their distance is $l$, as before. As we expect an exponential law, use a log-lin plot, again eliminating the negative signs.  "
     ]
    },
    {
     "cell_type": "markdown",
     "metadata": {},
     "source": [
      "From the log-lin plot, extract a correlation length. It will depend (and in fact monotonically increase with) $D$. Has it converged when you reach e.g. $D=300$? How does this compare to the convergence for the same number of states of local or quasi-local observables such as magnetization or energy?"
     ]
    },
    {
     "cell_type": "markdown",
     "metadata": {},
     "source": [
      "In fact, the calculation of correlation lengths is much harder to converge than that of the local quantities. This is due to the fact that a more profound algorithmic analysis reveals DMRG to be an algorithm geared especially well to the optimal representation of local quantities, not so much non-local ones as long-ranged correlators."
     ]
    },
    {
     "cell_type": "markdown",
     "metadata": {},
     "source": [
      "### Using parameter files"
     ]
    },
    {
     "cell_type": "markdown",
     "metadata": {},
     "source": [
      "The parameter file [spin_one](http://alps.comp-phys.org/static/tutorials2.2.0/dmrg-04-correlations/spin_one) looks much like the one for the previous example, but replacing the lattice and the model as follows:"
     ]
    },
    {
     "cell_type": "raw",
     "metadata": {},
     "source": [
      "LATTICE_LIBRARY=\"my_lattices.xml\"\n",
      "LATTICE=\"open chain lattice with special edges 32\"\n",
      "MODEL=\"spin\"\n",
      "local_S0=0.5\n",
      "local_S1=1\n",
      "CONSERVED_QUANTUMNUMBERS=\"N,Sz\"\n",
      "Sz_total=0\n",
      "SWEEPS=6\n",
      "J=1\n",
      "NUMBER_EIGENVALUES=1\n",
      "MEASURE_AVERAGE[Magnetization]=Sz\n",
      "MEASURE_AVERAGE[Exchange]=exchange\n",
      "MEASURE_LOCAL[Local magnetization]=Sz\n",
      "MEASURE_CORRELATIONS[Diagonal spin correlations]=Sz\n",
      "MEASURE_CORRELATIONS[Offdiagonal spin correlations]=\"Splus:Sminus\"\n",
      "{ MAXSTATES=20 }\n",
      "{ MAXSTATES=40 }\n",
      "{ MAXSTATES=60 }"
     ]
    },
    {
     "cell_type": "markdown",
     "metadata": {},
     "source": [
      "### Using Python"
     ]
    },
    {
     "cell_type": "markdown",
     "metadata": {},
     "source": [
      "The main difference of the script [spin_one.py](http://alps.comp-phys.org/static/tutorials2.2.0/dmrg-04-correlations/spin_one.py) with respect to the previous one is the definition of lattice and model."
     ]
    },
    {
     "cell_type": "code",
     "collapsed": false,
     "input": [
      "parms = []\n",
      "L = 32\n",
      "for D in [20,40,60]:\n",
      "   parms.append( { \n",
      "       'LATTICE_LIBRARY'                       : 'my_lattices.xml',\n",
      "       'LATTICE'                               : 'open chain lattice with special edges '+str(L),\n",
      "       'MODEL'                                 : 'spin',\n",
      "       'local_S0'                              : 0.5,\n",
      "       'local_S1'                              : 1,\n",
      "       'CONSERVED_QUANTUMNUMBERS'              : 'N,Sz',\n",
      "       'Sz_total'                              : 0,\n",
      "       'J'                                     : 1,\n",
      "       'SWEEPS'                                : 4,\n",
      "       'NUMBER_EIGENVALUES'                    : 1,\n",
      "       'MAXSTATES'                             : D,\n",
      "       'MEASURE_AVERAGE[Magnetization]'        : 'Sz',\n",
      "       'MEASURE_AVERAGE[Exchange]'             : 'exchange',\n",
      "       'MEASURE_LOCAL[Local magnetization]'    : 'Sz',\n",
      "       'MEASURE_CORRELATIONS[Diagonal spin correlations]'      : 'Sz',\n",
      "       'MEASURE_CORRELATIONS[Offdiagonal spin correlations]'   : 'Splus:Sminus'\n",
      "      } )"
     ],
     "language": "python",
     "metadata": {},
     "outputs": []
    },
    {
     "cell_type": "markdown",
     "metadata": {},
     "source": [
      "After running the simulation, correlations can be extracted and plotted in the same way as before."
     ]
    },
    {
     "cell_type": "markdown",
     "metadata": {},
     "source": [
      "### Using Vistrails"
     ]
    },
    {
     "cell_type": "markdown",
     "metadata": {},
     "source": [
      "Open the \"spin 1\" workflow in [dmrg-04-correlations.vt](http://alps.comp-phys.org/static/tutorials2.2.0/dmrg-04-correlations/dmrg-04-correlations.vt)."
     ]
    },
    {
     "cell_type": "markdown",
     "metadata": {},
     "source": [
      "## Sometimes There Is A Way Out "
     ]
    },
    {
     "cell_type": "markdown",
     "metadata": {},
     "source": [
      "In the special case of the spin-1 chain, we have a loophole for the calculation of the correlation length, which is related to the weird observation that the first excitation was not a bulk excitation. It can be shown that a good toy model for a spin-1 chain is given as follows: at each site of a spin-1, you put two spin-1/2, and construct the spin-1 states from the triplet states of the two spin-1/2 at each site. The ground state is then approximated quite well by a state where you link two spin-1/2 on ''neighbouring'' sites by a singlet state. "
     ]
    },
    {
     "cell_type": "markdown",
     "metadata": {},
     "source": [
      "In this construction, for open boundary conditions (but not periodic ones), on the first and on the last site there will be two lonely spins-1/2 without partner. These two spins-1/2 can form 4 states among themselves, which in the toy model are degenerate: the ground state is four-fold degenerate. In the real spin-1 chain, this four-fold degeneracy (from one state of total spin 0 and three of total spin 1) is only achieved in the thermodynamic limit when the two spins are totally removed from each other. This is why there was no gap between magnetization sectors 0 and 1. The first bulk excitation needs magnetization 2."
     ]
    },
    {
     "cell_type": "markdown",
     "metadata": {},
     "source": [
      "What we can do to cure this, is to attach one spin-1/2 before the first and after the last site, taking the same bond Hamiltonian, that link up to the two lonely spins by a singlet state. You may check that now the gap is between magnetization sectors 0 and 1!"
     ]
    },
    {
     "cell_type": "markdown",
     "metadata": {},
     "source": [
      "In order to calculate the correlation length, one can also play the following trick: attach only one spin-1/2 at one end. This means that the ground state will now be doubly degenerate, in magnetization sectors +1/2 or -1/2, and be characterized by the boundary site where there is NO spin-1/2 attached carrying finite magnetization, that decays into the bulk, with the correlation length."
     ]
    },
    {
     "cell_type": "markdown",
     "metadata": {},
     "source": [
      "For a chain of length $L=192$ and $D=200$, calculate the ground state magnetization. Plot it (eliminating the sign oscillation) versus site in a log-lin plot and extract the correlation length. What do you get"
     ]
    }
   ],
   "metadata": {}
  }
 ]
}