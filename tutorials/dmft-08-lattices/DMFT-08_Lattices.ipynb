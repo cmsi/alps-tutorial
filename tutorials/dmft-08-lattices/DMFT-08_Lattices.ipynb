{
 "metadata": {
  "name": ""
 },
 "nbformat": 3,
 "nbformat_minor": 0,
 "worksheets": [
  {
   "cells": [
    {
     "cell_type": "markdown",
     "metadata": {},
     "source": [
      "# ALPS_2_Tutorials:DMFT-08_Lattices"
     ]
    },
    {
     "cell_type": "markdown",
     "metadata": {},
     "source": [
      "#Tutorial 08: Setting a particular lattice"
     ]
    },
    {
     "cell_type": "markdown",
     "metadata": {},
     "source": [
      "**Option DOSFILE**"
     ]
    },
    {
     "cell_type": "markdown",
     "metadata": {},
     "source": [
      "All the previous tutorials dealt with the Bethe lattice, which does correspond to the semicircular density of states. Now we show, how to set the input parameters in order to specify a particular lattice. In order to run the simulation, you may take scripts from the previous tutorials and just replace the parameters list in order to do similar simulations. You may for instance look at the MIT transition as it was done in the Tutorial 4."
     ]
    },
    {
     "cell_type": "markdown",
     "metadata": {},
     "source": [
      "For a general lattice, you have to provide the density of states of your lattice. Apart from that, several other changes are necessary in order to run the simulation. A working python script [tutorial8a.py](http://alps.comp-phys.org/static/tutorials2.2.0/dmft-08-lattices/tutorial8a.py) setting an input file and running the simulation follows:"
     ]
    },
    {
     "cell_type": "code",
     "collapsed": false,
     "input": [
      "import pyalps\n",
      "import matplotlib.pyplot as plt\n",
      "import pyalps.plot\n",
      " \n",
      " \n",
      "#prepare the input parameters\n",
      "parms=[]\n",
      "for u in [3.]: \n",
      " for b in [6.]:\n",
      "   parms.append(\n",
      "           { \n",
      "               'BETA' : b,          # inverse temperature\n",
      "               'MU' : 0.0,          # chemical potential corresponding to half-filling\n",
      "               'U' : u,             # Hubbard interaction\n",
      "               'FLAVORS' : 2,       # corresponds to spin up/down\n",
      "               'SITES' : 1,         # number of sites in the impurity\n",
      "               'H' : 0.0,           # there is no magnetic field\n",
      "               'H_INIT' : 0.05,     #  we set initial field to split spin up/down in order to trigger AF phase\n",
      "               'OMEGA_LOOP' : 1,        # the selfconsistency runs in Matsubara frequencies\n",
      "               'ANTIFERROMAGNET' : 1,   # allow Neel order\n",
      "               'SYMMETRIZATION' : 0,    # do not enforce paramagnetic solution\n",
      "               'NMATSUBARA' : 500,      # number of Matsubara frequencies\n",
      "               'N' : 500,               # bins in imaginary time\n",
      "               'CONVERGED' : 0.005,     # criterion for convergency\n",
      "               'MAX_TIME' : 60,         # max. time spent in solver in a single iteration in seconds\n",
      "               'G0OMEGA_INPUT' : \"\",    # forces to start from the local non-interacting Green's function\n",
      "               'MAX_IT' : 10,           # max. number of self-consistency iterations\n",
      "               'CHECKPOINT' : \"dump_DOS_beta\"+str(b)+'_U'+str(u),   # prefix for checkpointing\n",
      "               'SWEEPS' : 10000,    # max. number of sweeps in a single iteration\n",
      "               'THERMALIZATION' : 500, # number of thermalization sweeps\n",
      "               'SEED' : 0,              # random seed\n",
      "               'SOLVER' : \"hybridization\",   # we take the hybridization impurity solver\n",
      "               'SC_WRITE_DELTA' : 1,         # input for the hybridization impurity solver is the hybridization function Delta, which has to be written by the selfconsistency\n",
      "               'N_MEAS' : 5000,              # number of Monte Carlo steps between measurements\n",
      "               'N_ORDER' : 50,               # histogram size\n",
      "               'DOSFILE' : \"DOS/DOS_Square_GRID4000\", # specification of the file with density of states\n",
      "               'GENERAL_FOURIER_TRANSFORMER' : 1,     # Fourier transformer for a general bandstructure\n",
      "               'EPS_0' : 0,                           # potential shift for the flavor 0\n",
      "               'EPS_1' : 0,                           # potential shift for the flavor 1\n",
      "               'EPSSQ_0' : 4,                         # the second moment of the bandstructure for the flavor 0\n",
      "               'EPSSQ_1' : 4,                         # the second moment of the bandstructure for the flavor 1\n",
      "           }\n",
      "       )\n",
      " \n",
      "#write the input file and run the simulation\n",
      "for p in parms:\n",
      "   input_file = pyalps.writeParameterFile('hybrid_DOS_beta_'+str(p['BETA'])+'_U_'+str(p['U']),p)\n",
      "   res = pyalps.runDMFT(input_file)"
     ],
     "language": "python",
     "metadata": {},
     "outputs": []
    },
    {
     "cell_type": "markdown",
     "metadata": {},
     "source": [
      "Lattice-specific parameters which appear in the input files are listed below:"
     ]
    },
    {
     "cell_type": "raw",
     "metadata": {},
     "source": [
      "DOSFILE = DOS_Square_GRID4000; // specification of the file with density of states\n",
      "GENERAL_FOURIER_TRANSFORMER = 1;  // Fourier transformer for a general bandstructure\n",
      "EPS_0 = 0;                        // potential shift for the flavor 0\n",
      "EPS_1 = 0;                        // potential shift for the flavor 1\n",
      "EPSSQ_0 = 4;                      // the second moment of the bandstructure for the flavor 0\n",
      "EPSSQ_1 = 4;                      // the second moment of the bandstructure for the flavor 1"
     ]
    },
    {
     "cell_type": "markdown",
     "metadata": {},
     "source": [
      "Note1: if you do not provide the bandstructure parameters (EPS_i, EPSSQ_i) in the input file, then they will be calculated using the given DOS (since revision 6146) as $ EPS_{flavor=i} = \\int \\mathrm{d}\\epsilon\\ DOS_{band=i/2}(\\epsilon) \\ \\epsilon$, $EPSSQ_{flavor=i} = \\int \\mathrm{d}\\epsilon\\ DOS_{band=i/2}(\\epsilon)\\ \\epsilon^2$."
     ]
    },
    {
     "cell_type": "markdown",
     "metadata": {},
     "source": [
      "Note2: the antiferromagnetic selfconsistency loop does assume a Neel order. Therefore it is only applicable for bipartite lattices."
     ]
    },
    {
     "cell_type": "markdown",
     "metadata": {},
     "source": [
      "Note3: the density of states has to be provided by the user. In the tutorial we provide the DOS for "
     ]
    },
    {
     "cell_type": "markdown",
     "metadata": {},
     "source": [
      "* the square lattice [DOS_Square_GRID4000](http://alps.comp-phys.org/static/tutorials2.2.0/dmft-08-lattices/DOS/DOS_Square_GRID4000) (generated by [DOS_Square.py](http://alps.comp-phys.org/static/tutorials2.2.0/dmft-08-lattices/DOS/DOS_Square.py) for setting $GRID=4000$); the corresponding parameters are EPSSQ_i=4\n",
      "* the cubic lattice [DOS_Cubic_GRID360](http://alps.comp-phys.org/static/tutorials2.2.0/dmft-08-lattices/DOS/DOS_Cubic_GRID360) (generated by [DOS_Cubic.py](http://alps.comp-phys.org/static/tutorials2.2.0/dmft-08-lattices/DOS/DOS_Cubic.py) for setting $GRID=360$); the corresponding parameters are EPSSQ_i=6\n",
      "* the hexagonal lattice [DOS_Hexagonal_GRID4000](http://alps.comp-phys.org/static/tutorials2.2.0/dmft-08-lattices/DOS/DOS_Hexagonal_GRID4000) (generated by [DOS_Hexagonal.py](http://alps.comp-phys.org/static/tutorials2.2.0/dmft-08-lattices/DOS/DOS_Hexagonal.py) for setting $GRID=4000$); the corresponding parameters are EPSSQ_i=3\n",
      "* the Bethe lattice [DOS_Bethe](http://alps.comp-phys.org/static/tutorials2.2.0/dmft-08-lattices/DOS/DOS_Bethe) (generated by [DOS_Bethe.py](http://alps.comp-phys.org/static/tutorials2.2.0/dmft-08-lattices/DOS/DOS_Bethe.py)); the corresponding parameters are EPSSQ_i=1; for testing"
     ]
    },
    {
     "cell_type": "markdown",
     "metadata": {},
     "source": [
      "Note4: for a multiband simulation [$n_{bands}=FLAVORS/2$] with known DOS, the DOS-file has to consist of $2*n_{bands}$ columns. The number of bins [=number of lines of the input file] for DOS has to be the same for all bands. The $i$-th line has the structure as follows"
     ]
    },
    {
     "cell_type": "markdown",
     "metadata": {},
     "source": [
      "$e_{1,i}\\ \\ \\ DOS_{band1}(e_{1,i})\\ \\ \\ e_{2,i}\\ \\ \\ DOS_{band2}(e_{2,i})\\ \\ \\ \\ldots$"
     ]
    },
    {
     "cell_type": "code",
     "collapsed": false,
     "input": [
      "**Option TWODBS**"
     ],
     "language": "python",
     "metadata": {},
     "outputs": []
    },
    {
     "cell_type": "markdown",
     "metadata": {},
     "source": [
      "For the case of 2-dimensional lattice, there is an implementation of the Hilbert transformation with integral over k-space [parameter L sets the discretization in each dimension of the reciprocal space]. Currently, there is implementation for these dispersions:"
     ]
    },
    {
     "cell_type": "markdown",
     "metadata": {},
     "source": [
      "* square lattice [set TWODBS=square] with nearest-neighbor [corresponding parameter: t] and next-nearest-neighbor hoppings [corresponding parameter: tprime]; the second moment EPSSQ_i is $4(t^2 + tprime^2)$;\n",
      "* hexagonal lattice [set TWODBS=hexagonal] with nearest-neighbor hoppings [corresponding parameter: t]; the second moment EPSSQ_i is $3t^2$."
     ]
    },
    {
     "cell_type": "markdown",
     "metadata": {},
     "source": [
      "A working python script [tutorial8b.py](http://alps.comp-phys.org/static/tutorials2.2.0/dmft-08-lattices/tutorial8b.py) to produce the input file and run the simulation is shown here:"
     ]
    },
    {
     "cell_type": "code",
     "collapsed": false,
     "input": [
      "import pyalps\n",
      "import matplotlib.pyplot as plt\n",
      "import pyalps.plot\n",
      " \n",
      " \n",
      "#prepare the input parameters\n",
      "parms=[]\n",
      "for u in [3.]: \n",
      " for b in [6.]:\n",
      "   parms.append(\n",
      "           { \n",
      "               'BETA' : b,          # inverse temperature\n",
      "               'MU' : 0.0,          # chemical potential corresponding to half-filling\n",
      "               'U' : u,             # Hubbard interaction\n",
      "               'FLAVORS' : 2,       # corresponds to spin up/down\n",
      "               'SITES' : 1,         # number of sites in the impurity\n",
      "               'H' : 0.0,           # there is no magnetic field\n",
      "               'H_INIT' : 0.05,     #  we set initial field to split spin up/down in order to trigger AF phase\n",
      "               'OMEGA_LOOP' : 1,        # the selfconsistency runs in Matsubara frequencies\n",
      "               'ANTIFERROMAGNET' : 1,   # allow Neel order\n",
      "               'SYMMETRIZATION' : 0,    # do not enforce paramagnetic solution\n",
      "               'NMATSUBARA' : 500,      # number of Matsubara frequencies\n",
      "               'N' : 500,               # bins in imaginary time\n",
      "               'CONVERGED' : 0.005,     # criterion for convergency\n",
      "               'MAX_TIME' : 60,        # max. time spent in solver in a single iteration in seconds\n",
      "               'G0OMEGA_INPUT' : \"\",    # forces to start from the local non-interacting Green's function\n",
      "               'MAX_IT' : 10,           # max. number of self-consistency iterations\n",
      "               'CHECKPOINT' : \"dump_DOS_beta\"+str(b)+'_U'+str(u),   # prefix for checkpointing\n",
      "               'SWEEPS' : 10000,    # max. number of sweeps in a single iteration\n",
      "               'THERMALIZATION' : 500, # number of thermalization sweeps\n",
      "               'SEED' : 0,              # random seed\n",
      "               'SOLVER' : \"hybridization\",   # we take the hybridization impurity solver\n",
      "               'SC_WRITE_DELTA' : 1,         # input for the hybridization impurity solver is the hybridization function Delta, which has to be written by the selfconsistency\n",
      "               'N_MEAS' : 5000,           # number of Monte Carlo steps between measurements\n",
      "               'N_ORDER' : 50,             # histogram size\n",
      "               'TWODBS' : 1,     # the Hilbert transformation integral runs in k-space, sets square lattice\n",
      "               't' : 1,          # the nearest-neighbor hopping\n",
      "               'tprime' : 0,     # the second nearest-neighbor hopping\n",
      "               'L' : 64,         # discretization in k-space in the Hilbert transformation\n",
      "               'GENERAL_FOURIER_TRANSFORMER' : 1,  # Fourier transformer for a general bandstructure\n",
      "               'EPS_0' : 0,                        # potential shift for the flavor 0\n",
      "               'EPS_1' : 0,                        # potential shift for the flavor 1\n",
      "               'EPSSQ_0' : 4,                      # the second moment of the bandstructure for the flavor 0\n",
      "               'EPSSQ_1' : 4,                      # the second moment of the bandstructure for the flavor 1\n",
      "           }\n",
      "       )\n",
      " \n",
      "#write the input file and run the simulation\n",
      "for p in parms:\n",
      "   input_file = pyalps.writeParameterFile('hybrid_TWODBS_beta_'+str(p['BETA'])+'_U_'+str(p['U']),p)\n",
      "   res = pyalps.runDMFT(input_file)"
     ],
     "language": "python",
     "metadata": {},
     "outputs": []
    },
    {
     "cell_type": "markdown",
     "metadata": {},
     "source": [
      "The lattice-specific parameters are listed here:"
     ]
    },
    {
     "cell_type": "raw",
     "metadata": {},
     "source": [
      "TWODBS = 1;     // the Hilbert transformation integral runs in k-space; sets square lattice\n",
      "t = 1;          // the nearest-neighbor hopping\n",
      "tprime = 0;     // the second nearest-neighbor hopping\n",
      "L = 128;        // discretization in k-space in the Hilbert transformation\n",
      "GENERAL_FOURIER_TRANSFORMER = 1;  // Fourier transformer for a general bandstructure\n",
      "EPS_0 = 0;                        // potential shift for the flavor 0\n",
      "EPS_1 = 0;                        // potential shift for the flavor 1\n",
      "EPSSQ_0 = 4;                   // the second moment of the bandstructure for the flavor 0\n",
      "EPSSQ_1 = 4;                   // the second moment of the bandstructure for the flavor 1"
     ]
    },
    {
     "cell_type": "code",
     "collapsed": false,
     "input": [
      "**Final remarks**"
     ],
     "language": "python",
     "metadata": {},
     "outputs": []
    },
    {
     "cell_type": "markdown",
     "metadata": {},
     "source": [
      "Question: what lattice information does enter into the DMFT calculation? Compare with classical mean-field."
     ]
    },
    {
     "cell_type": "markdown",
     "metadata": {},
     "source": [
      "Task: try to redo the Tutorial 4 for a different lattice (than the Bethe lattice) and inspect the MIT. Are there any significant changes? "
     ]
    },
    {
     "cell_type": "markdown",
     "metadata": {},
     "source": [
      "Recall the mean-field predictions for Ising model (for different dimensions)."
     ]
    },
    {
     "cell_type": "markdown",
     "metadata": {},
     "source": [
      "Tutorial by [[User:Imriska|Jakub]]"
     ]
    }
   ],
   "metadata": {}
  }
 ]
}
