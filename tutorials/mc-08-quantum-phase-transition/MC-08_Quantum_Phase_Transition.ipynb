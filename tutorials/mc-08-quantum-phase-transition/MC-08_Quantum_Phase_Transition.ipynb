{
 "metadata": {
  "name": ""
 },
 "nbformat": 3,
 "nbformat_minor": 0,
 "worksheets": [
  {
   "cells": [
    {
     "cell_type": "markdown",
     "metadata": {},
     "source": [
      "# ALPS_2_Tutorials:MC-08_Quantum_Phase_Transition"
     ]
    },
    {
     "cell_type": "markdown",
     "metadata": {},
     "source": [
      "In this tutorial we will learn how to detect quantum critical points in a quantum spin model. The model we are going to look at is the square lattice quantum Heisenberg model with dimerization in the form of ladder arrangements. Ladders with coupling $J_0$ on the legs and $J_1$ on the rungs are coupled together with coupling strength $J_2$. The model is depicted in Fig. 1 of [Wenzel and Janke, Phys. Rev. B 79, 014410 (2009)](http://prb.aps.org/abstract/PRB/v79/i1/e014410), albeit with different notations. In this tutorial we will consider the case $J_0=J_1=1$, and vary the interladder coupling $J_2$. Even though there are no phase transitions at finite temperatures in 2D Heisenberg models (Mermin-Wagner Theorem), transitions between different ground-states can occur at $T=0$."
     ]
    },
    {
     "cell_type": "code",
     "collapsed": false,
     "input": [
      "from IPython.display import Image\n",
      "Image('http://alps.comp-phIPythonrg/mediawiki/images/2/2e/CoupledLadder.jpg')"
     ],
     "language": "python",
     "metadata": {},
     "outputs": []
    },
    {
     "cell_type": "markdown",
     "metadata": {},
     "source": [
      "# Identify the different phases"
     ]
    },
    {
     "cell_type": "markdown",
     "metadata": {},
     "source": [
      "First of all, we consider the two simple limits of decoupled ladders ($J_2=0$) and of the isotropic square lattice ($J_2=1$). The decoupled ladders have a ground-state with short-range correlations and exhibit a finite spin gap : this is a spin liquid phase. On the other hand, the square lattice displays long-range order with a finite staggered magnetization : this is an antiferromagnetic N\u00e9el phase. "
     ]
    },
    {
     "cell_type": "markdown",
     "metadata": {},
     "source": [
      "A simple and illustrative way of probing these two different physics is by looking at the magnetic susceptibility $\\chi$. Let us simulate an 8x8 system using the following set of temperatures in the two different cases. Plot and compare the magnetic susceptibility in both the decoupled  ($J_2=0$) and isotropic ($J_2=1$) situations. For decoupled ladders, the susceptibility exhibits an activated behaviour at low temperature due to the presence of the spin gap, whereas on the square lattice the susceptibility tends to a constant at low T. Please note that on a finite system, $\\chi$ will always eventually tend to zero at small enough temperature due to the presence of a finite-size gap - this is however not our topic of interest here.\n",
      "You can run the simulation on the command line using the parameter file [parm8a](http://alps.comp-phys.org/static/tutorials2.2.0/mc-08-quantum-phase-transition/parm8a):"
     ]
    },
    {
     "cell_type": "code",
     "collapsed": false,
     "input": [
      "%%bash\n",
      "parameter2xml parm8a\n",
      "loop parm8a.in.xml"
     ],
     "language": "python",
     "metadata": {},
     "outputs": []
    },
    {
     "cell_type": "markdown",
     "metadata": {},
     "source": [
      "or by using the python script [tutorial8a.py](http://alps.comp-phys.org/static/tutorials2.2.0/mc-08-quantum-phase-transition/tutorial8a.py)\n",
      " "
     ]
    },
    {
     "cell_type": "code",
     "collapsed": false,
     "input": [
      "import pyalps\n",
      "import matplotlib.pyplot as plt\n",
      "import pyalps.plot\n",
      "import numpy as np\n",
      "import pyalps.fit_wrapper as fw\n",
      "from math import sqrt\n",
      " \n",
      "#prepare the input parameters\n",
      "parms = []\n",
      "for j2 in [0.,1.]:\n",
      "    for t in [0.1,0.2,0.3,0.4,0.5,0.6,0.7,0.8,0.9,1.0]:\n",
      "        parms.append(\n",
      "            { \n",
      "              'LATTICE'        : \"coupled ladders\", \n",
      "              'LATTICE_LIBRARY': 'lattices.xml',\n",
      "              'MODEL_LIBRARY'  : 'models.xml',\n",
      "              'local_S'        : 0.5,\n",
      "              'ALGORITHM'      : 'loop',\n",
      "              'SEED'           : 0,\n",
      "              'T'              : t,\n",
      "              'J0'             : 1 ,\n",
      "              'J1'             : 1,\n",
      "              'J2'             : j2,\n",
      "              'THERMALIZATION' : 5000,\n",
      "              'SWEEPS'         : 50000, \n",
      "              'MODEL'          : \"spin\",\n",
      "              'L'              : 8,\n",
      "              'W'              : 4\n",
      "            }\n",
      "    )\n",
      "\n",
      "#write the input file and run the simulation\n",
      "input_file = pyalps.writeInputFiles('parm8a',parms)\n",
      "pyalps.runApplication('loop',input_file) "
     ],
     "language": "python",
     "metadata": {},
     "outputs": []
    },
    {
     "cell_type": "markdown",
     "metadata": {},
     "source": [
      "For $J_2=0$, the value of the spin gap can be even further estimated by the finite-T behaviour of the magnetic susceptibility, using the following formula  (derived in [Phys. Rev. B 50, 13515 (1994)](http://link.aps.org/doi/10.1103/PhysRevB.50.13515)) $\\chi=A/\\sqrt{T}\\exp(-\\Delta/T)$ where $A$> and the spin gap $\\Delta$ are fitting parameters. Fit the data for $T\\leq1$ and extract an estimate for the spin gap. How does it compare to estimates available in the literature (such as in [Phys. Rev. Lett. 73, 886 (1994)](http://link.aps.org/doi/10.1103/PhysRevLett.73.886) or [Phys. Rev. Lett. 77, 1865 (1996)](http://link.aps.org/doi/10.1103/PhysRevLett.77.1865 )) ?\n",
      "Here is an example how you can load perform this analysis in python:"
     ]
    },
    {
     "cell_type": "code",
     "collapsed": false,
     "input": [
      "data = pyalps.loadMeasurements(pyalps.getResultFiles(pattern='parm8a.task*.out.h5'),['Staggered Susceptibility','Susceptibility'])\n",
      "susc1=pyalps.collectXY(data,x='T',y='Susceptibility', foreach=['J2'])\n",
      "\n",
      "lines = []\n",
      "for data in susc1:\n",
      "    pars = [fw.Parameter(1), fw.Parameter(1)]\n",
      "    data.y= data.y[data.x < 1]\n",
      "    data.x= data.x[data.x < 1]\n",
      "    f = lambda self, x, pars: (pars[0]()/np.sqrt(x))*np.exp(-pars[1]()/x)\n",
      "    fw.fit(None, f, pars, [v.mean for v in data.y], data.x)\n",
      "    prefactor = pars[0].get()\n",
      "    gap = pars[1].get()\n",
      "    print prefactor,gap\n",
      "     \n",
      "    lines += plt.plot(data.x, f(None, data.x, pars))\n",
      "    lines[-1].set_label('$J_2=%.4s$: $\\chi = \\\\frac{%.4s}{T}\\exp(\\\\frac{-%.4s}{T})$' % (data.props['J2'], prefactor,gap))"
     ],
     "language": "python",
     "metadata": {},
     "outputs": []
    },
    {
     "cell_type": "markdown",
     "metadata": {},
     "source": [
      "# Locate the phase transition "
     ]
    },
    {
     "cell_type": "markdown",
     "metadata": {},
     "source": [
      "Having identified two different phases at $J_2=0$ and $J_2=1$, there must be (at least) one quantum phase transition separating them. We scan the coupling range $ J_2 \\in [0.2,0.4]$ for system sizes $L=8,10,12,16$ and simulate the model at an inverse temperate $\\beta=2.L$ using the parameter-file [parm8b](http://alps.comp-phys.org/static/tutorials2.2.0/mc-08-quantum-phase-transition/parm8b) or the python script [tutorial8b.py](http://alps.comp-phys.org/static/tutorials2.2.0/mc-08-quantum-phase-transition/tutorial8b.py):"
     ]
    },
    {
     "cell_type": "code",
     "collapsed": false,
     "input": [
      "import pyalps\n",
      "import matplotlib.pyplot as plt\n",
      "import pyalps.plot\n",
      "import numpy as np\n",
      " \n",
      "#prepare the input parameters\n",
      "parms = []\n",
      "for l in [8,10,12,16]:\n",
      "    for j2 in [0.2,0.25,0.3,0.35,0.4]:\n",
      "        parms.append(\n",
      "            { \n",
      "              'LATTICE'        : \"coupled ladders\", \n",
      "              'LATTICE_LIBRARY': 'lattices.xml',\n",
      "              'MODEL_LIBRARY'  : 'models.xml',\n",
      "              'local_S'        : 0.5,\n",
      "              'ALGORITHM'      : 'loop',\n",
      "              'SEED'           : 0,\n",
      "              'BETA'           : 2*l,\n",
      "              'J0'             : 1 ,\n",
      "              'J1'             : 1,\n",
      "              'J2'             : j2,\n",
      "              'THERMALIZATION' : 5000,\n",
      "              'SWEEPS'         : 50000, \n",
      "              'MODEL'          : \"spin\",\n",
      "              'L'              : l,\n",
      "              'W'              : l/2\n",
      "            }\n",
      "    )\n",
      "\n",
      "#write the input file and run the simulation\n",
      "input_file = pyalps.writeInputFiles('parm8b',parms)\n",
      "pyalps.runApplication('loop',input_file)"
     ],
     "language": "python",
     "metadata": {},
     "outputs": []
    },
    {
     "cell_type": "markdown",
     "metadata": {},
     "source": [
      "## Staggered magnetization, Binder Cumulant, spin stiffness "
     ]
    },
    {
     "cell_type": "markdown",
     "metadata": {},
     "source": [
      "As in the classical Monte Carlo Tutorial we pinpoint the phase transition by an analysis of the Binder cumulant $U_4=< m_s^4> /<m_s^2>^2$ of the staggered magnetization $m_s$, which is the order parameter of the antiferromagnetic phase. Since the crossing point of the Binder cumulant shows large deviations at small system sizes for the model studied in this tutorial, we will also consider the spin stiffness, which has smaller finite-size corrections ([Wenzel and Janke, Phys. Rev. B 79, 014410 (2009)](http://prb.aps.org/abstract/PRB/v79/i1/e014410)). This observable is given by $\\rho_s = \\frac{3}{4\\beta} <w_x^2 + w_y^2>$ with winding numbers $w_x,w_y$ of worldlines along the x- and y-direction and it scales as $\\rho_s \\propto L^{d-2-z}$ at the quantum critical point, where d is the dimension of the system and z is the dynamical critical exponent. With $z=1$ the quantity $\\rho_sL$ crosses at the critical point for different system system sizes $L$. Note that the fact that Binder cumulant and spin stiffness cross actually indicate that the phase transition is continuous, and not first order."
     ]
    },
    {
     "cell_type": "markdown",
     "metadata": {},
     "source": [
      "You can load and plot the observables by using the following lines:"
     ]
    },
    {
     "cell_type": "code",
     "collapsed": false,
     "input": [
      "data = pyalps.loadMeasurements(pyalps.getResultFiles(pattern='parm8b.task*.out.h5'),['Binder Ratio of Staggered Magnetization','Stiffness'])\n",
      "binder=pyalps.collectXY(data,x='J2',y='Binder Ratio of Staggered Magnetization', foreach=['L'])\n",
      "stiffness =pyalps.collectXY(data,x='J2',y='Stiffness', foreach=['L'])\n",
      " \n",
      "for q in stiffness:\n",
      "    q.y = q.y*q.props['L']\n",
      " \n",
      "#make plot    \n",
      "plt.figure()\n",
      "pyalps.plot.plot(stiffness)\n",
      "plt.xlabel(r'$J2$')\n",
      "plt.ylabel(r'Stiffness $\\rho_s L$')\n",
      "plt.title('coupled ladders')\n",
      "\n",
      "plt.figure()\n",
      "pyalps.plot.plot(binder)\n",
      "plt.xlabel(r'$J_2$')\n",
      "plt.ylabel(r'$g(m_s)$')\n",
      "plt.title('coupled ladders')\n",
      "plt.show()"
     ],
     "language": "python",
     "metadata": {},
     "outputs": []
    },
    {
     "cell_type": "markdown",
     "metadata": {},
     "source": [
      "What is your estimate of the quantum critical point?"
     ]
    },
    {
     "cell_type": "markdown",
     "metadata": {},
     "source": [
      "## Finite temperature effects "
     ]
    },
    {
     "cell_type": "markdown",
     "metadata": {},
     "source": [
      "You may have noticed that the simulations are not performed at zero temperature, but at a finite value of inverse temperature $\\beta=T^{-1}=2L$. \n",
      "One needs to be sure that the physics (and in particular the estimate of the quantum critical point) is not affected by finite-temperature effects. A brute-force yet simple way of checking this is to decrease the temperature and perform the same simulations: if results are not affected, then the simulations are indeed converged. Change $\\beta=2L$ to $\\beta=4L$, and check whether the stiffness and Binder cumulants are affected. Try now $\\beta=L/4$ : are results different ? "
     ]
    },
    {
     "cell_type": "markdown",
     "metadata": {},
     "source": [
      "Two remarks are important here : First, you may have noticed that the computational time scales approximatively linearly with $\\beta$. In fact, given the path integral representation used, this means that the scaling of the loop algorithm used here is optimal (indeed, a finite-T QMC algorithm cannot scale faster than with the space-time volume $\\beta.L^d$), even at a quantum phase transition."
     ]
    },
    {
     "cell_type": "markdown",
     "metadata": {},
     "source": [
      "Second, why did we choose inverse temperature $\\beta$ to be proportionnal to $L$ ? In fact, this linear relation between time and space scales originates from the value $z=1$ of the dynamical critical exponent for this quantum phase transition. You have implicitely checked it by looking at the crossings of $\\rho_s.L$. In general, $z$ does not need to be equal to unity, and the correct scaling of temperature with system size (in order to ensure ground-state sampling) has to be checked."
     ]
    },
    {
     "cell_type": "markdown",
     "metadata": {},
     "source": [
      "# Estimates of critical exponents "
     ]
    },
    {
     "cell_type": "markdown",
     "metadata": {},
     "source": [
      "You have obtained a rough estimate of the quantum critical point $J_2^c$. As in the [ classical case](http://alps.comp-phys.org/mediawiki/index.php/ALPS_2_Tutorials:MC-07_Phase_Transition), extracting the critical exponents require more work and in particular a more precise determination of  $J_2^c$."
     ]
    },
    {
     "cell_type": "markdown",
     "metadata": {},
     "source": [
      "We will obtain one by considering larger system sizes on a finer grid of $J_2^c$, the parameters are speficied in [parm8d](http://alps.comp-phys.org/static/tutorials2.2.0/mc-08-quantum-phase-transition/parm8d). Please note that these simulations will take quite some CPU time and we therefore we leave it to you as an exercise. \n",
      "Plot again the Binder cumulant of the staggered magnetization $U_4$ as well as the stiffness multiplied by system size $\\rho_s.L$ for different system sizes. The crossings of these curves should allow a more precise estimate of $J_2^c$. \n",
      "To obtain the critical exponent $\\nu$ related to the divergence of the correlation length, it is useful to consider the scaling with system size of the ''derivative'' (with respect to $J_2^c$) of these quantities, when taken precisely at $J_2^c$. These derivatives $\\frac{dU_4}{d J_2}$ and $L \\frac{d\\rho_s}{d J_2}$ can be obtained in principle as a Monte Carlo measurement, however for this tutorial, it is sufficient to perform a numerical differentiation which is possible thanks to the fine grid in $J_2$. "
     ]
    },
    {
     "cell_type": "markdown",
     "metadata": {},
     "source": [
      "Perform the numerical differentiations for the different system sizes for both quantities, and plot their values at $J_2^c$ as a function of system size. Data should scale as a power law : $\\frac{dU_4}{d J_2}(J_2^c) \\propto L \\frac{d\\rho_s}{d J_2}(J_2^c) \\propto L^{1/\\nu}$. Which value of $\\nu$ do you obtain ? "
     ]
    },
    {
     "cell_type": "markdown",
     "metadata": {},
     "source": [
      "**Exercise** : You can visually determine the quality of your estimate by performing data collapses, as in the [classical case](http://alps.comp-phys.org/mediawiki/index.php/ALPS_2_Tutorials:MC-07_Phase_Transition#Collapsing_data). The scaling forms for $U_4$ and $\\rho_s.L$ are identical to the ones for the Binder cumulant in the classical phase transition example"
     ]
    },
    {
     "cell_type": "markdown",
     "metadata": {},
     "source": [
      "Besides $z$ and $\\nu$, the last independent exponent $\\eta$ can be obtained in the following way. As in the classical case, the susceptibility at the critical point should scales as $\\chi_s (J_2^c) \\sim L^{2-\\eta}$. Note that in this last expression one needs to consider the susceptibility associated to fluctuations of the order parameter : therefore the scaling with system size of the ''staggered susceptibility'' $\\chi_s$, and not of the uniform susceptibility $\\chi$, has to be performed here. Plot  $\\chi_s$ at $J_2^c$ as a function of system size, which estimate of $\\eta$ do you obtain?"
     ]
    },
    {
     "cell_type": "markdown",
     "metadata": {},
     "source": [
      "The quantum phase transition studied in this tutorial belongs to the universality class of the phase transition at finite temperature of the 3d classical Heisenberg model. Compare your estimates of critical exponents $\\nu$ and $\\eta$ with the ones reported in [Phys. Rev. B 65, 144520 (2002)](http://link.aps.org/doi/10.1103/PhysRevB.65.144520) for this universality class. "
     ]
    },
    {
     "cell_type": "markdown",
     "metadata": {},
     "source": [
      "# Locate the second quantum critical point "
     ]
    },
    {
     "cell_type": "markdown",
     "metadata": {},
     "source": [
      "This model not only undergoes one quantum phase transition - at higher values of $J_2$ you will find a another quantum phase transition and we will repeat the same analysis for this parameter regime. Replace the line"
     ]
    },
    {
     "cell_type": "code",
     "collapsed": false,
     "input": [
      " for j2 in [0.2,0.25,0.3,0.35,0.4]:"
     ],
     "language": "python",
     "metadata": {},
     "outputs": []
    },
    {
     "cell_type": "markdown",
     "metadata": {},
     "source": [
      "by"
     ]
    },
    {
     "cell_type": "code",
     "collapsed": false,
     "input": [
      " for j2 in [1.8,1.85,1.9,1.95,2.,2.05,2.1]:"
     ],
     "language": "python",
     "metadata": {},
     "outputs": []
    },
    {
     "cell_type": "markdown",
     "metadata": {},
     "source": [
      "and run the simulation and the plotting commands again, see [tutorial8c.py](http://alps.comp-phys.org/static/tutorials2.2.0/mc-08-quantum-phase-transition/tutorial8c.py). Compare your results to the high-precision results presented in [Wenzel and Janke, Phys. Rev. B 79, 014410 (2009)](http://prb.aps.org/abstract/PRB/v79/i1/e014410)."
     ]
    },
    {
     "cell_type": "markdown",
     "metadata": {},
     "source": [
      "# Running the simulations in Vistrails "
     ]
    },
    {
     "cell_type": "markdown",
     "metadata": {},
     "source": [
      "As usual you will find the Vistrails workflow for this tutorial in the same directory as the parameter files and the python scripts or you can download it here  [mc-08-quantum-phase-transition.vt](http://alps.comp-phys.org/static/tutorials2.2.0/mc-08-quantum-phase-transition/mc-08-quantum-phase-transition.vt)"
     ]
    }
   ],
   "metadata": {}
  }
 ]
}