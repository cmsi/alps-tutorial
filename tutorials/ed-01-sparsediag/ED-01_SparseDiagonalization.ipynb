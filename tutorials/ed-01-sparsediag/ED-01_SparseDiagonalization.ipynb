{
 "metadata": {
  "name": ""
 },
 "nbformat": 3,
 "nbformat_minor": 0,
 "worksheets": [
  {
   "cells": [
    {
     "cell_type": "markdown",
     "metadata": {},
     "source": [
      "# ALPS_2_Tutorials:ED-01_SparseDiagonalization"
     ]
    },
    {
     "cell_type": "markdown",
     "metadata": {},
     "source": [
      "#  Sparse diagonalization "
     ]
    },
    {
     "cell_type": "markdown",
     "metadata": {},
     "source": [
      "In this tutorial we will lear how to use the sparse diagonalization program using the Lanczos algorithm."
     ]
    },
    {
     "cell_type": "markdown",
     "metadata": {},
     "source": [
      "## Measurements on a 1-dimensional Heisenberg chain "
     ]
    },
    {
     "cell_type": "markdown",
     "metadata": {},
     "source": [
      "### Using the command line "
     ]
    },
    {
     "cell_type": "markdown",
     "metadata": {},
     "source": [
      "The parameter file [parm1a](http://alps.comp-phys.org/static/tutorials2.2.0/ed-01-sparsediag/parm1a) sets up an exact diagonalization of the quantum mechanical S=1 chain with 4 sites:"
     ]
    },
    {
     "cell_type": "raw",
     "metadata": {},
     "source": [
      "MODEL=\"spin\"\n",
      "LATTICE=\"chain lattice\"\n",
      "CONSERVED_QUANTUMNUMBERS=\"Sz\"\n",
      "MEASURE_STRUCTURE_FACTOR[Structure Factor Sz]=Sz\n",
      "MEASURE_CORRELATIONS[Diagonal spin correlations]=Sz\n",
      "MEASURE_CORRELATIONS[Offdiagonal spin correlations]=\"Splus:Sminus\"\n",
      "local_S=1\n",
      "J=1\n",
      "{L=4;}"
     ]
    },
    {
     "cell_type": "markdown",
     "metadata": {},
     "source": [
      "New here compared to other codes are the measurement parameters specifying which operator averages, local values, correlations and structire factors should be measured. More details about these custom measurements are available  [[Tutorials:MeasureHOWTO |  here]]"
     ]
    },
    {
     "cell_type": "markdown",
     "metadata": {},
     "source": [
      "Using the standard sequence of commands you can first convert the input parameters to XML and then run the application sparsediag:"
     ]
    },
    {
     "cell_type": "code",
     "collapsed": false,
     "input": [
      "%%bash\n",
      "parameter2xml parm1a\n",
      "sparsediag --write-xml parm1a.in.xml"
     ],
     "language": "python",
     "metadata": {},
     "outputs": []
    },
    {
     "cell_type": "markdown",
     "metadata": {},
     "source": [
      "The lowest eigenvalues and eigenstates are calculated in each sector (Sz,P) where P denotes the total momentum. The outputfile parm1.task1.out.xml contains all the computed quantities and can be viewed with a standard internet browser. In our case the ground state lies in the Sz=0, P=0 sector. The corresponding diagonal spin correlations, shown in the XML file, look like"
     ]
    },
    {
     "cell_type": "raw",
     "metadata": {},
     "source": [
      "Diagonal spin correlations[( 0 ) -- ( 0 )]\t(0.666667,0)\n",
      "Diagonal spin correlations[( 0 ) -- ( 1 )]\t(-0.5,0)\n",
      "Diagonal spin correlations[( 0 ) -- ( 2 )]\t(0.333333,0)\n",
      "Diagonal spin correlations[( 0 ) -- ( 3 )]\t(-0.5,0)"
     ]
    },
    {
     "cell_type": "markdown",
     "metadata": {},
     "source": [
      "The numbers [( a ) -- ( b )] in the above brackets refer to site indices, i. e. Sz(a)\\*Sz(b). In the right column one can read off the (complex) value of the correlation function. "
     ]
    },
    {
     "cell_type": "markdown",
     "metadata": {},
     "source": [
      "The output for the Sz structure factor for this state looks like"
     ]
    },
    {
     "cell_type": "raw",
     "metadata": {},
     "source": [
      "Structure Factor Sz[( 0 )]\t                5.551115123125783e-17\n",
      "Structure Factor Sz[( 1.570796326794897 )]\t0.333333333333333\n",
      "Structure Factor Sz[( 3.141592653589793 )]\t2\n",
      "Structure Factor Sz[( 4.71238898038469 )]\t0.3333333333333329"
     ]
    },
    {
     "cell_type": "markdown",
     "metadata": {},
     "source": [
      "where the number in the brackets [(q)] denotes the wavenumber. "
     ]
    },
    {
     "cell_type": "markdown",
     "metadata": {},
     "source": [
      "One can limit the Sz sector explicitly by adding the following line to the parameter file:"
     ]
    },
    {
     "cell_type": "raw",
     "metadata": {},
     "source": [
      "Sz_total=0"
     ]
    },
    {
     "cell_type": "markdown",
     "metadata": {},
     "source": [
      "### Using Python "
     ]
    },
    {
     "cell_type": "markdown",
     "metadata": {},
     "source": [
      "To set up and run the simulation in Python we use the script  [tutorial1a.py](http://alps.comp-phys.org/static/tutorials2.2.0/ed-01-sparsediag/tutorial1a.py). The first parts of this script imports the required modules, prepares the input files as a list of Python dictionaries, writes the input files and runs the application"
     ]
    },
    {
     "cell_type": "code",
     "collapsed": false,
     "input": [
      "import pyalps\n",
      "\n",
      "parms = [{ \n",
      "         'LATTICE'                   : \"chain lattice\", \n",
      "         'MODEL'                     : \"spin\",\n",
      "         'local_S'                   : 1,\n",
      "         'J'                         : 1,\n",
      "         'L'                         : 4,\n",
      "         'CONSERVED_QUANTUMNUMBERS'  : 'Sz',\n",
      "         'MEASURE_STRUCTURE_FACTOR[Structure Factor S]'        : 'Sz',\n",
      "         'MEASURE_CORRELATIONS[Diagonal spin correlations]='   : 'Sz',\n",
      "         'MEASURE_CORRELATIONS[Offdiagonal spin correlations]' : 'Splus:Sminus'\n",
      "       }]"
     ],
     "language": "python",
     "metadata": {},
     "outputs": []
    },
    {
     "cell_type": "code",
     "collapsed": false,
     "input": [
      "input_file = pyalps.writeInputFiles('parm1a',parms)\n",
      "res = pyalps.runApplication('sparsediag',input_file)"
     ],
     "language": "python",
     "metadata": {},
     "outputs": []
    },
    {
     "cell_type": "markdown",
     "metadata": {},
     "source": [
      "To run this, launch your python interpreter using the convenience scripts <tt>alpspython</tt> or <tt>vispython</tt>. We now have the same output files as in the command line version."
     ]
    },
    {
     "cell_type": "markdown",
     "metadata": {},
     "source": [
      "We next load the measurements for each of the calculated eigenstates:"
     ]
    },
    {
     "cell_type": "code",
     "collapsed": false,
     "input": [
      "data = pyalps.loadEigenstateMeasurements(pyalps.getResultFiles(prefix='parm1a'))"
     ],
     "language": "python",
     "metadata": {},
     "outputs": []
    },
    {
     "cell_type": "markdown",
     "metadata": {},
     "source": [
      "and then print the results just for the ground state:"
     ]
    },
    {
     "cell_type": "code",
     "collapsed": false,
     "input": [
      "for sector in data[0]:\n",
      "    print '\\nSector with Sz =', sector[0].props['Sz'], \n",
      "    print 'and k =', sector[0].props['TOTAL_MOMENTUM']\n",
      "    for s in sector:\n",
      "        if pyalps.size(s.y[0])==1:\n",
      "            print s.props['observable'], ' : ', s.y[0]\n",
      "        else:\n",
      "            for (x,y) in zip(s.x,s.y[0]):\n",
      "                print  s.props['observable'], '(', x, ') : ', y"
     ],
     "language": "python",
     "metadata": {},
     "outputs": []
    },
    {
     "cell_type": "markdown",
     "metadata": {},
     "source": [
      "### Using Vistrails "
     ]
    },
    {
     "cell_type": "markdown",
     "metadata": {},
     "source": [
      "To run the simulation in Vistrails open the file [ed-01-sparsediag.vt](http://alps.comp-phys.org/static/tutorials2.2.0/ed-01-sparsediag/ed-01-sparsediag.vt)"
     ]
    }
   ],
   "metadata": {}
  }
 ]
}