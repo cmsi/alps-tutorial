{
 "metadata": {
  "name": ""
 },
 "nbformat": 3,
 "nbformat_minor": 0,
 "worksheets": [
  {
   "cells": [
    {
     "cell_type": "markdown",
     "metadata": {},
     "source": [
      "# ALPS_2_Tutorials:DMFT-06_Paramagnet"
     ]
    },
    {
     "cell_type": "markdown",
     "metadata": {},
     "source": [
      "# Tutorial 06: Paramagnetic metal"
     ]
    },
    {
     "cell_type": "markdown",
     "metadata": {},
     "source": [
      "This tutorial has been moved to the ALPS examples section [[ALPS_2_Examples:Paramagnetic_Metal | Paramagnetic metal and extrapolation errors ]], because it takes long to run on a single workstation (you may run it in 2$\\times$ 24 minutes if you do not want very high precision)"
     ]
    }
   ],
   "metadata": {}
  }
 ]
}