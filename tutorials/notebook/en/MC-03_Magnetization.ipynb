{
 "metadata": {
  "name": ""
 },
 "nbformat": 3,
 "nbformat_minor": 0,
 "worksheets": [
  {
   "cells": [
    {
     "cell_type": "markdown",
     "metadata": {},
     "source": [
      "# ALPS_2_Tutorials:MC-03_Magnetization"
     ]
    },
    {
     "cell_type": "markdown",
     "metadata": {},
     "source": [
      "#  Magnetization curves of quantum spin models "
     ]
    },
    {
     "cell_type": "markdown",
     "metadata": {},
     "source": [
      "In this tutorial we will look at magnetization curves of quantum spin models using the directed loop SSE application instead of loop, since loop does not perform well in a magnetic field."
     ]
    },
    {
     "cell_type": "markdown",
     "metadata": {},
     "source": [
      "##  One-dimensional Heisenberg chain in a magnetic field  "
     ]
    },
    {
     "cell_type": "markdown",
     "metadata": {},
     "source": [
      "### Preparing and running the simulation from the command line "
     ]
    },
    {
     "cell_type": "markdown",
     "metadata": {},
     "source": [
      "The parameter file [parm3a](http://alps.comp-phys.org/static/tutorials2.2.0/mc-03-magnetization/parm3a) sets up Monte Carlo simulations of the quantum mechanical S=1/2 Heisenberg model on a one-dimensional chain with 20 sites at fixed temperature $T=0.08$ for a couple of magnetic fields ($h=0, 0.1, ..., 2.5$)."
     ]
    },
    {
     "cell_type": "raw",
     "metadata": {},
     "source": [
      "LATTICE=\"chain lattice\" \n",
      "MODEL   = \"spin\"\n",
      "local_S=1/2\n",
      "L=20\n",
      "J=1\n",
      "T=0.08\n",
      "THERMALIZATION=2000\n",
      "SWEEPS=10000\n",
      "{h=0;}\n",
      "{h=0.1;}\n",
      "{h=0.2;}\n",
      "{h=0.3;}\n",
      "{h=0.4;}\n",
      "{h=0.5;}\n",
      "{h=0.6;}\n",
      "{h=0.7;}\n",
      "{h=0.8;}\n",
      "{h=0.9;}\n",
      "{h=1.0;}\n",
      "{h=1.2;}\n",
      "{h=1.4;}\n",
      "{h=1.6;}\n",
      "{h=1.8;}\n",
      "{h=2.0;}\n",
      "{h=2.2;}\n",
      "{h=2.4;}\n",
      "{h=2.5;}"
     ]
    },
    {
     "cell_type": "markdown",
     "metadata": {},
     "source": [
      "Using the following standard sequence of commands you can run the simulation using the quantum SSE code and look at the XML out files in a web browser"
     ]
    },
    {
     "cell_type": "code",
     "collapsed": false,
     "input": [
      "%%bash\n",
      "parameter2xml parm3a\n",
      "dirloop_sse --Tmin 10 --write-xml parm3a.in.xml"
     ],
     "language": "python",
     "metadata": {},
     "outputs": []
    },
    {
     "cell_type": "markdown",
     "metadata": {},
     "source": [
      "### Preparing and running the simulation using Python "
     ]
    },
    {
     "cell_type": "markdown",
     "metadata": {},
     "source": [
      "To set up and run the simulation in Python we use the script [tutorial3a.py](http://alps.comp-phys.org/static/tutorials2.2.0/mc-03-magnetization/tutorial3a.py). The first parts of this script imports the required modules and then prepares the input files as a list of Python dictionaries:"
     ]
    },
    {
     "cell_type": "code",
     "collapsed": false,
     "input": [
      "import pyalps\n",
      "import matplotlib.pyplot as plt\n",
      "import pyalps.plot\n",
      "\n",
      "parms = []\n",
      "for h in [0., 0.1, 0.2, 0.3, 0.4, 0.5, 0.6, 0.7, 0.8, 0.9, 1.0, 1.2, 1.4, 1.6, 1.8, 2.0, 2.2, 2.4, 2.5]:\n",
      "   parms.append(\n",
      "       { \n",
      "         'LATTICE'        : \"chain lattice\", \n",
      "         'MODEL'          : \"spin\",\n",
      "         'local_S'        : 0.5,\n",
      "         'T'              : 0.08,\n",
      "         'J'              : 1 ,\n",
      "         'THERMALIZATION' : 1000,\n",
      "         'SWEEPS'         : 20000,\n",
      "         'L'              : 20,\n",
      "         'h'              : h\n",
      "       }\n",
      "   )"
     ],
     "language": "python",
     "metadata": {},
     "outputs": []
    },
    {
     "cell_type": "markdown",
     "metadata": {},
     "source": [
      "To run this, launch your python interpreter using the convenience scripts <tt>alpspython</tt> or <tt>vispython</tt>."
     ]
    },
    {
     "cell_type": "markdown",
     "metadata": {},
     "source": [
      "We next convert this into a job file in XML format and run the dirloop_sse simulation:"
     ]
    },
    {
     "cell_type": "code",
     "collapsed": false,
     "input": [
      "input_file = pyalps.writeInputFiles('parm3a',parms)\n",
      "res = pyalps.runApplication('dirloop_sse',input_file,Tmin=5)"
     ],
     "language": "python",
     "metadata": {},
     "outputs": []
    },
    {
     "cell_type": "markdown",
     "metadata": {},
     "source": [
      "We now have the same output files as in the command line version."
     ]
    },
    {
     "cell_type": "markdown",
     "metadata": {},
     "source": [
      "### Evaluating the simulation and preparing plots using Python "
     ]
    },
    {
     "cell_type": "markdown",
     "metadata": {},
     "source": [
      "To load the results and prepare plots we load the results from the output files and collect the magntization density as a function of magnetic field from all output files starting with <tt>parm3a</tt>. The script is again in [tutorial3a.py](http://alps.comp-phys.org/static/tutorials2.2.0/mc-03-magnetization/tutorial3a.py)"
     ]
    },
    {
     "cell_type": "code",
     "collapsed": false,
     "input": [
      "data = pyalps.loadMeasurements(pyalps.getResultFiles(prefix='parm3a'),'Magnetization Density')\n",
      "magnetization = pyalps.collectXY(data,x='h',y='Magnetization Density')"
     ],
     "language": "python",
     "metadata": {},
     "outputs": []
    },
    {
     "cell_type": "markdown",
     "metadata": {},
     "source": [
      "To make plots we call the pyalps.pyplot.plot and then set some nice labels, a title, and a range of y-values:"
     ]
    },
    {
     "cell_type": "code",
     "collapsed": false,
     "input": [
      "plt.figure()\n",
      "pyalps.plot.plot(magnetization)\n",
      "plt.xlabel('Field $h$')\n",
      "plt.ylabel('Magnetization $m$')\n",
      "plt.ylim(0.0,0.5)\n",
      "plt.title('Quantum Heisenberg chain')\n",
      "plt.show()"
     ],
     "language": "python",
     "metadata": {},
     "outputs": []
    },
    {
     "cell_type": "markdown",
     "metadata": {},
     "source": [
      "### Setting up and running the simulation in Vistrails "
     ]
    },
    {
     "cell_type": "markdown",
     "metadata": {},
     "source": [
      "To run the simulation in Vistrails open the file [mc-03-magnetization.vt](http://alps.comp-phys.org/static/tutorials2.2.0/mc-03-magnetization/mc-03-magnetization.vt) and look at the workflow labeled \"Quantum Heisenberg chain\". Click on \"Execute\" to prepare the input file, run the simulation and create the output figure."
     ]
    },
    {
     "cell_type": "markdown",
     "metadata": {},
     "source": [
      "## One-dimensional Heisenberg ladder in a magnetic field  "
     ]
    },
    {
     "cell_type": "markdown",
     "metadata": {},
     "source": [
      "The parameter file [parm3b](http://alps.comp-phys.org/static/tutorials2.2.0/mc-03-magnetization/parm3b) sets up Monte Carlo simulations of the quantum mechanical S=1/2 Heisenberg model on a one-dimensional ladder with 40 sites at fixed temperature $T=0.08$ for a couple of magnetic fields ($h=0, 0.1, ..., 3.5$)."
     ]
    },
    {
     "cell_type": "raw",
     "metadata": {},
     "source": [
      "LATTICE=\"ladder\" \n",
      "MODEL   = \"spin\"\n",
      "LATTICE_LIBRARY=\"../lattices.xml\" \n",
      "MODEL_LIBRARY=\"../models.xml\"\n",
      "local_S=1/2\n",
      "L=20\n",
      "J0=1\n",
      "J1=1\n",
      "T=0.08\n",
      "..."
     ]
    },
    {
     "cell_type": "markdown",
     "metadata": {},
     "source": [
      "The rest of the input file is as above and simulations are run in the same way."
     ]
    },
    {
     "cell_type": "markdown",
     "metadata": {},
     "source": [
      "To set up and run the simulation in Python we use the script [tutorial3b.py](http://alps.comp-phys.org/static/tutorials2.2.0/mc-03-magnetization/tutorial3b.py). The changes are again just "
     ]
    },
    {
     "cell_type": "markdown",
     "metadata": {},
     "source": [
      "* renaming parm3a into parm3b\n",
      "* changing the parameter LATTICE to ladder\n",
      "* setting two couplings J0 and J1"
     ]
    },
    {
     "cell_type": "markdown",
     "metadata": {},
     "source": [
      "To run the simulation in Vistrails open the file [mc-03-magnetization.vt](http://alps.comp-phys.org/static/tutorials2.2.0/mc-03-magnetization/mc-03-magnetization.vt) and execute the workflow labeled \"Quantum Heisenberg ladder\"."
     ]
    },
    {
     "cell_type": "markdown",
     "metadata": {},
     "source": [
      "## Combining all simulations "
     ]
    },
    {
     "cell_type": "markdown",
     "metadata": {},
     "source": [
      "To combine all results  into one plot after running both simulations look at the Python script [tutorial3full.py](http://alps.comp-phys.org/static/tutorials2.2.0/mc-03-magnetization/tutorial3full.py) or the Vistrails workflow called \"all combined\". Here is the combined plot:"
     ]
    },
    {
     "cell_type": "raw",
     "metadata": {},
     "source": [
      "<vistrail host=\"alps.comp-phys.org\" db=\"tutorials\" vtid=\"4\" version=\"98\" embedworkflow=\"True\" showspreadsheetonly=\"True\"/>"
     ]
    },
    {
     "cell_type": "markdown",
     "metadata": {},
     "source": [
      "##  Questions  "
     ]
    },
    {
     "cell_type": "markdown",
     "metadata": {},
     "source": [
      "* How does the magnetization depend on the magnetic field?\n",
      "* How does the magnetization depend on the lattice?\n",
      "* Bonus: You can also study a 3-leg, 4-leg ladder by changing the parameter W for the width or a spin-1, spin-3/2 chain by changing the parameter `local_S`. Is there a systematic behavior?"
     ]
    }
   ],
   "metadata": {}
  }
 ]
}