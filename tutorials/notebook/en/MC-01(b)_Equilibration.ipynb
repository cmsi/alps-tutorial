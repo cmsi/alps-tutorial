{
 "metadata": {
  "name": ""
 },
 "nbformat": 3,
 "nbformat_minor": 0,
 "worksheets": [
  {
   "cells": [
    {
     "cell_type": "markdown",
     "metadata": {},
     "source": [
      "# ALPS 2 Tutorials:MC-01 Equilibration"
     ]
    },
    {
     "cell_type": "markdown",
     "metadata": {},
     "source": [
      "# Equilibration"
     ]
    },
    {
     "cell_type": "markdown",
     "metadata": {},
     "source": [
      "**Rule of thumb: All Monte Carlo simulations have to be equilibrated before taking measurements.**"
     ]
    },
    {
     "cell_type": "markdown",
     "metadata": {},
     "source": [
      "## Example: Classical Monte Carlo (local updates) simulations"
     ]
    },
    {
     "cell_type": "markdown",
     "metadata": {},
     "source": [
      "As an example, we will implement a classical Monte Carlo simulation implemented in the Ising model on a finite square lattice of size 48<sup>2</sup>."
     ]
    },
    {
     "cell_type": "markdown",
     "metadata": {},
     "source": [
      "### Preparing and running the simulation from the command line"
     ]
    },
    {
     "cell_type": "markdown",
     "metadata": {},
     "source": [
      "The parameter file [parm1a](http://alps.comp-phys.org/static/tutorials2.2.0/mc-01b-equilibration-and-convergence/parm1a):"
     ]
    },
    {
     "cell_type": "raw",
     "metadata": {},
     "source": [
      "LATTICE=\"square lattice\"\n",
      "T=2.269186\n",
      "J=1\n",
      "THERMALIZATION=10000\n",
      "SWEEPS=50000  \n",
      "UPDATE=\"local\"\n",
      "MODEL=\"Ising\"\n",
      "{L=48;}"
     ]
    },
    {
     "cell_type": "markdown",
     "metadata": {},
     "source": [
      "We first convert the input parameters to XML and then run the application **spinmc**:"
     ]
    },
    {
     "cell_type": "code",
     "collapsed": false,
     "input": [
      "%%bash\n",
      "parameter2xml parm1a\n",
      "spinmc --Tmin 10 --write-xml parm1a.in.xml"
     ],
     "language": "python",
     "metadata": {},
     "outputs": []
    },
    {
     "cell_type": "markdown",
     "metadata": {},
     "source": [
      "### Preparing and running the simulation using Python"
     ]
    },
    {
     "cell_type": "markdown",
     "metadata": {},
     "source": [
      "The following describes what is going on within the script file [tutorial1a.py](http://alps.comp-phys.org/static/tutorials2.2.0/mc-01b-equilibration-and-convergence/tutorial1a.py)."
     ]
    },
    {
     "cell_type": "markdown",
     "metadata": {},
     "source": [
      "The headers:"
     ]
    },
    {
     "cell_type": "code",
     "collapsed": false,
     "input": [
      "import pyalps\n",
      "\n",
      "parms = [{\n",
      "  'LATTICE'         : \"square lattice\",\n",
      "  'MODEL'           : \"Ising\",\n",
      "  'L'               : 48,\n",
      "  'J'               : 1.,\n",
      "  'T'               : 2.269186,\n",
      "  'THERMALIZATION'  : 10000,\n",
      "  'SWEEPS'          : 50000,\n",
      "}]"
     ],
     "language": "python",
     "metadata": {},
     "outputs": []
    },
    {
     "cell_type": "markdown",
     "metadata": {},
     "source": [
      "Write into XML input file and run the application **spinmc**:"
     ]
    },
    {
     "cell_type": "code",
     "collapsed": false,
     "input": [
      "input_file = pyalps.writeInputFiles('parm1a',parms)\n",
      "pyalps.runApplication('spinmc', input_file, Tmin=10, writexml=True)"
     ],
     "language": "python",
     "metadata": {},
     "outputs": []
    },
    {
     "cell_type": "markdown",
     "metadata": {},
     "source": [
      "### Evaluating the simulation and preparing plots using Python"
     ]
    },
    {
     "cell_type": "markdown",
     "metadata": {},
     "source": [
      "The header:"
     ]
    },
    {
     "cell_type": "code",
     "collapsed": false,
     "input": [
      "import pyalps;"
     ],
     "language": "python",
     "metadata": {},
     "outputs": []
    },
    {
     "cell_type": "markdown",
     "metadata": {},
     "source": [
      "We first get the list of all result files via: "
     ]
    },
    {
     "cell_type": "code",
     "collapsed": false,
     "input": [
      "files = pyalps.getResultFiles(prefix='parm1a')"
     ],
     "language": "python",
     "metadata": {},
     "outputs": []
    },
    {
     "cell_type": "markdown",
     "metadata": {},
     "source": [
      "and then extract, say the timeseries of the **|Magnetization|** measurements:"
     ]
    },
    {
     "cell_type": "code",
     "collapsed": false,
     "input": [
      "ts_M = pyalps.loadTimeSeries(files[0], '|Magnetization|');"
     ],
     "language": "python",
     "metadata": {},
     "outputs": []
    },
    {
     "cell_type": "markdown",
     "metadata": {},
     "source": [
      "We can then visualize graphically:"
     ]
    },
    {
     "cell_type": "code",
     "collapsed": false,
     "input": [
      "import matplotlib.pyplot as plt\n",
      "plt.plot(ts_M)\n",
      "plt.show()"
     ],
     "language": "python",
     "metadata": {},
     "outputs": []
    },
    {
     "cell_type": "markdown",
     "metadata": {},
     "source": [
      "Based on the timeseries, the user will then judge for himself/herself whether the simulation has reached equilibration."
     ]
    },
    {
     "cell_type": "markdown",
     "metadata": {},
     "source": [
      "### A convenient tool: pyalps.checkSteadyState"
     ]
    },
    {
     "cell_type": "markdown",
     "metadata": {},
     "source": [
      "ALPS Python provides a convenient tool to check whether a measurement observable(s) has (have) reached steady state equilibrium. Read\n",
      "[here](https://alps.comp-phys.org/mediawiki/index.php/Documentation:Monte_Carlo_Equilibration#link_equilibration_theory\n",
      "to see how it works."
     ]
    },
    {
     "cell_type": "markdown",
     "metadata": {},
     "source": [
      "Here is an example (observable: |Magnetization|) (default: 68.27% confidence interval) :"
     ]
    },
    {
     "cell_type": "code",
     "collapsed": false,
     "input": [
      " import pyalps\n",
      " data = pyalps.loadMeasurements(pyalps.getResultFiles(prefix='parm1a'), '|Magnetization|');\n",
      " data = pyalps.checkSteadyState(data);"
     ],
     "language": "python",
     "metadata": {},
     "outputs": []
    },
    {
     "cell_type": "markdown",
     "metadata": {},
     "source": [
      "and if you want a 90% confidence interval:"
     ]
    },
    {
     "cell_type": "code",
     "collapsed": false,
     "input": [
      "data = pyalps.checkSteadyState(data, confidenceInterval=0.9);"
     ],
     "language": "python",
     "metadata": {},
     "outputs": []
    },
    {
     "cell_type": "markdown",
     "metadata": {},
     "source": [
      "### Setting up and running the simulation in Vistrails"
     ]
    },
    {
     "cell_type": "markdown",
     "metadata": {},
     "source": [
      "To run the simulation in Vistrails open the file [mc-01b-equilibration-and-convergence.vt](http://alps.comp-phys.org/static/tutorials2.2.0/mc-01b-equilibration-and-convergence/mc-01b-equilibration-and-convergence.vt)."
     ]
    },
    {
     "cell_type": "markdown",
     "metadata": {},
     "source": [
      "# Convergence"
     ]
    },
    {
     "cell_type": "markdown",
     "metadata": {},
     "source": [
      "Here, we use the same example in the previous section."
     ]
    },
    {
     "cell_type": "markdown",
     "metadata": {},
     "source": [
      "### Using Python"
     ]
    },
    {
     "cell_type": "markdown",
     "metadata": {},
     "source": [
      "Implementation in Python is straightforward."
     ]
    },
    {
     "cell_type": "code",
     "collapsed": false,
     "input": [
      "import pyalps\n",
      "data = pyalps.loadMeasurements(pyalps.getResultFiles(prefix='parm1a'), '|Magnetization|');\n",
      "data = pyalps.checkConvergence(data);"
     ],
     "language": "python",
     "metadata": {},
     "outputs": []
    },
    {
     "cell_type": "markdown",
     "metadata": {},
     "source": [
      "### Setting up and running the simulation in Vistrails"
     ]
    },
    {
     "cell_type": "markdown",
     "metadata": {},
     "source": [
      "To run the simulation in Vistrails open the file [mc-01b-equilibration-and-convergence.vt](http://alps.comp-phys.org/static/tutorials2.2.0/mc-01b-equilibration-and-convergence/mc-01b-equilibration-and-convergence.vt)."
     ]
    },
    {
     "cell_type": "markdown",
     "metadata": {},
     "source": [
      "&copy; 2013 by Matthias Troyer, Ping Nang Ma"
     ]
    }
   ],
   "metadata": {}
  }
 ]
}