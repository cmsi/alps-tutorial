{
 "metadata": {
  "name": "", 
  "signature": "sha256:09f80f07e1732959bdad5536389babeeed4e1e2f5212f36fe5ec4c9e12b3e224"
 }, 
 "nbformat": 3, 
 "nbformat_minor": 0, 
 "worksheets": [
  {
   "cells": [
    {
     "cell_type": "markdown", 
     "metadata": {}, 
     "source": [
      "# ALPS 2 Tutorials: MC-08 Quantum Phase Transition\n", 
      "\n", 
      "このチュートリアルでは、量子スピンモデルでの量子臨界点を検出する方法を学習します。ここで対象とするモデルは梯子状に二量体化した正方格子量子ハイゼンベルグモデルです。つまり、足 に$J_0$ の結合と横木に $J_1$ 結合を持つ梯子が $J_2$ の強さで結合したものです。記号が少し異なりますが、[Wenzel and Janke, Phys. Rev. B 79, 014410 (2009)](http://prb.aps.org/abstract/PRB/v79/i1/e014410) の Fig.1 を参照してください。このチュートリアルでは、$J_0=J_1=1$ とし、梯子間結合 $J_2$ を変化させる場合を考えます。二次元のハイゼンベルグモデルでは有限温度で相転移が存在しない（Mermin-Wangerの定理）にもかかわらず、$T=0$ では異なる基底状態間の相転移が起きえます。"
     ]
    }, 
    {
     "cell_type": "markdown", 
     "metadata": {}, 
     "source": [
      "# 相の同定\n", 
      "\n", 
      "まず最初に、$2$ つのシンプルな極限、分離している梯子（$J_2=0$）と等方的な正方格子($J_2=1$)を考えます。分離した梯子は短距離相関をもつ基底状態を持っており、有限のスピンギャップを示します。これはスピン液体相です。一方、正方格子では、有限のスタッガード磁化をもつ長距離秩序が現れます。これは反強磁性ネール相です。\n", 
      "このような異なった $2$ つの相を区別するシンプルな方法は、帯磁率 $\\chi$ を見ることです。この $2$ つの異なったケースについて以下の温度を用いて $8\\times 8$ のシミュレーションをおこなってみましょう。梯子極限（$J_2=0$）と等方極限（$J_2=1$）との両方で帯磁率をプロットし、比較してください。分離した梯子では、スピンギャップの存在により低い温度で帯磁率が $0$ から立ち上がる挙動を示します。しかし、正方格子では、帯磁率は低い $T$ で有限にとどまります。有限系では、常に有限サイズ由来のスピンギャップが存在するため、$\\chi$ は小さいけれど有限の $T$ でゼロになることに注意してください。これらのチュートリアルはファイル[mc08a](mc08a)で実行することができます。"
     ]
    }, 
    {
     "cell_type": "code", 
     "collapsed": false, 
     "input": [
      "%%bash\n", 
      "parameter2xml mc08a\n", 
      "loop mc08a.in.xml"
     ], 
     "language": "python", 
     "metadata": {}, 
     "outputs": []
    }, 
    {
     "cell_type": "markdown", 
     "metadata": {}, 
     "source": [
      "またはPythonスクリプトを使用して、[tutorial_mc08a.py](tutorial_mc08a.py)"
     ]
    }, 
    {
     "cell_type": "code", 
     "collapsed": false, 
     "input": [
      "import pyalps\n", 
      "import matplotlib.pyplot as plt\n", 
      "import pyalps.plot\n", 
      "import numpy as np\n", 
      "import pyalps.fit_wrapper as fw\n", 
      "from math import sqrt\n", 
      "\n", 
      "#prepare the input parameters\n", 
      "parms = []\n", 
      "for j2 in [0.,1.]:\n", 
      "    for t in [0.1,0.2,0.3,0.4,0.5,0.6,0.7,0.8,0.9,1.0]:\n", 
      "        parms.append(\n", 
      "            { \n", 
      "              'LATTICE'        : \"coupled ladders\", \n", 
      "              'LATTICE_LIBRARY': 'lattices.xml',\n", 
      "              'MODEL_LIBRARY'  : 'models.xml',\n", 
      "              'local_S'        : 0.5,\n", 
      "              'ALGORITHM'      : 'loop',\n", 
      "              'SEED'           : 0,\n", 
      "              'T'              : t,\n", 
      "              'J0'             : 1 ,\n", 
      "              'J1'             : 1,\n", 
      "              'J2'             : j2,\n", 
      "              'THERMALIZATION' : 5000,\n", 
      "              'SWEEPS'         : 50000, \n", 
      "              'MODEL'          : \"spin\",\n", 
      "              'L'              : 8,\n", 
      "              'W'              : 4\n", 
      "            }\n", 
      "    )\n", 
      " \n", 
      "#write the input file and run the simulation\n", 
      "input_file = pyalps.writeInputFiles('mc08a', parms)\n", 
      "pyalps.runApplication('loop', input_file) "
     ], 
     "language": "python", 
     "metadata": {}, 
     "outputs": []
    }, 
    {
     "cell_type": "markdown", 
     "metadata": {}, 
     "source": [
      "$J_2=0$ では、スピンギャップの値は、次の式（[Phys. Rev. B 50, 13515 (1994)](http://link.aps.org/doi/10.1103/PhysRevB.50.13515)の中で導出されます）$\\chi=A/\\sqrt{T}\\exp(-\\Delta/T)$ を使用して、帯磁率の有限温度の振る舞いによって、推定することができます。$A$ とスピンギャップ $\\Delta$ はフィッティングパラメータです。$T\\leq1$ の範囲でフィッティングを行い、スピンギャップの値を見積もってください。\n", 
      "[Phys. Rev. Lett. 73, 886 (1994)](http://link.aps.org/doi/10.1103/PhysRevLett.73.886) や [Phys. Rev. Lett. 77, 1865 (1996)](http://link.aps.org/doi/10.1103/PhysRevLett.77.1865 ) のような文献の値と比較してみてください。\n", 
      "\n", 
      "Python での解析のサンプルを示します。"
     ]
    }, 
    {
     "cell_type": "code", 
     "collapsed": false, 
     "input": [
      "data = pyalps.loadMeasurements(pyalps.getResultFiles(pattern='mc08a.task*.out.h5'),\n", 
      "                               ['Staggered Susceptibility','Susceptibility'])\n", 
      "susc1=pyalps.collectXY(data,x='T',y='Susceptibility', foreach=['J2'])\n", 
      "\n", 
      "lines = []\n", 
      "for data in susc1:\n", 
      "    pars = [fw.Parameter(1), fw.Parameter(1)]\n", 
      "    data.y= data.y[data.x < 1]\n", 
      "    data.x= data.x[data.x < 1]\n", 
      "    f = lambda self, x, pars: (pars[0]()/np.sqrt(x))*np.exp(-pars[1]()/x)\n", 
      "    fw.fit(None, f, pars, [v.mean for v in data.y], data.x)\n", 
      "    prefactor = pars[0].get()\n", 
      "    gap = pars[1].get()\n", 
      "    print prefactor,gap\n", 
      "    \n", 
      "    lines += plt.plot(data.x, f(None, data.x, pars))\n", 
      "    lines[-1].set_label('$J_2=%.4s$: $\\chi = \\\\frac{%.4s}{T}\\exp(\\\\frac{-%.4s}{T})$'\n", 
      "                        % (data.props['J2'], prefactor,gap))\n", 
      "plt.show()"
     ], 
     "language": "python", 
     "metadata": {}, 
     "outputs": []
    }, 
    {
     "cell_type": "markdown", 
     "metadata": {}, 
     "source": [
      "# 相転移点を見つける\n", 
      "\n", 
      "$J_2=0$ と $J_2=1$ との $2$ 点が異なる相にあるとわかったならば、この $2$ つの相を分離する転移点が少なくとも $1$ つ存在する必要があります。結合定数 $J_2 \\in [0.2,0.4]$, システムサイズ　$L=8,10,12,16$, 逆温度 $\\beta=2.L$ の条件でシミュレーションをおこないます。パラメータファイルは[mc08b](mc08b)です。また、Python スクリプトは[tutorial_mc08b.py](tutorial_mc08b.py)です。"
     ]
    }, 
    {
     "cell_type": "code", 
     "collapsed": false, 
     "input": [
      "import pyalps\n", 
      "import matplotlib.pyplot as plt\n", 
      "import pyalps.plot\n", 
      "import numpy as np\n", 
      " \n", 
      "#prepare the input parameters\n", 
      "parms = []\n", 
      "for l in [8,10,12,16]:\n", 
      "    for j2 in [0.2,0.25,0.3,0.35,0.4]:\n", 
      "        parms.append(\n", 
      "            { \n", 
      "              'LATTICE'        : \"coupled ladders\", \n", 
      "              'LATTICE_LIBRARY': 'lattices.xml',\n", 
      "              'MODEL_LIBRARY'  : 'models.xml',\n", 
      "              'local_S'        : 0.5,\n", 
      "              'ALGORITHM'      : 'loop',\n", 
      "              'SEED'           : 0,\n", 
      "              'BETA'           : 2*l,\n", 
      "              'J0'             : 1 ,\n", 
      "              'J1'             : 1,\n", 
      "              'J2'             : j2,\n", 
      "              'THERMALIZATION' : 5000,\n", 
      "              'SWEEPS'         : 50000, \n", 
      "              'MODEL'          : \"spin\",\n", 
      "              'L'              : l,\n", 
      "              'W'              : l/2\n", 
      "            }\n", 
      "        )\n", 
      " \n", 
      "#write the input file and run the simulation\n", 
      "input_file = pyalps.writeInputFiles('mc08b', parms)\n", 
      "pyalps.runApplication('loop', input_file)"
     ], 
     "language": "python", 
     "metadata": {}, 
     "outputs": []
    }, 
    {
     "cell_type": "markdown", 
     "metadata": {}, 
     "source": [
      "## スタッガード磁化、Binder キュムラント、スピン剛\n", 
      "\n", 
      "古典モンテカルロのチュートリアルのように、反強磁性相の秩序変数であるスタッガード磁化 $m_s$ の Binder キュムラント $U_4=<m_s^4> /<m_s^2>^2$ の分析によって転移点を特定します。このチュートリアルでのモデルでは Binder キュムラントの交点は大きな有限サイズ効果を示すので、有限サイズ効果のより小さいスピン剛性（[Wenzel and Janke, Phys. Rev. B 79, 014410 (2009)](http://prb.aps.org/abstract/PRB/v79/i1/e014410)）を考えます。この物理量は $w_x,w_y$ を世界線の空間x,y方向に沿った巻き付き数として、$\\rho_s = \\frac{3}{4\\beta} <w_x^2 + w_y^2>$ で与えられます。この量は量子臨界点で$\\rho_s \\propto L^{d-2-z}$とスケールします。$d$ は系の次元、$z$ は動的臨界指数です。$z=1$ の時、$\\rho_sL$は、異なるシステムサイズに対し臨界点で交差しています。Binder キュムラントとスピン剛性が交差するという事実は、相転移が一次転移ではなく連続転移であることを示していることに注意してください。"
     ]
    }, 
    {
     "cell_type": "markdown", 
     "metadata": {}, 
     "source": [
      "次のスクリプトを使用して観測量の読み込み、プロットができます。"
     ]
    }, 
    {
     "cell_type": "code", 
     "collapsed": false, 
     "input": [
      "data = pyalps.loadMeasurements(pyalps.getResultFiles(pattern='mc08b.task*.out.h5'),\n", 
      "                               ['Binder Ratio of Staggered Magnetization','Stiffness'])\n", 
      "binder = pyalps.collectXY(data,x='J2',y='Binder Ratio of Staggered Magnetization', foreach=['L'])\n", 
      "stiffness = pyalps.collectXY(data,x='J2',y='Stiffness', foreach=['L'])\n", 
      "\n", 
      "for q in stiffness:\n", 
      "    q.y = q.y*q.props['L']\n", 
      "\n", 
      "#make plot    \n", 
      "plt.figure()\n", 
      "pyalps.plot.plot(stiffness)\n", 
      "plt.xlabel(r'$J2$')\n", 
      "plt.ylabel(r'Stiffness $\\rho_s L$')\n", 
      "plt.title('coupled ladders')\n", 
      "\n", 
      "plt.figure()\n", 
      "pyalps.plot.plot(binder)\n", 
      "plt.xlabel(r'$J_2$')\n", 
      "plt.ylabel(r'$g(m_s)$')\n", 
      "plt.title('coupled ladders')\n", 
      "\n", 
      "plt.show()"
     ], 
     "language": "python", 
     "metadata": {}, 
     "outputs": []
    }, 
    {
     "cell_type": "markdown", 
     "metadata": {}, 
     "source": [
      "量子臨界点はどこにありますか？"
     ]
    }, 
    {
     "cell_type": "markdown", 
     "metadata": {}, 
     "source": [
      "## 有限温度効果\n", 
      "\n", 
      "このシミュレーションが温度ゼロでおこなわれず、逆温度 $\\beta=T^{-1}=2L$ の有限値でおこなわれたことに気づきましたか？得られた結果（特に、量子臨界点の推定値）に、有限温度効果が現れていないことを確認する必要があります。このためのブルートフォースながら単純な確認方法は、温度を下げ、同じシミュレーションをおこなうことです。結果が影響を受けていなかったら、結果は同じ値に収束するでしょう。$\\beta=2L$ を $\\beta=4L$ と修正して、剛性とバインダーキュムラントが影響を受けるかどうか確認してみましょう。また $\\beta=L/4$ でためしてみてください。結果はどうでしたか？\n", 
      "\n", 
      "重要なポイントが2つあります。まず、計算時間はおおよそ $\\beta$ に比例していることが分かると思います。このことは、経路積分表示を用いたとすると、使用されたループアルゴリズムのスケーリングが臨界点であっても最適（実際、有限温度 QMC アルゴリズムは空間時間体積 $\\beta.L^d$ より早くスケールできません）であることを意味します。\n", 
      "\n", 
      "つぎに、なぜ $L$ に比例する逆温度 $\\beta$ を選んだのでしょうか？実際には、時間と空間のスケールとの間のこの線形関係は、この量子相転移の動的臨界指数の値 $z=1$ に由来します。$\\rho_s.L$ が交差することを見て、これをチェックしたことになっています。一般的には、$z$ は必ずしも1とはならないため、（基底状態のサンプリングを行うためには）システムサイズと温度の正しいスケーリングをチェックする必要があります。"
     ]
    }, 
    {
     "cell_type": "markdown", 
     "metadata": {}, 
     "source": [
      "# 臨界指数の見積り\n", 
      "\n", 
      "量子臨界点 $J_2^c$ のおおまかな見積りをおこないました。[古典系](http://alps.comp-phys.org/mediawiki/index.php/ALPS_2_Tutorials:MC-07_Phase_Transition) と同様に、臨界指数の見積りには、より多くの計算と、特に $J_2^c$ のより正確な測定を必要とします。\n", 
      "\n", 
      "これらを求めるために、より大きな系、より細かな $J_2^c$ で計算をおこないます。パラメータファイルは[mc08d](mc08d)です。この計算にはかなりの時間がかかるので、（チュートリアルとは別の）練習問題とします。スタッガード磁化の Binder キュムラント $U_4$や、スピン剛性にシステムサイズをかけた $\\rho_s.L$ を異なるシステムサイズについてプロットしてください。これらの曲線の交点は、$J_2^c$ のより正確な見積りの助けとなるでしょう。相関長の臨界指数 $\\nu$ を得るためには、$J_2 ^c$ の正確な値を求め、これらの量の $J_2^c$ に関する導関数の有限サイズスケーリングを考えることが有用です。これらの微分値$\\frac{dU_4}{d J_2}$ や $L \\frac{d\\rho_s}{d J_2}$ は原理的にはモンテカルロの測定量として得られますが、このチュートリアルでは、細かい $J_2$ で計算しているため、数値微分で事足ります。\n", 
      "\n", 
      "それぞれのシステムサイズに対してこの2つの量の数値微分をおこない、$J_2^c$ でのそれらの値をシステムサイズの関数としてプロットしてみてください。データはべき乗則でスケール $\\frac{dU_4}{d J_2}(J_2^c) \\propto L \\frac{d\\rho_s}{d J_2}(J_2^c) \\propto L^{1/\\nu}$ するはずです。\n", 
      "$\\nu$ の値はどうなりましたか？\n", 
      "\n", 
      "\n", 
      "### Exercise:\n", 
      "\n", 
      "[古典系](http://alps.comp-phys.org/mediawiki/index.php/ALPS_2_Tutorials:MC-07_Phase_Transition#Collapsing_data) のように、スケーリング関数の重なり具合を見ることで臨界点や臨界指数の推定値のよさを視覚的に判断できます。$U_4$ と$\\rho_s.L$ のスケーリングの方法は、古典相転移の Binder キュムラントのときと同じです。\n", 
      "\n", 
      "\n", 
      "$z$ と $\\nu$ 以外では、臨界指数 $\\eta$ を次のように求めることが可能です。古典的と同じく、臨界点での帯磁率は $\\chi_s (J_2^c) \\sim L^{2-\\eta}$ のようにスケールします。この式において、秩序変数のゆらぎに関する帯磁率を考える必要があることに注意してください。すなわち、一様帯磁率 $\\chi$ ではなく、**スタッガード帯磁率** $\\chi_s$ の有限サイズスケーリングです。システムサイズの関数として、$J_2^c$ での $\\chi_s$ をプロットしてください。$\\eta$ はどうなりますか？\n", 
      "\n", 
      "\n", 
      "このチュートリアルで調べた量子相転移は、３次元古典ハイゼンベルグモデルの有限温度での相転移のユニバーサリティクラスに属します。求めた臨界指数 $\\nu$ と\n", 
      "[Phys. Rev. B 65, 144520 (2002)](http://link.aps.org/doi/10.1103/PhysRevB.65.144520) とで述べられている値とを比較してみてください。"
     ]
    }, 
    {
     "cell_type": "markdown", 
     "metadata": {}, 
     "source": [
      "# 2番目の臨界点の推定\n", 
      "\n", 
      "\n", 
      "このモデルは、量子相転移はひとつではなく、より高い $J_2$ の値でも見つけることができ、そこでも同じ解析をおこなうことが出来ます。パラメータファイルの中の\n", 
      "\n", 
      "` for j2 in [0.2,0.25,0.3,0.35,0.4]:`\n", 
      "\n", 
      "という行を、\n", 
      "\n", 
      "` for j2 in [1.8,1.85,1.9,1.95,2.,2.05,2.1]:`\n", 
      "\n", 
      "のように変更してシミュレーションを実行し、プロットしてみてください。Pythonでの実行は [tutorial_mc08c.py](tutorial_mc08c.py)を参照してください。[Wenzel and Janke, Phys. Rev. B 79, 014410 (2009)](http://prb.aps.org/abstract/PRB/v79/i1/e014410) の結果と得られた結果を比較してみてください。"
     ]
    }
   ], 
   "metadata": {}
  }
 ]
}