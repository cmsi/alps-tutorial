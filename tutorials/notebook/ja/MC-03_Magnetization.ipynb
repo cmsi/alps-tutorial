{
 "metadata": {
  "name": "", 
  "signature": "sha256:8bfb2629e7ef1bfa1cb85015445fe1b1fe9fb77faaa49893f4af23d7bee27057"
 }, 
 "nbformat": 3, 
 "nbformat_minor": 0, 
 "worksheets": [
  {
   "cells": [
    {
     "cell_type": "markdown", 
     "metadata": {}, 
     "source": [
      "# ALPS 2 Tutorials: MC-03 Magnetization\n", 
      "\n", 
      "#  量子スピンモデルの磁化曲線の計算\n", 
      "\n", 
      "ループアルゴリズムでは磁場中でうまく機能しないため、このチュートリアルでは、ループアルゴリズムの替わりに有向ループ SSE アプリケーションを使用し、量子スピンモデルでの磁化曲線の計算を紹介します。\n", 
      "\n", 
      "##  磁場中の1次元ハイゼンベルグ鎖 \n", 
      "\n", 
      "### コマンドラインでのシミュレーションの準備と実行\n", 
      "\n", 
      "パラメータファイル[mc03a](mc03a)は、$S=1/2$ ハイゼンベルグモデルの量子モンテカルロシミュレーションの設定をしています。次元数 1,サイト数 20,温度 $T=0.08$, 磁場は $h=0,0.1,...,2.5$ と設定しています。"
     ]
    }, 
    {
     "cell_type": "raw", 
     "metadata": {}, 
     "source": [
      "LATTICE=\"chain lattice\" \n", 
      "MODEL   = \"spin\"\n", 
      "local_S=1/2\n", 
      "L=20\n", 
      "J=1\n", 
      "T=0.08\n", 
      "THERMALIZATION=2000\n", 
      "SWEEPS=10000\n", 
      "{h=0;}\n", 
      "{h=0.1;}\n", 
      "{h=0.2;}\n", 
      "{h=0.3;}\n", 
      "{h=0.4;}\n", 
      "{h=0.5;}\n", 
      "{h=0.6;}\n", 
      "{h=0.7;}\n", 
      "{h=0.8;}\n", 
      "{h=0.9;}\n", 
      "{h=1.0;}\n", 
      "{h=1.2;}\n", 
      "{h=1.4;}\n", 
      "{h=1.6;}\n", 
      "{h=1.8;}\n", 
      "{h=2.0;}\n", 
      "{h=2.2;}\n", 
      "{h=2.4;}\n", 
      "{h=2.5;}"
     ]
    }, 
    {
     "cell_type": "markdown", 
     "metadata": {}, 
     "source": [
      "以下の標準的な計算手順に従い、量子 SSE コードを用いて計算することができます。結果は XML 形式で出力され、web ブラウザで確認が可能です。"
     ]
    }, 
    {
     "cell_type": "code", 
     "collapsed": false, 
     "input": [
      "%%bash \n", 
      "parameter2xml mc03a\n", 
      "dirloop_sse --Tmin 10 --write-xml mc03a.in.xml"
     ], 
     "language": "python", 
     "metadata": {}, 
     "outputs": []
    }, 
    {
     "cell_type": "markdown", 
     "metadata": {}, 
     "source": [
      "次に、`dirloop_sse_evaluate` モジュールを用いて `Specific Heat` (比熱)を求めます。シミュレーションで得られた結果を解析し、出力結果を XML ファイルとして生成します。"
     ]
    }, 
    {
     "cell_type": "code", 
     "collapsed": false, 
     "input": [
      "%%bash\n", 
      "dirloop_sse_evaluate --write-xml mc03a.task[1-19].out.xml"
     ], 
     "language": "python", 
     "metadata": {}, 
     "outputs": []
    }, 
    {
     "cell_type": "markdown", 
     "metadata": {}, 
     "source": [
      "出力結果を格納したファイルは、上書きされますので注意してください。\n", 
      "\n", 
      "シミュレーション出力ファイルには、全計算がおこなわれた後の計算結果がだけが格納されています。個々のモンテカルロステップでの計算の詳細は、各チェックポイント情報を格納しているチェックポイントファイルを XML 形式に変換することによって知ることが可能です。`convert2xml` ツールを次のように使用します。"
     ]
    }, 
    {
     "cell_type": "code", 
     "collapsed": false, 
     "input": [
      "%%bash\n", 
      "convert2xml mc03a.task[1-19].out.run1"
     ], 
     "language": "python", 
     "metadata": {}, 
     "outputs": []
    }, 
    {
     "cell_type": "markdown", 
     "metadata": {}, 
     "source": [
      "この操作によってモンテカルロ計算から摘出された情報を含む、XML 形式のタスクファイル `mc03a.task[1-19].out.run.xml` が生成されます。\n", 
      "\n", 
      "物理量に関するプロットをおこないたい場合は、後述する Python 解析ツールを利用してください。"
     ]
    }, 
    {
     "cell_type": "markdown", 
     "metadata": {}, 
     "source": [
      "### Pythonを使用したシミュレーションの準備と実行\n", 
      "\n", 
      "Python で計算の実行を設定します。Python スクリプト [tutorial_mc03a.py](tutorial_mc03a.py) を参照してください。"
     ]
    }, 
    {
     "cell_type": "code", 
     "collapsed": false, 
     "input": [
      "import pyalps\n", 
      "import matplotlib.pyplot as plt\n", 
      "import pyalps.plot\n", 
      "\n", 
      "parms = []\n", 
      "for h in [0., 0.1, 0.2, 0.3, 0.4, 0.5, 0.6, 0.7, 0.8, 0.9, 1.0, 1.2, 1.4, 1.6, 1.8, 2.0, 2.2, 2.4, 2.5]:\n", 
      "    parms.append(\n", 
      "        { \n", 
      "          'LATTICE'        : \"chain lattice\", \n", 
      "          'MODEL'          : \"spin\",\n", 
      "          'local_S'        : 0.5,\n", 
      "          'T'              : 0.08,\n", 
      "          'J'              : 1 ,\n", 
      "          'THERMALIZATION' : 1000,\n", 
      "          'SWEEPS'         : 20000,\n", 
      "          'L'              : 20,\n", 
      "          'h'              : h\n", 
      "        }\n", 
      "    )"
     ], 
     "language": "python", 
     "metadata": {}, 
     "outputs": []
    }, 
    {
     "cell_type": "markdown", 
     "metadata": {}, 
     "source": [
      "次に、ジョブファイルを XML 形式に変換し、`dir_loop_sse` シミュレーションを実行します。"
     ]
    }, 
    {
     "cell_type": "code", 
     "collapsed": false, 
     "input": [
      "input_file = pyalps.writeInputFiles('mc03a', parms)\n", 
      "res = pyalps.runApplication('dirloop_sse', input_file,Tmin=5)"
     ], 
     "language": "python", 
     "metadata": {}, 
     "outputs": []
    }, 
    {
     "cell_type": "markdown", 
     "metadata": {}, 
     "source": [
      "コマンドラインでおこなった計算結果と同じ出力ファイルが得られます。\n", 
      "\n", 
      "### Pythonを使用したシミュレーションの評価とプロット\n", 
      "\n", 
      "計算結果ファイルをロードし、磁場の関数としての磁化密度の情報を取得します。計算のロード、解析、プロットの手順は Python スクリプト [tutorial_mc03a.py](tutorial_mc03a.py) を参照してください。"
     ]
    }, 
    {
     "cell_type": "code", 
     "collapsed": false, 
     "input": [
      "data = pyalps.loadMeasurements(pyalps.getResultFiles(prefix='mc03a'),'Magnetization Density')\n", 
      "magnetization = pyalps.collectXY(data,x='h',y='Magnetization Density')"
     ], 
     "language": "python", 
     "metadata": {}, 
     "outputs": []
    }, 
    {
     "cell_type": "markdown", 
     "metadata": {}, 
     "source": [
      "プロットには `pyalps.pyplot.plot` を使用します。適宜、実用的なラベル、タイトル、Y軸の範囲を設定してください。"
     ]
    }, 
    {
     "cell_type": "code", 
     "collapsed": false, 
     "input": [
      "plt.figure()\n", 
      "pyalps.plot.plot(magnetization)\n", 
      "plt.xlabel('Field $h$')\n", 
      "plt.ylabel('Magnetization $m$')\n", 
      "plt.ylim(0.0,0.5)\n", 
      "plt.title('Quantum Heisenberg chain')\n", 
      "plt.show()"
     ], 
     "language": "python", 
     "metadata": {}, 
     "outputs": []
    }, 
    {
     "cell_type": "markdown", 
     "metadata": {}, 
     "source": [
      "## 磁場中での1次元ハイゼンベルグ梯子 \n", 
      "\n", 
      "パラメータファイル[mc03b](mc03b) は、$S=1/2$ ハイゼンベルグモデルの量子モンテカルロシミュレーションの設定をしています。次元数1,サイト数40, 温度 $T=0.08$ ,磁場は $h=0,0.1,....,3.5$ の設定としています。 "
     ]
    }, 
    {
     "cell_type": "raw", 
     "metadata": {}, 
     "source": [
      "LATTICE=\"ladder\"\n", 
      "MODEL   = \"spin\"\n", 
      "local_S=1/2\n", 
      "L=20\n", 
      "J0=1\n", 
      "J1=1\n", 
      "T=0.08\n", 
      "THERMALIZATION=1000\n", 
      "SWEEPS=10000\n", 
      "{h=0;}\n", 
      "{h=0.1;}\n", 
      "{h=0.2;}\n", 
      "{h=0.3;}\n", 
      "{h=0.4;}\n", 
      "{h=0.5;}\n", 
      "{h=0.6;}\n", 
      "{h=0.8;}\n", 
      "{h=1.0;}\n", 
      "{h=1.25;}\n", 
      "SWEEPS=5000\n", 
      "{h=1.5;}\n", 
      "{h=1.75;}\n", 
      "{h=2.0;}\n", 
      "{h=2.25;}\n", 
      "{h=2.5;}\n", 
      "{h=2.75;}\n", 
      "{h=3.0;}\n", 
      "{h=3.25;}\n", 
      "{h=3.5;}"
     ]
    }, 
    {
     "cell_type": "markdown", 
     "metadata": {}, 
     "source": [
      "入力ファイルの一部を上記に示します。シミュレーションの実行は他の計算と同じ手順です。\n", 
      "\n", 
      "Python を使用したシミュレーションの実行には[tutorial_mc03b.py](tutorial_mc03b.py)を用います。変更点は次の3点です。\n", 
      "\n", 
      "* ファイル名の変更: `parm3a` -> `parm3b`\n", 
      "* パラメータの変更: `chain lattice` -> `ladder`\n", 
      "* `J0, J1` の設定"
     ]
    }, 
    {
     "cell_type": "markdown", 
     "metadata": {}, 
     "source": [
      "## 計算結果の統合\n", 
      "\n", 
      "全計算結果のプロットをおこないます。スクリプト[tutorial_mc03full.py](tutorial_mc03full.py)を参照してください。"
     ]
    }, 
    {
     "cell_type": "markdown", 
     "metadata": {}, 
     "source": [
      "##  設問\n", 
      "\n", 
      "* 磁場に対して磁化はどう振る舞いますか？\n", 
      "* 格子の違いはどのように磁化に関与しますか？\n", 
      "* パラメータWを変えることによって 3-leg, 4-leg 梯子の計算ができます。また、`local_S` を設定し、`spin-1, spin-3/2` の計算が可能です。これらのパラメータによって結果はどうなりますか"
     ]
    }
   ], 
   "metadata": {}
  }
 ]
}