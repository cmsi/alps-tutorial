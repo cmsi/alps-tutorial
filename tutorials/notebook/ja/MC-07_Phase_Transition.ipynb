{
 "metadata": {
  "name": "", 
  "signature": "sha256:720f0dbf73992b304331733f6e59c81f71277af798d9d607a1e0b9b7e80f3276"
 }, 
 "nbformat": 3, 
 "nbformat_minor": 0, 
 "worksheets": [
  {
   "cells": [
    {
     "cell_type": "markdown", 
     "metadata": {}, 
     "source": [
      "# ALPS 2 Tutorials:MC-07 Phase Transition"
     ]
    }, 
    {
     "cell_type": "markdown", 
     "metadata": {}, 
     "source": [
      "# 最初に\n", 
      "\n", 
      "このチュートリアルの目的は、有名な $2$ 次元イジングモデルを例にとり、有限サイズのシミュレーションから二次相転移を再現する方法を学ぶことです。有限系では真の相転移や臨界現象は起きませんが、前駆現象は明確にあらわれるので、有限サイズスケーリング法を用いることで、ユニバーサリティクラスを決定することができます。\n", 
      "相転移現象は $2$ 次元イジングモデルでは正確に解けることが知られています。このチュートリアルでは、臨界点並びに臨界指数の計算手順を説明します。このチュートリアルの計算は、ある程度の時間を要しますので、効率的に進めてください。\n", 
      "\n", 
      "最初の計算をする前に、$2$ 番目の計算をあらかじめバックグラウンドで始めておくとよいでしょう。そのパラメータファイルは[mc07b](mc07b)です。次のコマンドで実行開始してください。"
     ]
    }, 
    {
     "cell_type": "code", 
     "collapsed": false, 
     "input": [
      "%%bash --bg\n", 
      "parameter2xml mc07b\n", 
      "spinmc --Tmin 10  mc07b.in.xml"
     ], 
     "language": "python", 
     "metadata": {}, 
     "outputs": []
    }, 
    {
     "cell_type": "markdown", 
     "metadata": {}, 
     "source": [
      "Pythonでは、[tutorial_mc07b.py](tutorial_mc07b.py)"
     ]
    }, 
    {
     "cell_type": "code", 
     "collapsed": false, 
     "input": [
      "import pyalps\n", 
      "import matplotlib.pyplot as plt\n", 
      "import pyalps.plot\n", 
      "import numpy as np\n", 
      "import pyalps.fit_wrapper as fw\n", 
      " \n", 
      "#prepare the input parameters \n", 
      "parms = []\n", 
      "for l in [32,48,64]:\n", 
      "    for t in [2.24, 2.25, 2.26, 2.27, 2.28, 2.29, 2.30, 2.31, 2.32, 2.33, 2.34, 2.35]:\n", 
      "        parms.append(\n", 
      "            { \n", 
      "              'LATTICE'        : \"square lattice\", \n", 
      "              'T'              : t,\n", 
      "              'J'              : 1 ,\n", 
      "              'THERMALIZATION' : 5000,\n", 
      "              'SWEEPS'         : 150000,\n", 
      "              'UPDATE'         : \"cluster\",\n", 
      "              'MODEL'          : \"Ising\",\n", 
      "              'L'              : l\n", 
      "            }  \n", 
      "    )\n", 
      " \n", 
      "#write the input file and run the simulation\n", 
      "input_file = pyalps.writeInputFiles('mc07b', parms) \n", 
      "pyalps.runApplication('spinmc',input_file,Tmin=5)"
     ], 
     "language": "python", 
     "metadata": {}, 
     "outputs": []
    }, 
    {
     "cell_type": "markdown", 
     "metadata": {}, 
     "source": [
      "# 相転移のおおよその特定\n", 
      "\n", 
      "最初に、臨界点のおおよその範囲を特定するために、小さい系で温度による探索をおこないます。使用するパラメータファイルは[mc07a](mc07a)です。"
     ]
    }, 
    {
     "cell_type": "code", 
     "collapsed": false, 
     "input": [
      "%%bash\n", 
      "parameter2xml mc07a\n", 
      "spinmc --Tmin 5 mc07a.in.xml"
     ], 
     "language": "python", 
     "metadata": {}, 
     "outputs": []
    }, 
    {
     "cell_type": "markdown", 
     "metadata": {}, 
     "source": [
      "Python を用いる場合、スクリプトは [tutorial_mc07a.py](tutorial_mc07a.py) です。"
     ]
    }, 
    {
     "cell_type": "markdown", 
     "metadata": {}, 
     "source": [
      "import pyalps\n", 
      "import matplotlib.pyplot as plt\n", 
      "import pyalps.plot\n", 
      "\n", 
      "#prepare the input parameters\n", 
      "parms = []\n", 
      "for l in [4, 8, 16]: \n", 
      "    for t in [5.0, 4.5, 4.0, 3.5, 3.0, 2.9, 2.8, 2.7]:\n", 
      "        parms.append(\n", 
      "            { \n", 
      "              'LATTICE'        : \"square lattice\", \n", 
      "              'T'              : t,\n", 
      "              'J'              : 1 ,\n", 
      "              'THERMALIZATION' : 1000,\n", 
      "              'SWEEPS'         : 400000,\n", 
      "              'UPDATE'         : \"cluster\",\n", 
      "              'MODEL'          : \"Ising\",\n", 
      "              'L'              : l\n", 
      "            }\n", 
      "        )\n", 
      "    for t in [2.6, 2.5, 2.4, 2.3, 2.2, 2.1, 2.0, 1.9, 1.8, 1.7, 1.6, 1.5, 1.2]:\n", 
      "        parms.append(\n", 
      "            { \n", 
      "              'LATTICE'        : \"square lattice\", \n", 
      "              'T'              : t,\n", 
      "              'J'              : 1 ,\n", 
      "              'THERMALIZATION' : 1000,\n", 
      "              'SWEEPS'         : 40000,\n", 
      "              'UPDATE'         : \"cluster\",\n", 
      "              'MODEL'          : \"Ising\",\n", 
      "              'L'              : l\n", 
      "            }\n", 
      "        )\n", 
      "\n", 
      "#write the input file and run the simulation\n", 
      "input_file = pyalps.writeInputFiles('mc07a', parms)\n", 
      "pyalps.runApplication('spinmc', input_file, Tmin=5)"
     ]
    }, 
    {
     "cell_type": "markdown", 
     "metadata": {}, 
     "source": [
      "## 磁化、帯磁率、比熱\n", 
      "\n", 
      "低温におけるイジングモデルを記述する秩序変数は、サイトあたりの磁化 $m$ です。もちろん有限系では、平均値 $<m>$ は対称性により $0$ となるので、磁化の平均絶対値に注目すべきです。\n", 
      "次の記述は Python シェルによる、実行、データ解析、計算結果読み込みの一連の手順です。"
     ]
    }, 
    {
     "cell_type": "code", 
     "collapsed": false, 
     "input": [
      "pyalps.evaluateSpinMC(pyalps.getResultFiles(prefix='mc07a'))\n", 
      "\n", 
      "#load the observables and collect them as function of temperature T\n", 
      "data = pyalps.loadMeasurements(\n", 
      "    pyalps.getResultFiles(prefix='mc07a'),\n", 
      "    ['|Magnetization|', 'Connected Susceptibility', \n", 
      "     'Specific Heat', 'Binder Cumulant', \n", 
      "     'Binder Cumulant U2'])\n", 
      "\n", 
      "magnetization_abs = pyalps.collectXY(data,x='T',y='|Magnetization|',foreach=['L'])\n", 
      "connected_susc = pyalps.collectXY(data,x='T',y='Connected Susceptibility',foreach=['L'])\n", 
      "spec_heat = pyalps.collectXY(data,x='T',y='Specific Heat',foreach=['L'])\n", 
      "binder_u4 = pyalps.collectXY(data,x='T',y='Binder Cumulant',foreach=['L'])\n", 
      "binder_u2 = pyalps.collectXY(data,x='T',y='Binder Cumulant U2',foreach=['L'])"
     ], 
     "language": "python", 
     "metadata": {}, 
     "outputs": []
    }, 
    {
     "cell_type": "markdown", 
     "metadata": {}, 
     "source": [
      "$T$ に対する `|Magnetization|` のプロットをおこないます。"
     ]
    }, 
    {
     "cell_type": "code", 
     "collapsed": false, 
     "input": [
      "plt.figure()\n", 
      "pyalps.plot.plot(magnetization_abs)\n", 
      "plt.xlabel('Temperature $T$')\n", 
      "plt.ylabel('Magnetization $|m|$')\n", 
      "plt.title('2D Ising model')\n", 
      "plt.show()"
     ], 
     "language": "python", 
     "metadata": {}, 
     "outputs": []
    }, 
    {
     "cell_type": "markdown", 
     "metadata": {}, 
     "source": [
      "高温から低温へ行くと磁化が0からある飽和値まで上昇することが明らかにわかります。システムサイズを大きくするにつれて変化が鋭くなりますが、この変化が起きる温度はそれほど明白ではありません。より明らかにするために、磁化のゆらぎを見てみましょう。\n", 
      "そのために、帯磁率 $\\chi = \\beta .N .( < m^2>- <|m|>^2)$を見てみます。$N$ は全スピン数です。"
     ]
    }, 
    {
     "cell_type": "code", 
     "collapsed": false, 
     "input": [
      "plt.figure()\n", 
      "pyalps.plot.plot(connected_susc)\n", 
      "plt.xlabel('Temperature $T$')\n", 
      "plt.ylabel('Connected Susceptibility $\\chi_c$')\n", 
      "plt.title('2D Ising model')\n", 
      "plt.show()"
     ], 
     "language": "python", 
     "metadata": {}, 
     "outputs": []
    }, 
    {
     "cell_type": "markdown", 
     "metadata": {}, 
     "source": [
      "$T=2.2-2.4$ 周辺でピークが観測されます。これは最も磁化のゆらぎが強い温度です。ピークはシステムサイズにともなって発散する傾向にあります。詳細は後述しますが、この発散は臨界指数によって特徴付けられます。\n", 
      "\n", 
      "この帯磁率によるおおまかな臨界温度の見積りの妥当性は、比熱の振る舞い、 つまりエネルギーのゆらぎ $C_v = \\beta^2 . N. ( < e^2 >- < e >^2 )$　（$e$はサイトあたりの内部エネルギー）をみることで、確かめることができます。"
     ]
    }, 
    {
     "cell_type": "code", 
     "collapsed": false, 
     "input": [
      "plt.figure()\n", 
      "pyalps.plot.plot(spec_heat)\n", 
      "plt.xlabel('Temperature $T$')\n", 
      "plt.ylabel('Specific Heat $c_v$')\n", 
      "plt.title('2D Ising model')\n", 
      "plt.show()"
     ], 
     "language": "python", 
     "metadata": {}, 
     "outputs": []
    }, 
    {
     "cell_type": "markdown", 
     "metadata": {}, 
     "source": [
      "帯磁率のピークよりは弱いですが、同じ場所に比熱のピークを観測できます。比熱のピークが帯磁率のピークより弱い理由も、後で見ていきます。"
     ]
    }, 
    {
     "cell_type": "markdown", 
     "metadata": {}, 
     "source": [
      "## Binderキュムラント\n", 
      "\n", 
      "シミュレーションの結果、常に曲線の最大値（帯磁率や比熱のピーク）を容易に求められるとは限りません。また、前途のプロットでも見れたように、ピーク温度はシステムサイズによって変動することもあります。これらは後述する有限サイズスケーリング法によって対処が可能です。\n", 
      "相転移点を特定する他の効率的な方法にキュムラントを用いる方法があります。ここで Binder キュムラントと呼ばれる比率 $U_4=< m^4> /<m^2>^2$ を取り上げます。この量は、低温ではスピンがすべて揃うので $1$ をとり、高温では秩序変数のガウシアンゆらぎから $3$ となります。Binder キュムラントの特徴は、臨界点直上において、システムサイズによらずに、ユニバーサルなある値を取ることです。よって、サイズごとに温度に対する Binder キュムラントをプロットすると、その交点として転移点を決定できます。"
     ]
    }, 
    {
     "cell_type": "code", 
     "collapsed": false, 
     "input": [
      "plt.figure()\n", 
      "pyalps.plot.plot(binder_u4)\n", 
      "plt.xlabel('Temperature $T$')\n", 
      "plt.ylabel('Binder Cumulant U4 $g$')\n", 
      "plt.title('2D Ising model')\n", 
      "plt.show()"
     ], 
     "language": "python", 
     "metadata": {}, 
     "outputs": []
    }, 
    {
     "cell_type": "markdown", 
     "metadata": {}, 
     "source": [
      "このプロットから、相転移は $ T_c \\in [2.2,2.3]$ の狭い範囲であると結論づけられます。また、別の課題として、キュムラント$U_2 = < m^2> / <|m|>^2$の場合も考えて見てください。"
     ]
    }, 
    {
     "cell_type": "markdown", 
     "metadata": {}, 
     "source": [
      "#  相転移場所のより精確な特定、臨界指数の評価、collapse plots \n", 
      "\n", 
      "密な温度グリッド点を用い大規模系を計算することで、より正確な相転移の性質をシミュレーションすることができます。チュートリアルで用いるファイルは[mc07b](mc07b)です。結果ファイルから観測量を取り出し解析します。"
     ]
    }, 
    {
     "cell_type": "code", 
     "collapsed": false, 
     "input": [
      "pyalps.evaluateSpinMC(pyalps.getResultFiles(prefix='mc07b'))\n", 
      "\n", 
      "#load the observables and collect them as function of temperature T\n", 
      "data = pyalps.loadMeasurements(\n", 
      "    pyalps.getResultFiles(prefix='mc07b'),\n", 
      "    ['|Magnetization|', 'Connected Susceptibility', \n", 
      "     'Specific Heat', 'Binder Cumulant', 'Binder Cumulant U2'])\n", 
      "\n", 
      "magnetization_abs = pyalps.collectXY(data,x='T',y='|Magnetization|',foreach=['L'])\n", 
      "connected_susc = pyalps.collectXY(data,x='T',y='Connected Susceptibility',foreach=['L'])\n", 
      "spec_heat = pyalps.collectXY(data,x='T',y='Specific Heat',foreach=['L'])\n", 
      "binder_u4 = pyalps.collectXY(data,x='T',y='Binder Cumulant',foreach=['L'])\n", 
      "binder_u2 = pyalps.collectXY(data,x='T',y='Binder Cumulant U2',foreach=['L'])"
     ], 
     "language": "python", 
     "metadata": {}, 
     "outputs": []
    }, 
    {
     "cell_type": "markdown", 
     "metadata": {}, 
     "source": [
      "## Collapsing data\n", 
      "\n", 
      "Bider キュムラントの交点を計算します。"
     ]
    }, 
    {
     "cell_type": "code", 
     "collapsed": false, 
     "input": [
      "plt.figure()\n", 
      "pyalps.plot.plot(binder_u4)\n", 
      "plt.xlabel('Temperature $T$')\n", 
      "plt.ylabel('Binder Cumulant U4 $g$')\n", 
      "plt.title('2D Ising model')\n", 
      "plt.show()"
     ], 
     "language": "python", 
     "metadata": {}, 
     "outputs": []
    }, 
    {
     "cell_type": "markdown", 
     "metadata": {}, 
     "source": [
      "プロットから転移点は得られましたか？どこにありましたか？さて、このプロットからは転移点以外にも様々な情報を得ることができます。有限サイズスケーリング理論からは、Binder キュムラントは $U_4 = f (L^{1/\\nu} (T-T_c)/T_c)$のようにスケールすることが示されます。ここで、$f$ はユニバーサルなスケーリング関数です。`mc07b` に用意された各システムサイズに対して、Binder キュムラントを$(T-T_c)/T_c$ の関数としてプロットしてください。$T_c$ には転移点の推定値を使います。この時、すべての曲線が横軸=0の近くで交わるはずです。次に、ある定数 $a$ を導入して、横軸に $L^a$ をかけることで、すべての曲線が1本の曲線に乗るようにしてください。\n", 
      "\n", 
      "**Hint** : $a$ を $1$ の近くから探してみてください\n", 
      "\n", 
      "以下の様な Python による解析コードを使うとよいでしょう。"
     ]
    }, 
    {
     "cell_type": "code", 
     "collapsed": false, 
     "input": [
      "#perform a data collapse of the Binder cumulant: \n", 
      "Tc=... #your estimate\n", 
      "a=...  #your estimate\n", 
      " \n", 
      "for d in binder_u4:\n", 
      "    d.x -= Tc\n", 
      "    d.x = d.x/Tc\n", 
      "    l = d.props['L']g\n", 
      "    d.x = d.x * pow(float(l),a)\n", 
      " \n", 
      "plt.figure()\n", 
      "pyalps.plot.plot(binder_u4)\n", 
      "plt.xlabel('$L^a(T-T_c)/T_c$')\n", 
      "plt.ylabel('Binder Cumulant U4 $g$')\n", 
      "plt.title('2D Ising model')\n", 
      "plt.show()"
     ], 
     "language": "python", 
     "metadata": {}, 
     "outputs": []
    }, 
    {
     "cell_type": "markdown", 
     "metadata": {}, 
     "source": [
      "ここでやった、臨界領域で曲線を重ねる手法(collapse plots)は、臨界指数を得るための有名なテクニックとなっています。この場合、相関長の臨界指数を$\\nu = 1/a$として読み取ることができます。このようにBinder キュムラントを使うことで、$\\nu$を他の臨界指数とは独立に得ることができます。他の物理量のスケーリングをする際には大抵、x 成分だけでなくy 成分に関しても$L^b$というスケーリングを行う必要が生まれます。"
     ]
    }, 
    {
     "cell_type": "markdown", 
     "metadata": {}, 
     "source": [
      "## 臨界指数\n", 
      "\n", 
      "今度は、比熱と帯磁率に関する解析を行います。"
     ]
    }, 
    {
     "cell_type": "code", 
     "collapsed": false, 
     "input": [
      "#make a plot of the specific heat and connected susceptibility:\n", 
      "plt.figure()\n", 
      "pyalps.plot.plot(connected_susc)\n", 
      "plt.xlabel('Temperature $T$')\n", 
      "plt.ylabel('Connected Susceptibility $\\chi_c$')\n", 
      "plt.title('2D Ising model')\n", 
      "\n", 
      "plt.figure()\n", 
      "pyalps.plot.plot(spec_heat)\n", 
      "plt.xlabel('Temperature $T$')\n", 
      "plt.ylabel('Specific Heat $c_v$')\n", 
      "plt.title('2D Ising model')\n", 
      "plt.show()"
     ], 
     "language": "python", 
     "metadata": {}, 
     "outputs": []
    }, 
    {
     "cell_type": "markdown", 
     "metadata": {}, 
     "source": [
      "帯磁率と比熱のピークは、Binder キュムラントから得られる転移点からすこしずれた位置に現れます。この小さな差は計算した系が小さいことから現れます。つまり、ピークの位置によって実効的な転移温度$T_c(L)$を定義すると、その位置は真の転移点$T_c$から有限サイズ効果によって、$T_c(L) = T_c + A L^{-1/\\nu}$ という形でずれます。$A$ は$T_c(L)$ を決める手法に依存する定数です。\n", 
      "臨界指数は、帯磁率や比熱の、$T_c(L)$ もしくはBinder 解析から得た$T_c$ での値から読み取ることができます。これらは$\\chi (T_c) \\sim L^{\\gamma/\\nu}$ や $C_v (T_c) \\sim L^{\\alpha / \\nu}$という形でスケーリングすることが期待されます。例として、帯磁率の各サイズに対する最大値を得てプロットし、べき乗則にしたがっていることを確かめてみましょう。\n", 
      "各臨界指数の間に成り立つ関係式、$\\gamma / \\nu = 2 - \\eta $ を用いて$\\eta$の値を計算してください。"
     ]
    }, 
    {
     "cell_type": "code", 
     "collapsed": false, 
     "input": [
      "#make a fit of the connected susceptibility as a function of L:\n", 
      "cs_mean=[]\n", 
      "for q in connected_susc:\n", 
      "    cs_mean.append(np.array([d.mean for d in q.y]))\n", 
      " \n", 
      "peak_cs = pyalps.DataSet()\n", 
      "peak_cs.props = pyalps.dict_intersect([q.props for q in connected_susc])\n", 
      "peak_cs.y = np.array([np.max(q) for q in cs_mean])\n", 
      "peak_cs.x = np.array([q.props['L'] for q in connected_susc])\n", 
      "\n", 
      "sel = np.argsort(peak_cs.x)\n", 
      "peak_cs.y = peak_cs.y[sel]\n", 
      "peak_cs.x = peak_cs.x[sel]\n", 
      "\n", 
      "pars = [fw.Parameter(1), fw.Parameter(1)]\n", 
      "f = lambda self, x, pars: pars[0]()*np.power(x,pars[1]())\n", 
      "fw.fit(None, f, pars, peak_cs.y, peak_cs.x)\n", 
      "prefactor = pars[0].get()\n", 
      "gamma_nu = pars[1].get()\n", 
      "\n", 
      "plt.figure()\n", 
      "plt.plot(peak_cs.x, f(None, peak_cs.x, pars))\n", 
      "pyalps.plot.plot(peak_cs)\n", 
      "plt.xlabel('System Size $L$')\n", 
      "plt.ylabel('Connected Susceptibility $\\chi_c(T_c)$')\n", 
      "plt.title('2D Ising model, $\\gamma$ is %.4s' % gamma_nu)\n", 
      "plt.show()"
     ], 
     "language": "python", 
     "metadata": {}, 
     "outputs": []
    }, 
    {
     "cell_type": "markdown", 
     "metadata": {}, 
     "source": [
      "比熱に関しても同様の手順で解析をします。臨界指数$\\alpha$ の値はどうなりましたか？\n", 
      "$\\alpha$ は一般に正にも負にもなりえることに注意してください。このことは、比熱は帯磁率と違い、連続相転移においても発散するとは限らないということを意味します。"
     ]
    }, 
    {
     "cell_type": "code", 
     "collapsed": false, 
     "input": [
      "#make a fit of the specific heat as a function of L:\n", 
      "sh_mean=[]\n", 
      "for q in spec_heat:\n", 
      "    sh_mean.append(np.array([d.mean for d in q.y]))\n", 
      "  \n", 
      "peak_sh = pyalps.DataSet()\n", 
      "peak_sh.props = pyalps.dict_intersect([q.props for q in spec_heat])\n", 
      "peak_sh.y = np.array([np.max(q) for q in sh_mean])\n", 
      "peak_sh.x = np.array([q.props['L'] for q in spec_heat])\n", 
      "\n", 
      "sel = np.argsort(peak_sh.x)\n", 
      "peak_sh.y = peak_sh.y[sel]\n", 
      "peak_sh.x = peak_sh.x[sel] \n", 
      "\n", 
      "pars = [fw.Parameter(1), fw.Parameter(1)]\n", 
      "f = lambda self, x, pars: pars[0]()*np.power(x,pars[1]())\n", 
      "fw.fit(None, f, pars, peak_sh.y, peak_sh.x)\n", 
      "prefactor = pars[0].get()\n", 
      "alpha_nu = pars[1].get()\n", 
      "\n", 
      "plt.figure()\n", 
      "plt.plot(peak_sh.x, f(None, peak_sh.x, pars))\n", 
      "pyalps.plot.plot(peak_cs)\n", 
      "plt.xlabel('System Size $L$')\n", 
      "plt.ylabel('Specific Heat $c_v(T_c)$')\n", 
      "plt.title(r'2D Ising model, $\\alpha$ is %.4s' % alpha_nu)\n", 
      "plt.show()"
     ], 
     "language": "python", 
     "metadata": {}, 
     "outputs": []
    }, 
    {
     "cell_type": "markdown", 
     "metadata": {}, 
     "source": [
      "練習として、$L^{-\\beta/\\nu}$としてのスケールする絶対磁化に対しても同様の解析をおこなうことができます。また、帯磁率や磁化についてもユニバーサル関数によるデータ解析をおこなってみてください。\n", 
      "\n", 
      "**Hint**: 対応するスケーリング関数は、$\\chi = L^{2-\\eta} g ( L^{1/\\nu} (T-T_c)/T_c))$ 、 $|m| = L^{-\\beta/\\nu} h ( L^{1/\\nu} (T-T_c)/T_c))$　です。"
     ]
    }, 
    {
     "cell_type": "code", 
     "collapsed": false, 
     "input": [
      "#make a data collapse of the connected susceptibility as a function of (T-Tc)/Tc:\n", 
      "for d in connected_susc:\n", 
      "    d.x -= Tc\n", 
      "    d.x = d.x/Tc\n", 
      "    l = d.props['L']\n", 
      "    d.x = d.x * pow(float(l),a)\n", 
      " \n", 
      "two_minus_eta=... #your estimate\n", 
      "for d in connected_susc:\n", 
      "    l = d.props['L']\n", 
      "    d.y = d.y/pow(float(l),two_eta)\n", 
      "\n", 
      "plt.figure()\n", 
      "pyalps.plot.plot(connected_susc)\n", 
      "plt.xlabel(' $L^a(T-T_c)/T_c$')\n", 
      "plt.ylabel(r'$L^{\\gamma/\\nu}\\chi_c$')\n", 
      "plt.title('2D Ising model')\n", 
      "plt.show()\n", 
      "\n", 
      "#make a data collapse of the |magnetization| as a function of (T-Tc)/Tc\n", 
      "for d in magnetization_abs:\n", 
      "    d.x -= Tc\n", 
      "    d.x = d.x/Tc\n", 
      "    l = d.props['L']\n", 
      "    d.x = d.x * pow(float(l),a)\n", 
      "\n", 
      "beta_over_nu=... #your estimate    \n", 
      "for d in magnetization_abs:\n", 
      "    l = d.props['L']\n", 
      "    d.y = d.y / pow(float(l),-beta_over_nu)\n", 
      " \n", 
      "plt.figure()\n", 
      "pyalps.plot.plot(magnetization_abs)\n", 
      "plt.xlabel(' $L^a(T-T_c)/T_c$')\n", 
      "plt.ylabel(r'$L^{-\\beta/\\nu} |m|$')\n", 
      "plt.title('2D Ising model')\n", 
      "plt.show()"
     ], 
     "language": "python", 
     "metadata": {}, 
     "outputs": []
    }, 
    {
     "cell_type": "markdown", 
     "metadata": {}, 
     "source": [
      "#  臨界指数の正確な推定値\n", 
      "\n", 
      "二次元イジングモデルの臨界指数の厳密解は $\\nu=1, \\eta=1/4, \\beta=1/8$ and $\\alpha=0$ です。\n", 
      "最後の $\\alpha=0$ ですが、これは比熱が発散するけれどもそれはベキ的ではなく対数的であるという事を意味します。この厳密解と、今までに計算で得られた値とを比べてみましょう。\n", 
      "\n", 
      "\n", 
      "今回は計算時間が長すぎるためにやらなかったような、より大規模な系で計算を行うことで、転移点や臨界指数の見積りの精度は大幅に上がります。さらに、臨界指数の見積り精度は、転移点の見積りの精度自体にも依存します。臨界指数をより精度よく得るためには、臨界点の厳密 解$T_c = 2 / \\ln(1+\\sqrt(2)) = 2.269\\ldots$ を用いて、より大きな系で計算する必要があります。これは練習問題とします。\n", 
      "\n", 
      "\n", 
      "前に行った、ユニバーサルスケーリング関数による $\\nu$ の計算は、あまり使いやすくありません。\n", 
      "別の方法として、先にやった帯磁率や比熱のように、Binder キュムラントの転移温度上でのスケーリング関数を用いることで、$\\nu$ を直接求めることができます。\n", 
      "Binder キュムラントの温度に関する導関数は、実際に微分することで容易にわかるように、転移点直上で $L^{1/\\nu}$ at $T_c$という形でスケールします。この量は、数値微分で求めることもできますし、よりよい方法として、モンテカルロ法によって直接求めることもできます。なお、この計算には十分なサンプル数が必要になります。\n", 
      "こうして転移点での微分量が得られたなら、そのシステムサイズ依存性をべき乗則でフィッティングすることで、臨界指数 $\\nu$ が求まります。"
     ]
    }
   ], 
   "metadata": {}
  }
 ]
}