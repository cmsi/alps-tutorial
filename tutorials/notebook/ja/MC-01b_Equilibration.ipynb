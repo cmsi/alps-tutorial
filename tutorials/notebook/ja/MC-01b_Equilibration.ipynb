{
 "metadata": {
  "name": "", 
  "signature": "sha256:8d792654feb6026f69fcfdc5fc31d46188e373e23c8cd5005ab6bf008070a9c8"
 }, 
 "nbformat": 3, 
 "nbformat_minor": 0, 
 "worksheets": [
  {
   "cells": [
    {
     "cell_type": "markdown", 
     "metadata": {}, 
     "source": [
      "# ALPS 2 Tutorials: MC-01 Equilibration\n", 
      "\n", 
      "\n", 
      "# 熱平衡化\n", 
      "\n", 
      " 一般的な経験則： 全てのモンテカルロ計算には、測定の前の熱平衡化が必要である \n", 
      "\n", 
      "## 例：局所更新古典モンテカルロ\n", 
      "\n", 
      "例として、1辺の長さ $L=48$ の正方格子上のイジング模型のモンテカルロ計算をとりあげます。\n", 
      "\n", 
      "### コマンドラインからの、計算の準備及び実行\n", 
      "\n", 
      "\n", 
      "用いるパラメータファイル [mc01b](mc01b) は以下のとおりです："
     ]
    }, 
    {
     "cell_type": "raw", 
     "metadata": {}, 
     "source": [
      "LATTICE=\"square lattice\"\n", 
      "T=2.269186\n", 
      "J=1\n", 
      "THERMALIZATION=10000\n", 
      "SWEEPS=50000  \n", 
      "UPDATE=\"local\"\n", 
      "MODEL=\"Ising\"\n", 
      "{L=48;}"
     ]
    }, 
    {
     "cell_type": "markdown", 
     "metadata": {}, 
     "source": [
      "このパラメータファイル（プレーンテキスト）を XML ファイルに変換して`spinmc` を実行します:"
     ]
    }, 
    {
     "cell_type": "code", 
     "collapsed": false, 
     "input": [
      "%%bash\n", 
      "parameter2xml mc01b\n", 
      "spinmc --Tmin 10 --write-xml mc01b.in.xml"
     ], 
     "language": "python", 
     "metadata": {}, 
     "outputs": []
    }, 
    {
     "cell_type": "markdown", 
     "metadata": {}, 
     "source": [
      "### Python を用いた計算の準備及び実行\n", 
      "\n", 
      "この節ではシミュレーションの準備・実行・プロッティングを行う Python スクリプトの説明をします。スクリプト全体は [tutorial_mc01b.py](tutorial_mc01b.py) にあります.\n", 
      "\n", 
      "まずパラメータを用意します:"
     ]
    }, 
    {
     "cell_type": "code", 
     "collapsed": false, 
     "input": [
      "import pyalps\n", 
      "\n", 
      "parms = [{\n", 
      "    'LATTICE'         : \"square lattice\",\n", 
      "    'MODEL'           : \"Ising\",\n", 
      "    'L'               : 48,\n", 
      "    'J'               : 1.,\n", 
      "    'T'               : 2.269186,\n", 
      "    'THERMALIZATION'  : 10000,\n", 
      "    'SWEEPS'          : 50000,\n", 
      "}]"
     ], 
     "language": "python", 
     "metadata": {}, 
     "outputs": []
    }, 
    {
     "cell_type": "markdown", 
     "metadata": {}, 
     "source": [
      "次にインプットファイル (XML) を書き出し、`spinmc` を実行します:"
     ]
    }, 
    {
     "cell_type": "code", 
     "collapsed": false, 
     "input": [
      "input_file = pyalps.writeInputFiles('mc01b',parms)\n", 
      "pyalps.runApplication('spinmc', input_file, Tmin=10, writexml=True)"
     ], 
     "language": "python", 
     "metadata": {}, 
     "outputs": []
    }, 
    {
     "cell_type": "markdown", 
     "metadata": {}, 
     "source": [
      "### 計算の評価とプロッティング\n", 
      "\n", 
      "すべての計算結果ファイルのリストを得ます: "
     ]
    }, 
    {
     "cell_type": "code", 
     "collapsed": false, 
     "input": [
      "files = pyalps.getResultFiles(prefix='mc01b')"
     ], 
     "language": "python", 
     "metadata": {}, 
     "outputs": []
    }, 
    {
     "cell_type": "markdown", 
     "metadata": {}, 
     "source": [
      "欲しいデータ、今回は磁化の絶対値 `|Magnetization|` の時系列を取り出します:"
     ]
    }, 
    {
     "cell_type": "code", 
     "collapsed": false, 
     "input": [
      "ts_M = pyalps.loadTimeSeries(files[0], '|Magnetization|')"
     ], 
     "language": "python", 
     "metadata": {}, 
     "outputs": []
    }, 
    {
     "cell_type": "markdown", 
     "metadata": {}, 
     "source": [
      "結果を可視化します:"
     ]
    }, 
    {
     "cell_type": "code", 
     "collapsed": false, 
     "input": [
      "import matplotlib.pyplot as plt\n", 
      "plt.plot(ts_M)\n", 
      "plt.show()"
     ], 
     "language": "python", 
     "metadata": {}, 
     "outputs": []
    }, 
    {
     "cell_type": "markdown", 
     "metadata": {}, 
     "source": [
      "時系列を見ることで、ユーザ自身の目で計算している系が平衡状態に達しているかを判断できます。"
     ]
    }, 
    {
     "cell_type": "markdown", 
     "metadata": {}, 
     "source": [
      "#### 便利なツール: pyalps.checkSteadyState\n", 
      "\n", 
      "ALPS Python には計算した物理量が熱平衡状態での値に達しているのかを見る便利なツールがあります。\n", 
      "原理を知りたい方は\n", 
      "[このページ](http://alps.comp-phys.org/mediawiki/index.php/Documentation:Monte_Carlo_Equilibration#link_equilibration_theory) を見てください.\n", 
      "\n", 
      "使い方は次のとおりです。ここでは `|Magnetization|` で調べます（信頼水準のデフォルトは 63% です）:"
     ]
    }, 
    {
     "cell_type": "code", 
     "collapsed": false, 
     "input": [
      "import pyalps\n", 
      "data = pyalps.loadMeasurements(pyalps.getResultFiles(prefix='mc01b'), '|Magnetization|')\n", 
      "data = pyalps.checkSteadyState(data)"
     ], 
     "language": "python", 
     "metadata": {}, 
     "outputs": []
    }, 
    {
     "cell_type": "markdown", 
     "metadata": {}, 
     "source": [
      "信頼水準の値を他の値、例えば 90% にしたいなら以下のようにしてください:"
     ]
    }, 
    {
     "cell_type": "code", 
     "collapsed": false, 
     "input": [
      "data = pyalps.checkSteadyState(data, confidenceInterval=0.9)"
     ], 
     "language": "python", 
     "metadata": {}, 
     "outputs": []
    }, 
    {
     "cell_type": "markdown", 
     "metadata": {}, 
     "source": [
      "# 計算の収束\n", 
      "\n", 
      "平衡化の時と同じ模型を用いて、計算の収束について説明します。\n", 
      "\n", 
      "### Python を使う\n", 
      "\n", 
      "Python を使うのは簡単です:"
     ]
    }, 
    {
     "cell_type": "code", 
     "collapsed": false, 
     "input": [
      "import pyalps\n", 
      "data = pyalps.loadMeasurements(pyalps.getResultFiles(prefix='mc01b'), '|Magnetization|');\n", 
      "data = pyalps.checkConvergence(data);"
     ], 
     "language": "python", 
     "metadata": {}, 
     "outputs": []
    }, 
    {
     "cell_type": "markdown", 
     "metadata": {}, 
     "source": [
      "&copy; 2013 by Matthias Troyer, Ping Nang M"
     ]
    }
   ], 
   "metadata": {}
  }
 ]
}