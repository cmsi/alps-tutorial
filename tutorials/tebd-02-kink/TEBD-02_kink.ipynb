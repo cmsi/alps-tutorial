{
 "metadata": {
  "name": ""
 },
 "nbformat": 3,
 "nbformat_minor": 0,
 "worksheets": [
  {
   "cells": [
    {
     "cell_type": "markdown",
     "metadata": {},
     "source": [
      "# ALPS_2_Tutorials:TEBD-02_kink"
     ]
    },
    {
     "cell_type": "markdown",
     "metadata": {},
     "source": [
      "#  Evolution of a domain Wall"
     ]
    },
    {
     "cell_type": "markdown",
     "metadata": {},
     "source": [
      "In this tutorial we will study the time evolution of a S=1/2 spin chain prepared in a nonequilibrium state.\u00a0 The particular state that we choose is that with all spins to the left of the chain center \"down\" and all of those to the right of the center \"up,\" $| \\downarrow \\downarrow \\dots \\downarrow \\uparrow \\dots \\uparrow \\uparrow\\rangle$.\u00a0 This state can be chosen as the initial state by setting INITIAL_STATE to be 'kink'.\u00a0 Some exact results are known regarding the evolution of this state under the 1D XX model, which allows for a detailed study of the errors present in TEBD."
     ]
    },
    {
     "cell_type": "markdown",
     "metadata": {},
     "source": [
      "## Exact Solution for the case of the XX model"
     ]
    },
    {
     "cell_type": "markdown",
     "metadata": {},
     "source": [
      "The time evolution of the kink initial state under the XX model was solved exactly in [Phys. Rev. E 59, 4912 (1999)](http://link.aps.org/doi/10.1103/PhysRevE.59.4912) by a Jordan-Wigner transformation to free fermions.\u00a0 It was found that the expectation value of the magnetization at any site as a function of time can be represented as a sum of Bessel functions, and the magnetization in the limit of long times and large distances from the initial domain wall approaches a scaling form in the variable $n/t $, where $n$ is the distance from the center and $t$ the time.\u00a0 Explicitly, we have"
     ]
    },
    {
     "cell_type": "markdown",
     "metadata": {},
     "source": [
      "$$ M(n,t)=-\\frac{1}{2}\\sum_{i=1-n}^{n-1}j_i^2\\left(t\\right)$$"
     ]
    },
    {
     "cell_type": "markdown",
     "metadata": {},
     "source": [
      "$$\\lim_{n\\to \\infty} \\lim_{t\\to \\infty} M(n,t)\\to \\phi\\left(n/t\\right)=-\\frac{1}{\\pi}\\arcsin\\left(n/t\\right)$$"
     ]
    },
    {
     "cell_type": "markdown",
     "metadata": {},
     "source": [
      "where $ M(n,t)$ is the magnetization a distance $n$ from the center and $ j_i(t)$ is the Bessel function of order $i $.  In the first part of this tutorial we demonstrate these two results."
     ]
    },
    {
     "cell_type": "markdown",
     "metadata": {},
     "source": [
      "###Preparing and running the simulation using Python"
     ]
    },
    {
     "cell_type": "markdown",
     "metadata": {},
     "source": [
      "To set up and run the simulation in Python we use the script tutorial2a.py. The first parts of this script imports the required modules and prepares the input files as a list of Python dictionaries:"
     ]
    },
    {
     "cell_type": "code",
     "collapsed": false,
     "input": [
      "import pyalps\n",
      "import matplotlib.pyplot as plt\n",
      "import pyalps.plot\n",
      "import numpy as np\n",
      "import copy\n",
      "import math\n",
      "import scipy.special\n",
      "\n",
      "#prepare the input parameters\n",
      "parms = [{ \n",
      "         'L'                         : 50,\n",
      "         'MODEL'                     : 'spin',\n",
      "         'local_S'                   : 0.5,\n",
      "         'CONSERVED_QUANTUMNUMBERS'  : 'Sz_total',\n",
      "         'Jxy'                         : 1,\n",
      "         'INITIAL_STATE' : 'kink',\n",
      "         'CHI_LIMIT' : 40,\n",
      "         'TRUNC_LIMIT' : 1E-12,\n",
      "         'NUM_THREADS' : 1,\n",
      "         'TAUS' : [20.0],\n",
      "         'POWS' : [0.0],\n",
      "         'GS' : ['H'],\n",
      "         'GIS' : [0.0],\n",
      "         'GFS' : [0.0],\n",
      "         'NUMSTEPS' : [500],\n",
      "         'STEPSFORSTORE' : [2]\n",
      "       }]"
     ],
     "language": "python",
     "metadata": {},
     "outputs": []
    },
    {
     "cell_type": "markdown",
     "metadata": {},
     "source": [
      "The math and scipy.special modules are required to generate the special functions needed to compare with the exact solution.\u00a0 Note that we have chosen POWS to be zero, which corresponds to no quenching at all.\u00a0 Thus, the values of GS, GIS, and GFS are arbitrary, and TAUS and NUMSTEPS give us the total simulation time and the number of time steps, respectively.  We write the input files, run the simulation, and get the output as usual:"
     ]
    },
    {
     "cell_type": "code",
     "collapsed": false,
     "input": [
      "baseName='tutorial_2a'\n",
      "nmlname=pyalps.writeTEBDfiles(parms, baseName)\n",
      "res=pyalps.runTEBD(nmlname)\n",
      "\n",
      "#Get the results of the simulation\n",
      "Data=pyalps.load.loadTimeEvolution(pyalps.getResultFiles(prefix='tutorial_2a'), measurements=['Local Magnetization'])"
     ],
     "language": "python",
     "metadata": {},
     "outputs": []
    },
    {
     "cell_type": "markdown",
     "metadata": {},
     "source": [
      "We now must postprocess the raw output to compare with the exact solution.  To do this we first define empty arrays to hold the postprocessed data "
     ]
    },
    {
     "cell_type": "code",
     "collapsed": false,
     "input": [
      "#define a dataset numericalSolution to contain the numerical result\n",
      "numericalResult=[]\n",
      "#define a dataset exactSolution to contain the exact solution\n",
      "exactResult=[]\n",
      "#define a dataset scalingForm to contain the scaling form\n",
      "scalingForm=[]"
     ],
     "language": "python",
     "metadata": {},
     "outputs": []
    },
    {
     "cell_type": "markdown",
     "metadata": {},
     "source": [
      "we then calculate the exact result from the time data, and use the computed values of the magnetization at each site to compare with the exact solution."
     ]
    },
    {
     "cell_type": "code",
     "collapsed": false,
     "input": [
      "#Compute the exact result M(n,t)=<S_n^z>=-(1/2)*sum_{i=1-n}^{n-1} j_i(t)^2, where\n",
      "# j_i(t) is the Bessel function of order i and compare to the numerically obtained result\n",
      "for q in Data:\n",
      "        syssize=q[0].props['L']\n",
      "        #Assign a label 'Distance' denoting the distance from the center n (only do the first two sites\n",
      "        #to avoid cluttering the plot)\n",
      "        for n in range(1,3):\n",
      "                #Create copies of the data for postprocessing\n",
      "                numericalCopy=copy.deepcopy(q)\n",
      "                exactCopy=copy.deepcopy(q)\n",
      "                \n",
      "                numericalCopy[0].props['Distance']=n\n",
      "                numericalCopy[0].props['SIMID']='Numerical at n='+str(n)\n",
      "                exactCopy[0].props['Distance']=n\n",
      "                exactCopy[0].props['SIMID']='Exact at n='+str(n)\n",
      " \n",
      "                #compute the exact result of the manetization n sites from the center\n",
      "                loc=0.0\n",
      "                for i in range(1-n,n):\n",
      "                        loc-=0.5*scipy.special.jn(i,q[0].props['Time'])*scipy.special.jn(i,q[0].props['Time'])                        \n",
      "                exactCopy[0].y=[loc]\n",
      "                #add to the the exact dataset\n",
      "                exactResult.extend(exactCopy)\n",
      " \n",
      "                #get the numerical result of the magnetization n sites from the center\n",
      "                numericalCopy[0].y=[q[0].y[syssize/2+n-1]]\n",
      "                #add to the the numerical dataset\n",
      "                numericalResult.extend(numericalCopy)"
     ],
     "language": "python",
     "metadata": {},
     "outputs": []
    },
    {
     "cell_type": "markdown",
     "metadata": {},
     "source": [
      "Next, we calculate the exact scaling function, and then compute magnetization as a function of the scaling variable $ n/t$ to compare with the exact solution"
     ]
    },
    {
     "cell_type": "code",
     "collapsed": false,
     "input": [
      "#compute the scaling form\n",
      "# \\phi(n/t)=-(1/pi)*arcsin(n/t) that M(n,t) approaches as n->infinity and t->infinity\n",
      "# and compare it with the numerically computed values of M(n/t)\n",
      "for q in Data:\n",
      "        syssize=q[0].props['L']\n",
      "        #Assign a label 'Distance' denoting the distance from the center n (only do the first few sites\n",
      "        #to avoid cluttering the plot)\n",
      "        for n in range(0,5):\n",
      "                #Create a copy of the data for postprocessing\n",
      "                scalingCopy=copy.deepcopy(q)\n",
      "                scalingCopy[0].props['Distance']=n\n",
      " \n",
      "                #The first distance contains the exact scaling form \\phi(n/t)=-(1/pi)*arcsin(n/t)\n",
      "                if n==0:\n",
      "                        scalingCopy[0].props['Time']=1.0/scalingCopy[0].props['Time']\n",
      "                        scalingCopy[0].y=[-(1.0/3.1415926)*math.asin(min(scalingCopy[0].props['Time'],1.0))]\n",
      "\t                scalingCopy[0].props['SIMID']='Exact'\n",
      " \n",
      "                #The other distances contain the numerical data as a function of the scaling variable M(n/t)\n",
      "                else:\n",
      "                        scalingCopy[0].props['Time']=n/scalingCopy[0].props['Time']\n",
      "                        scalingCopy[0].y=[scalingCopy[0].y[syssize/2+n-1] ]\n",
      "\t                scalingCopy[0].props['SIMID']='Numerical at n='+str(n)\n",
      "                #add to the scaling dataset\n",
      "                scalingForm.extend(scalingCopy)"
     ],
     "language": "python",
     "metadata": {},
     "outputs": []
    },
    {
     "cell_type": "markdown",
     "metadata": {},
     "source": [
      "Finally, we plot the exact and numerical results for comparison."
     ]
    },
    {
     "cell_type": "code",
     "collapsed": false,
     "input": [
      "#Plot the numerical and exact magnetization for comparison\n",
      "exactMag=pyalps.collectXY(exactResult, x='Time', y='Local Magnetization',foreach=['SIMID'])\n",
      "for q in exactMag:\n",
      "\tq.props['label']=q.props['SIMID']\n",
      "numericalMag=pyalps.collectXY(numericalResult, x='Time', y='Local Magnetization',foreach=['SIMID'])\n",
      "for q in numericalMag:\n",
      "\tq.props['label']=q.props['SIMID']\n",
      " \n",
      "plt.figure()\n",
      "pyalps.plot.plot([exactMag, numericalMag])\n",
      "plt.xlabel('Time $t$')\n",
      "plt.ylabel('Magnetization')\n",
      "plt.legend(loc='lower right')\n",
      "plt.title('Magnetization vs. time')\n",
      "\n",
      "#Plot the scaling form with the numerical data for comparison\n",
      "Scal=pyalps.collectXY(scalingForm, x='Time', y='Local Magnetization', foreach=['SIMID'])\n",
      "for q in Scal:\n",
      "\tq.props['label']=q.props['SIMID']\n",
      "\n",
      "plt.figure()\n",
      "pyalps.plot.plot(Scal)\n",
      "plt.xlabel('Scaling variable $n/t$')\n",
      "plt.ylabel('Magnetization$(n,t)$')\n",
      "plt.legend()\n",
      "plt.xlim(0,1.5)\n",
      "plt.title('Magnetization scaling function; numerical and exact results')\n",
      "plt.show()"
     ],
     "language": "python",
     "metadata": {},
     "outputs": []
    },
    {
     "cell_type": "markdown",
     "metadata": {},
     "source": [
      "We see that the magnetization agrees very well to visual accuracy, and approaches the exact scaling form in the relevant limit."
     ]
    },
    {
     "cell_type": "markdown",
     "metadata": {},
     "source": [
      "###Preparing and running the simulation using Vistrails"
     ]
    },
    {
     "cell_type": "markdown",
     "metadata": {},
     "source": [
      "To run the simulation in Vistrails open the file tutorial2a.vt and look at the workflow labeled \"tutorial2a\". Click on \"Execute\" to prepare the input file, run the simulation and create the output figure"
     ]
    },
    {
     "cell_type": "markdown",
     "metadata": {},
     "source": [
      "## Error analysis of TEBD 1:Time step error"
     ]
    },
    {
     "cell_type": "markdown",
     "metadata": {},
     "source": [
      "We now use the exact solution to compute the error in a TEBD simulation as a function of time.  We first investigate the effects of changing the \"infinitesimal\" time step dt."
     ]
    },
    {
     "cell_type": "markdown",
     "metadata": {},
     "source": [
      "###Preparing and running the simulation using Python"
     ]
    },
    {
     "cell_type": "markdown",
     "metadata": {},
     "source": [
      "To set up and run the simulation in Python we use the script tutorial2b.py. The first parts of this script imports the required modules and prepares the input files as a list of Python dictionaries:"
     ]
    },
    {
     "cell_type": "code",
     "collapsed": false,
     "input": [
      "import pyalps\n",
      "import matplotlib.pyplot as plt\n",
      "import pyalps.plot\n",
      "import numpy as np\n",
      "import math\n",
      "import scipy.special\n",
      "\n",
      "#prepare the input parameters\n",
      "parms=[]\n",
      "count=0\n",
      "for nsteps in [100, 250, 500, 750, 1000]:\n",
      "       count+=1\n",
      "       parms.append({ \n",
      "                 'L'                         : 50,\n",
      "                 'MODEL'                     : 'spin',\n",
      "                 'local_S'                   : 0.5,\n",
      "                 'CONSERVED_QUANTUMNUMBERS'  : 'Sz_total',\n",
      "                 'Jxy'                         : 1,\n",
      "                 'INITIAL_STATE' : 'kink',\n",
      "                 'CHI_LIMIT' : 20,\n",
      "                 'TRUNC_LIMIT' : 1E-12,\n",
      "                 'NUM_THREADS' : 1,\n",
      "                 'TAUS' : [20.0],\n",
      "                 'POWS' : [0.0],\n",
      "                 'GS' : ['H'],\n",
      "                 'GIS' : [0.0],\n",
      "                 'GFS' : [0.0],\n",
      "                 'NUMSTEPS' : [nsteps],\n",
      "                 'STEPSFORSTORE' : [int(math.floor(nsteps/100))],\n",
      "                 'SIMID': count\n",
      "               })"
     ],
     "language": "python",
     "metadata": {},
     "outputs": []
    },
    {
     "cell_type": "markdown",
     "metadata": {},
     "source": [
      "By changing the parameter NUMSTEPS we implicitly change the time step, since the total evolution time TAU is fixed.  We now write the input files, run the simulations, and collect data:"
     ]
    },
    {
     "cell_type": "code",
     "collapsed": false,
     "input": [
      "baseName='tutorial_2b_'\n",
      "nmlnameList=pyalps.writeTEBDfiles(parms, baseName)\n",
      "res=pyalps.runTEBD(nmlnameList)\n",
      "\n",
      "#Get magnetization data\n",
      "Magdata=pyalps.load.loadTimeEvolution( pyalps.getResultFiles(prefix='tutorial_2b'), measurements=['Local Magnetization'])"
     ],
     "language": "python",
     "metadata": {},
     "outputs": []
    },
    {
     "cell_type": "markdown",
     "metadata": {},
     "source": [
      "We now calculate the exact result from the time data, and then calculate the difference between the numerical and the exact result for the magnetization"
     ]
    },
    {
     "cell_type": "code",
     "collapsed": false,
     "input": [
      "#Postprocessing-get the exact result for comparison\n",
      "for q in Magdata:\n",
      "        syssize=q[0].props['L']\n",
      "        #Get the exact result of M(1,t)=-(1/2)*(j_0(t)^2), where j_0(t) is the 0^{th} order\n",
      "        # bessel function and M(1,t) is the magnetization one site to the right of the chain center\n",
      "        loc=-0.5*scipy.special.jn(0,q[0].props['Time'])*scipy.special.jn(0,q[0].props['Time'])\n",
      "        #Get the difference between the computed and exact results\n",
      "        q[0].y=[abs(q[0].y[syssize/2+1-1]-loc)]"
     ],
     "language": "python",
     "metadata": {},
     "outputs": []
    },
    {
     "cell_type": "markdown",
     "metadata": {},
     "source": [
      "Finally, we plot this magnetization error:"
     ]
    },
    {
     "cell_type": "code",
     "collapsed": false,
     "input": [
      "#Plot the Error in the magnetization one site to the right of the chain center\n",
      "Mag=pyalps.collectXY(Magdata, x='Time', y='Local Magnetization', foreach=['SIMID'])\n",
      "for q in Mag:\n",
      "\tdt=round(q.props['TAUS']/q.props['NUMSTEPS'],3)\n",
      "\tq.props['label']='dt='+str(dt)\n",
      "\n",
      "plt.figure()\n",
      "pyalps.plot.plot(Mag)\n",
      "plt.xlabel('Time $t$')\n",
      "plt.yscale('log')\n",
      "plt.ylabel('Magnetization Error')\n",
      "plt.title('Error in the magnetization vs. time')\n",
      "plt.legend(loc='lower left')\n",
      "plt.show()"
     ],
     "language": "python",
     "metadata": {},
     "outputs": []
    },
    {
     "cell_type": "markdown",
     "metadata": {},
     "source": [
      "We see that, for short times, the errors are roughly proportional to dt^2, reflecting the contribution to the error from the trotter breakup of our exponential.  At long times, however, the simulations with the smallest dt have errors which become larger than those with larger dt, and eventually the errors blow up!  We will have more to say about this behavior in the next section."
     ]
    },
    {
     "cell_type": "markdown",
     "metadata": {},
     "source": [
      "###Preparing and running the simulation using Vistrails"
     ]
    },
    {
     "cell_type": "markdown",
     "metadata": {},
     "source": [
      "To run the simulation in Vistrails open the file tutorial2b.vt and look at the workflow labeled \"tutorial2b\". Click on \"Execute\" to prepare the input file, run the simulation and create the output figure"
     ]
    },
    {
     "cell_type": "markdown",
     "metadata": {},
     "source": [
      "## Error analysis of TEBD 2:Entanglement cutoff error"
     ]
    },
    {
     "cell_type": "markdown",
     "metadata": {},
     "source": [
      "We now investigate the effects of changing the entanglement cutoff parameter $ \\chi $ on the errors in the magnetization."
     ]
    },
    {
     "cell_type": "markdown",
     "metadata": {},
     "source": [
      "###Preparing and running the simulation using Python"
     ]
    },
    {
     "cell_type": "markdown",
     "metadata": {},
     "source": [
      "To set up and run the simulation in Python we use the script tutorial2c.py. The first parts of this script imports the required modules and prepares the input files as a list of Python dictionaries:"
     ]
    },
    {
     "cell_type": "code",
     "collapsed": false,
     "input": [
      "import pyalps\n",
      "import matplotlib.pyplot as plt\n",
      "import pyalps.plot\n",
      "import math\n",
      "import scipy.special\n",
      "\n",
      "#prepare the input parameters\n",
      "parms=[]\n",
      "count=0\n",
      "for chi in [10, 20, 30, 40]:\n",
      "       count+=1\n",
      "       parms.append({ \n",
      "                 'L'                         : 50,\n",
      "                 'MODEL'                     : 'spin',\n",
      "                 'local_S'                   : 0.5,\n",
      "                 'CONSERVED_QUANTUMNUMBERS'  : 'Sz_total',\n",
      "                 'Jxy'                         : 1,\n",
      "                 'INITIAL_STATE' : 'kink',\n",
      "                 'CHI_LIMIT' : chi,\n",
      "                 'TRUNC_LIMIT' : 1E-12,\n",
      "                 'NUM_THREADS' : 1,\n",
      "                 'TAUS' : [20.0],\n",
      "                 'POWS' : [0.0],\n",
      "                 'GS' : ['H'],\n",
      "                 'GIS' : [0.0],\n",
      "                 'GFS' : [0.0],\n",
      "                 'NUMSTEPS' : [500],\n",
      "                 'STEPSFORSTORE' : [5],\n",
      "                 'SIMID': count\n",
      "               })"
     ],
     "language": "python",
     "metadata": {},
     "outputs": []
    },
    {
     "cell_type": "markdown",
     "metadata": {},
     "source": [
      "We now write the input files, run the simulations, collect data, and compute the errors as above"
     ]
    },
    {
     "cell_type": "code",
     "collapsed": false,
     "input": [
      "baseName='tutorial_2c_'\n",
      "nmlnameList=pyalps.writeTEBDfiles(parms, baseName)\n",
      "res=pyalps.runTEBD(nmlnameList)\n",
      " \n",
      "#Get magnetization data\n",
      "Magdata=pyalps.load.loadTimeEvolution( pyalps.getResultFiles(prefix='tutorial_2c'), measurements=['Local Magnetization'])\n",
      " \n",
      "#Postprocessing-get the exact result for comparison\n",
      "for q in Magdata:\n",
      "        syssize=q[0].props['L']\n",
      "        #Get the exact result of M(1,t)=-(1/2)*(j_0(t)^2), where j_0(t) is the 0^{th} order\n",
      "        # bessel function and M(1,t) is the magnetization one site to the right of the chain center\n",
      "        loc=-0.5*scipy.special.jn(0,q[0].props['Time'])*scipy.special.jn(0,q[0].props['Time'])\n",
      "        #Get the difference between the computed and exact results\n",
      "        q[0].y=[abs(q[0].y[syssize/2+1-1]-loc)]"
     ],
     "language": "python",
     "metadata": {},
     "outputs": []
    },
    {
     "cell_type": "markdown",
     "metadata": {},
     "source": [
      "Finally, we plot the magnetization error"
     ]
    },
    {
     "cell_type": "code",
     "collapsed": false,
     "input": [
      "#Plot the Error in the magnetization one site to the right of the chain center\n",
      "Mag=pyalps.collectXY(Magdata, x='Time', y='Local Magnetization', foreach=['SIMID'])\n",
      "for q in Mag:\n",
      "\tq.props['label']='$\\chi$='+str(q.props['CHI_LIMIT'])\n",
      "plt.figure()\n",
      "pyalps.plot.plot(Mag)\n",
      "plt.xlabel('Time $t$')\n",
      "plt.yscale('log')\n",
      "plt.ylabel('Magnetization Error')\n",
      "plt.title('Error in the magnetization vs. time')\n",
      "plt.legend(loc='lower left')\n",
      "plt.show()"
     ],
     "language": "python",
     "metadata": {},
     "outputs": []
    },
    {
     "cell_type": "markdown",
     "metadata": {},
     "source": [
      "We see that, for short times, the errors are roughly proportional to dt^2, again reflecting the contribution to the error from the trotter breakup of our exponential.  As time increases, however, a cascade of diverging errors ensues.  First the simulation with $ \\chi=10 $ diverges around $ t=5$, then the simulation with $ \\chi=20 $ diverges around $ t=9$ and so on.  This breakdown is due to the fact that the protocol for finding the matrix product state which best approximates the time-evolved state is approximate when the state becomes highly entangled.  This approximation involves a renormalization of the wavefunction, and so the errors accumulate roughly exponentially in time."
     ]
    },
    {
     "cell_type": "markdown",
     "metadata": {},
     "source": [
      "This exponential growth of errors also accounts for the failure of the simulations with smaller dt.  As dt becomes smaller we must apply the approximate propagation scheme more to reach the same fixed final time, and this means more accumulation of the exponentially growing truncation error.  Thus, we must strike a delicate balance between the error incurred by increasing the time step and the error incurred by taking more time steps.  All results should be carefully checked for convergence in both dt and $ \\chi $."
     ]
    },
    {
     "cell_type": "markdown",
     "metadata": {},
     "source": [
      "###Preparing and running the simulation using Vistrails"
     ]
    },
    {
     "cell_type": "markdown",
     "metadata": {},
     "source": [
      "To run the simulation in Vistrails open the file tutorial2c.vt and look at the workflow labeled \"tutorial2c\". Click on \"Execute\" to prepare the input file, run the simulation and create the output figure"
     ]
    },
    {
     "cell_type": "markdown",
     "metadata": {},
     "source": [
      "## Solution in the case of the XXZ model"
     ]
    },
    {
     "cell_type": "markdown",
     "metadata": {},
     "source": [
      "We saw from the exact solution that the magnetization profile had a well defined front which expanded ballistically with velocity $ v=1 $.  The XX model has many special properties and so it is natural to ask if this same magnetization behavior holds under more general conditions.  In this part of the tutorial we investigate the effects of adding a $ J_z S_i^z S_{i+1}^z $ term to the Hamiltonian, corresponding to the XXZ model.  In the limit as this term dominates the spins become frozen in a parallel configuration, and so the initial state becomes an exact eigenstate of the Hamiltonian.  The XX terms in the Hamiltonian try to flip the spins, and are responsible for the propagating magnetization wavefront we saw in the pure XX model.  As a quantitative measure of the ability of the system to transport spin, we consider the integrated flow of magnetization through the center defined in [Phys. Rev. E 71 036102(2005)](http://pre.aps.org/abstract/PRE/v71/i3/e036102) as"
     ]
    },
    {
     "cell_type": "markdown",
     "metadata": {},
     "source": [
      "$$ \\Delta M(t)=\\sum_{n>L/2}^{L} (\\langle S_n^z(t)\\rangle+1/2) $$"
     ]
    },
    {
     "cell_type": "markdown",
     "metadata": {},
     "source": [
      "###Preparing and running the simulation using Python"
     ]
    },
    {
     "cell_type": "markdown",
     "metadata": {},
     "source": [
      "To set up and run the simulation in Python we use the script tutorial2d.py. The first parts of this script imports the required modules and prepares the input files as a list of Python dictionaries:"
     ]
    },
    {
     "cell_type": "code",
     "collapsed": false,
     "input": [
      "import pyalps\n",
      "import matplotlib.pyplot as plt\n",
      "import pyalps.plot\n",
      "import math\n",
      "import scipy.special\n",
      "\n",
      "#prepare the input parameters\n",
      "parms=[]\n",
      "count=0\n",
      "for z in [0.0, 0.3, 0.9, 1.0, 1.1, 1.5]:\n",
      "\tcount+=1\n",
      "\tparms.append({ \n",
      "\t          'L'                         : 50,\n",
      "\t          'MODEL'                     : 'spin',\n",
      "\t          'local_S'                   : 0.5,\n",
      "\t          'CONSERVED_QUANTUMNUMBERS'  : 'Sz_total',\n",
      "\t          'Jxy'                         : 1,\n",
      "\t          'Jz'                         : z,\n",
      "\t\t  'INITIAL_STATE' : 'kink',\n",
      "\t\t  'CHI_LIMIT' : 40,\n",
      "\t\t  'TRUNC_LIMIT' : 1E-12,\n",
      "\t\t  'NUM_THREADS' : 1,\n",
      "\t\t  'TAUS' : [20.0],\n",
      "\t\t  'POWS' : [0.0],\n",
      "\t\t  'GS' : ['H'],\n",
      "\t\t  'GIS' : [0.0],\n",
      "\t\t  'GFS' : [0.0],\n",
      "\t\t  'NUMSTEPS' : [500],\n",
      "\t\t  'STEPSFORSTORE' : [5],\n",
      "\t\t  'SIMID': count\n",
      "\t        })"
     ],
     "language": "python",
     "metadata": {},
     "outputs": []
    },
    {
     "cell_type": "markdown",
     "metadata": {},
     "source": [
      "Note that we are simulating a range of Jz-couplings.  We then write the input files, run the simulation, and get the output as usual:"
     ]
    },
    {
     "cell_type": "code",
     "collapsed": false,
     "input": [
      "baseName='tutorial_2d'\n",
      "nmlnameList=pyalps.writeTEBDfiles(parms, baseName)\n",
      "res=pyalps.runTEBD(nmlnameList)\n",
      "\n",
      "#Get magnetization data\n",
      "Magdata=pyalps.load.loadTimeEvolution( pyalps.getResultFiles(prefix='tutorial_2d'), measurements=['Local Magnetization'])"
     ],
     "language": "python",
     "metadata": {},
     "outputs": []
    },
    {
     "cell_type": "markdown",
     "metadata": {},
     "source": [
      "From the computed magnetization data we calculate the integrated magnetization as defined above:"
     ]
    },
    {
     "cell_type": "code",
     "collapsed": false,
     "input": [
      "#Compute the integrated magnetization across the center\n",
      "for q in Magdata:\n",
      "\tsyssize=q[0].props['L']\n",
      "\t#Compute the integrated flow of magnetization through the center \\Delta M=\\sum_{n>L/2}^{L} (<S_n^z(t)>+1/2)\n",
      "\t#\\Delta M= L/4\n",
      "\tloc=0.5*(syssize/2)\n",
      "\t#\\Delta M-=<S_n^z(t)> from n=L/2 to L\n",
      "\tq[0].y=[0.5*(syssize/2)+sum(q[0].y[syssize/2:syssize])] "
     ],
     "language": "python",
     "metadata": {},
     "outputs": []
    },
    {
     "cell_type": "markdown",
     "metadata": {},
     "source": [
      "Finally, we plot the integrated magnetization for the range of Jz couplings simulated."
     ]
    },
    {
     "cell_type": "code",
     "collapsed": false,
     "input": [
      "#Plot the integrated magnetization\n",
      "Mag=pyalps.collectXY(Magdata, x='Time', y='Local Magnetization', foreach=['Jz'])\n",
      "\n",
      "plt.figure()\n",
      "pyalps.plot.plot(Mag)\n",
      "plt.xlabel('Time $t$')\n",
      "plt.ylabel('Integrated Magnetization $\\Delta M(t)$')\n",
      "plt.title('Integrated Magnetization vs. Time')\n",
      "plt.legend(loc='upper left')\n",
      "plt.show()"
     ],
     "language": "python",
     "metadata": {},
     "outputs": []
    },
    {
     "cell_type": "markdown",
     "metadata": {},
     "source": [
      "We see that for Jz<1 the integrated magnetization increases roughly linearly in time, and so the magnetization transport is ballistic as in the XX case.  For Jz around 1, we see a change in the qualitative behavior to one in which the integrated magnetization eventually saturates."
     ]
    },
    {
     "cell_type": "markdown",
     "metadata": {},
     "source": [
      "###Preparing and running the simulation using Vistrails"
     ]
    },
    {
     "cell_type": "markdown",
     "metadata": {},
     "source": [
      "To run the simulation in Vistrails open the file tutorial2d.vt and look at the workflow labeled \"tutorial2d\". Click on \"Execute\" to prepare the input file, run the simulation and create the output figure"
     ]
    },
    {
     "cell_type": "markdown",
     "metadata": {},
     "source": [
      "### Questions "
     ]
    },
    {
     "cell_type": "markdown",
     "metadata": {},
     "source": [
      "* The point Jz=1 where the behavior of the integrated magnetization undergoes a distinct qualitative change is the point at which the XXZ model transitions from a critical phase to the Antiferromagnetic phase.  However, this phase transition is a priori a low-energy phenomenon, affecting the ground state.  Can you deduce how this low energy change affects the dynamical properties of our high-energy initial state"
     ]
    }
   ],
   "metadata": {}
  }
 ]
}