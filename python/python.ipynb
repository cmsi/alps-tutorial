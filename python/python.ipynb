{
 "metadata": {
  "name": "",
  "signature": "sha256:59a453ebb740476a053797ffe437347db24345b1c6ed81b534f72d6188164adb"
 },
 "nbformat": 3,
 "nbformat_minor": 0,
 "worksheets": [
  {
   "cells": [
    {
     "cell_type": "markdown",
     "metadata": {},
     "source": [
      "# ALPSチュートリアル: Python\n",
      "\n",
      "**ALPS Python を使うための Python 入門**\n",
      "\n",
      "- CMSI 神戸ハンズオン\n",
      "- ALPS Collaboration http://alps.comp-phys.org\n",
      "\n",
      "## TOC\n",
      "\n",
      "- Python とは\n",
      "- 組み込みデータ型\n",
      "- 制御フロー\n",
      "- 関数を定義する\n",
      "- クラスを定義する\n",
      "- モジュールの利用\n",
      "- ファイル入出力\n",
      "- すべてはオブジェクト\n",
      "  - リストのコピー"
     ]
    },
    {
     "cell_type": "markdown",
     "metadata": {},
     "source": [
      "## Python とは\n",
      "- オブジェクト指向もできるインタープリタ型のプログラミング言語\n",
      "- 海外では流行している (最近では日本でも?)\n",
      "- 文法が簡単\n",
      "- 科学技術計算用のライブラリが揃っている (**Numpy**, **Matplotlib**, Scipy, Sympy, pandas)\n",
      "- HPC Python!\n",
      "- 現在使われている Python のバージョンは 3.X系と 2.7系がメジャー\n",
      "  - なぜか 2.7系のユーザが消えない・・・\n",
      "\n",
      "**このコースで扱う Python のバージョンは 2.7系です．**\n",
      "**これは ALPS Python が 2.7系対応であるためです．**"
     ]
    },
    {
     "cell_type": "markdown",
     "metadata": {},
     "source": [
      "## 組み込みデータ型\n",
      "\n",
      "このセクションでは Python で使われる組み込みデータ型のうち，よく使うものを紹介します．\n",
      "\n",
      "- str\n",
      "- int\n",
      "- float\n",
      "- complex\n",
      "- list\n",
      "- tuple\n",
      "- dictionary\n",
      "- set\n",
      "- bool"
     ]
    },
    {
     "cell_type": "markdown",
     "metadata": {},
     "source": [
      "### 文字列"
     ]
    },
    {
     "cell_type": "markdown",
     "metadata": {},
     "source": [
      "**文字列の定義:**"
     ]
    },
    {
     "cell_type": "code",
     "collapsed": false,
     "input": [
      "s1 = 'abcdef'"
     ],
     "language": "python",
     "metadata": {},
     "outputs": []
    },
    {
     "cell_type": "markdown",
     "metadata": {},
     "source": [
      "- シングルクォートのペア'...'もしくはダブルクォートのペア\"...\"で囲った文字列で定義できます．\n",
      "  - 一般的に，シェルプログラムではシングル・ダブルでプログラムの挙動がかわりますが，python ではどちらも同じ意味です．\n",
      "- 複数行の文字列は '''...''' もしくは \"\"\"...\"\"\" で囲むことで記述できます．"
     ]
    },
    {
     "cell_type": "markdown",
     "metadata": {},
     "source": [
      "**文字列の結合:**"
     ]
    },
    {
     "cell_type": "code",
     "collapsed": false,
     "input": [
      "s2 = 'a' + 'b' + 'c'\n",
      "print s2"
     ],
     "language": "python",
     "metadata": {},
     "outputs": []
    },
    {
     "cell_type": "markdown",
     "metadata": {},
     "source": [
      "**文字の一部を取り出す:**"
     ]
    },
    {
     "cell_type": "code",
     "collapsed": false,
     "input": [
      "print '文字列全体:', s1\n",
      "print '1文字取り出す:', s1[0], s1[1], s1[-1]\n",
      "print '一部取り出す:', s1[2:-1]"
     ],
     "language": "python",
     "metadata": {},
     "outputs": []
    },
    {
     "cell_type": "markdown",
     "metadata": {},
     "source": [
      "- 配列のように `[]` を使って一部を取り出せます．\n",
      "  - インデックスは 0 番からはじまります\n",
      "  - 負符号のインデックスを使うと後ろから数えた番号になります．"
     ]
    },
    {
     "cell_type": "markdown",
     "metadata": {},
     "source": [
      "#### 文字列のメソッド\n",
      "\n",
      "- 文字列を操作するための関数(メソッド)は豊富にあります\n",
      "  - **メソッド**の意味はクラスの説明のときに行います．"
     ]
    },
    {
     "cell_type": "markdown",
     "metadata": {},
     "source": [
      "#### 文字列の操作を行うモジュール\n",
      "\n",
      "Python では文字列操作を行う方法が標準のモジュールとして豊富に準備されています．\n",
      "\n",
      "- パターンマッチング (正規表現) による文字列操作\n",
      "- 構造化されたテキスト (HTML や XML) の操作 \n",
      "\n",
      "などなど．"
     ]
    },
    {
     "cell_type": "markdown",
     "metadata": {},
     "source": [
      "### `int`\n",
      "\n",
      "整数型です．Python2 では `long` も存在しますが python3 では `int` に統合されています．"
     ]
    },
    {
     "cell_type": "code",
     "collapsed": false,
     "input": [
      "a  = 1\n",
      "al = 1L\n",
      "print 'type of a: ', type(a)\n",
      "print 'type of al:', type(al)"
     ],
     "language": "python",
     "metadata": {},
     "outputs": []
    },
    {
     "cell_type": "markdown",
     "metadata": {},
     "source": [
      "### float\n",
      "\n",
      "浮動小数は倍精度のみです．単精度浮動小数はありません．"
     ]
    },
    {
     "cell_type": "code",
     "collapsed": false,
     "input": [
      "a = 1.25\n",
      "print 'type of a:', type(a)"
     ],
     "language": "python",
     "metadata": {},
     "outputs": []
    },
    {
     "cell_type": "markdown",
     "metadata": {},
     "source": [
      "### complex\n",
      "\n",
      "虚数は虚部を `j` もしくは `J` で表します．また，虚数から実部，虚部を取り出すことも可能です．"
     ]
    },
    {
     "cell_type": "code",
     "collapsed": false,
     "input": [
      "c = 1 + 0.8j\n",
      "r = c.real\n",
      "i = c.imag\n",
      "c2 = c*c.conjugate()\n",
      "\n",
      "print( c, r, i, c2)"
     ],
     "language": "python",
     "metadata": {},
     "outputs": []
    },
    {
     "cell_type": "markdown",
     "metadata": {},
     "source": [
      "###list\n",
      "\n",
      "- `[...]` で囲み，要素間は `,` で区切って定義します\n",
      "- Python オブジェクトならなんでもリストの要素にできます\n",
      "  - リストの要素の種類は混ぜても問題ないです．例えば `int` と `str` が混在できます．"
     ]
    },
    {
     "cell_type": "code",
     "collapsed": false,
     "input": [
      "a = [1, 'moji', 3.14, [1, 'nested', 3]]"
     ],
     "language": "python",
     "metadata": {},
     "outputs": []
    },
    {
     "cell_type": "code",
     "collapsed": false,
     "input": [
      "a[0]"
     ],
     "language": "python",
     "metadata": {},
     "outputs": []
    },
    {
     "cell_type": "markdown",
     "metadata": {},
     "source": [
      "ネストしたリストで多次元配列もつくれます"
     ]
    },
    {
     "cell_type": "code",
     "collapsed": false,
     "input": [
      "a[3][1]"
     ],
     "language": "python",
     "metadata": {},
     "outputs": []
    },
    {
     "cell_type": "markdown",
     "metadata": {},
     "source": [
      "#### list のメソッド\n",
      "\n",
      "いずれの操作も操作対象のリストを変更します．\n"
     ]
    },
    {
     "cell_type": "code",
     "collapsed": false,
     "input": [
      "a = [3, 6, 4, 1, 5, 2]"
     ],
     "language": "python",
     "metadata": {},
     "outputs": []
    },
    {
     "cell_type": "markdown",
     "metadata": {},
     "source": [
      "**ソート:**"
     ]
    },
    {
     "cell_type": "code",
     "collapsed": false,
     "input": [
      "a.sort()\n",
      "print a"
     ],
     "language": "python",
     "metadata": {},
     "outputs": []
    },
    {
     "cell_type": "markdown",
     "metadata": {},
     "source": [
      "**順序の反転:**"
     ]
    },
    {
     "cell_type": "code",
     "collapsed": false,
     "input": [
      "a.reverse()\n",
      "print a"
     ],
     "language": "python",
     "metadata": {},
     "outputs": []
    },
    {
     "cell_type": "markdown",
     "metadata": {},
     "source": [
      "**最後尾の要素を削除:**"
     ]
    },
    {
     "cell_type": "code",
     "collapsed": false,
     "input": [
      "a.pop()\n",
      "print a"
     ],
     "language": "python",
     "metadata": {},
     "outputs": []
    },
    {
     "cell_type": "markdown",
     "metadata": {},
     "source": [
      "### tuple\n",
      "\n",
      "- list と同様 python オブジェクトの配列を作成するためのデータ型です．\n",
      "- list と異なり，tuple は一旦定義すると**変更することはできません**．\n",
      "  - それにともない tuple 自身を変更するメソッドは定義されていません．\n",
      "  - つまり list で紹介した sort や reverse といったメソッドはありません．\n",
      "  - 変更したくない配列を作成するのに適している"
     ]
    },
    {
     "cell_type": "markdown",
     "metadata": {},
     "source": [
      "tuple は要素を `(...)` で囲んで定義します"
     ]
    },
    {
     "cell_type": "code",
     "collapsed": false,
     "input": [
      "t = (1, 2, 3)"
     ],
     "language": "python",
     "metadata": {},
     "outputs": []
    },
    {
     "cell_type": "markdown",
     "metadata": {},
     "source": [
      "作ってしまった tuple のは変更できないので，つぎの式はエラーになります:"
     ]
    },
    {
     "cell_type": "code",
     "collapsed": false,
     "input": [
      "t[1] = 3"
     ],
     "language": "python",
     "metadata": {},
     "outputs": []
    },
    {
     "cell_type": "markdown",
     "metadata": {},
     "source": [
      "## dictionary\n",
      "\n",
      "辞書型のは \"key\" と \"value\" をペアにしたデータを登録できるデータ型です．\"key\" を指定することで，それに対応した \"value\" を取り出すことが出来ます．"
     ]
    },
    {
     "cell_type": "markdown",
     "metadata": {},
     "source": [
      "品物とその値段をペアにした辞書を作成:"
     ]
    },
    {
     "cell_type": "code",
     "collapsed": false,
     "input": [
      "price = {'apple': 100, 'pine': 200, 'berry': 300}"
     ],
     "language": "python",
     "metadata": {},
     "outputs": []
    },
    {
     "cell_type": "markdown",
     "metadata": {},
     "source": [
      "品物の名前から値段を検索する:"
     ]
    },
    {
     "cell_type": "code",
     "collapsed": false,
     "input": [
      "print price['apple']"
     ],
     "language": "python",
     "metadata": {},
     "outputs": []
    },
    {
     "cell_type": "markdown",
     "metadata": {},
     "source": [
      "辞書に登録されている key の一覧を取得:"
     ]
    },
    {
     "cell_type": "code",
     "collapsed": false,
     "input": [
      "price.keys()"
     ],
     "language": "python",
     "metadata": {},
     "outputs": []
    },
    {
     "cell_type": "markdown",
     "metadata": {},
     "source": [
      "辞書に登録されている value の一覧を取得:"
     ]
    },
    {
     "cell_type": "code",
     "collapsed": false,
     "input": [
      "price.values()"
     ],
     "language": "python",
     "metadata": {},
     "outputs": []
    },
    {
     "cell_type": "markdown",
     "metadata": {},
     "source": [
      "辞書に新規に key, value のペアを登録:"
     ]
    },
    {
     "cell_type": "code",
     "collapsed": false,
     "input": [
      "price['strawberry'] = 500\n",
      "print price"
     ],
     "language": "python",
     "metadata": {},
     "outputs": []
    },
    {
     "cell_type": "markdown",
     "metadata": {},
     "source": [
      "## set\n",
      "\n",
      "重複した要素を持たない．順序も持たない(つまり `[]` 演算子で要素を取り出せない)．"
     ]
    },
    {
     "cell_type": "code",
     "collapsed": false,
     "input": [
      "s = set([1, 2, 2, 3])\n",
      "print s"
     ],
     "language": "python",
     "metadata": {},
     "outputs": []
    },
    {
     "cell_type": "markdown",
     "metadata": {},
     "source": [
      "## bool\n",
      "\n",
      "真理型．値としては `True`, `False` が定義されている．"
     ]
    },
    {
     "cell_type": "code",
     "collapsed": false,
     "input": [
      "print \"true:  \", True\n",
      "print \"false: \", False"
     ],
     "language": "python",
     "metadata": {},
     "outputs": []
    },
    {
     "cell_type": "markdown",
     "metadata": {},
     "source": [
      "### 型キャスト\n",
      "\n",
      "基本的には **`変換後の型(ターゲット)`** という形でキャストできます．"
     ]
    },
    {
     "cell_type": "code",
     "collapsed": false,
     "input": [
      "a = 101\n",
      "b = 1.23\n",
      "print float(a)\n",
      "print int(b)"
     ],
     "language": "python",
     "metadata": {},
     "outputs": []
    },
    {
     "cell_type": "markdown",
     "metadata": {},
     "source": [
      "## 条件分岐\n",
      "\n",
      "Python の条件分岐には if-elif-else しかありません．Cのような switch 文はありません．"
     ]
    },
    {
     "cell_type": "markdown",
     "metadata": {},
     "source": [
      "### if-elif-else 文\n",
      "\n",
      "- `if` のみで `elif` や `else` を省略することも可能です．\n",
      "- インデント(字下げ)で**スコープ**を表現します．\n",
      "  - C/C++ の `{...}` や Fortran の `if endif` に相当するものです．"
     ]
    },
    {
     "cell_type": "code",
     "collapsed": false,
     "input": [
      "a = 3\n",
      "if a > 0:\n",
      "    print '0'\n",
      "elif a == 0:\n",
      "    print '1'\n",
      "else:\n",
      "    pass"
     ],
     "language": "python",
     "metadata": {},
     "outputs": []
    },
    {
     "cell_type": "markdown",
     "metadata": {},
     "source": [
      "- **`pass`** は**「なにもしない」**という命令です．if文以外の場所でも使えます．"
     ]
    },
    {
     "cell_type": "markdown",
     "metadata": {},
     "source": [
      "## for ループ\n",
      "\n",
      "Python での for ループの書き方はシェルに似ています．"
     ]
    },
    {
     "cell_type": "code",
     "collapsed": false,
     "input": [
      "for e in ('a', 'b', 'c', 'd'):\n",
      "    print e"
     ],
     "language": "python",
     "metadata": {},
     "outputs": []
    },
    {
     "cell_type": "markdown",
     "metadata": {},
     "source": [
      "**enumerate 関数とアンパック代入**\n",
      "\n",
      "ループが何回まわったのか，という情報を取り出すのに便利な方法があります．\n",
      "よく使う定番的な書き方なので覚えておきましょう．"
     ]
    },
    {
     "cell_type": "code",
     "collapsed": false,
     "input": [
      "l = ['a', 'b', 'c', 'd']\n",
      "for i,e in enumerate(l):\n",
      "    print i, e"
     ],
     "language": "python",
     "metadata": {},
     "outputs": []
    },
    {
     "cell_type": "markdown",
     "metadata": {},
     "source": [
      "** `in` の使い方**\n",
      "\n",
      "`for` だけでなく，`if` 文などでも使えます．"
     ]
    },
    {
     "cell_type": "code",
     "collapsed": false,
     "input": [
      "if 'a' in ['a', 'b', 'c', 'd']:\n",
      "    print 'Ok' "
     ],
     "language": "python",
     "metadata": {},
     "outputs": []
    },
    {
     "cell_type": "code",
     "collapsed": false,
     "input": [
      "b = 'e' in ['a', 'b', 'c', 'd']\n",
      "print b"
     ],
     "language": "python",
     "metadata": {},
     "outputs": []
    },
    {
     "cell_type": "markdown",
     "metadata": {},
     "source": [
      "### while ループ"
     ]
    },
    {
     "cell_type": "code",
     "collapsed": false,
     "input": [
      "a = 0\n",
      "while a in range(10):\n",
      "    a += 1\n",
      "    if a < 3:\n",
      "        continue\n",
      "    elif a == 8:\n",
      "        break\n",
      "    print a"
     ],
     "language": "python",
     "metadata": {},
     "outputs": []
    },
    {
     "cell_type": "markdown",
     "metadata": {},
     "source": [
      "- `range` は与えられた範囲にある数値のリストを返す関数です．\n",
      "- `break`, `continue` も使えます．(もちろん `for` などでも)\n",
      "- `while True:` で無限ループをつくれます．"
     ]
    },
    {
     "cell_type": "code",
     "collapsed": false,
     "input": [
      "print(range(10))"
     ],
     "language": "python",
     "metadata": {},
     "outputs": []
    },
    {
     "cell_type": "markdown",
     "metadata": {},
     "source": [
      "## 関数を定義する\n",
      "\n",
      "- **`def`** キーワードを使う\n",
      "    - `def 関数名(仮引数):` で関数の定義を始めます．\n",
      "- 関数のスコープは**インデント**でを表現します．\n",
      "  - def の次の行の先頭に4文字の空白があります．関数の定義の終わりまで4文字の空白で字下げして記述する必要があります．\n",
      "  - C/C++ の `{...}` に，Fortran では `subroutine ... end subroutine` に相当します．\n",
      "- 仮引数は全て**参照渡し**になります．\n",
      "  - Fortran の subroutine のようにみえますが ..."
     ]
    },
    {
     "cell_type": "code",
     "collapsed": false,
     "input": [
      "def axpy(x, y, a):\n",
      "    r = a * x + y\n",
      "    return r\n",
      "\n",
      "axpy(2, 3, 1)"
     ],
     "language": "python",
     "metadata": {},
     "outputs": []
    },
    {
     "cell_type": "markdown",
     "metadata": {},
     "source": [
      "### キーワード引数とアンパック代入\n",
      "\n",
      "- キーワード引数を利用することで柔軟な仮引数の宣言ができます．\n",
      "- 実際のモジュールなどで多用されている機能です．\n",
      "- 普通の仮引数はキーワード引数の前に宣言しておかなければなりません．"
     ]
    },
    {
     "cell_type": "code",
     "collapsed": false,
     "input": [
      "def axpby(x, y, a = 1, b = 1):\n",
      "    r = a * x + b * y\n",
      "    return r"
     ],
     "language": "python",
     "metadata": {},
     "outputs": []
    },
    {
     "cell_type": "markdown",
     "metadata": {},
     "source": [
      "キーワード引数を省略した場合はデフォルト値が利用されます:"
     ]
    },
    {
     "cell_type": "code",
     "collapsed": false,
     "input": [
      "ans1 = axpby(2, 3)\n",
      "print 'ans1 = ', ans1"
     ],
     "language": "python",
     "metadata": {},
     "outputs": []
    },
    {
     "cell_type": "markdown",
     "metadata": {},
     "source": [
      "キーワード引数は順番を変えても大丈夫です:"
     ]
    },
    {
     "cell_type": "code",
     "collapsed": false,
     "input": [
      "ans2 = axpby(2, 3, b = 3, a= 2)\n",
      "print 'ans2 = ', ans2"
     ],
     "language": "python",
     "metadata": {},
     "outputs": []
    },
    {
     "cell_type": "markdown",
     "metadata": {},
     "source": [
      "アンパック代入もできます:"
     ]
    },
    {
     "cell_type": "code",
     "collapsed": false,
     "input": [
      "packed_args = (2, 3, 2, 3)\n",
      "ans3 = axpby(*packed_args)\n",
      "\n",
      "print 'ans3 = ', ans3"
     ],
     "language": "python",
     "metadata": {},
     "outputs": []
    },
    {
     "cell_type": "markdown",
     "metadata": {},
     "source": [
      "## クラスを定義する\n",
      "\n",
      "- クラスとは，データとそのデータを操作するための関数のセットで定義したオブジェクト\n",
      "  - データを**メンバ**と呼ぶ\n",
      "  - 関数を**メソッド**と呼ぶ\n",
      "- `class` キーワードを使って定義する\n",
      "  - class は常に `object`　もしくはその子孫を**継承**する\n",
      "- 作成したクラスオブジェクトを**インスタンス**と呼ぶ．\n",
      "\n",
      "実際に MyClass というクラスオブジェクトを作成してみます．\n",
      "生徒をの名前のリストをデータとして持ち，与えられた名前をこのリストに追加する操作をする関数を持たせます．"
     ]
    },
    {
     "cell_type": "code",
     "collapsed": false,
     "input": [
      "class MyClass(object):\n",
      "    def __init__(self, s):\n",
      "        self.students = s\n",
      "\n",
      "    def add_new_students(self, n):\n",
      "        self.students.extend(n)\n",
      "\n",
      "    def show_names(self):\n",
      "        print self.students\n",
      "\n",
      "A = MyClass(['Alice', 'Bob'])\n",
      "A.add_new_students(['Chris', 'David'])\n",
      "A.show_names()"
     ],
     "language": "python",
     "metadata": {},
     "outputs": []
    },
    {
     "cell_type": "markdown",
     "metadata": {},
     "source": [
      "`students` がメンバ，`__init__, add_new_students, show_names` がメソッド，そして `A` が `MyClass` のインスタンスです．"
     ]
    },
    {
     "cell_type": "markdown",
     "metadata": {},
     "source": [
      "## モジュール\n",
      "\n",
      "### 組み込みモジュールの使い方\n",
      "\n",
      "Python ではたくさんの便利なモジュールが組み込みライブラリとしてインストールされます．\n",
      "\n",
      "これらのモジュールを利用するには，まず **`import`** して置く必要があります．\n",
      "\n",
      "ここでは具体例として `math` モジュールを呼び出してみます．そして，このモジュール内で定義されている $cos$ 関数や定数 $\\pi$ を使ってみます．"
     ]
    },
    {
     "cell_type": "code",
     "collapsed": false,
     "input": [
      "import math\n",
      "print math.cos(math.pi), math.pi"
     ],
     "language": "python",
     "metadata": {},
     "outputs": []
    },
    {
     "cell_type": "markdown",
     "metadata": {},
     "source": [
      "何度もモジュール名を書くのが面倒な場合は **`as`** を使ってモジュールに対して別名をつけることもできます．\n",
      "実際のプログラムではこちらの方法をよく使います．"
     ]
    },
    {
     "cell_type": "code",
     "collapsed": false,
     "input": [
      "import math as m\n",
      "print m.cos(m.pi), m.pi"
     ],
     "language": "python",
     "metadata": {},
     "outputs": []
    },
    {
     "cell_type": "markdown",
     "metadata": {},
     "source": [
      "### 外部モジュール\n",
      "\n",
      "自分でインストールしたモジュールの使い方について補足します．\n",
      "\n",
      "組み込みモジュールと同様 `import` してやればよいのですが，インストール先のディレクトリを `PYTHONPATH` に追加しておく必要があります．"
     ]
    },
    {
     "cell_type": "markdown",
     "metadata": {},
     "source": [
      "#### Python プログラムの階層構造\n",
      "\n",
      "`PYTHONPATH/サブディレクトリ名/hoge.py`\n",
      "\n",
      "`プログラムファイルのディレクトリ構成 == 名前空間`\n",
      "\n",
      "- 1 つの `hoge.py` ファイルが 1 つのモジュール"
     ]
    },
    {
     "cell_type": "markdown",
     "metadata": {},
     "source": [
      "## ファイルの読み書き"
     ]
    },
    {
     "cell_type": "markdown",
     "metadata": {},
     "source": [
      "- ファイルへの書き込み"
     ]
    },
    {
     "cell_type": "code",
     "collapsed": false,
     "input": [
      "f = open('dat.txt', 'w')\n",
      "f.write('a 3.432\\n'\n",
      "        'b 1.42\\n' \n",
      "        'c 2.159\\n')\n",
      "f.close()"
     ],
     "language": "python",
     "metadata": {},
     "outputs": []
    },
    {
     "cell_type": "markdown",
     "metadata": {},
     "source": [
      "- ファイルから１行ごとにデータを読み込む方法"
     ]
    },
    {
     "cell_type": "code",
     "collapsed": false,
     "input": [
      "for line in open('dat.txt', 'r'):\n",
      "    items = line.split()\n",
      "    print items[0], float(items[1])"
     ],
     "language": "python",
     "metadata": {},
     "outputs": []
    },
    {
     "cell_type": "markdown",
     "metadata": {},
     "source": [
      "- open で dat.txt ファイルを readonly で読み込む\n",
      "- 読み込んだファイルを 1 行毎に処理する．読み込まれた行は 1 つのストリングとして扱われるので区切り文字（今の場合空白）で分割している．\n",
      "- 読み込んだストリングを浮動小数点にキャストしている\n",
      "\n",
      "上の例では for 文の終了とともにファイルは自動で閉じられる．一般的には\n",
      "\n",
      "`f = open('dat.txt', 'r')` として読み込んだ場合，ファイルを読み終えたら `f.close()` で閉じなければならない．"
     ]
    },
    {
     "cell_type": "markdown",
     "metadata": {},
     "source": [
      "## Python では全てがオブジェクト!\n",
      "\n",
      "**オブジェクトはメモリ上に実体を持っている**\n",
      "\n",
      "- Python では，クラスだけでなく数値や関数もオブジェクト"
     ]
    },
    {
     "cell_type": "markdown",
     "metadata": {},
     "source": [
      "**数値だってオブジェクト**  \n",
      "\n",
      "`id` 関数はメモリ上のアドレスを返す関数です．次の例で `3.33` という一見ただの数値に見えるがメモリ上にアドレスをもって存在しています．"
     ]
    },
    {
     "cell_type": "code",
     "collapsed": false,
     "input": [
      "print 'type:', type(3.33)\n",
      "print 'id:',   id(3.33)"
     ],
     "language": "python",
     "metadata": {},
     "outputs": []
    },
    {
     "cell_type": "markdown",
     "metadata": {},
     "source": [
      "`3.33` という小数がメソッドを持っている!"
     ]
    },
    {
     "cell_type": "code",
     "collapsed": false,
     "input": [
      "3.33.is_integer()"
     ],
     "language": "python",
     "metadata": {},
     "outputs": []
    },
    {
     "cell_type": "markdown",
     "metadata": {},
     "source": [
      "`float` も `object` クラスを継承している"
     ]
    },
    {
     "cell_type": "code",
     "collapsed": false,
     "input": [
      "float.__mro__"
     ],
     "language": "python",
     "metadata": {},
     "outputs": []
    },
    {
     "cell_type": "markdown",
     "metadata": {},
     "source": [
      "#### 数値やリストの不可解な動作"
     ]
    },
    {
     "cell_type": "markdown",
     "metadata": {},
     "source": [
      "数値もオブジェクトなので，次の例では `a` と `b` が同じ値になることがきたいされるが・・・"
     ]
    },
    {
     "cell_type": "code",
     "collapsed": false,
     "input": [
      "a = b = 1\n",
      "print a, b\n",
      "b = 2\n",
      "print a, b"
     ],
     "language": "python",
     "metadata": {},
     "outputs": []
    },
    {
     "cell_type": "markdown",
     "metadata": {},
     "source": [
      "`a` を書き替える `b` も書き替えられる"
     ]
    },
    {
     "cell_type": "code",
     "collapsed": false,
     "input": [
      "a = b = [1, 2, 3]\n",
      "print '[1]: ', a, b\n",
      "a[0] = 4\n",
      "print '[2]: ', a, b\n",
      "b[1] = 5\n",
      "print '[3]: ', a, b"
     ],
     "language": "python",
     "metadata": {},
     "outputs": []
    },
    {
     "cell_type": "markdown",
     "metadata": {},
     "source": [
      "`a` 全体を書き替えても `b` が書き替えられない"
     ]
    },
    {
     "cell_type": "code",
     "collapsed": false,
     "input": [
      "a = [6, 7, 8]\n",
      "print '[4]: ', a, b"
     ],
     "language": "python",
     "metadata": {},
     "outputs": []
    },
    {
     "cell_type": "markdown",
     "metadata": {},
     "source": [
      "#### 関数の不可解な動作"
     ]
    },
    {
     "cell_type": "code",
     "collapsed": false,
     "input": [
      "def f1(x):\n",
      "    x[0] = 111\n",
      "    \n",
      "def f2(x):\n",
      "    x = [201, 202, 203]"
     ],
     "language": "python",
     "metadata": {},
     "outputs": []
    },
    {
     "cell_type": "markdown",
     "metadata": {},
     "source": [
      "**Python では関数の引数は参照渡しです!**\n",
      "- 次の例では `f1` により `y[0]` の値が書き換えられます．"
     ]
    },
    {
     "cell_type": "code",
     "collapsed": false,
     "input": [
      "y = [101, 102, 103]\n",
      "f1(y)\n",
      "print y"
     ],
     "language": "python",
     "metadata": {},
     "outputs": []
    },
    {
     "cell_type": "markdown",
     "metadata": {},
     "source": [
      "- 次の例では `f2` により `y` 全体が書き換えられるはずですが・・・"
     ]
    },
    {
     "cell_type": "code",
     "collapsed": false,
     "input": [
      "f2(y)\n",
      "print y"
     ],
     "language": "python",
     "metadata": {},
     "outputs": []
    },
    {
     "cell_type": "markdown",
     "metadata": {},
     "source": [
      "### Python で '=' は何をやっているのか?\n",
      "\n",
      "'=' は実際のところなにをしているでしょうか?\n",
      "\n",
      "とくに C/C++ や Fortran といった他の言語を知っている方は**大きな勘違い**をしているはずです!\n",
      "\n",
      "- *変数: 箱を作ってそこに値を入れる* という理解は python では間違い．\n",
      "\n",
      "**極論をいえば python に変数なんて存在しません.**\n",
      "**Python で扱うのは常にオブジェクトです!**\n",
      "\n",
      "- '=' はオブジェクトに**タグ(わかりやすい名前)**をつけているだけ"
     ]
    },
    {
     "cell_type": "markdown",
     "metadata": {},
     "source": [
      "## list のコピー\n",
      "\n",
      "'=' の意味を理解すれば list のコピーについての挙動も理解できます．\n",
      "\n",
      "浅いコピーと深いコピーの 2 種類ある\n",
      "\n",
      "- 浅いコピーではオブジェクトのアドレスをコピーする(参照渡し)\n",
      "- 深いコピーではオブジェクトの持っている値をコピーする(値渡し)"
     ]
    },
    {
     "cell_type": "code",
     "collapsed": false,
     "input": [
      "a = [101, 102, 103]                 \n",
      "b = a     # アドレスをコピー\n",
      "a[1] = 333\n",
      "\n",
      "print a, b \n",
      "[101, 333, 103] [101, 333, 103]\n",
      "\n",
      "b = a[:]  # 値をコピー\n",
      "a[1] = 444\n",
      "\n",
      "print a, b\n",
      "[101, 444, 103] [101, 333, 103]"
     ],
     "language": "python",
     "metadata": {},
     "outputs": []
    },
    {
     "cell_type": "markdown",
     "metadata": {},
     "source": [
      "## ネストされた list のコピー\n",
      "\n",
      "### 浅いコピーになってしまう例\n",
      "\n",
      "aの要素をを変更しても"
     ]
    },
    {
     "cell_type": "code",
     "collapsed": false,
     "input": [
      "a = [1, [2, 3]]\n",
      "b = a[:]\n",
      "a[0] = 4\n",
      "a[1][0] = 5\n",
      "print a, b"
     ],
     "language": "python",
     "metadata": {},
     "outputs": []
    },
    {
     "cell_type": "markdown",
     "metadata": {},
     "source": [
      "### 深いコピー"
     ]
    },
    {
     "cell_type": "code",
     "collapsed": false,
     "input": [
      "import copy\n",
      "\n",
      "a = [1, [2, 3]]\n",
      "b = copy.deepcopy(a)\n",
      "a[0] = 101\n",
      "a[1][0] = 102\n",
      "\n",
      "print a, b"
     ],
     "language": "python",
     "metadata": {},
     "outputs": []
    },
    {
     "cell_type": "markdown",
     "metadata": {},
     "source": [
      "- ネストされているとスライス ':' で返されるのがアドレスになってしまう\n",
      "- ネストされた list で深いコピーをするには copy モジュールの deepcopy を使う"
     ]
    },
    {
     "cell_type": "markdown",
     "metadata": {},
     "source": [
      "## 参考文献\n",
      "\n",
      "- [科学技術計算のために python を始めよう](http://www.ike-dyn.ritsumei.ac.jp/~uchida/scipy-lecture-notes/intro/index.html)\n",
      "- [初心者のはまりどころ](http://webtech-walker.com/archive/2010/10/13191417.html)\n",
      "- [Doug Hellmann](http://doughellmann.com)\n",
      "  - 標準モジュールなどの使い方が例とともに書いてあり分かりやすい"
     ]
    }
   ],
   "metadata": {}
  }
 ]
}