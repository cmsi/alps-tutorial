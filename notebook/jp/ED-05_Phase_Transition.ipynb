{
 "metadata": {
  "name": "",
  "signature": "sha256:f7e158143b098ad3b5787c588ca12a03647c0078a0b11ef9c4ca170f64976df0"
 },
 "nbformat": 3,
 "nbformat_minor": 0,
 "worksheets": [
  {
   "cells": [
    {
     "cell_type": "markdown",
     "metadata": {},
     "source": [
      "# ALPS 2 Tutorials:ED-05 Phase Transition"
     ]
    },
    {
     "cell_type": "markdown",
     "metadata": {},
     "source": [
      "# \u6b21\u8fd1\u63a5\u76f8\u4e92\u4f5c\u7528\u3092\u6301\u3064\u30cf\u30a4\u30bc\u30f3\u30d9\u30eb\u30b0\u9396\u306e\u81e8\u754c\u70b9\n",
      "\n",
      "\n",
      "\u3053\u306e\u30c1\u30e5\u30fc\u30c8\u30ea\u30a2\u30eb\u3067\u306f\u3001\u30cf\u30a4\u30bc\u30f3\u30d9\u30eb\u30b0\u9396\u306b\u3064\u3044\u3066\uff08\u524d\u56de\uff1aED-04\uff09\u306e\u88dc\u8db3\u3092\u304a\u3053\u306a\u3044\u307e\u3059\u3002\u30cf\u30df\u30eb\u30c8\u30cb\u30a2\u30f3\u306b\u6b21\u8fd1\u63a5\u76f8\u4e92\u4f5c\u7528$J_1 \\sum_{\\langle \\langle i,j \\rangle \\rangle} S_i \\cdot S_j$\u3092\u52a0\u3048\u3066\u307f\u307e\u3057\u3087\u3046\u3002\n",
      "\n",
      "\n",
      "$J_2 = 0$ \u306e\u6975\u9650\u3067\u3053\u306e\u30e2\u30c7\u30eb\u306f\u666e\u901a\u306e\u30cf\u30a4\u30bc\u30f3\u30d9\u30eb\u30b0\u9396\u306b\u5e30\u7740\u3057\u307e\u3059\u3002\u3053\u308c\u306f Bethe \u4eee\u8a2d\u3092\u7528\u3044\u3066\u89e3\u304f\u3053\u3068\u304c\u3067\u304d\u3001\u57fa\u5e95\u72b6\u614b\u306f\u81e8\u754c\u7684\u3068\u306a\u308a\u307e\u3059\u3002\u307e\u305f\u3001 $J_2/J_1=0.5$ \u3068\u3044\u3046\u30d1\u30e9\u30e1\u30fc\u30bf\u3082\u53ef\u89e3\u7cfb\u3068\u306a\u308a\u307e\u3059\uff08(http://link.aip.org/link/JMAPAQ/v10/i8/p1388/s1)\u3084(http://link.aip.org/link/JMAPAQ/v10/i8/p1399/s1)\uff09\u3002\n",
      "\u3053\u306e\u70b9\u306b\u304a\u3051\u308b\u57fa\u5e95\u72b6\u614b\uff08\u306e\u3072\u3068\u3064\uff09\u306f\u3001\u4f8b\u3048\u3070 $6$ \u30b5\u30a4\u30c8\u7cfb\u3067\n",
      "\n",
      "$|\\Psi\\rangle = \\left(|\\uparrow\\rangle_1 |\\downarrow\\rangle_2 - |\\downarrow\\rangle_1 |\\uparrow\\rangle_2\\right) (|\\uparrow\\rangle_3 |\\downarrow\\rangle_4 - |\\downarrow\\rangle_3 |\\uparrow\\rangle_4) (|\\uparrow\\rangle_5 |\\downarrow\\rangle_6 - |\\downarrow\\rangle_5 |\\uparrow\\rangle_6)$\n",
      "\n",
      "\u3068\u306a\u308a\u3001\u6709\u9650\u306e\u30a8\u30cd\u30eb\u30ae\u30fc\u30ae\u30e3\u30c3\u30d7\u3092\u6301\u3061\u307e\u3059\u3002\n",
      "\n",
      "\u3053\u308c\u3089\u306e\u3053\u3068\u306f\u3001$J_1/J_2 \\in (0,1/2)$ \u3067\u306e\u76f8\u8ee2\u79fb\u306e\u5b58\u5728\u3092\u793a\u3057\u3066\u3044\u307e\u3059\u3002\uff08http://pre.aps.org/pdf/PRE/v76/i6/e061108 \u3092\u53c2\u7167\u3057\u3066\u304f\u3060\u3055\u3044\u3002\uff09\n",
      "\n",
      "\n",
      "\u3053\u306e\u30c1\u30e5\u30fc\u30c8\u30ea\u30a2\u30eb\u3067\u306f\u307e\u305a\u306f\u3058\u3081\u306b\u3001\u30b9\u30da\u30af\u30c8\u30eb\uff08\u7279\u306b\u7570\u306a\u308b\u5bfe\u79f0\u6027\u9593\u306e\u30ae\u30e3\u30c3\u30d7\uff09\u304c\u6b21\u8fd1\u63a5\u76f8\u4e92\u4f5c\u7528\u3092\u8abf\u6574\u3059\u308b\u3053\u3068\u306b\u3088\u3063\u3066\u3069\u306e\u3088\u3046\u306b\u5909\u5316\u3059\u308b\u304b\u3092\u898b\u308b\u3053\u3068\u3067\u81e8\u754c\u70b9\u3092\u7279\u5b9a\u3057\u307e\u3059\u3002\n",
      "\u6b21\u306b\u3001\u81e8\u754c\u9396\u306e CFT \u3092\u53d6\u308a\u4e0a\u3052\u307e\u3059\u3002\u89e3\u6790\u7684\u306b\u306f\u3001\u8ee2\u79fb\u70b9\u76f4\u4e0a\u3067\u3053\u306e\u30e2\u30c7\u30eb\u306f\u30cf\u30a4\u30bc\u30f3\u30d9\u30eb\u30b0\u9396\u3068\u540c\u3058 CFT \u306b\u3088\u3063\u3066\u8a18\u8ff0\u3055\u308c\u307e\u3059\u3002\n",
      "\u3057\u304b\u3057\u3001\u6570\u5024\u8a08\u7b97\u4e0a\u306e\u89b3\u70b9\u304b\u3089\u306f\u3001\u5bfe\u6570\u88dc\u6b63\u3092\u5c0e\u304f\u3001\u30de\u30fc\u30b8\u30ca\u30eb\u306a\u6f14\u7b97\u5b50\u306e\u91cd\u307f\u306f\u30cf\u30a4\u30bc\u30f3\u30d9\u30eb\u30b0\u9396\u3068\u306f\u5bfe\u7167\u306b0\u306b\u306a\u308b\u305f\u3081\u3001\u30b9\u30b1\u30fc\u30ea\u30f3\u30b0\u6b21\u5143\u306f\u3088\u308a\u6b63\u78ba\u306b\u898b\u7a4d\u3082\u308c\u307e\u3059\u3002\n",
      "\n",
      "\n",
      "\u305d\u3053\u3067\u3001\u30a8\u30cd\u30eb\u30ae\u30fc\u3092\u8a08\u7b97\u3057\u3001\u4e00\u91cd\u9805\u52b1\u8d77($S_z = 0$)\u3001\u4e09\u91cd\u9805\u52b1\u8d77 ($S_z=1$)\u3092\u56f3\u793a\u3057\u3066\u307f\u307e\u3057\u3087\u3046\u3002"
     ]
    },
    {
     "cell_type": "markdown",
     "metadata": {},
     "source": [
      "## Python\u3067\u306e\u5b9f\u884c\n",
      "\n",
      "\u5fc5\u8981\u306a\u30e2\u30b8\u30e5\u30fc\u30eb\u3092\u30a4\u30f3\u30dd\u30fc\u30c8\u3057\u307e\u3059\u3002"
     ]
    },
    {
     "cell_type": "code",
     "collapsed": false,
     "input": [
      "import pyalps\n",
      "import pyalps.plot\n",
      "from pyalps.dict_intersect import dict_intersect\n",
      "import numpy as np\n",
      "import matplotlib.pyplot as plt\n",
      "import copy\n",
      "import math"
     ],
     "language": "python",
     "metadata": {},
     "outputs": []
    },
    {
     "cell_type": "markdown",
     "metadata": {},
     "source": [
      "$S_z$ \u3092\u4fdd\u5b58\u91cf\u3068\u6307\u5b9a\u3057\u3001\u305d\u306e\u3046\u3061\u306e $S_z=0,1$ \u3067\u30b7\u30df\u30e5\u30ec\u30fc\u30b7\u30e7\u30f3\u3092\u304a\u3053\u306a\u3044\u307e\u3059\u3002\u5c0f\u3055\u3044\u30b5\u30a4\u30ba\u3067\u3082\u30ec\u30d9\u30eb\u30af\u30ed\u30b9\u304c\u898b\u3089\u308c\u308b\u306e\u3067\u3001\u7cfb\u306e\u30b5\u30a4\u30ba\u306f $L=6, 8$ \u3067\u5341\u5206\u3067\u3059\u3002"
     ]
    },
    {
     "cell_type": "code",
     "collapsed": false,
     "input": [
      "prefix = 'ed05a'\n",
      "parms = []\n",
      "for L in [6,8]:\n",
      "    for Szt in [0,1]:\n",
      "        for J1 in np.linspace(0,0.5,6):\n",
      "            parms.append({\n",
      "              'LATTICE'              : \"nnn chain lattice\",\n",
      "              'MODEL'                : \"spin\",\n",
      "              'local_S'              : 0.5,\n",
      "              'J'                    : 1,\n",
      "              'NUMBER_EIGENVALUES'   : 2,\n",
      "              'CONSERVED_QUANTUMNUMBER' : 'Sz',\n",
      "              'Sz_total'             : Szt,\n",
      "              'J1'                   : J1,\n",
      "              'L'                    : L\n",
      "            })\n",
      "\n",
      "input_file = pyalps.writeInputFiles(prefix, parms)\n",
      "res = pyalps.runApplication('sparsediag', input_file)\n",
      "# res = pyalps.runApplication('sparsediag', input_file, MPI=4)\n",
      "data = pyalps.loadEigenstateMeasurements(pyalps.getResultFiles(prefix=prefix))"
     ],
     "language": "python",
     "metadata": {},
     "outputs": []
    },
    {
     "cell_type": "markdown",
     "metadata": {},
     "source": [
      "\u4eca\u56de\u306e\u30c7\u30fc\u30bf\u89e3\u6790\u306f\u4ee5\u524d\u306e\u30c1\u30e5\u30fc\u30c8\u30ea\u30a2\u30eb\u306e\u3082\u306e\u3088\u308a\u5c11\u3057\u8907\u96d1\u3067\u3059\u3002\u7279\u306b\u3001\u30c7\u30fc\u30bf\u30bb\u30c3\u30c8\u306e\u968e\u5c64\u6027\u3092\u5f37\u304f\u5229\u7528\u3057\u3066\u3044\u307e\u3059\u3002\n",
      "\u7269\u7406\u3092\u7406\u89e3\u3059\u308b\u305f\u3081\u306b\u306f\u3001\u57fa\u5e95\u72b6\u614b\u3068\u7b2c\u4e00\u52b1\u8d77\u72b6\u614b\u306e\u307f\u898b\u308c\u3070\u5341\u5206\u3067\u3057\u3087\u3046\u3002\u3082\u3057\u30ae\u30e3\u30c3\u30d7\u306e\u8a08\u7b97\u304c\u308f\u304b\u308a\u3065\u3089\u3044\u3068\u601d\u3063\u305f\u306a\u3089\u3070\u3001\u3042\u307e\u308a\u8003\u3048\u3059\u304e\u306a\u3044\u3067\u304f\u3060\u3055\u3044\u3002\n",
      "\n",
      "\u6700\u521d\u306b\u3001\u4e0e\u3048\u3089\u308c\u305f\u30d1\u30e9\u30e1\u30fc\u30bf\u3001\u3064\u307e\u308a `J1\u3001L\u3001Sz_total` \u306e\u30bb\u30c3\u30c8\u306b\u5bfe\u3057\u3066\u8a08\u7b97\u3057\u305f\u30a8\u30cd\u30eb\u30ae\u30fc\u3092\u96c6\u3081\u3066\u30bd\u30fc\u30c8\u3057\u307e\u3059\u3002\n",
      "\u307e\u305a\u3001\u30d1\u30e9\u30e1\u30fc\u30bf `J1, L, Sz_total` \u3092\u7528\u3044\u3066\u30b0\u30eb\u30fc\u30d7\u5316\u3057\u307e\u3059\u3002\n",
      "`grouped` \u3092\u8d70\u308b\u30eb\u30fc\u30d7\u3067\u3001\u5404\u8981\u7d20 `group` \u306f\u3001\u7570\u306a\u308b\u904b\u52d5\u91cf\u306b\u5bfe\u3059\u308b\u30c7\u30fc\u30bf\u3092\u96c6\u3081\u305f\u30ea\u30b9\u30c8\u3092\u6301\u3064\u3053\u3068\u306b\u306a\u308a\u307e\u3059\u3002\u3053\u308c\u3092\u3072\u3068\u3064\u306b\u307e\u3068\u3081\u307e\u3059\u3002\n",
      "\u307e\u305f\u3001`dict_intersect` \u95a2\u6570\u3092\u4f7f\u3063\u3066\u3001\u307e\u3068\u3081\u305f\u30c7\u30fc\u30bf\u30bb\u30c3\u30c8\u306e `prop` \u3092\u5f97\u307e\u3059\u3002\n",
      "`dict_intersect` \u306f\u8f9e\u66f8\u306e\u30ea\u30b9\u30c8\u3092\u53d7\u3051\u53d6\u308a\u3001\u548c\u96c6\u5408\u3092\u8fd4\u3057\u307e\u3059\u3002\n",
      "\u307e\u305f\u3001`NumPy` \u306e `argsort` \u95a2\u6570\u3092\u7528\u3044\u3066\u3001\u30ea\u30b9\u30c8 `y` \u304c\u30bd\u30fc\u30c8\u3055\u308c\u308b\u3088\u3046\u306a\u30a4\u30f3\u30c7\u30c3\u30af\u30b9\u306e\u30ea\u30b9\u30c8\u3092\u5f97\u307e\u3059\u3002\n",
      "\u3053\u308c\u3092\u4f7f\u3046\u3053\u3068\u3067\u3001`x` \u3082 `y` \u3068\u540c\u69d8\u306b\u30bd\u30fc\u30c8\u3059\u308b\u3053\u3068\u304c\u3067\u304d\u307e\u3059\u3002"
     ]
    },
    {
     "cell_type": "code",
     "collapsed": false,
     "input": [
      "grouped = pyalps.groupSets(pyalps.flatten(data), ['J1', 'L', 'Sz_total'])\n",
      "nd = []\n",
      "for group in grouped:\n",
      "    ally = []\n",
      "    allx = []\n",
      "    for q in group:\n",
      "        ally += list(q.y)\n",
      "        allx += list(q.x)\n",
      "    r = pyalps.DataSet()\n",
      "    sel = np.argsort(ally)\n",
      "    r.y = np.array(ally)[sel]\n",
      "    r.x = np.array(allx)[sel]\n",
      "    r.props = dict_intersect([q.props for q in group])\n",
      "    nd.append( r )\n",
      "data = nd"
     ],
     "language": "python",
     "metadata": {},
     "outputs": []
    },
    {
     "cell_type": "markdown",
     "metadata": {},
     "source": [
      "\u6b21\u306b\u3001$S_z=0$ \u306e\u72b6\u614b\u3092\u542b\u3080\u30c7\u30fc\u30bf\u30bb\u30c3\u30c8\u304b\u3089\u3001$S_z=1$ \u306e\u30c7\u30fc\u30bf\u30bb\u30c3\u30c8\u306b\u73fe\u308c\u308b\u30c7\u30fc\u30bf\u3092\u53d6\u308a\u51fa\u3059\u5fc5\u8981\u304c\u3042\u308a\u307e\u3059\u3002\n",
      "\uff08\u8a33\u6ce8\uff1a\u4eca\u56de\u306e\u30e2\u30c7\u30eb\u3067\u306f\u3001\u30b9\u30d4\u30f3\u306e\u56de\u8ee2\u5bfe\u79f0\u6027\u304c\u3042\u308b\u305f\u3081\u3001\u5168\u30b9\u30d4\u30f3\u3084\u904b\u52d5\u91cf\u304c\u7b49\u3057\u304f\u3067\u5168\u30b9\u30d4\u30f3\u306e $z$ \u6210\u5206 $S_z$ \u306e\u307f\u304c\u7570\u306a\u308b $2S+1$ \u500b\u306e\u72b6\u614b\u306f\u7e2e\u9000\u3057\u3066\u3044\u308b\u3002\n",
      "\u9006\u306b\u8a00\u3048\u3070\u3001$S_z=m$ \u306e\u90e8\u5206\u7a7a\u9593\u3067\u5f97\u3089\u308c\u305f\u30b9\u30da\u30af\u30c8\u30eb\u306f\u3001$S \\ge m$ \u306e\u5168\u3066\u306e\u30a8\u30cd\u30eb\u30ae\u30fc\u30b9\u30da\u30af\u30c8\u30eb\u3092\uff08\u7e2e\u9000\u5ea6\u3092\u629c\u304d\u306b\u3057\u3066\uff09\u542b\u3080\u3053\u3068\u3068\u306a\u308b\u3002\n",
      "\u305d\u306e\u305f\u3081\u3001\u4e0b\u8a18\u306e\u64cd\u4f5c\u3092\u884c\u3046\u3053\u3068\u3067\u3001\u5168\u30b9\u30d4\u30f3\u304c\u30bc\u30ed\u3067\u3042\u308b\u72b6\u614b\u306e\u96c6\u5408 `s0` \u3068\u975e\u30bc\u30ed\u3067\u3042\u308b\u72b6\u614b\u306e\u96c6\u5408 `s1` \u3068\u306b\u5206\u3051\u308b\u3053\u3068\u304c\u3067\u304d\u308b\u3002\uff09\n",
      "\n",
      "\u3053\u308c\u306b\u306f\u3001`subtract_spectrum` \u95a2\u6570\u3092\u4f7f\u7528\u3057\u307e\u3059\u3002\n",
      "\u3053\u306e\u95a2\u6570\u3067\u306f\u3001\u7b2c\u4e00\u5f15\u6570\u3067\u4e0e\u3048\u3089\u308c\u305f\u30c7\u30fc\u30bf\u30bb\u30c3\u30c8\u304b\u3089\u3001\u7b2c\u4e8c\u5f15\u6570\u3067\u4e0e\u3048\u3089\u308c\u305f\u30c7\u30fc\u30bf\u30bb\u30c3\u30c8\u306b\u542b\u307e\u308c\u308b\u30c7\u30fc\u30bf\u304c\u524a\u9664\u3055\u308c\u307e\u3059\u3002\n",
      "\u30aa\u30d7\u30b7\u30e7\u30f3\u5f15\u6570\u3068\u3057\u3066\u3001\u5b9f\u6570\u306e\u540c\u5024\u5224\u5b9a\u306b\u304a\u3051\u308b\u8a31\u5bb9\u7bc4\u56f2\uff08\u76f8\u5bfe\u8aa4\u5dee\uff09\u3092\u6e21\u305b\u307e\u3059\u3002"
     ]
    },
    {
     "cell_type": "code",
     "collapsed": false,
     "input": [
      "grouped = pyalps.groupSets(pyalps.flatten(data), ['J1', 'L'])\n",
      "nd = []\n",
      "for group in grouped:\n",
      "    if group[0].props['Sz_total'] == 0:\n",
      "        s0 = group[0]\n",
      "        s1 = group[1]\n",
      "    else:\n",
      "        s0 = group[1]\n",
      "        s1 = group[0]\n",
      "    s0 = pyalps.subtract_spectrum(s0, s1)\n",
      "    nd.append(s0)\n",
      "    nd.append(s1)\n",
      "data = nd"
     ],
     "language": "python",
     "metadata": {},
     "outputs": []
    },
    {
     "cell_type": "markdown",
     "metadata": {},
     "source": [
      "\u57fa\u5e95\u72b6\u614b (`gs`) \u3068\u7b2c\u4e00\u52b1\u8d77\u72b6\u614b (`fe`)\u306e\u30a8\u30cd\u30eb\u30ae\u30fc\u306e\u307f\u3092\u542b\u3080\u30c7\u30fc\u30bf\u30bb\u30c3\u30c8\u306e\u30ea\u30b9\u30c8 `sector_E` \u3092\u751f\u6210\u3057\u307e\u3059\u3002\u30c7\u30fc\u30bf\u30bb\u30c3\u30c8\u306e\u6301\u3064\u8f9e\u66f8 `props` \u306b `which` \u3068\u3044\u3046\u30ad\u30fc\u3067\u57fa\u5e95\u72b6\u614b `gs` \u304b\u52b1\u8d77\u72b6\u614b `fe` \u3092\u8ffd\u52a0\u3059\u308b\u3053\u3068\u3067\u3001\u72b6\u614b\u3092\u533a\u5225\u3057\u307e\u3059\u3002\u3053\u306e\u60c5\u5831\u3092\u5143\u306b\u3001`collectXY` \u95a2\u6570\u3092\u7528\u3044\u3066\u3001`gs`, `fe` \u305d\u308c\u305e\u308c\u306e\u30a8\u30cd\u30eb\u30ae\u30fc\u306e\u6b21\u8fd1\u63a5\u76f8\u4e92\u4f5c\u7528\u4f9d\u5b58\u6027\u306e\u56f3\u3092\u751f\u6210\u3059\u308b\u3053\u3068\u304c\u3067\u304d\u307e\u3059\u3002"
     ]
    },
    {
     "cell_type": "code",
     "collapsed": false,
     "input": [
      "sector_E = []\n",
      "grouped = pyalps.groupSets(pyalps.flatten(data), ['Sz_total', 'J1', 'L'])\n",
      "for group in grouped:\n",
      "    allE = []\n",
      "    for q in group:\n",
      "        allE += list(q.y)\n",
      "    allE = np.sort(allE)\n",
      "   \n",
      "    d = pyalps.DataSet()\n",
      "    d.props = dict_intersect([q.props for q in group])\n",
      "    d.x = np.array([0])\n",
      "    d.y = np.array([allE[0]])\n",
      "    d.props['which'] = 'gs'\n",
      "    sector_E.append(d)\n",
      "   \n",
      "    d2 = copy.deepcopy(d)\n",
      "    d2.y = np.array([allE[1]])\n",
      "    d2.props['which'] = 'fe'\n",
      "    sector_E.append(d2)\n",
      "\n",
      "sector_energies = pyalps.collectXY(sector_E, 'J1', 'Energy', ['Sz_total', 'which', 'L'])\n",
      "plt.figure()\n",
      "pyalps.plot.plot(sector_energies)\n",
      "plt.xlabel('$J_1/J$')\n",
      "plt.ylabel('$E_0$')\n",
      "plt.legend(prop={'size':8})"
     ],
     "language": "python",
     "metadata": {},
     "outputs": []
    },
    {
     "cell_type": "markdown",
     "metadata": {},
     "source": [
      "\u6700\u5f8c\u306b\u3001\u4e00\u91cd\u9805\u3001\u4e09\u91cd\u9805\u30ae\u30e3\u30c3\u30d7\u306e\u8a08\u7b97\u3092\u304a\u3053\u306a\u3044\u307e\u3059\u3002\u305d\u308c\u305e\u308c\u3001\n",
      "\n",
      "* \u4e00\u91cd\u9805\u72b6\u614b\uff08$S_z=0$\uff09\u306e\u7b2c\u4e00\u52b1\u8d77\u72b6\u614b\n",
      "* \u4e09\u91cd\u9805 ($S_z=1$) \u306e\u57fa\u5e95\u72b6\u614b\u3001\u3068\u4e00\u91cd\u9805\u72b6\u614b\u306e\u57fa\u5e95\u72b6\u614b\n",
      "\n",
      "\u3068\u306e\u30a8\u30cd\u30eb\u30ae\u30fc\u5dee\u3067\u5b9a\u7fa9\u3055\u308c\u307e\u3059\u3002\n",
      " "
     ]
    },
    {
     "cell_type": "code",
     "collapsed": false,
     "input": [
      "grouped = pyalps.groupSets( pyalps.groupSets(pyalps.flatten(data), ['J1', 'L']), ['Sz_total'])\n",
      " \n",
      "gaps = []\n",
      "for J1g in grouped:\n",
      "    totalmin = 1000\n",
      "    for q in pyalps.flatten(J1g):\n",
      "        totalmin = min(totalmin, np.min(q.y))\n",
      "   \n",
      "    for Szg in J1g:\n",
      "        allE = []\n",
      "        for q in Szg:\n",
      "            allE += list(q.y)\n",
      "        allE = np.sort(allE)\n",
      "        d = pyalps.DataSet()\n",
      "        d.props = pyalps.dict_intersect([q.props for q in Szg])\n",
      "        d.props['observable'] = 'gap'\n",
      "        print totalmin,d.props['Sz_total']\n",
      "        if d.props['Sz_total'] == 0:\n",
      "            d.y = np.array([allE[1]-totalmin])\n",
      "        else:\n",
      "            d.y = np.array([allE[0]-totalmin])\n",
      "        d.x = np.array([0])\n",
      "        d.props['line'] = '.-'\n",
      "        gaps.append(d)\n",
      "\n",
      "gaps = pyalps.collectXY(gaps, 'J1', 'gap', ['Sz_total', 'L'])\n",
      "\n",
      "plt.figure()\n",
      "pyalps.plot.plot(gaps)\n",
      "plt.xlabel('$J_1/J$')\n",
      "plt.ylabel('$\\Delta$')\n",
      "plt.legend(prop={'size':8})\n",
      "\n",
      "plt.show()"
     ],
     "language": "python",
     "metadata": {},
     "outputs": []
    },
    {
     "cell_type": "markdown",
     "metadata": {},
     "source": [
      "# \u7b2c\uff12\u8fd1\u63a5\u7d50\u5408\u3092\u6301\u3064\u30cf\u30a4\u30bc\u30f3\u30d9\u30eb\u30b0\u9396: CFT assignments\n",
      "\n",
      "\u524d\u56de\u306e\u30c1\u30e5\u30fc\u30c8\u30ea\u30a2\u30eb\u3067\u6271\u3063\u305f\u3001\u6700\u8fd1\u63a5\u76f8\u4e92\u4f5c\u7528\u306e\u307f\u306e\u3001\u4e00\u69d8\u306a\u53cd\u5f37\u78c1\u6027\u30cf\u30a4\u30bc\u30f3\u30d9\u30eb\u30b0\u9396\u3067\u306f\u7cfb\u306e\u30b5\u30a4\u30ba\u306b\u5bfe\u3059\u308b\u5bfe\u6570\u88dc\u6b63\u304c\u73fe\u308c\u307e\u3059\u304c\u3001\n",
      "$J1$-$J2$ \u30d5\u30e9\u30b9\u30c8\u30ec\u30fc\u30c8\u9396\u306e\u81e8\u754c\u70b9\u3067\u306f\u3053\u306e\u5bfe\u6570\u88dc\u6b63\u304c\u5287\u7684\u306b\u5c0f\u3055\u304f\u306a\u308a\u307e\u3059\u3002\n",
      "\u76f8\u4e92\u4f5c\u7528\u306e\u30d1\u30bf\u30fc\u30f3\u304c\u7570\u306a\u308b\u306b\u3082\u304b\u304b\u308f\u3089\u305a\u3001\u9023\u7d9a\u6975\u9650\u306b\u304a\u3044\u3066\u3053\u306e2\u3064\u306e\u30e2\u30c7\u30eb\u306f\u540c\u3058\u5834\u306e\u7406\u8ad6\u3067\u8868\u308f\u305b\u308b\u306e\u3067\u3001$J1$-$J2$ \u30d5\u30e9\u30b9\u30c8\u30ec\u30fc\u30c8\u9396\u306e\u81e8\u754c\u70b9\u304b\u3089\u30cf\u30a4\u30bc\u30f3\u30d9\u30eb\u30b0\u9396\u306e\u30b9\u30b1\u30fc\u30ea\u30f3\u30b0\u6b21\u5143\u3092\u5f97\u308b\u3053\u3068\u304c\u3067\u304d\u307e\u3059\u3002\u3088\u308a\u8a73\u7d30\u306a\u8b70\u8ad6\u306f [I Affleck et al 1989 J. Phys. A: Math. Gen. 22 511](http://dx.doi.org/10.1088/0305-4470/22/5/01) \u3092\u53c2\u7167\u3057\u3066\u304f\u3060\u3055\u3044\u3002\n",
      "\n",
      "\n",
      "2\u3064\u306e\u30e2\u30c7\u30eb\u3067\u306e\u3001\u30b9\u30da\u30af\u30c8\u30eb\u306e\u8a08\u7b97\u7d50\u679c\u3092\u6bd4\u8f03\u3057\u3066\u307f\u3066\u304f\u3060\u3055\u3044\u3002\n",
      "\u4eca\u56de\u306e\u30e2\u30c7\u30eb\u306e\u307b\u3046\u304c\u53ce\u675f\u304c\u65e9\u304f\u3001\u30b9\u30b1\u30fc\u30ea\u30f3\u30b0\u6b21\u5143\u3092\u898b\u3064\u3051\u308b\u306e\u304c\u5bb9\u6613\u3060\u3068\u308f\u304b\u308b\u304b\u3068\u601d\u3044\u307e\u3059\u3002"
     ]
    },
    {
     "cell_type": "markdown",
     "metadata": {},
     "source": [
      "## Python\u3067\u306e\u5b9f\u884c\n",
      "\n",
      "\n",
      "\u6b21\u306e\u624b\u9806\u306b\u8a08\u7b97\u3092\u958b\u59cb\u3057\u307e\u3059\u3002"
     ]
    },
    {
     "cell_type": "code",
     "collapsed": false,
     "input": [
      "parms_ = {\n",
      "    'LATTICE'              : \"nnn chain lattice\",\n",
      "    'MODEL'                : \"spin\",\n",
      "    'local_S'              : 0.5,\n",
      "    'J'                    : 1,\n",
      "    'J1'                   : 0.25,\n",
      "    'NUMBER_EIGENVALUES'   : 5,\n",
      "    'CONSERVED_QUANTUMNUMBER' : 'Sz',\n",
      "    'Sz_total' : 0\n",
      "}\n",
      "\n",
      "prefix = 'ed05b'\n",
      "parms = []\n",
      "for L in [10,12]:\n",
      "    parms_.update({'L':L})\n",
      "    parms.append(copy.deepcopy(parms_))"
     ],
     "language": "python",
     "metadata": {},
     "outputs": []
    },
    {
     "cell_type": "markdown",
     "metadata": {},
     "source": [
      "\u30b9\u30af\u30ea\u30d7\u30c8\u306e\u4ed6\u306e\u90e8\u5206\u306f ED-04 \u306e\u3082\u306e\u3068\u540c\u3058\u3067\u3059\u3002(tutorial_ed05b.py) \u3092\u53c2\u7167\u3057\u3066\u304f\u3060\u3055\u3044\u3002"
     ]
    }
   ],
   "metadata": {}
  }
 ]
}