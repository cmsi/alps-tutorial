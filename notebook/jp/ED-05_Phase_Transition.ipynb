{
 "metadata": {
  "name": "", 
  "signature": "sha256:5884f2cb08f18215762c06f5410c50b8824223efe5482fa54cb00b3e19a27b3d"
 }, 
 "nbformat": 3, 
 "nbformat_minor": 0, 
 "worksheets": [
  {
   "cells": [
    {
     "cell_type": "markdown", 
     "metadata": {}, 
     "source": [
      "# ALPS 2 Tutorials:ED-05 Phase Transition"
     ]
    }, 
    {
     "cell_type": "markdown", 
     "metadata": {}, 
     "source": [
      "# 次近接相互作用を持つハイゼンベルグ鎖の臨界点\n", 
      "\n", 
      "\n", 
      "このチュートリアルでは、ハイゼンベルグ鎖について（前回：ED-04）の補足をおこないます。ハミルトニアンに次近接相互作用$J_1 \\sum_{\\langle \\langle i,j \\rangle \\rangle} S_i \\cdot S_j$を加えてみましょう。\n", 
      "\n", 
      "\n", 
      "$J_2 = 0$ の極限でこのモデルは普通のハイゼンベルグ鎖に帰着します。これは Bethe 仮設を用いて解くことができ、基底状態は臨界的となります。また、 $J_2/J_1=0.5$ というパラメータも可解系となります（(http://link.aip.org/link/JMAPAQ/v10/i8/p1388/s1)や(http://link.aip.org/link/JMAPAQ/v10/i8/p1399/s1)）。\n", 
      "この点における基底状態（のひとつ）は、例えば $6$ サイト系で\n", 
      "\n", 
      "$|\\Psi\\rangle = \\left(|\\uparrow\\rangle_1 |\\downarrow\\rangle_2 - |\\downarrow\\rangle_1 |\\uparrow\\rangle_2\\right) (|\\uparrow\\rangle_3 |\\downarrow\\rangle_4 - |\\downarrow\\rangle_3 |\\uparrow\\rangle_4) (|\\uparrow\\rangle_5 |\\downarrow\\rangle_6 - |\\downarrow\\rangle_5 |\\uparrow\\rangle_6)$\n", 
      "\n", 
      "となり、有限のエネルギーギャップを持ちます。\n", 
      "\n", 
      "これらのことは、$J_1/J_2 \\in (0,1/2)$ での相転移の存在を示しています。（http://pre.aps.org/pdf/PRE/v76/i6/e061108 を参照してください。）\n", 
      "\n", 
      "\n", 
      "このチュートリアルではまずはじめに、スペクトル（特に異なる対称性間のギャップ）が次近接相互作用を調整することによってどのように変化するかを見ることで臨界点を特定します。\n", 
      "次に、臨界鎖の CFT を取り上げます。解析的には、転移点直上でこのモデルはハイゼンベルグ鎖と同じ CFT によって記述されます。\n", 
      "しかし、数値計算上の観点からは、対数補正を導く、マージナルな演算子の重みはハイゼンベルグ鎖とは対照に0になるため、スケーリング次元はより正確に見積もれます。\n", 
      "\n", 
      "\n", 
      "そこで、エネルギーを計算し、一重項励起($S_z = 0$)、三重項励起 ($S_z=1$)を図示してみましょう。"
     ]
    }, 
    {
     "cell_type": "markdown", 
     "metadata": {}, 
     "source": [
      "## Pythonでの実行\n", 
      "\n", 
      "必要なモジュールをインポートします。"
     ]
    }, 
    {
     "cell_type": "code", 
     "collapsed": false, 
     "input": [
      "import pyalps\n", 
      "import pyalps.plot\n", 
      "from pyalps.dict_intersect import dict_intersect\n", 
      "import numpy as np\n", 
      "import matplotlib.pyplot as plt\n", 
      "import copy\n", 
      "import math"
     ], 
     "language": "python", 
     "metadata": {}, 
     "outputs": []
    }, 
    {
     "cell_type": "markdown", 
     "metadata": {}, 
     "source": [
      "$S_z$ を保存量と指定し、そのうちの $S_z=0,1$ でシミュレーションをおこないます。小さいサイズでもレベルクロスが見られるので、系のサイズは $L=6, 8$ で十分です。"
     ]
    }, 
    {
     "cell_type": "code", 
     "collapsed": false, 
     "input": [
      "prefix = 'ed05a'\n", 
      "parms = []\n", 
      "for L in [6,8]:\n", 
      "    for Szt in [0,1]:\n", 
      "        for J1 in np.linspace(0,0.5,6):\n", 
      "            parms.append({\n", 
      "              'LATTICE'              : \"nnn chain lattice\",\n", 
      "              'MODEL'                : \"spin\",\n", 
      "              'local_S'              : 0.5,\n", 
      "              'J'                    : 1,\n", 
      "              'NUMBER_EIGENVALUES'   : 2,\n", 
      "              'CONSERVED_QUANTUMNUMBER' : 'Sz',\n", 
      "              'Sz_total'             : Szt,\n", 
      "              'J1'                   : J1,\n", 
      "              'L'                    : L\n", 
      "            })\n", 
      "\n", 
      "input_file = pyalps.writeInputFiles(prefix, parms)\n", 
      "res = pyalps.runApplication('sparsediag', input_file)\n", 
      "# res = pyalps.runApplication('sparsediag', input_file, MPI=4)\n", 
      "data = pyalps.loadEigenstateMeasurements(pyalps.getResultFiles(prefix=prefix))"
     ], 
     "language": "python", 
     "metadata": {}, 
     "outputs": []
    }, 
    {
     "cell_type": "markdown", 
     "metadata": {}, 
     "source": [
      "今回のデータ解析は以前のチュートリアルのものより少し複雑です。特に、データセットの階層性を強く利用しています。\n", 
      "物理を理解するためには、基底状態と第一励起状態のみ見れば十分でしょう。もしギャップの計算がわかりづらいと思ったならば、あまり考えすぎないでください。\n", 
      "\n", 
      "最初に、与えられたパラメータ、つまり `J1、L、Sz_total` のセットに対して計算したエネルギーを集めてソートします。\n", 
      "まず、パラメータ `J1, L, Sz_total` を用いてグループ化します。\n", 
      "`grouped` を走るループで、各要素 `group` は、異なる運動量に対するデータを集めたリストを持つことになります。これをひとつにまとめます。\n", 
      "また、`dict_intersect` 関数を使って、まとめたデータセットの `prop` を得ます。\n", 
      "`dict_intersect` は辞書のリストを受け取り、和集合を返します。\n", 
      "また、`NumPy` の `argsort` 関数を用いて、リスト `y` がソートされるようなインデックスのリストを得ます。\n", 
      "これを使うことで、`x` も `y` と同様にソートすることができます。"
     ]
    }, 
    {
     "cell_type": "code", 
     "collapsed": false, 
     "input": [
      "grouped = pyalps.groupSets(pyalps.flatten(data), ['J1', 'L', 'Sz_total'])\n", 
      "nd = []\n", 
      "for group in grouped:\n", 
      "    ally = []\n", 
      "    allx = []\n", 
      "    for q in group:\n", 
      "        ally += list(q.y)\n", 
      "        allx += list(q.x)\n", 
      "    r = pyalps.DataSet()\n", 
      "    sel = np.argsort(ally)\n", 
      "    r.y = np.array(ally)[sel]\n", 
      "    r.x = np.array(allx)[sel]\n", 
      "    r.props = dict_intersect([q.props for q in group])\n", 
      "    nd.append( r )\n", 
      "data = nd"
     ], 
     "language": "python", 
     "metadata": {}, 
     "outputs": []
    }, 
    {
     "cell_type": "markdown", 
     "metadata": {}, 
     "source": [
      "次に、$S_z=0$ の状態を含むデータセットから、$S_z=1$ のデータセットに現れるデータを取り出す必要があります。\n", 
      "（訳注：今回のモデルでは、スピンの回転対称性があるため、全スピンや運動量が等しくで全スピンの $z$ 成分 $S_z$ のみが異なる $2S+1$ 個の状態は縮退している。\n", 
      "逆に言えば、$S_z=m$ の部分空間で得られたスペクトルは、$S \\ge m$ の全てのエネルギースペクトルを（縮退度を抜きにして）含むこととなる。\n", 
      "そのため、下記の操作を行うことで、全スピンがゼロである状態の集合 `s0` と非ゼロである状態の集合 `s1` とに分けることができる。）\n", 
      "\n", 
      "これには、`subtract_spectrum` 関数を使用します。\n", 
      "この関数では、第一引数で与えられたデータセットから、第二引数で与えられたデータセットに含まれるデータが削除されます。\n", 
      "オプション引数として、実数の同値判定における許容範囲（相対誤差）を渡せます。"
     ]
    }, 
    {
     "cell_type": "code", 
     "collapsed": false, 
     "input": [
      "grouped = pyalps.groupSets(pyalps.flatten(data), ['J1', 'L'])\n", 
      "nd = []\n", 
      "for group in grouped:\n", 
      "    if group[0].props['Sz_total'] == 0:\n", 
      "        s0 = group[0]\n", 
      "        s1 = group[1]\n", 
      "    else:\n", 
      "        s0 = group[1]\n", 
      "        s1 = group[0]\n", 
      "    s0 = pyalps.subtract_spectrum(s0, s1)\n", 
      "    nd.append(s0)\n", 
      "    nd.append(s1)\n", 
      "data = nd"
     ], 
     "language": "python", 
     "metadata": {}, 
     "outputs": []
    }, 
    {
     "cell_type": "markdown", 
     "metadata": {}, 
     "source": [
      "基底状態 (`gs`) と第一励起状態 (`fe`)のエネルギーのみを含むデータセットのリスト `sector_E` を生成します。データセットの持つ辞書 `props` に `which` というキーで基底状態 `gs` か励起状態 `fe` を追加することで、状態を区別します。この情報を元に、`collectXY` 関数を用いて、`gs`, `fe` それぞれのエネルギーの次近接相互作用依存性の図を生成することができます。"
     ]
    }, 
    {
     "cell_type": "code", 
     "collapsed": false, 
     "input": [
      "sector_E = []\n", 
      "grouped = pyalps.groupSets(pyalps.flatten(data), ['Sz_total', 'J1', 'L'])\n", 
      "for group in grouped:\n", 
      "    allE = []\n", 
      "    for q in group:\n", 
      "        allE += list(q.y)\n", 
      "    allE = np.sort(allE)\n", 
      "   \n", 
      "    d = pyalps.DataSet()\n", 
      "    d.props = dict_intersect([q.props for q in group])\n", 
      "    d.x = np.array([0])\n", 
      "    d.y = np.array([allE[0]])\n", 
      "    d.props['which'] = 'gs'\n", 
      "    sector_E.append(d)\n", 
      "   \n", 
      "    d2 = copy.deepcopy(d)\n", 
      "    d2.y = np.array([allE[1]])\n", 
      "    d2.props['which'] = 'fe'\n", 
      "    sector_E.append(d2)\n", 
      "\n", 
      "sector_energies = pyalps.collectXY(sector_E, 'J1', 'Energy', ['Sz_total', 'which', 'L'])\n", 
      "plt.figure()\n", 
      "pyalps.plot.plot(sector_energies)\n", 
      "plt.xlabel('$J_1/J$')\n", 
      "plt.ylabel('$E_0$')\n", 
      "plt.legend(prop={'size':8})"
     ], 
     "language": "python", 
     "metadata": {}, 
     "outputs": []
    }, 
    {
     "cell_type": "markdown", 
     "metadata": {}, 
     "source": [
      "最後に、一重項、三重項ギャップの計算をおこないます。それぞれ、\n", 
      "\n", 
      "* 一重項状態（$S_z=0$）の第一励起状態\n", 
      "* 三重項 ($S_z=1$) の基底状態、と一重項状態の基底状態\n", 
      "\n", 
      "とのエネルギー差で定義されます。\n", 
      " "
     ]
    }, 
    {
     "cell_type": "code", 
     "collapsed": false, 
     "input": [
      "grouped = pyalps.groupSets( pyalps.groupSets(pyalps.flatten(data), ['J1', 'L']), ['Sz_total'])\n", 
      " \n", 
      "gaps = []\n", 
      "for J1g in grouped:\n", 
      "    totalmin = 1000\n", 
      "    for q in pyalps.flatten(J1g):\n", 
      "        totalmin = min(totalmin, np.min(q.y))\n", 
      "   \n", 
      "    for Szg in J1g:\n", 
      "        allE = []\n", 
      "        for q in Szg:\n", 
      "            allE += list(q.y)\n", 
      "        allE = np.sort(allE)\n", 
      "        d = pyalps.DataSet()\n", 
      "        d.props = pyalps.dict_intersect([q.props for q in Szg])\n", 
      "        d.props['observable'] = 'gap'\n", 
      "        print totalmin,d.props['Sz_total']\n", 
      "        if d.props['Sz_total'] == 0:\n", 
      "            d.y = np.array([allE[1]-totalmin])\n", 
      "        else:\n", 
      "            d.y = np.array([allE[0]-totalmin])\n", 
      "        d.x = np.array([0])\n", 
      "        d.props['line'] = '.-'\n", 
      "        gaps.append(d)\n", 
      "\n", 
      "gaps = pyalps.collectXY(gaps, 'J1', 'gap', ['Sz_total', 'L'])\n", 
      "\n", 
      "plt.figure()\n", 
      "pyalps.plot.plot(gaps)\n", 
      "plt.xlabel('$J_1/J$')\n", 
      "plt.ylabel('$\\Delta$')\n", 
      "plt.legend(prop={'size':8})\n", 
      "\n", 
      "plt.show()"
     ], 
     "language": "python", 
     "metadata": {}, 
     "outputs": []
    }, 
    {
     "cell_type": "markdown", 
     "metadata": {}, 
     "source": [
      "# 第２近接結合を持つハイゼンベルグ鎖: CFT assignments\n", 
      "\n", 
      "前回のチュートリアルで扱った、最近接相互作用のみの、一様な反強磁性ハイゼンベルグ鎖では系のサイズに対する対数補正が現れますが、\n", 
      "$J1$-$J2$ フラストレート鎖の臨界点ではこの対数補正が劇的に小さくなります。\n", 
      "相互作用のパターンが異なるにもかかわらず、連続極限においてこの2つのモデルは同じ場の理論で表わせるので、$J1$-$J2$ フラストレート鎖の臨界点からハイゼンベルグ鎖のスケーリング次元を得ることができます。より詳細な議論は [I Affleck et al 1989 J. Phys. A: Math. Gen. 22 511](http://dx.doi.org/10.1088/0305-4470/22/5/01) を参照してください。\n", 
      "\n", 
      "\n", 
      "2つのモデルでの、スペクトルの計算結果を比較してみてください。\n", 
      "今回のモデルのほうが収束が早く、スケーリング次元を見つけるのが容易だとわかるかと思います。"
     ]
    }, 
    {
     "cell_type": "markdown", 
     "metadata": {}, 
     "source": [
      "## Pythonでの実行\n", 
      "\n", 
      "\n", 
      "次の手順に計算を開始します。"
     ]
    }, 
    {
     "cell_type": "code", 
     "collapsed": false, 
     "input": [
      "parms_ = {\n", 
      "    'LATTICE'              : \"nnn chain lattice\",\n", 
      "    'MODEL'                : \"spin\",\n", 
      "    'local_S'              : 0.5,\n", 
      "    'J'                    : 1,\n", 
      "    'J1'                   : 0.25,\n", 
      "    'NUMBER_EIGENVALUES'   : 5,\n", 
      "    'CONSERVED_QUANTUMNUMBER' : 'Sz',\n", 
      "    'Sz_total' : 0\n", 
      "}\n", 
      "\n", 
      "prefix = 'ed05b'\n", 
      "parms = []\n", 
      "for L in [10,12]:\n", 
      "    parms_.update({'L':L})\n", 
      "    parms.append(copy.deepcopy(parms_))"
     ], 
     "language": "python", 
     "metadata": {}, 
     "outputs": []
    }, 
    {
     "cell_type": "markdown", 
     "metadata": {}, 
     "source": [
      "スクリプトの他の部分は ED-04 のものと同じです。[tutorial_ed05.py](tutorial_ed05b.py) を参照してください。"
     ]
    }
   ], 
   "metadata": {}
  }
 ]
}