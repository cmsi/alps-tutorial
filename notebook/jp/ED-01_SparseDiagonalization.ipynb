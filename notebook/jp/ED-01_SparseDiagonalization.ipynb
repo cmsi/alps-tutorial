{
 "metadata": {
  "name": "", 
  "signature": "sha256:929daed23fc60e4aa644f7a41096c9ca31c1e1060e1d1850a12c2fff0a52b9ef"
 }, 
 "nbformat": 3, 
 "nbformat_minor": 0, 
 "worksheets": [
  {
   "cells": [
    {
     "cell_type": "markdown", 
     "metadata": {}, 
     "source": [
      "# ALPS 2 Tutorials: ED-01 Sparse Diagonalization"
     ]
    }, 
    {
     "cell_type": "markdown", 
     "metadata": {}, 
     "source": [
      "#  疎行列の対角化\n", 
      "\n", 
      "このチュートリアルでは、Lanczos アルゴリズムを用いた疎行列の対角化プログラムの使用方法を学びます。\n", 
      "\n", 
      "## 1次元ハイゼンベルグ鎖の計算\n", 
      "\n", 
      "### コマンドラインでの実行\n", 
      "\n", 
      "パラメータファイル [ed01a](ed01a)で、$4$ サイト、 $S＝1$ 反強磁性ハイゼンベルグ鎖の厳密対角化計算を設定します。"
     ]
    }, 
    {
     "cell_type": "raw", 
     "metadata": {}, 
     "source": [
      "MODEL=\"spin\"\n", 
      "LATTICE=\"chain lattice\"\n", 
      "CONSERVED_QUANTUMNUMBERS=\"Sz\"\n", 
      "MEASURE_STRUCTURE_FACTOR[Structure Factor Sz]=Sz\n", 
      "MEASURE_CORRELATIONS[Diagonal spin correlations]=Sz\n", 
      "MEASURE_CORRELATIONS[Offdiagonal spin correlations]=\"Splus:Sminus\"\n", 
      "local_S=1\n", 
      "J=1\n", 
      "{L=4;}"
     ]
    }, 
    {
     "cell_type": "markdown", 
     "metadata": {}, 
     "source": [
      "どの物理量の平均値を計算するか、そしてそれはローカルな値なのか、相関関数なのか、はたまた構造因子なのか、といった指定もパラメータファイルで行います。\n", 
      "この指定の詳細は、[こちら](http://alps.comp-phys.org/mediawiki/index.php/Tutorials:MeasureHOWTO/ja) を参照してください。\n", 
      "\n", 
      "以下の標準的な計算手順に従い、入力パラメータファイルを XML 形式に変換し、`sparsediag` を実行します。"
     ]
    }, 
    {
     "cell_type": "code", 
     "collapsed": false, 
     "input": [
      "%%bash\n", 
      "parameter2xml ed01a\n", 
      "sparsediag --write-xml ed01a.in.xml"
     ], 
     "language": "python", 
     "metadata": {}, 
     "outputs": []
    }, 
    {
     "cell_type": "markdown", 
     "metadata": {}, 
     "source": [
      "各部分空間 $(S_z、P)$ における最小固有値や固有状態が計算されます。 $P$ は全運動量です。出力ファイル `ed01a.task1.out.xml` は全計算結果が格納されており、インターネットブラウザを用いて閲覧することができます。このチュートリアルのケースでは基底状態は $Sz=0, P=0$ のセクターです。対角スピン相関は、 XML 形式で次のように示されます。"
     ]
    }, 
    {
     "cell_type": "raw", 
     "metadata": {}, 
     "source": [
      "Diagonal spin correlations[( 0 ) -- ( 0 )]\t(0.666667,0)\n", 
      "Diagonal spin correlations[( 0 ) -- ( 1 )]\t(-0.5,0)\n", 
      "Diagonal spin correlations[( 0 ) -- ( 2 )]\t(0.333333,0)\n", 
      "Diagonal spin correlations[( 0 ) -- ( 3 )]\t(-0.5,0)"
     ]
    }, 
    {
     "cell_type": "markdown", 
     "metadata": {}, 
     "source": [
      "`[( a ) -- ( b )]` で示される `a, b` の数字はサイト番号を表し、全体で `[Sz(a)*Sz(b)]` を意味します。右側の `()` 内の複素数の値は、相関関数を表しています。\n", 
      "\n", 
      "今回の $Sz$ の構造因子は次のような結果になります。"
     ]
    }, 
    {
     "cell_type": "raw", 
     "metadata": {}, 
     "source": [
      "Structure Factor Sz[( 0 )]\t                5.551115123125783e-17\n", 
      "Structure Factor Sz[( 1.570796326794897 )]\t0.333333333333333\n", 
      "Structure Factor Sz[( 3.141592653589793 )]\t2\n", 
      "Structure Factor Sz[( 4.71238898038469 )]\t0.3333333333333329"
     ]
    }, 
    {
     "cell_type": "markdown", 
     "metadata": {}, 
     "source": [
      "`[(q)]` の数字は、波数を表しています。\n", 
      "\n", 
      "パラメータファイルに次の行を加えることで、計算する部分空間を制限することができます。"
     ]
    }, 
    {
     "cell_type": "raw", 
     "metadata": {}, 
     "source": [
      "Sz_total=0"
     ]
    }, 
    {
     "cell_type": "markdown", 
     "metadata": {}, 
     "source": [
      "### Python での実行\n", 
      "\n", 
      "Python で計算の実行を設定します。Python スクリプト[tutorial_ed01a.py](tutorial_ed01a.py)を参照してください。次の記述のように、必要なモジュールのインポート、パラメータの定義、入力ファイルの設定、計算の実行をおこないます。"
     ]
    }, 
    {
     "cell_type": "code", 
     "collapsed": false, 
     "input": [
      "import pyalps\n", 
      "\n", 
      "parms = [{ \n", 
      "         'LATTICE'                   : \"chain lattice\", \n", 
      "         'MODEL'                     : \"spin\",\n", 
      "         'local_S'                   : 1,\n", 
      "         'J'                         : 1,\n", 
      "         'L'                         : 4,\n", 
      "         'CONSERVED_QUANTUMNUMBERS'  : 'Sz',\n", 
      "         'MEASURE_STRUCTURE_FACTOR[Structure Factor S]'        : 'Sz',\n", 
      "         'MEASURE_CORRELATIONS[Diagonal spin correlations]='   : 'Sz',\n", 
      "         'MEASURE_CORRELATIONS[Offdiagonal spin correlations]' : 'Splus:Sminus'\n", 
      "       }]\n", 
      "\n", 
      "input_file = pyalps.writeInputFiles('ed01a',parms)\n", 
      "res = pyalps.runApplication('sparsediag',input_file)"
     ], 
     "language": "python", 
     "metadata": {}, 
     "outputs": []
    }, 
    {
     "cell_type": "markdown", 
     "metadata": {}, 
     "source": [
      "計算の実行には、起動スクリプトの `alpspython` を使用します。前節でおこなったコマンドラインでの実行結果と同じ出力結果が得られます。\n", 
      "\n", 
      "次に、各固有状態の計測結果を読み込みます。"
     ]
    }, 
    {
     "cell_type": "code", 
     "collapsed": false, 
     "input": [
      "data = pyalps.loadEigenstateMeasurements(pyalps.getResultFiles(prefix='ed01a'))"
     ], 
     "language": "python", 
     "metadata": {}, 
     "outputs": []
    }, 
    {
     "cell_type": "markdown", 
     "metadata": {}, 
     "source": [
      "最後に、基底状態における各物理量を表示します。"
     ]
    }, 
    {
     "cell_type": "code", 
     "collapsed": false, 
     "input": [
      "for sector in data[0]:\n", 
      "    print '\\nSector with Sz =', sector[0].props['Sz'], \n", 
      "    print 'and k =', sector[0].props['TOTAL_MOMENTUM']\n", 
      "    for s in sector:\n", 
      "        if pyalps.size(s.y[0])==1:\n", 
      "            print s.props['observable'], ' : ', s.y[0]\n", 
      "        else:\n", 
      "            for (x,y) in zip(s.x,s.y[0]):\n", 
      "                print  s.props['observable'], '(', x, ') : ', y"
     ], 
     "language": "python", 
     "metadata": {}, 
     "outputs": []
    }
   ], 
   "metadata": {}
  }
 ]
}