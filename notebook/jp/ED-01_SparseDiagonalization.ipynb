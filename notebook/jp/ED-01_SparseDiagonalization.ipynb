{
 "metadata": {
  "name": "",
  "signature": "sha256:929daed23fc60e4aa644f7a41096c9ca31c1e1060e1d1850a12c2fff0a52b9ef"
 },
 "nbformat": 3,
 "nbformat_minor": 0,
 "worksheets": [
  {
   "cells": [
    {
     "cell_type": "markdown",
     "metadata": {},
     "source": [
      "# ALPS 2 Tutorials: ED-01 Sparse Diagonalization"
     ]
    },
    {
     "cell_type": "markdown",
     "metadata": {},
     "source": [
      "#  \u758e\u884c\u5217\u306e\u5bfe\u89d2\u5316\n",
      "\n",
      "\u3053\u306e\u30c1\u30e5\u30fc\u30c8\u30ea\u30a2\u30eb\u3067\u306f\u3001Lanczos \u30a2\u30eb\u30b4\u30ea\u30ba\u30e0\u3092\u7528\u3044\u305f\u758e\u884c\u5217\u306e\u5bfe\u89d2\u5316\u30d7\u30ed\u30b0\u30e9\u30e0\u306e\u4f7f\u7528\u65b9\u6cd5\u3092\u5b66\u3073\u307e\u3059\u3002\n",
      "\n",
      "## 1\u6b21\u5143\u30cf\u30a4\u30bc\u30f3\u30d9\u30eb\u30b0\u9396\u306e\u8a08\u7b97\n",
      "\n",
      "### \u30b3\u30de\u30f3\u30c9\u30e9\u30a4\u30f3\u3067\u306e\u5b9f\u884c\n",
      "\n",
      "\u30d1\u30e9\u30e1\u30fc\u30bf\u30d5\u30a1\u30a4\u30eb [ed01a](ed01a)\u3067\u3001$4$ \u30b5\u30a4\u30c8\u3001 $S\uff1d1$ \u53cd\u5f37\u78c1\u6027\u30cf\u30a4\u30bc\u30f3\u30d9\u30eb\u30b0\u9396\u306e\u53b3\u5bc6\u5bfe\u89d2\u5316\u8a08\u7b97\u3092\u8a2d\u5b9a\u3057\u307e\u3059\u3002"
     ]
    },
    {
     "cell_type": "raw",
     "metadata": {},
     "source": [
      "MODEL=\"spin\"\n",
      "LATTICE=\"chain lattice\"\n",
      "CONSERVED_QUANTUMNUMBERS=\"Sz\"\n",
      "MEASURE_STRUCTURE_FACTOR[Structure Factor Sz]=Sz\n",
      "MEASURE_CORRELATIONS[Diagonal spin correlations]=Sz\n",
      "MEASURE_CORRELATIONS[Offdiagonal spin correlations]=\"Splus:Sminus\"\n",
      "local_S=1\n",
      "J=1\n",
      "{L=4;}"
     ]
    },
    {
     "cell_type": "markdown",
     "metadata": {},
     "source": [
      "\u3069\u306e\u7269\u7406\u91cf\u306e\u5e73\u5747\u5024\u3092\u8a08\u7b97\u3059\u308b\u304b\u3001\u305d\u3057\u3066\u305d\u308c\u306f\u30ed\u30fc\u30ab\u30eb\u306a\u5024\u306a\u306e\u304b\u3001\u76f8\u95a2\u95a2\u6570\u306a\u306e\u304b\u3001\u306f\u305f\u307e\u305f\u69cb\u9020\u56e0\u5b50\u306a\u306e\u304b\u3001\u3068\u3044\u3063\u305f\u6307\u5b9a\u3082\u30d1\u30e9\u30e1\u30fc\u30bf\u30d5\u30a1\u30a4\u30eb\u3067\u884c\u3044\u307e\u3059\u3002\n",
      "\u3053\u306e\u6307\u5b9a\u306e\u8a73\u7d30\u306f\u3001[\u3053\u3061\u3089](http://alps.comp-phys.org/mediawiki/index.php/Tutorials:MeasureHOWTO/ja) \u3092\u53c2\u7167\u3057\u3066\u304f\u3060\u3055\u3044\u3002\n",
      "\n",
      "\u4ee5\u4e0b\u306e\u6a19\u6e96\u7684\u306a\u8a08\u7b97\u624b\u9806\u306b\u5f93\u3044\u3001\u5165\u529b\u30d1\u30e9\u30e1\u30fc\u30bf\u30d5\u30a1\u30a4\u30eb\u3092 XML \u5f62\u5f0f\u306b\u5909\u63db\u3057\u3001`sparsediag` \u3092\u5b9f\u884c\u3057\u307e\u3059\u3002"
     ]
    },
    {
     "cell_type": "code",
     "collapsed": false,
     "input": [
      "%%bash\n",
      "parameter2xml ed01a\n",
      "sparsediag --write-xml ed01a.in.xml"
     ],
     "language": "python",
     "metadata": {},
     "outputs": []
    },
    {
     "cell_type": "markdown",
     "metadata": {},
     "source": [
      "\u5404\u90e8\u5206\u7a7a\u9593 $(S_z\u3001P)$ \u306b\u304a\u3051\u308b\u6700\u5c0f\u56fa\u6709\u5024\u3084\u56fa\u6709\u72b6\u614b\u304c\u8a08\u7b97\u3055\u308c\u307e\u3059\u3002 $P$ \u306f\u5168\u904b\u52d5\u91cf\u3067\u3059\u3002\u51fa\u529b\u30d5\u30a1\u30a4\u30eb `ed01a.task1.out.xml` \u306f\u5168\u8a08\u7b97\u7d50\u679c\u304c\u683c\u7d0d\u3055\u308c\u3066\u304a\u308a\u3001\u30a4\u30f3\u30bf\u30fc\u30cd\u30c3\u30c8\u30d6\u30e9\u30a6\u30b6\u3092\u7528\u3044\u3066\u95b2\u89a7\u3059\u308b\u3053\u3068\u304c\u3067\u304d\u307e\u3059\u3002\u3053\u306e\u30c1\u30e5\u30fc\u30c8\u30ea\u30a2\u30eb\u306e\u30b1\u30fc\u30b9\u3067\u306f\u57fa\u5e95\u72b6\u614b\u306f $Sz=0, P=0$ \u306e\u30bb\u30af\u30bf\u30fc\u3067\u3059\u3002\u5bfe\u89d2\u30b9\u30d4\u30f3\u76f8\u95a2\u306f\u3001 XML \u5f62\u5f0f\u3067\u6b21\u306e\u3088\u3046\u306b\u793a\u3055\u308c\u307e\u3059\u3002"
     ]
    },
    {
     "cell_type": "raw",
     "metadata": {},
     "source": [
      "Diagonal spin correlations[( 0 ) -- ( 0 )]\t(0.666667,0)\n",
      "Diagonal spin correlations[( 0 ) -- ( 1 )]\t(-0.5,0)\n",
      "Diagonal spin correlations[( 0 ) -- ( 2 )]\t(0.333333,0)\n",
      "Diagonal spin correlations[( 0 ) -- ( 3 )]\t(-0.5,0)"
     ]
    },
    {
     "cell_type": "markdown",
     "metadata": {},
     "source": [
      "`[( a ) -- ( b )]` \u3067\u793a\u3055\u308c\u308b `a, b` \u306e\u6570\u5b57\u306f\u30b5\u30a4\u30c8\u756a\u53f7\u3092\u8868\u3057\u3001\u5168\u4f53\u3067 `[Sz(a)*Sz(b)]` \u3092\u610f\u5473\u3057\u307e\u3059\u3002\u53f3\u5074\u306e `()` \u5185\u306e\u8907\u7d20\u6570\u306e\u5024\u306f\u3001\u76f8\u95a2\u95a2\u6570\u3092\u8868\u3057\u3066\u3044\u307e\u3059\u3002\n",
      "\n",
      "\u4eca\u56de\u306e $Sz$ \u306e\u69cb\u9020\u56e0\u5b50\u306f\u6b21\u306e\u3088\u3046\u306a\u7d50\u679c\u306b\u306a\u308a\u307e\u3059\u3002"
     ]
    },
    {
     "cell_type": "raw",
     "metadata": {},
     "source": [
      "Structure Factor Sz[( 0 )]\t                5.551115123125783e-17\n",
      "Structure Factor Sz[( 1.570796326794897 )]\t0.333333333333333\n",
      "Structure Factor Sz[( 3.141592653589793 )]\t2\n",
      "Structure Factor Sz[( 4.71238898038469 )]\t0.3333333333333329"
     ]
    },
    {
     "cell_type": "markdown",
     "metadata": {},
     "source": [
      "`[(q)]` \u306e\u6570\u5b57\u306f\u3001\u6ce2\u6570\u3092\u8868\u3057\u3066\u3044\u307e\u3059\u3002\n",
      "\n",
      "\u30d1\u30e9\u30e1\u30fc\u30bf\u30d5\u30a1\u30a4\u30eb\u306b\u6b21\u306e\u884c\u3092\u52a0\u3048\u308b\u3053\u3068\u3067\u3001\u8a08\u7b97\u3059\u308b\u90e8\u5206\u7a7a\u9593\u3092\u5236\u9650\u3059\u308b\u3053\u3068\u304c\u3067\u304d\u307e\u3059\u3002"
     ]
    },
    {
     "cell_type": "raw",
     "metadata": {},
     "source": [
      "Sz_total=0"
     ]
    },
    {
     "cell_type": "markdown",
     "metadata": {},
     "source": [
      "### Python \u3067\u306e\u5b9f\u884c\n",
      "\n",
      "Python \u3067\u8a08\u7b97\u306e\u5b9f\u884c\u3092\u8a2d\u5b9a\u3057\u307e\u3059\u3002Python \u30b9\u30af\u30ea\u30d7\u30c8[tutorial_ed01a.py](tutorial_ed01a.py)\u3092\u53c2\u7167\u3057\u3066\u304f\u3060\u3055\u3044\u3002\u6b21\u306e\u8a18\u8ff0\u306e\u3088\u3046\u306b\u3001\u5fc5\u8981\u306a\u30e2\u30b8\u30e5\u30fc\u30eb\u306e\u30a4\u30f3\u30dd\u30fc\u30c8\u3001\u30d1\u30e9\u30e1\u30fc\u30bf\u306e\u5b9a\u7fa9\u3001\u5165\u529b\u30d5\u30a1\u30a4\u30eb\u306e\u8a2d\u5b9a\u3001\u8a08\u7b97\u306e\u5b9f\u884c\u3092\u304a\u3053\u306a\u3044\u307e\u3059\u3002"
     ]
    },
    {
     "cell_type": "code",
     "collapsed": false,
     "input": [
      "import pyalps\n",
      "\n",
      "parms = [{ \n",
      "         'LATTICE'                   : \"chain lattice\", \n",
      "         'MODEL'                     : \"spin\",\n",
      "         'local_S'                   : 1,\n",
      "         'J'                         : 1,\n",
      "         'L'                         : 4,\n",
      "         'CONSERVED_QUANTUMNUMBERS'  : 'Sz',\n",
      "         'MEASURE_STRUCTURE_FACTOR[Structure Factor S]'        : 'Sz',\n",
      "         'MEASURE_CORRELATIONS[Diagonal spin correlations]='   : 'Sz',\n",
      "         'MEASURE_CORRELATIONS[Offdiagonal spin correlations]' : 'Splus:Sminus'\n",
      "       }]\n",
      "\n",
      "input_file = pyalps.writeInputFiles('ed01a',parms)\n",
      "res = pyalps.runApplication('sparsediag',input_file)"
     ],
     "language": "python",
     "metadata": {},
     "outputs": []
    },
    {
     "cell_type": "markdown",
     "metadata": {},
     "source": [
      "\u8a08\u7b97\u306e\u5b9f\u884c\u306b\u306f\u3001\u8d77\u52d5\u30b9\u30af\u30ea\u30d7\u30c8\u306e `alpspython` \u3092\u4f7f\u7528\u3057\u307e\u3059\u3002\u524d\u7bc0\u3067\u304a\u3053\u306a\u3063\u305f\u30b3\u30de\u30f3\u30c9\u30e9\u30a4\u30f3\u3067\u306e\u5b9f\u884c\u7d50\u679c\u3068\u540c\u3058\u51fa\u529b\u7d50\u679c\u304c\u5f97\u3089\u308c\u307e\u3059\u3002\n",
      "\n",
      "\u6b21\u306b\u3001\u5404\u56fa\u6709\u72b6\u614b\u306e\u8a08\u6e2c\u7d50\u679c\u3092\u8aad\u307f\u8fbc\u307f\u307e\u3059\u3002"
     ]
    },
    {
     "cell_type": "code",
     "collapsed": false,
     "input": [
      "data = pyalps.loadEigenstateMeasurements(pyalps.getResultFiles(prefix='ed01a'))"
     ],
     "language": "python",
     "metadata": {},
     "outputs": []
    },
    {
     "cell_type": "markdown",
     "metadata": {},
     "source": [
      "\u6700\u5f8c\u306b\u3001\u57fa\u5e95\u72b6\u614b\u306b\u304a\u3051\u308b\u5404\u7269\u7406\u91cf\u3092\u8868\u793a\u3057\u307e\u3059\u3002"
     ]
    },
    {
     "cell_type": "code",
     "collapsed": false,
     "input": [
      "for sector in data[0]:\n",
      "    print '\\nSector with Sz =', sector[0].props['Sz'], \n",
      "    print 'and k =', sector[0].props['TOTAL_MOMENTUM']\n",
      "    for s in sector:\n",
      "        if pyalps.size(s.y[0])==1:\n",
      "            print s.props['observable'], ' : ', s.y[0]\n",
      "        else:\n",
      "            for (x,y) in zip(s.x,s.y[0]):\n",
      "                print  s.props['observable'], '(', x, ') : ', y"
     ],
     "language": "python",
     "metadata": {},
     "outputs": []
    }
   ],
   "metadata": {}
  }
 ]
}