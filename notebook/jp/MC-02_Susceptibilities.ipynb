{
 "metadata": {
  "name": "", 
  "signature": "sha256:38141ad32f5f355bf10b47daa2b892ad9c36670e80d378e0757ceb11c7f4d7e0"
 }, 
 "nbformat": 3, 
 "nbformat_minor": 0, 
 "worksheets": [
  {
   "cells": [
    {
     "cell_type": "markdown", 
     "metadata": {}, 
     "source": [
      "# ALPS 2 Tutorials: MC-02 Susceptibilities\n", 
      "\n", 
      "このチュートリアルでは古典的、量子ハイゼンベルグモデルの磁化率や梯子鎖の計算手法を述べます。\n", 
      "\n", 
      "#  1次元古典ハイゼンベルグモデルの磁化率 \n", 
      "##  1次元古典ハイゼンベルグ鎖 \n", 
      "\n", 
      "### コマンドラインでの計算の実行\n", 
      "\n", 
      "[mc02a](mc02a) は、クラスターアップデートを用いた温度 $(T=0.05,0.1,...1.5)$, 60 サイトの一次元鎖の古典ハイゼンベルグモンテカルロシミュレーションのパラメータファイルです。コマンドラインでの計算の実行にあたり、最初にパラメータファイルを生成します。"
     ]
    }, 
    {
     "cell_type": "raw", 
     "metadata": {}, 
     "source": [
      "LATTICE=\"chain lattice\"\n", 
      "L=60\n", 
      "J=-1\n", 
      "THERMALIZATION=15000\n", 
      "SWEEPS=500000 \n", 
      "UPDATE=\"cluster\" \n", 
      "MODEL=\"Heisenberg\"\n", 
      "{T=0.05;}\n", 
      "{T=0.1;}\n", 
      "{T=0.2;}\n", 
      "{T=0.3;}\n", 
      "{T=0.4;}\n", 
      "{T=0.5;}\n", 
      "{T=0.6;}\n", 
      "{T=0.7;}\n", 
      "{T=0.8;}\n", 
      "{T=0.9;}\n", 
      "{T=1.0;}\n", 
      "{T=1.25;}\n", 
      "{T=1.5;}"
     ]
    }, 
    {
     "cell_type": "markdown", 
     "metadata": {}, 
     "source": [
      "そして、次のコマンドで計算を実行させます。"
     ]
    }, 
    {
     "cell_type": "code", 
     "collapsed": false, 
     "input": [
      "%%bash\n", 
      "parameter2xml mc02a\n", 
      "spinmc --Tmin 10 --write-xml mc02a.in.xml"
     ], 
     "language": "python", 
     "metadata": {}, 
     "outputs": []
    }, 
    {
     "cell_type": "markdown", 
     "metadata": {}, 
     "source": [
      "次に、`spinmc_evaluate` モジュールを用いて熱力学的観測値などに関する様々な物理量を求めます。シミュレーションで得られた結果を解析し、出力結果を XMLファイルとして生成します。"
     ]
    }, 
    {
     "cell_type": "code", 
     "collapsed": false, 
     "input": [
      "%%bash\n", 
      "spinmc_evaluate --write-xml mc02a.task[1-15].out.xml"
     ], 
     "language": "python", 
     "metadata": {}, 
     "outputs": []
    }, 
    {
     "cell_type": "markdown", 
     "metadata": {}, 
     "source": [
      "出力結果を格納したファイルは `parm2a.task[1-15].out.xml` に上書きされますので注意してください。`spinmc_evaluate` によって得られる物理量は次の通りです。\n", 
      "\n", 
      "* `Binder Cumulant`\n", 
      "* `Binder Cumulant U2`\n", 
      "* `Binder Cumulant slope`\n", 
      "* `Connected Susceptibility`\n", 
      "* `Magnetization^2 slope`\n", 
      "* `Magnetization^4 slope`\n", 
      "* `Specific Heat`\n", 
      "\n", 
      "シミュレーション出力ファイルには、全計算がおこなわれた後の計算結果がだけが格納されています。ここのモンテカルロステップでの計算の詳細は、各チェックポイント情報を格納しているチェックポイントファイルを XML 形式に変換することによって知ることが可能です。`convert2xml` ツールを次のように使用します。"
     ]
    }, 
    {
     "cell_type": "code", 
     "collapsed": false, 
     "input": [
      "%%bash\n", 
      "convert2xml mc02a.task[1-15].out.run1"
     ], 
     "language": "python", 
     "metadata": {}, 
     "outputs": []
    }, 
    {
     "cell_type": "markdown", 
     "metadata": {}, 
     "source": [
      "この操作によってモンテカルロ計算から摘出された情報を含む、XML 形式のタスクファイル `parm2a.task[1-15].out.run.xml` が生成されます。\n", 
      "\n", 
      "\n", 
      "計算結果をプロットするには、後述する Python 解析ツールの利用を推奨します。"
     ]
    }, 
    {
     "cell_type": "markdown", 
     "metadata": {}, 
     "source": [
      "### Pythonを使った計算の実行\n", 
      "\n", 
      "Pythonを使った計算の実行方法を記述したスクリプト [tutorial_mc02a.py](tutorial_mc02a.py) を使用します。スクリプトの最初の部分で計算モデルや、入力ファイルのインポートをおこないます。"
     ]
    }, 
    {
     "cell_type": "code", 
     "collapsed": false, 
     "input": [
      "import pyalps\n", 
      "import matplotlib.pyplot as plt\n", 
      "import pyalps.plot\n", 
      "\n", 
      "parms = []\n", 
      "for t in [0.05, 0.1, 0.2, 0.3, 0.4, 0.5, 0.6, 0.7, 0.8, 0.9, 1.0, 1.25, 1.5, 1.75, 2.0]:\n", 
      "    parms.append(\n", 
      "        { \n", 
      "          'LATTICE'        : \"chain lattice\", \n", 
      "          'T'              : t,\n", 
      "          'J'              : -1 ,\n", 
      "          'THERMALIZATION' : 10000,\n", 
      "          'SWEEPS'         : 500000,\n", 
      "          'UPDATE'         : \"cluster\",\n", 
      "          'MODEL'          : \"Heisenberg\",\n", 
      "          'L'              : 60\n", 
      "        }\n", 
      "    )"
     ], 
     "language": "python", 
     "metadata": {}, 
     "outputs": []
    }, 
    {
     "cell_type": "markdown", 
     "metadata": {}, 
     "source": [
      "計算の実行には、Python 起動ツール `alpspython` や `vispython` を使用します。\n", 
      "\n", 
      "次に、ジョブファイルを XML 形式に変換します。"
     ]
    }, 
    {
     "cell_type": "code", 
     "collapsed": false, 
     "input": [
      "input_file = pyalps.writeInputFiles('mc02a',parms)\n", 
      "pyalps.runApplication('spinmc',input_file,Tmin=5,writexml=True)"
     ], 
     "language": "python", 
     "metadata": {}, 
     "outputs": []
    }, 
    {
     "cell_type": "markdown", 
     "metadata": {}, 
     "source": [
      "コマンドラインでの実行方法で計算した結果と同じアウトプットファイルが得られます。\n", 
      "\n", 
      "### シミュレーションの評価と Python を使ったプロット\n", 
      "\n", 
      "計算結果を解析し、温度の関数としての磁化率のプロットをおこないます。出力ファイルから `mc02a` を用いて、該当の計算結果データを採取します。このスクリプトは [tutorial_mc02a.py](tutorial_mc02a.py) を参照してください。"
     ]
    }, 
    {
     "cell_type": "code", 
     "collapsed": false, 
     "input": [
      "data = pyalps.loadMeasurements(pyalps.getResultFiles(prefix='mc02a'),'Susceptibility')\n", 
      "susceptibility = pyalps.collectXY(data,x='T',y='Susceptibility')"
     ], 
     "language": "python", 
     "metadata": {}, 
     "outputs": []
    }, 
    {
     "cell_type": "markdown", 
     "metadata": {}, 
     "source": [
      "プロットをおこなうために `pyalps.plot.plot` を使用し、タイトルやラベルなどの設定をおこないます。"
     ]
    }, 
    {
     "cell_type": "code", 
     "collapsed": false, 
     "input": [
      " plt.figure()\n", 
      " pyalps.plot.plot(susceptibility)\n", 
      " plt.xlabel('Temperature $T/J$')\n", 
      " plt.ylabel('Susceptibility $\\chi J$')\n", 
      " plt.ylim(0,0.22)\n", 
      " plt.title('Classical Heisenberg chain')\n", 
      " plt.show()"
     ], 
     "language": "python", 
     "metadata": {}, 
     "outputs": []
    }, 
    {
     "cell_type": "markdown", 
     "metadata": {}, 
     "source": [
      "#  1次元古典ハイゼンベルグ梯子 \n", 
      "\n", 
      "Heisenberg 梯子も同じような手順で求めることができます。主な差異 (`mc02b` 参照)は `LATTICE` の変化と `J0`, `J1` の２つのカップリングです。\n", 
      "\n", 
      "コマンドラインでの計算実行で、最初にパラメータファイル [mc02b](mc02b) を生成します。"
     ]
    }, 
    {
     "cell_type": "raw", 
     "metadata": {}, 
     "source": [
      "LATTICE=\"ladder\"\n", 
      "L=60\n", 
      "J0=-1\n", 
      "J1=-1\n", 
      "THERMALIZATION=15000\n", 
      "SWEEPS=150000\n", 
      "UPDATE=\"cluster\"\n", 
      "MODEL=\"Heisenberg\"\n", 
      "{T=0.05;}\n", 
      "{T=0.1;}\n", 
      "{T=0.2;}\n", 
      "{T=0.3;}\n", 
      "{T=0.4;}\n", 
      "{T=0.5;}\n", 
      "{T=0.6;}\n", 
      "SWEEPS=500000\n", 
      "{T=0.7;}\n", 
      "{T=0.8;}\n", 
      "{T=0.9;}\n", 
      "{T=1.0;}\n", 
      "{T=1.25;}\n", 
      "{T=1.5;}\n", 
      "{T=1.75;}\n", 
      "{T=2.0;}"
     ]
    }, 
    {
     "cell_type": "markdown", 
     "metadata": {}, 
     "source": [
      "入力ファイルは上記のようになり、シミュレーション自体はこれまで紹介してきた方法と同じです。\n", 
      "上記の一連のハイゼンベルグ梯子計算の Python スクリプト [tutorial_mc02b.py](tutorial_mc02b.py) の修正点は、次の3点です。\n", 
      "\n", 
      "* ファイル名 `mc02a`：`mc02b`\n", 
      "* パラメータ `LATTICE`： `ladder`\n", 
      "* `J0、J１` カップリングの設定"
     ]
    }, 
    {
     "cell_type": "markdown", 
     "metadata": {}, 
     "source": [
      "##  設問\n", 
      "\n", 
      "* 磁化率は格子にどのような関係があるかわかりますか？\n", 
      "* 大規模格子や異なる格子（立方格子、三角格子等、`lattices.xml` を見てください）でどうなるか計算してみてください。\n", 
      "\n", 
      "#  1次元量子ハイゼンベルグモデルの磁化率 \n", 
      "##  1次元量子ハイゼンベルグ鎖 \n", 
      "\n", 
      "量子モデルによる計算では、計算モデルに ALPS ライブラリを使用します。計算プログラムは ALPS looper QMC コードを用います。量子モデルでは負符号問題に注意してください。\n", 
      "\n", 
      "\n", 
      "### コマンドラインでの計算の実行\n", 
      "\n", 
      "コマンドラインでの計算実行用のパラメータファイル [mc02c](mc02c) を作成します。"
     ]
    }, 
    {
     "cell_type": "raw", 
     "metadata": {}, 
     "source": [
      "LATTICE=\"chain lattice\" \n", 
      "MODEL=\"spin\"\n", 
      "local_S=1/2\n", 
      "L=60\n", 
      "J=1\n", 
      "THERMALIZATION=15000\n", 
      "SWEEPS=150000\n", 
      "ALGORITHM=\"loop\"\n", 
      "{T=0.05;}\n", 
      "{T=0.1;}\n", 
      "{T=0.2;}\n", 
      "{T=0.3;}\n", 
      "{T=0.4;}\n", 
      "{T=0.5;}\n", 
      "{T=0.6;}\n", 
      "{T=0.7;}\n", 
      "{T=0.75;}\n", 
      "{T=0.8;}\n", 
      "{T=0.9;}\n", 
      "{T=1.0;}\n", 
      "{T=1.25;}\n", 
      "{T=1.5;}\n", 
      "{T=1.75;}\n", 
      "{T=2.0;}"
     ]
    }, 
    {
     "cell_type": "markdown", 
     "metadata": {}, 
     "source": [
      "`looper` コードはアルゴリズムを選択する `ALGORITHM` パラメータの設定が必要です。\n", 
      "実行は次のようにおこないます。"
     ]
    }, 
    {
     "cell_type": "code", 
     "collapsed": false, 
     "input": [
      "%%bash\n", 
      "parameter2xml mc02c\n", 
      "loop mc02c.in.xml"
     ], 
     "language": "python", 
     "metadata": {}, 
     "outputs": []
    }, 
    {
     "cell_type": "markdown", 
     "metadata": {}, 
     "source": [
      "### Pythonを使った実行方法\n", 
      "\n", 
      "次に Python スクリプト [tutorial_mc02c.py](tutorial_mc02c.py) を用いた計算の実行方法を述べます。サンプル計算ではコマンドラインでの計算実行で用いた `mc02c` を使用します。"
     ]
    }, 
    {
     "cell_type": "code", 
     "collapsed": false, 
     "input": [
      "input_file = pyalps.writeInputFiles('mc02c', parms)\n", 
      "pyalps.runApplication('loop', input_file)"
     ], 
     "language": "python", 
     "metadata": {}, 
     "outputs": []
    }, 
    {
     "cell_type": "markdown", 
     "metadata": {}, 
     "source": [
      "### シミュレーションの評価と Python を使ったプロット方法\n", 
      "\n", 
      "図のプロット方法はタイトルとファイル名以外は前に紹介したものと同じです。こちらのコード[tutorial_mc02c.py](tutorial_mc02c.py) を参考にしてください。"
     ]
    }, 
    {
     "cell_type": "markdown", 
     "metadata": {}, 
     "source": [
      "##  １次元量子ハイゼンベルグ梯子 \n", 
      "\n", 
      "インプットファイルと実行スクリプトを精査してください。\n", 
      "コマンドラインでの実行方法、パラメータファイル [mc02d](mc02d)、Python スクリプト[tutorial_mc02d.py](tutorial_mc02d.py) になります。"
     ]
    }, 
    {
     "cell_type": "markdown", 
     "metadata": {}, 
     "source": [
      "# シミュレーションの統合\n", 
      "\n", 
      "最後に、４つのシミュレーションを統合し実行する方法を紹介します。\n", 
      "\n", 
      "## Python\n", 
      "\n", 
      "4 種類のシミュレーション実行後、スクリプト [tutorial_mc02full.py](tutorial_mc02full.py) を使用してみてください。\n", 
      "\n", 
      "全計算結果をロードし、データ構造をフラットにします。"
     ]
    }, 
    {
     "cell_type": "code", 
     "collapsed": false, 
     "input": [
      "import pyalps\n", 
      "import matplotlib.pyplot as plt\n", 
      "import pyalps.plot\n", 
      "\n", 
      "data = pyalps.loadMeasurements(pyalps.getResultFiles(),'Susceptibility')\n", 
      "data = pyalps.flatten(data)"
     ], 
     "language": "python", 
     "metadata": {}, 
     "outputs": []
    }, 
    {
     "cell_type": "markdown", 
     "metadata": {}, 
     "source": [
      "温度の関数としての磁化率を収集し、格子、モデルパラメータの値に応じてデータを設定します。"
     ]
    }, 
    {
     "cell_type": "code", 
     "collapsed": false, 
     "input": [
      "susceptibility = pyalps.collectXY(data,x='T',y='Susceptibility',foreach=['MODEL','LATTICE'])"
     ], 
     "language": "python", 
     "metadata": {}, 
     "outputs": []
    }, 
    {
     "cell_type": "markdown", 
     "metadata": {}, 
     "source": [
      "次に、Python コードで実用的な入出力ラベル（名称）の設定をおこないます。"
     ]
    }, 
    {
     "cell_type": "code", 
     "collapsed": false, 
     "input": [
      "for s in susceptibility:\n", 
      "   if s.props['LATTICE']=='chain lattice':\n", 
      "       s.props['label'] = \"chain\"\n", 
      "   elif s.props['LATTICE']=='ladder':\n", 
      "       s.props['label'] = \"ladder\"\n", 
      "   if s.props['MODEL']=='spin':\n", 
      "       s.props['label'] = \"quantum \" + s.props['label']\n", 
      "   elif s.props['MODEL']=='Heisenberg':\n", 
      "       s.props['label'] = \"classical \" + s.props['label']"
     ], 
     "language": "python", 
     "metadata": {}, 
     "outputs": []
    }, 
    {
     "cell_type": "markdown", 
     "metadata": {}, 
     "source": [
      "最後に、"
     ]
    }, 
    {
     "cell_type": "code", 
     "collapsed": false, 
     "input": [
      "plt.figure()\n", 
      "pyalps.plot.plot(susceptibility)\n", 
      "plt.xlabel('Temperature $T/J$')\n", 
      "plt.ylabel('Susceptibility $\\chi J$')\n", 
      "plt.ylim(0,0.25)\n", 
      "plt.legend()\n", 
      "plt.show()"
     ], 
     "language": "python", 
     "metadata": {}, 
     "outputs": []
    }, 
    {
     "cell_type": "markdown", 
     "metadata": {}, 
     "source": [
      "# 設問\n", 
      "\n", 
      "* 古典計算と量子計算の間に違いはありますか？\n", 
      "* 格子によって磁化率はどうかわりますか？\n", 
      "* なぜ磁化率が変わるのかわかりますか？\n", 
      "\n", 
      "参考までに、次図は、４つの計算結果をまとめてプロットしたものです。"
     ]
    }, 
    {
     "cell_type": "markdown", 
     "metadata": {}, 
     "source": [
      "<vistrail host=\"alps.comp-phys.org\" db=\"tutorials\" vtid=\"3\" version=\"37\" embedworkflow=\"True\" showspreadsheetonly=\"True\"/>"
     ]
    }, 
    {
     "cell_type": "markdown", 
     "metadata": {}, 
     "source": [
      "&copy; 2003-2010 by Simon Trebst, Fabien Alet, Matthias Troyer, Synge Todo, and Emanuel Gul"
     ]
    }
   ], 
   "metadata": {}
  }
 ]
}