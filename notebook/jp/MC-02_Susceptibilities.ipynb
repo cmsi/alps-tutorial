{
 "metadata": {
  "name": "",
  "signature": "sha256:38141ad32f5f355bf10b47daa2b892ad9c36670e80d378e0757ceb11c7f4d7e0"
 },
 "nbformat": 3,
 "nbformat_minor": 0,
 "worksheets": [
  {
   "cells": [
    {
     "cell_type": "markdown",
     "metadata": {},
     "source": [
      "# ALPS 2 Tutorials: MC-02 Susceptibilities\n",
      "\n",
      "\u3053\u306e\u30c1\u30e5\u30fc\u30c8\u30ea\u30a2\u30eb\u3067\u306f\u53e4\u5178\u7684\u3001\u91cf\u5b50\u30cf\u30a4\u30bc\u30f3\u30d9\u30eb\u30b0\u30e2\u30c7\u30eb\u306e\u78c1\u5316\u7387\u3084\u68af\u5b50\u9396\u306e\u8a08\u7b97\u624b\u6cd5\u3092\u8ff0\u3079\u307e\u3059\u3002\n",
      "\n",
      "#  1\u6b21\u5143\u53e4\u5178\u30cf\u30a4\u30bc\u30f3\u30d9\u30eb\u30b0\u30e2\u30c7\u30eb\u306e\u78c1\u5316\u7387 \n",
      "##  1\u6b21\u5143\u53e4\u5178\u30cf\u30a4\u30bc\u30f3\u30d9\u30eb\u30b0\u9396 \n",
      "\n",
      "### \u30b3\u30de\u30f3\u30c9\u30e9\u30a4\u30f3\u3067\u306e\u8a08\u7b97\u306e\u5b9f\u884c\n",
      "\n",
      "[mc02a](mc02a) \u306f\u3001\u30af\u30e9\u30b9\u30bf\u30fc\u30a2\u30c3\u30d7\u30c7\u30fc\u30c8\u3092\u7528\u3044\u305f\u6e29\u5ea6 $(T=0.05,0.1,...1.5)$, 60 \u30b5\u30a4\u30c8\u306e\u4e00\u6b21\u5143\u9396\u306e\u53e4\u5178\u30cf\u30a4\u30bc\u30f3\u30d9\u30eb\u30b0\u30e2\u30f3\u30c6\u30ab\u30eb\u30ed\u30b7\u30df\u30e5\u30ec\u30fc\u30b7\u30e7\u30f3\u306e\u30d1\u30e9\u30e1\u30fc\u30bf\u30d5\u30a1\u30a4\u30eb\u3067\u3059\u3002\u30b3\u30de\u30f3\u30c9\u30e9\u30a4\u30f3\u3067\u306e\u8a08\u7b97\u306e\u5b9f\u884c\u306b\u3042\u305f\u308a\u3001\u6700\u521d\u306b\u30d1\u30e9\u30e1\u30fc\u30bf\u30d5\u30a1\u30a4\u30eb\u3092\u751f\u6210\u3057\u307e\u3059\u3002"
     ]
    },
    {
     "cell_type": "raw",
     "metadata": {},
     "source": [
      "LATTICE=\"chain lattice\"\n",
      "L=60\n",
      "J=-1\n",
      "THERMALIZATION=15000\n",
      "SWEEPS=500000 \n",
      "UPDATE=\"cluster\" \n",
      "MODEL=\"Heisenberg\"\n",
      "{T=0.05;}\n",
      "{T=0.1;}\n",
      "{T=0.2;}\n",
      "{T=0.3;}\n",
      "{T=0.4;}\n",
      "{T=0.5;}\n",
      "{T=0.6;}\n",
      "{T=0.7;}\n",
      "{T=0.8;}\n",
      "{T=0.9;}\n",
      "{T=1.0;}\n",
      "{T=1.25;}\n",
      "{T=1.5;}"
     ]
    },
    {
     "cell_type": "markdown",
     "metadata": {},
     "source": [
      "\u305d\u3057\u3066\u3001\u6b21\u306e\u30b3\u30de\u30f3\u30c9\u3067\u8a08\u7b97\u3092\u5b9f\u884c\u3055\u305b\u307e\u3059\u3002"
     ]
    },
    {
     "cell_type": "code",
     "collapsed": false,
     "input": [
      "%%bash\n",
      "parameter2xml mc02a\n",
      "spinmc --Tmin 10 --write-xml mc02a.in.xml"
     ],
     "language": "python",
     "metadata": {},
     "outputs": []
    },
    {
     "cell_type": "markdown",
     "metadata": {},
     "source": [
      "\u6b21\u306b\u3001`spinmc_evaluate` \u30e2\u30b8\u30e5\u30fc\u30eb\u3092\u7528\u3044\u3066\u71b1\u529b\u5b66\u7684\u89b3\u6e2c\u5024\u306a\u3069\u306b\u95a2\u3059\u308b\u69d8\u3005\u306a\u7269\u7406\u91cf\u3092\u6c42\u3081\u307e\u3059\u3002\u30b7\u30df\u30e5\u30ec\u30fc\u30b7\u30e7\u30f3\u3067\u5f97\u3089\u308c\u305f\u7d50\u679c\u3092\u89e3\u6790\u3057\u3001\u51fa\u529b\u7d50\u679c\u3092 XML\u30d5\u30a1\u30a4\u30eb\u3068\u3057\u3066\u751f\u6210\u3057\u307e\u3059\u3002"
     ]
    },
    {
     "cell_type": "code",
     "collapsed": false,
     "input": [
      "%%bash\n",
      "spinmc_evaluate --write-xml mc02a.task[1-15].out.xml"
     ],
     "language": "python",
     "metadata": {},
     "outputs": []
    },
    {
     "cell_type": "markdown",
     "metadata": {},
     "source": [
      "\u51fa\u529b\u7d50\u679c\u3092\u683c\u7d0d\u3057\u305f\u30d5\u30a1\u30a4\u30eb\u306f `parm2a.task[1-15].out.xml` \u306b\u4e0a\u66f8\u304d\u3055\u308c\u307e\u3059\u306e\u3067\u6ce8\u610f\u3057\u3066\u304f\u3060\u3055\u3044\u3002`spinmc_evaluate` \u306b\u3088\u3063\u3066\u5f97\u3089\u308c\u308b\u7269\u7406\u91cf\u306f\u6b21\u306e\u901a\u308a\u3067\u3059\u3002\n",
      "\n",
      "* `Binder Cumulant`\n",
      "* `Binder Cumulant U2`\n",
      "* `Binder Cumulant slope`\n",
      "* `Connected Susceptibility`\n",
      "* `Magnetization^2 slope`\n",
      "* `Magnetization^4 slope`\n",
      "* `Specific Heat`\n",
      "\n",
      "\u30b7\u30df\u30e5\u30ec\u30fc\u30b7\u30e7\u30f3\u51fa\u529b\u30d5\u30a1\u30a4\u30eb\u306b\u306f\u3001\u5168\u8a08\u7b97\u304c\u304a\u3053\u306a\u308f\u308c\u305f\u5f8c\u306e\u8a08\u7b97\u7d50\u679c\u304c\u3060\u3051\u304c\u683c\u7d0d\u3055\u308c\u3066\u3044\u307e\u3059\u3002\u3053\u3053\u306e\u30e2\u30f3\u30c6\u30ab\u30eb\u30ed\u30b9\u30c6\u30c3\u30d7\u3067\u306e\u8a08\u7b97\u306e\u8a73\u7d30\u306f\u3001\u5404\u30c1\u30a7\u30c3\u30af\u30dd\u30a4\u30f3\u30c8\u60c5\u5831\u3092\u683c\u7d0d\u3057\u3066\u3044\u308b\u30c1\u30a7\u30c3\u30af\u30dd\u30a4\u30f3\u30c8\u30d5\u30a1\u30a4\u30eb\u3092 XML \u5f62\u5f0f\u306b\u5909\u63db\u3059\u308b\u3053\u3068\u306b\u3088\u3063\u3066\u77e5\u308b\u3053\u3068\u304c\u53ef\u80fd\u3067\u3059\u3002`convert2xml` \u30c4\u30fc\u30eb\u3092\u6b21\u306e\u3088\u3046\u306b\u4f7f\u7528\u3057\u307e\u3059\u3002"
     ]
    },
    {
     "cell_type": "code",
     "collapsed": false,
     "input": [
      "%%bash\n",
      "convert2xml mc02a.task[1-15].out.run1"
     ],
     "language": "python",
     "metadata": {},
     "outputs": []
    },
    {
     "cell_type": "markdown",
     "metadata": {},
     "source": [
      "\u3053\u306e\u64cd\u4f5c\u306b\u3088\u3063\u3066\u30e2\u30f3\u30c6\u30ab\u30eb\u30ed\u8a08\u7b97\u304b\u3089\u6458\u51fa\u3055\u308c\u305f\u60c5\u5831\u3092\u542b\u3080\u3001XML \u5f62\u5f0f\u306e\u30bf\u30b9\u30af\u30d5\u30a1\u30a4\u30eb `parm2a.task[1-15].out.run.xml` \u304c\u751f\u6210\u3055\u308c\u307e\u3059\u3002\n",
      "\n",
      "\n",
      "\u8a08\u7b97\u7d50\u679c\u3092\u30d7\u30ed\u30c3\u30c8\u3059\u308b\u306b\u306f\u3001\u5f8c\u8ff0\u3059\u308b Python \u89e3\u6790\u30c4\u30fc\u30eb\u306e\u5229\u7528\u3092\u63a8\u5968\u3057\u307e\u3059\u3002"
     ]
    },
    {
     "cell_type": "markdown",
     "metadata": {},
     "source": [
      "### Python\u3092\u4f7f\u3063\u305f\u8a08\u7b97\u306e\u5b9f\u884c\n",
      "\n",
      "Python\u3092\u4f7f\u3063\u305f\u8a08\u7b97\u306e\u5b9f\u884c\u65b9\u6cd5\u3092\u8a18\u8ff0\u3057\u305f\u30b9\u30af\u30ea\u30d7\u30c8 [tutorial_mc02a.py](tutorial_mc02a.py) \u3092\u4f7f\u7528\u3057\u307e\u3059\u3002\u30b9\u30af\u30ea\u30d7\u30c8\u306e\u6700\u521d\u306e\u90e8\u5206\u3067\u8a08\u7b97\u30e2\u30c7\u30eb\u3084\u3001\u5165\u529b\u30d5\u30a1\u30a4\u30eb\u306e\u30a4\u30f3\u30dd\u30fc\u30c8\u3092\u304a\u3053\u306a\u3044\u307e\u3059\u3002"
     ]
    },
    {
     "cell_type": "code",
     "collapsed": false,
     "input": [
      "import pyalps\n",
      "import matplotlib.pyplot as plt\n",
      "import pyalps.plot\n",
      "\n",
      "parms = []\n",
      "for t in [0.05, 0.1, 0.2, 0.3, 0.4, 0.5, 0.6, 0.7, 0.8, 0.9, 1.0, 1.25, 1.5, 1.75, 2.0]:\n",
      "    parms.append(\n",
      "        { \n",
      "          'LATTICE'        : \"chain lattice\", \n",
      "          'T'              : t,\n",
      "          'J'              : -1 ,\n",
      "          'THERMALIZATION' : 10000,\n",
      "          'SWEEPS'         : 500000,\n",
      "          'UPDATE'         : \"cluster\",\n",
      "          'MODEL'          : \"Heisenberg\",\n",
      "          'L'              : 60\n",
      "        }\n",
      "    )"
     ],
     "language": "python",
     "metadata": {},
     "outputs": []
    },
    {
     "cell_type": "markdown",
     "metadata": {},
     "source": [
      "\u8a08\u7b97\u306e\u5b9f\u884c\u306b\u306f\u3001Python \u8d77\u52d5\u30c4\u30fc\u30eb `alpspython` \u3084 `vispython` \u3092\u4f7f\u7528\u3057\u307e\u3059\u3002\n",
      "\n",
      "\u6b21\u306b\u3001\u30b8\u30e7\u30d6\u30d5\u30a1\u30a4\u30eb\u3092 XML \u5f62\u5f0f\u306b\u5909\u63db\u3057\u307e\u3059\u3002"
     ]
    },
    {
     "cell_type": "code",
     "collapsed": false,
     "input": [
      "input_file = pyalps.writeInputFiles('mc02a',parms)\n",
      "pyalps.runApplication('spinmc',input_file,Tmin=5,writexml=True)"
     ],
     "language": "python",
     "metadata": {},
     "outputs": []
    },
    {
     "cell_type": "markdown",
     "metadata": {},
     "source": [
      "\u30b3\u30de\u30f3\u30c9\u30e9\u30a4\u30f3\u3067\u306e\u5b9f\u884c\u65b9\u6cd5\u3067\u8a08\u7b97\u3057\u305f\u7d50\u679c\u3068\u540c\u3058\u30a2\u30a6\u30c8\u30d7\u30c3\u30c8\u30d5\u30a1\u30a4\u30eb\u304c\u5f97\u3089\u308c\u307e\u3059\u3002\n",
      "\n",
      "### \u30b7\u30df\u30e5\u30ec\u30fc\u30b7\u30e7\u30f3\u306e\u8a55\u4fa1\u3068 Python \u3092\u4f7f\u3063\u305f\u30d7\u30ed\u30c3\u30c8\n",
      "\n",
      "\u8a08\u7b97\u7d50\u679c\u3092\u89e3\u6790\u3057\u3001\u6e29\u5ea6\u306e\u95a2\u6570\u3068\u3057\u3066\u306e\u78c1\u5316\u7387\u306e\u30d7\u30ed\u30c3\u30c8\u3092\u304a\u3053\u306a\u3044\u307e\u3059\u3002\u51fa\u529b\u30d5\u30a1\u30a4\u30eb\u304b\u3089 `mc02a` \u3092\u7528\u3044\u3066\u3001\u8a72\u5f53\u306e\u8a08\u7b97\u7d50\u679c\u30c7\u30fc\u30bf\u3092\u63a1\u53d6\u3057\u307e\u3059\u3002\u3053\u306e\u30b9\u30af\u30ea\u30d7\u30c8\u306f [tutorial_mc02a.py](tutorial_mc02a.py) \u3092\u53c2\u7167\u3057\u3066\u304f\u3060\u3055\u3044\u3002"
     ]
    },
    {
     "cell_type": "code",
     "collapsed": false,
     "input": [
      "data = pyalps.loadMeasurements(pyalps.getResultFiles(prefix='mc02a'),'Susceptibility')\n",
      "susceptibility = pyalps.collectXY(data,x='T',y='Susceptibility')"
     ],
     "language": "python",
     "metadata": {},
     "outputs": []
    },
    {
     "cell_type": "markdown",
     "metadata": {},
     "source": [
      "\u30d7\u30ed\u30c3\u30c8\u3092\u304a\u3053\u306a\u3046\u305f\u3081\u306b `pyalps.plot.plot` \u3092\u4f7f\u7528\u3057\u3001\u30bf\u30a4\u30c8\u30eb\u3084\u30e9\u30d9\u30eb\u306a\u3069\u306e\u8a2d\u5b9a\u3092\u304a\u3053\u306a\u3044\u307e\u3059\u3002"
     ]
    },
    {
     "cell_type": "code",
     "collapsed": false,
     "input": [
      " plt.figure()\n",
      " pyalps.plot.plot(susceptibility)\n",
      " plt.xlabel('Temperature $T/J$')\n",
      " plt.ylabel('Susceptibility $\\chi J$')\n",
      " plt.ylim(0,0.22)\n",
      " plt.title('Classical Heisenberg chain')\n",
      " plt.show()"
     ],
     "language": "python",
     "metadata": {},
     "outputs": []
    },
    {
     "cell_type": "markdown",
     "metadata": {},
     "source": [
      "#  1\u6b21\u5143\u53e4\u5178\u30cf\u30a4\u30bc\u30f3\u30d9\u30eb\u30b0\u68af\u5b50 \n",
      "\n",
      "Heisenberg \u68af\u5b50\u3082\u540c\u3058\u3088\u3046\u306a\u624b\u9806\u3067\u6c42\u3081\u308b\u3053\u3068\u304c\u3067\u304d\u307e\u3059\u3002\u4e3b\u306a\u5dee\u7570 (`mc02b` \u53c2\u7167)\u306f `LATTICE` \u306e\u5909\u5316\u3068 `J0`, `J1` \u306e\uff12\u3064\u306e\u30ab\u30c3\u30d7\u30ea\u30f3\u30b0\u3067\u3059\u3002\n",
      "\n",
      "\u30b3\u30de\u30f3\u30c9\u30e9\u30a4\u30f3\u3067\u306e\u8a08\u7b97\u5b9f\u884c\u3067\u3001\u6700\u521d\u306b\u30d1\u30e9\u30e1\u30fc\u30bf\u30d5\u30a1\u30a4\u30eb [mc02b](mc02b) \u3092\u751f\u6210\u3057\u307e\u3059\u3002"
     ]
    },
    {
     "cell_type": "raw",
     "metadata": {},
     "source": [
      "LATTICE=\"ladder\"\n",
      "L=60\n",
      "J0=-1\n",
      "J1=-1\n",
      "THERMALIZATION=15000\n",
      "SWEEPS=150000\n",
      "UPDATE=\"cluster\"\n",
      "MODEL=\"Heisenberg\"\n",
      "{T=0.05;}\n",
      "{T=0.1;}\n",
      "{T=0.2;}\n",
      "{T=0.3;}\n",
      "{T=0.4;}\n",
      "{T=0.5;}\n",
      "{T=0.6;}\n",
      "SWEEPS=500000\n",
      "{T=0.7;}\n",
      "{T=0.8;}\n",
      "{T=0.9;}\n",
      "{T=1.0;}\n",
      "{T=1.25;}\n",
      "{T=1.5;}\n",
      "{T=1.75;}\n",
      "{T=2.0;}"
     ]
    },
    {
     "cell_type": "markdown",
     "metadata": {},
     "source": [
      "\u5165\u529b\u30d5\u30a1\u30a4\u30eb\u306f\u4e0a\u8a18\u306e\u3088\u3046\u306b\u306a\u308a\u3001\u30b7\u30df\u30e5\u30ec\u30fc\u30b7\u30e7\u30f3\u81ea\u4f53\u306f\u3053\u308c\u307e\u3067\u7d39\u4ecb\u3057\u3066\u304d\u305f\u65b9\u6cd5\u3068\u540c\u3058\u3067\u3059\u3002\n",
      "\u4e0a\u8a18\u306e\u4e00\u9023\u306e\u30cf\u30a4\u30bc\u30f3\u30d9\u30eb\u30b0\u68af\u5b50\u8a08\u7b97\u306e Python \u30b9\u30af\u30ea\u30d7\u30c8 [tutorial_mc02b.py](tutorial_mc02b.py) \u306e\u4fee\u6b63\u70b9\u306f\u3001\u6b21\u306e3\u70b9\u3067\u3059\u3002\n",
      "\n",
      "* \u30d5\u30a1\u30a4\u30eb\u540d `mc02a`\uff1a`mc02b`\n",
      "* \u30d1\u30e9\u30e1\u30fc\u30bf `LATTICE`\uff1a `ladder`\n",
      "* `J0\u3001J\uff11` \u30ab\u30c3\u30d7\u30ea\u30f3\u30b0\u306e\u8a2d\u5b9a"
     ]
    },
    {
     "cell_type": "markdown",
     "metadata": {},
     "source": [
      "##  \u8a2d\u554f\n",
      "\n",
      "* \u78c1\u5316\u7387\u306f\u683c\u5b50\u306b\u3069\u306e\u3088\u3046\u306a\u95a2\u4fc2\u304c\u3042\u308b\u304b\u308f\u304b\u308a\u307e\u3059\u304b\uff1f\n",
      "* \u5927\u898f\u6a21\u683c\u5b50\u3084\u7570\u306a\u308b\u683c\u5b50\uff08\u7acb\u65b9\u683c\u5b50\u3001\u4e09\u89d2\u683c\u5b50\u7b49\u3001`lattices.xml` \u3092\u898b\u3066\u304f\u3060\u3055\u3044\uff09\u3067\u3069\u3046\u306a\u308b\u304b\u8a08\u7b97\u3057\u3066\u307f\u3066\u304f\u3060\u3055\u3044\u3002\n",
      "\n",
      "#  1\u6b21\u5143\u91cf\u5b50\u30cf\u30a4\u30bc\u30f3\u30d9\u30eb\u30b0\u30e2\u30c7\u30eb\u306e\u78c1\u5316\u7387 \n",
      "##  1\u6b21\u5143\u91cf\u5b50\u30cf\u30a4\u30bc\u30f3\u30d9\u30eb\u30b0\u9396 \n",
      "\n",
      "\u91cf\u5b50\u30e2\u30c7\u30eb\u306b\u3088\u308b\u8a08\u7b97\u3067\u306f\u3001\u8a08\u7b97\u30e2\u30c7\u30eb\u306b ALPS \u30e9\u30a4\u30d6\u30e9\u30ea\u3092\u4f7f\u7528\u3057\u307e\u3059\u3002\u8a08\u7b97\u30d7\u30ed\u30b0\u30e9\u30e0\u306f ALPS looper QMC \u30b3\u30fc\u30c9\u3092\u7528\u3044\u307e\u3059\u3002\u91cf\u5b50\u30e2\u30c7\u30eb\u3067\u306f\u8ca0\u7b26\u53f7\u554f\u984c\u306b\u6ce8\u610f\u3057\u3066\u304f\u3060\u3055\u3044\u3002\n",
      "\n",
      "\n",
      "### \u30b3\u30de\u30f3\u30c9\u30e9\u30a4\u30f3\u3067\u306e\u8a08\u7b97\u306e\u5b9f\u884c\n",
      "\n",
      "\u30b3\u30de\u30f3\u30c9\u30e9\u30a4\u30f3\u3067\u306e\u8a08\u7b97\u5b9f\u884c\u7528\u306e\u30d1\u30e9\u30e1\u30fc\u30bf\u30d5\u30a1\u30a4\u30eb [mc02c](mc02c) \u3092\u4f5c\u6210\u3057\u307e\u3059\u3002"
     ]
    },
    {
     "cell_type": "raw",
     "metadata": {},
     "source": [
      "LATTICE=\"chain lattice\" \n",
      "MODEL=\"spin\"\n",
      "local_S=1/2\n",
      "L=60\n",
      "J=1\n",
      "THERMALIZATION=15000\n",
      "SWEEPS=150000\n",
      "ALGORITHM=\"loop\"\n",
      "{T=0.05;}\n",
      "{T=0.1;}\n",
      "{T=0.2;}\n",
      "{T=0.3;}\n",
      "{T=0.4;}\n",
      "{T=0.5;}\n",
      "{T=0.6;}\n",
      "{T=0.7;}\n",
      "{T=0.75;}\n",
      "{T=0.8;}\n",
      "{T=0.9;}\n",
      "{T=1.0;}\n",
      "{T=1.25;}\n",
      "{T=1.5;}\n",
      "{T=1.75;}\n",
      "{T=2.0;}"
     ]
    },
    {
     "cell_type": "markdown",
     "metadata": {},
     "source": [
      "`looper` \u30b3\u30fc\u30c9\u306f\u30a2\u30eb\u30b4\u30ea\u30ba\u30e0\u3092\u9078\u629e\u3059\u308b `ALGORITHM` \u30d1\u30e9\u30e1\u30fc\u30bf\u306e\u8a2d\u5b9a\u304c\u5fc5\u8981\u3067\u3059\u3002\n",
      "\u5b9f\u884c\u306f\u6b21\u306e\u3088\u3046\u306b\u304a\u3053\u306a\u3044\u307e\u3059\u3002"
     ]
    },
    {
     "cell_type": "code",
     "collapsed": false,
     "input": [
      "%%bash\n",
      "parameter2xml mc02c\n",
      "loop mc02c.in.xml"
     ],
     "language": "python",
     "metadata": {},
     "outputs": []
    },
    {
     "cell_type": "markdown",
     "metadata": {},
     "source": [
      "### Python\u3092\u4f7f\u3063\u305f\u5b9f\u884c\u65b9\u6cd5\n",
      "\n",
      "\u6b21\u306b Python \u30b9\u30af\u30ea\u30d7\u30c8 [tutorial_mc02c.py](tutorial_mc02c.py) \u3092\u7528\u3044\u305f\u8a08\u7b97\u306e\u5b9f\u884c\u65b9\u6cd5\u3092\u8ff0\u3079\u307e\u3059\u3002\u30b5\u30f3\u30d7\u30eb\u8a08\u7b97\u3067\u306f\u30b3\u30de\u30f3\u30c9\u30e9\u30a4\u30f3\u3067\u306e\u8a08\u7b97\u5b9f\u884c\u3067\u7528\u3044\u305f `mc02c` \u3092\u4f7f\u7528\u3057\u307e\u3059\u3002"
     ]
    },
    {
     "cell_type": "code",
     "collapsed": false,
     "input": [
      "input_file = pyalps.writeInputFiles('mc02c', parms)\n",
      "pyalps.runApplication('loop', input_file)"
     ],
     "language": "python",
     "metadata": {},
     "outputs": []
    },
    {
     "cell_type": "markdown",
     "metadata": {},
     "source": [
      "### \u30b7\u30df\u30e5\u30ec\u30fc\u30b7\u30e7\u30f3\u306e\u8a55\u4fa1\u3068 Python \u3092\u4f7f\u3063\u305f\u30d7\u30ed\u30c3\u30c8\u65b9\u6cd5\n",
      "\n",
      "\u56f3\u306e\u30d7\u30ed\u30c3\u30c8\u65b9\u6cd5\u306f\u30bf\u30a4\u30c8\u30eb\u3068\u30d5\u30a1\u30a4\u30eb\u540d\u4ee5\u5916\u306f\u524d\u306b\u7d39\u4ecb\u3057\u305f\u3082\u306e\u3068\u540c\u3058\u3067\u3059\u3002\u3053\u3061\u3089\u306e\u30b3\u30fc\u30c9[tutorial_mc02c.py](tutorial_mc02c.py) \u3092\u53c2\u8003\u306b\u3057\u3066\u304f\u3060\u3055\u3044\u3002"
     ]
    },
    {
     "cell_type": "markdown",
     "metadata": {},
     "source": [
      "##  \uff11\u6b21\u5143\u91cf\u5b50\u30cf\u30a4\u30bc\u30f3\u30d9\u30eb\u30b0\u68af\u5b50 \n",
      "\n",
      "\u30a4\u30f3\u30d7\u30c3\u30c8\u30d5\u30a1\u30a4\u30eb\u3068\u5b9f\u884c\u30b9\u30af\u30ea\u30d7\u30c8\u3092\u7cbe\u67fb\u3057\u3066\u304f\u3060\u3055\u3044\u3002\n",
      "\u30b3\u30de\u30f3\u30c9\u30e9\u30a4\u30f3\u3067\u306e\u5b9f\u884c\u65b9\u6cd5\u3001\u30d1\u30e9\u30e1\u30fc\u30bf\u30d5\u30a1\u30a4\u30eb [mc02d](mc02d)\u3001Python \u30b9\u30af\u30ea\u30d7\u30c8[tutorial_mc02d.py](tutorial_mc02d.py) \u306b\u306a\u308a\u307e\u3059\u3002"
     ]
    },
    {
     "cell_type": "markdown",
     "metadata": {},
     "source": [
      "# \u30b7\u30df\u30e5\u30ec\u30fc\u30b7\u30e7\u30f3\u306e\u7d71\u5408\n",
      "\n",
      "\u6700\u5f8c\u306b\u3001\uff14\u3064\u306e\u30b7\u30df\u30e5\u30ec\u30fc\u30b7\u30e7\u30f3\u3092\u7d71\u5408\u3057\u5b9f\u884c\u3059\u308b\u65b9\u6cd5\u3092\u7d39\u4ecb\u3057\u307e\u3059\u3002\n",
      "\n",
      "## Python\n",
      "\n",
      "4 \u7a2e\u985e\u306e\u30b7\u30df\u30e5\u30ec\u30fc\u30b7\u30e7\u30f3\u5b9f\u884c\u5f8c\u3001\u30b9\u30af\u30ea\u30d7\u30c8 [tutorial_mc02full.py](tutorial_mc02full.py) \u3092\u4f7f\u7528\u3057\u3066\u307f\u3066\u304f\u3060\u3055\u3044\u3002\n",
      "\n",
      "\u5168\u8a08\u7b97\u7d50\u679c\u3092\u30ed\u30fc\u30c9\u3057\u3001\u30c7\u30fc\u30bf\u69cb\u9020\u3092\u30d5\u30e9\u30c3\u30c8\u306b\u3057\u307e\u3059\u3002"
     ]
    },
    {
     "cell_type": "code",
     "collapsed": false,
     "input": [
      "import pyalps\n",
      "import matplotlib.pyplot as plt\n",
      "import pyalps.plot\n",
      "\n",
      "data = pyalps.loadMeasurements(pyalps.getResultFiles(),'Susceptibility')\n",
      "data = pyalps.flatten(data)"
     ],
     "language": "python",
     "metadata": {},
     "outputs": []
    },
    {
     "cell_type": "markdown",
     "metadata": {},
     "source": [
      "\u6e29\u5ea6\u306e\u95a2\u6570\u3068\u3057\u3066\u306e\u78c1\u5316\u7387\u3092\u53ce\u96c6\u3057\u3001\u683c\u5b50\u3001\u30e2\u30c7\u30eb\u30d1\u30e9\u30e1\u30fc\u30bf\u306e\u5024\u306b\u5fdc\u3058\u3066\u30c7\u30fc\u30bf\u3092\u8a2d\u5b9a\u3057\u307e\u3059\u3002"
     ]
    },
    {
     "cell_type": "code",
     "collapsed": false,
     "input": [
      "susceptibility = pyalps.collectXY(data,x='T',y='Susceptibility',foreach=['MODEL','LATTICE'])"
     ],
     "language": "python",
     "metadata": {},
     "outputs": []
    },
    {
     "cell_type": "markdown",
     "metadata": {},
     "source": [
      "\u6b21\u306b\u3001Python \u30b3\u30fc\u30c9\u3067\u5b9f\u7528\u7684\u306a\u5165\u51fa\u529b\u30e9\u30d9\u30eb\uff08\u540d\u79f0\uff09\u306e\u8a2d\u5b9a\u3092\u304a\u3053\u306a\u3044\u307e\u3059\u3002"
     ]
    },
    {
     "cell_type": "code",
     "collapsed": false,
     "input": [
      "for s in susceptibility:\n",
      "   if s.props['LATTICE']=='chain lattice':\n",
      "       s.props['label'] = \"chain\"\n",
      "   elif s.props['LATTICE']=='ladder':\n",
      "       s.props['label'] = \"ladder\"\n",
      "   if s.props['MODEL']=='spin':\n",
      "       s.props['label'] = \"quantum \" + s.props['label']\n",
      "   elif s.props['MODEL']=='Heisenberg':\n",
      "       s.props['label'] = \"classical \" + s.props['label']"
     ],
     "language": "python",
     "metadata": {},
     "outputs": []
    },
    {
     "cell_type": "markdown",
     "metadata": {},
     "source": [
      "\u6700\u5f8c\u306b\u3001"
     ]
    },
    {
     "cell_type": "code",
     "collapsed": false,
     "input": [
      "plt.figure()\n",
      "pyalps.plot.plot(susceptibility)\n",
      "plt.xlabel('Temperature $T/J$')\n",
      "plt.ylabel('Susceptibility $\\chi J$')\n",
      "plt.ylim(0,0.25)\n",
      "plt.legend()\n",
      "plt.show()"
     ],
     "language": "python",
     "metadata": {},
     "outputs": []
    },
    {
     "cell_type": "markdown",
     "metadata": {},
     "source": [
      "# \u8a2d\u554f\n",
      "\n",
      "* \u53e4\u5178\u8a08\u7b97\u3068\u91cf\u5b50\u8a08\u7b97\u306e\u9593\u306b\u9055\u3044\u306f\u3042\u308a\u307e\u3059\u304b\uff1f\n",
      "* \u683c\u5b50\u306b\u3088\u3063\u3066\u78c1\u5316\u7387\u306f\u3069\u3046\u304b\u308f\u308a\u307e\u3059\u304b\uff1f\n",
      "* \u306a\u305c\u78c1\u5316\u7387\u304c\u5909\u308f\u308b\u306e\u304b\u308f\u304b\u308a\u307e\u3059\u304b\uff1f\n",
      "\n",
      "\u53c2\u8003\u307e\u3067\u306b\u3001\u6b21\u56f3\u306f\u3001\uff14\u3064\u306e\u8a08\u7b97\u7d50\u679c\u3092\u307e\u3068\u3081\u3066\u30d7\u30ed\u30c3\u30c8\u3057\u305f\u3082\u306e\u3067\u3059\u3002"
     ]
    },
    {
     "cell_type": "markdown",
     "metadata": {},
     "source": [
      "<vistrail host=\"alps.comp-phys.org\" db=\"tutorials\" vtid=\"3\" version=\"37\" embedworkflow=\"True\" showspreadsheetonly=\"True\"/>"
     ]
    },
    {
     "cell_type": "markdown",
     "metadata": {},
     "source": [
      "&copy; 2003-2010 by Simon Trebst, Fabien Alet, Matthias Troyer, Synge Todo, and Emanuel Gul"
     ]
    }
   ],
   "metadata": {}
  }
 ]
}