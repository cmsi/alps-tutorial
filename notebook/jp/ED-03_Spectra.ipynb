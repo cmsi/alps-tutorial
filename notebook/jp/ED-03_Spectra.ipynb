{
 "metadata": {
  "name": "", 
  "signature": "sha256:712ce0555c24428dd4545277132fc9481b1ddf112365734dce3a5ce19ae2c0b6"
 }, 
 "nbformat": 3, 
 "nbformat_minor": 0, 
 "worksheets": [
  {
   "cells": [
    {
     "cell_type": "markdown", 
     "metadata": {}, 
     "source": [
      "# ALPS 2 Tutorials: ED-03 Spectra"
     ]
    }, 
    {
     "cell_type": "markdown", 
     "metadata": {}, 
     "source": [
      "# 1次元量子系のスペクトル\n", 
      "\n", 
      "このチュートリアルでは、様々な $1$ 次元格子上での量子ハイゼンベルグモデルのスペクトルの計算方法を説明します。反復対角化ソルバーである Lanczos 法で実装されている `sparsediag` が計算のメイン部分です。\n", 
      "\n", 
      "## ハイゼンベルグ鎖\n", 
      "\n", 
      "### コマンドラインでのシミュレーションの実行\n", 
      "\n", 
      "最初に、$S=1/2$ 反強磁性ハイゼンベルグ鎖を計算します。 パラメータファイル [ed03a](ed03a)は、$L=10,...,16, S_z=0$ の ED シミュレーションを設定します。"
     ]
    }, 
    {
     "cell_type": "raw", 
     "metadata": {}, 
     "source": [
      "LATTICE = \"chain lattice\", \n", 
      "MODEL = \"spin\",\n", 
      "local_S = 0.5,\n", 
      "J = 1,\n", 
      "CONSERVED_QUANTUMNUMBERS = \"Sz\"\n", 
      "Sz_total = 0\n", 
      "{ L = 10; }\n", 
      "{ L = 12; }\n", 
      "{ L = 14; }\n", 
      "{ L = 16; }"
     ]
    }, 
    {
     "cell_type": "markdown", 
     "metadata": {}, 
     "source": [
      "次の手順で、対角化の計算を実行してください。計算が終了したら、計算結果 `ed03a.out.xml` をブラウザで確認してください。"
     ]
    }, 
    {
     "cell_type": "code", 
     "collapsed": false, 
     "input": [
      "%%bash\n", 
      "parameter2xml ed03a\n", 
      "sparsediag --write-xml ed03a.in.xml"
     ], 
     "language": "python", 
     "metadata": {}, 
     "outputs": [
      {
       "output_type": "stream", 
       "stream": "stdout", 
       "text": [
        "Converting parameter file ed03a to ed03a.in.xml\n", 
        "ALPS sparse diagonalization application version 1.1\n", 
        "  available from http://alps.comp-phys.org/\n", 
        "  copyright (c) 2003-2007 by Matthias Troyer <troyer@comp-phys.org>\n", 
        " for details see the publication:\n", 
        "  A.F. Albuquerque et al., J. of Magn. and Magn. Materials 310, 1187 (2007).\n", 
        "\n", 
        "using the ALPS parallelizing scheduler\n", 
        "  copyright (c) 1994-2006 by Matthias Troyer <troyer@comp-phys.org>.\n", 
        "  see Lecture Notes in Computer Science, Vol. 1505, p. 191 (1998).\n", 
        "\n", 
        "based on the ALPS libraries version 2.2.b3-r7527\n", 
        "  available from http://alps.comp-phys.org/\n", 
        "  copyright (c) 1994-2013 by the ALPS collaboration.\n", 
        "  Consult the web page for license details.\n", 
        "  For details see the publication: \n", 
        "  B. Bauer et al., J. Stat. Mech. (2011) P05001.\n", 
        "\n", 
        "parsing task files ... \n", 
        "Starting task 1.\n", 
        "Checking if it is finished: not yet, next check in 60 seconds ( 0% done).\n", 
        "Halted Simulation 1\n", 
        "This task took 7 seconds.\n", 
        "Checkpointing Simulation 1\n", 
        "Checkpointing Simulation 2\n", 
        "Checkpointing Simulation 3\n", 
        "Checkpointing Simulation 4\n", 
        "Starting task 2.\n", 
        "Checking if it is finished: not yet, next check in 60 seconds ( 0% done).\n", 
        "Halted Simulation 2\n", 
        "This task took 10 seconds.\n", 
        "Checkpointing Simulation 1\n", 
        "Checkpointing Simulation 2\n", 
        "Checkpointing Simulation 3\n", 
        "Checkpointing Simulation 4\n", 
        "Starting task 3.\n", 
        "Checking if it is finished: not yet, next check in 60 seconds ( 0% done).\n", 
        "Halted Simulation 3\n", 
        "This task took 14 seconds.\n", 
        "Checkpointing Simulation 1\n", 
        "Checkpointing Simulation 2\n", 
        "Checkpointing Simulation 3\n", 
        "Checkpointing Simulation 4\n", 
        "Starting task 4.\n", 
        "Checking if it is finished: not yet, next check in 60 seconds ( 0% done).\n", 
        "Halted Simulation 4\n", 
        "This task took 20 seconds.\n", 
        "Checkpointing Simulation 1\n", 
        "Checkpointing Simulation 2\n", 
        "Checkpointing Simulation 3\n", 
        "Checkpointing Simulation 4\n", 
        "Finished with everything.\n"
       ]
      }, 
      {
       "output_type": "stream", 
       "stream": "stderr", 
       "text": [
        "Starting Lanczos \n", 
        "Finished Lanczos\n", 
        "Starting Lanczos \n", 
        "Finished Lanczos\n", 
        "Starting Lanczos \n", 
        "Finished Lanczos\n", 
        "Starting Lanczos \n", 
        "Finished Lanczos\n", 
        "Starting Lanczos \n", 
        "Finished Lanczos\n", 
        "Starting Lanczos \n", 
        "Finished Lanczos\n", 
        "Starting Lanczos \n", 
        "Finished Lanczos\n", 
        "Starting Lanczos \n", 
        "Finished Lanczos\n", 
        "Starting Lanczos \n", 
        "Finished Lanczos\n", 
        "Starting Lanczos \n", 
        "Finished Lanczos\n", 
        "0 sectors\n", 
        "Starting Lanczos \n", 
        "Finished Lanczos\n", 
        "Starting Lanczos \n", 
        "Finished Lanczos\n", 
        "Starting Lanczos \n", 
        "Finished Lanczos\n", 
        "Starting Lanczos \n", 
        "Finished Lanczos\n", 
        "Starting Lanczos \n", 
        "Finished Lanczos\n", 
        "Starting Lanczos \n", 
        "Finished Lanczos\n", 
        "Starting Lanczos \n", 
        "Finished Lanczos\n", 
        "Starting Lanczos \n", 
        "Finished Lanczos\n", 
        "Starting Lanczos \n", 
        "Finished Lanczos\n", 
        "Starting Lanczos \n", 
        "Finished Lanczos\n", 
        "Starting Lanczos \n", 
        "Finished Lanczos\n", 
        "Starting Lanczos \n", 
        "Finished Lanczos\n", 
        "0 sectors\n", 
        "Starting Lanczos \n", 
        "Finished Lanczos\n", 
        "Starting Lanczos \n", 
        "Finished Lanczos\n", 
        "Starting Lanczos \n", 
        "Finished Lanczos\n", 
        "Starting Lanczos \n", 
        "Finished Lanczos\n", 
        "Starting Lanczos \n", 
        "Finished Lanczos\n", 
        "Starting Lanczos \n", 
        "Finished Lanczos\n", 
        "Starting Lanczos \n", 
        "Finished Lanczos\n", 
        "Starting Lanczos \n", 
        "Finished Lanczos\n", 
        "Starting Lanczos \n", 
        "Finished Lanczos\n", 
        "Starting Lanczos \n", 
        "Finished Lanczos\n", 
        "Starting Lanczos \n", 
        "Finished Lanczos\n", 
        "Starting Lanczos \n", 
        "Finished Lanczos\n", 
        "Starting Lanczos \n", 
        "Finished Lanczos\n", 
        "Starting Lanczos \n", 
        "Finished Lanczos\n", 
        "0 sectors\n", 
        "Starting Lanczos \n", 
        "Finished Lanczos\n", 
        "Starting Lanczos \n", 
        "Finished Lanczos\n", 
        "Starting Lanczos \n", 
        "Finished Lanczos\n", 
        "Starting Lanczos \n", 
        "Finished Lanczos\n", 
        "Starting Lanczos \n", 
        "Finished Lanczos\n", 
        "Starting Lanczos \n", 
        "Finished Lanczos\n", 
        "Starting Lanczos \n", 
        "Finished Lanczos\n", 
        "Starting Lanczos \n", 
        "Finished Lanczos\n", 
        "Starting Lanczos \n", 
        "Finished Lanczos\n", 
        "Starting Lanczos \n", 
        "Finished Lanczos\n", 
        "Starting Lanczos \n", 
        "Finished Lanczos\n", 
        "Starting Lanczos \n", 
        "Finished Lanczos\n", 
        "Starting Lanczos \n", 
        "Finished Lanczos\n", 
        "Starting Lanczos \n", 
        "Finished Lanczos\n", 
        "Starting Lanczos \n", 
        "Finished Lanczos\n", 
        "Starting Lanczos \n", 
        "Finished Lanczos\n"
       ]
      }
     ], 
     "prompt_number": 1
    }, 
    {
     "cell_type": "markdown", 
     "metadata": {}, 
     "source": [
      "### Python でのシミュレーションの実行\n", 
      "\n", 
      "Python を使った計算の実行方法を記述したスクリプト [tutorial_ed03a.py](tutorial_ed03a.py) を使用します。計算の実行には、Python 起動ツール `alpspython` を使用します。\n", 
      "\n", 
      "どのように入力データを定義するかは、次のスクリプトを参照してください。"
     ]
    }, 
    {
     "cell_type": "code", 
     "collapsed": false, 
     "input": [
      "import pyalps\n", 
      "import numpy as np\n", 
      "import matplotlib.pyplot as plt\n", 
      "import pyalps.plot\n", 
      " \n", 
      "parms=[]\n", 
      "for l in [10, 12, 14, 16]:\n", 
      "    parms.append(\n", 
      "      { \n", 
      "        'LATTICE'                   : \"chain lattice\", \n", 
      "        'MODEL'                     : \"spin\",\n", 
      "        'local_S'                   : 0.5,\n", 
      "        'J'                         : 1,\n", 
      "        'L'                         : l,\n", 
      "        'CONSERVED_QUANTUMNUMBERS'  : 'Sz',\n", 
      "        'Sz_total'                  : 0\n", 
      "      }\n", 
      "    )"
     ], 
     "language": "python", 
     "metadata": {}, 
     "outputs": [
      {
       "output_type": "stream", 
       "stream": "stderr", 
       "text": [
        "/opt/local/Library/Frameworks/Python.framework/Versions/2.7/lib/python2.7/site-packages/matplotlib/__init__.py:1256: UserWarning:  This call to matplotlib.use() has no effect\n", 
        "because the backend has already been chosen;\n", 
        "matplotlib.use() must be called *before* pylab, matplotlib.pyplot,\n", 
        "or matplotlib.backends is imported for the first time.\n", 
        "\n", 
        "  warnings.warn(_use_error_msg)\n"
       ]
      }
     ], 
     "prompt_number": 2
    }, 
    {
     "cell_type": "markdown", 
     "metadata": {}, 
     "source": [
      "次に、入力パラメーターを XML ジョブファイルに記述し、`sparsediag` 計算を実行します。"
     ]
    }, 
    {
     "cell_type": "code", 
     "collapsed": false, 
     "input": [
      "input_file = pyalps.writeInputFiles('ed03a', parms)\n", 
      "res = pyalps.runApplication('sparsediag', input_file)"
     ], 
     "language": "python", 
     "metadata": {}, 
     "outputs": [
      {
       "output_type": "stream", 
       "stream": "stdout", 
       "text": [
        "sparsediag ed03a.in.xml\n"
       ]
      }
     ], 
     "prompt_number": 3
    }, 
    {
     "cell_type": "markdown", 
     "metadata": {}, 
     "source": [
      "スペクトルをプロットするために、計算結果の HDF5 ファイルをロードします。"
     ]
    }, 
    {
     "cell_type": "code", 
     "collapsed": false, 
     "input": [
      "data = pyalps.loadSpectra(pyalps.getResultFiles(prefix='ed03a'))"
     ], 
     "language": "python", 
     "metadata": {}, 
     "outputs": [], 
     "prompt_number": 4
    }, 
    {
     "cell_type": "markdown", 
     "metadata": {}, 
     "source": [
      "各システムサイズ `L` の `DataSet` ごとにエネルギーを集めます。集めた全固有値から基底エネルギーを求め、この基底エネルギーからの差を運動量の関数としてプロットします。\n", 
      "ここできれいなグラフを作るために、各々のグラフの線種 `line` やラベル `label` を指定します。"
     ]
    }, 
    {
     "cell_type": "code", 
     "collapsed": false, 
     "input": [
      "spectra = {}\n", 
      "for sim in data:\n", 
      "    l = int(sim[0].props['L'])\n", 
      "    all_energies = []\n", 
      "    spectrum = pyalps.DataSet()\n", 
      "    for sec in sim:\n", 
      "        all_energies += list(sec.y)\n", 
      "        spectrum.x = np.concatenate((spectrum.x,np.array([sec.props['TOTAL_MOMENTUM']\n", 
      "                                                          for i in range(len(sec.y))])))\n", 
      "        spectrum.y = np.concatenate((spectrum.y,sec.y))\n", 
      "    spectrum.y -= np.min(all_energies)\n", 
      "    spectrum.props['line'] = 'scatter'\n", 
      "    spectrum.props['label'] = 'L='+str(l)\n", 
      "    spectra[l] = spectrum"
     ], 
     "language": "python", 
     "metadata": {}, 
     "outputs": [], 
     "prompt_number": 5
    }, 
    {
     "cell_type": "markdown", 
     "metadata": {}, 
     "source": [
      "次の手順で、$１$ つの図に異なるサイズで求めたスペクトルをプロットします。"
     ]
    }, 
    {
     "cell_type": "code", 
     "collapsed": false, 
     "input": [
      "plt.figure()\n", 
      "pyalps.plot.plot(spectra.values())\n", 
      "plt.legend()\n", 
      "plt.title('Antiferromagnetic Heisenberg chain (S=1/2)')\n", 
      "plt.ylabel('Energy')\n", 
      "plt.xlabel('Momentum')\n", 
      "plt.xlim(0,2*3.1416)\n", 
      "plt.ylim(0,2)\n", 
      "plt.show()"
     ], 
     "language": "python", 
     "metadata": {}, 
     "outputs": [
      {
       "metadata": {}, 
       "output_type": "display_data", 
       "png": "[encoded data removed]", 
       "text": [
        "<matplotlib.figure.Figure at 0x10b2ade50>"
       ]
      }
     ], 
     "prompt_number": 6
    }, 
    {
     "cell_type": "markdown", 
     "metadata": {}, 
     "source": [
      "## 二本足ハイゼンベルグ梯子\n", 
      "\n", 
      "上記の計算例の入力パラメータを修正することで、二本足ハイゼンベルグ梯子のスペクトルを計算することができます。修正したパラメータは[ed03b](ed03b)です。"
     ]
    }, 
    {
     "cell_type": "raw", 
     "metadata": {}, 
     "source": [
      "LATTICE = \"ladder\"\n", 
      "MODEL = \"spin\"\n", 
      "local_S = 0.5\n", 
      "J0 = 1\n", 
      "J1 = 1\n", 
      "CONSERVED_QUANTUMNUMBERS = \"Sz\"\n", 
      "Sz_total = 0\n", 
      "{ L = 6; }\n", 
      "{ L = 8; }\n", 
      "{ L = 10; }"
     ]
    }, 
    {
     "cell_type": "markdown", 
     "metadata": {}, 
     "source": [
      "`chain lattice` を `ladder` に変更します。また、legs, rungs の $2$ つの相互作用 `J0, J1` を定義します。他に、梯子は $2 L$ 個のスピンを持つのでシステムサイズ $L$ を縮小します。Python スクリプトでも同様の修正をおこないます。修正後のスクリプトは、[tutorial_ed03b.py](tutorial_ed03b.py)です。"
     ]
    }, 
    {
     "cell_type": "markdown", 
     "metadata": {}, 
     "source": [
      "## ダイマー\n", 
      "\n", 
      "梯子格子で $J0 = 0$ とすることで、$L$ 個の孤立ダイマーの計算ができます。パラメータファイルは [ed03c](ed03c)、Python スクリプトは[tutorial_ed03c.py](tutorial_ed03c.p) です。"
     ]
    }, 
    {
     "cell_type": "markdown", 
     "metadata": {}, 
     "source": [
      "## 設問\n", 
      "\n", 
      "* 様々なサイズから得られるスペクトルは、どのようなバンドをとるのか確認してください。\n", 
      "* ハイゼンベルグ梯子で、束縛状態があることを示してください。\n", 
      "* ハイゼンベルグ鎖、ハイゼンベルグ梯子のスペクトルで、最も大きな差は何ですか？\n", 
      "* 孤立ダイマーのスペクトルはどうなっていますか？\n", 
      "* 梯子格子で相互作用を変化させることで、ハイゼンベルグ鎖と孤立ダイマーの両極限の間で、どのようにスペクトルが変化するのかを見てください。\n", 
      "* おまけ：システムサイズに対する鎖のスペクトルの変化をよく観察してみてください。$L/2$ が偶数か奇数かで違いがありますが、説明できますか？熱力学的極限(TDL)、つまり $L$ が無限大の極限ではどうなるでしょうか"
     ]
    }
   ], 
   "metadata": {}
  }
 ]
}