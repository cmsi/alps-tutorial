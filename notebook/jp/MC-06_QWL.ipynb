{
 "metadata": {
  "name": "",
  "signature": "sha256:a40c6165a21254de713ba8df47977354f680894bbd6873f23cb3179e0170c928"
 },
 "nbformat": 3,
 "nbformat_minor": 0,
 "worksheets": [
  {
   "cells": [
    {
     "cell_type": "markdown",
     "metadata": {},
     "source": [
      "# ALPS 2 Tutorials: MC-06 QWL\n",
      "\n",
      "\u91cf\u5b50 Wang-Landau \u30a2\u30eb\u30b4\u30ea\u30ba\u30e0\u3092\u7528\u3044\u305f QMC \u30b7\u30df\u30e5\u30ec\u30fc\u30b7\u30e7\u30f3\u306e\u30c1\u30e5\u30fc\u30c8\u30ea\u30a2\u30eb\u3067\u3059\u3002"
     ]
    },
    {
     "cell_type": "markdown",
     "metadata": {},
     "source": [
      "# \u91cf\u5b50\u30cf\u30a4\u30bc\u30f3\u30d9\u30eb\u30b0\u30b9\u30d4\u30f3\u9396\u306e\u71b1\u529b\u5b66\u7684\u7279\u6027\n",
      "\n",
      "##  \u5f37\u78c1\u6027\u30cf\u30a4\u30bc\u30f3\u30d9\u30eb\u30b0\u9396\n",
      "\n",
      "ALPS \u306e `qwl` \u30b3\u30fc\u30c9\u3092\u7528\u3044\u3066\u30b9\u30d4\u30f3\u9396\u306e\u30b7\u30df\u30e5\u30ec\u30fc\u30b7\u30e7\u30f3\u306e\u30c1\u30e5\u30fc\u30c8\u30ea\u30a2\u30eb\u3092\u304a\u3053\u306a\u3044\u307e\u3059\u3002\n",
      "\n",
      "### \u30b3\u30de\u30f3\u30c9\u30e9\u30a4\u30f3\u3067\u306e\u8a08\u7b97\u306e\u5b9f\u884c\n",
      "\n",
      "[mc06a](mc06a)\u306f\u3001\u91cf\u5b50 Wang-Landau(QWL) \u6cd5\u3092\u7528\u3044\u305f $1$ \u6b21\u5143 $40$ \u30b5\u30a4\u30c8\u306e\u5f37\u78c1\u6027\u30cf\u30a4\u30bc\u30f3\u30d9\u30eb\u30b0\u91cf\u5b50\u30e2\u30f3\u30c6\u30ab\u30eb\u30ed\u8a08\u7b97\u306e\u30d1\u30e9\u30e1\u30fc\u30bf\u30d5\u30a1\u30a4\u30eb\u3067\u3059\u3002"
     ]
    },
    {
     "cell_type": "raw",
     "metadata": {},
     "source": [
      "LATTICE=\"chain lattice\" \n",
      "MODEL=\"spin\"\n",
      "local_S   = 1/2\n",
      "L       = 40\n",
      "CUTOFF  = 500\n",
      "{J = -1}"
     ]
    },
    {
     "cell_type": "markdown",
     "metadata": {},
     "source": [
      "\u5165\u529b\u30d5\u30a1\u30a4\u30eb\u3092\u6e96\u5099\u5f8c\u3001`qwl` \u30b3\u30fc\u30c9\u3092\u5b9f\u884c\u3057\u307e\u3059\u3002"
     ]
    },
    {
     "cell_type": "code",
     "collapsed": false,
     "input": [
      "%%bash\n",
      "parameter2xml mc06a\n",
      "qwl  mc06a.in.xml"
     ],
     "language": "python",
     "metadata": {},
     "outputs": []
    },
    {
     "cell_type": "markdown",
     "metadata": {},
     "source": [
      "`qwl_evaluate` \u30b3\u30de\u30f3\u30c9\u3092\u7528\u3044\u3066\u71b1\u529b\u5b66\u7684\u89b3\u6e2c\u5024\u3084\u78c1\u6027\u306b\u95a2\u3059\u308b\u51fa\u529b\u7d50\u679c\u3092 XML \u30d7\u30ed\u30c3\u30c8\u30d5\u30a1\u30a4\u30eb\u3068\u3057\u3066\u751f\u6210\u3059\u308b\u3053\u3068\u304c\u53ef\u80fd\u3067\u3059\u3002\n",
      "\u524d\u7ae0\u3067\u304a\u3053\u306a\u3063\u3066\u304d\u305f `spinmc_evaluate` \u7b49\u3068\u5f15\u6570\u304c\u7570\u306a\u308b\u3053\u3068\u306b\u6ce8\u610f\u3057\u3066\u304f\u3060\u3055\u3044\u3002"
     ]
    },
    {
     "cell_type": "code",
     "collapsed": false,
     "input": [
      "%%bash\n",
      "qwl_evaluate --T_MIN 0.1 --T_MAX 10 --DELTA_T 0.1 mc06a.task1.out.xml"
     ],
     "language": "python",
     "metadata": {},
     "outputs": []
    },
    {
     "cell_type": "markdown",
     "metadata": {},
     "source": [
      "\u6b21\u306e XML \u30d5\u30a1\u30a4\u30eb\u304c\u751f\u6210\u3055\u308c\u307e\u3059\u3002\n",
      "```\n",
      "parm6a.task1.plot.energy.xml\n",
      "parm6a.task1.plot.free_energy.xml\n",
      "parm6a.task1.plot.entropy.xml\n",
      "parm6a.task1.plot.specific_heat.xml\n",
      "parm6a.task1.plot.uniform_structure_factor.xml\n",
      "parm6a.task1.plot.staggered_structure_factor.xml\n",
      "parm6a.task1.plot.uniform_susceptibility.xml\n",
      "```"
     ]
    },
    {
     "cell_type": "markdown",
     "metadata": {},
     "source": [
      "`plot2text` \u30c4\u30fc\u30eb\u3092\u7528\u3044\u3066\u3001`qwl_evaluate` \u3067\u751f\u6210\u3057\u305f XML \u30d5\u30a1\u30a4\u30eb\u304b\u3089\u8a08\u7b97\u7d50\u679c\u3092\u62bd\u51fa\u3057\u307e\u3059\u3002\u3053\u306e\u62bd\u51fa\u3055\u308c\u305f\u30c7\u30fc\u30bf\u306f\u30d7\u30ed\u30c3\u30c8\u30c4\u30fc\u30eb\u3067\u63cf\u5199\u3059\u308b\u3053\u3068\u304c\u53ef\u80fd\u3067\u3059\u3002\u4f8b\u3048\u3070\u3001\u30a8\u30cd\u30eb\u30ae\u30fc\u5bc6\u5ea6\u3068\u6e29\u5ea6\u306e\u30b0\u30e9\u30d5\u3092\u63cf\u3044\u3066\u307f\u307e\u3059\u3002"
     ]
    },
    {
     "cell_type": "code",
     "collapsed": false,
     "input": [
      "%%bash\n",
      "plot2text mc06a.task1.plot.energy.xml"
     ],
     "language": "python",
     "metadata": {},
     "outputs": []
    },
    {
     "cell_type": "markdown",
     "metadata": {},
     "source": [
      "\u540c\u69d8\u306b\u3057\u3066\u3001\u4ed6\u306e XML \u30d5\u30a1\u30a4\u30eb\u304b\u3089\u3082\u30c7\u30fc\u30bf\u3092\u62bd\u51fa\u3059\u308b\u3053\u3068\u304c\u53ef\u80fd\u3067\u3059\u3002\n",
      "\n",
      "\u30d7\u30ed\u30c3\u30c8\u30c4\u30fc\u30eb\u306b Grace \u3092\u7528\u3044\u308b\u5834\u5408\u3001`plot2xmgr` \u30c4\u30fc\u30eb\u3092\u7528\u3044\u3066 XML \u30d5\u30a1\u30a4\u30eb\u304b\u3089 Grace \u7528\u306e\u30d5\u30a1\u30a4\u30eb\u3092\u751f\u6210\u3059\u308b\u3053\u3068\u304c\u3067\u304d\u307e\u3059\u3002\u4f8b\u3048\u3070\u3001\u30a8\u30cd\u30eb\u30ae\u30fc\u3068\u6e29\u5ea6\u306e\u30b0\u30e9\u30d5\u3092\u751f\u6210\u3059\u308b\u306b\u306f\u3001\u6b21\u306e\u3088\u3046\u306b\u30b3\u30de\u30f3\u30c9\u3057\u307e\u3059\u3002"
     ]
    },
    {
     "cell_type": "code",
     "collapsed": false,
     "input": [
      "%%bash\n",
      "plot2xmgr mc06a.task1.plot.energy.xml > energy.agr"
     ],
     "language": "python",
     "metadata": {},
     "outputs": []
    },
    {
     "cell_type": "markdown",
     "metadata": {},
     "source": [
      "\u540c\u69d8\u306b\u3001`plot2gp` \u3092\u7528\u3044\u308b\u3068 Gnuplot \u7528\u306b\u3001`plot2text` \u3092\u7528\u3044\u308b\u3068\u30c6\u30ad\u30b9\u30c8\u5f62\u5f0f\u306b\u305d\u308c\u305e\u308c\u5909\u63db\u304c\u53ef\u80fd\u3067\u3059\u3002\u30c7\u30fc\u30bf\u306e\u89e3\u6790\u3001\u30d7\u30ed\u30c3\u30c8\u306b\u306f Python \u3092\u7528\u3044\u305f\u65b9\u6cd5\u3092\u63a8\u5968\u3057\u307e\u3059\u3002\n",
      "\n",
      "Gnuplot \u3092\u7528\u3044\u3066\u30d7\u30ed\u30c3\u30c8\u3059\u308b\u5834\u5408\u306f\u3001\u6b21\u306e\u7528\u306b\u5b9f\u884c\u3057\u3066\u304f\u3060\u3055\u3044\u3002"
     ]
    },
    {
     "cell_type": "code",
     "collapsed": false,
     "input": [
      "%%bash\n",
      "plot2gp mc06a.task1.plot.energy.xml > mc06a.gplt\n",
      "gnuplot -persist mc06a.gplt"
     ],
     "language": "python",
     "metadata": {},
     "outputs": []
    },
    {
     "cell_type": "markdown",
     "metadata": {},
     "source": [
      "\u30b7\u30df\u30e5\u30ec\u30fc\u30b7\u30e7\u30f3\u51fa\u529b\u30d5\u30a1\u30a4\u30eb\u306b\u306f\u3001\u5168\u8a08\u7b97\u304c\u304a\u3053\u306a\u308f\u308c\u305f\u5f8c\u306e\u8a08\u7b97\u7d50\u679c\u3060\u3051\u304c\u683c\u7d0d\u3055\u308c\u3066\u3044\u307e\u3059\u3002\u500b\u3005\u306e\u30e2\u30f3\u30c6\u30ab\u30eb\u30ed\u30b9\u30c6\u30c3\u30d7\u3067\u306e\u8a08\u7b97\u306e\u8a73\u7d30\u306f\u3001\u5404\u30c1\u30a7\u30c3\u30af\u30dd\u30a4\u30f3\u30c8\u60c5\u5831\u3092\u683c\u7d0d\u3057\u3066\u3044\u308b\u30c1\u30a7\u30c3\u30af\u30dd\u30a4\u30f3\u30c8\u30d5\u30a1\u30a4\u30eb\u3092 XML \u5f62\u5f0f\u306b\u5909\u63db\u3059\u308b\u3053\u3068\u306b\u3088\u3063\u3066\u77e5\u308b\u3053\u3068\u304c\u53ef\u80fd\u3067\u3059\u3002`convert2xml` \u30c4\u30fc\u30eb\u3092\u6b21\u306e\u3088\u3046\u306b\u4f7f\u7528\u3057\u307e\u3059\u3002"
     ]
    },
    {
     "cell_type": "code",
     "collapsed": false,
     "input": [
      "%%bash\n",
      "convert2xml mc06a.task1.out.run1"
     ],
     "language": "python",
     "metadata": {},
     "outputs": []
    },
    {
     "cell_type": "markdown",
     "metadata": {},
     "source": [
      "\u3053\u306e\u64cd\u4f5c\u306b\u3088\u3063\u3066\u30e2\u30f3\u30c6\u30ab\u30eb\u30ed\u8a08\u7b97\u304b\u3089\u62bd\u51fa\u3055\u308c\u305f\u60c5\u5831\u3092\u542b\u3080\u3001XML \u5f62\u5f0f\u306e\u30bf\u30b9\u30af\u30d5\u30a1\u30a4\u30eb `mc06a.task1.out.run.xml` \u304c\u751f\u6210\u3055\u308c\u307e\u3059\u3002"
     ]
    },
    {
     "cell_type": "markdown",
     "metadata": {},
     "source": [
      "### Python\u3092\u7528\u3044\u305f\u5b9f\u884c\u65b9\u6cd5\n",
      "\n",
      "Python\u3092\u4f7f\u3063\u305f\u8a08\u7b97\u306e\u5b9f\u884c\u65b9\u6cd5\u3092\u8a18\u8ff0\u3057\u305f\u30b9\u30af\u30ea\u30d7\u30c8 [tutorial_mc06a.py](tutorial_mc06a.py) \u3092\u4f7f\u7528\u3057\u307e\u3059\u3002\u30b9\u30af\u30ea\u30d7\u30c8\u306e\u6700\u521d\u306e\u90e8\u5206\u306f\u8a08\u7b97\u30e2\u30c7\u30eb\u3084\u3001\u5165\u529b\u30d5\u30a1\u30a4\u30eb\u306e\u30a4\u30f3\u30dd\u30fc\u30c8\u3092\u304a\u3053\u306a\u3044\u307e\u3059\u3002"
     ]
    },
    {
     "cell_type": "code",
     "collapsed": false,
     "input": [
      "import pyalps\n",
      "import matplotlib.pyplot as plt\n",
      "import pyalps.plot\n",
      "\n",
      "parms = [{ \n",
      "          'LATTICE'        : \"chain lattice\", \n",
      "          'MODEL'          : \"spin\",\n",
      "          'local_S'        : 0.5,\n",
      "          'L'              : 40,\n",
      "          'J'              : -1 ,\n",
      "          'CUTOFF'         : 1000\n",
      "        }]\n",
      "\n",
      "input_file = pyalps.writeInputFiles('mc06a',parms)\n",
      "res = pyalps.runApplication('qwl',input_file)"
     ],
     "language": "python",
     "metadata": {},
     "outputs": []
    },
    {
     "cell_type": "markdown",
     "metadata": {},
     "source": [
      "\u6b21\u306b\u3001\u5168\u51fa\u529b\u30d5\u30a1\u30a4\u30eb\u306b\u5bfe\u3057\u3066\u89e3\u6790\u30d7\u30ed\u30b0\u30e9\u30e0\u3092\u5b9f\u884c\u3057\u307e\u3059\u3002"
     ]
    },
    {
     "cell_type": "code",
     "collapsed": false,
     "input": [
      "data = pyalps.evaluateQWL(pyalps.getResultFiles(prefix='mc06a'),DELTA_T=0.1, T_MIN=0.1, T_MAX=10.0)"
     ],
     "language": "python",
     "metadata": {},
     "outputs": []
    },
    {
     "cell_type": "markdown",
     "metadata": {},
     "source": [
      "\u6700\u5f8c\u306b\u3001\u30b0\u30e9\u30d5\u5316\u3057\u307e\u3059\u3002"
     ]
    },
    {
     "cell_type": "code",
     "collapsed": false,
     "input": [
      "for s in pyalps.flatten(data):\n",
      "    plt.figure()\n",
      "    plt.title(\"Ferromagnetic Heisenberg chain\")\n",
      "    pyalps.plot.plot(s)\n",
      "plt.show()"
     ],
     "language": "python",
     "metadata": {},
     "outputs": []
    },
    {
     "cell_type": "markdown",
     "metadata": {},
     "source": [
      "##  \u53cd\u5f37\u78c1\u6027\u30cf\u30a4\u30bc\u30f3\u30d9\u30eb\u30b0\u9396 \n",
      "\n",
      "\u30d1\u30e9\u30e1\u30fc\u30bf `J\uff1d\uff11`\uff08`J=-1` \u306e\u66ff\u308f\u308a\u306b\uff09\u3068\u3057\u3066\u53cd\u5f37\u78c1\u6027\u9396\u30b7\u30df\u30e5\u30ec\u30fc\u30b7\u30e7\u30f3\u3092\u304a\u3053\u306a\u3044\u307e\u3059\u3002\u30d1\u30e9\u30e1\u30fc\u30bf\u306f[mc06b](mc06b)\u3001\u5b9f\u884c\u306e Python \u30b9\u30af\u30ea\u30d7\u30c8\u306f [tutorial_mc06b.py](tutorial_mc06b.py) \u306b\u306a\u308a\u307e\u3059\u3002"
     ]
    },
    {
     "cell_type": "markdown",
     "metadata": {},
     "source": [
      "###  \u8cea\u7591 \n",
      "\n",
      "* \u3053\u306e\uff12\u3064\u306e\u30e2\u30c7\u30eb\u306e\u660e\u767d\u306a\u5dee\u7570\u306f\uff1f\n",
      "* \u306a\u305c\u9ad8\u6e29\u3067\u306f\u50c5\u304b\u306a\u5dee\u3057\u304b\u306a\u3044\u306e\u304b\uff1f\n",
      "* \u4e21\u30b1\u30fc\u30b9\u3067\u306e\u96f6\u70b9\u30a8\u30f3\u30c8\u30ed\u30d4\u30fc\u3068\u7121\u9650\u6e29\u5ea6\u3067\u306e\u5024\u306f\uff1f\uff08\u306f\u3063\u304d\u308a\u3057\u306a\u3044\u306a\u3089\u3070\u30018\u30b5\u30a4\u30c8\u3067\u306e\u8a08\u7b97\u3082\u304a\u3053\u306a\u3063\u3066\u304f\u3060\u3055\u3044\u3002\uff09\n",
      "* \u71b1\u529b\u5b66\u7b2c\uff13\u6cd5\u5247\u3068\u4e21\u7acb\u3057\u3066\u3044\u307e\u3059\u304b\uff1f\n",
      "* \u306a\u305c\u4e00\u69d8\u5e2f\u78c1\u7387\u306f\uff12\u3064\u306e\u30b1\u30fc\u30b9\u3067\u632f\u308b\u821e\u3044\u304c\u7570\u306a\u308b\u306e\u304b\uff1f"
     ]
    },
    {
     "cell_type": "markdown",
     "metadata": {},
     "source": [
      "# \uff13\u6b21\u5143\u30cf\u30a4\u30bc\u30f3\u30d9\u30eb\u30b0\u53cd\u5f37\u78c1\u6027 \n",
      "\n",
      "## \uff13\u6b21\u5143\u91cf\u5b50\u30cf\u30a4\u30bc\u30f3\u30d9\u30eb\u30b0\u53cd\u5f37\u78c1\u6027\u306e\u30b7\u30df\u30e5\u30ec\u30fc\u30b7\u30e7\u30f3\n",
      "\n",
      "\u30d1\u30e9\u30e1\u30fc\u30bf [mc06c](mc06c) \u306f QWL \u6cd5\u3092\u7528\u3044\u305f $4^3$ \u30b5\u30a4\u30c8\u306e\u7acb\u65b9\u683c\u5b50\u306e $3$ \u6b21\u5143\u91cf\u5b50\u30cf\u30a4\u30bc\u30f3\u30d9\u30eb\u30b0\u53cd\u5f37\u78c1\u6027\u91cf\u5b50\u30e2\u30f3\u30c6\u30ab\u30eb\u30ed\u30b7\u30df\u30e5\u30ec\u30fc\u30b7\u30e7\u30f3\u7528\u3067\u3059\u3002\u307e\u305f\u3001Python \u30b9\u30af\u30ea\u30d7\u30c8\u306f [tutorial_mc06c.py](tutorial_mc06.py) \u306b\u306a\u308a\u307e\u3059\u3002\n",
      "\n",
      "\u5b9f\u884c\u306f $1$ \u6b21\u5143\u7cfb\u3068\u540c\u3058\u624b\u9806\u3067\u304a\u3053\u306a\u3044\u307e\u3059\u3002\n",
      "\n",
      "###  \u8cea\u7591 \n",
      "\n",
      "* \u3069\u3046\u3057\u3066\u30b9\u30bf\u30c3\u30ac\u30fc\u30c9\u69cb\u9020\u56e0\u5b50\u306f $T \\simeq 1$ \u306e\u4ed8\u8fd1\u3067\u5897\u52a0\u3057\u306f\u3058\u3081\u308b\u306e\u3067\u3057\u3087\u3046\u304b\uff1f\n",
      "* \u3053\u306e\u5897\u52a0\u306f\u3001\u71b1\u529b\u5b66\u7684\u6027\u8cea\u306b\u95a2\u3057\u3066\u3001\u4f55\u3092\u793a\u5506\u3057\u3066\u3044\u307e\u3059\u304b\uff1f\n",
      "\n",
      "\n",
      "##  \u81e8\u754c\u70b9\u3092\u6c7a\u3081\u308b\u305f\u3081\u306e\u6709\u9650\u30b5\u30a4\u30ba\u30b9\u30b1\u30fc\u30eb\u89e3\u6790 \n",
      "\n",
      "\u6709\u9650\u30b5\u30a4\u30ba\u30b9\u30b1\u30fc\u30ea\u30f3\u30b0\u7406\u8ad6\u306b\u3088\u308b\u3068\u3001\u8ee2\u79fb\u70b9\u3067\u306e\u30b9\u30bf\u30c3\u30ac\u30fc\u30c9\u69cb\u9020\u56e0\u5b50 $S(L)$ \u306f\u30b7\u30b9\u30c6\u30e0\u30b5\u30a4\u30ba\u306b\u5bfe\u3057 $L^{2-\\eta}$ \u306e\u3088\u3046\u306b\u30b9\u30b1\u30fc\u30eb\u3057\u307e\u3059\u3002\u3053\u306e\u30e2\u30c7\u30eb\u3067\u306f $\\eta \\simeq 0.034$ \u3068\u306a\u308a\u307e\u3059\u3002\n",
      "\u305d\u306e\u305f\u3081\u3001\u6e29\u5ea6\u306b\u5bfe\u3057\u3066 $S(L)/L^{2-\\eta}$ \u3068\u3044\u3046\u91cf\u3092\u5404\u30b7\u30b9\u30c6\u30e0\u30b5\u30a4\u30ba\u3054\u3068\u306b\u30d7\u30ed\u30c3\u30c8\u3059\u308b\u3068\u3001\u3059\u3079\u3066\u306e\u66f2\u7dda\u304c\u8ee2\u79fb\u70b9 $T_c$ \u3067\u4ea4\u308f\u308a\u307e\u3059\u3002\n",
      "\u3053\u306e\u30b9\u30b1\u30fc\u30ea\u30f3\u30b0\u30d7\u30ed\u30c3\u30c8\u3092\u884c\u3046\u305f\u3081\u306b\u3001\u7acb\u65b9\u683c\u5b50\u53cd\u5f37\u78c1\u6027\u4f53\u306b\u5bfe\u3059\u308b\u66f4\u306a\u308b\u8a08\u7b97 -- \u30b7\u30b9\u30c6\u30e0\u30b5\u30a4\u30ba $L=4$, \u30ab\u30c3\u30c8\u30aa\u30d5\u30d1\u30e9\u30e1\u30fc\u30bf $1000$ -- \u3092\u884c\u3044\u307e\u3059\u3002\u5165\u529b\u30d1\u30e9\u30e1\u30fc\u30bf\u30d5\u30a1\u30a4\u30eb\u306f [mc06d](mc06d)\u3067\u3059\u3002\n",
      "\u8a08\u7b97\u7d50\u679c\u306f Python \u3092\u7528\u3044\u3066\u89e3\u6790\u3055\u308c\u307e\u3059\u3002\u307e\u305a\u3001\u8a08\u7b97\u7d50\u679c\u3092\u30ed\u30fc\u30c9\u3057\u307e\u3059\u3002"
     ]
    },
    {
     "cell_type": "code",
     "collapsed": false,
     "input": [
      "results = pyalps.evaluateQWL(pyalps.getResultFiles(prefix='mc06d'),DELTA_T=0.05, T_MIN=0.5, T_MAX=1.5)"
     ],
     "language": "python",
     "metadata": {},
     "outputs": []
    },
    {
     "cell_type": "markdown",
     "metadata": {},
     "source": [
      "\u6b21\u306b\u3001\u3044\u304f\u3064\u304b\u306e $L$ \u306b\u3064\u3044\u3066\u30b9\u30bf\u30c3\u30ac\u30fc\u30c9\u69cb\u9020\u56e0\u5b50 $S(Q)$ \u3092\u8aad\u307f\u51fa\u3057\u3001$L^{-2+\\eta}$ \u3067\u30ea\u30b9\u30b1\u30fc\u30eb\u3057\u307e\u3059\u3002"
     ]
    },
    {
     "cell_type": "code",
     "collapsed": false,
     "input": [
      "import copy\n",
      "data = []\n",
      "for s in pyalps.flatten(results):\n",
      "    if s.props['ylabel']=='Staggered Structure Factor per Site':\n",
      "        print 'yes'\n",
      "        d = copy.deepcopy(s) # make a deep copy to not change the original\n",
      "        l = s.props['L']\n",
      "        d.props['label']='L='+str(l)\n",
      "        d.y = d.y * pow(float(l),-1.97)\n",
      "        data.append(d)"
     ],
     "language": "python",
     "metadata": {},
     "outputs": []
    },
    {
     "cell_type": "markdown",
     "metadata": {},
     "source": [
      "\u6700\u5f8c\u306b\u3001\u30b0\u30e9\u30d5\u5316\u3057\u307e\u3059\u3002"
     ]
    },
    {
     "cell_type": "code",
     "collapsed": false,
     "input": [
      "plt.figure()\n",
      "plt.title(\"Scaling plot for cubic lattice Heisenberg antiferromagnet\")\n",
      "pyalps.plot.plot(data)\n",
      "plt.legend()\n",
      "plt.xlabel('Temperature $T/J$')\n",
      "plt.ylabel('$S(\\pi,\\pi,\\pi) L^{-2+\\eta}$')\n",
      "plt.show()"
     ],
     "language": "python",
     "metadata": {},
     "outputs": []
    },
    {
     "cell_type": "markdown",
     "metadata": {},
     "source": [
      "###  \u8cea\u7591 \n",
      "\n",
      "* \u66f2\u7dda\u306f\u5b9f\u969b\u306b\u4ea4\u5dee\u3057\u307e\u3057\u305f\u304b\uff1f\n",
      "* \u81e8\u754c\u6e29\u5ea6\u306e\u63a8\u6e2c\u5024\u306f\uff1f$T_c=0.946$\u3068\u6bd4\u8f03\u3057\u3066\u304f\u3060\u3055\u3044\u3002\n",
      "* \u3069\u306e\u3059\u308c\u3070\u898b\u7a4d\u308a\u5024\u3092\u6539\u5584\u3059\u308b\u3053\u3068\u304c\u3067\u304d\u308b\u3067\u3057\u3087\u3046\u304b\uff1f\n",
      "* \u540c\u3058\u3088\u3046\u306b\u7acb\u65b9\u683c\u5b50\u5f37\u78c1\u6027\u4f53\u306e\u81e8\u754c\u70b9\u3092\u6c42\u3081\u308b\u3053\u3068\u304c\u3067\u304d\u307e\u3059\u304b\uff1f\n",
      "* \u305d\u306e\u5024\u306f\u3069\u3046\u306a\u308a\u307e\u3057\u305f\u304b\uff1f\uff08\u3084\u3063\u3066\u307f\u3066\u304f\u3060\u3055\u3044\uff01\uff09\n",
      "\n",
      "&copy; 2004-2010 by Stefan Wessel and Matthias Troye"
     ]
    }
   ],
   "metadata": {}
  }
 ]
}