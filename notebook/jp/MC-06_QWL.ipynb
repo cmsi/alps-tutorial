{
 "metadata": {
  "name": "", 
  "signature": "sha256:a40c6165a21254de713ba8df47977354f680894bbd6873f23cb3179e0170c928"
 }, 
 "nbformat": 3, 
 "nbformat_minor": 0, 
 "worksheets": [
  {
   "cells": [
    {
     "cell_type": "markdown", 
     "metadata": {}, 
     "source": [
      "# ALPS 2 Tutorials: MC-06 QWL\n", 
      "\n", 
      "量子 Wang-Landau アルゴリズムを用いた QMC シミュレーションのチュートリアルです。"
     ]
    }, 
    {
     "cell_type": "markdown", 
     "metadata": {}, 
     "source": [
      "# 量子ハイゼンベルグスピン鎖の熱力学的特性\n", 
      "\n", 
      "##  強磁性ハイゼンベルグ鎖\n", 
      "\n", 
      "ALPS の `qwl` コードを用いてスピン鎖のシミュレーションのチュートリアルをおこないます。\n", 
      "\n", 
      "### コマンドラインでの計算の実行\n", 
      "\n", 
      "[mc06a](mc06a)は、量子 Wang-Landau(QWL) 法を用いた $1$ 次元 $40$ サイトの強磁性ハイゼンベルグ量子モンテカルロ計算のパラメータファイルです。"
     ]
    }, 
    {
     "cell_type": "raw", 
     "metadata": {}, 
     "source": [
      "LATTICE=\"chain lattice\" \n", 
      "MODEL=\"spin\"\n", 
      "local_S   = 1/2\n", 
      "L       = 40\n", 
      "CUTOFF  = 500\n", 
      "{J = -1}"
     ]
    }, 
    {
     "cell_type": "markdown", 
     "metadata": {}, 
     "source": [
      "入力ファイルを準備後、`qwl` コードを実行します。"
     ]
    }, 
    {
     "cell_type": "code", 
     "collapsed": false, 
     "input": [
      "%%bash\n", 
      "parameter2xml mc06a\n", 
      "qwl  mc06a.in.xml"
     ], 
     "language": "python", 
     "metadata": {}, 
     "outputs": []
    }, 
    {
     "cell_type": "markdown", 
     "metadata": {}, 
     "source": [
      "`qwl_evaluate` コマンドを用いて熱力学的観測値や磁性に関する出力結果を XML プロットファイルとして生成することが可能です。\n", 
      "前章でおこなってきた `spinmc_evaluate` 等と引数が異なることに注意してください。"
     ]
    }, 
    {
     "cell_type": "code", 
     "collapsed": false, 
     "input": [
      "%%bash\n", 
      "qwl_evaluate --T_MIN 0.1 --T_MAX 10 --DELTA_T 0.1 mc06a.task1.out.xml"
     ], 
     "language": "python", 
     "metadata": {}, 
     "outputs": []
    }, 
    {
     "cell_type": "markdown", 
     "metadata": {}, 
     "source": [
      "次の XML ファイルが生成されます。\n", 
      "```\n", 
      "parm6a.task1.plot.energy.xml\n", 
      "parm6a.task1.plot.free_energy.xml\n", 
      "parm6a.task1.plot.entropy.xml\n", 
      "parm6a.task1.plot.specific_heat.xml\n", 
      "parm6a.task1.plot.uniform_structure_factor.xml\n", 
      "parm6a.task1.plot.staggered_structure_factor.xml\n", 
      "parm6a.task1.plot.uniform_susceptibility.xml\n", 
      "```"
     ]
    }, 
    {
     "cell_type": "markdown", 
     "metadata": {}, 
     "source": [
      "`plot2text` ツールを用いて、`qwl_evaluate` で生成した XML ファイルから計算結果を抽出します。この抽出されたデータはプロットツールで描写することが可能です。例えば、エネルギー密度と温度のグラフを描いてみます。"
     ]
    }, 
    {
     "cell_type": "code", 
     "collapsed": false, 
     "input": [
      "%%bash\n", 
      "plot2text mc06a.task1.plot.energy.xml"
     ], 
     "language": "python", 
     "metadata": {}, 
     "outputs": []
    }, 
    {
     "cell_type": "markdown", 
     "metadata": {}, 
     "source": [
      "同様にして、他の XML ファイルからもデータを抽出することが可能です。\n", 
      "\n", 
      "プロットツールに Grace を用いる場合、`plot2xmgr` ツールを用いて XML ファイルから Grace 用のファイルを生成することができます。例えば、エネルギーと温度のグラフを生成するには、次のようにコマンドします。"
     ]
    }, 
    {
     "cell_type": "code", 
     "collapsed": false, 
     "input": [
      "%%bash\n", 
      "plot2xmgr mc06a.task1.plot.energy.xml > energy.agr"
     ], 
     "language": "python", 
     "metadata": {}, 
     "outputs": []
    }, 
    {
     "cell_type": "markdown", 
     "metadata": {}, 
     "source": [
      "同様に、`plot2gp` を用いると Gnuplot 用に、`plot2text` を用いるとテキスト形式にそれぞれ変換が可能です。データの解析、プロットには Python を用いた方法を推奨します。\n", 
      "\n", 
      "Gnuplot を用いてプロットする場合は、次の用に実行してください。"
     ]
    }, 
    {
     "cell_type": "code", 
     "collapsed": false, 
     "input": [
      "%%bash\n", 
      "plot2gp mc06a.task1.plot.energy.xml > mc06a.gplt\n", 
      "gnuplot -persist mc06a.gplt"
     ], 
     "language": "python", 
     "metadata": {}, 
     "outputs": []
    }, 
    {
     "cell_type": "markdown", 
     "metadata": {}, 
     "source": [
      "シミュレーション出力ファイルには、全計算がおこなわれた後の計算結果だけが格納されています。個々のモンテカルロステップでの計算の詳細は、各チェックポイント情報を格納しているチェックポイントファイルを XML 形式に変換することによって知ることが可能です。`convert2xml` ツールを次のように使用します。"
     ]
    }, 
    {
     "cell_type": "code", 
     "collapsed": false, 
     "input": [
      "%%bash\n", 
      "convert2xml mc06a.task1.out.run1"
     ], 
     "language": "python", 
     "metadata": {}, 
     "outputs": []
    }, 
    {
     "cell_type": "markdown", 
     "metadata": {}, 
     "source": [
      "この操作によってモンテカルロ計算から抽出された情報を含む、XML 形式のタスクファイル `mc06a.task1.out.run.xml` が生成されます。"
     ]
    }, 
    {
     "cell_type": "markdown", 
     "metadata": {}, 
     "source": [
      "### Pythonを用いた実行方法\n", 
      "\n", 
      "Pythonを使った計算の実行方法を記述したスクリプト [tutorial_mc06a.py](tutorial_mc06a.py) を使用します。スクリプトの最初の部分は計算モデルや、入力ファイルのインポートをおこないます。"
     ]
    }, 
    {
     "cell_type": "code", 
     "collapsed": false, 
     "input": [
      "import pyalps\n", 
      "import matplotlib.pyplot as plt\n", 
      "import pyalps.plot\n", 
      "\n", 
      "parms = [{ \n", 
      "          'LATTICE'        : \"chain lattice\", \n", 
      "          'MODEL'          : \"spin\",\n", 
      "          'local_S'        : 0.5,\n", 
      "          'L'              : 40,\n", 
      "          'J'              : -1 ,\n", 
      "          'CUTOFF'         : 1000\n", 
      "        }]\n", 
      "\n", 
      "input_file = pyalps.writeInputFiles('mc06a',parms)\n", 
      "res = pyalps.runApplication('qwl',input_file)"
     ], 
     "language": "python", 
     "metadata": {}, 
     "outputs": []
    }, 
    {
     "cell_type": "markdown", 
     "metadata": {}, 
     "source": [
      "次に、全出力ファイルに対して解析プログラムを実行します。"
     ]
    }, 
    {
     "cell_type": "code", 
     "collapsed": false, 
     "input": [
      "data = pyalps.evaluateQWL(pyalps.getResultFiles(prefix='mc06a'),DELTA_T=0.1, T_MIN=0.1, T_MAX=10.0)"
     ], 
     "language": "python", 
     "metadata": {}, 
     "outputs": []
    }, 
    {
     "cell_type": "markdown", 
     "metadata": {}, 
     "source": [
      "最後に、グラフ化します。"
     ]
    }, 
    {
     "cell_type": "code", 
     "collapsed": false, 
     "input": [
      "for s in pyalps.flatten(data):\n", 
      "    plt.figure()\n", 
      "    plt.title(\"Ferromagnetic Heisenberg chain\")\n", 
      "    pyalps.plot.plot(s)\n", 
      "plt.show()"
     ], 
     "language": "python", 
     "metadata": {}, 
     "outputs": []
    }, 
    {
     "cell_type": "markdown", 
     "metadata": {}, 
     "source": [
      "##  反強磁性ハイゼンベルグ鎖 \n", 
      "\n", 
      "パラメータ `J＝１`（`J=-1` の替わりに）として反強磁性鎖シミュレーションをおこないます。パラメータは[mc06b](mc06b)、実行の Python スクリプトは [tutorial_mc06b.py](tutorial_mc06b.py) になります。"
     ]
    }, 
    {
     "cell_type": "markdown", 
     "metadata": {}, 
     "source": [
      "###  質疑 \n", 
      "\n", 
      "* この２つのモデルの明白な差異は？\n", 
      "* なぜ高温では僅かな差しかないのか？\n", 
      "* 両ケースでの零点エントロピーと無限温度での値は？（はっきりしないならば、8サイトでの計算もおこなってください。）\n", 
      "* 熱力学第３法則と両立していますか？\n", 
      "* なぜ一様帯磁率は２つのケースで振る舞いが異なるのか？"
     ]
    }, 
    {
     "cell_type": "markdown", 
     "metadata": {}, 
     "source": [
      "# ３次元ハイゼンベルグ反強磁性 \n", 
      "\n", 
      "## ３次元量子ハイゼンベルグ反強磁性のシミュレーション\n", 
      "\n", 
      "パラメータ [mc06c](mc06c) は QWL 法を用いた $4^3$ サイトの立方格子の $3$ 次元量子ハイゼンベルグ反強磁性量子モンテカルロシミュレーション用です。また、Python スクリプトは [tutorial_mc06c.py](tutorial_mc06.py) になります。\n", 
      "\n", 
      "実行は $1$ 次元系と同じ手順でおこないます。\n", 
      "\n", 
      "###  質疑 \n", 
      "\n", 
      "* どうしてスタッガード構造因子は $T \\simeq 1$ の付近で増加しはじめるのでしょうか？\n", 
      "* この増加は、熱力学的性質に関して、何を示唆していますか？\n", 
      "\n", 
      "\n", 
      "##  臨界点を決めるための有限サイズスケール解析 \n", 
      "\n", 
      "有限サイズスケーリング理論によると、転移点でのスタッガード構造因子 $S(L)$ はシステムサイズに対し $L^{2-\\eta}$ のようにスケールします。このモデルでは $\\eta \\simeq 0.034$ となります。\n", 
      "そのため、温度に対して $S(L)/L^{2-\\eta}$ という量を各システムサイズごとにプロットすると、すべての曲線が転移点 $T_c$ で交わります。\n", 
      "このスケーリングプロットを行うために、立方格子反強磁性体に対する更なる計算 -- システムサイズ $L=4$, カットオフパラメータ $1000$ -- を行います。入力パラメータファイルは [mc06d](mc06d)です。\n", 
      "計算結果は Python を用いて解析されます。まず、計算結果をロードします。"
     ]
    }, 
    {
     "cell_type": "code", 
     "collapsed": false, 
     "input": [
      "results = pyalps.evaluateQWL(pyalps.getResultFiles(prefix='mc06d'),DELTA_T=0.05, T_MIN=0.5, T_MAX=1.5)"
     ], 
     "language": "python", 
     "metadata": {}, 
     "outputs": []
    }, 
    {
     "cell_type": "markdown", 
     "metadata": {}, 
     "source": [
      "次に、いくつかの $L$ についてスタッガード構造因子 $S(Q)$ を読み出し、$L^{-2+\\eta}$ でリスケールします。"
     ]
    }, 
    {
     "cell_type": "code", 
     "collapsed": false, 
     "input": [
      "import copy\n", 
      "data = []\n", 
      "for s in pyalps.flatten(results):\n", 
      "    if s.props['ylabel']=='Staggered Structure Factor per Site':\n", 
      "        print 'yes'\n", 
      "        d = copy.deepcopy(s) # make a deep copy to not change the original\n", 
      "        l = s.props['L']\n", 
      "        d.props['label']='L='+str(l)\n", 
      "        d.y = d.y * pow(float(l),-1.97)\n", 
      "        data.append(d)"
     ], 
     "language": "python", 
     "metadata": {}, 
     "outputs": []
    }, 
    {
     "cell_type": "markdown", 
     "metadata": {}, 
     "source": [
      "最後に、グラフ化します。"
     ]
    }, 
    {
     "cell_type": "code", 
     "collapsed": false, 
     "input": [
      "plt.figure()\n", 
      "plt.title(\"Scaling plot for cubic lattice Heisenberg antiferromagnet\")\n", 
      "pyalps.plot.plot(data)\n", 
      "plt.legend()\n", 
      "plt.xlabel('Temperature $T/J$')\n", 
      "plt.ylabel('$S(\\pi,\\pi,\\pi) L^{-2+\\eta}$')\n", 
      "plt.show()"
     ], 
     "language": "python", 
     "metadata": {}, 
     "outputs": []
    }, 
    {
     "cell_type": "markdown", 
     "metadata": {}, 
     "source": [
      "###  質疑 \n", 
      "\n", 
      "* 曲線は実際に交差しましたか？\n", 
      "* 臨界温度の推測値は？$T_c=0.946$と比較してください。\n", 
      "* どのすれば見積り値を改善することができるでしょうか？\n", 
      "* 同じように立方格子強磁性体の臨界点を求めることができますか？\n", 
      "* その値はどうなりましたか？（やってみてください！）\n", 
      "\n", 
      "&copy; 2004-2010 by Stefan Wessel and Matthias Troye"
     ]
    }
   ], 
   "metadata": {}
  }
 ]
}