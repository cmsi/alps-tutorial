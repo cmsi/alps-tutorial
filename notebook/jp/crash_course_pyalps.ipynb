{
 "metadata": {
  "name": "",
  "signature": "sha256:3b016ac6c6971387f3f71735e76e9488160019b9452d9f11c437bc26430c871b"
 },
 "nbformat": 3,
 "nbformat_minor": 0,
 "worksheets": [
  {
   "cells": [
    {
     "cell_type": "markdown",
     "metadata": {},
     "source": [
      "# <font color='blue'>A crash course in ALPS Python</font>\n",
      "\n",
      "**ALPS を Python のモジュールとして利用する方法**\n",
      "\n",
      "- CMSI 神戸ハンズオン\n",
      "- ALPS Collaboration http://alps.comp-phys.org/\n"
     ]
    },
    {
     "cell_type": "markdown",
     "metadata": {},
     "source": [
      "# <font color='blue'>このコースの目的</font>\n",
      "\n",
      "このコースでは ALPS Python を使ってシミュレーションを実行する手順を説明します．\n",
      "\n",
      "0. 環境設定\n",
      "1. 入力ファイル(XML)の書き出し\n",
      "2. シミュレーションの実行\n",
      "3. 出力ファイル(XML/HDF5)の読み込み\n",
      "4. 結果の可視化(matplotlib)\n",
      "5. 結果の解析\n",
      "\n",
      "以下では具体例として Ising 模型の Monte Carlo シミュレーションを行います．"
     ]
    },
    {
     "cell_type": "markdown",
     "metadata": {},
     "source": [
      "## <font color='blue'> 1. 環境設定</font>\n",
      "\n",
      "### シェル変数の設定\n",
      "\n",
      "pyalps モジュールへ `PYTHONPATH`, ALPSのコマンドへ `PATH` を通しておく必要があります．\n",
      "\n",
      "phi 上で ALPS Python へ PATH を通すには次のコマンドを実行してください．"
     ]
    },
    {
     "cell_type": "code",
     "collapsed": true,
     "input": [
      "%%bash\n",
      "source /opt/nano/alps/alpsvars-20121208-r6630.sh"
     ],
     "language": "python",
     "metadata": {},
     "outputs": []
    },
    {
     "cell_type": "markdown",
     "metadata": {},
     "source": [
      "### pyalsp モジュールの読み込み\n",
      "\n",
      "ALPS Python を Python のインタープリタから利用してみましょう\n",
      "\n",
      "- エラーが出たら質問してください"
     ]
    },
    {
     "cell_type": "code",
     "collapsed": false,
     "input": [
      "import pyalps\n",
      "import pylab as plt\n",
      "import pyalps.plot\n",
      "import numpy as np"
     ],
     "language": "python",
     "metadata": {},
     "outputs": []
    },
    {
     "cell_type": "markdown",
     "metadata": {},
     "source": [
      "#### *まめ知識*\n",
      "\n",
      "入力は **[tab] 補完** ができます．入力の途中でタブキーを押すことで入力候補となる変数名や関数名などが表示されます．"
     ]
    },
    {
     "cell_type": "code",
     "collapsed": true,
     "input": [
      "pyalps.  # ['.'の次で [tab] キーを押す]"
     ],
     "language": "python",
     "metadata": {},
     "outputs": []
    },
    {
     "cell_type": "markdown",
     "metadata": {},
     "source": [
      "## <font color='blue'>2. 入力ファイル (XML) の書き出し</font>\n",
      "\n",
      "python の **辞書型** のデータから **入力用XMLファイル** を書き出すことができます．"
     ]
    },
    {
     "cell_type": "markdown",
     "metadata": {},
     "source": [
      "まず，パラメータを辞書形式で定義します．"
     ]
    },
    {
     "cell_type": "code",
     "collapsed": true,
     "input": [
      "parms = []\n",
      "for t in np.linspace(1.5,3.2,12):\n",
      "    parms.append({\n",
      "        'LATTICE': \"square lattice\", \n",
      "        'T': t,\n",
      "        'J': 1 ,\n",
      "        'THERMALIZATION': 1000,\n",
      "        'SWEEPS': 100000,\n",
      "        'UPDATE': \"cluster\",\n",
      "        'MODEL': \"Ising\",\n",
      "        'L': 8\n",
      "})"
     ],
     "language": "python",
     "metadata": {},
     "outputs": []
    },
    {
     "cell_type": "markdown",
     "metadata": {},
     "source": [
      "次にパラメータの辞書から XML 形式の入力ファイルを作成します．"
     ]
    },
    {
     "cell_type": "code",
     "collapsed": true,
     "input": [
      "input_file = pyalps.writeInputFiles('parms',parms)"
     ],
     "language": "python",
     "metadata": {},
     "outputs": []
    },
    {
     "cell_type": "markdown",
     "metadata": {},
     "source": [
      "#### Question\n",
      "1. 作成されたファイルを確かめてみましょう．\n",
      "2. 関数 pyalps.writeInputFiles のヘルプをみてみましょう．\n",
      "3. 関数 pyalps.writeInputFiles の詳細なヘルプをみてみましょう．"
     ]
    },
    {
     "cell_type": "code",
     "collapsed": true,
     "input": [
      "ls"
     ],
     "language": "python",
     "metadata": {},
     "outputs": []
    },
    {
     "cell_type": "code",
     "collapsed": true,
     "input": [
      "pyalps.writeInputFiles?"
     ],
     "language": "python",
     "metadata": {},
     "outputs": []
    },
    {
     "cell_type": "code",
     "collapsed": false,
     "input": [
      "pyalps.writeInputFiles??"
     ],
     "language": "python",
     "metadata": {},
     "outputs": []
    },
    {
     "cell_type": "markdown",
     "metadata": {},
     "source": [
      "## <font color='blue'>3. シミュレーションの実行</font>"
     ]
    },
    {
     "cell_type": "markdown",
     "metadata": {},
     "source": [
      "PyALPS から ALPS のアプリケーションを実行するには\n",
      "\n",
      "1. 量子/古典モンテカルロ法, 厳密対角化については `pyalps.runApplication`\n",
      "2. DMFT については `pyalps.runDMFT`\n",
      "3. TEBD については `pyalps.runTEBD`\n",
      "\n",
      "を利用します．ここでは 1. のケースについて説明します．"
     ]
    },
    {
     "cell_type": "markdown",
     "metadata": {},
     "source": [
      "### 逐次実行"
     ]
    },
    {
     "cell_type": "code",
     "collapsed": true,
     "input": [
      "pyalps.runApplication(\n",
      "    'spinmc',      # プログラムの実行ファイル\n",
      "    input_file,    # 入力XMLファイル\n",
      "    writexml=True  # 出力XMLファイルを作成する\n",
      ")"
     ],
     "language": "python",
     "metadata": {},
     "outputs": []
    },
    {
     "cell_type": "markdown",
     "metadata": {},
     "source": [
      "実行が終了すると `parm1.out.xml`, `parm1.task1.out.h5`, $\\cdots$ といったファイルが出力されます．"
     ]
    },
    {
     "cell_type": "markdown",
     "metadata": {},
     "source": [
      "### 並列実行"
     ]
    },
    {
     "cell_type": "code",
     "collapsed": true,
     "input": [
      "pyalps.runApplication(\n",
      "    'spinmc',\n",
      "    input_file,\n",
      "    writexml=True,\n",
      "    MPI=4,\n",
      "    mpirun='mpirun'\n",
      ")"
     ],
     "language": "python",
     "metadata": {},
     "outputs": []
    },
    {
     "cell_type": "markdown",
     "metadata": {},
     "source": [
      "- MPI=4 で MPI プロセス 4 並列でシミュレーションを実行することを指示しています.\n",
      "- mpirun コマンドは環境によって異なります．自分の環境に合わせて変更してください．"
     ]
    },
    {
     "cell_type": "markdown",
     "metadata": {},
     "source": [
      "## <font color='blue'>4. 出力ファイル(XML/HDF5)の読み込み</font>"
     ]
    },
    {
     "cell_type": "markdown",
     "metadata": {},
     "source": [
      "まず出力ファイルのリストを作成します．計算結果はパラメータセットごとに **接頭辞**`.task`**番号**`.h5(xml)` というファイルに格納されています．次の関数 `pyalps.getResultFiles` はカレントディレクトリ内から，ファイル名が 'parm' で始まるファイルを全てを探し出し，ファイル名のリストを出力します．"
     ]
    },
    {
     "cell_type": "code",
     "collapsed": true,
     "input": [
      "result_files = pyalps.getResultFiles(prefix='parms')"
     ],
     "language": "python",
     "metadata": {},
     "outputs": []
    },
    {
     "cell_type": "markdown",
     "metadata": {},
     "source": [
      "モンテカルロシミュレーションの場合，関数 `pyalps.loadMeasurementes` を使って出力ファイルから指定した物理量（複数可）を取り出すことができます．"
     ]
    },
    {
     "cell_type": "code",
     "collapsed": true,
     "input": [
      "data = pyalps.loadMeasurements(\n",
      "    result_files,\n",
      "    ['|Magnetization|','Magnetization^2']\n",
      ")"
     ],
     "language": "python",
     "metadata": {},
     "outputs": []
    },
    {
     "cell_type": "markdown",
     "metadata": {},
     "source": [
      "他のアプリケーション毎にもそれぞれの load 系の関数が存在します．"
     ]
    },
    {
     "cell_type": "raw",
     "metadata": {},
     "source": [
      "pyalps.load                        pyalps.loadEigenstateMeasurements  pyalps.loadMeasurements            pyalps.loadSpectra           pyalps.loadBinningAnalysis         pyalps.loadIterationMeasurements   pyalps.loadObservableList          pyalps.loadTimeSeries          pyalps.loadDMFTIterations          pyalps.loadMPSIterations           pyalps.loadProperties              "
     ]
    },
    {
     "cell_type": "markdown",
     "metadata": {},
     "source": [
      "### データ構造\n",
      "シミュレーション結果を格納する `DataSet` クラスの定義"
     ]
    },
    {
     "cell_type": "markdown",
     "metadata": {},
     "source": [
      "%%python\n",
      "class ResultProperties:\n",
      "    def __init__(self):\n",
      "        self.props = {}\n",
      "\n",
      "class DataSet(ResultProperties):\n",
      "    \"\"\"\n",
      "    The DataSet class stores a set of data, usually in XY format, along with all the properties\n",
      "    describing the data, such as input parameters to the simulation etc.\n",
      "    \n",
      "    Members are:\n",
      "     * x, y - These contain the data and are expected to come as lists of Numpy arrays\n",
      "              by many functions operating on DataSets. However, for user-supplied functions,\n",
      "              other ways of representing data may be used.\n",
      "     * props - This is a dictionary of properties describing the dataset.\n",
      "    \"\"\"\n",
      "    def __init__(self,x=None,y=None,props=None):\n",
      "        ResultProperties.__init__(self)\n",
      "        if x == None:\n",
      "            self.x = np.array([])\n",
      "        else:\n",
      "            self.x = x\n",
      "        if y == None:\n",
      "            self.y = np.array([])\n",
      "        else:\n",
      "            self.y = y\n",
      "        if props != None:\n",
      "            self.props = props\n",
      "    \n",
      "    def __repr__(self):\n",
      "        return \"x=%s\\ny=%s\\nprops=%s\" % (self.x, self.y, self.props)"
     ]
    },
    {
     "cell_type": "markdown",
     "metadata": {},
     "source": [
      "### 物理量の平均値と標準誤差を取り出す"
     ]
    },
    {
     "cell_type": "markdown",
     "metadata": {},
     "source": [
      "`DataSet.y` には平均値とその標準誤差がセットで格納されています．"
     ]
    },
    {
     "cell_type": "code",
     "collapsed": true,
     "input": [
      "print data[0][0].y"
     ],
     "language": "python",
     "metadata": {},
     "outputs": []
    },
    {
     "cell_type": "markdown",
     "metadata": {},
     "source": [
      "平均値，誤差をそれぞれ取り出したい場合は次のようにしてください．"
     ]
    },
    {
     "cell_type": "markdown",
     "metadata": {},
     "source": [
      "- 平均値を取り出す"
     ]
    },
    {
     "cell_type": "code",
     "collapsed": true,
     "input": [
      "print data[0][0].y[0].mean"
     ],
     "language": "python",
     "metadata": {},
     "outputs": []
    },
    {
     "cell_type": "markdown",
     "metadata": {},
     "source": [
      "- 誤差を取り出す"
     ]
    },
    {
     "cell_type": "code",
     "collapsed": true,
     "input": [
      "print data[0][0].y[0].error"
     ],
     "language": "python",
     "metadata": {},
     "outputs": []
    },
    {
     "cell_type": "markdown",
     "metadata": {},
     "source": [
      "## <font color='blue'>5. 結果の可視化</font>\n",
      "\n",
      "### データの整形\n",
      "\n",
      "$x$ 軸を `T`とし $y$ 軸を `|Magnetization|` として結果をプロットします．"
     ]
    },
    {
     "cell_type": "markdown",
     "metadata": {},
     "source": [
      "まず，4. で出力ファイルから取り出した計算結果から関数 `pyalps.collectXY` を使ってプロットに必要な $xy$ のデータのセットを作ります．"
     ]
    },
    {
     "cell_type": "code",
     "collapsed": true,
     "input": [
      "mag = pyalps.collectXY(data,'T','|Magnetization|')"
     ],
     "language": "python",
     "metadata": {},
     "outputs": []
    },
    {
     "cell_type": "markdown",
     "metadata": {},
     "source": [
      "#### Question\n",
      "mag の中身を確認してみましょう"
     ]
    },
    {
     "cell_type": "code",
     "collapsed": true,
     "input": [
      "print mag[0].x"
     ],
     "language": "python",
     "metadata": {},
     "outputs": []
    },
    {
     "cell_type": "code",
     "collapsed": true,
     "input": [
      "print mag[0].y"
     ],
     "language": "python",
     "metadata": {},
     "outputs": []
    },
    {
     "cell_type": "code",
     "collapsed": true,
     "input": [
      "print mag[0].props"
     ],
     "language": "python",
     "metadata": {},
     "outputs": []
    },
    {
     "cell_type": "markdown",
     "metadata": {},
     "source": [
      "### 結果のプロット\n",
      "\n",
      "関数 pyalps.plot.plot を使って結果をグラフに表示します．pyalps.plot.plot は matplotlib のラッパーです．この関数は `DataSet`のリストのリスト，つまり"
     ]
    },
    {
     "cell_type": "raw",
     "metadata": {},
     "source": [
      "[[DataSet01, DataSet01, ..., DataSet0N], [DataSet10, DatSet11, ...,DataSet1N],...]"
     ]
    },
    {
     "cell_type": "markdown",
     "metadata": {},
     "source": [
      "という形式のデータをプロットできます．各リストが 1 つの曲線になります．"
     ]
    },
    {
     "cell_type": "code",
     "collapsed": true,
     "input": [
      "pyalps.plot.plot(mag) # データをプロット．\n",
      "plt.xlim(1,3)              # x 軸の範囲を設定\n",
      "plt.ylim(0,1)              # y 軸の範囲を設定\n",
      "plt.title('Ising model')   # 図のタイトル\n",
      "plt.savefig('ising.pdf')   # ファイルへ出力\n",
      "plt.show()                 # X11 などで画面に表示"
     ],
     "language": "python",
     "metadata": {},
     "outputs": []
    },
    {
     "cell_type": "markdown",
     "metadata": {},
     "source": [
      "もっときれいな図を描きたい場合は matplotlib そのものを使いましょう．"
     ]
    },
    {
     "cell_type": "markdown",
     "metadata": {},
     "source": [
      "### 他のツールを使いたい場合\n",
      "\n",
      "単なるテキスト, gnuplot, grace といった他のデータフォーマットに変換できます．"
     ]
    },
    {
     "cell_type": "markdown",
     "metadata": {},
     "source": [
      "- text"
     ]
    },
    {
     "cell_type": "code",
     "collapsed": false,
     "input": [
      "print pyalps.plot.convertToText(mag)"
     ],
     "language": "python",
     "metadata": {},
     "outputs": []
    },
    {
     "cell_type": "markdown",
     "metadata": {},
     "source": [
      "- gnuplot"
     ]
    },
    {
     "cell_type": "code",
     "collapsed": true,
     "input": [
      "print pyalps.plot.makeGnuplotPlot(mag)"
     ],
     "language": "python",
     "metadata": {},
     "outputs": []
    },
    {
     "cell_type": "markdown",
     "metadata": {},
     "source": [
      "- grace"
     ]
    },
    {
     "cell_type": "code",
     "collapsed": true,
     "input": [
      "print pyalps.plot.makeGracePlot(mag)"
     ],
     "language": "python",
     "metadata": {},
     "outputs": []
    },
    {
     "cell_type": "markdown",
     "metadata": {},
     "source": [
      "#### Question\n",
      "1. `pyalps.plot.plot` の使い方を調べてみましょう．"
     ]
    },
    {
     "cell_type": "markdown",
     "metadata": {},
     "source": [
      "## <font color='blue'>6. 結果の解析</font>"
     ]
    },
    {
     "cell_type": "markdown",
     "metadata": {},
     "source": [
      "Binder 比 $<m^2>/<|m|>^2$ の計算をしてみます"
     ]
    },
    {
     "cell_type": "code",
     "collapsed": true,
     "input": [
      "binder = pyalps.DataSet()\n",
      "binder.props = pyalps.dict_intersect([d[0].props for d in data])\n",
      "binder.x = [d[0].props['T'] for d in data]\n",
      "binder.y = [d[1].y[0]/(d[0].y[0]*d[0].y[0]) for d in data]\n",
      "print binder"
     ],
     "language": "python",
     "metadata": {},
     "outputs": []
    },
    {
     "cell_type": "markdown",
     "metadata": {},
     "source": [
      "#### Question\n",
      "\n",
      "1. Binder比をプロットしてみましょう．\n",
      "2. `pyalps.dict_intersect` の使い方を調べてみましょう．"
     ]
    }
   ],
   "metadata": {}
  }
 ]
}