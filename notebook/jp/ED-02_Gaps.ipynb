{
 "metadata": {
  "name": "", 
  "signature": "sha256:13388e2a216d765e942b025bdf8f84f4a2460ed5b23b74f7c579e6e502cad3cb"
 }, 
 "nbformat": 3, 
 "nbformat_minor": 0, 
 "worksheets": [
  {
   "cells": [
    {
     "cell_type": "markdown", 
     "metadata": {}, 
     "source": [
      "# ALPS 2 Tutorials: ED-02 Gaps"
     ]
    }, 
    {
     "cell_type": "markdown", 
     "metadata": {}, 
     "source": [
      "#  1次元量子スピン系でのスピンギャップ\n", 
      "\n", 
      "このチュートリアルでは、$1$ 次元量子スピン系でのスピンギャップの計算方法について学びます。\n", 
      "\n", 
      "## Spin-$1$ 鎖のスピンギャップ \n", 
      "\n", 
      "### コマンドラインでの実行\n", 
      "\n", 
      "パラメータファイル [ed02a](ed02a) は、一重項、三重項での $4$-$6$ サイト，$S＝1$ 鎖の厳密対角化計算を設定します。"
     ]
    }, 
    {
     "cell_type": "raw", 
     "metadata": {}, 
     "source": [
      "MODEL=\"spin\"\n", 
      "LATTICE=\"chain lattice\"\n", 
      "CONSERVED_QUANTUMNUMBERS=\"Sz\"\n", 
      "local_S=1\n", 
      "J=1\n", 
      "Sz_total=0\n", 
      "{L=4}\n", 
      "{L=6}\n", 
      "{L=8}\n", 
      "{L=10}\n", 
      "Sz_total=1\n", 
      "{L=4}\n", 
      "{L=6}\n", 
      "{L=8}\n", 
      "{L=10}"
     ]
    }, 
    {
     "cell_type": "markdown", 
     "metadata": {}, 
     "source": [
      "`Sz_total` パラメータは、$Sz$ の保存量子数の制限に用いられます。保存量子数やモデルの構築の詳細情報は[model library documentation](http://alps.comp-phys.org/mediawiki/index.php/Tutorials:ModelHOWTO/ja) を参照してください。\n", 
      "\n", 
      "以下の標準的な計算手順に従い、入力パラメータファイルをXML形式に変換し、`sparsediag` を実行します。"
     ]
    }, 
    {
     "cell_type": "code", 
     "collapsed": false, 
     "input": [
      "%%bash\n", 
      "parameter2xml ed02a\n", 
      "sparsediag --write-xml ed02a.in.xml"
     ], 
     "language": "python", 
     "metadata": {}, 
     "outputs": []
    }, 
    {
     "cell_type": "markdown", 
     "metadata": {}, 
     "source": [
      "計算されたギャップの評価は、出力ファイルから手動でおこなうことができます。また、Python を用いて自動的におこなうことも可能です。"
     ]
    }, 
    {
     "cell_type": "markdown", 
     "metadata": {}, 
     "source": [
      "### Python での実行 \n", 
      "\n", 
      "Python で計算の実行を設定します。Python スクリプト [ed02a.py](tutorial_ed02a.py) を参照してください。次の記述のように、必要なモジュールのインポート、パラメータの定義、入力ファイルの設定、計算の実行をおこないます。"
     ]
    }, 
    {
     "cell_type": "code", 
     "collapsed": false, 
     "input": [
      "import pyalps\n", 
      "import numpy as np\n", 
      "import matplotlib.pyplot as plt\n", 
      "import pyalps.plot\n", 
      "\n", 
      "parms = []\n", 
      "for l in [4, 6, 8, 10]:\n", 
      "    for sz in [0, 1]:\n", 
      "        parms.append(\n", 
      "        { \n", 
      "          'LATTICE'                   : \"chain lattice\", \n", 
      "          'MODEL'                     : \"spin\",\n", 
      "          'local_S'                   : 1,\n", 
      "          'J'                         : 1,\n", 
      "          'L'                         : l,\n", 
      "          'CONSERVED_QUANTUMNUMBERS'  : 'Sz',\n", 
      "          'Sz_total'                  : sz\n", 
      "        }\n", 
      "      )\n", 
      "\n", 
      "input_file = pyalps.writeInputFiles('ed02a',parms)\n", 
      "res = pyalps.runApplication('sparsediag',input_file)"
     ], 
     "language": "python", 
     "metadata": {}, 
     "outputs": []
    }, 
    {
     "cell_type": "markdown", 
     "metadata": {}, 
     "source": [
      "計算の実行には、起動スクリプトの alpspython を使用します。前節でおこなったコマンドラインでの実行結果と同じ出力結果が得られます。\n", 
      "\n", 
      "次に、各システムサイズ、スピンセクターのスペクトルの計測結果をロードします。"
     ]
    }, 
    {
     "cell_type": "code", 
     "collapsed": false, 
     "input": [
      "data = pyalps.loadSpectra(pyalps.getResultFiles(prefix='ed02a'))"
     ], 
     "language": "python", 
     "metadata": {}, 
     "outputs": []
    }, 
    {
     "cell_type": "markdown", 
     "metadata": {}, 
     "source": [
      "ギャップを抽出するために Python スクリプトに下記の $1, 2$ 行目を追加する必要があります。リストの長さと、各（L、Sz）セクターの最小エネルギーです。"
     ]
    }, 
    {
     "cell_type": "code", 
     "collapsed": false, 
     "input": [
      "lengths = []\n", 
      "min_energies = {}\n", 
      "for sim in data:\n", 
      "    l = int(sim[0].props['L'])\n", 
      "    if l not in lengths:\n", 
      "        lengths.append(l)\n", 
      "    sz = int(sim[0].props['Sz_total'])\n", 
      "    all_energies = []\n", 
      "    for sec in sim:\n", 
      "        all_energies += list(sec.y)\n", 
      "    min_energies[(l,sz)]= np.min(all_energies)"
     ], 
     "language": "python", 
     "metadata": {}, 
     "outputs": []
    }, 
    {
     "cell_type": "markdown", 
     "metadata": {}, 
     "source": [
      "最後に、$1/L$ の関数としてのギャップのプロットをおこないます。"
     ]
    }, 
    {
     "cell_type": "code", 
     "collapsed": false, 
     "input": [
      "gapplot = pyalps.DataSet()\n", 
      "gapplot.x = 1./np.sort(lengths)\n", 
      "gapplot.y = [min_energies[(l,1)] -min_energies[(l,0)] for l in np.sort(lengths)]  \n", 
      "gapplot.props['xlabel']='$1/L$'\n", 
      "gapplot.props['ylabel']='Triplet gap $\\Delta/J$'\n", 
      "gapplot.props['label']='S=1'\n", 
      "\n", 
      "plt.figure()\n", 
      "pyalps.plot.plot(gapplot)\n", 
      "plt.legend()\n", 
      "plt.xlim(0,0.25)\n", 
      "plt.ylim(0,1.0)\n", 
      "plt.show()"
     ], 
     "language": "python", 
     "metadata": {}, 
     "outputs": []
    }, 
    {
     "cell_type": "markdown", 
     "metadata": {}, 
     "source": [
      "## Spin-$1/2$ 鎖でのスピンギャップ\n", 
      "\n", 
      "spin-1 鎖と spin-1/2 鎖の外挿ギャップを比較します。パラメータ `local_S=1` を `local_S=0.5` に変更して計算をおこないます\n", 
      "パラメータファイルは [ed02b](ed02b)、Pythonスクリプトは [tutorial_ed02b.py](tutorial_ed02b.py) を参照してください"
     ]
    }, 
    {
     "cell_type": "markdown", 
     "metadata": {}, 
     "source": [
      "## 両系でのプロット\n", 
      "\n", 
      "前途の２つの系の計算を１つにしたPythonスクリプトは [tutorial_ed02c.py](tutorial_ed02c.py) を参照してください。"
     ]
    }, 
    {
     "cell_type": "markdown", 
     "metadata": {}, 
     "source": [
      "## 設問\n", 
      "\n", 
      "* 無限系のギャップの外挿値は何ですか？\n", 
      "* なぜS=1とS=1/2鎖は異なる挙動を示すのですか"
     ]
    }
   ], 
   "metadata": {}
  }
 ]
}