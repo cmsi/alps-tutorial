{
 "metadata": {
  "name": "",
  "signature": "sha256:13388e2a216d765e942b025bdf8f84f4a2460ed5b23b74f7c579e6e502cad3cb"
 },
 "nbformat": 3,
 "nbformat_minor": 0,
 "worksheets": [
  {
   "cells": [
    {
     "cell_type": "markdown",
     "metadata": {},
     "source": [
      "# ALPS 2 Tutorials: ED-02 Gaps"
     ]
    },
    {
     "cell_type": "markdown",
     "metadata": {},
     "source": [
      "#  1\u6b21\u5143\u91cf\u5b50\u30b9\u30d4\u30f3\u7cfb\u3067\u306e\u30b9\u30d4\u30f3\u30ae\u30e3\u30c3\u30d7\n",
      "\n",
      "\u3053\u306e\u30c1\u30e5\u30fc\u30c8\u30ea\u30a2\u30eb\u3067\u306f\u3001$1$ \u6b21\u5143\u91cf\u5b50\u30b9\u30d4\u30f3\u7cfb\u3067\u306e\u30b9\u30d4\u30f3\u30ae\u30e3\u30c3\u30d7\u306e\u8a08\u7b97\u65b9\u6cd5\u306b\u3064\u3044\u3066\u5b66\u3073\u307e\u3059\u3002\n",
      "\n",
      "## Spin-$1$ \u9396\u306e\u30b9\u30d4\u30f3\u30ae\u30e3\u30c3\u30d7 \n",
      "\n",
      "### \u30b3\u30de\u30f3\u30c9\u30e9\u30a4\u30f3\u3067\u306e\u5b9f\u884c\n",
      "\n",
      "\u30d1\u30e9\u30e1\u30fc\u30bf\u30d5\u30a1\u30a4\u30eb [ed02a](ed02a) \u306f\u3001\u4e00\u91cd\u9805\u3001\u4e09\u91cd\u9805\u3067\u306e $4$-$6$ \u30b5\u30a4\u30c8\uff0c$S\uff1d1$ \u9396\u306e\u53b3\u5bc6\u5bfe\u89d2\u5316\u8a08\u7b97\u3092\u8a2d\u5b9a\u3057\u307e\u3059\u3002"
     ]
    },
    {
     "cell_type": "raw",
     "metadata": {},
     "source": [
      "MODEL=\"spin\"\n",
      "LATTICE=\"chain lattice\"\n",
      "CONSERVED_QUANTUMNUMBERS=\"Sz\"\n",
      "local_S=1\n",
      "J=1\n",
      "Sz_total=0\n",
      "{L=4}\n",
      "{L=6}\n",
      "{L=8}\n",
      "{L=10}\n",
      "Sz_total=1\n",
      "{L=4}\n",
      "{L=6}\n",
      "{L=8}\n",
      "{L=10}"
     ]
    },
    {
     "cell_type": "markdown",
     "metadata": {},
     "source": [
      "`Sz_total` \u30d1\u30e9\u30e1\u30fc\u30bf\u306f\u3001$Sz$ \u306e\u4fdd\u5b58\u91cf\u5b50\u6570\u306e\u5236\u9650\u306b\u7528\u3044\u3089\u308c\u307e\u3059\u3002\u4fdd\u5b58\u91cf\u5b50\u6570\u3084\u30e2\u30c7\u30eb\u306e\u69cb\u7bc9\u306e\u8a73\u7d30\u60c5\u5831\u306f[model library documentation](http://alps.comp-phys.org/mediawiki/index.php/Tutorials:ModelHOWTO/ja) \u3092\u53c2\u7167\u3057\u3066\u304f\u3060\u3055\u3044\u3002\n",
      "\n",
      "\u4ee5\u4e0b\u306e\u6a19\u6e96\u7684\u306a\u8a08\u7b97\u624b\u9806\u306b\u5f93\u3044\u3001\u5165\u529b\u30d1\u30e9\u30e1\u30fc\u30bf\u30d5\u30a1\u30a4\u30eb\u3092XML\u5f62\u5f0f\u306b\u5909\u63db\u3057\u3001`sparsediag` \u3092\u5b9f\u884c\u3057\u307e\u3059\u3002"
     ]
    },
    {
     "cell_type": "code",
     "collapsed": false,
     "input": [
      "%%bash\n",
      "parameter2xml ed02a\n",
      "sparsediag --write-xml ed02a.in.xml"
     ],
     "language": "python",
     "metadata": {},
     "outputs": []
    },
    {
     "cell_type": "markdown",
     "metadata": {},
     "source": [
      "\u8a08\u7b97\u3055\u308c\u305f\u30ae\u30e3\u30c3\u30d7\u306e\u8a55\u4fa1\u306f\u3001\u51fa\u529b\u30d5\u30a1\u30a4\u30eb\u304b\u3089\u624b\u52d5\u3067\u304a\u3053\u306a\u3046\u3053\u3068\u304c\u3067\u304d\u307e\u3059\u3002\u307e\u305f\u3001Python \u3092\u7528\u3044\u3066\u81ea\u52d5\u7684\u306b\u304a\u3053\u306a\u3046\u3053\u3068\u3082\u53ef\u80fd\u3067\u3059\u3002"
     ]
    },
    {
     "cell_type": "markdown",
     "metadata": {},
     "source": [
      "### Python \u3067\u306e\u5b9f\u884c \n",
      "\n",
      "Python \u3067\u8a08\u7b97\u306e\u5b9f\u884c\u3092\u8a2d\u5b9a\u3057\u307e\u3059\u3002Python \u30b9\u30af\u30ea\u30d7\u30c8 [ed02a.py](tutorial_ed02a.py) \u3092\u53c2\u7167\u3057\u3066\u304f\u3060\u3055\u3044\u3002\u6b21\u306e\u8a18\u8ff0\u306e\u3088\u3046\u306b\u3001\u5fc5\u8981\u306a\u30e2\u30b8\u30e5\u30fc\u30eb\u306e\u30a4\u30f3\u30dd\u30fc\u30c8\u3001\u30d1\u30e9\u30e1\u30fc\u30bf\u306e\u5b9a\u7fa9\u3001\u5165\u529b\u30d5\u30a1\u30a4\u30eb\u306e\u8a2d\u5b9a\u3001\u8a08\u7b97\u306e\u5b9f\u884c\u3092\u304a\u3053\u306a\u3044\u307e\u3059\u3002"
     ]
    },
    {
     "cell_type": "code",
     "collapsed": false,
     "input": [
      "import pyalps\n",
      "import numpy as np\n",
      "import matplotlib.pyplot as plt\n",
      "import pyalps.plot\n",
      "\n",
      "parms = []\n",
      "for l in [4, 6, 8, 10]:\n",
      "    for sz in [0, 1]:\n",
      "        parms.append(\n",
      "        { \n",
      "          'LATTICE'                   : \"chain lattice\", \n",
      "          'MODEL'                     : \"spin\",\n",
      "          'local_S'                   : 1,\n",
      "          'J'                         : 1,\n",
      "          'L'                         : l,\n",
      "          'CONSERVED_QUANTUMNUMBERS'  : 'Sz',\n",
      "          'Sz_total'                  : sz\n",
      "        }\n",
      "      )\n",
      "\n",
      "input_file = pyalps.writeInputFiles('ed02a',parms)\n",
      "res = pyalps.runApplication('sparsediag',input_file)"
     ],
     "language": "python",
     "metadata": {},
     "outputs": []
    },
    {
     "cell_type": "markdown",
     "metadata": {},
     "source": [
      "\u8a08\u7b97\u306e\u5b9f\u884c\u306b\u306f\u3001\u8d77\u52d5\u30b9\u30af\u30ea\u30d7\u30c8\u306e alpspython \u3092\u4f7f\u7528\u3057\u307e\u3059\u3002\u524d\u7bc0\u3067\u304a\u3053\u306a\u3063\u305f\u30b3\u30de\u30f3\u30c9\u30e9\u30a4\u30f3\u3067\u306e\u5b9f\u884c\u7d50\u679c\u3068\u540c\u3058\u51fa\u529b\u7d50\u679c\u304c\u5f97\u3089\u308c\u307e\u3059\u3002\n",
      "\n",
      "\u6b21\u306b\u3001\u5404\u30b7\u30b9\u30c6\u30e0\u30b5\u30a4\u30ba\u3001\u30b9\u30d4\u30f3\u30bb\u30af\u30bf\u30fc\u306e\u30b9\u30da\u30af\u30c8\u30eb\u306e\u8a08\u6e2c\u7d50\u679c\u3092\u30ed\u30fc\u30c9\u3057\u307e\u3059\u3002"
     ]
    },
    {
     "cell_type": "code",
     "collapsed": false,
     "input": [
      "data = pyalps.loadSpectra(pyalps.getResultFiles(prefix='ed02a'))"
     ],
     "language": "python",
     "metadata": {},
     "outputs": []
    },
    {
     "cell_type": "markdown",
     "metadata": {},
     "source": [
      "\u30ae\u30e3\u30c3\u30d7\u3092\u62bd\u51fa\u3059\u308b\u305f\u3081\u306b Python \u30b9\u30af\u30ea\u30d7\u30c8\u306b\u4e0b\u8a18\u306e $1, 2$ \u884c\u76ee\u3092\u8ffd\u52a0\u3059\u308b\u5fc5\u8981\u304c\u3042\u308a\u307e\u3059\u3002\u30ea\u30b9\u30c8\u306e\u9577\u3055\u3068\u3001\u5404\uff08L\u3001Sz\uff09\u30bb\u30af\u30bf\u30fc\u306e\u6700\u5c0f\u30a8\u30cd\u30eb\u30ae\u30fc\u3067\u3059\u3002"
     ]
    },
    {
     "cell_type": "code",
     "collapsed": false,
     "input": [
      "lengths = []\n",
      "min_energies = {}\n",
      "for sim in data:\n",
      "    l = int(sim[0].props['L'])\n",
      "    if l not in lengths:\n",
      "        lengths.append(l)\n",
      "    sz = int(sim[0].props['Sz_total'])\n",
      "    all_energies = []\n",
      "    for sec in sim:\n",
      "        all_energies += list(sec.y)\n",
      "    min_energies[(l,sz)]= np.min(all_energies)"
     ],
     "language": "python",
     "metadata": {},
     "outputs": []
    },
    {
     "cell_type": "markdown",
     "metadata": {},
     "source": [
      "\u6700\u5f8c\u306b\u3001$1/L$ \u306e\u95a2\u6570\u3068\u3057\u3066\u306e\u30ae\u30e3\u30c3\u30d7\u306e\u30d7\u30ed\u30c3\u30c8\u3092\u304a\u3053\u306a\u3044\u307e\u3059\u3002"
     ]
    },
    {
     "cell_type": "code",
     "collapsed": false,
     "input": [
      "gapplot = pyalps.DataSet()\n",
      "gapplot.x = 1./np.sort(lengths)\n",
      "gapplot.y = [min_energies[(l,1)] -min_energies[(l,0)] for l in np.sort(lengths)]  \n",
      "gapplot.props['xlabel']='$1/L$'\n",
      "gapplot.props['ylabel']='Triplet gap $\\Delta/J$'\n",
      "gapplot.props['label']='S=1'\n",
      "\n",
      "plt.figure()\n",
      "pyalps.plot.plot(gapplot)\n",
      "plt.legend()\n",
      "plt.xlim(0,0.25)\n",
      "plt.ylim(0,1.0)\n",
      "plt.show()"
     ],
     "language": "python",
     "metadata": {},
     "outputs": []
    },
    {
     "cell_type": "markdown",
     "metadata": {},
     "source": [
      "## Spin-$1/2$ \u9396\u3067\u306e\u30b9\u30d4\u30f3\u30ae\u30e3\u30c3\u30d7\n",
      "\n",
      "spin-1 \u9396\u3068 spin-1/2 \u9396\u306e\u5916\u633f\u30ae\u30e3\u30c3\u30d7\u3092\u6bd4\u8f03\u3057\u307e\u3059\u3002\u30d1\u30e9\u30e1\u30fc\u30bf `local_S=1` \u3092 `local_S=0.5` \u306b\u5909\u66f4\u3057\u3066\u8a08\u7b97\u3092\u304a\u3053\u306a\u3044\u307e\u3059\n",
      "\u30d1\u30e9\u30e1\u30fc\u30bf\u30d5\u30a1\u30a4\u30eb\u306f [ed02b](ed02b)\u3001Python\u30b9\u30af\u30ea\u30d7\u30c8\u306f [tutorial_ed02b.py](tutorial_ed02b.py) \u3092\u53c2\u7167\u3057\u3066\u304f\u3060\u3055\u3044"
     ]
    },
    {
     "cell_type": "markdown",
     "metadata": {},
     "source": [
      "## \u4e21\u7cfb\u3067\u306e\u30d7\u30ed\u30c3\u30c8\n",
      "\n",
      "\u524d\u9014\u306e\uff12\u3064\u306e\u7cfb\u306e\u8a08\u7b97\u3092\uff11\u3064\u306b\u3057\u305fPython\u30b9\u30af\u30ea\u30d7\u30c8\u306f [tutorial_ed02c.py](tutorial_ed02c.py) \u3092\u53c2\u7167\u3057\u3066\u304f\u3060\u3055\u3044\u3002"
     ]
    },
    {
     "cell_type": "markdown",
     "metadata": {},
     "source": [
      "## \u8a2d\u554f\n",
      "\n",
      "* \u7121\u9650\u7cfb\u306e\u30ae\u30e3\u30c3\u30d7\u306e\u5916\u633f\u5024\u306f\u4f55\u3067\u3059\u304b\uff1f\n",
      "* \u306a\u305cS=1\u3068S=1/2\u9396\u306f\u7570\u306a\u308b\u6319\u52d5\u3092\u793a\u3059\u306e\u3067\u3059\u304b"
     ]
    }
   ],
   "metadata": {}
  }
 ]
}