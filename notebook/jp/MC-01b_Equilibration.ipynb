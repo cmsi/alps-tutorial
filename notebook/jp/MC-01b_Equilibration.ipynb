{
 "metadata": {
  "name": "",
  "signature": "sha256:8d792654feb6026f69fcfdc5fc31d46188e373e23c8cd5005ab6bf008070a9c8"
 },
 "nbformat": 3,
 "nbformat_minor": 0,
 "worksheets": [
  {
   "cells": [
    {
     "cell_type": "markdown",
     "metadata": {},
     "source": [
      "# ALPS 2 Tutorials: MC-01 Equilibration\n",
      "\n",
      "\n",
      "# \u71b1\u5e73\u8861\u5316\n",
      "\n",
      " \u4e00\u822c\u7684\u306a\u7d4c\u9a13\u5247\uff1a \u5168\u3066\u306e\u30e2\u30f3\u30c6\u30ab\u30eb\u30ed\u8a08\u7b97\u306b\u306f\u3001\u6e2c\u5b9a\u306e\u524d\u306e\u71b1\u5e73\u8861\u5316\u304c\u5fc5\u8981\u3067\u3042\u308b \n",
      "\n",
      "## \u4f8b\uff1a\u5c40\u6240\u66f4\u65b0\u53e4\u5178\u30e2\u30f3\u30c6\u30ab\u30eb\u30ed\n",
      "\n",
      "\u4f8b\u3068\u3057\u3066\u30011\u8fba\u306e\u9577\u3055 $L=48$ \u306e\u6b63\u65b9\u683c\u5b50\u4e0a\u306e\u30a4\u30b8\u30f3\u30b0\u6a21\u578b\u306e\u30e2\u30f3\u30c6\u30ab\u30eb\u30ed\u8a08\u7b97\u3092\u3068\u308a\u3042\u3052\u307e\u3059\u3002\n",
      "\n",
      "### \u30b3\u30de\u30f3\u30c9\u30e9\u30a4\u30f3\u304b\u3089\u306e\u3001\u8a08\u7b97\u306e\u6e96\u5099\u53ca\u3073\u5b9f\u884c\n",
      "\n",
      "\n",
      "\u7528\u3044\u308b\u30d1\u30e9\u30e1\u30fc\u30bf\u30d5\u30a1\u30a4\u30eb [mc01b](mc01b) \u306f\u4ee5\u4e0b\u306e\u3068\u304a\u308a\u3067\u3059\uff1a"
     ]
    },
    {
     "cell_type": "raw",
     "metadata": {},
     "source": [
      "LATTICE=\"square lattice\"\n",
      "T=2.269186\n",
      "J=1\n",
      "THERMALIZATION=10000\n",
      "SWEEPS=50000  \n",
      "UPDATE=\"local\"\n",
      "MODEL=\"Ising\"\n",
      "{L=48;}"
     ]
    },
    {
     "cell_type": "markdown",
     "metadata": {},
     "source": [
      "\u3053\u306e\u30d1\u30e9\u30e1\u30fc\u30bf\u30d5\u30a1\u30a4\u30eb\uff08\u30d7\u30ec\u30fc\u30f3\u30c6\u30ad\u30b9\u30c8\uff09\u3092 XML \u30d5\u30a1\u30a4\u30eb\u306b\u5909\u63db\u3057\u3066`spinmc` \u3092\u5b9f\u884c\u3057\u307e\u3059:"
     ]
    },
    {
     "cell_type": "code",
     "collapsed": false,
     "input": [
      "%%bash\n",
      "parameter2xml mc01b\n",
      "spinmc --Tmin 10 --write-xml mc01b.in.xml"
     ],
     "language": "python",
     "metadata": {},
     "outputs": []
    },
    {
     "cell_type": "markdown",
     "metadata": {},
     "source": [
      "### Python \u3092\u7528\u3044\u305f\u8a08\u7b97\u306e\u6e96\u5099\u53ca\u3073\u5b9f\u884c\n",
      "\n",
      "\u3053\u306e\u7bc0\u3067\u306f\u30b7\u30df\u30e5\u30ec\u30fc\u30b7\u30e7\u30f3\u306e\u6e96\u5099\u30fb\u5b9f\u884c\u30fb\u30d7\u30ed\u30c3\u30c6\u30a3\u30f3\u30b0\u3092\u884c\u3046 Python \u30b9\u30af\u30ea\u30d7\u30c8\u306e\u8aac\u660e\u3092\u3057\u307e\u3059\u3002\u30b9\u30af\u30ea\u30d7\u30c8\u5168\u4f53\u306f [tutorial_mc01b.py](tutorial_mc01b.py) \u306b\u3042\u308a\u307e\u3059.\n",
      "\n",
      "\u307e\u305a\u30d1\u30e9\u30e1\u30fc\u30bf\u3092\u7528\u610f\u3057\u307e\u3059:"
     ]
    },
    {
     "cell_type": "code",
     "collapsed": false,
     "input": [
      "import pyalps\n",
      "\n",
      "parms = [{\n",
      "    'LATTICE'         : \"square lattice\",\n",
      "    'MODEL'           : \"Ising\",\n",
      "    'L'               : 48,\n",
      "    'J'               : 1.,\n",
      "    'T'               : 2.269186,\n",
      "    'THERMALIZATION'  : 10000,\n",
      "    'SWEEPS'          : 50000,\n",
      "}]"
     ],
     "language": "python",
     "metadata": {},
     "outputs": []
    },
    {
     "cell_type": "markdown",
     "metadata": {},
     "source": [
      "\u6b21\u306b\u30a4\u30f3\u30d7\u30c3\u30c8\u30d5\u30a1\u30a4\u30eb (XML) \u3092\u66f8\u304d\u51fa\u3057\u3001`spinmc` \u3092\u5b9f\u884c\u3057\u307e\u3059:"
     ]
    },
    {
     "cell_type": "code",
     "collapsed": false,
     "input": [
      "input_file = pyalps.writeInputFiles('mc01b',parms)\n",
      "pyalps.runApplication('spinmc', input_file, Tmin=10, writexml=True)"
     ],
     "language": "python",
     "metadata": {},
     "outputs": []
    },
    {
     "cell_type": "markdown",
     "metadata": {},
     "source": [
      "### \u8a08\u7b97\u306e\u8a55\u4fa1\u3068\u30d7\u30ed\u30c3\u30c6\u30a3\u30f3\u30b0\n",
      "\n",
      "\u3059\u3079\u3066\u306e\u8a08\u7b97\u7d50\u679c\u30d5\u30a1\u30a4\u30eb\u306e\u30ea\u30b9\u30c8\u3092\u5f97\u307e\u3059: "
     ]
    },
    {
     "cell_type": "code",
     "collapsed": false,
     "input": [
      "files = pyalps.getResultFiles(prefix='mc01b')"
     ],
     "language": "python",
     "metadata": {},
     "outputs": []
    },
    {
     "cell_type": "markdown",
     "metadata": {},
     "source": [
      "\u6b32\u3057\u3044\u30c7\u30fc\u30bf\u3001\u4eca\u56de\u306f\u78c1\u5316\u306e\u7d76\u5bfe\u5024 `|Magnetization|` \u306e\u6642\u7cfb\u5217\u3092\u53d6\u308a\u51fa\u3057\u307e\u3059:"
     ]
    },
    {
     "cell_type": "code",
     "collapsed": false,
     "input": [
      "ts_M = pyalps.loadTimeSeries(files[0], '|Magnetization|')"
     ],
     "language": "python",
     "metadata": {},
     "outputs": []
    },
    {
     "cell_type": "markdown",
     "metadata": {},
     "source": [
      "\u7d50\u679c\u3092\u53ef\u8996\u5316\u3057\u307e\u3059:"
     ]
    },
    {
     "cell_type": "code",
     "collapsed": false,
     "input": [
      "import matplotlib.pyplot as plt\n",
      "plt.plot(ts_M)\n",
      "plt.show()"
     ],
     "language": "python",
     "metadata": {},
     "outputs": []
    },
    {
     "cell_type": "markdown",
     "metadata": {},
     "source": [
      "\u6642\u7cfb\u5217\u3092\u898b\u308b\u3053\u3068\u3067\u3001\u30e6\u30fc\u30b6\u81ea\u8eab\u306e\u76ee\u3067\u8a08\u7b97\u3057\u3066\u3044\u308b\u7cfb\u304c\u5e73\u8861\u72b6\u614b\u306b\u9054\u3057\u3066\u3044\u308b\u304b\u3092\u5224\u65ad\u3067\u304d\u307e\u3059\u3002"
     ]
    },
    {
     "cell_type": "markdown",
     "metadata": {},
     "source": [
      "#### \u4fbf\u5229\u306a\u30c4\u30fc\u30eb: pyalps.checkSteadyState\n",
      "\n",
      "ALPS Python \u306b\u306f\u8a08\u7b97\u3057\u305f\u7269\u7406\u91cf\u304c\u71b1\u5e73\u8861\u72b6\u614b\u3067\u306e\u5024\u306b\u9054\u3057\u3066\u3044\u308b\u306e\u304b\u3092\u898b\u308b\u4fbf\u5229\u306a\u30c4\u30fc\u30eb\u304c\u3042\u308a\u307e\u3059\u3002\n",
      "\u539f\u7406\u3092\u77e5\u308a\u305f\u3044\u65b9\u306f\n",
      "[\u3053\u306e\u30da\u30fc\u30b8](http://alps.comp-phys.org/mediawiki/index.php/Documentation:Monte_Carlo_Equilibration#link_equilibration_theory) \u3092\u898b\u3066\u304f\u3060\u3055\u3044.\n",
      "\n",
      "\u4f7f\u3044\u65b9\u306f\u6b21\u306e\u3068\u304a\u308a\u3067\u3059\u3002\u3053\u3053\u3067\u306f `|Magnetization|` \u3067\u8abf\u3079\u307e\u3059\uff08\u4fe1\u983c\u6c34\u6e96\u306e\u30c7\u30d5\u30a9\u30eb\u30c8\u306f 63% \u3067\u3059\uff09:"
     ]
    },
    {
     "cell_type": "code",
     "collapsed": false,
     "input": [
      "import pyalps\n",
      "data = pyalps.loadMeasurements(pyalps.getResultFiles(prefix='mc01b'), '|Magnetization|')\n",
      "data = pyalps.checkSteadyState(data)"
     ],
     "language": "python",
     "metadata": {},
     "outputs": []
    },
    {
     "cell_type": "markdown",
     "metadata": {},
     "source": [
      "\u4fe1\u983c\u6c34\u6e96\u306e\u5024\u3092\u4ed6\u306e\u5024\u3001\u4f8b\u3048\u3070 90% \u306b\u3057\u305f\u3044\u306a\u3089\u4ee5\u4e0b\u306e\u3088\u3046\u306b\u3057\u3066\u304f\u3060\u3055\u3044:"
     ]
    },
    {
     "cell_type": "code",
     "collapsed": false,
     "input": [
      "data = pyalps.checkSteadyState(data, confidenceInterval=0.9)"
     ],
     "language": "python",
     "metadata": {},
     "outputs": []
    },
    {
     "cell_type": "markdown",
     "metadata": {},
     "source": [
      "# \u8a08\u7b97\u306e\u53ce\u675f\n",
      "\n",
      "\u5e73\u8861\u5316\u306e\u6642\u3068\u540c\u3058\u6a21\u578b\u3092\u7528\u3044\u3066\u3001\u8a08\u7b97\u306e\u53ce\u675f\u306b\u3064\u3044\u3066\u8aac\u660e\u3057\u307e\u3059\u3002\n",
      "\n",
      "### Python \u3092\u4f7f\u3046\n",
      "\n",
      "Python \u3092\u4f7f\u3046\u306e\u306f\u7c21\u5358\u3067\u3059:"
     ]
    },
    {
     "cell_type": "code",
     "collapsed": false,
     "input": [
      "import pyalps\n",
      "data = pyalps.loadMeasurements(pyalps.getResultFiles(prefix='mc01b'), '|Magnetization|');\n",
      "data = pyalps.checkConvergence(data);"
     ],
     "language": "python",
     "metadata": {},
     "outputs": []
    },
    {
     "cell_type": "markdown",
     "metadata": {},
     "source": [
      "&copy; 2013 by Matthias Troyer, Ping Nang M"
     ]
    }
   ],
   "metadata": {}
  }
 ]
}