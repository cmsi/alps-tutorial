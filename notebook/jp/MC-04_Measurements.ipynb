{
 "metadata": {
  "name": "",
  "signature": "sha256:eefd2646891f50e7ebd0db15c96cca9094de7ced97165c650edd85191ca286d8"
 },
 "nbformat": 3,
 "nbformat_minor": 0,
 "worksheets": [
  {
   "cells": [
    {
     "cell_type": "markdown",
     "metadata": {},
     "source": [
      "# ALPS 2 Tutorials: MC-04 Measurements"
     ]
    },
    {
     "cell_type": "markdown",
     "metadata": {},
     "source": [
      "#  \u6709\u5411\u30eb\u30fc\u30d7\u3001\u30ef\u30fc\u30e0\u30b3\u30fc\u30c9\u3067\u306e\u76f8\u95a2\u8a08\u7b97\n",
      "\n",
      "\u6709\u5411\u30eb\u30fc\u30d7\u3001\u30ef\u30fc\u30e0\u30b3\u30fc\u30c9\u3092\u7528\u3044\u3066\u76f8\u95a2\u95a2\u6570\u306e\u8a08\u7b97\u3092\u304a\u3053\u306a\u3044\u307e\u3059\u3002\n",
      "\n",
      "##  \u4e8c\u6b21\u5143\u30cf\u30a4\u30bc\u30f3\u30d9\u30eb\u30b0\u6b63\u65b9\u683c\u5b50 \n",
      "\n",
      "### \u30b3\u30de\u30f3\u30c9\u30e9\u30a4\u30f3\u3067\u306e\u30b7\u30df\u30e5\u30ec\u30fc\u30b7\u30e7\u30f3\u306e\u6e96\u5099\u3068\u5b9f\u884c\n",
      "\n",
      "[mc04](mc04) \u306f\u3001$S=1/2$ \u30cf\u30a4\u30bc\u30f3\u30d9\u30eb\u30b0\u30e2\u30c7\u30eb\u306e\u91cf\u5b50\u30e2\u30f3\u30c6\u30ab\u30eb\u30ed\u8a08\u7b97\u306e\u30d1\u30e9\u30e1\u30fc\u30bf\u30d5\u30a1\u30a4\u30eb\u3067\u3059\u3002"
     ]
    },
    {
     "cell_type": "raw",
     "metadata": {},
     "source": [
      "MODEL=\"spin\";\n",
      "LATTICE=\"square lattice\";\n",
      "REPRESENTATION=\"SSE\";\n",
      "MEASURE[Correlations]=true;\n",
      "MEASURE[Structure Factor]=true;\n",
      "MEASURE[Green Function]=true;\n",
      "THERMALIZATION=10000;\n",
      "SWEEPS=500000;\n",
      "J= 1;\n",
      "L=4;\n",
      "W=4;\n",
      "T=0.3;\n",
      "{h=0.1;}"
     ]
    },
    {
     "cell_type": "markdown",
     "metadata": {},
     "source": [
      "\u4ee5\u4e0b\u306e\u6a19\u6e96\u7684\u306a\u8a08\u7b97\u624b\u9806\u306b\u5f93\u3044\u3001\u91cf\u5b50 SSE \u30b3\u30fc\u30c9\u3092\u7528\u3044\u3066\u8a08\u7b97\u3059\u308b\u3053\u3068\u304c\u3067\u304d\u307e\u3059\u3002\u7d50\u679c\u306f XML \u5f62\u5f0f\u3067\u51fa\u529b\u3055\u308c\u3001web \u30d6\u30e9\u30a6\u30b6\u3067\u78ba\u8a8d\u304c\u53ef\u80fd\u3067\u3059\u3002"
     ]
    },
    {
     "cell_type": "code",
     "collapsed": false,
     "input": [
      "%%bash\n",
      "parameter2xml mc04\n",
      "dirloop_sse --Tmin 10 --write-xml mc04.in.xml"
     ],
     "language": "python",
     "metadata": {},
     "outputs": []
    },
    {
     "cell_type": "markdown",
     "metadata": {},
     "source": [
      "\u6b21\u306b\u3001`dirloop_sse_evaluate` \u30e2\u30b8\u30e5\u30fc\u30eb\u3092\u7528\u3044\u3066 `Specific Heat` (\u6bd4\u71b1)\u3092\u6c42\u3081\u307e\u3059\u3002\u30b7\u30df\u30e5\u30ec\u30fc\u30b7\u30e7\u30f3\u3067\u5f97\u3089\u308c\u305f\u7d50\u679c\u3092\u89e3\u6790\u3057\u3001\u51fa\u529b\u7d50\u679c\u3092 XML \u30d5\u30a1\u30a4\u30eb\u3068\u3057\u3066\u751f\u6210\u3057\u307e\u3059\u3002"
     ]
    },
    {
     "cell_type": "code",
     "collapsed": false,
     "input": [
      "%%bash\n",
      "dirloop_sse_evaluate --write-xml mc04.task1.out.xml"
     ],
     "language": "python",
     "metadata": {},
     "outputs": []
    },
    {
     "cell_type": "markdown",
     "metadata": {},
     "source": [
      "\u51fa\u529b\u7d50\u679c\u3092\u683c\u7d0d\u3057\u305f\u30d5\u30a1\u30a4\u30eb\u306f\u3001\u4e0a\u66f8\u304d\u3055\u308c\u307e\u3059\u306e\u3067\u6ce8\u610f\u3057\u3066\u304f\u3060\u3055\u3044\u3002\n",
      "\n",
      "\u30b7\u30df\u30e5\u30ec\u30fc\u30b7\u30e7\u30f3\u51fa\u529b\u30d5\u30a1\u30a4\u30eb\u306b\u306f\u3001\u5168\u8a08\u7b97\u304c\u304a\u3053\u306a\u308f\u308c\u305f\u5f8c\u306e\u8a08\u7b97\u7d50\u679c\u304c\u3060\u3051\u304c\u683c\u7d0d\u3055\u308c\u3066\u3044\u307e\u3059\u3002\u500b\u3005\u306e\u30e2\u30f3\u30c6\u30ab\u30eb\u30ed\u30b9\u30c6\u30c3\u30d7\u3067\u306e\u8a08\u7b97\u306e\u8a73\u7d30\u306f\u3001\u5404\u30c1\u30a7\u30c3\u30af\u30dd\u30a4\u30f3\u30c8\u60c5\u5831\u3092\u683c\u7d0d\u3057\u3066\u3044\u308b\u30c1\u30a7\u30c3\u30af\u30dd\u30a4\u30f3\u30c8\u30d5\u30a1\u30a4\u30eb\u3092XML\u5f62\u5f0f\u306b\u5909\u63db\u3059\u308b\u3053\u3068\u306b\u3088\u3063\u3066\u77e5\u308b\u3053\u3068\u304c\u53ef\u80fd\u3067\u3059`\u3002convert2xml` \u30c4\u30fc\u30eb\u3092\u6b21\u306e\u3088\u3046\u306b\u4f7f\u7528\u3057\u307e\u3059\u3002"
     ]
    },
    {
     "cell_type": "code",
     "collapsed": false,
     "input": [
      "%%bash\n",
      "convert2xml mc04.task1.out.run1"
     ],
     "language": "python",
     "metadata": {},
     "outputs": []
    },
    {
     "cell_type": "markdown",
     "metadata": {},
     "source": [
      "\u3053\u306e\u64cd\u4f5c\u306b\u3088\u3063\u3066\u30e2\u30f3\u30c6\u30ab\u30eb\u30ed\u8a08\u7b97\u304b\u3089\u6458\u51fa\u3055\u308c\u305f\u60c5\u5831\u3092\u542b\u3080\u3001XML \u5f62\u5f0f\u306e\u30bf\u30b9\u30af\u30d5\u30a1\u30a4\u30eb `mc04.task1.out.run.xml` \u304c\u751f\u6210\u3055\u308c\u307e\u3059\u3002\n",
      "\n",
      "\u7269\u7406\u91cf\u306b\u95a2\u3059\u308b\u30d7\u30ed\u30c3\u30c8\u3092\u304a\u3053\u306a\u3044\u305f\u3044\u5834\u5408\u306f\u3001\u5f8c\u8ff0\u3059\u308b Python \u89e3\u6790\u30c4\u30fc\u30eb\u3092\u5229\u7528\u3057\u3066\u304f\u3060\u3055\u3044\u3002\n",
      "\n",
      "### Python \u3092\u4f7f\u7528\u3057\u305f\u30b7\u30df\u30e5\u30ec\u30fc\u30b7\u30e7\u30f3\u306e\u6e96\u5099\u3068\u5b9f\u884c\n",
      "\n",
      "Python \u3067\u8a08\u7b97\u306e\u5b9f\u884c\u3092\u8a2d\u5b9a\u3057\u307e\u3059\u3002Python \u30b9\u30af\u30ea\u30d7\u30c8 [tutorial_mc04.py](tutorial_mc04.py)\u3092\u53c2\u7167\u3057\u3066\u304f\u3060\u3055\u3044\u3002"
     ]
    },
    {
     "cell_type": "code",
     "collapsed": false,
     "input": [
      "import pyalps\n",
      "\n",
      "parms = [{ \n",
      "    'LATTICE'                   : \"square lattice\", \n",
      "    'MODEL'                     : \"spin\",\n",
      "    'MEASURE[Correlations]'     : True,\n",
      "    'MEASURE[Structure Factor]' : True,\n",
      "    'MEASURE[Green Function]'   : True,\n",
      "    'local_S'                   : 0.5,\n",
      "    'T'                         : 0.3,\n",
      "    'J'                         : 1 ,\n",
      "    'THERMALIZATION'            : 10000,\n",
      "    'SWEEPS'                    : 500000,\n",
      "    'L'                         : 4,\n",
      "    'h'                         : 0.1\n",
      "}]\n",
      "\n",
      "input_file = pyalps.writeInputFiles('mc04',parms)\n",
      "res = pyalps.runApplication('dirloop_sse',input_file,Tmin=5)"
     ],
     "language": "python",
     "metadata": {},
     "outputs": []
    },
    {
     "cell_type": "markdown",
     "metadata": {},
     "source": [
      "### Python\u3092\u4f7f\u7528\u3057\u305f\u30b7\u30df\u30e5\u30ec\u30fc\u30b7\u30e7\u30f3\u306e\u8a55\u4fa1\u3068\u30d7\u30ed\u30c3\u30c8\n",
      "\n",
      "\u8a08\u7b97\u7d50\u679c\u30d5\u30a1\u30a4\u30eb\u3092\u30ed\u30fc\u30c9\u3057\u3001\u78c1\u5834\u306e\u95a2\u6570\u3068\u3057\u3066\u306e\u78c1\u5316\u5bc6\u5ea6\u306e\u60c5\u5831\u3092\u53d6\u5f97\u3057\u307e\u3059\u3002\u8a08\u7b97\u306e\u30ed\u30fc\u30c9\u3001\u89e3\u6790\u3001\u30d7\u30ed\u30c3\u30c8\u306e\u624b\u9806\u306f Python \u30b9\u30af\u30ea\u30d7\u30c8[tutorial_mc04.py](tutorial_mc04.py)\u3092\u53c2\u7167\u3057\u3066\u304f\u3060\u3055\u3044\u3002"
     ]
    },
    {
     "cell_type": "code",
     "collapsed": false,
     "input": [
      "data = pyalps.loadMeasurements(pyalps.getResultFiles(prefix='mc04'))"
     ],
     "language": "python",
     "metadata": {},
     "outputs": []
    },
    {
     "cell_type": "markdown",
     "metadata": {},
     "source": [
      "\u6e2c\u5b9a\u3068\u51fa\u529b\u3092\u5236\u5fa1\u3059\u308b\u30eb\u30fc\u30d7\u3067\u3059\u3002"
     ]
    },
    {
     "cell_type": "code",
     "collapsed": false,
     "input": [
      "for s in pyalps.flatten(data):\n",
      "    if len(s.x)==1:\n",
      "        print s.props['observable'], ' : ', s.y[0]\n",
      "    else:\n",
      "        for (x,y) in zip(s.x,s.y):\n",
      "            print  s.props['observable'], x, ' : ', y"
     ],
     "language": "python",
     "metadata": {},
     "outputs": []
    }
   ],
   "metadata": {}
  }
 ]
}