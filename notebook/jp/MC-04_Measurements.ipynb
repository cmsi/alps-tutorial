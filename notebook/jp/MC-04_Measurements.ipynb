{
 "metadata": {
  "name": "", 
  "signature": "sha256:eefd2646891f50e7ebd0db15c96cca9094de7ced97165c650edd85191ca286d8"
 }, 
 "nbformat": 3, 
 "nbformat_minor": 0, 
 "worksheets": [
  {
   "cells": [
    {
     "cell_type": "markdown", 
     "metadata": {}, 
     "source": [
      "# ALPS 2 Tutorials: MC-04 Measurements"
     ]
    }, 
    {
     "cell_type": "markdown", 
     "metadata": {}, 
     "source": [
      "#  有向ループ、ワームコードでの相関計算\n", 
      "\n", 
      "有向ループ、ワームコードを用いて相関関数の計算をおこないます。\n", 
      "\n", 
      "##  二次元ハイゼンベルグ正方格子 \n", 
      "\n", 
      "### コマンドラインでのシミュレーションの準備と実行\n", 
      "\n", 
      "[mc04](mc04) は、$S=1/2$ ハイゼンベルグモデルの量子モンテカルロ計算のパラメータファイルです。"
     ]
    }, 
    {
     "cell_type": "raw", 
     "metadata": {}, 
     "source": [
      "MODEL=\"spin\";\n", 
      "LATTICE=\"square lattice\";\n", 
      "REPRESENTATION=\"SSE\";\n", 
      "MEASURE[Correlations]=true;\n", 
      "MEASURE[Structure Factor]=true;\n", 
      "MEASURE[Green Function]=true;\n", 
      "THERMALIZATION=10000;\n", 
      "SWEEPS=500000;\n", 
      "J= 1;\n", 
      "L=4;\n", 
      "W=4;\n", 
      "T=0.3;\n", 
      "{h=0.1;}"
     ]
    }, 
    {
     "cell_type": "markdown", 
     "metadata": {}, 
     "source": [
      "以下の標準的な計算手順に従い、量子 SSE コードを用いて計算することができます。結果は XML 形式で出力され、web ブラウザで確認が可能です。"
     ]
    }, 
    {
     "cell_type": "code", 
     "collapsed": false, 
     "input": [
      "%%bash\n", 
      "parameter2xml mc04\n", 
      "dirloop_sse --Tmin 10 --write-xml mc04.in.xml"
     ], 
     "language": "python", 
     "metadata": {}, 
     "outputs": []
    }, 
    {
     "cell_type": "markdown", 
     "metadata": {}, 
     "source": [
      "次に、`dirloop_sse_evaluate` モジュールを用いて `Specific Heat` (比熱)を求めます。シミュレーションで得られた結果を解析し、出力結果を XML ファイルとして生成します。"
     ]
    }, 
    {
     "cell_type": "code", 
     "collapsed": false, 
     "input": [
      "%%bash\n", 
      "dirloop_sse_evaluate --write-xml mc04.task1.out.xml"
     ], 
     "language": "python", 
     "metadata": {}, 
     "outputs": []
    }, 
    {
     "cell_type": "markdown", 
     "metadata": {}, 
     "source": [
      "出力結果を格納したファイルは、上書きされますので注意してください。\n", 
      "\n", 
      "シミュレーション出力ファイルには、全計算がおこなわれた後の計算結果がだけが格納されています。個々のモンテカルロステップでの計算の詳細は、各チェックポイント情報を格納しているチェックポイントファイルをXML形式に変換することによって知ることが可能です`。convert2xml` ツールを次のように使用します。"
     ]
    }, 
    {
     "cell_type": "code", 
     "collapsed": false, 
     "input": [
      "%%bash\n", 
      "convert2xml mc04.task1.out.run1"
     ], 
     "language": "python", 
     "metadata": {}, 
     "outputs": []
    }, 
    {
     "cell_type": "markdown", 
     "metadata": {}, 
     "source": [
      "この操作によってモンテカルロ計算から摘出された情報を含む、XML 形式のタスクファイル `mc04.task1.out.run.xml` が生成されます。\n", 
      "\n", 
      "物理量に関するプロットをおこないたい場合は、後述する Python 解析ツールを利用してください。\n", 
      "\n", 
      "### Python を使用したシミュレーションの準備と実行\n", 
      "\n", 
      "Python で計算の実行を設定します。Python スクリプト [tutorial_mc04.py](tutorial_mc04.py)を参照してください。"
     ]
    }, 
    {
     "cell_type": "code", 
     "collapsed": false, 
     "input": [
      "import pyalps\n", 
      "\n", 
      "parms = [{ \n", 
      "    'LATTICE'                   : \"square lattice\", \n", 
      "    'MODEL'                     : \"spin\",\n", 
      "    'MEASURE[Correlations]'     : True,\n", 
      "    'MEASURE[Structure Factor]' : True,\n", 
      "    'MEASURE[Green Function]'   : True,\n", 
      "    'local_S'                   : 0.5,\n", 
      "    'T'                         : 0.3,\n", 
      "    'J'                         : 1 ,\n", 
      "    'THERMALIZATION'            : 10000,\n", 
      "    'SWEEPS'                    : 500000,\n", 
      "    'L'                         : 4,\n", 
      "    'h'                         : 0.1\n", 
      "}]\n", 
      "\n", 
      "input_file = pyalps.writeInputFiles('mc04',parms)\n", 
      "res = pyalps.runApplication('dirloop_sse',input_file,Tmin=5)"
     ], 
     "language": "python", 
     "metadata": {}, 
     "outputs": []
    }, 
    {
     "cell_type": "markdown", 
     "metadata": {}, 
     "source": [
      "### Pythonを使用したシミュレーションの評価とプロット\n", 
      "\n", 
      "計算結果ファイルをロードし、磁場の関数としての磁化密度の情報を取得します。計算のロード、解析、プロットの手順は Python スクリプト[tutorial_mc04.py](tutorial_mc04.py)を参照してください。"
     ]
    }, 
    {
     "cell_type": "code", 
     "collapsed": false, 
     "input": [
      "data = pyalps.loadMeasurements(pyalps.getResultFiles(prefix='mc04'))"
     ], 
     "language": "python", 
     "metadata": {}, 
     "outputs": []
    }, 
    {
     "cell_type": "markdown", 
     "metadata": {}, 
     "source": [
      "測定と出力を制御するループです。"
     ]
    }, 
    {
     "cell_type": "code", 
     "collapsed": false, 
     "input": [
      "for s in pyalps.flatten(data):\n", 
      "    if len(s.x)==1:\n", 
      "        print s.props['observable'], ' : ', s.y[0]\n", 
      "    else:\n", 
      "        for (x,y) in zip(s.x,s.y):\n", 
      "            print  s.props['observable'], x, ' : ', y"
     ], 
     "language": "python", 
     "metadata": {}, 
     "outputs": []
    }
   ], 
   "metadata": {}
  }
 ]
}