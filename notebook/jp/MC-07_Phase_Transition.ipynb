{
 "metadata": {
  "name": "",
  "signature": "sha256:720f0dbf73992b304331733f6e59c81f71277af798d9d607a1e0b9b7e80f3276"
 },
 "nbformat": 3,
 "nbformat_minor": 0,
 "worksheets": [
  {
   "cells": [
    {
     "cell_type": "markdown",
     "metadata": {},
     "source": [
      "# ALPS 2 Tutorials:MC-07 Phase Transition"
     ]
    },
    {
     "cell_type": "markdown",
     "metadata": {},
     "source": [
      "# \u6700\u521d\u306b\n",
      "\n",
      "\u3053\u306e\u30c1\u30e5\u30fc\u30c8\u30ea\u30a2\u30eb\u306e\u76ee\u7684\u306f\u3001\u6709\u540d\u306a $2$ \u6b21\u5143\u30a4\u30b8\u30f3\u30b0\u30e2\u30c7\u30eb\u3092\u4f8b\u306b\u3068\u308a\u3001\u6709\u9650\u30b5\u30a4\u30ba\u306e\u30b7\u30df\u30e5\u30ec\u30fc\u30b7\u30e7\u30f3\u304b\u3089\u4e8c\u6b21\u76f8\u8ee2\u79fb\u3092\u518d\u73fe\u3059\u308b\u65b9\u6cd5\u3092\u5b66\u3076\u3053\u3068\u3067\u3059\u3002\u6709\u9650\u7cfb\u3067\u306f\u771f\u306e\u76f8\u8ee2\u79fb\u3084\u81e8\u754c\u73fe\u8c61\u306f\u8d77\u304d\u307e\u305b\u3093\u304c\u3001\u524d\u99c6\u73fe\u8c61\u306f\u660e\u78ba\u306b\u3042\u3089\u308f\u308c\u308b\u306e\u3067\u3001\u6709\u9650\u30b5\u30a4\u30ba\u30b9\u30b1\u30fc\u30ea\u30f3\u30b0\u6cd5\u3092\u7528\u3044\u308b\u3053\u3068\u3067\u3001\u30e6\u30cb\u30d0\u30fc\u30b5\u30ea\u30c6\u30a3\u30af\u30e9\u30b9\u3092\u6c7a\u5b9a\u3059\u308b\u3053\u3068\u304c\u3067\u304d\u307e\u3059\u3002\n",
      "\u76f8\u8ee2\u79fb\u73fe\u8c61\u306f $2$ \u6b21\u5143\u30a4\u30b8\u30f3\u30b0\u30e2\u30c7\u30eb\u3067\u306f\u6b63\u78ba\u306b\u89e3\u3051\u308b\u3053\u3068\u304c\u77e5\u3089\u308c\u3066\u3044\u307e\u3059\u3002\u3053\u306e\u30c1\u30e5\u30fc\u30c8\u30ea\u30a2\u30eb\u3067\u306f\u3001\u81e8\u754c\u70b9\u4e26\u3073\u306b\u81e8\u754c\u6307\u6570\u306e\u8a08\u7b97\u624b\u9806\u3092\u8aac\u660e\u3057\u307e\u3059\u3002\u3053\u306e\u30c1\u30e5\u30fc\u30c8\u30ea\u30a2\u30eb\u306e\u8a08\u7b97\u306f\u3001\u3042\u308b\u7a0b\u5ea6\u306e\u6642\u9593\u3092\u8981\u3057\u307e\u3059\u306e\u3067\u3001\u52b9\u7387\u7684\u306b\u9032\u3081\u3066\u304f\u3060\u3055\u3044\u3002\n",
      "\n",
      "\u6700\u521d\u306e\u8a08\u7b97\u3092\u3059\u308b\u524d\u306b\u3001$2$ \u756a\u76ee\u306e\u8a08\u7b97\u3092\u3042\u3089\u304b\u3058\u3081\u30d0\u30c3\u30af\u30b0\u30e9\u30a6\u30f3\u30c9\u3067\u59cb\u3081\u3066\u304a\u304f\u3068\u3088\u3044\u3067\u3057\u3087\u3046\u3002\u305d\u306e\u30d1\u30e9\u30e1\u30fc\u30bf\u30d5\u30a1\u30a4\u30eb\u306f[mc07b](mc07b)\u3067\u3059\u3002\u6b21\u306e\u30b3\u30de\u30f3\u30c9\u3067\u5b9f\u884c\u958b\u59cb\u3057\u3066\u304f\u3060\u3055\u3044\u3002"
     ]
    },
    {
     "cell_type": "code",
     "collapsed": false,
     "input": [
      "%%bash --bg\n",
      "parameter2xml mc07b\n",
      "spinmc --Tmin 10  mc07b.in.xml"
     ],
     "language": "python",
     "metadata": {},
     "outputs": []
    },
    {
     "cell_type": "markdown",
     "metadata": {},
     "source": [
      "Python\u3067\u306f\u3001[tutorial_mc07b.py](tutorial_mc07b.py)"
     ]
    },
    {
     "cell_type": "code",
     "collapsed": false,
     "input": [
      "import pyalps\n",
      "import matplotlib.pyplot as plt\n",
      "import pyalps.plot\n",
      "import numpy as np\n",
      "import pyalps.fit_wrapper as fw\n",
      " \n",
      "#prepare the input parameters \n",
      "parms = []\n",
      "for l in [32,48,64]:\n",
      "    for t in [2.24, 2.25, 2.26, 2.27, 2.28, 2.29, 2.30, 2.31, 2.32, 2.33, 2.34, 2.35]:\n",
      "        parms.append(\n",
      "            { \n",
      "              'LATTICE'        : \"square lattice\", \n",
      "              'T'              : t,\n",
      "              'J'              : 1 ,\n",
      "              'THERMALIZATION' : 5000,\n",
      "              'SWEEPS'         : 150000,\n",
      "              'UPDATE'         : \"cluster\",\n",
      "              'MODEL'          : \"Ising\",\n",
      "              'L'              : l\n",
      "            }  \n",
      "    )\n",
      " \n",
      "#write the input file and run the simulation\n",
      "input_file = pyalps.writeInputFiles('mc07b', parms) \n",
      "pyalps.runApplication('spinmc',input_file,Tmin=5)"
     ],
     "language": "python",
     "metadata": {},
     "outputs": []
    },
    {
     "cell_type": "markdown",
     "metadata": {},
     "source": [
      "# \u76f8\u8ee2\u79fb\u306e\u304a\u304a\u3088\u305d\u306e\u7279\u5b9a\n",
      "\n",
      "\u6700\u521d\u306b\u3001\u81e8\u754c\u70b9\u306e\u304a\u304a\u3088\u305d\u306e\u7bc4\u56f2\u3092\u7279\u5b9a\u3059\u308b\u305f\u3081\u306b\u3001\u5c0f\u3055\u3044\u7cfb\u3067\u6e29\u5ea6\u306b\u3088\u308b\u63a2\u7d22\u3092\u304a\u3053\u306a\u3044\u307e\u3059\u3002\u4f7f\u7528\u3059\u308b\u30d1\u30e9\u30e1\u30fc\u30bf\u30d5\u30a1\u30a4\u30eb\u306f[mc07a](mc07a)\u3067\u3059\u3002"
     ]
    },
    {
     "cell_type": "code",
     "collapsed": false,
     "input": [
      "%%bash\n",
      "parameter2xml mc07a\n",
      "spinmc --Tmin 5 mc07a.in.xml"
     ],
     "language": "python",
     "metadata": {},
     "outputs": []
    },
    {
     "cell_type": "markdown",
     "metadata": {},
     "source": [
      "Python \u3092\u7528\u3044\u308b\u5834\u5408\u3001\u30b9\u30af\u30ea\u30d7\u30c8\u306f [tutorial_mc07a.py](tutorial_mc07a.py) \u3067\u3059\u3002"
     ]
    },
    {
     "cell_type": "markdown",
     "metadata": {},
     "source": [
      "import pyalps\n",
      "import matplotlib.pyplot as plt\n",
      "import pyalps.plot\n",
      "\n",
      "#prepare the input parameters\n",
      "parms = []\n",
      "for l in [4, 8, 16]: \n",
      "    for t in [5.0, 4.5, 4.0, 3.5, 3.0, 2.9, 2.8, 2.7]:\n",
      "        parms.append(\n",
      "            { \n",
      "              'LATTICE'        : \"square lattice\", \n",
      "              'T'              : t,\n",
      "              'J'              : 1 ,\n",
      "              'THERMALIZATION' : 1000,\n",
      "              'SWEEPS'         : 400000,\n",
      "              'UPDATE'         : \"cluster\",\n",
      "              'MODEL'          : \"Ising\",\n",
      "              'L'              : l\n",
      "            }\n",
      "        )\n",
      "    for t in [2.6, 2.5, 2.4, 2.3, 2.2, 2.1, 2.0, 1.9, 1.8, 1.7, 1.6, 1.5, 1.2]:\n",
      "        parms.append(\n",
      "            { \n",
      "              'LATTICE'        : \"square lattice\", \n",
      "              'T'              : t,\n",
      "              'J'              : 1 ,\n",
      "              'THERMALIZATION' : 1000,\n",
      "              'SWEEPS'         : 40000,\n",
      "              'UPDATE'         : \"cluster\",\n",
      "              'MODEL'          : \"Ising\",\n",
      "              'L'              : l\n",
      "            }\n",
      "        )\n",
      "\n",
      "#write the input file and run the simulation\n",
      "input_file = pyalps.writeInputFiles('mc07a', parms)\n",
      "pyalps.runApplication('spinmc', input_file, Tmin=5)"
     ]
    },
    {
     "cell_type": "markdown",
     "metadata": {},
     "source": [
      "## \u78c1\u5316\u3001\u5e2f\u78c1\u7387\u3001\u6bd4\u71b1\n",
      "\n",
      "\u4f4e\u6e29\u306b\u304a\u3051\u308b\u30a4\u30b8\u30f3\u30b0\u30e2\u30c7\u30eb\u3092\u8a18\u8ff0\u3059\u308b\u79e9\u5e8f\u5909\u6570\u306f\u3001\u30b5\u30a4\u30c8\u3042\u305f\u308a\u306e\u78c1\u5316 $m$ \u3067\u3059\u3002\u3082\u3061\u308d\u3093\u6709\u9650\u7cfb\u3067\u306f\u3001\u5e73\u5747\u5024 $<m>$ \u306f\u5bfe\u79f0\u6027\u306b\u3088\u308a $0$ \u3068\u306a\u308b\u306e\u3067\u3001\u78c1\u5316\u306e\u5e73\u5747\u7d76\u5bfe\u5024\u306b\u6ce8\u76ee\u3059\u3079\u304d\u3067\u3059\u3002\n",
      "\u6b21\u306e\u8a18\u8ff0\u306f Python \u30b7\u30a7\u30eb\u306b\u3088\u308b\u3001\u5b9f\u884c\u3001\u30c7\u30fc\u30bf\u89e3\u6790\u3001\u8a08\u7b97\u7d50\u679c\u8aad\u307f\u8fbc\u307f\u306e\u4e00\u9023\u306e\u624b\u9806\u3067\u3059\u3002"
     ]
    },
    {
     "cell_type": "code",
     "collapsed": false,
     "input": [
      "pyalps.evaluateSpinMC(pyalps.getResultFiles(prefix='mc07a'))\n",
      "\n",
      "#load the observables and collect them as function of temperature T\n",
      "data = pyalps.loadMeasurements(\n",
      "    pyalps.getResultFiles(prefix='mc07a'),\n",
      "    ['|Magnetization|', 'Connected Susceptibility', \n",
      "     'Specific Heat', 'Binder Cumulant', \n",
      "     'Binder Cumulant U2'])\n",
      "\n",
      "magnetization_abs = pyalps.collectXY(data,x='T',y='|Magnetization|',foreach=['L'])\n",
      "connected_susc = pyalps.collectXY(data,x='T',y='Connected Susceptibility',foreach=['L'])\n",
      "spec_heat = pyalps.collectXY(data,x='T',y='Specific Heat',foreach=['L'])\n",
      "binder_u4 = pyalps.collectXY(data,x='T',y='Binder Cumulant',foreach=['L'])\n",
      "binder_u2 = pyalps.collectXY(data,x='T',y='Binder Cumulant U2',foreach=['L'])"
     ],
     "language": "python",
     "metadata": {},
     "outputs": []
    },
    {
     "cell_type": "markdown",
     "metadata": {},
     "source": [
      "$T$ \u306b\u5bfe\u3059\u308b `|Magnetization|` \u306e\u30d7\u30ed\u30c3\u30c8\u3092\u304a\u3053\u306a\u3044\u307e\u3059\u3002"
     ]
    },
    {
     "cell_type": "code",
     "collapsed": false,
     "input": [
      "plt.figure()\n",
      "pyalps.plot.plot(magnetization_abs)\n",
      "plt.xlabel('Temperature $T$')\n",
      "plt.ylabel('Magnetization $|m|$')\n",
      "plt.title('2D Ising model')\n",
      "plt.show()"
     ],
     "language": "python",
     "metadata": {},
     "outputs": []
    },
    {
     "cell_type": "markdown",
     "metadata": {},
     "source": [
      "\u9ad8\u6e29\u304b\u3089\u4f4e\u6e29\u3078\u884c\u304f\u3068\u78c1\u5316\u304c0\u304b\u3089\u3042\u308b\u98fd\u548c\u5024\u307e\u3067\u4e0a\u6607\u3059\u308b\u3053\u3068\u304c\u660e\u3089\u304b\u306b\u308f\u304b\u308a\u307e\u3059\u3002\u30b7\u30b9\u30c6\u30e0\u30b5\u30a4\u30ba\u3092\u5927\u304d\u304f\u3059\u308b\u306b\u3064\u308c\u3066\u5909\u5316\u304c\u92ed\u304f\u306a\u308a\u307e\u3059\u304c\u3001\u3053\u306e\u5909\u5316\u304c\u8d77\u304d\u308b\u6e29\u5ea6\u306f\u305d\u308c\u307b\u3069\u660e\u767d\u3067\u306f\u3042\u308a\u307e\u305b\u3093\u3002\u3088\u308a\u660e\u3089\u304b\u306b\u3059\u308b\u305f\u3081\u306b\u3001\u78c1\u5316\u306e\u3086\u3089\u304e\u3092\u898b\u3066\u307f\u307e\u3057\u3087\u3046\u3002\n",
      "\u305d\u306e\u305f\u3081\u306b\u3001\u5e2f\u78c1\u7387 $\\chi = \\beta .N .( < m^2>- <|m|>^2)$\u3092\u898b\u3066\u307f\u307e\u3059\u3002$N$ \u306f\u5168\u30b9\u30d4\u30f3\u6570\u3067\u3059\u3002"
     ]
    },
    {
     "cell_type": "code",
     "collapsed": false,
     "input": [
      "plt.figure()\n",
      "pyalps.plot.plot(connected_susc)\n",
      "plt.xlabel('Temperature $T$')\n",
      "plt.ylabel('Connected Susceptibility $\\chi_c$')\n",
      "plt.title('2D Ising model')\n",
      "plt.show()"
     ],
     "language": "python",
     "metadata": {},
     "outputs": []
    },
    {
     "cell_type": "markdown",
     "metadata": {},
     "source": [
      "$T=2.2-2.4$ \u5468\u8fba\u3067\u30d4\u30fc\u30af\u304c\u89b3\u6e2c\u3055\u308c\u307e\u3059\u3002\u3053\u308c\u306f\u6700\u3082\u78c1\u5316\u306e\u3086\u3089\u304e\u304c\u5f37\u3044\u6e29\u5ea6\u3067\u3059\u3002\u30d4\u30fc\u30af\u306f\u30b7\u30b9\u30c6\u30e0\u30b5\u30a4\u30ba\u306b\u3068\u3082\u306a\u3063\u3066\u767a\u6563\u3059\u308b\u50be\u5411\u306b\u3042\u308a\u307e\u3059\u3002\u8a73\u7d30\u306f\u5f8c\u8ff0\u3057\u307e\u3059\u304c\u3001\u3053\u306e\u767a\u6563\u306f\u81e8\u754c\u6307\u6570\u306b\u3088\u3063\u3066\u7279\u5fb4\u4ed8\u3051\u3089\u308c\u307e\u3059\u3002\n",
      "\n",
      "\u3053\u306e\u5e2f\u78c1\u7387\u306b\u3088\u308b\u304a\u304a\u307e\u304b\u306a\u81e8\u754c\u6e29\u5ea6\u306e\u898b\u7a4d\u308a\u306e\u59a5\u5f53\u6027\u306f\u3001\u6bd4\u71b1\u306e\u632f\u308b\u821e\u3044\u3001 \u3064\u307e\u308a\u30a8\u30cd\u30eb\u30ae\u30fc\u306e\u3086\u3089\u304e $C_v = \\beta^2 . N. ( < e^2 >- < e >^2 )$\u3000\uff08$e$\u306f\u30b5\u30a4\u30c8\u3042\u305f\u308a\u306e\u5185\u90e8\u30a8\u30cd\u30eb\u30ae\u30fc\uff09\u3092\u307f\u308b\u3053\u3068\u3067\u3001\u78ba\u304b\u3081\u308b\u3053\u3068\u304c\u3067\u304d\u307e\u3059\u3002"
     ]
    },
    {
     "cell_type": "code",
     "collapsed": false,
     "input": [
      "plt.figure()\n",
      "pyalps.plot.plot(spec_heat)\n",
      "plt.xlabel('Temperature $T$')\n",
      "plt.ylabel('Specific Heat $c_v$')\n",
      "plt.title('2D Ising model')\n",
      "plt.show()"
     ],
     "language": "python",
     "metadata": {},
     "outputs": []
    },
    {
     "cell_type": "markdown",
     "metadata": {},
     "source": [
      "\u5e2f\u78c1\u7387\u306e\u30d4\u30fc\u30af\u3088\u308a\u306f\u5f31\u3044\u3067\u3059\u304c\u3001\u540c\u3058\u5834\u6240\u306b\u6bd4\u71b1\u306e\u30d4\u30fc\u30af\u3092\u89b3\u6e2c\u3067\u304d\u307e\u3059\u3002\u6bd4\u71b1\u306e\u30d4\u30fc\u30af\u304c\u5e2f\u78c1\u7387\u306e\u30d4\u30fc\u30af\u3088\u308a\u5f31\u3044\u7406\u7531\u3082\u3001\u5f8c\u3067\u898b\u3066\u3044\u304d\u307e\u3059\u3002"
     ]
    },
    {
     "cell_type": "markdown",
     "metadata": {},
     "source": [
      "## Binder\u30ad\u30e5\u30e0\u30e9\u30f3\u30c8\n",
      "\n",
      "\u30b7\u30df\u30e5\u30ec\u30fc\u30b7\u30e7\u30f3\u306e\u7d50\u679c\u3001\u5e38\u306b\u66f2\u7dda\u306e\u6700\u5927\u5024\uff08\u5e2f\u78c1\u7387\u3084\u6bd4\u71b1\u306e\u30d4\u30fc\u30af\uff09\u3092\u5bb9\u6613\u306b\u6c42\u3081\u3089\u308c\u308b\u3068\u306f\u9650\u308a\u307e\u305b\u3093\u3002\u307e\u305f\u3001\u524d\u9014\u306e\u30d7\u30ed\u30c3\u30c8\u3067\u3082\u898b\u308c\u305f\u3088\u3046\u306b\u3001\u30d4\u30fc\u30af\u6e29\u5ea6\u306f\u30b7\u30b9\u30c6\u30e0\u30b5\u30a4\u30ba\u306b\u3088\u3063\u3066\u5909\u52d5\u3059\u308b\u3053\u3068\u3082\u3042\u308a\u307e\u3059\u3002\u3053\u308c\u3089\u306f\u5f8c\u8ff0\u3059\u308b\u6709\u9650\u30b5\u30a4\u30ba\u30b9\u30b1\u30fc\u30ea\u30f3\u30b0\u6cd5\u306b\u3088\u3063\u3066\u5bfe\u51e6\u304c\u53ef\u80fd\u3067\u3059\u3002\n",
      "\u76f8\u8ee2\u79fb\u70b9\u3092\u7279\u5b9a\u3059\u308b\u4ed6\u306e\u52b9\u7387\u7684\u306a\u65b9\u6cd5\u306b\u30ad\u30e5\u30e0\u30e9\u30f3\u30c8\u3092\u7528\u3044\u308b\u65b9\u6cd5\u304c\u3042\u308a\u307e\u3059\u3002\u3053\u3053\u3067 Binder \u30ad\u30e5\u30e0\u30e9\u30f3\u30c8\u3068\u547c\u3070\u308c\u308b\u6bd4\u7387 $U_4=< m^4> /<m^2>^2$ \u3092\u53d6\u308a\u4e0a\u3052\u307e\u3059\u3002\u3053\u306e\u91cf\u306f\u3001\u4f4e\u6e29\u3067\u306f\u30b9\u30d4\u30f3\u304c\u3059\u3079\u3066\u63c3\u3046\u306e\u3067 $1$ \u3092\u3068\u308a\u3001\u9ad8\u6e29\u3067\u306f\u79e9\u5e8f\u5909\u6570\u306e\u30ac\u30a6\u30b7\u30a2\u30f3\u3086\u3089\u304e\u304b\u3089 $3$ \u3068\u306a\u308a\u307e\u3059\u3002Binder \u30ad\u30e5\u30e0\u30e9\u30f3\u30c8\u306e\u7279\u5fb4\u306f\u3001\u81e8\u754c\u70b9\u76f4\u4e0a\u306b\u304a\u3044\u3066\u3001\u30b7\u30b9\u30c6\u30e0\u30b5\u30a4\u30ba\u306b\u3088\u3089\u305a\u306b\u3001\u30e6\u30cb\u30d0\u30fc\u30b5\u30eb\u306a\u3042\u308b\u5024\u3092\u53d6\u308b\u3053\u3068\u3067\u3059\u3002\u3088\u3063\u3066\u3001\u30b5\u30a4\u30ba\u3054\u3068\u306b\u6e29\u5ea6\u306b\u5bfe\u3059\u308b Binder \u30ad\u30e5\u30e0\u30e9\u30f3\u30c8\u3092\u30d7\u30ed\u30c3\u30c8\u3059\u308b\u3068\u3001\u305d\u306e\u4ea4\u70b9\u3068\u3057\u3066\u8ee2\u79fb\u70b9\u3092\u6c7a\u5b9a\u3067\u304d\u307e\u3059\u3002"
     ]
    },
    {
     "cell_type": "code",
     "collapsed": false,
     "input": [
      "plt.figure()\n",
      "pyalps.plot.plot(binder_u4)\n",
      "plt.xlabel('Temperature $T$')\n",
      "plt.ylabel('Binder Cumulant U4 $g$')\n",
      "plt.title('2D Ising model')\n",
      "plt.show()"
     ],
     "language": "python",
     "metadata": {},
     "outputs": []
    },
    {
     "cell_type": "markdown",
     "metadata": {},
     "source": [
      "\u3053\u306e\u30d7\u30ed\u30c3\u30c8\u304b\u3089\u3001\u76f8\u8ee2\u79fb\u306f $ T_c \\in [2.2,2.3]$ \u306e\u72ed\u3044\u7bc4\u56f2\u3067\u3042\u308b\u3068\u7d50\u8ad6\u3065\u3051\u3089\u308c\u307e\u3059\u3002\u307e\u305f\u3001\u5225\u306e\u8ab2\u984c\u3068\u3057\u3066\u3001\u30ad\u30e5\u30e0\u30e9\u30f3\u30c8$U_2 = < m^2> / <|m|>^2$\u306e\u5834\u5408\u3082\u8003\u3048\u3066\u898b\u3066\u304f\u3060\u3055\u3044\u3002"
     ]
    },
    {
     "cell_type": "markdown",
     "metadata": {},
     "source": [
      "#  \u76f8\u8ee2\u79fb\u5834\u6240\u306e\u3088\u308a\u7cbe\u78ba\u306a\u7279\u5b9a\u3001\u81e8\u754c\u6307\u6570\u306e\u8a55\u4fa1\u3001collapse plots \n",
      "\n",
      "\u5bc6\u306a\u6e29\u5ea6\u30b0\u30ea\u30c3\u30c9\u70b9\u3092\u7528\u3044\u5927\u898f\u6a21\u7cfb\u3092\u8a08\u7b97\u3059\u308b\u3053\u3068\u3067\u3001\u3088\u308a\u6b63\u78ba\u306a\u76f8\u8ee2\u79fb\u306e\u6027\u8cea\u3092\u30b7\u30df\u30e5\u30ec\u30fc\u30b7\u30e7\u30f3\u3059\u308b\u3053\u3068\u304c\u3067\u304d\u307e\u3059\u3002\u30c1\u30e5\u30fc\u30c8\u30ea\u30a2\u30eb\u3067\u7528\u3044\u308b\u30d5\u30a1\u30a4\u30eb\u306f[mc07b](mc07b)\u3067\u3059\u3002\u7d50\u679c\u30d5\u30a1\u30a4\u30eb\u304b\u3089\u89b3\u6e2c\u91cf\u3092\u53d6\u308a\u51fa\u3057\u89e3\u6790\u3057\u307e\u3059\u3002"
     ]
    },
    {
     "cell_type": "code",
     "collapsed": false,
     "input": [
      "pyalps.evaluateSpinMC(pyalps.getResultFiles(prefix='mc07b'))\n",
      "\n",
      "#load the observables and collect them as function of temperature T\n",
      "data = pyalps.loadMeasurements(\n",
      "    pyalps.getResultFiles(prefix='mc07b'),\n",
      "    ['|Magnetization|', 'Connected Susceptibility', \n",
      "     'Specific Heat', 'Binder Cumulant', 'Binder Cumulant U2'])\n",
      "\n",
      "magnetization_abs = pyalps.collectXY(data,x='T',y='|Magnetization|',foreach=['L'])\n",
      "connected_susc = pyalps.collectXY(data,x='T',y='Connected Susceptibility',foreach=['L'])\n",
      "spec_heat = pyalps.collectXY(data,x='T',y='Specific Heat',foreach=['L'])\n",
      "binder_u4 = pyalps.collectXY(data,x='T',y='Binder Cumulant',foreach=['L'])\n",
      "binder_u2 = pyalps.collectXY(data,x='T',y='Binder Cumulant U2',foreach=['L'])"
     ],
     "language": "python",
     "metadata": {},
     "outputs": []
    },
    {
     "cell_type": "markdown",
     "metadata": {},
     "source": [
      "## Collapsing data\n",
      "\n",
      "Bider \u30ad\u30e5\u30e0\u30e9\u30f3\u30c8\u306e\u4ea4\u70b9\u3092\u8a08\u7b97\u3057\u307e\u3059\u3002"
     ]
    },
    {
     "cell_type": "code",
     "collapsed": false,
     "input": [
      "plt.figure()\n",
      "pyalps.plot.plot(binder_u4)\n",
      "plt.xlabel('Temperature $T$')\n",
      "plt.ylabel('Binder Cumulant U4 $g$')\n",
      "plt.title('2D Ising model')\n",
      "plt.show()"
     ],
     "language": "python",
     "metadata": {},
     "outputs": []
    },
    {
     "cell_type": "markdown",
     "metadata": {},
     "source": [
      "\u30d7\u30ed\u30c3\u30c8\u304b\u3089\u8ee2\u79fb\u70b9\u306f\u5f97\u3089\u308c\u307e\u3057\u305f\u304b\uff1f\u3069\u3053\u306b\u3042\u308a\u307e\u3057\u305f\u304b\uff1f\u3055\u3066\u3001\u3053\u306e\u30d7\u30ed\u30c3\u30c8\u304b\u3089\u306f\u8ee2\u79fb\u70b9\u4ee5\u5916\u306b\u3082\u69d8\u3005\u306a\u60c5\u5831\u3092\u5f97\u308b\u3053\u3068\u304c\u3067\u304d\u307e\u3059\u3002\u6709\u9650\u30b5\u30a4\u30ba\u30b9\u30b1\u30fc\u30ea\u30f3\u30b0\u7406\u8ad6\u304b\u3089\u306f\u3001Binder \u30ad\u30e5\u30e0\u30e9\u30f3\u30c8\u306f $U_4 = f (L^{1/\\nu} (T-T_c)/T_c)$\u306e\u3088\u3046\u306b\u30b9\u30b1\u30fc\u30eb\u3059\u308b\u3053\u3068\u304c\u793a\u3055\u308c\u307e\u3059\u3002\u3053\u3053\u3067\u3001$f$ \u306f\u30e6\u30cb\u30d0\u30fc\u30b5\u30eb\u306a\u30b9\u30b1\u30fc\u30ea\u30f3\u30b0\u95a2\u6570\u3067\u3059\u3002`mc07b` \u306b\u7528\u610f\u3055\u308c\u305f\u5404\u30b7\u30b9\u30c6\u30e0\u30b5\u30a4\u30ba\u306b\u5bfe\u3057\u3066\u3001Binder \u30ad\u30e5\u30e0\u30e9\u30f3\u30c8\u3092$(T-T_c)/T_c$ \u306e\u95a2\u6570\u3068\u3057\u3066\u30d7\u30ed\u30c3\u30c8\u3057\u3066\u304f\u3060\u3055\u3044\u3002$T_c$ \u306b\u306f\u8ee2\u79fb\u70b9\u306e\u63a8\u5b9a\u5024\u3092\u4f7f\u3044\u307e\u3059\u3002\u3053\u306e\u6642\u3001\u3059\u3079\u3066\u306e\u66f2\u7dda\u304c\u6a2a\u8ef8=0\u306e\u8fd1\u304f\u3067\u4ea4\u308f\u308b\u306f\u305a\u3067\u3059\u3002\u6b21\u306b\u3001\u3042\u308b\u5b9a\u6570 $a$ \u3092\u5c0e\u5165\u3057\u3066\u3001\u6a2a\u8ef8\u306b $L^a$ \u3092\u304b\u3051\u308b\u3053\u3068\u3067\u3001\u3059\u3079\u3066\u306e\u66f2\u7dda\u304c1\u672c\u306e\u66f2\u7dda\u306b\u4e57\u308b\u3088\u3046\u306b\u3057\u3066\u304f\u3060\u3055\u3044\u3002\n",
      "\n",
      "**Hint** : $a$ \u3092 $1$ \u306e\u8fd1\u304f\u304b\u3089\u63a2\u3057\u3066\u307f\u3066\u304f\u3060\u3055\u3044\n",
      "\n",
      "\u4ee5\u4e0b\u306e\u69d8\u306a Python \u306b\u3088\u308b\u89e3\u6790\u30b3\u30fc\u30c9\u3092\u4f7f\u3046\u3068\u3088\u3044\u3067\u3057\u3087\u3046\u3002"
     ]
    },
    {
     "cell_type": "code",
     "collapsed": false,
     "input": [
      "#perform a data collapse of the Binder cumulant: \n",
      "Tc=... #your estimate\n",
      "a=...  #your estimate\n",
      " \n",
      "for d in binder_u4:\n",
      "    d.x -= Tc\n",
      "    d.x = d.x/Tc\n",
      "    l = d.props['L']g\n",
      "    d.x = d.x * pow(float(l),a)\n",
      " \n",
      "plt.figure()\n",
      "pyalps.plot.plot(binder_u4)\n",
      "plt.xlabel('$L^a(T-T_c)/T_c$')\n",
      "plt.ylabel('Binder Cumulant U4 $g$')\n",
      "plt.title('2D Ising model')\n",
      "plt.show()"
     ],
     "language": "python",
     "metadata": {},
     "outputs": []
    },
    {
     "cell_type": "markdown",
     "metadata": {},
     "source": [
      "\u3053\u3053\u3067\u3084\u3063\u305f\u3001\u81e8\u754c\u9818\u57df\u3067\u66f2\u7dda\u3092\u91cd\u306d\u308b\u624b\u6cd5(collapse plots)\u306f\u3001\u81e8\u754c\u6307\u6570\u3092\u5f97\u308b\u305f\u3081\u306e\u6709\u540d\u306a\u30c6\u30af\u30cb\u30c3\u30af\u3068\u306a\u3063\u3066\u3044\u307e\u3059\u3002\u3053\u306e\u5834\u5408\u3001\u76f8\u95a2\u9577\u306e\u81e8\u754c\u6307\u6570\u3092$\\nu = 1/a$\u3068\u3057\u3066\u8aad\u307f\u53d6\u308b\u3053\u3068\u304c\u3067\u304d\u307e\u3059\u3002\u3053\u306e\u3088\u3046\u306bBinder \u30ad\u30e5\u30e0\u30e9\u30f3\u30c8\u3092\u4f7f\u3046\u3053\u3068\u3067\u3001$\\nu$\u3092\u4ed6\u306e\u81e8\u754c\u6307\u6570\u3068\u306f\u72ec\u7acb\u306b\u5f97\u308b\u3053\u3068\u304c\u3067\u304d\u307e\u3059\u3002\u4ed6\u306e\u7269\u7406\u91cf\u306e\u30b9\u30b1\u30fc\u30ea\u30f3\u30b0\u3092\u3059\u308b\u969b\u306b\u306f\u5927\u62b5\u3001x \u6210\u5206\u3060\u3051\u3067\u306a\u304fy \u6210\u5206\u306b\u95a2\u3057\u3066\u3082$L^b$\u3068\u3044\u3046\u30b9\u30b1\u30fc\u30ea\u30f3\u30b0\u3092\u884c\u3046\u5fc5\u8981\u304c\u751f\u307e\u308c\u307e\u3059\u3002"
     ]
    },
    {
     "cell_type": "markdown",
     "metadata": {},
     "source": [
      "## \u81e8\u754c\u6307\u6570\n",
      "\n",
      "\u4eca\u5ea6\u306f\u3001\u6bd4\u71b1\u3068\u5e2f\u78c1\u7387\u306b\u95a2\u3059\u308b\u89e3\u6790\u3092\u884c\u3044\u307e\u3059\u3002"
     ]
    },
    {
     "cell_type": "code",
     "collapsed": false,
     "input": [
      "#make a plot of the specific heat and connected susceptibility:\n",
      "plt.figure()\n",
      "pyalps.plot.plot(connected_susc)\n",
      "plt.xlabel('Temperature $T$')\n",
      "plt.ylabel('Connected Susceptibility $\\chi_c$')\n",
      "plt.title('2D Ising model')\n",
      "\n",
      "plt.figure()\n",
      "pyalps.plot.plot(spec_heat)\n",
      "plt.xlabel('Temperature $T$')\n",
      "plt.ylabel('Specific Heat $c_v$')\n",
      "plt.title('2D Ising model')\n",
      "plt.show()"
     ],
     "language": "python",
     "metadata": {},
     "outputs": []
    },
    {
     "cell_type": "markdown",
     "metadata": {},
     "source": [
      "\u5e2f\u78c1\u7387\u3068\u6bd4\u71b1\u306e\u30d4\u30fc\u30af\u306f\u3001Binder \u30ad\u30e5\u30e0\u30e9\u30f3\u30c8\u304b\u3089\u5f97\u3089\u308c\u308b\u8ee2\u79fb\u70b9\u304b\u3089\u3059\u3053\u3057\u305a\u308c\u305f\u4f4d\u7f6e\u306b\u73fe\u308c\u307e\u3059\u3002\u3053\u306e\u5c0f\u3055\u306a\u5dee\u306f\u8a08\u7b97\u3057\u305f\u7cfb\u304c\u5c0f\u3055\u3044\u3053\u3068\u304b\u3089\u73fe\u308c\u307e\u3059\u3002\u3064\u307e\u308a\u3001\u30d4\u30fc\u30af\u306e\u4f4d\u7f6e\u306b\u3088\u3063\u3066\u5b9f\u52b9\u7684\u306a\u8ee2\u79fb\u6e29\u5ea6$T_c(L)$\u3092\u5b9a\u7fa9\u3059\u308b\u3068\u3001\u305d\u306e\u4f4d\u7f6e\u306f\u771f\u306e\u8ee2\u79fb\u70b9$T_c$\u304b\u3089\u6709\u9650\u30b5\u30a4\u30ba\u52b9\u679c\u306b\u3088\u3063\u3066\u3001$T_c(L) = T_c + A L^{-1/\\nu}$ \u3068\u3044\u3046\u5f62\u3067\u305a\u308c\u307e\u3059\u3002$A$ \u306f$T_c(L)$ \u3092\u6c7a\u3081\u308b\u624b\u6cd5\u306b\u4f9d\u5b58\u3059\u308b\u5b9a\u6570\u3067\u3059\u3002\n",
      "\u81e8\u754c\u6307\u6570\u306f\u3001\u5e2f\u78c1\u7387\u3084\u6bd4\u71b1\u306e\u3001$T_c(L)$ \u3082\u3057\u304f\u306fBinder \u89e3\u6790\u304b\u3089\u5f97\u305f$T_c$ \u3067\u306e\u5024\u304b\u3089\u8aad\u307f\u53d6\u308b\u3053\u3068\u304c\u3067\u304d\u307e\u3059\u3002\u3053\u308c\u3089\u306f$\\chi (T_c) \\sim L^{\\gamma/\\nu}$ \u3084 $C_v (T_c) \\sim L^{\\alpha / \\nu}$\u3068\u3044\u3046\u5f62\u3067\u30b9\u30b1\u30fc\u30ea\u30f3\u30b0\u3059\u308b\u3053\u3068\u304c\u671f\u5f85\u3055\u308c\u307e\u3059\u3002\u4f8b\u3068\u3057\u3066\u3001\u5e2f\u78c1\u7387\u306e\u5404\u30b5\u30a4\u30ba\u306b\u5bfe\u3059\u308b\u6700\u5927\u5024\u3092\u5f97\u3066\u30d7\u30ed\u30c3\u30c8\u3057\u3001\u3079\u304d\u4e57\u5247\u306b\u3057\u305f\u304c\u3063\u3066\u3044\u308b\u3053\u3068\u3092\u78ba\u304b\u3081\u3066\u307f\u307e\u3057\u3087\u3046\u3002\n",
      "\u5404\u81e8\u754c\u6307\u6570\u306e\u9593\u306b\u6210\u308a\u7acb\u3064\u95a2\u4fc2\u5f0f\u3001$\\gamma / \\nu = 2 - \\eta $ \u3092\u7528\u3044\u3066$\\eta$\u306e\u5024\u3092\u8a08\u7b97\u3057\u3066\u304f\u3060\u3055\u3044\u3002"
     ]
    },
    {
     "cell_type": "code",
     "collapsed": false,
     "input": [
      "#make a fit of the connected susceptibility as a function of L:\n",
      "cs_mean=[]\n",
      "for q in connected_susc:\n",
      "    cs_mean.append(np.array([d.mean for d in q.y]))\n",
      " \n",
      "peak_cs = pyalps.DataSet()\n",
      "peak_cs.props = pyalps.dict_intersect([q.props for q in connected_susc])\n",
      "peak_cs.y = np.array([np.max(q) for q in cs_mean])\n",
      "peak_cs.x = np.array([q.props['L'] for q in connected_susc])\n",
      "\n",
      "sel = np.argsort(peak_cs.x)\n",
      "peak_cs.y = peak_cs.y[sel]\n",
      "peak_cs.x = peak_cs.x[sel]\n",
      "\n",
      "pars = [fw.Parameter(1), fw.Parameter(1)]\n",
      "f = lambda self, x, pars: pars[0]()*np.power(x,pars[1]())\n",
      "fw.fit(None, f, pars, peak_cs.y, peak_cs.x)\n",
      "prefactor = pars[0].get()\n",
      "gamma_nu = pars[1].get()\n",
      "\n",
      "plt.figure()\n",
      "plt.plot(peak_cs.x, f(None, peak_cs.x, pars))\n",
      "pyalps.plot.plot(peak_cs)\n",
      "plt.xlabel('System Size $L$')\n",
      "plt.ylabel('Connected Susceptibility $\\chi_c(T_c)$')\n",
      "plt.title('2D Ising model, $\\gamma$ is %.4s' % gamma_nu)\n",
      "plt.show()"
     ],
     "language": "python",
     "metadata": {},
     "outputs": []
    },
    {
     "cell_type": "markdown",
     "metadata": {},
     "source": [
      "\u6bd4\u71b1\u306b\u95a2\u3057\u3066\u3082\u540c\u69d8\u306e\u624b\u9806\u3067\u89e3\u6790\u3092\u3057\u307e\u3059\u3002\u81e8\u754c\u6307\u6570$\\alpha$ \u306e\u5024\u306f\u3069\u3046\u306a\u308a\u307e\u3057\u305f\u304b\uff1f\n",
      "$\\alpha$ \u306f\u4e00\u822c\u306b\u6b63\u306b\u3082\u8ca0\u306b\u3082\u306a\u308a\u3048\u308b\u3053\u3068\u306b\u6ce8\u610f\u3057\u3066\u304f\u3060\u3055\u3044\u3002\u3053\u306e\u3053\u3068\u306f\u3001\u6bd4\u71b1\u306f\u5e2f\u78c1\u7387\u3068\u9055\u3044\u3001\u9023\u7d9a\u76f8\u8ee2\u79fb\u306b\u304a\u3044\u3066\u3082\u767a\u6563\u3059\u308b\u3068\u306f\u9650\u3089\u306a\u3044\u3068\u3044\u3046\u3053\u3068\u3092\u610f\u5473\u3057\u307e\u3059\u3002"
     ]
    },
    {
     "cell_type": "code",
     "collapsed": false,
     "input": [
      "#make a fit of the specific heat as a function of L:\n",
      "sh_mean=[]\n",
      "for q in spec_heat:\n",
      "    sh_mean.append(np.array([d.mean for d in q.y]))\n",
      "  \n",
      "peak_sh = pyalps.DataSet()\n",
      "peak_sh.props = pyalps.dict_intersect([q.props for q in spec_heat])\n",
      "peak_sh.y = np.array([np.max(q) for q in sh_mean])\n",
      "peak_sh.x = np.array([q.props['L'] for q in spec_heat])\n",
      "\n",
      "sel = np.argsort(peak_sh.x)\n",
      "peak_sh.y = peak_sh.y[sel]\n",
      "peak_sh.x = peak_sh.x[sel] \n",
      "\n",
      "pars = [fw.Parameter(1), fw.Parameter(1)]\n",
      "f = lambda self, x, pars: pars[0]()*np.power(x,pars[1]())\n",
      "fw.fit(None, f, pars, peak_sh.y, peak_sh.x)\n",
      "prefactor = pars[0].get()\n",
      "alpha_nu = pars[1].get()\n",
      "\n",
      "plt.figure()\n",
      "plt.plot(peak_sh.x, f(None, peak_sh.x, pars))\n",
      "pyalps.plot.plot(peak_cs)\n",
      "plt.xlabel('System Size $L$')\n",
      "plt.ylabel('Specific Heat $c_v(T_c)$')\n",
      "plt.title(r'2D Ising model, $\\alpha$ is %.4s' % alpha_nu)\n",
      "plt.show()"
     ],
     "language": "python",
     "metadata": {},
     "outputs": []
    },
    {
     "cell_type": "markdown",
     "metadata": {},
     "source": [
      "\u7df4\u7fd2\u3068\u3057\u3066\u3001$L^{-\\beta/\\nu}$\u3068\u3057\u3066\u306e\u30b9\u30b1\u30fc\u30eb\u3059\u308b\u7d76\u5bfe\u78c1\u5316\u306b\u5bfe\u3057\u3066\u3082\u540c\u69d8\u306e\u89e3\u6790\u3092\u304a\u3053\u306a\u3046\u3053\u3068\u304c\u3067\u304d\u307e\u3059\u3002\u307e\u305f\u3001\u5e2f\u78c1\u7387\u3084\u78c1\u5316\u306b\u3064\u3044\u3066\u3082\u30e6\u30cb\u30d0\u30fc\u30b5\u30eb\u95a2\u6570\u306b\u3088\u308b\u30c7\u30fc\u30bf\u89e3\u6790\u3092\u304a\u3053\u306a\u3063\u3066\u307f\u3066\u304f\u3060\u3055\u3044\u3002\n",
      "\n",
      "**Hint**: \u5bfe\u5fdc\u3059\u308b\u30b9\u30b1\u30fc\u30ea\u30f3\u30b0\u95a2\u6570\u306f\u3001$\\chi = L^{2-\\eta} g ( L^{1/\\nu} (T-T_c)/T_c))$ \u3001 $|m| = L^{-\\beta/\\nu} h ( L^{1/\\nu} (T-T_c)/T_c))$\u3000\u3067\u3059\u3002"
     ]
    },
    {
     "cell_type": "code",
     "collapsed": false,
     "input": [
      "#make a data collapse of the connected susceptibility as a function of (T-Tc)/Tc:\n",
      "for d in connected_susc:\n",
      "    d.x -= Tc\n",
      "    d.x = d.x/Tc\n",
      "    l = d.props['L']\n",
      "    d.x = d.x * pow(float(l),a)\n",
      " \n",
      "two_minus_eta=... #your estimate\n",
      "for d in connected_susc:\n",
      "    l = d.props['L']\n",
      "    d.y = d.y/pow(float(l),two_eta)\n",
      "\n",
      "plt.figure()\n",
      "pyalps.plot.plot(connected_susc)\n",
      "plt.xlabel(' $L^a(T-T_c)/T_c$')\n",
      "plt.ylabel(r'$L^{\\gamma/\\nu}\\chi_c$')\n",
      "plt.title('2D Ising model')\n",
      "plt.show()\n",
      "\n",
      "#make a data collapse of the |magnetization| as a function of (T-Tc)/Tc\n",
      "for d in magnetization_abs:\n",
      "    d.x -= Tc\n",
      "    d.x = d.x/Tc\n",
      "    l = d.props['L']\n",
      "    d.x = d.x * pow(float(l),a)\n",
      "\n",
      "beta_over_nu=... #your estimate    \n",
      "for d in magnetization_abs:\n",
      "    l = d.props['L']\n",
      "    d.y = d.y / pow(float(l),-beta_over_nu)\n",
      " \n",
      "plt.figure()\n",
      "pyalps.plot.plot(magnetization_abs)\n",
      "plt.xlabel(' $L^a(T-T_c)/T_c$')\n",
      "plt.ylabel(r'$L^{-\\beta/\\nu} |m|$')\n",
      "plt.title('2D Ising model')\n",
      "plt.show()"
     ],
     "language": "python",
     "metadata": {},
     "outputs": []
    },
    {
     "cell_type": "markdown",
     "metadata": {},
     "source": [
      "#  \u81e8\u754c\u6307\u6570\u306e\u6b63\u78ba\u306a\u63a8\u5b9a\u5024\n",
      "\n",
      "\u4e8c\u6b21\u5143\u30a4\u30b8\u30f3\u30b0\u30e2\u30c7\u30eb\u306e\u81e8\u754c\u6307\u6570\u306e\u53b3\u5bc6\u89e3\u306f $\\nu=1, \\eta=1/4, \\beta=1/8$ and $\\alpha=0$ \u3067\u3059\u3002\n",
      "\u6700\u5f8c\u306e $\\alpha=0$ \u3067\u3059\u304c\u3001\u3053\u308c\u306f\u6bd4\u71b1\u304c\u767a\u6563\u3059\u308b\u3051\u308c\u3069\u3082\u305d\u308c\u306f\u30d9\u30ad\u7684\u3067\u306f\u306a\u304f\u5bfe\u6570\u7684\u3067\u3042\u308b\u3068\u3044\u3046\u4e8b\u3092\u610f\u5473\u3057\u307e\u3059\u3002\u3053\u306e\u53b3\u5bc6\u89e3\u3068\u3001\u4eca\u307e\u3067\u306b\u8a08\u7b97\u3067\u5f97\u3089\u308c\u305f\u5024\u3068\u3092\u6bd4\u3079\u3066\u307f\u307e\u3057\u3087\u3046\u3002\n",
      "\n",
      "\n",
      "\u4eca\u56de\u306f\u8a08\u7b97\u6642\u9593\u304c\u9577\u3059\u304e\u308b\u305f\u3081\u306b\u3084\u3089\u306a\u304b\u3063\u305f\u3088\u3046\u306a\u3001\u3088\u308a\u5927\u898f\u6a21\u306a\u7cfb\u3067\u8a08\u7b97\u3092\u884c\u3046\u3053\u3068\u3067\u3001\u8ee2\u79fb\u70b9\u3084\u81e8\u754c\u6307\u6570\u306e\u898b\u7a4d\u308a\u306e\u7cbe\u5ea6\u306f\u5927\u5e45\u306b\u4e0a\u304c\u308a\u307e\u3059\u3002\u3055\u3089\u306b\u3001\u81e8\u754c\u6307\u6570\u306e\u898b\u7a4d\u308a\u7cbe\u5ea6\u306f\u3001\u8ee2\u79fb\u70b9\u306e\u898b\u7a4d\u308a\u306e\u7cbe\u5ea6\u81ea\u4f53\u306b\u3082\u4f9d\u5b58\u3057\u307e\u3059\u3002\u81e8\u754c\u6307\u6570\u3092\u3088\u308a\u7cbe\u5ea6\u3088\u304f\u5f97\u308b\u305f\u3081\u306b\u306f\u3001\u81e8\u754c\u70b9\u306e\u53b3\u5bc6 \u89e3$T_c = 2 / \\ln(1+\\sqrt(2)) = 2.269\\ldots$ \u3092\u7528\u3044\u3066\u3001\u3088\u308a\u5927\u304d\u306a\u7cfb\u3067\u8a08\u7b97\u3059\u308b\u5fc5\u8981\u304c\u3042\u308a\u307e\u3059\u3002\u3053\u308c\u306f\u7df4\u7fd2\u554f\u984c\u3068\u3057\u307e\u3059\u3002\n",
      "\n",
      "\n",
      "\u524d\u306b\u884c\u3063\u305f\u3001\u30e6\u30cb\u30d0\u30fc\u30b5\u30eb\u30b9\u30b1\u30fc\u30ea\u30f3\u30b0\u95a2\u6570\u306b\u3088\u308b $\\nu$ \u306e\u8a08\u7b97\u306f\u3001\u3042\u307e\u308a\u4f7f\u3044\u3084\u3059\u304f\u3042\u308a\u307e\u305b\u3093\u3002\n",
      "\u5225\u306e\u65b9\u6cd5\u3068\u3057\u3066\u3001\u5148\u306b\u3084\u3063\u305f\u5e2f\u78c1\u7387\u3084\u6bd4\u71b1\u306e\u3088\u3046\u306b\u3001Binder \u30ad\u30e5\u30e0\u30e9\u30f3\u30c8\u306e\u8ee2\u79fb\u6e29\u5ea6\u4e0a\u3067\u306e\u30b9\u30b1\u30fc\u30ea\u30f3\u30b0\u95a2\u6570\u3092\u7528\u3044\u308b\u3053\u3068\u3067\u3001$\\nu$ \u3092\u76f4\u63a5\u6c42\u3081\u308b\u3053\u3068\u304c\u3067\u304d\u307e\u3059\u3002\n",
      "Binder \u30ad\u30e5\u30e0\u30e9\u30f3\u30c8\u306e\u6e29\u5ea6\u306b\u95a2\u3059\u308b\u5c0e\u95a2\u6570\u306f\u3001\u5b9f\u969b\u306b\u5fae\u5206\u3059\u308b\u3053\u3068\u3067\u5bb9\u6613\u306b\u308f\u304b\u308b\u3088\u3046\u306b\u3001\u8ee2\u79fb\u70b9\u76f4\u4e0a\u3067 $L^{1/\\nu}$ at $T_c$\u3068\u3044\u3046\u5f62\u3067\u30b9\u30b1\u30fc\u30eb\u3057\u307e\u3059\u3002\u3053\u306e\u91cf\u306f\u3001\u6570\u5024\u5fae\u5206\u3067\u6c42\u3081\u308b\u3053\u3068\u3082\u3067\u304d\u307e\u3059\u3057\u3001\u3088\u308a\u3088\u3044\u65b9\u6cd5\u3068\u3057\u3066\u3001\u30e2\u30f3\u30c6\u30ab\u30eb\u30ed\u6cd5\u306b\u3088\u3063\u3066\u76f4\u63a5\u6c42\u3081\u308b\u3053\u3068\u3082\u3067\u304d\u307e\u3059\u3002\u306a\u304a\u3001\u3053\u306e\u8a08\u7b97\u306b\u306f\u5341\u5206\u306a\u30b5\u30f3\u30d7\u30eb\u6570\u304c\u5fc5\u8981\u306b\u306a\u308a\u307e\u3059\u3002\n",
      "\u3053\u3046\u3057\u3066\u8ee2\u79fb\u70b9\u3067\u306e\u5fae\u5206\u91cf\u304c\u5f97\u3089\u308c\u305f\u306a\u3089\u3001\u305d\u306e\u30b7\u30b9\u30c6\u30e0\u30b5\u30a4\u30ba\u4f9d\u5b58\u6027\u3092\u3079\u304d\u4e57\u5247\u3067\u30d5\u30a3\u30c3\u30c6\u30a3\u30f3\u30b0\u3059\u308b\u3053\u3068\u3067\u3001\u81e8\u754c\u6307\u6570 $\\nu$ \u304c\u6c42\u307e\u308a\u307e\u3059\u3002"
     ]
    }
   ],
   "metadata": {}
  }
 ]
}