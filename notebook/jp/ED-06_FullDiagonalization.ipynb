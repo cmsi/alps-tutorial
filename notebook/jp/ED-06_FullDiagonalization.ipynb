{
 "metadata": {
  "name": "",
  "signature": "sha256:7a3722f7e61fd3a906aba548fe349ce84a57cec6361e7d2cc6a82cd3db11c38a"
 },
 "nbformat": 3,
 "nbformat_minor": 0,
 "worksheets": [
  {
   "cells": [
    {
     "cell_type": "markdown",
     "metadata": {},
     "source": [
      "# ALPS 2 Tutorials: ED-06 Full Diagonalization\n",
      "\n",
      "**\u91cf\u5b50\u30cf\u30df\u30eb\u30c8\u30cb\u30a2\u30f3\u306e\u5b8c\u5168\u5bfe\u89d2\u5316**\n",
      "\n",
      "\u3053\u306e\u30c1\u30e5\u30fc\u30c8\u30ea\u30a2\u30eb\u3067\u306f\u3001`fulldiag` \u3092\u4f7f\u3063\u3066\u91cf\u5b50\u7cfb\u306e\u5168\u5bfe\u89d2\u5316\u3092\u884c\u3044\u3001\u5f97\u3089\u308c\u305f\u30b9\u30da\u30af\u30c8\u30eb\u304b\u3089\u71b1\u529b\u5b66\u7684\u91cf\u3092\u8a08\u7b97\u3057\u307e\u3059\u3002"
     ]
    },
    {
     "cell_type": "markdown",
     "metadata": {},
     "source": [
      "#  1\u6b21\u5143\u30b9\u30d4\u30f3\u30e2\u30c7\u30eb\u306e\u71b1\u529b\u5b66"
     ]
    },
    {
     "cell_type": "markdown",
     "metadata": {},
     "source": [
      "##  spin-1 \u30cf\u30a4\u30bc\u30f3\u30d9\u30eb\u30b0\u9396 \n",
      "\n",
      "\u6700\u521d\u306b\u3001$S=1$ \u53cd\u5f37\u78c1\u6027\u30cf\u30a4\u30bc\u30f3\u30d9\u30eb\u30b0\u9396\u306e\u8a08\u7b97\u3092\u304a\u3053\u306a\u3044\u307e\u3059\u3002"
     ]
    },
    {
     "cell_type": "markdown",
     "metadata": {},
     "source": [
      "### \u30b3\u30de\u30f3\u30c9\u30e9\u30a4\u30f3\u3067\u306e\u5b9f\u884c\n",
      "\n",
      "[ed06a](ed06a) \u306f\u3001$8$ \u30b5\u30a4\u30c8\u3067\u306e $S=1$ \u53cd\u5f37\u78c1\u6027\u30cf\u30a4\u30bc\u30f3\u30d9\u30eb\u30b0\u9396\u306e\u5b8c\u5168\u5bfe\u89d2\u5316\u306e\u5165\u529b\u8a2d\u5b9a\u30d5\u30a1\u30a4\u30eb\u3067\u3059\u3002"
     ]
    },
    {
     "cell_type": "raw",
     "metadata": {},
     "source": [
      "LATTICE=\"chain lattice\"\n",
      "MODEL=\"spin\"\n",
      "local_S = 1\n",
      "J       = 1\n",
      "CONSERVED_QUANTUMNUMBERS=\"Sz\"\n",
      "{L = 8}"
     ]
    },
    {
     "cell_type": "markdown",
     "metadata": {},
     "source": [
      "`CONSERVED_QUANTUMNUMBERS` \u30d1\u30e9\u30e1\u30fc\u30bf\u3067\u30cf\u30df\u30eb\u30c8\u30cb\u30a2\u30f3\u3068\u4ea4\u63db\u3059\u308b\u7269\u7406\u91cf\u3092\u6307\u5b9a\u3059\u308b\u3053\u3068\u3067\u3001\n",
      "\u30d2\u30eb\u30d9\u30eb\u30c8\u7a7a\u9593\u3092\u4e0d\u5909\u90e8\u5206\u7a7a\u9593\u306b\u5206\u5272\u3057\u3066\u3001\u305d\u308c\u305e\u308c\u72ec\u7acb\u3057\u3066\u5bfe\u89d2\u5316\u3067\u304d\u307e\u3059\u3002\n",
      "\n",
      "\u4ee5\u4e0b\u306e\u6a19\u6e96\u7684\u306a\u8a08\u7b97\u624b\u9806\u306b\u5f93\u3044\u3001`fulldiag` \u3092\u7528\u3044\u3066\u91cf\u5b50\u30cf\u30df\u30eb\u30c8\u30cb\u30a2\u30f3\u306e\u8a08\u7b97\u3092\u304a\u3053\u306a\u3044\u307e\u3059\u3002"
     ]
    },
    {
     "cell_type": "code",
     "collapsed": false,
     "input": [
      "%%bash\n",
      "parameter2xml ed06a\n",
      "fulldiag --write-xml ed06a.in.xml"
     ],
     "language": "python",
     "metadata": {},
     "outputs": []
    },
    {
     "cell_type": "markdown",
     "metadata": {},
     "source": [
      "\u51fa\u529b\u30d5\u30a1\u30a4\u30eb\u306b\u306f\u5168\u56fa\u6709\u5024\u30fb\u56fa\u6709\u30d9\u30af\u30c8\u30eb\u304c\u8a18\u8ff0\u3055\u308c\u3066\u3044\u307e\u3059\u3002\u3053\u3053\u304b\u3089\u3001`fulldiag_evaluate` \u3092\u7528\u3044\u3066\u71b1\u529b\u5b66\u7684\u91cf\u30fb\u78c1\u6c17\u7684\u91cf\u306e\u30b0\u30e9\u30d5\u3092\u4f5c\u6210\u3059\u308b XML \u30d5\u30a1\u30a4\u30eb\u3092\u4f5c\u308b\u4e8b\u304c\u3067\u304d\u307e\u3059\u3002"
     ]
    },
    {
     "cell_type": "code",
     "collapsed": false,
     "input": [
      "%%bash\n",
      "fulldiag_evaluate --T_MIN 0.1 --T_MAX 10 --DELTA_T  0.1  ed06a.task1.out.xml"
     ],
     "language": "python",
     "metadata": {},
     "outputs": []
    },
    {
     "cell_type": "markdown",
     "metadata": {},
     "source": [
      "\u6b21\u306e XML \u5f62\u5f0f\u306e\u30d5\u30a1\u30a4\u30eb\u304c\u751f\u6210\u3055\u308c\u307e\u3059\u3002\n",
      "\n",
      "* `parm6a.task1.plot.energy.xml`\n",
      "* `parm6a.task1.plot.free_energy.xml`\n",
      "* `parm6a.task1.plot.entropy.xml`\n",
      "* `parm6a.task1.plot.specific_heat.xml`\n",
      "* `parm6a.task1.plot.uniform_susceptibility.xml`\n",
      "* `parm6a.task1.plot.magnetization.xml`"
     ]
    },
    {
     "cell_type": "markdown",
     "metadata": {},
     "source": [
      "`fulldiag_evaluate` \u306b\u3088\u3063\u3066\u751f\u6210\u3055\u308c\u305f XML \u30d5\u30a1\u30a4\u30eb\u304b\u3089\u8a72\u5f53\u306e\u8a08\u7b97\u7d50\u679c\u3092\u62bd\u51fa\u3059\u308b\u305f\u3081\u306b\u3001`plot2text` \u30c4\u30fc\u30eb\u3092\u4f7f\u7528\u3057\u307e\u3059\u3002\u5f97\u3089\u308c\u308b\u30c7\u30fc\u30bf\u306f\u30d7\u30ec\u30fc\u30f3\u30c6\u30ad\u30b9\u30c8\u5f62\u5f0f\u306a\u306e\u3067\u3001\u304a\u597d\u304d\u306a\u30c4\u30fc\u30eb\u3067\u6271\u3046\u4e8b\u304c\u3067\u304d\u307e\u3059\u3002\u4f8b\u3048\u3070\u3001\u30a8\u30cd\u30eb\u30ae\u30fc\u5bc6\u5ea6\u3068\u6e29\u5ea6\u306e2\u6b21\u5143\u30d7\u30ed\u30c3\u30c8\u306f\u3001\u6b21\u306e\u7528\u306b\u8a18\u8ff0\u3057\u307e\u3059\u3002"
     ]
    },
    {
     "cell_type": "code",
     "collapsed": false,
     "input": [
      "%%bash\n",
      "plot2text ed06a.task1.plot.energy.xml"
     ],
     "language": "python",
     "metadata": {},
     "outputs": []
    },
    {
     "cell_type": "markdown",
     "metadata": {},
     "source": [
      "\u4ed6\u306e\u7269\u7406\u91cf\u3082\u540c\u69d8\u306b\u5909\u63db\u3067\u304d\u307e\u3059\u3002\n",
      "\n",
      "\u30d7\u30ed\u30c3\u30c8\u30c4\u30fc\u30eb\u306b `Grace` \u3092\u4f7f\u7528\u3059\u308b\u5834\u5408\u306f\u3001`plot2xmgr` \u30c4\u30fc\u30eb\u3092\u4f7f\u7528\u3057\u3066 `Grace` \u7528\u306e\u30d5\u30a1\u30a4\u30eb\u3092\u76f4\u63a5\u751f\u6210\u3067\u304d\u307e\u3059\u3002\u30a8\u30cd\u30eb\u30ae\u30fc\u3068\u6e29\u5ea6\u306e\u30d7\u30ed\u30c3\u30c8\u3067\u306f\u3001\u6b21\u306e\u3088\u3046\u306b\u5165\u529b\u3057\u3066\u304f\u3060\u3055\u3044\u3002"
     ]
    },
    {
     "cell_type": "code",
     "collapsed": false,
     "input": [
      "%%bash\n",
      "plot2xmgr ed06a.task1.plot.energy.xml > energy.agr"
     ],
     "language": "python",
     "metadata": {},
     "outputs": []
    },
    {
     "cell_type": "markdown",
     "metadata": {},
     "source": [
      "\u540c\u69d8\u306b\u3001`gnuplot` \u3067\u306f `plot2gp`\u3001\u30c6\u30ad\u30b9\u30c8\u5f62\u5f0f\u3067\u306f `plot2text` \u3092\u4f7f\u7528\u3057\u3066\u304f\u3060\u3055\u3044\u3002\u63a8\u5968\u306f Python \u3092\u4f7f\u7528\u3059\u308b\u65b9\u6cd5\u3067\u3059\u3002"
     ]
    },
    {
     "cell_type": "markdown",
     "metadata": {},
     "source": [
      "### Python \u3092\u7528\u3044\u305f\u5b9f\u884c\n",
      "\n",
      "Python \u3067\u8a08\u7b97\u3092\u3059\u308b\u5834\u5408\u3001Python \u30b9\u30af\u30ea\u30d7\u30c8[tutorial_ed06a.py](tutorial_ed06a.py)\u3092\u4f7f\u3044\u307e\u3059\u3002\n",
      "\u3053\u308c\u307e\u3067\u901a\u308a\u3001\u5fc5\u8981\u306a\u30e2\u30b8\u30e5\u30fc\u30eb\u3092\u30a4\u30f3\u30dd\u30fc\u30c8\u3057\u3001\n",
      "\u5165\u529b\u30d1\u30e9\u30e1\u30fc\u30bf\u3092\u8a2d\u5b9a\u3057\u3001\u8a08\u7b97\u3092\u3057\u307e\u3059\u3002"
     ]
    },
    {
     "cell_type": "code",
     "collapsed": false,
     "input": [
      "import pyalps\n",
      "import matplotlib.pyplot as plt\n",
      "import pyalps.plot\n",
      "import numpy as np\n",
      "\n",
      "parms = [{ \n",
      "         'LATTICE'                   : \"chain lattice\", \n",
      "         'MODEL'                     : \"spin\",\n",
      "         'CONSERVED_QUANTUMNUMBERS'  : 'Sz',\n",
      "         'local_S'                   : 1,\n",
      "         'J'                         : 1,\n",
      "         'L'                         : 8\n",
      "       }]\n",
      "\n",
      "input_file = pyalps.writeInputFiles('ed06a',parms)\n",
      "res = pyalps.runApplication('fulldiag',input_file)"
     ],
     "language": "python",
     "metadata": {},
     "outputs": []
    },
    {
     "cell_type": "markdown",
     "metadata": {},
     "source": [
      "\u6b21\u306b\u3001\u5168\u51fa\u529b\u30d5\u30a1\u30a4\u30eb\u306b\u5bfe\u3057\u3066\u89e3\u6790\u30d7\u30ed\u30b0\u30e9\u30e0\u3092\u5b9f\u884c\u3057\u307e\u3059\u3002"
     ]
    },
    {
     "cell_type": "code",
     "collapsed": false,
     "input": [
      "data = pyalps.evaluateFulldiagVersusT(pyalps.getResultFiles(prefix='ed06a'), \n",
      "                                      DELTA_T=0.1, T_MIN=0.1, T_MAX=10.0)"
     ],
     "language": "python",
     "metadata": {},
     "outputs": []
    },
    {
     "cell_type": "markdown",
     "metadata": {},
     "source": [
      "\u6700\u5f8c\u306b\u3001\u3059\u3079\u3066\u306e\u7269\u7406\u91cf\u3092\u56f3\u793a\u3057\u307e\u3059\u3002"
     ]
    },
    {
     "cell_type": "code",
     "collapsed": false,
     "input": [
      "for s in pyalps.flatten(data):\n",
      "    plt.figure()\n",
      "    plt.title(\"Antiferromagnetic Heisenberg chain\")\n",
      "    pyalps.plot.plot(s)\n",
      "plt.show()"
     ],
     "language": "python",
     "metadata": {},
     "outputs": []
    },
    {
     "cell_type": "markdown",
     "metadata": {},
     "source": [
      "###  \u6f14\u7fd2 \n",
      "\n",
      "* $L\uff1d9$\uff08\u8a08\u7b97\u306b\u306f\u6570\u5206\u304b\u304b\u308a\u307e\u3059\u306e\u3067 $L\uff1d7$ \u3067\u3082\u69cb\u3044\u307e\u305b\u3093\uff09\u3068\u3057\u3066\u78c1\u5316\u7387\u306e\u8a08\u7b97\u3092\u884c\u3044\u3001$L\uff1d8$ \u306e\u3068\u304d\u306e\u7d50\u679c\u3068\u6bd4\u8f03\u3057\u3066\u304f\u3060\u3055\u3044\u3002\u30b3\u30de\u30f3\u30c9\u30e9\u30a4\u30f3\u30c4\u30fc\u30eb\u3067\u89e3\u6790\u3059\u308b\u5834\u5408\u3001`parameter2xml` \u3092\u884c\u3046\u306e\u3092\u5fd8\u308c\u306a\u3044\u3088\u3046\u306b\u3057\u3066\u304f\u3060\u3055\u3044\u3002\n",
      "* \u6709\u9650\u30b5\u30a4\u30ba\u306e\u8a08\u7b97\u3092\u7121\u9650\u30b5\u30a4\u30ba\u306e\u8a08\u7b97\u3068\u76f4\u63a5\u307f\u306a\u305b\u308b\u3088\u3046\u306a\u6e29\u5ea6\u7bc4\u56f2\u3092\u898b\u7a4d\u3082\u3063\u3066\u307f\u3066\u304f\u3060\u3055\u3044\u3002"
     ]
    },
    {
     "cell_type": "markdown",
     "metadata": {},
     "source": [
      "##  Spin-$1/2$ \u30cf\u30a4\u30bc\u30f3\u30d9\u30eb\u30b0\u68af\u5b50 \n",
      "\n",
      "\u6b21\u306b\u3001\u9577\u3055 $6$ \u306e $S=1/2$ \u30cf\u30a4\u30bc\u30f3\u30d9\u30eb\u30b0\u68af\u5b50\u30e2\u30c7\u30eb\u306e\u8a08\u7b97\u3092\u304a\u3053\u306a\u3044\u307e\u3059\u3002`LATTICE` \u30d1\u30e9\u30e1\u30fc\u30bf\u3092 `ladder` `\u306b\u3001J0,J1` \u3092 $1$ \u306b\u5909\u66f4\u3057\u307e\u3059\u3002\u30d1\u30e9\u30e1\u30bf\u30fc\u30d5\u30a1\u30a4\u30eb\u306f [ed06b](ed06b) \u3067\u3059\u3002Python \u30b9\u30af\u30ea\u30d7\u30c8\u306f [tutorial_ed06b.py](tutorial_ed06b.py) \u3092\u305d\u308c\u305e\u308c\u53c2\u7167\u3057\u3066\u304f\u3060\u3055\u3044\u3002"
     ]
    },
    {
     "cell_type": "markdown",
     "metadata": {},
     "source": [
      "####  \u6f14\u7fd2 \n",
      "\n",
      "* \u6bd4\u71b1\u306e\u30d4\u30fc\u30af\u306e\u4f4d\u7f6e\u3092\u8b70\u8ad6\u3057\u3066\u304f\u3060\u3055\u3044\uff08\u7121\u9650\u68af\u5b50\u306f\u304a\u304a\u3088\u305d $J/2$ \u306e\u30ae\u30e3\u30c3\u30d7\u304c\u3042\u308a\u307e\u3059\u3002\uff09\n",
      "* $L=7$ (\u6642\u9593\u304c\u304b\u304b\u308b\u3088\u3046\u306a\u3089\u3001$L=5$ \u3067\u3082\u53ef)\u306e\u8a08\u7b97\u3092\u304a\u3053\u306a\u3063\u3066\u307f\u3066\u304f\u3060\u3055\u3044\u3002\n",
      "* \u6709\u9650\u30b5\u30a4\u30ba\u8a08\u7b97\u304c\u305d\u306e\u307e\u307e\u7121\u9650\u7cfb\u306e\u7d50\u679c\u306e\u826f\u3044\u8fd1\u4f3c\u3068\u306a\u308b\u3088\u3046\u306a\u6e29\u5ea6\u7bc4\u56f2\u3092\u898b\u7a4d\u3082\u3063\u3066\u304f\u3060\u3055\u3044\u3002\u3053\u306e\u7bc4\u56f2\u3092 $S=1$ \u30cf\u30a4\u30bc\u30f3\u30d9\u30eb\u30b0\u9396\u306e\u305d\u308c\u3068\u6bd4\u3079\u305f\u6642\u3001\u4f55\u304c\u8a00\u3048\u308b\u3067\u3057\u3087\u3046\u304b\uff1f\n",
      "\n",
      "\n",
      "**\u6ce8\u610f**:\n",
      "\n",
      "\u91cf\u5b50\u30e2\u30f3\u30c6\u30ab\u30eb\u30ed\u8a08\u7b97 (QMC) \u306b\u7cbe\u901a\u3057\u3066\u3044\u308b\u65b9\u306a\u3089\u3001QMC \u3067\u306f\u3088\u308a\u5927\u304d\u306a\u7cfb\u3067\u306e\u8a08\u7b97\u304c\u884c\u3048\u3066\u3001\u71b1\u529b\u5b66\u6975\u9650\u3092\u5f97\u308b\u305f\u3081\u306b\u3088\u308a\u826f\u3044\u8fd1\u4f3c\u304c\u5f97\u3089\u308c\u308b\u3053\u3068\u304c\u308f\u304b\u308b\u3067\u3057\u3087\u3046\u3002\n",
      "\uff08\u3057\u304b\u3057\u5b9f\u969b\u306e\u3068\u3053\u308d\u4eca\u56de\u306e\u7cfb\u3067\u306f\u3001\u53b3\u5bc6\u5bfe\u89d2\u5316\u3067\u3082\u5341\u5206\u306a\u7d50\u679c\u3092\u4e0e\u3048\u3066\u3044\u3066\u3001\u3053\u308c\u3092\u8d85\u3048\u308b\u8a08\u7b97\u3092\u3059\u308b\u3053\u3068\u306f\u305d\u3093\u306a\u306b\u7c21\u5358\u3067\u306f\u3042\u308a\u307e\u305b\u3093\u3002\u5b9f\u969b\u306b\u8a08\u7b97\u3057\u3066\u78ba\u304b\u3081\u3066\u307f\u3066\u304f\u3060\u3055\u3044\uff01\uff09\n",
      "\n",
      "\u7279\u5b9a\u306e\u6761\u4ef6\u4e0b\u3067\u306f\u53b3\u5bc6\u5bfe\u89d2\u5316\u304c\u6700\u3082\u3088\u3044\u8a08\u7b97\u624b\u6cd5\u3068\u306a\u308a\u307e\u3059\u3002\u307e\u305a\u3001\u7cfb\u304c\u672c\u8cea\u7684\u306b\u6709\u9650\u3067\uff08\u53ef\u80fd\u306a\u9650\u308a\u5c0f\u3055\u3044\uff09\u3042\u308c\u3070\u3001\u5b8c\u5168\u5bfe\u89d2\u5316\u3067\u53b3\u5bc6\u89e3\u3092\u5f97\u3089\u308c\u308b\u3067\u3057\u3087\u3046\u3002\u307e\u305f\u3001\u53b3\u5bc6\u5bfe\u89d2\u5316\u306b\u306f\u8ca0\u7b26\u53f7\u554f\u984c\u304c\u73fe\u308c\u306a\u3044\u306e\u3067\u3001\u30d5\u30a7\u30eb\u30df\u30aa\u30f3\u7cfb\u3084\u30d5\u30e9\u30b9\u30c8\u30ec\u30fc\u30c8\u30b9\u30d4\u30f3\u7cfb\u3067\u3082\u3001\u5236\u9650\u306a\u304f\u8a08\u7b97\u3067\u304d\u307e\u3059\u3002\u3069\u3061\u3089\u306e\u6761\u4ef6\u3082\u540c\u6642\u306b\u6e80\u305f\u3059\u306e\u304c\u6b21\u7ae0\u3067\u8ff0\u3079\u308b\u78c1\u6027\u5206\u5b50\u30e2\u30c7\u30eb\u3067\u3059\u3002"
     ]
    },
    {
     "cell_type": "markdown",
     "metadata": {},
     "source": [
      "#  \u78c1\u6027\u5206\u5b50\u306e\u71b1\u529b\u5b66\u8a08\u7b97 \n",
      "\n",
      "\u6b21\u306b\u3001`fulldiag` \u3092\u7528\u3044\u3066\u5c0f\u3055\u306a\u30b9\u30d4\u30f3\u30af\u30e9\u30b9\u30bf\u30fc\u306e\u5b8c\u5168\u306a\u30b9\u30da\u30af\u30c8\u30eb\u3092\u8a08\u7b97\u3057\u3001\u53b3\u5bc6\u306a\u71b1\u529b\u5b66\u30b7\u30df\u30e5\u30ec\u30fc\u30b7\u30e7\u30f3\u3092\u304a\u3053\u306a\u3044\u307e\u3059\u3002"
     ]
    },
    {
     "cell_type": "markdown",
     "metadata": {},
     "source": [
      "##  \u4e8c\u500b\u306e\u30ab\u30c3\u30d7\u30ea\u30f3\u30b0\u3057\u305f\u4e8c\u91cf\u4f53 "
     ]
    },
    {
     "cell_type": "markdown",
     "metadata": {},
     "source": [
      "### \u683c\u5b50\uff08\u30b0\u30e9\u30d5\uff09\u3068\u30e2\u30c7\u30eb\u306e\u30ab\u30b9\u30bf\u30e0\u8a2d\u5b9a\n",
      "\n",
      "\u3053\u3053\u3067\u306f2\u3064\u306e\u30ab\u30c3\u30d7\u30ea\u30f3\u30b0\u3057\u305f\u4e8c\u91cf\u4f53\u3092\u8003\u3048\u307e\u3059\u3002\n",
      "\n",
      "\u6700\u521d\u306b\u3001\u3053\u306e\u554f\u984c\u3092\u8868\u73fe\u3059\u308b\u30b0\u30e9\u30d5\u304c\u5fc5\u8981\u3067\u3059\u3002\u6b21\u306e\u30d5\u30a1\u30a4\u30eb[dd-graph.xml](http://alps.comp-phys.org/static/tutorials2.2.0/ed-06-fulldiag/dd-graph.xml)\u3092\u53c2\u7167\u3057\u3066\u304f\u3060\u3055\u3044\n",
      "\n",
      "    <GRAPH name=\"double dimer\" vertices=\"4\">\n",
      "     <VERTEX id=\"1\" type=\"0\"></VERTEX>\n",
      "     <VERTEX id=\"2\" type=\"0\"></VERTEX>\n",
      "     <VERTEX id=\"3\" type=\"1\"></VERTEX>\n",
      "     <VERTEX id=\"4\" type=\"1\"></VERTEX>\n",
      "     <EDGE type=\"0\" source=\"1\" target=\"2\"/>\n",
      "     <EDGE type=\"0\" source=\"3\" target=\"4\"/>\n",
      "     <EDGE type=\"1\" source=\"1\" target=\"3\"/>\n",
      "     <EDGE type=\"1\" source=\"1\" target=\"4\"/>\n",
      "     <EDGE type=\"1\" source=\"2\" target=\"3\"/>\n",
      "     <EDGE type=\"1\" source=\"2\" target=\"4\"/>\n",
      "    </GRAPH>\n",
      "\n",
      "\n",
      "\u307e\u305f\u30012\u7a2e\u985e\u306e\u30dc\u30f3\u30c9 `0` \u3068 `1` \u3068\u306b\u3001\u7570\u306a\u308b\u30cf\u30a4\u30bc\u30f3\u30d9\u30eb\u30b0\u4ea4\u63db\u76f8\u4e92\u4f5c\u7528 `J0` \u3068 `J1` \u3068\u3092\u6307\u5b9a\u3059\u308b\u5fc5\u8981\u304c\u3042\u308a\u307e\u3059\u3002\u6b21\u306e\u30d5\u30a1\u30a4\u30eb[model-dspin.xml](model-dspin.xml)\u3092\u53c2\u7167\u3057\u3066\u304f\u3060\u3055\u3044\u3002\n",
      "\n",
      "\n",
      "    <HAMILTONIAN name=\"dimerized spin\">\n",
      "      <PARAMETER name=\"J\" default=\"1\"/>\n",
      "      <PARAMETER name=\"h\" default=\"0\"/>\n",
      "      <BASIS ref=\"spin\"/>\n",
      "      <SITETERM site=\"i\">\n",
      "      <PARAMETER name=\"h#\" default=\"h\"/>\n",
      "         -h#*Sz(i)\n",
      "      </SITETERM>\n",
      "      <BONDTERM source=\"i\" target=\"j\">\n",
      "      <PARAMETER name=\"J#\" default=\"J\"/>\n",
      "         J#*Sz(i)*Sz(j)+J#/2*(Splus(i)*Sminus(j)+Sminus(i)*Splus(j))\n",
      "      </BONDTERM>\n",
      "    </HAMILTONIAN>\n",
      "\n",
      "\u30c7\u30d5\u30a9\u30eb\u30c8\u3067\u4f7f\u308f\u308c\u308b `models.xml` \u30d5\u30a1\u30a4\u30eb\u306b\u3042\u308b `spin` \u3068\u3044\u3046\u540d\u524d\u306e\u30e2\u30c7\u30eb\u306b\u306f\u65e2\u306b\u9069\u5207\u306a\u5b9a\u7fa9\u304c\u542b\u307e\u308c\u3066\u3044\u307e\u3059\u306e\u3067\u3001\u5b9f\u969b\u306b\u81ea\u5206\u3067\u5b9a\u7fa9\u3059\u308b\u5fc5\u8981\u3068\u3057\u306a\u3044\u3053\u3068\u306b\u6ce8\u610f\u3057\u3066\u304f\u3060\u3055\u3044\u3002\n",
      "\u3057\u304b\u3057\u306a\u304c\u3089\u4e0a\u8a18\u306e\u4f8b\u306f\u3001\u30cf\u30c3\u30b7\u30e5\u8a18\u53f7(`#`)\u3092\u4f7f\u3046\u3053\u3068\u3067\u3001 `n` \u756a\u76ee\u306e\u30dc\u30f3\u30c9\u306b\u306e\u81ea\u52d5\u7684\u306b\u76f8\u4e92\u4f5c\u7528 `Jn` \u3092\u5272\u308a\u5f53\u3066\u3089\u308c\u308b\u3068\u3044\u3046\u3053\u3068\u3092\u793a\u3059\u6559\u80b2\u7684\u306a\u4f8b\u3068\u306a\u3063\u3066\u3044\u307e\u3059\u3002\n",
      "\n",
      "\n",
      "\u307e\u305f\u3001\u30d0\u30fc\u30c6\u30c3\u30af\u30b9\u306e $1$ \u756a, $2$ \u756a\u3068 $3$ \u756a, $4$ \u756a\u306b\u7570\u306a\u308b\u30bf\u30a4\u30d7\u3092\u5272\u308a\u5f53\u3066\u307e\u3057\u305f\u3002\u3053\u308c\u306b\u3088\u3063\u3066\u3001\n",
      "\u305d\u308c\u305e\u308c `local_S0` \u3068 `local_S1` \u306b\u5bfe\u5fdc\u3059\u308b\u5024\u3092\u6307\u5b9a\u3059\u308b\u3053\u3068\u306b\u3088\u308a\u3001\u4e0a\u5074\u3068\u4e0b\u5074\u306e\u4e8c\u91cf\u4f53\u306b\u7570\u306a\u308b\u5927\u304d\u3055\u306e\u30ed\u30fc\u30ab\u30eb\u30b9\u30d4\u30f3\u3092\u5272\u308a\u5f53\u3066\u308b\u3053\u3068\u304c\u3067\u304d\u307e\u3059\u3002\n",
      "\n",
      "\u3053\u306e\u30e2\u30c7\u30eb\u78c1\u5316\u904e\u7a0b\u3092\u6c42\u3081\u308b\u8a08\u7b97\u3092\u304a\u3053\u306a\u3044\u307e\u3059\u3002\u8a08\u7b97\u6761\u4ef6\u306f\u3001\u30ed\u30fc\u30ab\u30eb\u30b9\u30d4\u30f3 $S_0=1$  (upper dimer), $S_1=1/2$ (lower dimer), $J_0=1$, $J_1=0.4$, \u6e29\u5ea6\u306f $T=0.02$ \u3067\u3059\u3002"
     ]
    },
    {
     "cell_type": "markdown",
     "metadata": {},
     "source": [
      "### \u30b3\u30de\u30f3\u30c9\u30e9\u30a4\u30f3\u3092\u7528\u3044\u305f\u5b9f\u884c\n",
      "\n",
      "\u8a08\u7b97\u30d1\u30e9\u30e1\u30fc\u30bf\u306f [ed06c](ed06c) \u3092\u53c2\u7167\u3057\u3066\u304f\u3060\u3055\u3044\u3002"
     ]
    },
    {
     "cell_type": "raw",
     "metadata": {},
     "source": [
      "LATTICE=\"double dimer\"\n",
      "MODEL=\"dimerized spin\"\n",
      "LATTICE_LIBRARY=\"dd-graph.xml\"\n",
      "MODEL_LIBRARY=\"model-dspin.xml\"\n",
      "local_S0=1\n",
      "local_S1=1/2\n",
      "J0      = 1\n",
      "J1      = 0.4\n",
      "h       = 0 \n",
      "CONSERVED_QUANTUMNUMBERS=\"Sz\"\n",
      "{T = 0.02}"
     ]
    },
    {
     "cell_type": "markdown",
     "metadata": {},
     "source": [
      "\u65b0\u3057\u3044\u30d1\u30e9\u30e1\u30fc\u30bf\u30fc `LATTICE_LIBRARY` \u3068 `MODEL_LIBRARY` \u3067\u683c\u5b50\u30d5\u30a1\u30a4\u30eb\u3068\u30e2\u30c7\u30eb\u30d5\u30a1\u30a4\u30eb\u306e\u8a2d\u5b9a\u3092\u304a\u3053\u306a\u3044\u307e\u3059\u3002\n",
      "\n",
      "\u6b21\u306e\u624b\u9806\u306b\u3057\u305f\u304c\u3063\u3066\u8a08\u7b97\u3092\u304a\u3053\u306a\u3044\u307e\u3059\u3002"
     ]
    },
    {
     "cell_type": "code",
     "collapsed": false,
     "input": [
      "%%bash\n",
      "parameter2xml parm3\n",
      "fulldiag parm3.in.xml\n",
      "fulldiag_evaluate --H_MIN 0 --H_MAX 4 --DELTA_H 0.025 --versus h parm3.task1.out.xml"
     ],
     "language": "python",
     "metadata": {},
     "outputs": []
    },
    {
     "cell_type": "markdown",
     "metadata": {},
     "source": [
      "\u3053\u3053\u3067\u306f `fulldiag_evaluate` \u306e\u30b3\u30de\u30f3\u30c9\u30e9\u30a4\u30f3\u5f15\u6570\u3068\u3057\u3066\u78c1\u5834\u306e\u7bc4\u56f2\u3092\u6307\u5b9a\u3057\u3066\u3044\u308b\u3053\u3068\u306b\u6ce8\u610f\u3057\u3066\u304f\u3060\u3055\u3044\u3002\u7279\u306b\u3001\u30b3\u30de\u30f3\u30c9\u30e9\u30a4\u30f3\u5f15\u6570 `--versus h` \u306f\u3001x \u8ef8\u3068\u3057\u3066\u6e29\u5ea6\u3067\u306f\u306a\u304f\u78c1\u5834\u3092\u8a2d\u5b9a\u3057\u307e\u3059\u3002"
     ]
    },
    {
     "cell_type": "markdown",
     "metadata": {},
     "source": [
      "### Python \u3092\u7528\u3044\u305f\u5b9f\u884c\n",
      "\n",
      "Python \u3067\u306e\u5b9f\u884c\u3067\u3082\u3001\u683c\u5b50\u30d5\u30a1\u30a4\u30eb\u3068\u30e2\u30c7\u30eb\u30d5\u30a1\u30a4\u30eb\u3092\u6307\u5b9a\u3059\u308b\u4ee5\u5916\u306f\u4ee5\u524d\u3068\u540c\u3058\u3088\u3046\u306b\u884c\u3048\u307e\u3059\u3002[tutorial_ed06c.py](tutorial_ed06c.py) \u3092\u53c2\u7167\u3057\u3066\u304f\u3060\u3055\u3044\u3002"
     ]
    },
    {
     "cell_type": "markdown",
     "metadata": {},
     "source": [
      "###  \u554f\u984c \n",
      "\n",
      "* \u7d50\u679c\u3092\u30d7\u30ed\u30c3\u30c8\u3057\u3001\u89e3\u91c8\u3057\u3066\u304f\u3060\u3055\u3044\uff01\n",
      "\n",
      "**\u30d2\u30f3\u30c8**: \u30ab\u30c3\u30d7\u30eb\u3057\u305f $S_0=1$ \u30c0\u30a4\u30de\u30fc\u3068 $S_1=1/2$ \u30c0\u30a4\u30de\u30fc\u306e\u30b9\u30da\u30af\u30c8\u30eb\u306f\u89e3\u6790\u7684\u306b\u308f\u304b\u308a\u307e\u3059\u3002\u30a8\u30cd\u30eb\u30ae\u30fc\u306f\uff08\u7e2e\u9000\u3092\u7121\u8996\u3057\u3066\uff09\u6b21\u306e\u3088\u3046\u306b\u306a\u308a\u307e\u3059\u3002\n",
      "\n",
      "* $-11J_0/4, -3J_0/4 - 2J_1$ for total spin $S_{total}=0$\n",
      "* $-7J_0/4, -3J_0/4 - J_1, 5J_0/4 - 3J_1$ for $S_{total}=1$\n",
      "* $-3J_0/4 + J_1, J_0/4, 5J_0/4 - J_1$ for $S_{total}=2$\n",
      "* $5J_0/4 + 2J_1$ for $S_{total}=3$."
     ]
    },
    {
     "cell_type": "markdown",
     "metadata": {},
     "source": [
      "##  \u5206\u5b50\u932f\u4f53 $V_{15}$ \n",
      "\n",
      "\u6700\u5f8c\u306e\u4f8b\u306f\u3001$V_{15}$ \u5206\u5b50\u932f\u4f53\u3067\u3059\u3002$15$ \u500b\u306e $1/2$ \u30b9\u30d4\u30f3\u3067\u69cb\u6210\u3055\u308c\u3066\u3044\u307e\u3059\u3002\n",
      "\n",
      "\u30b0\u30e9\u30d5\u306f [v15-graph.xml](v15-graph.xml)\u3067\u5b9a\u7fa9\u3055\u308c\u307e\u3059\u3002\n",
      "\n",
      "\u4eca\u56de\u306e\u30b7\u30df\u30e5\u30ec\u30fc\u30b7\u30e7\u30f3\u3067\u306f\u3001\u76f8\u4e92\u4f5c\u7528 $J$ \u306f\u3059\u3079\u3066\u306e\u30dc\u30f3\u30c9\u3067\u7b49\u3057\u3044\u3068\u4eee\u5b9a\u3057\u307e\u3059\u3002\u30d1\u30e9\u30e1\u30fc\u30bf\u30d5\u30a1\u30a4\u30eb\u306f [ed06d](ed06d), Python \u30b9\u30af\u30ea\u30d7\u30c8\u306f [tutorial_ed06d.py](tutorial_ed06d.py) \u3092\u53c2\u7167\u3057\u3066\u304f\u3060\u3055\u3044\u3002"
     ]
    },
    {
     "cell_type": "markdown",
     "metadata": {},
     "source": [
      "####  \u554f\u984c \n",
      "\n",
      "* \u78c1\u5316\u7387\u306e\u4f4e\u6e29\u5ea6\u3067\u306e\u632f\u308b\u821e\u3044\u304c\u8aac\u660e\u3067\u304d\u307e\u3059\u304b\uff1f\n",
      "\n",
      "\u3053\u306e\u8a08\u7b97\u306f\u5c11\u3057\u304c\u96e3\u6613\u5ea6\u304c\u9ad8\u3081\u3067\u3001\u8a08\u7b97\u306b\u304b\u304b\u308b\u6642\u9593\u3082\uff08\u4f11\u61a9\u304c\u53d6\u308c\u308b\u3050\u3089\u3044\u306b\uff09\u5927\u304d\u304f\u306a\u308a\u307e\u3059\u3002"
     ]
    },
    {
     "cell_type": "markdown",
     "metadata": {},
     "source": [
      "## \u8ffd\u52a0\u6f14\u7fd2\n",
      "## \u6b63\u65b9\u683c\u5b50\u4e0a\u306e\u30cf\u30d0\u30fc\u30c9\u6a21\u578b\n",
      "\n",
      "* \u6b63\u65b9\u683c\u5b50\u4e0a\u306e\u30cf\u30d0\u30fc\u30c9\u6a21\u578b\u3092\u8a08\u7b97\u3059\u308b\u305f\u3081\u306e\u30d1\u30e9\u30e1\u30fc\u30bf\u30d5\u30a1\u30a4\u30eb\u3092\u8a2d\u5b9a\u3057\u307e\u3057\u3087\u3046\u3002\n",
      "  * \u3042\u306a\u305f\u304c\u4f7f\u3044\u305f\u3044\u683c\u5b50\u3092\u63a2\u3057\u307e\u3057\u3087\u3046\u3002\u6b63\u65b9\u683c\u5b50\u3067\u306f\u306a\u304f\u3066\u4e00\u6b21\u5143\u9396\u3067\u3082\u69cb\u3044\u307e\u305b\u3093\u3002\u5883\u754c\u6761\u4ef6\u306b\u6ce8\u610f\u3057\u3066\u304f\u3060\u3055\u3044\u3002\n",
      "  * `model.xml` \u304b\u3089\u30cf\u30d0\u30fc\u30c9\u6a21\u578b\u3092\u63a2\u3057\u307e\u3057\u3087\u3046\u3002\u305d\u308c\u305e\u308c\u306e\u9805\u306e\u610f\u5473\u3092\u3088\u304f\u78ba\u304b\u3081\u3066\u304f\u3060\u3055\u3044\u3002\n",
      "  * \u3053\u306e\u8a08\u7b97\u3067\u3082\u5bfe\u79f0\u6027\u3092\u5229\u7528\u3067\u304d\u307e\u3059\u3002\u3053\u306e\u30e2\u30c7\u30eb\u3067\u4fdd\u5b58\u3055\u308c\u308b\u306e\u306f\u904b\u52d5\u91cf\uff08$x\u3001y$ \u65b9\u5411\u305d\u308c\u305e\u308c\uff09\u3068\u7c92\u5b50\u6570\u3067\u3059\u3002\n",
      "  * $t=0$ \u3084 $U=0$ \u3068\u3044\u3063\u305f\u30d1\u30e9\u30e1\u30fc\u30bf\u3092\u7528\u3044\u3066\u8a66\u884c\u8a08\u7b97\u3057\u3066\u307f\u3066\u304f\u3060\u3055\u3044\u3002\n",
      "  * \u6b21\u8fd1\u63a5\u76f8\u4e92\u4f5c\u7528 $t'$ \u3092\u5c0e\u5165\u3059\u308b\u306b\u306f\u3069\u306e\u3088\u3046\u306b\u3059\u308c\u3070\u3088\u3044\u3067\u3057\u3087\u3046\u304b\uff1f"
     ]
    },
    {
     "cell_type": "markdown",
     "metadata": {},
     "source": [
      "&copy; 2004-2010 by Andreas Honecker, Emanuel Gull, and Matthias Troye"
     ]
    }
   ],
   "metadata": {}
  }
 ]
}