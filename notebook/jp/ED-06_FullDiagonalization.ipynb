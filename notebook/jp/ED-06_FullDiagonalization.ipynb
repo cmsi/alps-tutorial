{
 "metadata": {
  "name": "", 
  "signature": "sha256:7a3722f7e61fd3a906aba548fe349ce84a57cec6361e7d2cc6a82cd3db11c38a"
 }, 
 "nbformat": 3, 
 "nbformat_minor": 0, 
 "worksheets": [
  {
   "cells": [
    {
     "cell_type": "markdown", 
     "metadata": {}, 
     "source": [
      "# ALPS 2 Tutorials: ED-06 Full Diagonalization\n", 
      "\n", 
      "**量子ハミルトニアンの完全対角化**\n", 
      "\n", 
      "このチュートリアルでは、`fulldiag` を使って量子系の全対角化を行い、得られたスペクトルから熱力学的量を計算します。"
     ]
    }, 
    {
     "cell_type": "markdown", 
     "metadata": {}, 
     "source": [
      "#  1次元スピンモデルの熱力学"
     ]
    }, 
    {
     "cell_type": "markdown", 
     "metadata": {}, 
     "source": [
      "##  spin-1 ハイゼンベルグ鎖 \n", 
      "\n", 
      "最初に、$S=1$ 反強磁性ハイゼンベルグ鎖の計算をおこないます。"
     ]
    }, 
    {
     "cell_type": "markdown", 
     "metadata": {}, 
     "source": [
      "### コマンドラインでの実行\n", 
      "\n", 
      "[ed06a](ed06a) は、$8$ サイトでの $S=1$ 反強磁性ハイゼンベルグ鎖の完全対角化の入力設定ファイルです。"
     ]
    }, 
    {
     "cell_type": "raw", 
     "metadata": {}, 
     "source": [
      "LATTICE=\"chain lattice\"\n", 
      "MODEL=\"spin\"\n", 
      "local_S = 1\n", 
      "J       = 1\n", 
      "CONSERVED_QUANTUMNUMBERS=\"Sz\"\n", 
      "{L = 8}"
     ]
    }, 
    {
     "cell_type": "markdown", 
     "metadata": {}, 
     "source": [
      "`CONSERVED_QUANTUMNUMBERS` パラメータでハミルトニアンと交換する物理量を指定することで、\n", 
      "ヒルベルト空間を不変部分空間に分割して、それぞれ独立して対角化できます。\n", 
      "\n", 
      "以下の標準的な計算手順に従い、`fulldiag` を用いて量子ハミルトニアンの計算をおこないます。"
     ]
    }, 
    {
     "cell_type": "code", 
     "collapsed": false, 
     "input": [
      "%%bash\n", 
      "parameter2xml ed06a\n", 
      "fulldiag --write-xml ed06a.in.xml"
     ], 
     "language": "python", 
     "metadata": {}, 
     "outputs": []
    }, 
    {
     "cell_type": "markdown", 
     "metadata": {}, 
     "source": [
      "出力ファイルには全固有値・固有ベクトルが記述されています。ここから、`fulldiag_evaluate` を用いて熱力学的量・磁気的量のグラフを作成する XML ファイルを作る事ができます。"
     ]
    }, 
    {
     "cell_type": "code", 
     "collapsed": false, 
     "input": [
      "%%bash\n", 
      "fulldiag_evaluate --T_MIN 0.1 --T_MAX 10 --DELTA_T  0.1  ed06a.task1.out.xml"
     ], 
     "language": "python", 
     "metadata": {}, 
     "outputs": []
    }, 
    {
     "cell_type": "markdown", 
     "metadata": {}, 
     "source": [
      "次の XML 形式のファイルが生成されます。\n", 
      "\n", 
      "* `parm6a.task1.plot.energy.xml`\n", 
      "* `parm6a.task1.plot.free_energy.xml`\n", 
      "* `parm6a.task1.plot.entropy.xml`\n", 
      "* `parm6a.task1.plot.specific_heat.xml`\n", 
      "* `parm6a.task1.plot.uniform_susceptibility.xml`\n", 
      "* `parm6a.task1.plot.magnetization.xml`"
     ]
    }, 
    {
     "cell_type": "markdown", 
     "metadata": {}, 
     "source": [
      "`fulldiag_evaluate` によって生成された XML ファイルから該当の計算結果を抽出するために、`plot2text` ツールを使用します。得られるデータはプレーンテキスト形式なので、お好きなツールで扱う事ができます。例えば、エネルギー密度と温度の2次元プロットは、次の用に記述します。"
     ]
    }, 
    {
     "cell_type": "code", 
     "collapsed": false, 
     "input": [
      "%%bash\n", 
      "plot2text ed06a.task1.plot.energy.xml"
     ], 
     "language": "python", 
     "metadata": {}, 
     "outputs": []
    }, 
    {
     "cell_type": "markdown", 
     "metadata": {}, 
     "source": [
      "他の物理量も同様に変換できます。\n", 
      "\n", 
      "プロットツールに `Grace` を使用する場合は、`plot2xmgr` ツールを使用して `Grace` 用のファイルを直接生成できます。エネルギーと温度のプロットでは、次のように入力してください。"
     ]
    }, 
    {
     "cell_type": "code", 
     "collapsed": false, 
     "input": [
      "%%bash\n", 
      "plot2xmgr ed06a.task1.plot.energy.xml > energy.agr"
     ], 
     "language": "python", 
     "metadata": {}, 
     "outputs": []
    }, 
    {
     "cell_type": "markdown", 
     "metadata": {}, 
     "source": [
      "同様に、`gnuplot` では `plot2gp`、テキスト形式では `plot2text` を使用してください。推奨は Python を使用する方法です。"
     ]
    }, 
    {
     "cell_type": "markdown", 
     "metadata": {}, 
     "source": [
      "### Python を用いた実行\n", 
      "\n", 
      "Python で計算をする場合、Python スクリプト[tutorial_ed06a.py](tutorial_ed06a.py)を使います。\n", 
      "これまで通り、必要なモジュールをインポートし、\n", 
      "入力パラメータを設定し、計算をします。"
     ]
    }, 
    {
     "cell_type": "code", 
     "collapsed": false, 
     "input": [
      "import pyalps\n", 
      "import matplotlib.pyplot as plt\n", 
      "import pyalps.plot\n", 
      "import numpy as np\n", 
      "\n", 
      "parms = [{ \n", 
      "         'LATTICE'                   : \"chain lattice\", \n", 
      "         'MODEL'                     : \"spin\",\n", 
      "         'CONSERVED_QUANTUMNUMBERS'  : 'Sz',\n", 
      "         'local_S'                   : 1,\n", 
      "         'J'                         : 1,\n", 
      "         'L'                         : 8\n", 
      "       }]\n", 
      "\n", 
      "input_file = pyalps.writeInputFiles('ed06a',parms)\n", 
      "res = pyalps.runApplication('fulldiag',input_file)"
     ], 
     "language": "python", 
     "metadata": {}, 
     "outputs": []
    }, 
    {
     "cell_type": "markdown", 
     "metadata": {}, 
     "source": [
      "次に、全出力ファイルに対して解析プログラムを実行します。"
     ]
    }, 
    {
     "cell_type": "code", 
     "collapsed": false, 
     "input": [
      "data = pyalps.evaluateFulldiagVersusT(pyalps.getResultFiles(prefix='ed06a'), \n", 
      "                                      DELTA_T=0.1, T_MIN=0.1, T_MAX=10.0)"
     ], 
     "language": "python", 
     "metadata": {}, 
     "outputs": []
    }, 
    {
     "cell_type": "markdown", 
     "metadata": {}, 
     "source": [
      "最後に、すべての物理量を図示します。"
     ]
    }, 
    {
     "cell_type": "code", 
     "collapsed": false, 
     "input": [
      "for s in pyalps.flatten(data):\n", 
      "    plt.figure()\n", 
      "    plt.title(\"Antiferromagnetic Heisenberg chain\")\n", 
      "    pyalps.plot.plot(s)\n", 
      "plt.show()"
     ], 
     "language": "python", 
     "metadata": {}, 
     "outputs": []
    }, 
    {
     "cell_type": "markdown", 
     "metadata": {}, 
     "source": [
      "###  演習 \n", 
      "\n", 
      "* $L＝9$（計算には数分かかりますので $L＝7$ でも構いません）として磁化率の計算を行い、$L＝8$ のときの結果と比較してください。コマンドラインツールで解析する場合、`parameter2xml` を行うのを忘れないようにしてください。\n", 
      "* 有限サイズの計算を無限サイズの計算と直接みなせるような温度範囲を見積もってみてください。"
     ]
    }, 
    {
     "cell_type": "markdown", 
     "metadata": {}, 
     "source": [
      "##  Spin-$1/2$ ハイゼンベルグ梯子 \n", 
      "\n", 
      "次に、長さ $6$ の $S=1/2$ ハイゼンベルグ梯子モデルの計算をおこないます。`LATTICE` パラメータを `ladder` `に、J0,J1` を $1$ に変更します。パラメターファイルは [ed06b](ed06b) です。Python スクリプトは [tutorial_ed06b.py](tutorial_ed06b.py) をそれぞれ参照してください。"
     ]
    }, 
    {
     "cell_type": "markdown", 
     "metadata": {}, 
     "source": [
      "####  演習 \n", 
      "\n", 
      "* 比熱のピークの位置を議論してください（無限梯子はおおよそ $J/2$ のギャップがあります。）\n", 
      "* $L=7$ (時間がかかるようなら、$L=5$ でも可)の計算をおこなってみてください。\n", 
      "* 有限サイズ計算がそのまま無限系の結果の良い近似となるような温度範囲を見積もってください。この範囲を $S=1$ ハイゼンベルグ鎖のそれと比べた時、何が言えるでしょうか？\n", 
      "\n", 
      "\n", 
      "**注意**:\n", 
      "\n", 
      "量子モンテカルロ計算 (QMC) に精通している方なら、QMC ではより大きな系での計算が行えて、熱力学極限を得るためにより良い近似が得られることがわかるでしょう。\n", 
      "（しかし実際のところ今回の系では、厳密対角化でも十分な結果を与えていて、これを超える計算をすることはそんなに簡単ではありません。実際に計算して確かめてみてください！）\n", 
      "\n", 
      "特定の条件下では厳密対角化が最もよい計算手法となります。まず、系が本質的に有限で（可能な限り小さい）あれば、完全対角化で厳密解を得られるでしょう。また、厳密対角化には負符号問題が現れないので、フェルミオン系やフラストレートスピン系でも、制限なく計算できます。どちらの条件も同時に満たすのが次章で述べる磁性分子モデルです。"
     ]
    }, 
    {
     "cell_type": "markdown", 
     "metadata": {}, 
     "source": [
      "#  磁性分子の熱力学計算 \n", 
      "\n", 
      "次に、`fulldiag` を用いて小さなスピンクラスターの完全なスペクトルを計算し、厳密な熱力学シミュレーションをおこないます。"
     ]
    }, 
    {
     "cell_type": "markdown", 
     "metadata": {}, 
     "source": [
      "##  二個のカップリングした二量体 "
     ]
    }, 
    {
     "cell_type": "markdown", 
     "metadata": {}, 
     "source": [
      "### 格子（グラフ）とモデルのカスタム設定\n", 
      "\n", 
      "ここでは2つのカップリングした二量体を考えます。\n", 
      "\n", 
      "最初に、この問題を表現するグラフが必要です。次のファイル[dd-graph.xml](http://alps.comp-phys.org/static/tutorials2.2.0/ed-06-fulldiag/dd-graph.xml)を参照してください\n", 
      "\n", 
      "    <GRAPH name=\"double dimer\" vertices=\"4\">\n", 
      "     <VERTEX id=\"1\" type=\"0\"></VERTEX>\n", 
      "     <VERTEX id=\"2\" type=\"0\"></VERTEX>\n", 
      "     <VERTEX id=\"3\" type=\"1\"></VERTEX>\n", 
      "     <VERTEX id=\"4\" type=\"1\"></VERTEX>\n", 
      "     <EDGE type=\"0\" source=\"1\" target=\"2\"/>\n", 
      "     <EDGE type=\"0\" source=\"3\" target=\"4\"/>\n", 
      "     <EDGE type=\"1\" source=\"1\" target=\"3\"/>\n", 
      "     <EDGE type=\"1\" source=\"1\" target=\"4\"/>\n", 
      "     <EDGE type=\"1\" source=\"2\" target=\"3\"/>\n", 
      "     <EDGE type=\"1\" source=\"2\" target=\"4\"/>\n", 
      "    </GRAPH>\n", 
      "\n", 
      "\n", 
      "また、2種類のボンド `0` と `1` とに、異なるハイゼンベルグ交換相互作用 `J0` と `J1` とを指定する必要があります。次のファイル[model-dspin.xml](model-dspin.xml)を参照してください。\n", 
      "\n", 
      "\n", 
      "    <HAMILTONIAN name=\"dimerized spin\">\n", 
      "      <PARAMETER name=\"J\" default=\"1\"/>\n", 
      "      <PARAMETER name=\"h\" default=\"0\"/>\n", 
      "      <BASIS ref=\"spin\"/>\n", 
      "      <SITETERM site=\"i\">\n", 
      "      <PARAMETER name=\"h#\" default=\"h\"/>\n", 
      "         -h#*Sz(i)\n", 
      "      </SITETERM>\n", 
      "      <BONDTERM source=\"i\" target=\"j\">\n", 
      "      <PARAMETER name=\"J#\" default=\"J\"/>\n", 
      "         J#*Sz(i)*Sz(j)+J#/2*(Splus(i)*Sminus(j)+Sminus(i)*Splus(j))\n", 
      "      </BONDTERM>\n", 
      "    </HAMILTONIAN>\n", 
      "\n", 
      "デフォルトで使われる `models.xml` ファイルにある `spin` という名前のモデルには既に適切な定義が含まれていますので、実際に自分で定義する必要としないことに注意してください。\n", 
      "しかしながら上記の例は、ハッシュ記号(`#`)を使うことで、 `n` 番目のボンドにの自動的に相互作用 `Jn` を割り当てられるということを示す教育的な例となっています。\n", 
      "\n", 
      "\n", 
      "また、バーテックスの $1$ 番, $2$ 番と $3$ 番, $4$ 番に異なるタイプを割り当てました。これによって、\n", 
      "それぞれ `local_S0` と `local_S1` に対応する値を指定することにより、上側と下側の二量体に異なる大きさのローカルスピンを割り当てることができます。\n", 
      "\n", 
      "このモデル磁化過程を求める計算をおこないます。計算条件は、ローカルスピン $S_0=1$  (upper dimer), $S_1=1/2$ (lower dimer), $J_0=1$, $J_1=0.4$, 温度は $T=0.02$ です。"
     ]
    }, 
    {
     "cell_type": "markdown", 
     "metadata": {}, 
     "source": [
      "### コマンドラインを用いた実行\n", 
      "\n", 
      "計算パラメータは [ed06c](ed06c) を参照してください。"
     ]
    }, 
    {
     "cell_type": "raw", 
     "metadata": {}, 
     "source": [
      "LATTICE=\"double dimer\"\n", 
      "MODEL=\"dimerized spin\"\n", 
      "LATTICE_LIBRARY=\"dd-graph.xml\"\n", 
      "MODEL_LIBRARY=\"model-dspin.xml\"\n", 
      "local_S0=1\n", 
      "local_S1=1/2\n", 
      "J0      = 1\n", 
      "J1      = 0.4\n", 
      "h       = 0 \n", 
      "CONSERVED_QUANTUMNUMBERS=\"Sz\"\n", 
      "{T = 0.02}"
     ]
    }, 
    {
     "cell_type": "markdown", 
     "metadata": {}, 
     "source": [
      "新しいパラメーター `LATTICE_LIBRARY` と `MODEL_LIBRARY` で格子ファイルとモデルファイルの設定をおこないます。\n", 
      "\n", 
      "次の手順にしたがって計算をおこないます。"
     ]
    }, 
    {
     "cell_type": "code", 
     "collapsed": false, 
     "input": [
      "%%bash\n", 
      "parameter2xml parm3\n", 
      "fulldiag parm3.in.xml\n", 
      "fulldiag_evaluate --H_MIN 0 --H_MAX 4 --DELTA_H 0.025 --versus h parm3.task1.out.xml"
     ], 
     "language": "python", 
     "metadata": {}, 
     "outputs": []
    }, 
    {
     "cell_type": "markdown", 
     "metadata": {}, 
     "source": [
      "ここでは `fulldiag_evaluate` のコマンドライン引数として磁場の範囲を指定していることに注意してください。特に、コマンドライン引数 `--versus h` は、x 軸として温度ではなく磁場を設定します。"
     ]
    }, 
    {
     "cell_type": "markdown", 
     "metadata": {}, 
     "source": [
      "### Python を用いた実行\n", 
      "\n", 
      "Python での実行でも、格子ファイルとモデルファイルを指定する以外は以前と同じように行えます。[tutorial_ed06c.py](tutorial_ed06c.py) を参照してください。"
     ]
    }, 
    {
     "cell_type": "markdown", 
     "metadata": {}, 
     "source": [
      "###  問題 \n", 
      "\n", 
      "* 結果をプロットし、解釈してください！\n", 
      "\n", 
      "**ヒント**: カップルした $S_0=1$ ダイマーと $S_1=1/2$ ダイマーのスペクトルは解析的にわかります。エネルギーは（縮退を無視して）次のようになります。\n", 
      "\n", 
      "* $-11J_0/4, -3J_0/4 - 2J_1$ for total spin $S_{total}=0$\n", 
      "* $-7J_0/4, -3J_0/4 - J_1, 5J_0/4 - 3J_1$ for $S_{total}=1$\n", 
      "* $-3J_0/4 + J_1, J_0/4, 5J_0/4 - J_1$ for $S_{total}=2$\n", 
      "* $5J_0/4 + 2J_1$ for $S_{total}=3$."
     ]
    }, 
    {
     "cell_type": "markdown", 
     "metadata": {}, 
     "source": [
      "##  分子錯体 $V_{15}$ \n", 
      "\n", 
      "最後の例は、$V_{15}$ 分子錯体です。$15$ 個の $1/2$ スピンで構成されています。\n", 
      "\n", 
      "グラフは [v15-graph.xml](v15-graph.xml)で定義されます。\n", 
      "\n", 
      "今回のシミュレーションでは、相互作用 $J$ はすべてのボンドで等しいと仮定します。パラメータファイルは [ed06d](ed06d), Python スクリプトは [tutorial_ed06d.py](tutorial_ed06d.py) を参照してください。"
     ]
    }, 
    {
     "cell_type": "markdown", 
     "metadata": {}, 
     "source": [
      "####  問題 \n", 
      "\n", 
      "* 磁化率の低温度での振る舞いが説明できますか？\n", 
      "\n", 
      "この計算は少しが難易度が高めで、計算にかかる時間も（休憩が取れるぐらいに）大きくなります。"
     ]
    }, 
    {
     "cell_type": "markdown", 
     "metadata": {}, 
     "source": [
      "## 追加演習\n", 
      "## 正方格子上のハバード模型\n", 
      "\n", 
      "* 正方格子上のハバード模型を計算するためのパラメータファイルを設定しましょう。\n", 
      "  * あなたが使いたい格子を探しましょう。正方格子ではなくて一次元鎖でも構いません。境界条件に注意してください。\n", 
      "  * `model.xml` からハバード模型を探しましょう。それぞれの項の意味をよく確かめてください。\n", 
      "  * この計算でも対称性を利用できます。このモデルで保存されるのは運動量（$x、y$ 方向それぞれ）と粒子数です。\n", 
      "  * $t=0$ や $U=0$ といったパラメータを用いて試行計算してみてください。\n", 
      "  * 次近接相互作用 $t'$ を導入するにはどのようにすればよいでしょうか？"
     ]
    }, 
    {
     "cell_type": "markdown", 
     "metadata": {}, 
     "source": [
      "&copy; 2004-2010 by Andreas Honecker, Emanuel Gull, and Matthias Troye"
     ]
    }
   ], 
   "metadata": {}
  }
 ]
}