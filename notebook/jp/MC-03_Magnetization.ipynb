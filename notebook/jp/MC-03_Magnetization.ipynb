{
 "metadata": {
  "name": "",
  "signature": "sha256:8bfb2629e7ef1bfa1cb85015445fe1b1fe9fb77faaa49893f4af23d7bee27057"
 },
 "nbformat": 3,
 "nbformat_minor": 0,
 "worksheets": [
  {
   "cells": [
    {
     "cell_type": "markdown",
     "metadata": {},
     "source": [
      "# ALPS 2 Tutorials: MC-03 Magnetization\n",
      "\n",
      "#  \u91cf\u5b50\u30b9\u30d4\u30f3\u30e2\u30c7\u30eb\u306e\u78c1\u5316\u66f2\u7dda\u306e\u8a08\u7b97\n",
      "\n",
      "\u30eb\u30fc\u30d7\u30a2\u30eb\u30b4\u30ea\u30ba\u30e0\u3067\u306f\u78c1\u5834\u4e2d\u3067\u3046\u307e\u304f\u6a5f\u80fd\u3057\u306a\u3044\u305f\u3081\u3001\u3053\u306e\u30c1\u30e5\u30fc\u30c8\u30ea\u30a2\u30eb\u3067\u306f\u3001\u30eb\u30fc\u30d7\u30a2\u30eb\u30b4\u30ea\u30ba\u30e0\u306e\u66ff\u308f\u308a\u306b\u6709\u5411\u30eb\u30fc\u30d7 SSE \u30a2\u30d7\u30ea\u30b1\u30fc\u30b7\u30e7\u30f3\u3092\u4f7f\u7528\u3057\u3001\u91cf\u5b50\u30b9\u30d4\u30f3\u30e2\u30c7\u30eb\u3067\u306e\u78c1\u5316\u66f2\u7dda\u306e\u8a08\u7b97\u3092\u7d39\u4ecb\u3057\u307e\u3059\u3002\n",
      "\n",
      "##  \u78c1\u5834\u4e2d\u306e1\u6b21\u5143\u30cf\u30a4\u30bc\u30f3\u30d9\u30eb\u30b0\u9396 \n",
      "\n",
      "### \u30b3\u30de\u30f3\u30c9\u30e9\u30a4\u30f3\u3067\u306e\u30b7\u30df\u30e5\u30ec\u30fc\u30b7\u30e7\u30f3\u306e\u6e96\u5099\u3068\u5b9f\u884c\n",
      "\n",
      "\u30d1\u30e9\u30e1\u30fc\u30bf\u30d5\u30a1\u30a4\u30eb[mc03a](mc03a)\u306f\u3001$S=1/2$ \u30cf\u30a4\u30bc\u30f3\u30d9\u30eb\u30b0\u30e2\u30c7\u30eb\u306e\u91cf\u5b50\u30e2\u30f3\u30c6\u30ab\u30eb\u30ed\u30b7\u30df\u30e5\u30ec\u30fc\u30b7\u30e7\u30f3\u306e\u8a2d\u5b9a\u3092\u3057\u3066\u3044\u307e\u3059\u3002\u6b21\u5143\u6570 1,\u30b5\u30a4\u30c8\u6570 20,\u6e29\u5ea6 $T=0.08$, \u78c1\u5834\u306f $h=0,0.1,...,2.5$ \u3068\u8a2d\u5b9a\u3057\u3066\u3044\u307e\u3059\u3002"
     ]
    },
    {
     "cell_type": "raw",
     "metadata": {},
     "source": [
      "LATTICE=\"chain lattice\" \n",
      "MODEL   = \"spin\"\n",
      "local_S=1/2\n",
      "L=20\n",
      "J=1\n",
      "T=0.08\n",
      "THERMALIZATION=2000\n",
      "SWEEPS=10000\n",
      "{h=0;}\n",
      "{h=0.1;}\n",
      "{h=0.2;}\n",
      "{h=0.3;}\n",
      "{h=0.4;}\n",
      "{h=0.5;}\n",
      "{h=0.6;}\n",
      "{h=0.7;}\n",
      "{h=0.8;}\n",
      "{h=0.9;}\n",
      "{h=1.0;}\n",
      "{h=1.2;}\n",
      "{h=1.4;}\n",
      "{h=1.6;}\n",
      "{h=1.8;}\n",
      "{h=2.0;}\n",
      "{h=2.2;}\n",
      "{h=2.4;}\n",
      "{h=2.5;}"
     ]
    },
    {
     "cell_type": "markdown",
     "metadata": {},
     "source": [
      "\u4ee5\u4e0b\u306e\u6a19\u6e96\u7684\u306a\u8a08\u7b97\u624b\u9806\u306b\u5f93\u3044\u3001\u91cf\u5b50 SSE \u30b3\u30fc\u30c9\u3092\u7528\u3044\u3066\u8a08\u7b97\u3059\u308b\u3053\u3068\u304c\u3067\u304d\u307e\u3059\u3002\u7d50\u679c\u306f XML \u5f62\u5f0f\u3067\u51fa\u529b\u3055\u308c\u3001web \u30d6\u30e9\u30a6\u30b6\u3067\u78ba\u8a8d\u304c\u53ef\u80fd\u3067\u3059\u3002"
     ]
    },
    {
     "cell_type": "code",
     "collapsed": false,
     "input": [
      "%%bash \n",
      "parameter2xml mc03a\n",
      "dirloop_sse --Tmin 10 --write-xml mc03a.in.xml"
     ],
     "language": "python",
     "metadata": {},
     "outputs": []
    },
    {
     "cell_type": "markdown",
     "metadata": {},
     "source": [
      "\u6b21\u306b\u3001`dirloop_sse_evaluate` \u30e2\u30b8\u30e5\u30fc\u30eb\u3092\u7528\u3044\u3066 `Specific Heat` (\u6bd4\u71b1)\u3092\u6c42\u3081\u307e\u3059\u3002\u30b7\u30df\u30e5\u30ec\u30fc\u30b7\u30e7\u30f3\u3067\u5f97\u3089\u308c\u305f\u7d50\u679c\u3092\u89e3\u6790\u3057\u3001\u51fa\u529b\u7d50\u679c\u3092 XML \u30d5\u30a1\u30a4\u30eb\u3068\u3057\u3066\u751f\u6210\u3057\u307e\u3059\u3002"
     ]
    },
    {
     "cell_type": "code",
     "collapsed": false,
     "input": [
      "%%bash\n",
      "dirloop_sse_evaluate --write-xml mc03a.task[1-19].out.xml"
     ],
     "language": "python",
     "metadata": {},
     "outputs": []
    },
    {
     "cell_type": "markdown",
     "metadata": {},
     "source": [
      "\u51fa\u529b\u7d50\u679c\u3092\u683c\u7d0d\u3057\u305f\u30d5\u30a1\u30a4\u30eb\u306f\u3001\u4e0a\u66f8\u304d\u3055\u308c\u307e\u3059\u306e\u3067\u6ce8\u610f\u3057\u3066\u304f\u3060\u3055\u3044\u3002\n",
      "\n",
      "\u30b7\u30df\u30e5\u30ec\u30fc\u30b7\u30e7\u30f3\u51fa\u529b\u30d5\u30a1\u30a4\u30eb\u306b\u306f\u3001\u5168\u8a08\u7b97\u304c\u304a\u3053\u306a\u308f\u308c\u305f\u5f8c\u306e\u8a08\u7b97\u7d50\u679c\u304c\u3060\u3051\u304c\u683c\u7d0d\u3055\u308c\u3066\u3044\u307e\u3059\u3002\u500b\u3005\u306e\u30e2\u30f3\u30c6\u30ab\u30eb\u30ed\u30b9\u30c6\u30c3\u30d7\u3067\u306e\u8a08\u7b97\u306e\u8a73\u7d30\u306f\u3001\u5404\u30c1\u30a7\u30c3\u30af\u30dd\u30a4\u30f3\u30c8\u60c5\u5831\u3092\u683c\u7d0d\u3057\u3066\u3044\u308b\u30c1\u30a7\u30c3\u30af\u30dd\u30a4\u30f3\u30c8\u30d5\u30a1\u30a4\u30eb\u3092 XML \u5f62\u5f0f\u306b\u5909\u63db\u3059\u308b\u3053\u3068\u306b\u3088\u3063\u3066\u77e5\u308b\u3053\u3068\u304c\u53ef\u80fd\u3067\u3059\u3002`convert2xml` \u30c4\u30fc\u30eb\u3092\u6b21\u306e\u3088\u3046\u306b\u4f7f\u7528\u3057\u307e\u3059\u3002"
     ]
    },
    {
     "cell_type": "code",
     "collapsed": false,
     "input": [
      "%%bash\n",
      "convert2xml mc03a.task[1-19].out.run1"
     ],
     "language": "python",
     "metadata": {},
     "outputs": []
    },
    {
     "cell_type": "markdown",
     "metadata": {},
     "source": [
      "\u3053\u306e\u64cd\u4f5c\u306b\u3088\u3063\u3066\u30e2\u30f3\u30c6\u30ab\u30eb\u30ed\u8a08\u7b97\u304b\u3089\u6458\u51fa\u3055\u308c\u305f\u60c5\u5831\u3092\u542b\u3080\u3001XML \u5f62\u5f0f\u306e\u30bf\u30b9\u30af\u30d5\u30a1\u30a4\u30eb `mc03a.task[1-19].out.run.xml` \u304c\u751f\u6210\u3055\u308c\u307e\u3059\u3002\n",
      "\n",
      "\u7269\u7406\u91cf\u306b\u95a2\u3059\u308b\u30d7\u30ed\u30c3\u30c8\u3092\u304a\u3053\u306a\u3044\u305f\u3044\u5834\u5408\u306f\u3001\u5f8c\u8ff0\u3059\u308b Python \u89e3\u6790\u30c4\u30fc\u30eb\u3092\u5229\u7528\u3057\u3066\u304f\u3060\u3055\u3044\u3002"
     ]
    },
    {
     "cell_type": "markdown",
     "metadata": {},
     "source": [
      "### Python\u3092\u4f7f\u7528\u3057\u305f\u30b7\u30df\u30e5\u30ec\u30fc\u30b7\u30e7\u30f3\u306e\u6e96\u5099\u3068\u5b9f\u884c\n",
      "\n",
      "Python \u3067\u8a08\u7b97\u306e\u5b9f\u884c\u3092\u8a2d\u5b9a\u3057\u307e\u3059\u3002Python \u30b9\u30af\u30ea\u30d7\u30c8 [tutorial_mc03a.py](tutorial_mc03a.py) \u3092\u53c2\u7167\u3057\u3066\u304f\u3060\u3055\u3044\u3002"
     ]
    },
    {
     "cell_type": "code",
     "collapsed": false,
     "input": [
      "import pyalps\n",
      "import matplotlib.pyplot as plt\n",
      "import pyalps.plot\n",
      "\n",
      "parms = []\n",
      "for h in [0., 0.1, 0.2, 0.3, 0.4, 0.5, 0.6, 0.7, 0.8, 0.9, 1.0, 1.2, 1.4, 1.6, 1.8, 2.0, 2.2, 2.4, 2.5]:\n",
      "    parms.append(\n",
      "        { \n",
      "          'LATTICE'        : \"chain lattice\", \n",
      "          'MODEL'          : \"spin\",\n",
      "          'local_S'        : 0.5,\n",
      "          'T'              : 0.08,\n",
      "          'J'              : 1 ,\n",
      "          'THERMALIZATION' : 1000,\n",
      "          'SWEEPS'         : 20000,\n",
      "          'L'              : 20,\n",
      "          'h'              : h\n",
      "        }\n",
      "    )"
     ],
     "language": "python",
     "metadata": {},
     "outputs": []
    },
    {
     "cell_type": "markdown",
     "metadata": {},
     "source": [
      "\u6b21\u306b\u3001\u30b8\u30e7\u30d6\u30d5\u30a1\u30a4\u30eb\u3092 XML \u5f62\u5f0f\u306b\u5909\u63db\u3057\u3001`dir_loop_sse` \u30b7\u30df\u30e5\u30ec\u30fc\u30b7\u30e7\u30f3\u3092\u5b9f\u884c\u3057\u307e\u3059\u3002"
     ]
    },
    {
     "cell_type": "code",
     "collapsed": false,
     "input": [
      "input_file = pyalps.writeInputFiles('mc03a', parms)\n",
      "res = pyalps.runApplication('dirloop_sse', input_file,Tmin=5)"
     ],
     "language": "python",
     "metadata": {},
     "outputs": []
    },
    {
     "cell_type": "markdown",
     "metadata": {},
     "source": [
      "\u30b3\u30de\u30f3\u30c9\u30e9\u30a4\u30f3\u3067\u304a\u3053\u306a\u3063\u305f\u8a08\u7b97\u7d50\u679c\u3068\u540c\u3058\u51fa\u529b\u30d5\u30a1\u30a4\u30eb\u304c\u5f97\u3089\u308c\u307e\u3059\u3002\n",
      "\n",
      "### Python\u3092\u4f7f\u7528\u3057\u305f\u30b7\u30df\u30e5\u30ec\u30fc\u30b7\u30e7\u30f3\u306e\u8a55\u4fa1\u3068\u30d7\u30ed\u30c3\u30c8\n",
      "\n",
      "\u8a08\u7b97\u7d50\u679c\u30d5\u30a1\u30a4\u30eb\u3092\u30ed\u30fc\u30c9\u3057\u3001\u78c1\u5834\u306e\u95a2\u6570\u3068\u3057\u3066\u306e\u78c1\u5316\u5bc6\u5ea6\u306e\u60c5\u5831\u3092\u53d6\u5f97\u3057\u307e\u3059\u3002\u8a08\u7b97\u306e\u30ed\u30fc\u30c9\u3001\u89e3\u6790\u3001\u30d7\u30ed\u30c3\u30c8\u306e\u624b\u9806\u306f Python \u30b9\u30af\u30ea\u30d7\u30c8 [tutorial_mc03a.py](tutorial_mc03a.py) \u3092\u53c2\u7167\u3057\u3066\u304f\u3060\u3055\u3044\u3002"
     ]
    },
    {
     "cell_type": "code",
     "collapsed": false,
     "input": [
      "data = pyalps.loadMeasurements(pyalps.getResultFiles(prefix='mc03a'),'Magnetization Density')\n",
      "magnetization = pyalps.collectXY(data,x='h',y='Magnetization Density')"
     ],
     "language": "python",
     "metadata": {},
     "outputs": []
    },
    {
     "cell_type": "markdown",
     "metadata": {},
     "source": [
      "\u30d7\u30ed\u30c3\u30c8\u306b\u306f `pyalps.pyplot.plot` \u3092\u4f7f\u7528\u3057\u307e\u3059\u3002\u9069\u5b9c\u3001\u5b9f\u7528\u7684\u306a\u30e9\u30d9\u30eb\u3001\u30bf\u30a4\u30c8\u30eb\u3001Y\u8ef8\u306e\u7bc4\u56f2\u3092\u8a2d\u5b9a\u3057\u3066\u304f\u3060\u3055\u3044\u3002"
     ]
    },
    {
     "cell_type": "code",
     "collapsed": false,
     "input": [
      "plt.figure()\n",
      "pyalps.plot.plot(magnetization)\n",
      "plt.xlabel('Field $h$')\n",
      "plt.ylabel('Magnetization $m$')\n",
      "plt.ylim(0.0,0.5)\n",
      "plt.title('Quantum Heisenberg chain')\n",
      "plt.show()"
     ],
     "language": "python",
     "metadata": {},
     "outputs": []
    },
    {
     "cell_type": "markdown",
     "metadata": {},
     "source": [
      "## \u78c1\u5834\u4e2d\u3067\u306e1\u6b21\u5143\u30cf\u30a4\u30bc\u30f3\u30d9\u30eb\u30b0\u68af\u5b50 \n",
      "\n",
      "\u30d1\u30e9\u30e1\u30fc\u30bf\u30d5\u30a1\u30a4\u30eb[mc03b](mc03b) \u306f\u3001$S=1/2$ \u30cf\u30a4\u30bc\u30f3\u30d9\u30eb\u30b0\u30e2\u30c7\u30eb\u306e\u91cf\u5b50\u30e2\u30f3\u30c6\u30ab\u30eb\u30ed\u30b7\u30df\u30e5\u30ec\u30fc\u30b7\u30e7\u30f3\u306e\u8a2d\u5b9a\u3092\u3057\u3066\u3044\u307e\u3059\u3002\u6b21\u5143\u65701,\u30b5\u30a4\u30c8\u657040, \u6e29\u5ea6 $T=0.08$ ,\u78c1\u5834\u306f $h=0,0.1,....,3.5$ \u306e\u8a2d\u5b9a\u3068\u3057\u3066\u3044\u307e\u3059\u3002 "
     ]
    },
    {
     "cell_type": "raw",
     "metadata": {},
     "source": [
      "LATTICE=\"ladder\"\n",
      "MODEL   = \"spin\"\n",
      "local_S=1/2\n",
      "L=20\n",
      "J0=1\n",
      "J1=1\n",
      "T=0.08\n",
      "THERMALIZATION=1000\n",
      "SWEEPS=10000\n",
      "{h=0;}\n",
      "{h=0.1;}\n",
      "{h=0.2;}\n",
      "{h=0.3;}\n",
      "{h=0.4;}\n",
      "{h=0.5;}\n",
      "{h=0.6;}\n",
      "{h=0.8;}\n",
      "{h=1.0;}\n",
      "{h=1.25;}\n",
      "SWEEPS=5000\n",
      "{h=1.5;}\n",
      "{h=1.75;}\n",
      "{h=2.0;}\n",
      "{h=2.25;}\n",
      "{h=2.5;}\n",
      "{h=2.75;}\n",
      "{h=3.0;}\n",
      "{h=3.25;}\n",
      "{h=3.5;}"
     ]
    },
    {
     "cell_type": "markdown",
     "metadata": {},
     "source": [
      "\u5165\u529b\u30d5\u30a1\u30a4\u30eb\u306e\u4e00\u90e8\u3092\u4e0a\u8a18\u306b\u793a\u3057\u307e\u3059\u3002\u30b7\u30df\u30e5\u30ec\u30fc\u30b7\u30e7\u30f3\u306e\u5b9f\u884c\u306f\u4ed6\u306e\u8a08\u7b97\u3068\u540c\u3058\u624b\u9806\u3067\u3059\u3002\n",
      "\n",
      "Python \u3092\u4f7f\u7528\u3057\u305f\u30b7\u30df\u30e5\u30ec\u30fc\u30b7\u30e7\u30f3\u306e\u5b9f\u884c\u306b\u306f[tutorial_mc03b.py](tutorial_mc03b.py)\u3092\u7528\u3044\u307e\u3059\u3002\u5909\u66f4\u70b9\u306f\u6b21\u306e3\u70b9\u3067\u3059\u3002\n",
      "\n",
      "* \u30d5\u30a1\u30a4\u30eb\u540d\u306e\u5909\u66f4: `parm3a` -> `parm3b`\n",
      "* \u30d1\u30e9\u30e1\u30fc\u30bf\u306e\u5909\u66f4: `chain lattice` -> `ladder`\n",
      "* `J0, J1` \u306e\u8a2d\u5b9a"
     ]
    },
    {
     "cell_type": "markdown",
     "metadata": {},
     "source": [
      "## \u8a08\u7b97\u7d50\u679c\u306e\u7d71\u5408\n",
      "\n",
      "\u5168\u8a08\u7b97\u7d50\u679c\u306e\u30d7\u30ed\u30c3\u30c8\u3092\u304a\u3053\u306a\u3044\u307e\u3059\u3002\u30b9\u30af\u30ea\u30d7\u30c8[tutorial_mc03full.py](tutorial_mc03full.py)\u3092\u53c2\u7167\u3057\u3066\u304f\u3060\u3055\u3044\u3002"
     ]
    },
    {
     "cell_type": "markdown",
     "metadata": {},
     "source": [
      "##  \u8a2d\u554f\n",
      "\n",
      "* \u78c1\u5834\u306b\u5bfe\u3057\u3066\u78c1\u5316\u306f\u3069\u3046\u632f\u308b\u821e\u3044\u307e\u3059\u304b\uff1f\n",
      "* \u683c\u5b50\u306e\u9055\u3044\u306f\u3069\u306e\u3088\u3046\u306b\u78c1\u5316\u306b\u95a2\u4e0e\u3057\u307e\u3059\u304b\uff1f\n",
      "* \u30d1\u30e9\u30e1\u30fc\u30bfW\u3092\u5909\u3048\u308b\u3053\u3068\u306b\u3088\u3063\u3066 3-leg, 4-leg \u68af\u5b50\u306e\u8a08\u7b97\u304c\u3067\u304d\u307e\u3059\u3002\u307e\u305f\u3001`local_S` \u3092\u8a2d\u5b9a\u3057\u3001`spin-1, spin-3/2` \u306e\u8a08\u7b97\u304c\u53ef\u80fd\u3067\u3059\u3002\u3053\u308c\u3089\u306e\u30d1\u30e9\u30e1\u30fc\u30bf\u306b\u3088\u3063\u3066\u7d50\u679c\u306f\u3069\u3046\u306a\u308a\u307e\u3059\u304b"
     ]
    }
   ],
   "metadata": {}
  }
 ]
}