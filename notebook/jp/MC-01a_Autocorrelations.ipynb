{
 "metadata": {
  "name": "",
  "signature": "sha256:891a99b123b1d5c22a564d34b43abdc8196946b6f5b779083f45c52261c85e51"
 },
 "nbformat": 3,
 "nbformat_minor": 0,
 "worksheets": [
  {
   "cells": [
    {
     "cell_type": "markdown",
     "metadata": {},
     "source": [
      "# ALPS 2 Tutorials: MC-01 Autocorrelations"
     ]
    },
    {
     "cell_type": "markdown",
     "metadata": {},
     "source": [
      "モンテカルロシミューレーションの重要なトピックである自己相関時間について Ising モデルを例にして説明します。\n",
      "具体例として，有限サイズの正方格子 $(L=2,4,...48)$ について温度を無限系での臨界温度 $T_c=2.269186$ に固定した条件の下でのシミュレーションを行ないます。\n",
      "アップデートのアルゴリズムにはローカルアップデートとクラスターアップデートの 2 種があります．\n",
      "最後にこの 2 種類のアップデート方法での実行の結果を比較します．\n",
      "\n",
      "また，シミュレーションの実行環境は 2 種類あります．\n",
      "コマンドライン から実行する方法と Python を使って実行する方法です．\n",
      "PC 上で小規模のシミュレーションを計算するのであれば Python での実行を、クラスタ等を使用した大規模計算であればコマンドラインでの実行をお勧めします。\n",
      "はじめにコマンドラインでの実行方法，次に Python での実行方法を紹介します．\n",
      "いずれの環境でも MPI によるパラメータ並列での実行が可能です．"
     ]
    },
    {
     "cell_type": "markdown",
     "metadata": {},
     "source": [
      "## ローカルアップデート \n",
      "\n",
      "はじめにローカルアップデートによるシミュレーションを実行します．"
     ]
    },
    {
     "cell_type": "markdown",
     "metadata": {},
     "source": [
      "### コマンドラインでのシミュレーションの起動と実行\n",
      "\n",
      "まず入力用の XML ファイルを作成する必要がありますが，XML ファイルそのものを人間が手で書くのは面倒なので，人間が書きやすい **パラメータファイル** を作り，それを ALPS のユーティリティプログラムを使って XML に変換します．パラメータファイルはパラメータの名前とその値を書き並べただけの単純な書式になっています．\n",
      "\n",
      "最初にパラメータファイル [mc01a_1](mc01a_1) を作成します。"
     ]
    },
    {
     "cell_type": "raw",
     "metadata": {},
     "source": [
      "LATTICE=\"square lattice\"\n",
      "T=2.269186\n",
      "J=1\n",
      "THERMALIZATION=10000\n",
      "SWEEPS=50000  \n",
      "UPDATE=\"local\"\n",
      "MODEL=\"Ising\"\n",
      "{L=2;}\n",
      "{L=4;}\n",
      "{L=8;}\n",
      "{L=16;}\n",
      "{L=32;}\n",
      "{L=48;}"
     ]
    },
    {
     "cell_type": "markdown",
     "metadata": {},
     "source": [
      "シミュレーションを実行するにはこのパラメータファイルを XML 形式のジョブファイルへ変換する必要があります。次のようにタイプします。"
     ]
    },
    {
     "cell_type": "code",
     "collapsed": false,
     "input": [
      "%%bash\n",
      "parameter2xml mc01a_1"
     ],
     "language": "python",
     "metadata": {},
     "outputs": []
    },
    {
     "cell_type": "markdown",
     "metadata": {},
     "source": [
      "それぞれの格子サイズ $L$ 毎に 6 種類のタスクファイルと各タスクについて制御する mc01a1_1.in.xml が生成されます。\n",
      "ファイルの中身をを Web ブラウザーを用いて確認してみてください。"
     ]
    },
    {
     "cell_type": "markdown",
     "metadata": {},
     "source": [
      "シングルプロセスでの実行は次のようにします。"
     ]
    },
    {
     "cell_type": "code",
     "collapsed": false,
     "input": [
      "%%bash\n",
      "spinmc --Tmin 10 --write-xml mc01a_1.in.xml"
     ],
     "language": "python",
     "metadata": {},
     "outputs": []
    },
    {
     "cell_type": "markdown",
     "metadata": {},
     "source": [
      "MPIを用いた並列実行では、次のように指定します。（例では8並列）"
     ]
    },
    {
     "cell_type": "code",
     "collapsed": false,
     "input": [
      "%%bash\n",
      "mpirun -np 8 spinmc --mpi  --Tmin 10 --write-xml mc01a_1.in.xml "
     ],
     "language": "python",
     "metadata": {},
     "outputs": []
    },
    {
     "cell_type": "markdown",
     "metadata": {},
     "source": [
      "上記コマンド例の引数にある\"Tmin 10\"はシミュレーションが終了したかどうか 10 秒毎に確認する設定です。"
     ]
    },
    {
     "cell_type": "markdown",
     "metadata": {},
     "source": [
      "計算が途中で中断した場合（Ctrl-CやCPUリミット時間による計算の強制終了など）、次のように XMLoutput ファイルを使用して、計算の再開が可能です。"
     ]
    },
    {
     "cell_type": "code",
     "collapsed": false,
     "input": [
      "%%bash\n",
      "spinmc --Tmin 10 --write-xml mc01a_1.out.xml"
     ],
     "language": "python",
     "metadata": {},
     "outputs": []
    },
    {
     "cell_type": "markdown",
     "metadata": {},
     "source": [
      "\"--write-xml\" は計算結果をXMLファイルに格納するオプションです。上記の計算の場合、mc01a_1.task[1-5].out.xmlにそれぞれ出力されます。次のようにfirefoxなどのブラウザを用いて計算結果を確認することができます。また、convert2textコマンド でXML 形式からテキストへ変換ができます。"
     ]
    },
    {
     "cell_type": "code",
     "collapsed": false,
     "input": [
      "%%bash\n",
      "firefox ./mc01a_1.task1.out.xml\n",
      "convert2text mc01a_1.task1.out.xml"
     ],
     "language": "python",
     "metadata": {},
     "outputs": []
    },
    {
     "cell_type": "markdown",
     "metadata": {},
     "source": [
      "計算結果は例として mc01a_1.task1.out.xmlに出力され、様々な方法で中身を確認することができます。\n",
      "\n",
      "* Linux:<tt> firefox ./mc01a_1.task1.out.xml </tt>\n",
      "* MacOS:<tt> open -a safari mc01a_1.task1.out.xml</tt>\n",
      "* Windows:<tt>\"C:\\Program Files\\Internet Explorer\\iexplore.exe\" mc01a_1.task1.out.xml</tt>\n",
      "* テキスト (Linux or MacOS): <tt>convert2text mc01a_1.task1.out.xml</tt>"
     ]
    },
    {
     "cell_type": "markdown",
     "metadata": {},
     "source": [
      "多くの計算や大規模な計算をおこなう場合は、XMLファイルへの書き込みに膨大な時間を要することがあります。ALPSでは計算結果をバイナリ(HDF5形式)で出力させることも可能です。"
     ]
    },
    {
     "cell_type": "markdown",
     "metadata": {},
     "source": [
      "例えば収束エラー等の詳細情報を取得するには、次のように入力し、実行タスクファイル(mc01a_1.task[1-6].out.run1)をXMLファイルに変換することができます。"
     ]
    },
    {
     "cell_type": "code",
     "collapsed": false,
     "input": [
      "%%bash\n",
      "convert2xml mc01a_1.task*.out.run1"
     ],
     "language": "python",
     "metadata": {},
     "outputs": []
    },
    {
     "cell_type": "markdown",
     "metadata": {},
     "source": [
      "XML出力ファイル(mc01a_1.task[1-6].out.run1.xml)が得られます。ブラウザやテキストに変換(convert2text利用)して確認してください。\n",
      "\n",
      "6つのタスクファイル(mc01a_1.task[1-6].out.run1.xml)のうち，大きな格子での結果をみると、収束しないことがわかります。結果を図示するには、以下のPython のツールを利用することをお勧めします。"
     ]
    },
    {
     "cell_type": "markdown",
     "metadata": {},
     "source": [
      "次に ``spinmc_evaluate`` モジュールを用いて熱力学的観測値などに関する様々な物理量を求めます。シミュレーションで得られた結果を解析し、出力結果を XMLファイルとして生成します。\n",
      "出力結果を格納したファイルは、上書きされますので注意してください。"
     ]
    },
    {
     "cell_type": "code",
     "collapsed": false,
     "input": [
      "%%bash\n",
      "spinmc_evaluate --write-xml mc01a_1.task[1-6].out.xml"
     ],
     "language": "python",
     "metadata": {},
     "outputs": []
    },
    {
     "cell_type": "markdown",
     "metadata": {},
     "source": [
      "spinmc_evaluateによって得られる物理量は次の通りです。\n",
      "\n",
      "* Binder Cumulant\n",
      "* Binder Cumulant U2\n",
      "* Binder Cumulant slope\n",
      "* Connected Susceptibility\n",
      "* Magnetization^2 slope\n",
      "* Magnetization^4 slope\n",
      "* Specific Heat"
     ]
    },
    {
     "cell_type": "markdown",
     "metadata": {},
     "source": [
      "シミュレーション出力ファイルには、全計算がおこなわれた後の計算結果がだけが格納されています。ここのモンテカルロステップでの計算の詳細は、各チェックポイント情報を格納しているチェックポイントファイルをXML形式に変換することによって知ることが可能です。convert2xmlツールを次のように使用します。"
     ]
    },
    {
     "cell_type": "code",
     "collapsed": false,
     "input": [
      "%%bash\n",
      "convert2xml mc01a_1.task[1-6].out.run1"
     ],
     "language": "python",
     "metadata": {},
     "outputs": []
    },
    {
     "cell_type": "markdown",
     "metadata": {},
     "source": [
      "この操作によってモンテカルロ計算から摘出された情報を含む、XML形式のタスクファイル mc01a_1.task[1-6].out.run.xmlが生成されます。"
     ]
    },
    {
     "cell_type": "markdown",
     "metadata": {},
     "source": [
      "物理量の可視化をしたい場合は、後述する Python 解析ツールを利用してください。"
     ]
    },
    {
     "cell_type": "markdown",
     "metadata": {},
     "source": [
      "### Pythonでのシミュレーションの起動と実行 \n",
      "\n",
      "Pythonを用いたシミュレーションの実行は、スクリプト[tutorial_mc01a_1.py](tutorial_mc01a_1.py) を使用します。スクリプトの最初の部分は計算モデルや、入力ファイルのインポートをおこないます。\n",
      "実行手順はコマンドラインから実行する場合と基本的に同じです．入力 XML ファイルを作成し，シミュレーションを実行します．\n",
      "\n",
      "Python を使う利点は，複数のパラメータを変化させるような複雑な入力ファイルを作成しやすいこと，それに実行結果を解析したり可視化するツールが揃っているところです．，"
     ]
    },
    {
     "cell_type": "code",
     "collapsed": false,
     "input": [
      "import pyalps\n",
      "import pyalps.plot\n",
      "import matplotlib.pyplot as plt"
     ],
     "language": "python",
     "metadata": {},
     "outputs": []
    },
    {
     "cell_type": "markdown",
     "metadata": {},
     "source": [
      "Terminal 上で IPython を実行する場合，次のコマンドも実行してください．\n",
      "コマンドの実行結果がグラフに即時に反映されるので，コマンドの実行結果を確認しながらグラフを作成できます．"
     ]
    },
    {
     "cell_type": "code",
     "collapsed": false,
     "input": [
      "# plt.ion()"
     ],
     "language": "python",
     "metadata": {},
     "outputs": []
    },
    {
     "cell_type": "markdown",
     "metadata": {},
     "source": [
      "Python で入力 XML ファイルを作成する方法を 2 通り紹介します．\n",
      "1つ目はコマンドラインと同様にパラメータファイルから XML を作成する方法です．\n",
      "2つ目は Python の辞書型のデータから XML を作成する方法です．"
     ]
    },
    {
     "cell_type": "markdown",
     "metadata": {},
     "source": [
      "**パラメータファイルから入力 XML ファイルを作成する方法**\n",
      "\n",
      "あらかじめパラメータファイルが準備してある場合はこちらの方法が簡単に XML を作成できます．"
     ]
    },
    {
     "cell_type": "code",
     "collapsed": false,
     "input": [
      "input_file = pyalps.convert2xml('mc01a_1')"
     ],
     "language": "python",
     "metadata": {},
     "outputs": []
    },
    {
     "cell_type": "markdown",
     "metadata": {},
     "source": [
      "**辞書型データから入力 XML ファイルを作成する方法**\n",
      "\n",
      "たくさんのパラメータセットを扱う場合に向いています．\n",
      "今回扱うのパラメータは一度に `L` しか変化させませんが，例えば `L` と `T` 2 つのパラメータを動かす場合，パラメータセットの数が多くなってしまい手書きでパラメータファイルを準備するのは大変です．\n",
      "\n",
      "パラメータセットを辞書型で定義し，それ使って `pyalps.writeInputFiles` により XML を生成する，という手順です．"
     ]
    },
    {
     "cell_type": "code",
     "collapsed": false,
     "input": [
      "parms = []\n",
      "for l in [2,4,8,16,32,48]:\n",
      "    parms.append(\n",
      "        {\n",
      "         'LATTICE'        : \"square lattice\",\n",
      "         'T'              : 2.269186,\n",
      "         'J'              : 1 ,\n",
      "         'THERMALIZATION' : 10000,\n",
      "         'SWEEPS'         : 50000,\n",
      "         'UPDATE'         : \"local\",\n",
      "         'MODEL'          : \"Ising\",\n",
      "         'L'              : l\n",
      "        }\n",
      "    )\n",
      "input_file = pyalps.writeInputFiles('mc01a_1',parms)"
     ],
     "language": "python",
     "metadata": {},
     "outputs": []
    },
    {
     "cell_type": "markdown",
     "metadata": {},
     "source": [
      "**計算を実行**"
     ]
    },
    {
     "cell_type": "markdown",
     "metadata": {},
     "source": [
      "シングルプロセスで実行する場合は次のようになります．"
     ]
    },
    {
     "cell_type": "code",
     "collapsed": false,
     "input": [
      "pyalps.runApplication('spinmc',input_file,Tmin=5,writexml=True)"
     ],
     "language": "python",
     "metadata": {},
     "outputs": []
    },
    {
     "cell_type": "markdown",
     "metadata": {},
     "source": [
      "MPI によるパラメータ並列で実行するにはプロセス数を指定してください．\n",
      "MPI の実行コマンドが ``mpirun`` ではないとき，例えば ``mpiexec`` の場合などは明示的にそれを指定してください．"
     ]
    },
    {
     "cell_type": "code",
     "collapsed": false,
     "input": [
      "pyalps.runApplication('spinmc',input_file,Tmin=5,writexml=True, MPI=4, mpirun='mpirun')"
     ],
     "language": "python",
     "metadata": {},
     "outputs": []
    },
    {
     "cell_type": "markdown",
     "metadata": {},
     "source": [
      "``writexml=True``は、計算結果をXMLファイルに出力させるオプションです。``spinmc`` は計算アプリケーションの名称、``input_file`` は入力ファイルへのパス、``Tmin=5`` はチェックポイントを採取する時間間隔（秒）になります。"
     ]
    },
    {
     "cell_type": "markdown",
     "metadata": {},
     "source": [
      "出力ファイルから得られる磁化値のビニング解析は次のように指定します。"
     ]
    },
    {
     "cell_type": "code",
     "collapsed": false,
     "input": [
      "binning = pyalps.loadBinningAnalysis(pyalps.getResultFiles(prefix='mc01a_1'),'|Magnetization|')"
     ],
     "language": "python",
     "metadata": {},
     "outputs": []
    },
    {
     "cell_type": "code",
     "collapsed": false,
     "input": [
      "binning = pyalps.flatten(binning)"
     ],
     "language": "python",
     "metadata": {},
     "outputs": []
    },
    {
     "cell_type": "markdown",
     "metadata": {},
     "source": [
      "プロットのために、各データにラベリングをおこないます。"
     ]
    },
    {
     "cell_type": "code",
     "collapsed": false,
     "input": [
      "for dataset in binning:\n",
      "    dataset.props['label'] = 'L=' + str(dataset.props['L'])"
     ],
     "language": "python",
     "metadata": {},
     "outputs": []
    },
    {
     "cell_type": "markdown",
     "metadata": {},
     "source": [
      "最終的に、ビニング解析の結果が図示されます。"
     ]
    },
    {
     "cell_type": "code",
     "collapsed": false,
     "input": [
      "plt.figure()\n",
      "plt.xlabel('binning level')\n",
      "plt.ylabel('Error of |Magnetization|')\n",
      "pyalps.plot.plot(binning)\n",
      "plt.legend()\n",
      "plt.show()"
     ],
     "language": "python",
     "metadata": {},
     "outputs": []
    },
    {
     "cell_type": "markdown",
     "metadata": {},
     "source": [
      "上では `pyalps.plot.plot` 使ってプロットしましたが，`matplotlib.pyplot.plot` を使ってプロットすることも可能です．"
     ]
    },
    {
     "cell_type": "code",
     "collapsed": false,
     "input": [
      "colors = ['k', 'b', 'g', 'm', 'c', 'y']\n",
      "\n",
      "for i,b in enumerate(binning):\n",
      "    plt.plot(b.x, b.y, linestyle='None', marker='o', mfc=colors[i], label=b.props['L'])\n",
      "\n",
      "plt.legend(numpoints=1)\n",
      "plt.show()"
     ],
     "language": "python",
     "metadata": {},
     "outputs": []
    },
    {
     "cell_type": "markdown",
     "metadata": {},
     "source": [
      "各システムサイズ毎にプロットするために、全データについて繰り返し処理をおこないます。"
     ]
    },
    {
     "cell_type": "code",
     "collapsed": false,
     "input": [
      "for dataset in binning:\n",
      "    plt.figure()\n",
      "    plt.title('Binning analysis for L=' + str(dataset.props['L']))\n",
      "    plt.xlabel('binning level')\n",
      "    plt.ylabel('Error of |Magnetization|')\n",
      "    pyalps.plot.plot(dataset)\n",
      "\n",
      "plt.show()"
     ],
     "language": "python",
     "metadata": {},
     "outputs": []
    },
    {
     "cell_type": "markdown",
     "metadata": {},
     "source": [
      "最終的に、大きいサイズで収束しないことが明確に図示されます。"
     ]
    },
    {
     "cell_type": "markdown",
     "metadata": {},
     "source": [
      "##  クラスターアップデート \n",
      "\n",
      "ローカルアップデートで利用したパラメータファイルのうち \"UPDATE\" の値を \"cluster\" に書き換えるだけでクラスターアップデートによるシミュレーションが実行できます．\n",
      "また，クラスターアップデートはローカルアップデートよりも収束が早いことが期待されるので THERMALIZATION と SWEEPS の回数を少なく設定してみます．"
     ]
    },
    {
     "cell_type": "raw",
     "metadata": {},
     "source": [
      "THERMALIZATION 1000\n",
      "SWEEPS  100000  \n",
      "UPDATE \"cluster\""
     ]
    },
    {
     "cell_type": "markdown",
     "metadata": {},
     "source": [
      "計算を実行するには、次のいずれかの方法で、上記の同様の手順に従ってください。\n",
      "* コマンドラインでの入力ファイル[mc01a_2](mc01a_2)\n",
      "* Pythonスクリプト[tutorial_mc01a_2.py](tutorial_mc01a_2.py)"
     ]
    },
    {
     "cell_type": "markdown",
     "metadata": {},
     "source": [
      "次のような曲線の図が得られます。"
     ]
    },
    {
     "cell_type": "markdown",
     "metadata": {},
     "source": [
      "##  設問\n",
      "\n",
      "* エラーは収束されていますか？（上記に述べたように実行ファイルを確認してみてください。）\n",
      "* なぜ自己相関時間が長いとエラーの収束が遅くなるか説明できますか？\n",
      "* 自己相関時間はどのようなシステムパラメータに依存しますか？入力ファイルのパラメータを確認してみてください。\n",
      "* なぜクラスタアップデートの方がローカルアップデートよりも効率できか説明できますか？"
     ]
    },
    {
     "cell_type": "markdown",
     "metadata": {},
     "source": [
      "&copy; 2003-2010 by Simon Trebst, Fabien Alet, Matthias Troyer, Synge Todo, and Emanuel Gul"
     ]
    }
   ],
   "metadata": {}
  }
 ]
}