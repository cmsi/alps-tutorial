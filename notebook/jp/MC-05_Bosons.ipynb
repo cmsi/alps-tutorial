{
 "metadata": {
  "name": "", 
  "signature": "sha256:a9e791700c6054542dbbb504e895c16054a54ef4119da6f3c17ecc9584fc8d19"
 }, 
 "nbformat": 3, 
 "nbformat_minor": 0, 
 "worksheets": [
  {
   "cells": [
    {
     "cell_type": "markdown", 
     "metadata": {}, 
     "source": [
      "# ALPS 2 Tutorials: MC-05 Bosons\n", 
      "\n", 
      "#  Bose-Hubbardモデルでの量子相転移 \n", 
      "\n", 
      "このチュートリアルでは、ワーム QMC コードを用いた Bose-Hubbard モデルでの量子相転移計算方法を紹介します。\n", 
      "\n", 
      "## Bose-Hubbardモデルでの超流動密度\n", 
      "### コマンドラインでのシミュレーションの準備と実行\n", 
      "\n", 
      "パラメータファイル [mc05a](mc05a) は、Bose-Hubbard モデルの量子モンテカルロシミュレーションの設定をしています。  $4 \\times 4$ の正方格子、パラメータ $(t=0.01,0.02, ...0.1)$ でのワームアルゴリズムの使用を設定しています。"
     ]
    }, 
    {
     "cell_type": "raw", 
     "metadata": {}, 
     "source": [
      "LATTICE=\"square lattice\";\n", 
      "L=4;\n", 
      "MODEL=\"boson Hubbard\";\n", 
      "NONLOCAL=0;\n", 
      "U    = 1.0;\n", 
      "mu   = 0.5;\n", 
      "Nmax = 2;\n", 
      "T = 0.1;\n", 
      "SWEEPS=500000;\n", 
      "THERMALIZATION=10000;\n", 
      "{ t=0.01; }\n", 
      "{ t=0.02; }\n", 
      "{ t=0.03; }\n", 
      "{ t=0.04; }\n", 
      "{ t=0.05; }\n", 
      "{ t=0.06; }\n", 
      "{ t=0.07; }\n", 
      "{ t=0.08; }\n", 
      "{ t=0.09; }\n", 
      "{ t=0.1; }"
     ]
    }, 
    {
     "cell_type": "markdown", 
     "metadata": {}, 
     "source": [
      "以下の標準的な計算手順に従い、量子ワームコードを用いて計算することができます。"
     ]
    }, 
    {
     "cell_type": "code", 
     "collapsed": false, 
     "input": [
      "%%bash\n", 
      "parameter2xml mc05a\n", 
      "worm --Tmin 10 --write-xml mc05a.in.xml"
     ], 
     "language": "python", 
     "metadata": {}, 
     "outputs": []
    }, 
    {
     "cell_type": "markdown", 
     "metadata": {}, 
     "source": [
      "次に、`worm_evaluate` モジュールを用いて `Compressibility` (圧縮率)を求めます。シミュレーションで得られた結果を解析し、出力結果を XML ファイルとして生成します。"
     ]
    }, 
    {
     "cell_type": "code", 
     "collapsed": false, 
     "input": [
      "%%bash\n", 
      "worm_evaluate --write-xml mc05a.task[1-10].out.xml"
     ], 
     "language": "python", 
     "metadata": {}, 
     "outputs": []
    }, 
    {
     "cell_type": "markdown", 
     "metadata": {}, 
     "source": [
      "出力結果を格納したファイルは、上書きされますので注意してください。\n", 
      "\n", 
      "シミュレーション出力ファイルには、全計算がおこなわれた後の計算結果がだけが格納されています。ここのモンテカルロステップでの計算の詳細は、各チェックポイント情報を格納しているチェックポイントファイルを XML 形式に変換することによって知ることが可能です`。convert2xml` ツールを次のように使用します。"
     ]
    }, 
    {
     "cell_type": "code", 
     "collapsed": false, 
     "input": [
      "%%bash\n", 
      "convert2xml mc05a.task[1-10].out.run1"
     ], 
     "language": "python", 
     "metadata": {}, 
     "outputs": []
    }, 
    {
     "cell_type": "markdown", 
     "metadata": {}, 
     "source": [
      "この操作によってモンテカルロ計算から摘出された情報を含む、XML 形式のタスクファイル mc05a.task[1-10].out.run.xml が生成されます。"
     ]
    }, 
    {
     "cell_type": "markdown", 
     "metadata": {}, 
     "source": [
      "物理量に関するプロットをおこないたい場合は、後述する Python 解析ツールを利用してください。"
     ]
    }, 
    {
     "cell_type": "markdown", 
     "metadata": {}, 
     "source": [
      "### Pythonを使用したシミュレーションの準備と実行\n", 
      "\n", 
      "Python で計算の実行を設定します。Python スクリプト [tutorial_mc05a.py](tutorial_mc05a.py)を参照してください。"
     ]
    }, 
    {
     "cell_type": "code", 
     "collapsed": false, 
     "input": [
      "import pyalps\n", 
      "import matplotlib.pyplot as plt\n", 
      "import pyalps.plot\n", 
      "\n", 
      "parms = []\n", 
      "for t in [0.01, 0.02, 0.03, 0.04, 0.05, 0.06, 0.07, 0.08, 0.09, 0.1]:\n", 
      "    parms.append(\n", 
      "        { \n", 
      "          'LATTICE'        : \"square lattice\", \n", 
      "          'MODEL'          : \"boson Hubbard\",\n", 
      "          'T'              : 0.1,\n", 
      "          'L'              : 4 ,\n", 
      "          't'              : t ,\n", 
      "          'mu'             : 0.5,\n", 
      "          'U'              : 1.0 ,\n", 
      "          'NONLOCAL'       : 0 ,\n", 
      "          'Nmax'           : 2 ,\n", 
      "          'THERMALIZATION' : 10000,\n", 
      "          'SWEEPS'         : 500000\n", 
      "        }\n", 
      "    )"
     ], 
     "language": "python", 
     "metadata": {}, 
     "outputs": []
    }, 
    {
     "cell_type": "markdown", 
     "metadata": {}, 
     "source": [
      "次に、ジョブファイルを XML 形式に変換し、ワームシミュレーションを実行します。"
     ]
    }, 
    {
     "cell_type": "code", 
     "collapsed": false, 
     "input": [
      "input_file = pyalps.writeInputFiles('mc05a',parms)\n", 
      "res = pyalps.runApplication('worm',input_file,Tmin=5)"
     ], 
     "language": "python", 
     "metadata": {}, 
     "outputs": []
    }, 
    {
     "cell_type": "markdown", 
     "metadata": {}, 
     "source": [
      "コマンドラインでおこなった計算結果と同じ出力ファイルが得られます。"
     ]
    }, 
    {
     "cell_type": "markdown", 
     "metadata": {}, 
     "source": [
      "### Pythonを使用したシミュレーションの評価とプロット\n", 
      "\n", 
      "計算結果ファイルをロードし、`t` の関数としての `Stiffness` の情報を取得します。計算のロード、解析、プロットの手順はPython スクリプト [tutorial_mc05a.py](tutorial_mc05a.py) を参照してください。"
     ]
    }, 
    {
     "cell_type": "code", 
     "collapsed": false, 
     "input": [
      "data = pyalps.loadMeasurements(pyalps.getResultFiles(prefix='mc05a'),'Stiffness')\n", 
      "rhos = pyalps.collectXY(data, x='t', y='Stiffness')"
     ], 
     "language": "python", 
     "metadata": {}, 
     "outputs": []
    }, 
    {
     "cell_type": "markdown", 
     "metadata": {}, 
     "source": [
      "プロットには `pyalps.plot.plot` を使用します。適宜実用的なラベル、タイトル、Y軸の範囲を設定してください。"
     ]
    }, 
    {
     "cell_type": "code", 
     "collapsed": false, 
     "input": [
      "plt.figure()\n", 
      "pyalps.plot.plot(rhos)\n", 
      "plt.xlabel('Hopping $t/U$')\n", 
      "plt.ylabel('Superfluid density $\\\\rho_s$')\n", 
      "plt.show()"
     ], 
     "language": "python", 
     "metadata": {}, 
     "outputs": []
    }, 
    {
     "cell_type": "markdown", 
     "metadata": {}, 
     "source": [
      "### 設問\n", 
      "\n", 
      "* 相転移のサインは何でしょうか？"
     ]
    }, 
    {
     "cell_type": "markdown", 
     "metadata": {}, 
     "source": [
      "## モット絶縁体から超流動体への相転移 \n", 
      "\n", 
      "次に、相転移の箇所をより正確に求めるための計算方法を紹介します。様々なサイズの二次元正方行列を用います。`\\rho_s*L` を注視してください。\n", 
      "\n", 
      "### コマンドラインでのシミュレーションの準備と実行\n", 
      "\n", 
      "チュートリアルのパラメータファイル [mc05b](mc05b) です。このサンプルでは、$L=4,6,8$ のシステムサイズで相転移点を求めます。"
     ]
    }, 
    {
     "cell_type": "raw", 
     "metadata": {}, 
     "source": [
      "LATTICE=\"square lattice\";\n", 
      "MODEL=\"boson Hubbard\";\n", 
      "NONLOCAL=0;\n", 
      "U    = 1.0;\n", 
      "mu   = 0.5;\n", 
      "Nmax = 2;\n", 
      "T = 0.05;\n", 
      "SWEEPS=600000;\n", 
      "THERMALIZATION=150000;\n", 
      "{ L=4; t=0.045; }\n", 
      "{ L=4; t=0.05; }\n", 
      "{ L=4; t=0.0525; }\n", 
      "{ L=4; t=0.055; }\n", 
      "{ L=4; t=0.0575; }\n", 
      "{ L=4; t=0.06; }\n", 
      "{ L=4; t=0.065; }\n", 
      "{ L=6; t=0.045; }\n", 
      "{ L=6; t=0.05; }\n", 
      "{ L=6; t=0.0525; }\n", 
      "{ L=6; t=0.055; }\n", 
      "{ L=6; t=0.0575; }\n", 
      "{ L=6; t=0.06; }\n", 
      "{ L=6; t=0.065; }\n", 
      "{ L=8; t=0.045; }\n", 
      "{ L=8; t=0.05; }\n", 
      "{ L=8; t=0.0525; }\n", 
      "{ L=8; t=0.055; }\n", 
      "{ L=8; t=0.0575; }\n", 
      "{ L=8; t=0.06; }\n", 
      "{ L=8; t=0.065; }"
     ]
    }, 
    {
     "cell_type": "markdown", 
     "metadata": {}, 
     "source": [
      "計算を実行させ、Python を用いて結果解析します。"
     ]
    }, 
    {
     "cell_type": "code", 
     "collapsed": false, 
     "input": [
      "input_file = pyalps.writeInputFiles('mc05b',parms)\n", 
      "res = pyalps.runApplication('worm',input_file,Tmin=5)"
     ], 
     "language": "python", 
     "metadata": {}, 
     "outputs": []
    }, 
    {
     "cell_type": "markdown", 
     "metadata": {}, 
     "source": [
      "### Pythonを使用したシミュレーションの準備と実行と結果解析\n", 
      "\n", 
      "Python で計算の実行を設定します。Python スクリプト[tutorial_mc05b.py](tutorial_mc05b.py)を参照してください。最初に、超流動密度(Stiffness)を異なる３つのデータセットにロードします。各サイズは $L$ です。"
     ]
    }, 
    {
     "cell_type": "code", 
     "collapsed": false, 
     "input": [
      "data = pyalps.loadMeasurements(pyalps.getResultFiles(prefix='mc05b'),'Stiffness')\n", 
      "rhos = pyalps.collectXY(data,x='t',y='Stiffness',foreach=['L'])"
     ], 
     "language": "python", 
     "metadata": {}, 
     "outputs": []
    }, 
    {
     "cell_type": "markdown", 
     "metadata": {}, 
     "source": [
      "次に、サイズ $L$ を各データにかけます。"
     ]
    }, 
    {
     "cell_type": "code", 
     "collapsed": false, 
     "input": [
      "for s in rhos:\n", 
      "    s.y = s.y * float(s.props['L'])"
     ], 
     "language": "python", 
     "metadata": {}, 
     "outputs": []
    }, 
    {
     "cell_type": "markdown", 
     "metadata": {}, 
     "source": [
      "最後に、次の手順でプロットします。"
     ]
    }, 
    {
     "cell_type": "code", 
     "collapsed": false, 
     "input": [
      "plt.figure()\n", 
      "pyalps.plot.plot(rhos)\n", 
      "plt.xlabel('Hopping $t/U$')\n", 
      "plt.ylabel('$\\\\rho_sL$')\n", 
      "plt.legend()\n", 
      "plt.title('Scaling plot for Bose-Hubbard model')\n", 
      "plt.show()"
     ], 
     "language": "python", 
     "metadata": {}, 
     "outputs": []
    }, 
    {
     "cell_type": "markdown", 
     "metadata": {}, 
     "source": [
      "###  質疑 \n", 
      "\n", 
      "* 熱力学的極限において量子相転移点どのように決定しましたか？\n", 
      "* ヒント）superfluid stiffness の計算結果にシステムサイズ $L$ を乗算してみてください。\n", 
      "* $(t/U)c=0.05974$ の厳密解と比較してみてください。\n", 
      "* なぜモンテカルロ計算では臨界点を過大評価するのでしょうか？"
     ]
    }, 
    {
     "cell_type": "markdown", 
     "metadata": {}, 
     "source": [
      "&copy; 2003-2010 by Simon Trebst, Synge Todo and Matthias Troye"
     ]
    }
   ], 
   "metadata": {}
  }
 ]
}