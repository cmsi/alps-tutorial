{
 "metadata": {
  "name": "",
  "signature": "sha256:a9e791700c6054542dbbb504e895c16054a54ef4119da6f3c17ecc9584fc8d19"
 },
 "nbformat": 3,
 "nbformat_minor": 0,
 "worksheets": [
  {
   "cells": [
    {
     "cell_type": "markdown",
     "metadata": {},
     "source": [
      "# ALPS 2 Tutorials: MC-05 Bosons\n",
      "\n",
      "#  Bose-Hubbard\u30e2\u30c7\u30eb\u3067\u306e\u91cf\u5b50\u76f8\u8ee2\u79fb \n",
      "\n",
      "\u3053\u306e\u30c1\u30e5\u30fc\u30c8\u30ea\u30a2\u30eb\u3067\u306f\u3001\u30ef\u30fc\u30e0 QMC \u30b3\u30fc\u30c9\u3092\u7528\u3044\u305f Bose-Hubbard \u30e2\u30c7\u30eb\u3067\u306e\u91cf\u5b50\u76f8\u8ee2\u79fb\u8a08\u7b97\u65b9\u6cd5\u3092\u7d39\u4ecb\u3057\u307e\u3059\u3002\n",
      "\n",
      "## Bose-Hubbard\u30e2\u30c7\u30eb\u3067\u306e\u8d85\u6d41\u52d5\u5bc6\u5ea6\n",
      "### \u30b3\u30de\u30f3\u30c9\u30e9\u30a4\u30f3\u3067\u306e\u30b7\u30df\u30e5\u30ec\u30fc\u30b7\u30e7\u30f3\u306e\u6e96\u5099\u3068\u5b9f\u884c\n",
      "\n",
      "\u30d1\u30e9\u30e1\u30fc\u30bf\u30d5\u30a1\u30a4\u30eb [mc05a](mc05a) \u306f\u3001Bose-Hubbard \u30e2\u30c7\u30eb\u306e\u91cf\u5b50\u30e2\u30f3\u30c6\u30ab\u30eb\u30ed\u30b7\u30df\u30e5\u30ec\u30fc\u30b7\u30e7\u30f3\u306e\u8a2d\u5b9a\u3092\u3057\u3066\u3044\u307e\u3059\u3002  $4 \\times 4$ \u306e\u6b63\u65b9\u683c\u5b50\u3001\u30d1\u30e9\u30e1\u30fc\u30bf $(t=0.01,0.02, ...0.1)$ \u3067\u306e\u30ef\u30fc\u30e0\u30a2\u30eb\u30b4\u30ea\u30ba\u30e0\u306e\u4f7f\u7528\u3092\u8a2d\u5b9a\u3057\u3066\u3044\u307e\u3059\u3002"
     ]
    },
    {
     "cell_type": "raw",
     "metadata": {},
     "source": [
      "LATTICE=\"square lattice\";\n",
      "L=4;\n",
      "MODEL=\"boson Hubbard\";\n",
      "NONLOCAL=0;\n",
      "U    = 1.0;\n",
      "mu   = 0.5;\n",
      "Nmax = 2;\n",
      "T = 0.1;\n",
      "SWEEPS=500000;\n",
      "THERMALIZATION=10000;\n",
      "{ t=0.01; }\n",
      "{ t=0.02; }\n",
      "{ t=0.03; }\n",
      "{ t=0.04; }\n",
      "{ t=0.05; }\n",
      "{ t=0.06; }\n",
      "{ t=0.07; }\n",
      "{ t=0.08; }\n",
      "{ t=0.09; }\n",
      "{ t=0.1; }"
     ]
    },
    {
     "cell_type": "markdown",
     "metadata": {},
     "source": [
      "\u4ee5\u4e0b\u306e\u6a19\u6e96\u7684\u306a\u8a08\u7b97\u624b\u9806\u306b\u5f93\u3044\u3001\u91cf\u5b50\u30ef\u30fc\u30e0\u30b3\u30fc\u30c9\u3092\u7528\u3044\u3066\u8a08\u7b97\u3059\u308b\u3053\u3068\u304c\u3067\u304d\u307e\u3059\u3002"
     ]
    },
    {
     "cell_type": "code",
     "collapsed": false,
     "input": [
      "%%bash\n",
      "parameter2xml mc05a\n",
      "worm --Tmin 10 --write-xml mc05a.in.xml"
     ],
     "language": "python",
     "metadata": {},
     "outputs": []
    },
    {
     "cell_type": "markdown",
     "metadata": {},
     "source": [
      "\u6b21\u306b\u3001`worm_evaluate` \u30e2\u30b8\u30e5\u30fc\u30eb\u3092\u7528\u3044\u3066 `Compressibility` (\u5727\u7e2e\u7387)\u3092\u6c42\u3081\u307e\u3059\u3002\u30b7\u30df\u30e5\u30ec\u30fc\u30b7\u30e7\u30f3\u3067\u5f97\u3089\u308c\u305f\u7d50\u679c\u3092\u89e3\u6790\u3057\u3001\u51fa\u529b\u7d50\u679c\u3092 XML \u30d5\u30a1\u30a4\u30eb\u3068\u3057\u3066\u751f\u6210\u3057\u307e\u3059\u3002"
     ]
    },
    {
     "cell_type": "code",
     "collapsed": false,
     "input": [
      "%%bash\n",
      "worm_evaluate --write-xml mc05a.task[1-10].out.xml"
     ],
     "language": "python",
     "metadata": {},
     "outputs": []
    },
    {
     "cell_type": "markdown",
     "metadata": {},
     "source": [
      "\u51fa\u529b\u7d50\u679c\u3092\u683c\u7d0d\u3057\u305f\u30d5\u30a1\u30a4\u30eb\u306f\u3001\u4e0a\u66f8\u304d\u3055\u308c\u307e\u3059\u306e\u3067\u6ce8\u610f\u3057\u3066\u304f\u3060\u3055\u3044\u3002\n",
      "\n",
      "\u30b7\u30df\u30e5\u30ec\u30fc\u30b7\u30e7\u30f3\u51fa\u529b\u30d5\u30a1\u30a4\u30eb\u306b\u306f\u3001\u5168\u8a08\u7b97\u304c\u304a\u3053\u306a\u308f\u308c\u305f\u5f8c\u306e\u8a08\u7b97\u7d50\u679c\u304c\u3060\u3051\u304c\u683c\u7d0d\u3055\u308c\u3066\u3044\u307e\u3059\u3002\u3053\u3053\u306e\u30e2\u30f3\u30c6\u30ab\u30eb\u30ed\u30b9\u30c6\u30c3\u30d7\u3067\u306e\u8a08\u7b97\u306e\u8a73\u7d30\u306f\u3001\u5404\u30c1\u30a7\u30c3\u30af\u30dd\u30a4\u30f3\u30c8\u60c5\u5831\u3092\u683c\u7d0d\u3057\u3066\u3044\u308b\u30c1\u30a7\u30c3\u30af\u30dd\u30a4\u30f3\u30c8\u30d5\u30a1\u30a4\u30eb\u3092 XML \u5f62\u5f0f\u306b\u5909\u63db\u3059\u308b\u3053\u3068\u306b\u3088\u3063\u3066\u77e5\u308b\u3053\u3068\u304c\u53ef\u80fd\u3067\u3059`\u3002convert2xml` \u30c4\u30fc\u30eb\u3092\u6b21\u306e\u3088\u3046\u306b\u4f7f\u7528\u3057\u307e\u3059\u3002"
     ]
    },
    {
     "cell_type": "code",
     "collapsed": false,
     "input": [
      "%%bash\n",
      "convert2xml mc05a.task[1-10].out.run1"
     ],
     "language": "python",
     "metadata": {},
     "outputs": []
    },
    {
     "cell_type": "markdown",
     "metadata": {},
     "source": [
      "\u3053\u306e\u64cd\u4f5c\u306b\u3088\u3063\u3066\u30e2\u30f3\u30c6\u30ab\u30eb\u30ed\u8a08\u7b97\u304b\u3089\u6458\u51fa\u3055\u308c\u305f\u60c5\u5831\u3092\u542b\u3080\u3001XML \u5f62\u5f0f\u306e\u30bf\u30b9\u30af\u30d5\u30a1\u30a4\u30eb mc05a.task[1-10].out.run.xml \u304c\u751f\u6210\u3055\u308c\u307e\u3059\u3002"
     ]
    },
    {
     "cell_type": "markdown",
     "metadata": {},
     "source": [
      "\u7269\u7406\u91cf\u306b\u95a2\u3059\u308b\u30d7\u30ed\u30c3\u30c8\u3092\u304a\u3053\u306a\u3044\u305f\u3044\u5834\u5408\u306f\u3001\u5f8c\u8ff0\u3059\u308b Python \u89e3\u6790\u30c4\u30fc\u30eb\u3092\u5229\u7528\u3057\u3066\u304f\u3060\u3055\u3044\u3002"
     ]
    },
    {
     "cell_type": "markdown",
     "metadata": {},
     "source": [
      "### Python\u3092\u4f7f\u7528\u3057\u305f\u30b7\u30df\u30e5\u30ec\u30fc\u30b7\u30e7\u30f3\u306e\u6e96\u5099\u3068\u5b9f\u884c\n",
      "\n",
      "Python \u3067\u8a08\u7b97\u306e\u5b9f\u884c\u3092\u8a2d\u5b9a\u3057\u307e\u3059\u3002Python \u30b9\u30af\u30ea\u30d7\u30c8 [tutorial_mc05a.py](tutorial_mc05a.py)\u3092\u53c2\u7167\u3057\u3066\u304f\u3060\u3055\u3044\u3002"
     ]
    },
    {
     "cell_type": "code",
     "collapsed": false,
     "input": [
      "import pyalps\n",
      "import matplotlib.pyplot as plt\n",
      "import pyalps.plot\n",
      "\n",
      "parms = []\n",
      "for t in [0.01, 0.02, 0.03, 0.04, 0.05, 0.06, 0.07, 0.08, 0.09, 0.1]:\n",
      "    parms.append(\n",
      "        { \n",
      "          'LATTICE'        : \"square lattice\", \n",
      "          'MODEL'          : \"boson Hubbard\",\n",
      "          'T'              : 0.1,\n",
      "          'L'              : 4 ,\n",
      "          't'              : t ,\n",
      "          'mu'             : 0.5,\n",
      "          'U'              : 1.0 ,\n",
      "          'NONLOCAL'       : 0 ,\n",
      "          'Nmax'           : 2 ,\n",
      "          'THERMALIZATION' : 10000,\n",
      "          'SWEEPS'         : 500000\n",
      "        }\n",
      "    )"
     ],
     "language": "python",
     "metadata": {},
     "outputs": []
    },
    {
     "cell_type": "markdown",
     "metadata": {},
     "source": [
      "\u6b21\u306b\u3001\u30b8\u30e7\u30d6\u30d5\u30a1\u30a4\u30eb\u3092 XML \u5f62\u5f0f\u306b\u5909\u63db\u3057\u3001\u30ef\u30fc\u30e0\u30b7\u30df\u30e5\u30ec\u30fc\u30b7\u30e7\u30f3\u3092\u5b9f\u884c\u3057\u307e\u3059\u3002"
     ]
    },
    {
     "cell_type": "code",
     "collapsed": false,
     "input": [
      "input_file = pyalps.writeInputFiles('mc05a',parms)\n",
      "res = pyalps.runApplication('worm',input_file,Tmin=5)"
     ],
     "language": "python",
     "metadata": {},
     "outputs": []
    },
    {
     "cell_type": "markdown",
     "metadata": {},
     "source": [
      "\u30b3\u30de\u30f3\u30c9\u30e9\u30a4\u30f3\u3067\u304a\u3053\u306a\u3063\u305f\u8a08\u7b97\u7d50\u679c\u3068\u540c\u3058\u51fa\u529b\u30d5\u30a1\u30a4\u30eb\u304c\u5f97\u3089\u308c\u307e\u3059\u3002"
     ]
    },
    {
     "cell_type": "markdown",
     "metadata": {},
     "source": [
      "### Python\u3092\u4f7f\u7528\u3057\u305f\u30b7\u30df\u30e5\u30ec\u30fc\u30b7\u30e7\u30f3\u306e\u8a55\u4fa1\u3068\u30d7\u30ed\u30c3\u30c8\n",
      "\n",
      "\u8a08\u7b97\u7d50\u679c\u30d5\u30a1\u30a4\u30eb\u3092\u30ed\u30fc\u30c9\u3057\u3001`t` \u306e\u95a2\u6570\u3068\u3057\u3066\u306e `Stiffness` \u306e\u60c5\u5831\u3092\u53d6\u5f97\u3057\u307e\u3059\u3002\u8a08\u7b97\u306e\u30ed\u30fc\u30c9\u3001\u89e3\u6790\u3001\u30d7\u30ed\u30c3\u30c8\u306e\u624b\u9806\u306fPython \u30b9\u30af\u30ea\u30d7\u30c8 [tutorial_mc05a.py](tutorial_mc05a.py) \u3092\u53c2\u7167\u3057\u3066\u304f\u3060\u3055\u3044\u3002"
     ]
    },
    {
     "cell_type": "code",
     "collapsed": false,
     "input": [
      "data = pyalps.loadMeasurements(pyalps.getResultFiles(prefix='mc05a'),'Stiffness')\n",
      "rhos = pyalps.collectXY(data, x='t', y='Stiffness')"
     ],
     "language": "python",
     "metadata": {},
     "outputs": []
    },
    {
     "cell_type": "markdown",
     "metadata": {},
     "source": [
      "\u30d7\u30ed\u30c3\u30c8\u306b\u306f `pyalps.plot.plot` \u3092\u4f7f\u7528\u3057\u307e\u3059\u3002\u9069\u5b9c\u5b9f\u7528\u7684\u306a\u30e9\u30d9\u30eb\u3001\u30bf\u30a4\u30c8\u30eb\u3001Y\u8ef8\u306e\u7bc4\u56f2\u3092\u8a2d\u5b9a\u3057\u3066\u304f\u3060\u3055\u3044\u3002"
     ]
    },
    {
     "cell_type": "code",
     "collapsed": false,
     "input": [
      "plt.figure()\n",
      "pyalps.plot.plot(rhos)\n",
      "plt.xlabel('Hopping $t/U$')\n",
      "plt.ylabel('Superfluid density $\\\\rho_s$')\n",
      "plt.show()"
     ],
     "language": "python",
     "metadata": {},
     "outputs": []
    },
    {
     "cell_type": "markdown",
     "metadata": {},
     "source": [
      "### \u8a2d\u554f\n",
      "\n",
      "* \u76f8\u8ee2\u79fb\u306e\u30b5\u30a4\u30f3\u306f\u4f55\u3067\u3057\u3087\u3046\u304b\uff1f"
     ]
    },
    {
     "cell_type": "markdown",
     "metadata": {},
     "source": [
      "## \u30e2\u30c3\u30c8\u7d76\u7e01\u4f53\u304b\u3089\u8d85\u6d41\u52d5\u4f53\u3078\u306e\u76f8\u8ee2\u79fb \n",
      "\n",
      "\u6b21\u306b\u3001\u76f8\u8ee2\u79fb\u306e\u7b87\u6240\u3092\u3088\u308a\u6b63\u78ba\u306b\u6c42\u3081\u308b\u305f\u3081\u306e\u8a08\u7b97\u65b9\u6cd5\u3092\u7d39\u4ecb\u3057\u307e\u3059\u3002\u69d8\u3005\u306a\u30b5\u30a4\u30ba\u306e\u4e8c\u6b21\u5143\u6b63\u65b9\u884c\u5217\u3092\u7528\u3044\u307e\u3059\u3002`\\rho_s*L` \u3092\u6ce8\u8996\u3057\u3066\u304f\u3060\u3055\u3044\u3002\n",
      "\n",
      "### \u30b3\u30de\u30f3\u30c9\u30e9\u30a4\u30f3\u3067\u306e\u30b7\u30df\u30e5\u30ec\u30fc\u30b7\u30e7\u30f3\u306e\u6e96\u5099\u3068\u5b9f\u884c\n",
      "\n",
      "\u30c1\u30e5\u30fc\u30c8\u30ea\u30a2\u30eb\u306e\u30d1\u30e9\u30e1\u30fc\u30bf\u30d5\u30a1\u30a4\u30eb [mc05b](mc05b) \u3067\u3059\u3002\u3053\u306e\u30b5\u30f3\u30d7\u30eb\u3067\u306f\u3001$L=4,6,8$ \u306e\u30b7\u30b9\u30c6\u30e0\u30b5\u30a4\u30ba\u3067\u76f8\u8ee2\u79fb\u70b9\u3092\u6c42\u3081\u307e\u3059\u3002"
     ]
    },
    {
     "cell_type": "raw",
     "metadata": {},
     "source": [
      "LATTICE=\"square lattice\";\n",
      "MODEL=\"boson Hubbard\";\n",
      "NONLOCAL=0;\n",
      "U    = 1.0;\n",
      "mu   = 0.5;\n",
      "Nmax = 2;\n",
      "T = 0.05;\n",
      "SWEEPS=600000;\n",
      "THERMALIZATION=150000;\n",
      "{ L=4; t=0.045; }\n",
      "{ L=4; t=0.05; }\n",
      "{ L=4; t=0.0525; }\n",
      "{ L=4; t=0.055; }\n",
      "{ L=4; t=0.0575; }\n",
      "{ L=4; t=0.06; }\n",
      "{ L=4; t=0.065; }\n",
      "{ L=6; t=0.045; }\n",
      "{ L=6; t=0.05; }\n",
      "{ L=6; t=0.0525; }\n",
      "{ L=6; t=0.055; }\n",
      "{ L=6; t=0.0575; }\n",
      "{ L=6; t=0.06; }\n",
      "{ L=6; t=0.065; }\n",
      "{ L=8; t=0.045; }\n",
      "{ L=8; t=0.05; }\n",
      "{ L=8; t=0.0525; }\n",
      "{ L=8; t=0.055; }\n",
      "{ L=8; t=0.0575; }\n",
      "{ L=8; t=0.06; }\n",
      "{ L=8; t=0.065; }"
     ]
    },
    {
     "cell_type": "markdown",
     "metadata": {},
     "source": [
      "\u8a08\u7b97\u3092\u5b9f\u884c\u3055\u305b\u3001Python \u3092\u7528\u3044\u3066\u7d50\u679c\u89e3\u6790\u3057\u307e\u3059\u3002"
     ]
    },
    {
     "cell_type": "code",
     "collapsed": false,
     "input": [
      "input_file = pyalps.writeInputFiles('mc05b',parms)\n",
      "res = pyalps.runApplication('worm',input_file,Tmin=5)"
     ],
     "language": "python",
     "metadata": {},
     "outputs": []
    },
    {
     "cell_type": "markdown",
     "metadata": {},
     "source": [
      "### Python\u3092\u4f7f\u7528\u3057\u305f\u30b7\u30df\u30e5\u30ec\u30fc\u30b7\u30e7\u30f3\u306e\u6e96\u5099\u3068\u5b9f\u884c\u3068\u7d50\u679c\u89e3\u6790\n",
      "\n",
      "Python \u3067\u8a08\u7b97\u306e\u5b9f\u884c\u3092\u8a2d\u5b9a\u3057\u307e\u3059\u3002Python \u30b9\u30af\u30ea\u30d7\u30c8[tutorial_mc05b.py](tutorial_mc05b.py)\u3092\u53c2\u7167\u3057\u3066\u304f\u3060\u3055\u3044\u3002\u6700\u521d\u306b\u3001\u8d85\u6d41\u52d5\u5bc6\u5ea6(Stiffness)\u3092\u7570\u306a\u308b\uff13\u3064\u306e\u30c7\u30fc\u30bf\u30bb\u30c3\u30c8\u306b\u30ed\u30fc\u30c9\u3057\u307e\u3059\u3002\u5404\u30b5\u30a4\u30ba\u306f $L$ \u3067\u3059\u3002"
     ]
    },
    {
     "cell_type": "code",
     "collapsed": false,
     "input": [
      "data = pyalps.loadMeasurements(pyalps.getResultFiles(prefix='mc05b'),'Stiffness')\n",
      "rhos = pyalps.collectXY(data,x='t',y='Stiffness',foreach=['L'])"
     ],
     "language": "python",
     "metadata": {},
     "outputs": []
    },
    {
     "cell_type": "markdown",
     "metadata": {},
     "source": [
      "\u6b21\u306b\u3001\u30b5\u30a4\u30ba $L$ \u3092\u5404\u30c7\u30fc\u30bf\u306b\u304b\u3051\u307e\u3059\u3002"
     ]
    },
    {
     "cell_type": "code",
     "collapsed": false,
     "input": [
      "for s in rhos:\n",
      "    s.y = s.y * float(s.props['L'])"
     ],
     "language": "python",
     "metadata": {},
     "outputs": []
    },
    {
     "cell_type": "markdown",
     "metadata": {},
     "source": [
      "\u6700\u5f8c\u306b\u3001\u6b21\u306e\u624b\u9806\u3067\u30d7\u30ed\u30c3\u30c8\u3057\u307e\u3059\u3002"
     ]
    },
    {
     "cell_type": "code",
     "collapsed": false,
     "input": [
      "plt.figure()\n",
      "pyalps.plot.plot(rhos)\n",
      "plt.xlabel('Hopping $t/U$')\n",
      "plt.ylabel('$\\\\rho_sL$')\n",
      "plt.legend()\n",
      "plt.title('Scaling plot for Bose-Hubbard model')\n",
      "plt.show()"
     ],
     "language": "python",
     "metadata": {},
     "outputs": []
    },
    {
     "cell_type": "markdown",
     "metadata": {},
     "source": [
      "###  \u8cea\u7591 \n",
      "\n",
      "* \u71b1\u529b\u5b66\u7684\u6975\u9650\u306b\u304a\u3044\u3066\u91cf\u5b50\u76f8\u8ee2\u79fb\u70b9\u3069\u306e\u3088\u3046\u306b\u6c7a\u5b9a\u3057\u307e\u3057\u305f\u304b\uff1f\n",
      "* \u30d2\u30f3\u30c8\uff09superfluid stiffness \u306e\u8a08\u7b97\u7d50\u679c\u306b\u30b7\u30b9\u30c6\u30e0\u30b5\u30a4\u30ba $L$ \u3092\u4e57\u7b97\u3057\u3066\u307f\u3066\u304f\u3060\u3055\u3044\u3002\n",
      "* $(t/U)c=0.05974$ \u306e\u53b3\u5bc6\u89e3\u3068\u6bd4\u8f03\u3057\u3066\u307f\u3066\u304f\u3060\u3055\u3044\u3002\n",
      "* \u306a\u305c\u30e2\u30f3\u30c6\u30ab\u30eb\u30ed\u8a08\u7b97\u3067\u306f\u81e8\u754c\u70b9\u3092\u904e\u5927\u8a55\u4fa1\u3059\u308b\u306e\u3067\u3057\u3087\u3046\u304b\uff1f"
     ]
    },
    {
     "cell_type": "markdown",
     "metadata": {},
     "source": [
      "&copy; 2003-2010 by Simon Trebst, Synge Todo and Matthias Troye"
     ]
    }
   ],
   "metadata": {}
  }
 ]
}