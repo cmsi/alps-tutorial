{
 "metadata": {
  "name": "", 
  "signature": "sha256:690ffa3214144ebf012bb175860c7452f42a4ad6061af33e6847574d8ca9f7ee"
 }, 
 "nbformat": 3, 
 "nbformat_minor": 0, 
 "worksheets": [
  {
   "cells": [
    {
     "cell_type": "markdown", 
     "metadata": {}, 
     "source": [
      "# ALPS 2 Tutorials: ED-04 Criticality\n", 
      "\n", 
      "このチュートリアルでは、臨界スピン鎖と共形場理論 (CFT) について学びます。"
     ]
    }, 
    {
     "cell_type": "markdown", 
     "metadata": {}, 
     "source": [
      "# イジング鎖\n", 
      "\n", 
      "まず最初に、次のハミルトニアンで与えられる横磁場イジング鎖を例とします。\n", 
      "\n", 
      "$H=J_z \\sum_{\\langle i,j \\rangle} S^i_z S^j_z + \\Gamma \\sum_i S^i_x$\n", 
      "\n", 
      "第一項の和は全ての最近接格子対にわたって取ります。$\\Gamma$ は横磁場の強さです。系は $\\Gamma/J=\\frac{1}{2}$ で臨界となります。横磁場のない系の基底状態は $J>0$ で反強磁性相、$J < 0$ で強磁性相に属します。この系は厳密に解くことができます。\n", 
      "([P. Pfeuty, Annals of Physics: 57, 79-90 (1970)]\n", 
      "(http://dx.doi.org/10.1016/0003-4916(70)90270-8)).\n", 
      "\n", 
      "臨界点では、この系は共形場理論によって記述されます([review by John Cardy](http://www-thphys.physics.ox.ac.uk/people/JohnCardy/lh2008.pdf))\n", 
      "CFT では、低励起状態は場の演算子とみなされ、このエネルギーはその演算子のスケーリング次元と関係があります。物理的には、スケーリング次元は相関関数の振る舞いを記述します。たとえば、ある演算子（準プライマリ場）の二点相関は次のように表されます。\n", 
      "\n", 
      "$\\langle \\phi(r_1) \\phi(r_2) \\rangle \\sim |r_1 - r_2|^{-2\\Delta}.$\n", 
      "\n", 
      "上記の式では、$\\Delta$はその場のスケーリング次元を表します。\n", 
      "このスケーリング場はその次元によっていくつかのグループをなします。\n", 
      "つまり、スケーリング次元$\\Delta$ を持つプライマリ場に、\n", 
      "スケーリング次元\n", 
      "$\\Delta + n, n \\in \\lbrace 1, 2, 3, ... \\rbrace$\n", 
      "を持つ無数のセカンダリ場が付随したものです。\n", 
      "\n", 
      "横磁場イジングモデルの厳密解（上記論文のEq. (3.7)）では、スピンの長距離相関は次のように減衰します。\n", 
      "\n", 
      "$\\langle S^i_z S^{i+n}_z \\rangle \\sim n^{-2*1/8}$\n", 
      "\n", 
      "$\\langle S^i_y S^{i+n}_y \\rangle \\sim n^{-2*(1+1/8)}$\n", 
      "\n", 
      "$\\langle S^i_x S^{i+n}_x \\rangle \\sim n^{-2*1}$\n", 
      "\n", 
      "さらに、恒等演算子のスケーリング次元は0であるとします。\n", 
      "\n", 
      "この結果から、$0, 1/8, 1, 1+1/8$というスケーリング次元を持つ場がイジングモデルのCFTで現れることが期待されます。\n", 
      "このことを見るために、すべてのエネルギーを\n", 
      "\n", 
      "$E \\rightarrow \\frac{E-E_0}{8(E_1-E_0)}$\n", 
      "\n", 
      "のようにリスケーリングします。\n", 
      "そうすると、2つの低励起状態が、スケーリング次元として期待していた場所に現れます。"
     ]
    }, 
    {
     "cell_type": "markdown", 
     "metadata": {}, 
     "source": [
      "## Python での実行\n", 
      "\n", 
      "Python を使った計算の実行方法を記述したスクリプト [tutorial_ed04a.py](tutorial_ed04a.py) を使用します。スクリプトの最初の部分は計算モデルや、入力ファイルのインポートをおこないます。"
     ]
    }, 
    {
     "cell_type": "code", 
     "collapsed": false, 
     "input": [
      "import pyalps\n", 
      "import pyalps.plot\n", 
      "import numpy as np\n", 
      "import matplotlib.pyplot as plt\n", 
      "import copy\n", 
      "import math"
     ], 
     "language": "python", 
     "metadata": {}, 
     "outputs": []
    }, 
    {
     "cell_type": "markdown", 
     "metadata": {}, 
     "source": [
      "$2$ つのシステムサイズパラメータを設定します。縦磁場 `h` ではなく、横磁場 `Gamma` を使用すること注意してください。"
     ]
    }, 
    {
     "cell_type": "code", 
     "collapsed": false, 
     "input": [
      "parms = []\n", 
      "for L in [10, 12]:\n", 
      "    parms.append({\n", 
      "        'LATTICE'    : \"chain lattice\",\n", 
      "        'MODEL'      : \"spin\",\n", 
      "        'local_S'    : 0.5,\n", 
      "        'Jxy'        : 0,\n", 
      "        'Jz'         : -1,\n", 
      "        'Gamma'      : 0.5,\n", 
      "        'NUMBER_EIGENVALUES' : 5,\n", 
      "        'L'          : L\n", 
      "    })"
     ], 
     "language": "python", 
     "metadata": {}, 
     "outputs": []
    }, 
    {
     "cell_type": "markdown", 
     "metadata": {}, 
     "source": [
      "２つの系を計算し、入力データを設定し計算をおこないます。"
     ]
    }, 
    {
     "cell_type": "code", 
     "collapsed": false, 
     "input": [
      "prefix = 'ed04a'\n", 
      "input_file = pyalps.writeInputFiles(prefix, parms)\n", 
      "res = pyalps.runApplication('sparsediag', input_file)\n", 
      "# res = pyalps.runApplication('sparsediag', input_file, MPI=2, mpirun='mpirun')\n", 
      "data = pyalps.loadEigenstateMeasurements(pyalps.getResultFiles(prefix=prefix))"
     ], 
     "language": "python", 
     "metadata": {}, 
     "outputs": []
    }, 
    {
     "cell_type": "markdown", 
     "metadata": {}, 
     "source": [
      "ここで、コメントアウトしてある行のように、ジョブ数と MPI 実行ファイルの設定（デフォルトでは `mpirun` です）をおこなうと、複数の CPU を利用して ALPS が実行されます。"
     ]
    }, 
    {
     "cell_type": "markdown", 
     "metadata": {}, 
     "source": [
      "計算が終わったら、まず、のちのリスケールのために各々のL に対して基底状態と第一励起状態のエネルギーを集めます。"
     ]
    }, 
    {
     "cell_type": "code", 
     "collapsed": false, 
     "input": [
      "E0 = {}\n", 
      "E1 = {}\n", 
      "for Lsets in data:\n", 
      "    L = pyalps.flatten(Lsets)[0].props['L']\n", 
      "    allE = []\n", 
      "    for q in pyalps.flatten(Lsets):\n", 
      "        allE += list(q.y)\n", 
      "    allE = np.sort(allE)\n", 
      "    E0[L] = allE[0]\n", 
      "    E1[L] = allE[1]"
     ], 
     "language": "python", 
     "metadata": {}, 
     "outputs": []
    }, 
    {
     "cell_type": "markdown", 
     "metadata": {}, 
     "source": [
      "ALPSはシミュレーション（タスク）ごとにグループ化された結果をロードします：\n", 
      "つまり、ここで `data` は「各システムサイズにおける、運動量とエネルギーの組のリスト」のリストです。\n", 
      "\n", 
      "次に、エネルギーを上述の式でリスケールして、運動量の関数となるように `spectrum` に集めます。"
     ]
    }, 
    {
     "cell_type": "code", 
     "collapsed": false, 
     "input": [
      "for q in pyalps.flatten(data):\n", 
      "    L = q.props['L']\n", 
      "    q.y = (q.y-E0[L])/(E1[L]-E0[L]) * (1./8.)\n", 
      "spectrum = pyalps.collectXY(data, 'TOTAL_MOMENTUM', 'Energy', foreach=['L'])"
     ], 
     "language": "python", 
     "metadata": {}, 
     "outputs": []
    }, 
    {
     "cell_type": "markdown", 
     "metadata": {}, 
     "source": [
      "比較のために、プライマリ場$\\Delta = 1/8, 1$とその最初のセカンダリ場もプロットします。"
     ]
    }, 
    {
     "cell_type": "code", 
     "collapsed": false, 
     "input": [
      "for SD in [0.125, 1, 1+0.125, 2]:\n", 
      "    d = pyalps.DataSet()\n", 
      "    d.x = np.array([0,4])\n", 
      "    d.y = SD+0*d.x\n", 
      "    spectrum += [d]"
     ], 
     "language": "python", 
     "metadata": {}, 
     "outputs": []
    }, 
    {
     "cell_type": "markdown", 
     "metadata": {}, 
     "source": [
      "最後に、図を作成します。"
     ]
    }, 
    {
     "cell_type": "code", 
     "collapsed": false, 
     "input": [
      "pyalps.plot.plot(spectrum)\n", 
      "plt.legend(prop={'size':8})\n", 
      "plt.xlabel(\"$k$\")\n", 
      "plt.ylabel(\"E_0\")\n", 
      "plt.xlim(-0.02, math.pi+0.02)\n", 
      "plt.show()"
     ], 
     "language": "python", 
     "metadata": {}, 
     "outputs": []
    }, 
    {
     "cell_type": "markdown", 
     "metadata": {}, 
     "source": [
      "## コマンドラインでの実行\n", 
      "\n", 
      "コマンドラインでの実行に使用するパラメータファイルは、[ed04a](ed04a) を参照してください。"
     ]
    }, 
    {
     "cell_type": "markdown", 
     "metadata": {}, 
     "source": [
      "# ハイゼンベルグ鎖\n", 
      "\n", 
      "次に、もう少し複雑な模型を考えます。スピン $1/2$ の反強磁性ハイゼンベルグ鎖です。ハミルトニアンは\n", 
      "\n", 
      "$H = \\sum_{\\langle i,j \\rangle} \\mathbf{S}^i \\cdot \\mathbf{S}^j$\n", 
      "\n", 
      "です。\n", 
      "\n", 
      "この模型の臨界現象は中心電荷 $c=1$ を持つ CFT を用いて、スケーリング次元 $0, 0.5, 1$ を持つプライマリ場で表されます。\n", 
      "イジング模型の場合と違って、有限サイズ効果は対数補正を与えます。\n", 
      "\n", 
      "このモデルの臨界理論は primary fields $0,0.5$ 及び $１$ において central charge $c=1$ を持ちます。イジングモデルとは反対に、有限サイズ補正は対数的に消えます。すなわち、このサイズでは明らかな結果となります。\n", 
      "[tutorial_ed04b.py](tutorial_ed04b.py)はイジング模型のものとほとんど同じなので、ここでは詳細の説明は省略します。\n", 
      "主な違いは、この系の計算では $U(1)$ 対称性を利用することができ、その結果低エネルギー状態の解析には $S_z = 0$ セクターの計算だけで十分なことです。\n", 
      "\n", 
      "スペクトルを見て、共形タワーの分類をして、またエネルギースペクトルがシステムサイズの増大にしたがってどのように真の値に近づいていくのかを見てください。\n", 
      "これはとてもむずかしいということがわかるかと思います。\n", 
      "この系に関する詳細な議論は、[I Affleck et al 1989 J. Phys. A: Math. Gen. 22 511](http://dx.doi.org/10.1088/0305-4470/22/5/015) や、次のチュートリアルも参照してください。"
     ]
    }, 
    {
     "cell_type": "markdown", 
     "metadata": {}, 
     "source": [
      "## コマンドラインでの実行\n", 
      "\n", 
      "パラメータファイルは[ed04b](ed04b)を参照してください"
     ]
    }
   ], 
   "metadata": {}
  }
 ]
}