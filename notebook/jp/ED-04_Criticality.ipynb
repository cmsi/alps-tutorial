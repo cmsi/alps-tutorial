{
 "metadata": {
  "name": "",
  "signature": "sha256:690ffa3214144ebf012bb175860c7452f42a4ad6061af33e6847574d8ca9f7ee"
 },
 "nbformat": 3,
 "nbformat_minor": 0,
 "worksheets": [
  {
   "cells": [
    {
     "cell_type": "markdown",
     "metadata": {},
     "source": [
      "# ALPS 2 Tutorials: ED-04 Criticality\n",
      "\n",
      "\u3053\u306e\u30c1\u30e5\u30fc\u30c8\u30ea\u30a2\u30eb\u3067\u306f\u3001\u81e8\u754c\u30b9\u30d4\u30f3\u9396\u3068\u5171\u5f62\u5834\u7406\u8ad6 (CFT) \u306b\u3064\u3044\u3066\u5b66\u3073\u307e\u3059\u3002"
     ]
    },
    {
     "cell_type": "markdown",
     "metadata": {},
     "source": [
      "# \u30a4\u30b8\u30f3\u30b0\u9396\n",
      "\n",
      "\u307e\u305a\u6700\u521d\u306b\u3001\u6b21\u306e\u30cf\u30df\u30eb\u30c8\u30cb\u30a2\u30f3\u3067\u4e0e\u3048\u3089\u308c\u308b\u6a2a\u78c1\u5834\u30a4\u30b8\u30f3\u30b0\u9396\u3092\u4f8b\u3068\u3057\u307e\u3059\u3002\n",
      "\n",
      "$H=J_z \\sum_{\\langle i,j \\rangle} S^i_z S^j_z + \\Gamma \\sum_i S^i_x$\n",
      "\n",
      "\u7b2c\u4e00\u9805\u306e\u548c\u306f\u5168\u3066\u306e\u6700\u8fd1\u63a5\u683c\u5b50\u5bfe\u306b\u308f\u305f\u3063\u3066\u53d6\u308a\u307e\u3059\u3002$\\Gamma$ \u306f\u6a2a\u78c1\u5834\u306e\u5f37\u3055\u3067\u3059\u3002\u7cfb\u306f $\\Gamma/J=\\frac{1}{2}$ \u3067\u81e8\u754c\u3068\u306a\u308a\u307e\u3059\u3002\u6a2a\u78c1\u5834\u306e\u306a\u3044\u7cfb\u306e\u57fa\u5e95\u72b6\u614b\u306f $J>0$ \u3067\u53cd\u5f37\u78c1\u6027\u76f8\u3001$J < 0$ \u3067\u5f37\u78c1\u6027\u76f8\u306b\u5c5e\u3057\u307e\u3059\u3002\u3053\u306e\u7cfb\u306f\u53b3\u5bc6\u306b\u89e3\u304f\u3053\u3068\u304c\u3067\u304d\u307e\u3059\u3002\n",
      "([P. Pfeuty, Annals of Physics: 57, 79-90 (1970)]\n",
      "(http://dx.doi.org/10.1016/0003-4916(70)90270-8)).\n",
      "\n",
      "\u81e8\u754c\u70b9\u3067\u306f\u3001\u3053\u306e\u7cfb\u306f\u5171\u5f62\u5834\u7406\u8ad6\u306b\u3088\u3063\u3066\u8a18\u8ff0\u3055\u308c\u307e\u3059([review by John Cardy](http://www-thphys.physics.ox.ac.uk/people/JohnCardy/lh2008.pdf))\n",
      "CFT \u3067\u306f\u3001\u4f4e\u52b1\u8d77\u72b6\u614b\u306f\u5834\u306e\u6f14\u7b97\u5b50\u3068\u307f\u306a\u3055\u308c\u3001\u3053\u306e\u30a8\u30cd\u30eb\u30ae\u30fc\u306f\u305d\u306e\u6f14\u7b97\u5b50\u306e\u30b9\u30b1\u30fc\u30ea\u30f3\u30b0\u6b21\u5143\u3068\u95a2\u4fc2\u304c\u3042\u308a\u307e\u3059\u3002\u7269\u7406\u7684\u306b\u306f\u3001\u30b9\u30b1\u30fc\u30ea\u30f3\u30b0\u6b21\u5143\u306f\u76f8\u95a2\u95a2\u6570\u306e\u632f\u308b\u821e\u3044\u3092\u8a18\u8ff0\u3057\u307e\u3059\u3002\u305f\u3068\u3048\u3070\u3001\u3042\u308b\u6f14\u7b97\u5b50\uff08\u6e96\u30d7\u30e9\u30a4\u30de\u30ea\u5834\uff09\u306e\u4e8c\u70b9\u76f8\u95a2\u306f\u6b21\u306e\u3088\u3046\u306b\u8868\u3055\u308c\u307e\u3059\u3002\n",
      "\n",
      "$\\langle \\phi(r_1) \\phi(r_2) \\rangle \\sim |r_1 - r_2|^{-2\\Delta}.$\n",
      "\n",
      "\u4e0a\u8a18\u306e\u5f0f\u3067\u306f\u3001$\\Delta$\u306f\u305d\u306e\u5834\u306e\u30b9\u30b1\u30fc\u30ea\u30f3\u30b0\u6b21\u5143\u3092\u8868\u3057\u307e\u3059\u3002\n",
      "\u3053\u306e\u30b9\u30b1\u30fc\u30ea\u30f3\u30b0\u5834\u306f\u305d\u306e\u6b21\u5143\u306b\u3088\u3063\u3066\u3044\u304f\u3064\u304b\u306e\u30b0\u30eb\u30fc\u30d7\u3092\u306a\u3057\u307e\u3059\u3002\n",
      "\u3064\u307e\u308a\u3001\u30b9\u30b1\u30fc\u30ea\u30f3\u30b0\u6b21\u5143$\\Delta$ \u3092\u6301\u3064\u30d7\u30e9\u30a4\u30de\u30ea\u5834\u306b\u3001\n",
      "\u30b9\u30b1\u30fc\u30ea\u30f3\u30b0\u6b21\u5143\n",
      "$\\Delta + n, n \\in \\lbrace 1, 2, 3, ... \\rbrace$\n",
      "\u3092\u6301\u3064\u7121\u6570\u306e\u30bb\u30ab\u30f3\u30c0\u30ea\u5834\u304c\u4ed8\u968f\u3057\u305f\u3082\u306e\u3067\u3059\u3002\n",
      "\n",
      "\u6a2a\u78c1\u5834\u30a4\u30b8\u30f3\u30b0\u30e2\u30c7\u30eb\u306e\u53b3\u5bc6\u89e3\uff08\u4e0a\u8a18\u8ad6\u6587\u306eEq. (3.7)\uff09\u3067\u306f\u3001\u30b9\u30d4\u30f3\u306e\u9577\u8ddd\u96e2\u76f8\u95a2\u306f\u6b21\u306e\u3088\u3046\u306b\u6e1b\u8870\u3057\u307e\u3059\u3002\n",
      "\n",
      "$\\langle S^i_z S^{i+n}_z \\rangle \\sim n^{-2*1/8}$\n",
      "\n",
      "$\\langle S^i_y S^{i+n}_y \\rangle \\sim n^{-2*(1+1/8)}$\n",
      "\n",
      "$\\langle S^i_x S^{i+n}_x \\rangle \\sim n^{-2*1}$\n",
      "\n",
      "\u3055\u3089\u306b\u3001\u6052\u7b49\u6f14\u7b97\u5b50\u306e\u30b9\u30b1\u30fc\u30ea\u30f3\u30b0\u6b21\u5143\u306f0\u3067\u3042\u308b\u3068\u3057\u307e\u3059\u3002\n",
      "\n",
      "\u3053\u306e\u7d50\u679c\u304b\u3089\u3001$0, 1/8, 1, 1+1/8$\u3068\u3044\u3046\u30b9\u30b1\u30fc\u30ea\u30f3\u30b0\u6b21\u5143\u3092\u6301\u3064\u5834\u304c\u30a4\u30b8\u30f3\u30b0\u30e2\u30c7\u30eb\u306eCFT\u3067\u73fe\u308c\u308b\u3053\u3068\u304c\u671f\u5f85\u3055\u308c\u307e\u3059\u3002\n",
      "\u3053\u306e\u3053\u3068\u3092\u898b\u308b\u305f\u3081\u306b\u3001\u3059\u3079\u3066\u306e\u30a8\u30cd\u30eb\u30ae\u30fc\u3092\n",
      "\n",
      "$E \\rightarrow \\frac{E-E_0}{8(E_1-E_0)}$\n",
      "\n",
      "\u306e\u3088\u3046\u306b\u30ea\u30b9\u30b1\u30fc\u30ea\u30f3\u30b0\u3057\u307e\u3059\u3002\n",
      "\u305d\u3046\u3059\u308b\u3068\u30012\u3064\u306e\u4f4e\u52b1\u8d77\u72b6\u614b\u304c\u3001\u30b9\u30b1\u30fc\u30ea\u30f3\u30b0\u6b21\u5143\u3068\u3057\u3066\u671f\u5f85\u3057\u3066\u3044\u305f\u5834\u6240\u306b\u73fe\u308c\u307e\u3059\u3002"
     ]
    },
    {
     "cell_type": "markdown",
     "metadata": {},
     "source": [
      "## Python \u3067\u306e\u5b9f\u884c\n",
      "\n",
      "Python \u3092\u4f7f\u3063\u305f\u8a08\u7b97\u306e\u5b9f\u884c\u65b9\u6cd5\u3092\u8a18\u8ff0\u3057\u305f\u30b9\u30af\u30ea\u30d7\u30c8 [tutorial_ed04a.py](tutorial_ed04a.py) \u3092\u4f7f\u7528\u3057\u307e\u3059\u3002\u30b9\u30af\u30ea\u30d7\u30c8\u306e\u6700\u521d\u306e\u90e8\u5206\u306f\u8a08\u7b97\u30e2\u30c7\u30eb\u3084\u3001\u5165\u529b\u30d5\u30a1\u30a4\u30eb\u306e\u30a4\u30f3\u30dd\u30fc\u30c8\u3092\u304a\u3053\u306a\u3044\u307e\u3059\u3002"
     ]
    },
    {
     "cell_type": "code",
     "collapsed": false,
     "input": [
      "import pyalps\n",
      "import pyalps.plot\n",
      "import numpy as np\n",
      "import matplotlib.pyplot as plt\n",
      "import copy\n",
      "import math"
     ],
     "language": "python",
     "metadata": {},
     "outputs": []
    },
    {
     "cell_type": "markdown",
     "metadata": {},
     "source": [
      "$2$ \u3064\u306e\u30b7\u30b9\u30c6\u30e0\u30b5\u30a4\u30ba\u30d1\u30e9\u30e1\u30fc\u30bf\u3092\u8a2d\u5b9a\u3057\u307e\u3059\u3002\u7e26\u78c1\u5834 `h` \u3067\u306f\u306a\u304f\u3001\u6a2a\u78c1\u5834 `Gamma` \u3092\u4f7f\u7528\u3059\u308b\u3053\u3068\u6ce8\u610f\u3057\u3066\u304f\u3060\u3055\u3044\u3002"
     ]
    },
    {
     "cell_type": "code",
     "collapsed": false,
     "input": [
      "parms = []\n",
      "for L in [10, 12]:\n",
      "    parms.append({\n",
      "        'LATTICE'    : \"chain lattice\",\n",
      "        'MODEL'      : \"spin\",\n",
      "        'local_S'    : 0.5,\n",
      "        'Jxy'        : 0,\n",
      "        'Jz'         : -1,\n",
      "        'Gamma'      : 0.5,\n",
      "        'NUMBER_EIGENVALUES' : 5,\n",
      "        'L'          : L\n",
      "    })"
     ],
     "language": "python",
     "metadata": {},
     "outputs": []
    },
    {
     "cell_type": "markdown",
     "metadata": {},
     "source": [
      "\uff12\u3064\u306e\u7cfb\u3092\u8a08\u7b97\u3057\u3001\u5165\u529b\u30c7\u30fc\u30bf\u3092\u8a2d\u5b9a\u3057\u8a08\u7b97\u3092\u304a\u3053\u306a\u3044\u307e\u3059\u3002"
     ]
    },
    {
     "cell_type": "code",
     "collapsed": false,
     "input": [
      "prefix = 'ed04a'\n",
      "input_file = pyalps.writeInputFiles(prefix, parms)\n",
      "res = pyalps.runApplication('sparsediag', input_file)\n",
      "# res = pyalps.runApplication('sparsediag', input_file, MPI=2, mpirun='mpirun')\n",
      "data = pyalps.loadEigenstateMeasurements(pyalps.getResultFiles(prefix=prefix))"
     ],
     "language": "python",
     "metadata": {},
     "outputs": []
    },
    {
     "cell_type": "markdown",
     "metadata": {},
     "source": [
      "\u3053\u3053\u3067\u3001\u30b3\u30e1\u30f3\u30c8\u30a2\u30a6\u30c8\u3057\u3066\u3042\u308b\u884c\u306e\u3088\u3046\u306b\u3001\u30b8\u30e7\u30d6\u6570\u3068 MPI \u5b9f\u884c\u30d5\u30a1\u30a4\u30eb\u306e\u8a2d\u5b9a\uff08\u30c7\u30d5\u30a9\u30eb\u30c8\u3067\u306f `mpirun` \u3067\u3059\uff09\u3092\u304a\u3053\u306a\u3046\u3068\u3001\u8907\u6570\u306e CPU \u3092\u5229\u7528\u3057\u3066 ALPS \u304c\u5b9f\u884c\u3055\u308c\u307e\u3059\u3002"
     ]
    },
    {
     "cell_type": "markdown",
     "metadata": {},
     "source": [
      "\u8a08\u7b97\u304c\u7d42\u308f\u3063\u305f\u3089\u3001\u307e\u305a\u3001\u306e\u3061\u306e\u30ea\u30b9\u30b1\u30fc\u30eb\u306e\u305f\u3081\u306b\u5404\u3005\u306eL \u306b\u5bfe\u3057\u3066\u57fa\u5e95\u72b6\u614b\u3068\u7b2c\u4e00\u52b1\u8d77\u72b6\u614b\u306e\u30a8\u30cd\u30eb\u30ae\u30fc\u3092\u96c6\u3081\u307e\u3059\u3002"
     ]
    },
    {
     "cell_type": "code",
     "collapsed": false,
     "input": [
      "E0 = {}\n",
      "E1 = {}\n",
      "for Lsets in data:\n",
      "    L = pyalps.flatten(Lsets)[0].props['L']\n",
      "    allE = []\n",
      "    for q in pyalps.flatten(Lsets):\n",
      "        allE += list(q.y)\n",
      "    allE = np.sort(allE)\n",
      "    E0[L] = allE[0]\n",
      "    E1[L] = allE[1]"
     ],
     "language": "python",
     "metadata": {},
     "outputs": []
    },
    {
     "cell_type": "markdown",
     "metadata": {},
     "source": [
      "ALPS\u306f\u30b7\u30df\u30e5\u30ec\u30fc\u30b7\u30e7\u30f3\uff08\u30bf\u30b9\u30af\uff09\u3054\u3068\u306b\u30b0\u30eb\u30fc\u30d7\u5316\u3055\u308c\u305f\u7d50\u679c\u3092\u30ed\u30fc\u30c9\u3057\u307e\u3059\uff1a\n",
      "\u3064\u307e\u308a\u3001\u3053\u3053\u3067 `data` \u306f\u300c\u5404\u30b7\u30b9\u30c6\u30e0\u30b5\u30a4\u30ba\u306b\u304a\u3051\u308b\u3001\u904b\u52d5\u91cf\u3068\u30a8\u30cd\u30eb\u30ae\u30fc\u306e\u7d44\u306e\u30ea\u30b9\u30c8\u300d\u306e\u30ea\u30b9\u30c8\u3067\u3059\u3002\n",
      "\n",
      "\u6b21\u306b\u3001\u30a8\u30cd\u30eb\u30ae\u30fc\u3092\u4e0a\u8ff0\u306e\u5f0f\u3067\u30ea\u30b9\u30b1\u30fc\u30eb\u3057\u3066\u3001\u904b\u52d5\u91cf\u306e\u95a2\u6570\u3068\u306a\u308b\u3088\u3046\u306b `spectrum` \u306b\u96c6\u3081\u307e\u3059\u3002"
     ]
    },
    {
     "cell_type": "code",
     "collapsed": false,
     "input": [
      "for q in pyalps.flatten(data):\n",
      "    L = q.props['L']\n",
      "    q.y = (q.y-E0[L])/(E1[L]-E0[L]) * (1./8.)\n",
      "spectrum = pyalps.collectXY(data, 'TOTAL_MOMENTUM', 'Energy', foreach=['L'])"
     ],
     "language": "python",
     "metadata": {},
     "outputs": []
    },
    {
     "cell_type": "markdown",
     "metadata": {},
     "source": [
      "\u6bd4\u8f03\u306e\u305f\u3081\u306b\u3001\u30d7\u30e9\u30a4\u30de\u30ea\u5834$\\Delta = 1/8, 1$\u3068\u305d\u306e\u6700\u521d\u306e\u30bb\u30ab\u30f3\u30c0\u30ea\u5834\u3082\u30d7\u30ed\u30c3\u30c8\u3057\u307e\u3059\u3002"
     ]
    },
    {
     "cell_type": "code",
     "collapsed": false,
     "input": [
      "for SD in [0.125, 1, 1+0.125, 2]:\n",
      "    d = pyalps.DataSet()\n",
      "    d.x = np.array([0,4])\n",
      "    d.y = SD+0*d.x\n",
      "    spectrum += [d]"
     ],
     "language": "python",
     "metadata": {},
     "outputs": []
    },
    {
     "cell_type": "markdown",
     "metadata": {},
     "source": [
      "\u6700\u5f8c\u306b\u3001\u56f3\u3092\u4f5c\u6210\u3057\u307e\u3059\u3002"
     ]
    },
    {
     "cell_type": "code",
     "collapsed": false,
     "input": [
      "pyalps.plot.plot(spectrum)\n",
      "plt.legend(prop={'size':8})\n",
      "plt.xlabel(\"$k$\")\n",
      "plt.ylabel(\"E_0\")\n",
      "plt.xlim(-0.02, math.pi+0.02)\n",
      "plt.show()"
     ],
     "language": "python",
     "metadata": {},
     "outputs": []
    },
    {
     "cell_type": "markdown",
     "metadata": {},
     "source": [
      "## \u30b3\u30de\u30f3\u30c9\u30e9\u30a4\u30f3\u3067\u306e\u5b9f\u884c\n",
      "\n",
      "\u30b3\u30de\u30f3\u30c9\u30e9\u30a4\u30f3\u3067\u306e\u5b9f\u884c\u306b\u4f7f\u7528\u3059\u308b\u30d1\u30e9\u30e1\u30fc\u30bf\u30d5\u30a1\u30a4\u30eb\u306f\u3001[ed04a](ed04a) \u3092\u53c2\u7167\u3057\u3066\u304f\u3060\u3055\u3044\u3002"
     ]
    },
    {
     "cell_type": "markdown",
     "metadata": {},
     "source": [
      "# \u30cf\u30a4\u30bc\u30f3\u30d9\u30eb\u30b0\u9396\n",
      "\n",
      "\u6b21\u306b\u3001\u3082\u3046\u5c11\u3057\u8907\u96d1\u306a\u6a21\u578b\u3092\u8003\u3048\u307e\u3059\u3002\u30b9\u30d4\u30f3 $1/2$ \u306e\u53cd\u5f37\u78c1\u6027\u30cf\u30a4\u30bc\u30f3\u30d9\u30eb\u30b0\u9396\u3067\u3059\u3002\u30cf\u30df\u30eb\u30c8\u30cb\u30a2\u30f3\u306f\n",
      "\n",
      "$H = \\sum_{\\langle i,j \\rangle} \\mathbf{S}^i \\cdot \\mathbf{S}^j$\n",
      "\n",
      "\u3067\u3059\u3002\n",
      "\n",
      "\u3053\u306e\u6a21\u578b\u306e\u81e8\u754c\u73fe\u8c61\u306f\u4e2d\u5fc3\u96fb\u8377 $c=1$ \u3092\u6301\u3064 CFT \u3092\u7528\u3044\u3066\u3001\u30b9\u30b1\u30fc\u30ea\u30f3\u30b0\u6b21\u5143 $0, 0.5, 1$ \u3092\u6301\u3064\u30d7\u30e9\u30a4\u30de\u30ea\u5834\u3067\u8868\u3055\u308c\u307e\u3059\u3002\n",
      "\u30a4\u30b8\u30f3\u30b0\u6a21\u578b\u306e\u5834\u5408\u3068\u9055\u3063\u3066\u3001\u6709\u9650\u30b5\u30a4\u30ba\u52b9\u679c\u306f\u5bfe\u6570\u88dc\u6b63\u3092\u4e0e\u3048\u307e\u3059\u3002\n",
      "\n",
      "\u3053\u306e\u30e2\u30c7\u30eb\u306e\u81e8\u754c\u7406\u8ad6\u306f primary fields $0,0.5$ \u53ca\u3073 $\uff11$ \u306b\u304a\u3044\u3066 central charge $c=1$ \u3092\u6301\u3061\u307e\u3059\u3002\u30a4\u30b8\u30f3\u30b0\u30e2\u30c7\u30eb\u3068\u306f\u53cd\u5bfe\u306b\u3001\u6709\u9650\u30b5\u30a4\u30ba\u88dc\u6b63\u306f\u5bfe\u6570\u7684\u306b\u6d88\u3048\u307e\u3059\u3002\u3059\u306a\u308f\u3061\u3001\u3053\u306e\u30b5\u30a4\u30ba\u3067\u306f\u660e\u3089\u304b\u306a\u7d50\u679c\u3068\u306a\u308a\u307e\u3059\u3002\n",
      "[tutorial_ed04b.py](tutorial_ed04b.py)\u306f\u30a4\u30b8\u30f3\u30b0\u6a21\u578b\u306e\u3082\u306e\u3068\u307b\u3068\u3093\u3069\u540c\u3058\u306a\u306e\u3067\u3001\u3053\u3053\u3067\u306f\u8a73\u7d30\u306e\u8aac\u660e\u306f\u7701\u7565\u3057\u307e\u3059\u3002\n",
      "\u4e3b\u306a\u9055\u3044\u306f\u3001\u3053\u306e\u7cfb\u306e\u8a08\u7b97\u3067\u306f $U(1)$ \u5bfe\u79f0\u6027\u3092\u5229\u7528\u3059\u308b\u3053\u3068\u304c\u3067\u304d\u3001\u305d\u306e\u7d50\u679c\u4f4e\u30a8\u30cd\u30eb\u30ae\u30fc\u72b6\u614b\u306e\u89e3\u6790\u306b\u306f $S_z = 0$ \u30bb\u30af\u30bf\u30fc\u306e\u8a08\u7b97\u3060\u3051\u3067\u5341\u5206\u306a\u3053\u3068\u3067\u3059\u3002\n",
      "\n",
      "\u30b9\u30da\u30af\u30c8\u30eb\u3092\u898b\u3066\u3001\u5171\u5f62\u30bf\u30ef\u30fc\u306e\u5206\u985e\u3092\u3057\u3066\u3001\u307e\u305f\u30a8\u30cd\u30eb\u30ae\u30fc\u30b9\u30da\u30af\u30c8\u30eb\u304c\u30b7\u30b9\u30c6\u30e0\u30b5\u30a4\u30ba\u306e\u5897\u5927\u306b\u3057\u305f\u304c\u3063\u3066\u3069\u306e\u3088\u3046\u306b\u771f\u306e\u5024\u306b\u8fd1\u3065\u3044\u3066\u3044\u304f\u306e\u304b\u3092\u898b\u3066\u304f\u3060\u3055\u3044\u3002\n",
      "\u3053\u308c\u306f\u3068\u3066\u3082\u3080\u305a\u304b\u3057\u3044\u3068\u3044\u3046\u3053\u3068\u304c\u308f\u304b\u308b\u304b\u3068\u601d\u3044\u307e\u3059\u3002\n",
      "\u3053\u306e\u7cfb\u306b\u95a2\u3059\u308b\u8a73\u7d30\u306a\u8b70\u8ad6\u306f\u3001[I Affleck et al 1989 J. Phys. A: Math. Gen. 22 511](http://dx.doi.org/10.1088/0305-4470/22/5/015) \u3084\u3001\u6b21\u306e\u30c1\u30e5\u30fc\u30c8\u30ea\u30a2\u30eb\u3082\u53c2\u7167\u3057\u3066\u304f\u3060\u3055\u3044\u3002"
     ]
    },
    {
     "cell_type": "markdown",
     "metadata": {},
     "source": [
      "## \u30b3\u30de\u30f3\u30c9\u30e9\u30a4\u30f3\u3067\u306e\u5b9f\u884c\n",
      "\n",
      "\u30d1\u30e9\u30e1\u30fc\u30bf\u30d5\u30a1\u30a4\u30eb\u306f[ed04b](ed04b)\u3092\u53c2\u7167\u3057\u3066\u304f\u3060\u3055\u3044"
     ]
    }
   ],
   "metadata": {}
  }
 ]
}