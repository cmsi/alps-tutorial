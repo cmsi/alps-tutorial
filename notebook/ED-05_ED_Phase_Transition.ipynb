{
 "metadata": {
  "name": ""
 },
 "nbformat": 3,
 "nbformat_minor": 0,
 "worksheets": [
  {
   "cells": [
    {
     "cell_type": "markdown",
     "metadata": {},
     "source": [
      "# ALPS_2_Tutorials:ED-05_ED_Phase_Transition"
     ]
    },
    {
     "cell_type": "markdown",
     "metadata": {},
     "source": [
      "# Critical point of the Heisenberg chain with next-nearest-neighbour interaction "
     ]
    },
    {
     "cell_type": "markdown",
     "metadata": {},
     "source": [
      "In this tutorial, we will follow up on the the last part of the ED-04 tutorial, where the Heisenberg chain was considered. We will add a next-nearest neighbour coupling term $J_2 \\sum_{\\langle \\langle i,j \\rangle \\rangle} S_i \\cdot S_j$ to the Hamiltonian."
     ]
    },
    {
     "cell_type": "markdown",
     "metadata": {},
     "source": [
      "In the limit of $J_2 = 0$, this model reduces to the critical Heisenberg chain, which is solvable by Bethe ansatz. At $J_2/J_1=0.5$, the model is also solvable [[1]](http://link.aip.org/link/JMAPAQ/v10/i8/p1399/s1),[[2]](http://link.aip.org/link/JMAPAQ/v10/i8/p1388/s1). The ground state turns out to be"
     ]
    },
    {
     "cell_type": "markdown",
     "metadata": {},
     "source": [
      "$$|\\Psi\\rangle = \\left(|\\uparrow\\rangle_1 |\\downarrow\\rangle_2 - |\\downarrow\\rangle_1 |\\uparrow\\rangle_2\\right) (|\\uparrow\\rangle_3 |\\downarrow\\rangle_4 - |\\downarrow\\rangle_3 |\\uparrow\\rangle_4) (|\\uparrow\\rangle_5 |\\downarrow\\rangle_6 - |\\downarrow\\rangle_5 |\\uparrow\\rangle_6)$$"
     ]
    },
    {
     "cell_type": "markdown",
     "metadata": {},
     "source": [
      "This is of course indication of a phase transition at some intermediate $J_1/J_2 \\in (0,1/2)$. (insert references from http://pre.aps.org/pdf/PRE/v76/i6/e061108 once APS website works again)"
     ]
    },
    {
     "cell_type": "markdown",
     "metadata": {},
     "source": [
      "In the first part of this tutorial, we will locate the position of the critical point by looking at how the spectrum, in particular the gap in different symmetry sectors, changes as we tune the couplings. In the second part, we will revisit the CFT content of the critical chain. Analytically, it can be shown that the model at criticality is described by the same CFT as the Heisenberg chain, but the weight of the marginal operator which lead to the logarithmically vanishing finite-size corrections is zero and therefore the scaling dimensions can be found much more accurately."
     ]
    },
    {
     "cell_type": "markdown",
     "metadata": {},
     "source": [
      "So first, let us plot the energy of the ground state and the first excited state as well as the gap in the singlet ($S_z = 0$) and triplet ($S_z=1$) sector."
     ]
    },
    {
     "cell_type": "markdown",
     "metadata": {},
     "source": [
      "## Python "
     ]
    },
    {
     "cell_type": "markdown",
     "metadata": {},
     "source": [
      "We start with the usual imports:"
     ]
    },
    {
     "cell_type": "code",
     "collapsed": false,
     "input": [
      "import pyalps\n",
      "from pyalps.dict_intersect import dict_intersect\n",
      "import numpy as np\n",
      "import matplotlib.pyplot as plt\n",
      "import pyalps.plot\n",
      "import copy"
     ],
     "language": "python",
     "metadata": {},
     "outputs": []
    },
    {
     "cell_type": "markdown",
     "metadata": {},
     "source": [
      "Again, we use the $S_z$ quantum number, but now we will run simulations in different sectors ($S_z=0,1$). We run for the system sizes $L=6,8$, since the effect we're looking for occurs already at very small system sizs."
     ]
    },
    {
     "cell_type": "code",
     "collapsed": false,
     "input": [
      "prefix = 'alps-nnn-heisenberg'\n",
      "parms = []\n",
      "for L in [6,8]:\n",
      "    for Szt in [0,1]:\n",
      "      for J1 in np.linspace(0,0.5,6):\n",
      "          parms.append({\n",
      "              'LATTICE'              : \"nnn chain lattice\",\n",
      "              'MODEL'                : \"spin\",\n",
      "              'local_S'              : 0.5,\n",
      "              'J'                    : 1,\n",
      "              'NUMBER_EIGENVALUES'   : 2,\n",
      "              'CONSERVED_QUANTUMNUMBER' : 'Sz',\n",
      "              'Sz_total'             : Szt,\n",
      "              'J1'                   : J1,\n",
      "              'L'                    : L\n",
      "          })\n",
      " \n",
      "input_file = pyalps.writeInputFiles(prefix,parms)\n",
      "res = pyalps.runApplication('sparsediag', input_file)\n",
      "# res = pyalps.runApplication('sparsediag', input_file, MPI=4)\n",
      "data = pyalps.loadEigenstateMeasurements(pyalps.getResultFiles(prefix=prefix))"
     ],
     "language": "python",
     "metadata": {},
     "outputs": []
    },
    {
     "cell_type": "markdown",
     "metadata": {},
     "source": [
      "The data analysis is slightly more involved in this case than in the previous ones. In particular, we will rely heavily on the feature of hierarchical datasets. To understand the physics, it is actually sufficient to look only at the ground and first excited states - so if you feel that the calculation of the gaps is too confusing, don't worry about it too much."
     ]
    },
    {
     "cell_type": "markdown",
     "metadata": {},
     "source": [
      "In a first step, we join all energies for a given set of `J1`, `L`, `Sz_total` and sort them. First, we group by the paramters - `J1`, `L`, `Sz_total`. Each item in the loop over <tt>grouped</tt> will therefore contain a list of datasets for different momenta. We will join those and then use the <tt>dict_intersect</tt> function to find the properties for the resulting dataset; this function just takes a list of dictionaries and returns the part that is equal for all of them. We use numpy's <tt>argsort</tt> function to obtain the list of indices that will sort `y`; this allows us to sort `x` accordingly, although that will probably not be needed."
     ]
    },
    {
     "cell_type": "code",
     "collapsed": false,
     "input": [
      "grouped = pyalps.groupSets(pyalps.flatten(data), ['J1', 'L', 'Sz_total'])\n",
      "nd = []\n",
      "for group in grouped:\n",
      "    ally = []\n",
      "    allx = []\n",
      "    for q in group:\n",
      "        ally += list(q.y)\n",
      "        allx += list(q.x)\n",
      "    r = pyalps.DataSet()\n",
      "    sel = np.argsort(ally)\n",
      "    r.y = np.array(ally)[sel]\n",
      "    r.x = np.array(allx)[sel]\n",
      "    r.props = dict_intersect([q.props for q in group])\n",
      "    nd.append( r )\n",
      "data = nd"
     ],
     "language": "python",
     "metadata": {},
     "outputs": []
    },
    {
     "cell_type": "markdown",
     "metadata": {},
     "source": [
      "Next, we have to remove states that occur in the $S_z=1$ sector from the $S_z=0$ sector. We group them by `J1`, `L`, such that each group contains the spectra for the two different Sz_total sectors. We then use the function <tt>subtract_spectrum</tt>, which removes elements from the dataset passed as first argument which are also contained in the second argument. As an optional argument, this function accepts a maximum relative difference."
     ]
    },
    {
     "cell_type": "code",
     "collapsed": false,
     "input": [
      "grouped = pyalps.groupSets(pyalps.flatten(data), ['J1', 'L'])\n",
      "nd = []\n",
      "for group in grouped:\n",
      "    if group[0].props['Sz_total'] == 0:\n",
      "        s0 = group[0]\n",
      "        s1 = group[1]\n",
      "    else:\n",
      "        s0 = group[1]\n",
      "        s1 = group[0]\n",
      "    s0 = pyalps.subtract_spectrum(s0, s1)\n",
      "    nd.append(s0)\n",
      "    nd.append(s1)\n",
      "data = nd"
     ],
     "language": "python",
     "metadata": {},
     "outputs": []
    },
    {
     "cell_type": "markdown",
     "metadata": {},
     "source": [
      "Now, we create a new list of datasets (<tt>sector_E</tt>) that will contain only the energy of the ground state ('gs') or first excited state ('fe'). We will store this onto the property <tt>which</tt>. That will subsequently allow us to use the <tt>collectXY</tt> function to create a plot of the gs and fe energy vs the coupling for each L."
     ]
    },
    {
     "cell_type": "code",
     "collapsed": false,
     "input": [
      "sector_E = []\n",
      "grouped = pyalps.groupSets(pyalps.flatten(data), ['Sz_total', 'J1', 'L'])\n",
      "for group in grouped:\n",
      "    allE = []\n",
      "    for q in group:\n",
      "        allE += list(q.y)\n",
      "    allE = np.sort(allE)\n",
      "    \n",
      "    d = pyalps.DataSet()\n",
      "    d.props = dict_intersect([q.props for q in group])\n",
      "    d.x = np.array([0])\n",
      "    d.y = np.array([allE[0]])\n",
      "    d.props['which'] = 'gs'\n",
      "    sector_E.append(d)\n",
      "     \n",
      "    d2 = copy.deepcopy(d)\n",
      "    d2.y = np.array([allE[1]])\n",
      "    d2.props['which'] = 'fe'\n",
      "    sector_E.append(d2)\n",
      " \n",
      "sector_energies = pyalps.collectXY(sector_E, 'J1', 'Energy', ['Sz_total', 'which', 'L'])\n",
      "\n",
      "plt.figure()\n",
      "pyalps.plot.plot(sector_energies)\n",
      "plt.xlabel('$J_1/J$')\n",
      "plt.ylabel('$E_0$')\n",
      "plt.legend(prop={'size':8})"
     ],
     "language": "python",
     "metadata": {},
     "outputs": []
    },
    {
     "cell_type": "markdown",
     "metadata": {},
     "source": [
      "In the last step, we calculate the singlet and triplet gap.These are defined as the energy difference between the lowest state of the system and a) the first excited state in the singlet ($S_z=0$ sector, b) the lowest state in the triplet ($S_z=1$) sector."
     ]
    },
    {
     "cell_type": "code",
     "collapsed": false,
     "input": [
      "grouped = pyalps.groupSets( pyalps.groupSets(pyalps.flatten(data), ['J1', 'L']), ['Sz_total'])\n",
      " \n",
      "gaps = []\n",
      "for J1g in grouped:\n",
      "    totalmin = 1000\n",
      "    for q in flatten(J1g):\n",
      "        totalmin = min(totalmin, np.min(q.y))\n",
      "    \n",
      "    for Szg in J1g:\n",
      "        allE = []\n",
      "        for q in Szg:\n",
      "            allE += list(q.y)\n",
      "        allE = np.sort(allE)\n",
      "        d = pyalps.DataSet()\n",
      "        d.props = pyalps.dict_intersect([q.props for q in Szg])\n",
      "        d.props['observable'] = 'gap'\n",
      "        print totalmin,d.props['Sz_total']\n",
      "        if d.props['Sz_total'] == 0:\n",
      "            d.y = np.array([allE[1]-totalmin])\n",
      "        else:\n",
      "            d.y = np.array([allE[0]-totalmin])\n",
      "        d.x = np.array([0])\n",
      "        d.props['line'] = '.-'\n",
      "        gaps.append(d)\n",
      "\n",
      "gaps = pyalps.collectXY(gaps, 'J1', 'gap', ['Sz_total', 'L'])\n",
      "\n",
      "plt.figure()\n",
      "pyalps.plot.plot(gaps)\n",
      "plt.xlabel('$J_1/J$')\n",
      "plt.ylabel('$\\Delta$')\n",
      "plt.legend(prop={'size':8})\n",
      "\n",
      "plt.show()"
     ],
     "language": "python",
     "metadata": {},
     "outputs": []
    },
    {
     "cell_type": "markdown",
     "metadata": {},
     "source": [
      "## VisTrails/command line "
     ]
    },
    {
     "cell_type": "markdown",
     "metadata": {},
     "source": [
      "The VT file can be found [here](http://alps.comp-phys.org/static/tutorials2.2.0/ed-05-nnn-chain/ed-05-nnn-chain.vt). The parameter file for the command line is [here](http://alps.comp-phys.org/static/tutorials2.2.0/ed-05-nnn-chain/parm_nnn-pt)."
     ]
    },
    {
     "cell_type": "markdown",
     "metadata": {},
     "source": [
      "# Heisenberg chain with next-nearest neighbour coupling: CFT assignments "
     ]
    },
    {
     "cell_type": "markdown",
     "metadata": {},
     "source": [
      "The finite-size corrections can be significantly reduced by tuning to a critical point in a frustrated J1-J2 chain. Despite the different couplings, this model can be shown to have the same continuum critical field theory and we can therefore extract the scaling dimensions in this limit. For a detailed discussion of this point, take a look at the reference [I Affleck et al 1989 J. Phys. A: Math. Gen. 22 511](http://dx.doi.org/10.1088/0305-4470/22/5/015)."
     ]
    },
    {
     "cell_type": "markdown",
     "metadata": {},
     "source": [
      "Compare to the spectrum you have obtained above: you will see that the correspondence to the expected scaling dimensions is much easier to see and that they converge much faster for increasing system size."
     ]
    },
    {
     "cell_type": "markdown",
     "metadata": {},
     "source": [
      "## Python "
     ]
    },
    {
     "cell_type": "markdown",
     "metadata": {},
     "source": [
      "The new parameters are:"
     ]
    },
    {
     "cell_type": "code",
     "collapsed": false,
     "input": [
      "parms_ = {\n",
      "    'LATTICE'              : \"nnn chain lattice\",\n",
      "    'MODEL'                : \"spin\",\n",
      "    'local_S'              : 0.5,\n",
      "    'J'                    : 1,\n",
      "    'J1'                   : 0.25,\n",
      "    'NUMBER_EIGENVALUES'   : 5,\n",
      "    'CONSERVED_QUANTUMNUMBER' : 'Sz',\n",
      "    'Sz_total' : 0\n",
      "}\n",
      "prefix = 'nnn-heisenberg'\n",
      "parms = []\n",
      "for L in [10,12]:\n",
      "    parms_.update({'L':L})\n",
      "    parms.append(copy.deepcopy(parms_))"
     ],
     "language": "python",
     "metadata": {},
     "outputs": []
    },
    {
     "cell_type": "markdown",
     "metadata": {},
     "source": [
      "The remainder of the script is analogous to the ED-04 cases and can be found in [[3]](http://alps.comp-phys.org/static/tutorials2.2.0/ed-05-nnn-chain/nnn-heisenberg.py)."
     ]
    },
    {
     "cell_type": "markdown",
     "metadata": {},
     "source": [
      "## VisTrails/Command line "
     ]
    },
    {
     "cell_type": "markdown",
     "metadata": {},
     "source": [
      "The VT file is [here](http://alps.comp-phys.org/static/tutorials2.2.0/ed-05-nnn-chain/ed-05-nnn-chain.vt). The parameter file can be found [here](https://alps.comp-phys.org/static/tutorials2.1.0/ed-04-criticality/parm_nnn-heisenberg)"
     ]
    }
   ],
   "metadata": {}
  }
 ]
}