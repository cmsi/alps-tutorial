{
 "metadata": {
  "name": ""
 },
 "nbformat": 3,
 "nbformat_minor": 0,
 "worksheets": [
  {
   "cells": [
    {
     "cell_type": "markdown",
     "metadata": {},
     "source": [
      "# ALPS_2_Tutorials:MC-02_Susceptibilities"
     ]
    },
    {
     "cell_type": "markdown",
     "metadata": {},
     "source": [
      "In this tutorial we will learn to calculate susceptibilities for classical and quantum Heisenberg models and contrast the behavior of chains and ladders as well as classical and quantum models. The parameter files, Python scripts and Vistrails files for this tutorial are available in the directory [mc-02-susceptibilities](http://alps.comp-phys.org/static/tutorials2.2.0/mc-02-susceptibilities)"
     ]
    },
    {
     "cell_type": "markdown",
     "metadata": {},
     "source": [
      "#  Susceptibility of classical one-dimensional Heisenberg models"
     ]
    },
    {
     "cell_type": "markdown",
     "metadata": {},
     "source": [
      "##  The one-dimensional Heisenberg classical chain  "
     ]
    },
    {
     "cell_type": "markdown",
     "metadata": {},
     "source": [
      "### Preparing and running the simulation from the command line ###"
     ]
    },
    {
     "cell_type": "markdown",
     "metadata": {},
     "source": [
      "The parameter file [parm2a](http://alps.comp-phys.org/static/tutorials2.2.0/mc-02-susceptibilities/parm2a) sets up Monte Carlo simulations of the classical Heisenberg model on a one-dimensional chain with 60 sites for a couple of temperatures ($T=0.05, 0.1, ..., 1.5$) using cluster updates.To set up and run the simulation on the command line you first create a parameter file :"
     ]
    },
    {
     "cell_type": "raw",
     "metadata": {},
     "source": [
      "LATTICE=\"chain lattice\"\n",
      "L=60\n",
      "J=-1\n",
      "THERMALIZATION=15000\n",
      "SWEEPS=500000 \n",
      "UPDATE=\"cluster\" \n",
      "MODEL=\"Heisenberg\"\n",
      "{T=0.05;}\n",
      "{T=0.1;}\n",
      "{T=0.2;}\n",
      "{T=0.3;}\n",
      "{T=0.4;}\n",
      "{T=0.5;}\n",
      "{T=0.6;}\n",
      "{T=0.7;}\n",
      "{T=0.8;}\n",
      "{T=0.9;}\n",
      "{T=1.0;}\n",
      "{T=1.25;}\n",
      "{T=1.5;}"
     ]
    },
    {
     "cell_type": "markdown",
     "metadata": {},
     "source": [
      "and then run the simulation by using the standard sequence of commands"
     ]
    },
    {
     "cell_type": "code",
     "collapsed": false,
     "input": [
      "%%bash\n",
      "parameter2xml parm2a\n",
      "spinmc --Tmin 10 --write-xml parm2a.in.xml"
     ],
     "language": "python",
     "metadata": {},
     "outputs": []
    },
    {
     "cell_type": "markdown",
     "metadata": {},
     "source": [
      "To extract the results we recommend the Python evaluation tools discussed below"
     ]
    },
    {
     "cell_type": "markdown",
     "metadata": {},
     "source": [
      "### Preparing and running the simulation using Python"
     ]
    },
    {
     "cell_type": "markdown",
     "metadata": {},
     "source": [
      "To set up and run the simulation in Python we use the script [tutorial2a.py](http://alps.comp-phys.org/static/tutorials2.2.0/mc-02-susceptibilities/tutorial2a.py). The first parts of this script imports the required modules and then prepares the input files as a list of Python dictionaries:"
     ]
    },
    {
     "cell_type": "code",
     "collapsed": false,
     "input": [
      "import pyalps\n",
      "import matplotlib.pyplot as plt\n",
      "import pyalps.plot\n",
      "\n",
      "parms = []\n",
      "for t in [0.05, 0.1, 0.2, 0.3, 0.4, 0.5, 0.6, 0.7, 0.8, 0.9, 1.0, 1.25, 1.5, 1.75, 2.0]:\n",
      "   parms.append(\n",
      "       { \n",
      "         'LATTICE'        : \"chain lattice\", \n",
      "         'T'              : t,\n",
      "         'J'              : -1 ,\n",
      "         'THERMALIZATION' : 10000,\n",
      "         'SWEEPS'         : 500000,\n",
      "         'UPDATE'         : \"cluster\",\n",
      "         'MODEL'          : \"Heisenberg\",\n",
      "         'L'              : 60\n",
      "       }\n",
      "   )"
     ],
     "language": "python",
     "metadata": {},
     "outputs": []
    },
    {
     "cell_type": "markdown",
     "metadata": {},
     "source": [
      "To run this, launch your python interpreter using the convenience scripts <tt>alpspython</tt> or <tt>vispython</tt>."
     ]
    },
    {
     "cell_type": "markdown",
     "metadata": {},
     "source": [
      "We next convert this into a job file in XML format and run the simulation:"
     ]
    },
    {
     "cell_type": "code",
     "collapsed": false,
     "input": [
      "input_file = pyalps.writeInputFiles('parm2a',parms)\n",
      "pyalps.runApplication('spinmc',input_file,Tmin=5,writexml=True)"
     ],
     "language": "python",
     "metadata": {},
     "outputs": []
    },
    {
     "cell_type": "markdown",
     "metadata": {},
     "source": [
      "We now have the same output files as in the command line version."
     ]
    },
    {
     "cell_type": "markdown",
     "metadata": {},
     "source": [
      "### Evaluating the simulation and preparing plots using Python"
     ]
    },
    {
     "cell_type": "markdown",
     "metadata": {},
     "source": [
      "To load the results and prepare plots we load the results from the output files and collect the susceptibility as a function of temperature from all output files starting with <tt>parm2a</tt>. The script is again in [tutorial2a.py](http://alps.comp-phys.org/static/tutorials2.2.0/mc-02-susceptibilities/tutorial2a.py)"
     ]
    },
    {
     "cell_type": "code",
     "collapsed": false,
     "input": [
      "data = pyalps.loadMeasurements(pyalps.getResultFiles(prefix='parm2a'),'Susceptibility')\n",
      "susceptibility = pyalps.collectXY(data,x='T',y='Susceptibility')"
     ],
     "language": "python",
     "metadata": {},
     "outputs": []
    },
    {
     "cell_type": "markdown",
     "metadata": {},
     "source": [
      "To make plots we call the pyalps.plot.plot and then set some nice labels, a title, and a range of y-values:"
     ]
    },
    {
     "cell_type": "code",
     "collapsed": false,
     "input": [
      "plt.figure()\n",
      "pyalps.plot.plot(susceptibility)\n",
      "plt.xlabel('Temperature $T/J$')\n",
      "plt.ylabel('Susceptibility $\\chi J$')\n",
      "plt.ylim(0,0.22)\n",
      "plt.title('Classical Heisenberg chain')\n",
      "plt.show()"
     ],
     "language": "python",
     "metadata": {},
     "outputs": []
    },
    {
     "cell_type": "markdown",
     "metadata": {},
     "source": [
      "### Setting up and running the simulation in Vistrails"
     ]
    },
    {
     "cell_type": "markdown",
     "metadata": {},
     "source": [
      "To run the simulation in Vistrails open the file [mc-02-susceptibilities.vt](http://alps.comp-phys.org/static/tutorials2.2.0/mc-02-susceptibilities/mc-02-susceptibilities.vt) and look at the workflow labeled \"Classical Heisenberg chain\". Click on \"Execute\" to prepare the input file, run the simulation and create the output figure."
     ]
    },
    {
     "cell_type": "markdown",
     "metadata": {},
     "source": [
      "##  The one-dimensional classical Heisenberg ladder"
     ]
    },
    {
     "cell_type": "markdown",
     "metadata": {},
     "source": [
      "The Heisenberg ladder is simulated in a very similar way. The main differences (besides naming the files parm2b*) is a change of the <tt>LATTICE</tt> and that we have two couplings <tt>J0</tt> and <tt>J1</tt>."
     ]
    },
    {
     "cell_type": "markdown",
     "metadata": {},
     "source": [
      "To set up and run the simulation on the command line you first create a parameter file [parm2b](http://alps.comp-phys.org/static/tutorials2.2.0/mc-02-susceptibilities/parm2b):"
     ]
    },
    {
     "cell_type": "raw",
     "metadata": {},
     "source": [
      "LATTICE=\"ladder\"\n",
      "L=60\n",
      "J0=-1\n",
      "J1=-1\n",
      "THERMALIZATION=15000\n",
      "SWEEPS=150000\n",
      "UPDATE=\"cluster\"\n",
      "MODEL=\"Heisenberg\"\n",
      "..."
     ]
    },
    {
     "cell_type": "markdown",
     "metadata": {},
     "source": [
      "The rest of the input file is as above and simulations are run in the same way."
     ]
    },
    {
     "cell_type": "markdown",
     "metadata": {},
     "source": [
      "To set up and run the simulation in Python we use the script [tutorial2b.py](http://alps.comp-phys.org/static/tutorials2.2.0/mc-02-susceptibilities/tutorial2b.py ). The changes are again just "
     ]
    },
    {
     "cell_type": "markdown",
     "metadata": {},
     "source": [
      "* renaming parm2a into parm2b\n",
      "* changing the parameter LATTICE to ladder\n",
      "* setting two couplings J0 and J1"
     ]
    },
    {
     "cell_type": "markdown",
     "metadata": {},
     "source": [
      "To run the simulation in Vistrails open the file [mc-02-susceptibilities.vt](http://alps.comp-phys.org/static/tutorials2.2.0/mc-02-susceptibilities/mc-02-susceptibilities.vt) and execute the workflow labeled \"Classical Heisenberg ladder\"."
     ]
    },
    {
     "cell_type": "markdown",
     "metadata": {},
     "source": [
      "##  Questions"
     ]
    },
    {
     "cell_type": "markdown",
     "metadata": {},
     "source": [
      "* How does the susceptibility depend on the lattice?\n",
      "* Bonus: You can study larger system sizes and different types of lattices (\"cubic lattice\", \"triangular lattice\", check the file `lattices.xml`), as well."
     ]
    },
    {
     "cell_type": "markdown",
     "metadata": {},
     "source": [
      "#  Susceptibility of one-dimensional quantum Heisenberg models"
     ]
    },
    {
     "cell_type": "markdown",
     "metadata": {},
     "source": [
      "##  The one-dimensional quantum Heisenberg chain  "
     ]
    },
    {
     "cell_type": "markdown",
     "metadata": {},
     "source": [
      "The main change when going to quantum models is that we use the ALPS model library to specify the model, and the ALPS looper QMC code to run the simulations. Note also that in quantum models there is usually a different sign convention for the couplings: positive couplings refer to the antiferromagnet"
     ]
    },
    {
     "cell_type": "markdown",
     "metadata": {},
     "source": [
      "### Preparing and running the simulation from the command line "
     ]
    },
    {
     "cell_type": "markdown",
     "metadata": {},
     "source": [
      "To set up and run the simulation on the command line you first create a parameter file [parm2c](http://alps.comp-phys.org/static/tutorials2.2.0/mc-02-susceptibilities/parm2c):"
     ]
    },
    {
     "cell_type": "raw",
     "metadata": {},
     "source": [
      "LATTICE=\"chain lattice\" \n",
      "MODEL=\"spin\"\n",
      "local_S=1/2\n",
      "L=60\n",
      "J=1\n",
      "THERMALIZATION=15000\n",
      "SWEEPS=150000\n",
      "ALGORITHM=\"loop\"\n",
      "{T=0.05;}\n",
      "{T=0.1;}\n",
      "{T=0.2;}\n",
      "{T=0.3;}\n",
      "{T=0.4;}\n",
      "{T=0.5;}\n",
      "{T=0.6;}\n",
      "{T=0.7;}\n",
      "{T=0.75;}\n",
      "{T=0.8;}\n",
      "{T=0.9;}\n",
      "{T=1.0;}\n",
      "{T=1.25;}\n",
      "{T=1.5;}\n",
      "{T=1.75;}\n",
      "{T=2.0;}"
     ]
    },
    {
     "cell_type": "markdown",
     "metadata": {},
     "source": [
      "The looper code requires the additional ALGORITHM parameter to choose the algorithm and representation."
     ]
    },
    {
     "cell_type": "markdown",
     "metadata": {},
     "source": [
      "The simulation is then run as:"
     ]
    },
    {
     "cell_type": "code",
     "collapsed": false,
     "input": [
      "%%bash\n",
      "parameter2xml parm2c\n",
      "loop parm2c.in.xml"
     ],
     "language": "python",
     "metadata": {},
     "outputs": []
    },
    {
     "cell_type": "markdown",
     "metadata": {},
     "source": [
      "### Preparing and running the simulation using Python "
     ]
    },
    {
     "cell_type": "markdown",
     "metadata": {},
     "source": [
      "To set up and run the simulation in Python we use the script  [http://alps.comp-phys.org/static/tutorials2.2.0/mc-02-susceptibilities/tutorial2c.py tutorial2c.py]. The first part of the script is as above except for the change in filename to parm2c and the change in parameters:"
     ]
    },
    {
     "cell_type": "code",
     "collapsed": false,
     "input": [
      "input_file = pyalps.writeInputFiles('parm2c',parms)\n",
      "pyalps.runApplication('loop',input_file)"
     ],
     "language": "python",
     "metadata": {},
     "outputs": []
    },
    {
     "cell_type": "markdown",
     "metadata": {},
     "source": [
      "### Evaluating the simulation and preparing plots using Python or Vistrails "
     ]
    },
    {
     "cell_type": "markdown",
     "metadata": {},
     "source": [
      "The plotting is again nearly identical to before - up to a change in title and file names. The script is script is again in [tutorial2c.py](http://alps.comp-phys.org/static/tutorials2.2.0/mc-02-susceptibilities/tutorial2c.py)."
     ]
    },
    {
     "cell_type": "markdown",
     "metadata": {},
     "source": [
      "To run the simulation in Vistrails open the file [mc-02-susceptibilities.vt](http://alps.comp-phys.org/static/tutorials2.2.0/mc-02-susceptibilities/mc-02-susceptibilities.vt) and look at the workflow labeled \"chain magnetization\". Click on \"Execute\" to prepare the input file, run the simulation and create the output figure."
     ]
    },
    {
     "cell_type": "markdown",
     "metadata": {},
     "source": [
      "##  The one-dimensional quantum  Heisenberg ladder  "
     ]
    },
    {
     "cell_type": "markdown",
     "metadata": {},
     "source": [
      "We finally look at a quantum Heisenberg ladder. By now you should be an expert ALPS user so that we only give the input files and scripts."
     ]
    },
    {
     "cell_type": "markdown",
     "metadata": {},
     "source": [
      "To set up and run the simulation on the command line you first create a parameter file [parm2d](http://alps.comp-phys.org/static/tutorials2.2.0/mc-02-susceptibilities/parm2d). Change the LATTICE parameter and set two couplings, J0 and J1 both to +1. Run the simulations as for the chain above"
     ]
    },
    {
     "cell_type": "markdown",
     "metadata": {},
     "source": [
      "Also the Python script [tutorial2d.py](http://alps.comp-phys.org/static/tutorials2.2.0/mc-02-susceptibilities/tutorial2d.py) only needs changes in the file name and the parameters."
     ]
    },
    {
     "cell_type": "markdown",
     "metadata": {},
     "source": [
      "To run the simulation in Vistrails open the file [mc-02-susceptibilities.vt](http://alps.comp-phys.org/static/tutorials2.2.0/mc-02-susceptibilities/mc-02-susceptibilities.vt) and look at the workflow labeled \"ladder magnetization\"."
     ]
    },
    {
     "cell_type": "markdown",
     "metadata": {},
     "source": [
      "# Combining all simulations "
     ]
    },
    {
     "cell_type": "markdown",
     "metadata": {},
     "source": [
      "We finally want to combine all four plots. "
     ]
    },
    {
     "cell_type": "markdown",
     "metadata": {},
     "source": [
      "## Using Python "
     ]
    },
    {
     "cell_type": "markdown",
     "metadata": {},
     "source": [
      "After running all four simulations you can use the script [tutorial2full.py](http://alps.comp-phys.org/static/tutorials2.2.0/mc-02-susceptibilities/tutorial2full.py)."
     ]
    },
    {
     "cell_type": "markdown",
     "metadata": {},
     "source": [
      "First load all results and flatten the data structure to one list of results:"
     ]
    },
    {
     "cell_type": "code",
     "collapsed": false,
     "input": [
      "import pyalps\n",
      "import matplotlib.pyplot as plt\n",
      "import pyalps.plot\n",
      "\n",
      "data = pyalps.loadMeasurements(pyalps.getResultFiles(),'Susceptibility')\n",
      "data = pyalps.flatten(data)"
     ],
     "language": "python",
     "metadata": {},
     "outputs": []
    },
    {
     "cell_type": "markdown",
     "metadata": {},
     "source": [
      "Then collect the susceptibility as a function of temperature, into different data sets depending on the value of the LATTICE and MODEL parameters:"
     ]
    },
    {
     "cell_type": "code",
     "collapsed": false,
     "input": [
      "susceptibility = pyalps.collectXY(data,x='T',y='Susceptibility',foreach=['MODEL','LATTICE'])"
     ],
     "language": "python",
     "metadata": {},
     "outputs": []
    },
    {
     "cell_type": "markdown",
     "metadata": {},
     "source": [
      "Next, write some Python code to set some sensible labels, and print the properties of each set to show the parameters:"
     ]
    },
    {
     "cell_type": "code",
     "collapsed": false,
     "input": [
      "for s in susceptibility:\n",
      "    if s.props['LATTICE']=='chain lattice':\n",
      "        s.props['label'] = \"chain\"\n",
      "    elif s.props['LATTICE']=='ladder':\n",
      "        s.props['label'] = \"ladder\"\n",
      "    if s.props['MODEL']=='spin':\n",
      "        s.props['label'] = \"quantum \" + s.props['label']\n",
      "    elif s.props['MODEL']=='Heisenberg':\n",
      "        s.props['label'] = \"classical \" + s.props['label']"
     ],
     "language": "python",
     "metadata": {},
     "outputs": []
    },
    {
     "cell_type": "markdown",
     "metadata": {},
     "source": [
      "Finally make a plot:"
     ]
    },
    {
     "cell_type": "code",
     "collapsed": false,
     "input": [
      "plt.figure()\n",
      "pyalps.plot.plot(susceptibility)\n",
      "plt.xlabel('Temperature $T/J$')\n",
      "plt.ylabel('Susceptibility $\\chi J$')\n",
      "plt.ylim(0,0.25)\n",
      "plt.legend()\n",
      "plt.show()"
     ],
     "language": "python",
     "metadata": {},
     "outputs": []
    },
    {
     "cell_type": "markdown",
     "metadata": {},
     "source": [
      "## Using Vistrails "
     ]
    },
    {
     "cell_type": "markdown",
     "metadata": {},
     "source": [
      "The same plot can also be easily created in Vistrails in the file [mc-02-susceptibilities.vt](http://alps.comp-phys.org/static/tutorials2.2.0/mc-02-susceptibilities/mc-02-susceptibilities.vt) by executing the workflow labeled \"all combined\"."
     ]
    },
    {
     "cell_type": "markdown",
     "metadata": {},
     "source": [
      "# Questions  "
     ]
    },
    {
     "cell_type": "markdown",
     "metadata": {},
     "source": [
      "* Is there a difference between the classical and quantum calculation?\n",
      "* How does the susceptibility depend on the lattice?\n",
      "* Why does the susceptibility change?"
     ]
    },
    {
     "cell_type": "markdown",
     "metadata": {},
     "source": [
      "For your reference, here is a plot created by the last workflow which combines all four calculations:"
     ]
    },
    {
     "cell_type": "raw",
     "metadata": {},
     "source": [
      "<vistrail host=\"alps.comp-phys.org\" db=\"tutorials\" vtid=\"3\" version=\"37\" embedworkflow=\"True\" showspreadsheetonly=\"True\"/>"
     ]
    },
    {
     "cell_type": "markdown",
     "metadata": {},
     "source": [
      "&copy; 2003-2010 by Simon Trebst, Fabien Alet, Matthias Troyer, Synge Todo, and Emanuel Gull"
     ]
    }
   ],
   "metadata": {}
  }
 ]
}