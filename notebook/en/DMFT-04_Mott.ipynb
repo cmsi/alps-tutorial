{
 "metadata": {
  "name": ""
 },
 "nbformat": 3,
 "nbformat_minor": 0,
 "worksheets": [
  {
   "cells": [
    {
     "cell_type": "markdown",
     "metadata": {},
     "source": [
      "# ALPS_2_Tutorials:DMFT-04_Mott"
     ]
    },
    {
     "cell_type": "markdown",
     "metadata": {},
     "source": [
      "#Tutorial 04: Mott Transitio"
     ]
    },
    {
     "cell_type": "markdown",
     "metadata": {},
     "source": [
      "Mott transitions are metal insulator transitions (MIT) that occur in many materials, e.g. transition metal compounds, as a function of pressure or doping. The [review by Imada *et al.*](http://dx.doi.org/10.1103/RevModPhys.70.1039) gives an excellent introduction to the subject and mentions $V_2O_3$ and the organics as typical examples."
     ]
    },
    {
     "cell_type": "markdown",
     "metadata": {},
     "source": [
      "MIT are easily investigated by DMFT as the relevant physics is essentially local (or k-independent): At half filling the MIT can be modeled by a self energy with a pole at $\\omega=0$ which splits the noninteracting band into an upper and a lower Hubbard band. In this context it is instructive to suppress antiferromagnetic long range order and enforce a paramagnetic solution in the DMFT simulation, to mimic the paramagnetic insulating phase. For this the up and down spin of the Green's functions are symmetrized (parameter <tt>SYMMETRIZATION = 1;</tt>). "
     ]
    },
    {
     "cell_type": "markdown",
     "metadata": {},
     "source": [
      "In order to run the simulations in python type or use [tutorial4a.py](http://alps.comp-phys.org/static/tutorials2.2.0/dmft-04-mott/tutorial4a.py) or the [Vistrails file](http://alps.comp-phys.org/static/tutorials2.2.0/dmft-04-mott/dmft-04-mott.vt):"
     ]
    },
    {
     "cell_type": "code",
     "collapsed": false,
     "input": [
      "import pyalps\n",
      "import numpy as np\n",
      "import matplotlib.pyplot as plt\n",
      "import pyalps.plot\n",
      " \n",
      "#prepare the input parameters\n",
      "parms=[]\n",
      "for u in [4.,5.,6.,8.]: \n",
      "   parms.append(\n",
      "           { \n",
      "             'ANTIFERROMAGNET'         : 0,\n",
      "             'CHECKPOINT'              : 'solverdump_U_'+str(u),\n",
      "             'CONVERGED'               : 0.001,\n",
      "             'FLAVORS'                 : 2,\n",
      "             'H'                       : 0,\n",
      "             'H_INIT'                  : 0.,\n",
      "             'MAX_IT'                  : 20,\n",
      "             'MAX_TIME'                : 600,\n",
      "             'MU'                      : 0,\n",
      "             'N'                       : 500,\n",
      "             'NMATSUBARA'              : 500, \n",
      "             'N_MEAS'                  : 1000,\n",
      "             'N_ORDER'                 : 50,\n",
      "             'OMEGA_LOOP'              : 1,\n",
      "             'SEED'                    : 0, \n",
      "             'SITES'                   : 1,              \n",
      "             'SOLVER'                  : 'hybridization',\n",
      "             'SC_WRITE_DELTA'          : 1,\n",
      "             'SYMMETRIZATION'          : 1,\n",
      "             't'                       : 1,\n",
      "             'SWEEPS'                  : 1500*u,\n",
      "             'BETA'                    : 20.0,\n",
      "             'THERMALIZATION'          : 500,\n",
      "             'U'                       : u\n",
      "            }\n",
      "       )\n",
      "     \n",
      "#write the input file and run the simulation\n",
      "for p in parms:\n",
      "   input_file = pyalps.writeParameterFile('parm_u_'+str(p['U']),p)\n",
      "   res = pyalps.runDMFT(input_file)"
     ],
     "language": "python",
     "metadata": {},
     "outputs": []
    },
    {
     "cell_type": "markdown",
     "metadata": {},
     "source": [
      "We investigate the ''Mott'' transition in single-site DMFT, as a function of interaction at fixed temperature $\\beta t=20$ (see e.g. Fig. 2 [in this paper](http://dx.doi.org/10.1103/PhysRevB.76.235123)).\n",
      "Starting from a non-interacting solution we see in the imaginary time Green's function that the solution is metallic for $U/t \\leq 4.5$, and insulating for $U/t\\geq 5$. A coexistence region could be found by starting from an insulating (or atomic) solution and trying to convert it for smaller $U$."
     ]
    },
    {
     "cell_type": "markdown",
     "metadata": {},
     "source": [
      "Imaginary time Green's functions are not easy to interpret, and therefore many authors [employ analytic continuation methods](http://dx.doi.org/10.1016/0370-1573(95)00074-7). There are however two clear features: the value at $\\beta$ corresponds to $-n$, the negative value of the density (per spin). The second feature is that $-\\beta G(\\beta/2) \\rightarrow \\pi A(0)$ for decreasing temperature ($\\beta\\rightarrow\\infty$);  where $A(0)$ is the spectral function at the Fermi energy. From a temperature dependence of the imaginary time Green's function we can therefore immediately see if the system is metallic or insulating.\n",
      "In order to better inspect the behavior of the Green's function we will plot the data on a logarithmic scale:"
     ]
    },
    {
     "cell_type": "code",
     "collapsed": false,
     "input": [
      "listobs=['0']   # we look at only one flavor, as they are SYMMETRIZED\n",
      "    \n",
      "data = pyalps.loadMeasurements(pyalps.getResultFiles(pattern='parm_u_*h5'), respath='/simulation/results/G_tau', what=listobs, verbose=True)\n",
      " \n",
      "for d in pyalps.flatten(data):\n",
      "   d.x = d.x*d.props[\"BETA\"]/float(d.props[\"N\"])\n",
      "   d.y = -d.y\n",
      "   d.props['label'] = r'$U=$'+str(d.props['U'])\n",
      "plt.figure()\n",
      "plt.yscale('log')\n",
      "plt.xlabel(r'$\\tau$')\n",
      "plt.ylabel(r'$G_{flavor=0}(\\tau)$')\n",
      "plt.title('DMFT-04: Mott-insulator transition for the Hubbard model on the Bethe lattice')\n",
      "pyalps.plot.plot(data)\n",
      "plt.legend()\n",
      "plt.show()"
     ],
     "language": "python",
     "metadata": {},
     "outputs": []
    },
    {
     "cell_type": "markdown",
     "metadata": {},
     "source": [
      "You should observe that at small $U$ you find metallic solution and an insulating solution at large $U$, at fixed $\\beta$. The largest value of $U$ is deep within the insulating phase."
     ]
    },
    {
     "cell_type": "markdown",
     "metadata": {},
     "source": [
      "The convergence may be checked by [tutorial4b.py](http://alps.comp-phys.org/static/tutorials2.2.0/dmft-04-mott/tutorial4b.py):"
     ]
    },
    {
     "cell_type": "code",
     "collapsed": false,
     "input": [
      "import pyalps\n",
      "import numpy as np\n",
      "import matplotlib.pyplot as plt\n",
      "import pyalps.plot\n",
      " \n",
      " \n",
      "## Please run the tutorial4a.py before this one\n",
      " \n",
      "listobs = ['0']   # we look at convergence of a single flavor (=0) \n",
      " \n",
      "## load all results\n",
      "data = pyalps.loadDMFTIterations(pyalps.getResultFiles(pattern='parm_u_*.h5'), measurements=listobs, verbose=True)\n",
      " \n",
      "## create a figure for each BETA\n",
      "grouped = pyalps.groupSets(pyalps.flatten(data), ['U','observable'])\n",
      "for sim in grouped:\n",
      "   common_props = pyalps.dict_intersect([ d.props for d in sim ])\n",
      "   \n",
      "   ## rescale x-axis and set label\n",
      "   for d in sim:\n",
      "       d.x = d.x * d.props['BETA']/float(d.props['N'])\n",
      "       d.y *= -1.\n",
      "       d.props['label'] = 'it'+d.props['iteration']\n",
      "    \n",
      "   ## plot all iterations for this BETA\n",
      "   plt.figure()\n",
      "   plt.xlabel(r'$\\tau$')\n",
      "   plt.ylabel(r'$-G_{flavor=%8s}(\\tau)$' % common_props['observable'])\n",
      "   plt.title('DMFT-04: ' + r'$U = %.4s$' % common_props['U'])\n",
      "   pyalps.plot.plot(sim)\n",
      "   plt.legend()\n",
      "   plt.yscale(\"log\")\n",
      " \n",
      "plt.show()"
     ],
     "language": "python",
     "metadata": {},
     "outputs": []
    },
    {
     "cell_type": "markdown",
     "metadata": {},
     "source": [
      "Tutorial by [[User:Gullc|Emanuel]] - Please don't hesitate to ask"
     ]
    }
   ],
   "metadata": {}
  }
 ]
}