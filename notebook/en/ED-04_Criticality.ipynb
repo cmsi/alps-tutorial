{
 "metadata": {
  "name": ""
 },
 "nbformat": 3,
 "nbformat_minor": 0,
 "worksheets": [
  {
   "cells": [
    {
     "cell_type": "markdown",
     "metadata": {},
     "source": [
      "# ALPS_2_Tutorials:ED-04_Criticality"
     ]
    },
    {
     "cell_type": "markdown",
     "metadata": {},
     "source": [
      "In this tutorial, we will look at critical spin chains and make a connection to their description in terms of conformal field theory."
     ]
    },
    {
     "cell_type": "markdown",
     "metadata": {},
     "source": [
      "# Ising chain "
     ]
    },
    {
     "cell_type": "markdown",
     "metadata": {},
     "source": [
      "The first model we will consider is the critical Ising chain, given by the Hamiltonian"
     ]
    },
    {
     "cell_type": "markdown",
     "metadata": {},
     "source": [
      "$H=J_{z} \\sum_{\\langle i,j \\rangle} S^i_z S^j_z + \\Gamma \\sum_i S^i_x$"
     ]
    },
    {
     "cell_type": "markdown",
     "metadata": {},
     "source": [
      "Here, the first sum runs over pairs of nearest neighbours. $\\Gamma$ is referred to as transverse field; the system becomes critical for $\\Gamma/J=\\frac{1}{2}$. For $\\Gamma=0$, the ground state is antiferromagnetic for $J>0$ and ferromagnetic for $J < 0$. The system is exactly solvable ([P. Pfeuty, Annals of Physics: 57, 79-90 (1970)](http://dx.doi.org/10.1016/0003-4916(70)90270-8))."
     ]
    },
    {
     "cell_type": "markdown",
     "metadata": {},
     "source": [
      "At criticality, this system is described by a conformal field theory (for an introduction, consider e.g. [this review by John Cardy](http://www-thphys.physics.ox.ac.uk/people/JohnCardy/lh2008.pdf )). In that case, the low-lying states can be identified with fields of the CFT and their energies are related to the so-called scaling dimensions of these operators. A physical implication of the scaling dimensions is that they describe the behaviour of certain correlation functions of a conformal field theory. For example, for certain fields (quasi-primary fields) the two-point correlation will behave as<br>\n",
      "$\\langle \\phi(r_1) \\phi(r_2) \\rangle \\sim |r_1 - r_2|^{-2\\Delta}.$<br>\n",
      "In the above equation, $\\Delta$ refers to the scaling dimension of that field. The scaling fields occur in groups: the lowest one, referred to as primary field, comes with an infinite number of descendants with scaling dimension $\\Delta + n, n \\in \\lbrace 1, 2, 3, ... \\rbrace$."
     ]
    },
    {
     "cell_type": "markdown",
     "metadata": {},
     "source": [
      "In the exact solution of the Ising model (Eq. (3.7) in the paper above), the long-rangle correlations are found to decay as:<br>\n",
      "$\\langle S^i_z S^{i+n}_z \\rangle \\sim n^{-2*1/8}$<br>\n",
      "$\\langle S^i_y S^{i+n}_y \\rangle \\sim n^{-2*(1+1/8)}$<br>\n",
      "$\\langle S^i_x S^{i+n}_x \\rangle \\sim n^{-2*1}$<br>\n",
      "Additionally, we expect the scaling dimension of the identity operator to be 0."
     ]
    },
    {
     "cell_type": "markdown",
     "metadata": {},
     "source": [
      "We therefore expect scaling dimensions of $0, 1/8, 1, 1+1/8$ to appear in the CFT of the Ising model. To see this, we will rescale all energies of the spectrum according to $E \\rightarrow \\frac{E-E_0}{(E_1-E_0)*1/8}$. This will force the two lowest states to occur where we expect the scaling dimensions; we can then check whether the rest of the spectrum is consistent with this."
     ]
    },
    {
     "cell_type": "markdown",
     "metadata": {},
     "source": [
      "## Python version "
     ]
    },
    {
     "cell_type": "markdown",
     "metadata": {},
     "source": [
      "Let us first go through the Python version of this tutorial. It can be found in [https://alps.comp-phys.org/static/tutorials2.1.0/ed-04-criticality/ising.py]. We will first import some modules:"
     ]
    },
    {
     "cell_type": "code",
     "collapsed": false,
     "input": [
      "import pyalps\n",
      "import numpy as np\n",
      "import matplotlib.pyplot as plt\n",
      "import pyalps.plot\n",
      "import math"
     ],
     "language": "python",
     "metadata": {},
     "outputs": []
    },
    {
     "cell_type": "markdown",
     "metadata": {},
     "source": [
      "Then, let us set up the parameters for two system sizes. Be careful to use the transverse field <tt>Gamma</tt>, not the longitudinal field <tt>h</tt>."
     ]
    },
    {
     "cell_type": "code",
     "collapsed": false,
     "input": [
      "parms = []\n",
      "for L in [10,12]:\n",
      "    parms.append({\n",
      "        'LATTICE'    : \"chain lattice\",\n",
      "        'MODEL'      : \"spin\",\n",
      "        'local_S'    : 0.5,\n",
      "        'Jxy'        : 0,\n",
      "        'Jz'         : -1,\n",
      "        'Gamma'      : 0.5,\n",
      "        'NUMBER_EIGENVALUES' : 5,\n",
      "        'L'          : L\n",
      "    })"
     ],
     "language": "python",
     "metadata": {},
     "outputs": []
    },
    {
     "cell_type": "markdown",
     "metadata": {},
     "source": [
      "As you can see, we will simulate two system sizes. Now let's set up the input files and run the simulation:"
     ]
    },
    {
     "cell_type": "code",
     "collapsed": false,
     "input": [
      "prefix = 'ising'\n",
      "input_file = pyalps.writeInputFiles(prefix,parms)\n",
      "res = pyalps.runApplication('sparsediag', input_file)\n",
      "# res = pyalps.runApplication('sparsediag', input_file, MPI=2, mpirun='mpirun')\n",
      "data = pyalps.loadEigenstateMeasurements(pyalps.getResultFiles(prefix=prefix))"
     ],
     "language": "python",
     "metadata": {},
     "outputs": []
    },
    {
     "cell_type": "markdown",
     "metadata": {},
     "source": [
      "By uncommenting the second-last line and adapting the number of jobs and the name of your mpirun executable (which will default to <tt>mpirun</tt>), you could have ALPS use several CPUs simultaneously."
     ]
    },
    {
     "cell_type": "markdown",
     "metadata": {},
     "source": [
      "First, we will extract the lowest and first excited for each value of L and collect this into a dictionary:"
     ]
    },
    {
     "cell_type": "code",
     "collapsed": false,
     "input": [
      "E0 = {}\n",
      "E1 = {}\n",
      "for Lsets in data:\n",
      "    L = pyalps.flatten(Lsets)[0].props['L']\n",
      "    allE = []\n",
      "    for q in pyalps.flatten(Lsets):\n",
      "        allE += list(q.y)\n",
      "    allE = np.sort(allE)\n",
      "    E0[L] = allE[0]\n",
      "    E1[L] = allE[1]"
     ],
     "language": "python",
     "metadata": {},
     "outputs": []
    },
    {
     "cell_type": "markdown",
     "metadata": {},
     "source": [
      "The above code works since we know that ALPS will load the energies in lists grouped by the simulation - <tt>data</tt> is therefore a list of lists where we have different simulations at the top level and different momenta below.\n",
      "Now we rescale the energies according to the equation given above and collect the data as a function of momenta:"
     ]
    },
    {
     "cell_type": "code",
     "collapsed": false,
     "input": [
      "for q in pyalps.flatten(data):\n",
      "    L = q.props['L']\n",
      "    q.y = (q.y-E0[L])/(E1[L]-E0[L]) * (1./8.)\n",
      "spectrum = pyalps.collectXY(data, 'TOTAL_MOMENTUM', 'Energy', foreach=['L'])"
     ],
     "language": "python",
     "metadata": {},
     "outputs": []
    },
    {
     "cell_type": "markdown",
     "metadata": {},
     "source": [
      "For comparison, let us also show the primary fields and their first few descendants:"
     ]
    },
    {
     "cell_type": "code",
     "collapsed": false,
     "input": [
      "for SD in [0.125, 1, 1+0.125, 2]:\n",
      "    d = pyalps.DataSet()\n",
      "    d.x = np.array([0,4])\n",
      "    d.y = SD+0*d.x\n",
      "    spectrum += [d]"
     ],
     "language": "python",
     "metadata": {},
     "outputs": []
    },
    {
     "cell_type": "markdown",
     "metadata": {},
     "source": [
      "Finally we create the plot:"
     ]
    },
    {
     "cell_type": "code",
     "collapsed": false,
     "input": [
      "pyalps.plot.plot(spectrum)\n",
      "plt.legend(prop={'size':8})\n",
      "plt.xlabel(\"$k$\")\n",
      "plt.ylabel(\"E_0\")\n",
      "plt.xlim(-0.02, math.pi+0.02)\n",
      "plt.show()"
     ],
     "language": "python",
     "metadata": {},
     "outputs": []
    },
    {
     "cell_type": "markdown",
     "metadata": {},
     "source": [
      "## Vistrails "
     ]
    },
    {
     "cell_type": "markdown",
     "metadata": {},
     "source": [
      "The Vistrails version of this tutorial is part of the file [https://alps.comp-phys.org/static/tutorials2.1.0/ed-04-criticality/ed-04-criticality.vt]."
     ]
    },
    {
     "cell_type": "markdown",
     "metadata": {},
     "source": [
      "## Command line "
     ]
    },
    {
     "cell_type": "markdown",
     "metadata": {},
     "source": [
      "The parameter file for the Ising simulation can be found [here](http://alps.comp-phys.org/static/tutorials2.1.0/ed-04-criticality/parm_ising)."
     ]
    },
    {
     "cell_type": "markdown",
     "metadata": {},
     "source": [
      "# Heisenberg chain "
     ]
    },
    {
     "cell_type": "markdown",
     "metadata": {},
     "source": [
      "Now let us consider a more complicated example: the antiferromagnetic Heisenberg chain for spin-1/2 degrees of freedom, described by\n",
      "$H = \\sum_{\\langle i,j \\rangle} \\mathbf{S}^i \\cdot \\mathbf{S}^j$"
     ]
    },
    {
     "cell_type": "markdown",
     "metadata": {},
     "source": [
      "The critical theory for this model has a central charge c=1 with primary fields 0, 0.5 and 1. As opposed to the Ising model, finite-size corrections vanish only logarithmically and are therefore quite pronounced at the system sizes we reach. The [Python file](https://alps.comp-phys.org/static/tutorials2.1.0/ed-04-criticality/heisenberg.py) is analogous to the above description and will therefore not be described here in detail. The primary difference is that we can make use of the $U(1)$ symmetry of the system; we also run the simulations only for the $S_z = 0$ sector, since this contains all the relevant states."
     ]
    },
    {
     "cell_type": "markdown",
     "metadata": {},
     "source": [
      "Looking at the spectrum, try to identify the different scaling fields and how they approach the correct values as the system size is increased. You will notice that this is quite difficult. For a detailed discussion of the system, refer to [I Affleck et al 1989 J. Phys. A: Math. Gen. 22 511](http://dx.doi.org/10.1088/0305-4470/22/5/015) and the next tutorial."
     ]
    },
    {
     "cell_type": "markdown",
     "metadata": {},
     "source": [
      "## Command line"
     ]
    },
    {
     "cell_type": "markdown",
     "metadata": {},
     "source": [
      "The parameter file can be found [here](http://alps.comp-phys.org/static/tutorials2.2.0/ed-04-criticality/parm_heisenberg)"
     ]
    }
   ],
   "metadata": {}
  }
 ]
}