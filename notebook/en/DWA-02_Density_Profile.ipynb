{
 "metadata": {
  "name": ""
 },
 "nbformat": 3,
 "nbformat_minor": 0,
 "worksheets": [
  {
   "cells": [
    {
     "cell_type": "markdown",
     "metadata": {},
     "source": [
      "# ALPS_2_Tutorials:DWA-02_Density_Profile"
     ]
    },
    {
     "cell_type": "markdown",
     "metadata": {},
     "source": [
      "# Density profile"
     ]
    },
    {
     "cell_type": "markdown",
     "metadata": {},
     "source": [
      "As a second example of the dwa QMC code, we will study the density profile of an optical lattice in an harmonic trap."
     ]
    },
    {
     "cell_type": "markdown",
     "metadata": {},
     "source": [
      "## Column integrated density"
     ]
    },
    {
     "cell_type": "markdown",
     "metadata": {},
     "source": [
      "In this subsection, we want to mimick the experimental setup."
     ]
    },
    {
     "cell_type": "markdown",
     "metadata": {},
     "source": [
      "### Preparing and running the simulation from the command line"
     ]
    },
    {
     "cell_type": "markdown",
     "metadata": {},
     "source": [
      "The parameter file [parm2a](http://alps.comp-phys.org/static/tutorials2.2.0/dwa-02-density-profile/parm2a) sets up Monte Carlo simulation of a 120<sup>3</sup> optical lattice trap that mimicks the experiment:"
     ]
    },
    {
     "cell_type": "raw",
     "metadata": {},
     "source": [
      "LATTICE=\"inhomogeneous simple cubic lattice\"\n",
      "L=120\n",
      " \n",
      "MODEL='boson Hubbard\"\n",
      "Nmax=20\n",
      " \n",
      "t=1.\n",
      "U=8.11\n",
      "mu=\"4.05 - (0.0073752*(x-(L-1)/2.)*(x-(L-1)/2.) + 0.0036849*(y-(L-1)/2.)*(y-(L-1)/2.) + 0.0039068155*(z-(L-1)/2.)*(z-(L-1)/2.))\"\n",
      "  \n",
      "THERMALIZATION=1500\n",
      "SWEEPS=7000\n",
      "SKIP=50\n",
      "  \n",
      "MEASURE[Local Density]=1\n",
      " \n",
      "{ T=1. }"
     ]
    },
    {
     "cell_type": "markdown",
     "metadata": {},
     "source": [
      "Using the standard sequence of commands you can run the simulation using the quantum dwa code"
     ]
    },
    {
     "cell_type": "code",
     "collapsed": false,
     "input": [
      "%%bash\n",
      "parameter2xml parm2a\n",
      "dwa parm2a.in.xml"
     ],
     "language": "python",
     "metadata": {},
     "outputs": []
    },
    {
     "cell_type": "markdown",
     "metadata": {},
     "source": [
      "(This simulation roughly takes 3 hours.)"
     ]
    },
    {
     "cell_type": "markdown",
     "metadata": {},
     "source": [
      "### Preparing and running the simulation from Python"
     ]
    },
    {
     "cell_type": "markdown",
     "metadata": {},
     "source": [
      "To set up and run the simulation in Python we use the script  [tutorial2a.py](http://alps.comp-phys.org/static/tutorials2.2.0/dwa-02-density-profile/tutorial2a.py). The first parts of this script imports the required modules and then prepares the input files as a list of Python dictionaries:"
     ]
    },
    {
     "cell_type": "code",
     "collapsed": false,
     "input": [
      "import pyalps\n",
      " \n",
      "parms = [\n",
      "  {\n",
      "    'LATTICE' : 'inhomogeneous simple cubic lattice' ,\n",
      "    'L'       : 120 ,\n",
      "\n",
      "    'MODEL'   : 'boson Hubbard' ,\n",
      "    'Nmax'    : 20 ,\n",
      "\n",
      "    't'  : 1. ,\n",
      "    'U'  : 8.11 ,\n",
      "    'mu' : '4.05 - (0.0073752*(x-(L-1)/2.)*(x-(L-1)/2.) + 0.0036849*(y-(L-1)/2.)*(y-(L-1)/2.) + 0.0039068155*(z-(L-1)/2.)*(z-(L-1)/2.))' ,\n",
      "\n",
      "    'T'  : 1. ,\n",
      "\n",
      "    'THERMALIZATION' : 1500 ,\n",
      "    'SWEEPS'         : 7000 ,\n",
      "    'SKIP'           : 50 , \n",
      "\n",
      "    'MEASURE[Local Density]': 1\n",
      "  }\n",
      "]"
     ],
     "language": "python",
     "metadata": {},
     "outputs": []
    },
    {
     "cell_type": "markdown",
     "metadata": {},
     "source": [
      "We next convert this into a job file in XML format and run the worm simulation:"
     ]
    },
    {
     "cell_type": "code",
     "collapsed": false,
     "input": [
      "input_file = pyalps.writeInputFiles('parm2a', parms)\n",
      "res = pyalps.runApplication('dwa', input_file)"
     ],
     "language": "python",
     "metadata": {},
     "outputs": []
    },
    {
     "cell_type": "markdown",
     "metadata": {},
     "source": [
      "We now have the same output files as in the command line version."
     ]
    },
    {
     "cell_type": "markdown",
     "metadata": {},
     "source": [
      "(This simulation roughly takes roughly 3 hours.)"
     ]
    },
    {
     "cell_type": "markdown",
     "metadata": {},
     "source": [
      "### Evaluating the simulation and preparing plots using Python"
     ]
    },
    {
     "cell_type": "markdown",
     "metadata": {},
     "source": [
      "To load the results and prepare the plot for density profile we load the results from the output files from all output files starting with <tt>parm2a</tt>. The script is again in [tutorial2a.py](http://alps.comp-phys.org/static/tutorials2.2.0/dwa-02-density-profile/tutorial2a.py)"
     ]
    },
    {
     "cell_type": "code",
     "collapsed": false,
     "input": [
      "import pyalps\n",
      "data = pyalps.loadMeasurements(pyalps.getResultFiles(prefix='parm2a'), 'Local Density');"
     ],
     "language": "python",
     "metadata": {},
     "outputs": []
    },
    {
     "cell_type": "markdown",
     "metadata": {},
     "source": [
      "To visualize the column integrated density:"
     ]
    },
    {
     "cell_type": "code",
     "collapsed": false,
     "input": [
      "import pyalps.plot as aplt;\n",
      "aplt.plot3D(data, centeredAtOrigin=True)"
     ],
     "language": "python",
     "metadata": {},
     "outputs": []
    },
    {
     "cell_type": "markdown",
     "metadata": {},
     "source": [
      "### Setting up and running the simulation in Vistrails"
     ]
    },
    {
     "cell_type": "markdown",
     "metadata": {},
     "source": [
      "To run the simulation in Vistrails open the file [dwa-02-density-profile.vt](http://alps.comp-phys.org/static/tutorials2.2.0/dwa-02-density-profile/dwa-02-density-profile.vt) and look at the workflow labeled \"Column integrated density profile\". Click on \"Execute\" to prepare the input file, run the simulation and create the output figure."
     ]
    },
    {
     "cell_type": "markdown",
     "metadata": {},
     "source": [
      "(The simulation takes roughly 3 hours from scratch.)"
     ]
    },
    {
     "cell_type": "markdown",
     "metadata": {},
     "source": [
      "## Cross section density"
     ]
    },
    {
     "cell_type": "markdown",
     "metadata": {},
     "source": [
      "We want to observe a Mott plateau."
     ]
    },
    {
     "cell_type": "markdown",
     "metadata": {},
     "source": [
      "### Preparing and running the simulation from the command line"
     ]
    },
    {
     "cell_type": "markdown",
     "metadata": {},
     "source": [
      "The parameter file [parm2a](http://alps.comp-phys.org/static/tutorials2.2.0/dwa-02-density-profile/parm2a) sets up Monte Carlo simulation of a 80<sup>3</sup> optical lattice trap that mimicks the Bloch experiment:"
     ]
    },
    {
     "cell_type": "code",
     "collapsed": false,
     "input": [
      "LATTICE=\"inhomogeneous simple cubic lattice\"\n",
      "L=60\n",
      " \n",
      "MODEL=\"boson Hubbard\"\n",
      "Nmax=20\n",
      "  \n",
      "t=1.\n",
      "U=60.\n",
      "mu=\"40. - (0.09416*(x-(L-1)/2.)*(x-(L-1)/2.) + 0.12955*(y-(L-1)/2.)*(y-(L-1)/2.) + 0.11496*(z-(L-1)/2.)*(z-(L-1)/2.))\"\n",
      " \n",
      "THERMALIZATION=1000000\n",
      "SWEEPS=3000000\n",
      "SKIP=1000\n",
      " \n",
      "MEASURE[Local Density]=1\n",
      " \n",
      "{ T=1. }"
     ],
     "language": "python",
     "metadata": {},
     "outputs": []
    },
    {
     "cell_type": "code",
     "collapsed": false,
     "input": [
      "Using the standard sequence of commands you can run the simulation using the quantum dwa code"
     ],
     "language": "python",
     "metadata": {},
     "outputs": []
    },
    {
     "cell_type": "code",
     "collapsed": false,
     "input": [
      "%%bash\n",
      "parameter2xml parm2a\n",
      "dwa parm2a.in.xml"
     ],
     "language": "python",
     "metadata": {},
     "outputs": []
    },
    {
     "cell_type": "markdown",
     "metadata": {},
     "source": [
      "### Preparing and running the simulation from Python"
     ]
    },
    {
     "cell_type": "markdown",
     "metadata": {},
     "source": [
      "To set up and run the simulation in Python we use the script  [tutorial2b.py](http://alps.comp-phys.org/static/tutorials2.2.0/dwa-02-density-profile/tutorial2b.py). The first parts of this script imports the required modules and then prepares the input files as a list of Python dictionaries:"
     ]
    },
    {
     "cell_type": "code",
     "collapsed": false,
     "input": [
      "import pyalps\n",
      " \n",
      "parms = [\n",
      "  {\n",
      "    'LATTICE' : 'inhomogeneous simple cubic lattice' ,\n",
      "    'L'       : 60 ,\n",
      "    'MODEL'   : 'boson Hubbard' ,\n",
      "    'Nmax'    : 20 ,\n",
      "    't'  : 1. ,\n",
      "    'U'  : 60. ,\n",
      "    'mu' : '40. - (0.09416*(x-(L-1)/2.)*(x-(L-1)/2.) + 0.12955*(y-(L-1)/2.)*(y-(L-1)/2.) + 0.11496*(z-(L-1)/2.)*(z-(L-1)/2.))' , \n",
      "    'T'  : 1. ,\n",
      "    'THERMALIZATION' : 1000000 ,\n",
      "    'SWEEPS'         : 3000000 ,\n",
      "    'SKIP'           : 1000 , \n",
      "    'MEASURE[Local Density]': 1\n",
      "  }\n",
      "]"
     ],
     "language": "python",
     "metadata": {},
     "outputs": []
    },
    {
     "cell_type": "markdown",
     "metadata": {},
     "source": [
      "We next convert this into a job file in XML format and run the worm simulation:"
     ]
    },
    {
     "cell_type": "code",
     "collapsed": false,
     "input": [
      "input_file = pyalps.writeInputFiles('parm2b', parms)\n",
      "res = pyalps.runApplication('dwa', input_file)"
     ],
     "language": "python",
     "metadata": {},
     "outputs": []
    },
    {
     "cell_type": "markdown",
     "metadata": {},
     "source": [
      "We now have the same output files as in the command line version."
     ]
    },
    {
     "cell_type": "markdown",
     "metadata": {},
     "source": [
      "### Evaluating the simulation and preparing plots using Python"
     ]
    },
    {
     "cell_type": "markdown",
     "metadata": {},
     "source": [
      "To load the results and prepare the plot for density profile we load the results from the output files from all output files starting with <tt>parm2b</tt>. The script is again in [tutorial2b.py](http://alps.comp-phys.org/static/tutorials2.2.0/dwa-02-density-profile/tutorial2b.py)"
     ]
    },
    {
     "cell_type": "code",
     "collapsed": false,
     "input": [
      "import pyalps\n",
      "data = pyalps.loadMeasurements(pyalps.getResultFiles(prefix='parm2b'), 'Local Density');"
     ],
     "language": "python",
     "metadata": {},
     "outputs": []
    },
    {
     "cell_type": "markdown",
     "metadata": {},
     "source": [
      "To visualize the cross-section density at the center:"
     ]
    },
    {
     "cell_type": "code",
     "collapsed": false,
     "input": [
      "import pyalps.plot as aplt;\n",
      "aplt.plot3D(data, centeredAtOrigin=True, layer=\"center\")"
     ],
     "language": "python",
     "metadata": {},
     "outputs": []
    },
    {
     "cell_type": "markdown",
     "metadata": {},
     "source": [
      "### Setting up and running the simulation in Vistrails"
     ]
    },
    {
     "cell_type": "markdown",
     "metadata": {},
     "source": [
      "To run the simulation in Vistrails open the file [dwa-02-density-profile.vt](http://alps.comp-phys.org/static/tutorials2.2.0/dwa-02-density-profile/dwa-02-density-profile.vt) and look at the workflow labeled \"Cross-sectional density profile\". Click on \"Execute\" to prepare the input file, run the simulation and create the output figure."
     ]
    },
    {
     "cell_type": "markdown",
     "metadata": {},
     "source": [
      "To run the next workflow \"Advanced visualization of 3D density profiles\", you have to first specify the directory **archive_dir** for archiving in the toolbox **Archiving simulation**."
     ]
    },
    {
     "cell_type": "markdown",
     "metadata": {},
     "source": [
      "## Advanced visualization: cross-sectional density profile"
     ]
    },
    {
     "cell_type": "markdown",
     "metadata": {},
     "source": [
      "### Enhancing with Vistrails VTK package"
     ]
    },
    {
     "cell_type": "markdown",
     "metadata": {},
     "source": [
      "To run the simulation in Vistrails open the file [dwa-02-density-profile.vt](http://alps.comp-phys.org/static/tutorials2.2.0/dwa-02-density-profile/dwa-02-density-profile.vt) and look at the workflow labeled \"Advanced visualization\". Click on \"Execute\" to prepare the input file, run the simulation and create the output figure."
     ]
    },
    {
     "cell_type": "markdown",
     "metadata": {},
     "source": [
      "&copy; 2013 by Matthias Troyer, Ping Nang Ma"
     ]
    }
   ],
   "metadata": {}
  }
 ]
}