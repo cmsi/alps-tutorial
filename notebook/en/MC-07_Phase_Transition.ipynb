{
 "metadata": {
  "name": ""
 },
 "nbformat": 3,
 "nbformat_minor": 0,
 "worksheets": [
  {
   "cells": [
    {
     "cell_type": "markdown",
     "metadata": {},
     "source": [
      "# ALPS_2_Tutorials:MC-07_Phase_Transition"
     ]
    },
    {
     "cell_type": "markdown",
     "metadata": {},
     "source": [
      "# Introduction "
     ]
    },
    {
     "cell_type": "markdown",
     "metadata": {},
     "source": [
      "The goal of this tutorial is to learn how to detect a second-order phase transition from finite-size simulations, using the venerable example of the 2d Ising model. No true phase transition can occur on a finite system. Nevertheless finite-size simulations show clear precursor signs of the phase transition which, combined with finite-size scaling, allow a precise determination of the universality class of a continuous phase transition."
     ]
    },
    {
     "cell_type": "markdown",
     "metadata": {},
     "source": [
      "Almost everything is known about the phase transition in the 2d Ising model since it is exactly solvable. In this tutotial, we will try to recover the location of the critical point, as well as critical exponents as if we would not know them in order to illustrate the methods. To make precise estimations requires quite some time. For this let us start the final simulation parameters in the background while doing the first part of the tutorial. "
     ]
    },
    {
     "cell_type": "markdown",
     "metadata": {},
     "source": [
      "You can start the second simulation in the background with the parameter file [parm7b](http://alps.comp-phys.org/static/tutorials2.2.0/mc-07-phase-transition/parm7b) and type:"
     ]
    },
    {
     "cell_type": "code",
     "collapsed": false,
     "input": [
      "%%bash\n",
      "parameter2xml parm7b\n",
      "spinmc --Tmin 10  parm7b.in.xml &"
     ],
     "language": "python",
     "metadata": {},
     "outputs": []
    },
    {
     "cell_type": "markdown",
     "metadata": {},
     "source": [
      "or run the first part of the [tutorial7b.py](http://alps.comp-phys.org/static/tutorials2.2.0/mc-07-phase-transition/tutorial7b.py):"
     ]
    },
    {
     "cell_type": "code",
     "collapsed": false,
     "input": [
      "import pyalps\n",
      "import matplotlib.pyplot as plt\n",
      "import pyalps.plot\n",
      "import numpy as np\n",
      "import pyalps.fit_wrapper as fw\n",
      " \n",
      "#prepare the input parameters \n",
      "parms = []\n",
      "for l in [32,48,64]:\n",
      "    for t in [2.24, 2.25, 2.26, 2.27, 2.28, 2.29, 2.30, 2.31, 2.32, 2.33, 2.34, 2.35]:\n",
      "        parms.append(\n",
      "            { \n",
      "              'LATTICE'        : \"square lattice\", \n",
      "              'T'              : t,\n",
      "              'J'              : 1 ,\n",
      "              'THERMALIZATION' : 5000,\n",
      "              'SWEEPS'         : 150000,\n",
      "              'UPDATE'         : \"cluster\",\n",
      "              'MODEL'          : \"Ising\",\n",
      "              'L'              : l\n",
      "            }  \n",
      "    )\n",
      " \n",
      "#write the input file and run the simulation\n",
      "input_file = pyalps.writeInputFiles('parm7b',parms) \n",
      "pyalps.runApplication('spinmc',input_file,Tmin=5)"
     ],
     "language": "python",
     "metadata": {},
     "outputs": []
    },
    {
     "cell_type": "markdown",
     "metadata": {},
     "source": [
      "If you want to do this tutorial in Vistrails, download the Vistrails files [mc-07-tutorial.vt](http://alps.comp-phys.org/static/tutorials2.2.0/mc-07-phase-transition/mc-07-tutorial.vt)."
     ]
    },
    {
     "cell_type": "markdown",
     "metadata": {},
     "source": [
      "# Locate roughly the phase transition "
     ]
    },
    {
     "cell_type": "markdown",
     "metadata": {},
     "source": [
      "First, let us make a rough temperature scan on small systems, in order to locate roughly the critical range. Use the parameter file [parm7a](http://alps.comp-phys.org/static/tutorials2.2.0/mc-07-phase-transition/parm7a) and the command."
     ]
    },
    {
     "cell_type": "code",
     "collapsed": false,
     "input": [
      "%%bash\n",
      "parameter2xml parm7a\n",
      "spinmc --Tmin 5 parm7a.in.xml"
     ],
     "language": "python",
     "metadata": {},
     "outputs": []
    },
    {
     "cell_type": "markdown",
     "metadata": {},
     "source": [
      "Alternatively, you can run the simulations in python with the file [utorial7a.py](http://alps.comp-phys.org/static/tutorials2.2.0/mc-07-phase-transition/tutorial7a.py):"
     ]
    },
    {
     "cell_type": "code",
     "collapsed": false,
     "input": [
      "import pyalps\n",
      "import matplotlib.pyplot as plt\n",
      "import pyalps.plot\n",
      " \n",
      "#prepare the input parameters\n",
      "parms = []\n",
      "for l in [4,8,16]: \n",
      "    for t in [5.0,4.5,4.0,3.5,3.0,2.9,2.8,2.7]:\n",
      "        parms.append(\n",
      "            { \n",
      "              'LATTICE'        : \"square lattice\", \n",
      "              'T'              : t,\n",
      "              'J'              : 1 ,\n",
      "              'THERMALIZATION' : 1000,\n",
      "              'SWEEPS'         : 400000,\n",
      "              'UPDATE'         : \"cluster\",\n",
      "              'MODEL'          : \"Ising\",\n",
      "              'L'              : l\n",
      "            }\n",
      "    )\n",
      "    for t in [2.6, 2.5, 2.4, 2.3, 2.2, 2.1, 2.0, 1.9, 1.8, 1.7, 1.6, 1.5, 1.2]:\n",
      "        parms.append(\n",
      "            { \n",
      "              'LATTICE'        : \"square lattice\", \n",
      "              'T'              : t,\n",
      "              'J'              : 1 ,\n",
      "              'THERMALIZATION' : 1000,\n",
      "              'SWEEPS'         : 40000,\n",
      "              'UPDATE'         : \"cluster\",\n",
      "              'MODEL'          : \"Ising\",\n",
      "              'L'              : l\n",
      "            }\n",
      "    )\n",
      " \n",
      "#write the input file and run the simulation\n",
      "input_file = pyalps.writeInputFiles('parm7a',parms)\n",
      "pyalps.runApplication('spinmc',input_file,Tmin=5)"
     ],
     "language": "python",
     "metadata": {},
     "outputs": []
    },
    {
     "cell_type": "markdown",
     "metadata": {},
     "source": [
      "## Magnetization, susceptibility and specific heat "
     ]
    },
    {
     "cell_type": "markdown",
     "metadata": {},
     "source": [
      "The order parameter describing the low-temperature phase in the Ising model is the magnetization per site m. Of course, on a finite-system, $<m>$ is zero by symmetry since there is no true symmetry breaking, and one should rather look at the average absolute value of magnetization per site.\n",
      "In order to evaluate the data and load the observables we want to inspect run the following lines in the python shell:"
     ]
    },
    {
     "cell_type": "code",
     "collapsed": false,
     "input": [
      "pyalps.evaluateSpinMC(pyalps.getResultFiles(prefix='parm7a'))\n",
      " \n",
      "#load the observables and collect them as function of temperature T\n",
      "data = pyalps.loadMeasurements(pyalps.getResultFiles(prefix='parm7a'),['|Magnetization|', 'Connected Susceptibility', 'Specific Heat', 'Binder Cumulant', 'Binder Cumulant U2'])\n",
      "magnetization_abs = pyalps.collectXY(data,x='T',y='|Magnetization|',foreach=['L'])\n",
      "connected_susc = pyalps.collectXY(data,x='T',y='Connected Susceptibility',foreach=['L'])\n",
      "spec_heat = pyalps.collectXY(data,x='T',y='Specific Heat',foreach=['L'])\n",
      "binder_u4 = pyalps.collectXY(data,x='T',y='Binder Cumulant',foreach=['L'])\n",
      "binder_u2 = pyalps.collectXY(data,x='T',y='Binder Cumulant U2',foreach=['L'])"
     ],
     "language": "python",
     "metadata": {},
     "outputs": []
    },
    {
     "cell_type": "markdown",
     "metadata": {},
     "source": [
      "and make a a plot of the |Magnetization| versus $T$:"
     ]
    },
    {
     "cell_type": "code",
     "collapsed": false,
     "input": [
      "plt.figure()\n",
      "pyalps.plot.plot(magnetization_abs)\n",
      "plt.xlabel('Temperature $T$')\n",
      "plt.ylabel('Magnetization $|m|$')\n",
      "plt.title('2D Ising model')"
     ],
     "language": "python",
     "metadata": {},
     "outputs": []
    },
    {
     "cell_type": "markdown",
     "metadata": {},
     "source": [
      "One can clearly see that the magnetization rises from its zero high-temperature value to its saturation value at low T. The temperature at which it happens is not so clear, as the upturn gets sharper as system size is increased. To have a clearer idea, let us look at fluctuations of the magnetization."
     ]
    },
    {
     "cell_type": "markdown",
     "metadata": {},
     "source": [
      "For this, let us consider the connected susceptibility $\\chi = \\beta .N .( < m^2>- <|m|>^2)$, where $N$ is the total number of spins and where we subtracted the square of the average absolute value of magnetization, hence the name connected."
     ]
    },
    {
     "cell_type": "code",
     "collapsed": false,
     "input": [
      "plt.figure()\n",
      "pyalps.plot.plot(connected_susc)\n",
      "plt.xlabel('Temperature $T$')\n",
      "plt.ylabel('Connected Susceptibility $\\chi_c$')\n",
      "plt.title('2D Ising model')"
     ],
     "language": "python",
     "metadata": {},
     "outputs": []
    },
    {
     "cell_type": "markdown",
     "metadata": {},
     "source": [
      "One observes a marked peak around $T=2.2-2.4$, where fluctuations are strongest. We note that the peaks tend to diverge with system size; as we will see later, this divergence can be characterized by a critical exponent. "
     ]
    },
    {
     "cell_type": "markdown",
     "metadata": {},
     "source": [
      "This first rough estimation of the critical temperature is confirmed by looking at the behaviour of the specific heat, which characterizes fluctuations of energy : $C_v = \\beta^2 . N. ( < e^2 >- < e >^2 )$, where $e$ is the internal energy per site."
     ]
    },
    {
     "cell_type": "code",
     "collapsed": false,
     "input": [
      "plt.figure()\n",
      "pyalps.plot.plot(spec_heat)\n",
      "plt.xlabel('Temperature $T$')\n",
      "plt.ylabel('Specific Heat $c_v$')\n",
      "plt.title('2D Ising model')"
     ],
     "language": "python",
     "metadata": {},
     "outputs": []
    },
    {
     "cell_type": "markdown",
     "metadata": {},
     "source": [
      "We observe here a peak, albeit less marked, around the same values of temperature. We will account for the less pronounced divergence of the specific heat peak later too."
     ]
    },
    {
     "cell_type": "markdown",
     "metadata": {},
     "source": [
      "## Binder Cumulant "
     ]
    },
    {
     "cell_type": "markdown",
     "metadata": {},
     "source": [
      "Sometimes locating the maximum of a curve (such as the peaks in susceptibility or specific heat) is not always easy given the temperature grid used in the simulations. Moreover, and this can be seen in the previous plots, the peak temperature can drift with system size. This is also accounted for in the finite-size scaling theory outlined below."
     ]
    },
    {
     "cell_type": "markdown",
     "metadata": {},
     "source": [
      "An alternative efficient way of locating phase transitions is through the use of cumulants. Let us consider the ratio $U_4=< m^4> /<m^2>^2$, first introduced by Binder often called the Binder cumulant. At low temperature, this ratio tends to unity, whereas Gaussian fluctuations of the order parameter give a value 3 for $U_4$ in the high temperature phase. The non-trivial feature of the Binder cumulant resides in its value at the critical point, which can be shown to be universal and independent of the system size. Therefore, a plot of the Binder cumulant versus temperature allows a determination of Tc at the crossing points of the curves with different system sizes:"
     ]
    },
    {
     "cell_type": "code",
     "collapsed": false,
     "input": [
      "plt.figure()\n",
      "pyalps.plot.plot(binder_u4)\n",
      "plt.xlabel('Temperature $T$')\n",
      "plt.ylabel('Binder Cumulant U4 $g$')\n",
      "plt.title('2D Ising model')"
     ],
     "language": "python",
     "metadata": {},
     "outputs": []
    },
    {
     "cell_type": "markdown",
     "metadata": {},
     "source": [
      "From this last plot, we thus conclude that the phase transition is located in the finer range $T_c \\in [2.2,2.3]$. \n",
      "One can also consider another cumulant $U_2 = < m^2> / <|m|>^2$, which is is left as an exercice."
     ]
    },
    {
     "cell_type": "markdown",
     "metadata": {},
     "source": [
      "#  Locate precisely the phase transition, first estimates of critical exponents, collapse plots "
     ]
    },
    {
     "cell_type": "markdown",
     "metadata": {},
     "source": [
      "We can now try to perform a more precise determination of the nature of the phase transition using a finer grid of temperature points in the critical range T and using larger system sizes. For this, we will use the results of [parm7b](http://alps.comp-phys.org/static/tutorials2.2.0/mc-07-phase-transition/parm7b). As before we evaluate and load the specific observables from the result files."
     ]
    },
    {
     "cell_type": "code",
     "collapsed": false,
     "input": [
      "pyalps.evaluateSpinMC(pyalps.getResultFiles(prefix='parm7b'))\n",
      " \n",
      "#load the observables and collect them as function of temperature T\n",
      "data = pyalps.loadMeasurements(pyalps.getResultFiles(prefix='parm7b'),['|Magnetization|', 'Connected Susceptibility', 'Specific Heat', 'Binder Cumulant', 'Binder Cumulant U2'])\n",
      "magnetization_abs = pyalps.collectXY(data,x='T',y='|Magnetization|',foreach=['L'])\n",
      "connected_susc = pyalps.collectXY(data,x='T',y='Connected Susceptibility',foreach=['L'])\n",
      "spec_heat = pyalps.collectXY(data,x='T',y='Specific Heat',foreach=['L'])\n",
      "binder_u4 = pyalps.collectXY(data,x='T',y='Binder Cumulant',foreach=['L'])\n",
      "binder_u2 = pyalps.collectXY(data,x='T',y='Binder Cumulant U2',foreach=['L'])"
     ],
     "language": "python",
     "metadata": {},
     "outputs": []
    },
    {
     "cell_type": "markdown",
     "metadata": {},
     "source": [
      "## Collapsing data "
     ]
    },
    {
     "cell_type": "markdown",
     "metadata": {},
     "source": [
      "We start with performing the Binder cumulant crossing:"
     ]
    },
    {
     "cell_type": "code",
     "collapsed": false,
     "input": [
      "plt.figure()\n",
      "pyalps.plot.plot(binder_u4)\n",
      "plt.xlabel('Temperature $T$')\n",
      "plt.ylabel('Binder Cumulant U4 $g$')\n",
      "plt.title('2D Ising model')\n",
      "plt.show()"
     ],
     "language": "python",
     "metadata": {},
     "outputs": []
    },
    {
     "cell_type": "markdown",
     "metadata": {},
     "source": [
      "What is the estimate of $T_c$ you obtain from this plot ? There is more information in this plot. Indeed, the theory of finite size scaling indicates the following scaling form for the Binder cumulant $U_4 = f (L^{1/\\nu} (T-T_c)/T_c)$, where $f$ is a universal function. For the different system sizes used in parm7b, plot the Binder cumulant as a function of $(T-T_c)/T_c$ where $T_c$ is the estimation you determined previously: all the curves should cross close to 0. Now try to find a good constant $a$ such that when multiplied by $L^a$, all curves corresponding to system size L, collapse into a single master curve, i.e. the curve for $L=32$ should be multiplied by $32^a$, $L=48$ by $48^a$ etc."
     ]
    },
    {
     "cell_type": "markdown",
     "metadata": {},
     "source": [
      "*Hint* : Try $a$ close to unity ..."
     ]
    },
    {
     "cell_type": "code",
     "collapsed": false,
     "input": [
      "#perform a data collapse of the Binder cumulant: \n",
      "Tc=... #your estimate\n",
      "a=...  #your estimate"
     ],
     "language": "python",
     "metadata": {},
     "outputs": []
    },
    {
     "cell_type": "code",
     "collapsed": false,
     "input": [
      "for d in binder_u4:\n",
      "    d.x -= Tc\n",
      "    d.x = d.x/Tc\n",
      "    l = d.props['L']\n",
      "    d.x = d.x * pow(float(l),a)\n",
      " \n",
      "plt.figure()\n",
      "pyalps.plot.plot(binder_u4)\n",
      "plt.xlabel('$L^a(T-T_c)/T_c$')\n",
      "plt.ylabel('Binder Cumulant U4 $g$')\n",
      "plt.title('2D Ising model')\n",
      "plt.show()"
     ],
     "language": "python",
     "metadata": {},
     "outputs": []
    },
    {
     "cell_type": "markdown",
     "metadata": {},
     "source": [
      "What you are currently doing is a data collapse in the scaling regime, a famous technique to obtain critical exponents. In this case, you can read off the correlation length critical exponent : $\\nu = 1/a$. The Binder cumulant collapse is pretty useful as it allows to determine $\\nu$ independently of other critical exponents. A data collapse for other quantities often need to also scale the quantity on the y-axis by some other exponent $L^b$."
     ]
    },
    {
     "cell_type": "markdown",
     "metadata": {},
     "source": [
      "## Critical exponents "
     ]
    },
    {
     "cell_type": "markdown",
     "metadata": {},
     "source": [
      "Now consider the specific heat and connected susceptibility:"
     ]
    },
    {
     "cell_type": "code",
     "collapsed": false,
     "input": [
      "#make a plot of the specific heat and connected susceptibility:\n",
      "plt.figure()\n",
      "pyalps.plot.plot(connected_susc)\n",
      "plt.xlabel('Temperature $T$')\n",
      "plt.ylabel('Connected Susceptibility $\\chi_c$')\n",
      "plt.title('2D Ising model')\n",
      " \n",
      "plt.figure()\n",
      "pyalps.plot.plot(spec_heat)\n",
      "plt.xlabel('Temperature $T$')\n",
      "plt.ylabel('Specific Heat $c_v$')\n",
      "plt.title('2D Ising model')\n",
      "plt.show()"
     ],
     "language": "python",
     "metadata": {},
     "outputs": []
    },
    {
     "cell_type": "markdown",
     "metadata": {},
     "source": [
      "Both connected susceptibility and specific heat peak at values of T which are slightly different from the $T_c$ obtained with the Binder cumulant crossing. Such small differences are expected on small finite-systems : the effective critical temperature $T_c(L)$ that one can define at the position of the peaks is expected to drift with system size : $T_c(L) = T_c + A L^{-1/\\nu}$. The constant $A$ can be different with different ways of defining $T_c(L)$.\n",
      "What about critical exponents ? They can be read off from the value of the connected susceptibility or specific heat, either at $T_c(L)$ or at the $T_c$ obtained from the Binder cumulant. \n",
      "One expects the following scaling : $\\chi (T_c) \\sim L^{\\gamma/\\nu}$ and $C_v (T_c) \\sim L^{\\alpha / \\nu}$\n",
      "For instance, locate the maximum of the connected susceptibility for the different curves, plot it as a function of $L$ and try a power-law fit. \n",
      "Note that by using relations between critical exponents $\\gamma / \\nu = 2 - \\eta$. What value of $\\eta$ do you obtain ?"
     ]
    },
    {
     "cell_type": "code",
     "collapsed": false,
     "input": [
      "#make a fit of the connected susceptibility as a function of L:\n",
      "cs_mean=[]\n",
      "for q in connected_susc:\n",
      "    cs_mean.append(np.array([d.mean for d in q.y]))\n",
      "\n",
      "peak_cs = pyalps.DataSet()\n",
      "peak_cs.props = pyalps.dict_intersect([q.props for q in connected_susc])\n",
      "peak_cs.y = np.array([np.max(q) for q in cs_mean])\n",
      "peak_cs.x = np.array([q.props['L'] for q in connected_susc])\n",
      " \n",
      "sel = np.argsort(peak_cs.x)\n",
      "peak_cs.y = peak_cs.y[sel]\n",
      "peak_cs.x = peak_cs.x[sel]\n",
      "\n",
      "pars = [fw.Parameter(1), fw.Parameter(1)]\n",
      "f = lambda self, x, pars: pars[0]()*np.power(x,pars[1]())\n",
      "fw.fit(None, f, pars, peak_cs.y, peak_cs.x)\n",
      "prefactor = pars[0].get()\n",
      "gamma_nu = pars[1].get()\n",
      "\n",
      "plt.figure()\n",
      "plt.plot(peak_cs.x, f(None, peak_cs.x, pars))\n",
      "pyalps.plot.plot(peak_cs)\n",
      "plt.xlabel('System Size $L$')\n",
      "plt.ylabel('Connected Susceptibility $\\chi_c(T_c)$')\n",
      "plt.title('2D Ising model, $\\gamma$ is %.4s' % gamma_nu)\n",
      "plt.show()"
     ],
     "language": "python",
     "metadata": {},
     "outputs": []
    },
    {
     "cell_type": "markdown",
     "metadata": {},
     "source": [
      "Repeat the same procedure for the specific heat. What value of $\\alpha$ do you obtain ? Note that $\\alpha$ can in general be positive or negative, meaning that the specific heat need not to diverge at a continuous transition in contrast with the connected susceptibility."
     ]
    },
    {
     "cell_type": "code",
     "collapsed": false,
     "input": [
      "#make a fit of the specific heat as a function of L:\n",
      "sh_mean=[]\n",
      "for q in spec_heat:\n",
      "    sh_mean.append(np.array([d.mean for d in q.y]))\n",
      "  \n",
      "peak_sh = pyalps.DataSet()\n",
      "peak_sh.props = pyalps.dict_intersect([q.props for q in spec_heat])\n",
      "peak_sh.y = np.array([np.max(q) for q in sh_mean])\n",
      "peak_sh.x = np.array([q.props['L'] for q in spec_heat])\n",
      "\n",
      "sel = np.argsort(peak_sh.x)\n",
      "peak_sh.y = peak_sh.y[sel]\n",
      "peak_sh.x = peak_sh.x[sel] \n",
      "\n",
      "pars = [fw.Parameter(1), fw.Parameter(1)]\n",
      "f = lambda self, x, pars: pars[0]()*np.power(x,pars[1]())\n",
      "fw.fit(None, f, pars, peak_sh.y, peak_sh.x)\n",
      "prefactor = pars[0].get()\n",
      "alpha_nu = pars[1].get()\n",
      "\n",
      "plt.figure()\n",
      "plt.plot(peak_sh.x, f(None, peak_sh.x, pars))\n",
      "pyalps.plot.plot(peak_cs)\n",
      "plt.xlabel('System Size $L$')\n",
      "plt.ylabel('Specific Heat $c_v(T_c)$')\n",
      "plt.title(r'2D Ising model, $\\alpha$ is %.4s' % alpha_nu)\n",
      "plt.show()"
     ],
     "language": "python",
     "metadata": {},
     "outputs": []
    },
    {
     "cell_type": "markdown",
     "metadata": {},
     "source": [
      "As an exercice, you can repeat the same analysis for the absolute magnetization, which scales as $L^{-\\beta/\\nu}$."
     ]
    },
    {
     "cell_type": "markdown",
     "metadata": {},
     "source": [
      "Also, try to perform a data collapse for the connected susceptibility and magnetization."
     ]
    },
    {
     "cell_type": "markdown",
     "metadata": {},
     "source": [
      "*Hint* : The corresponding scaling forms are $\\chi = L^{2-\\eta} g ( L^{1/\\nu} (T-T_c)/T_c))$ and $|m| = L^{-\\beta/\\nu} h ( L^{1/\\nu} (T-T_c)/T_c))$."
     ]
    },
    {
     "cell_type": "code",
     "collapsed": false,
     "input": [
      " #make a data collapse of the connected susceptibility as a function of (T-Tc)/Tc:\n",
      " for d in connected_susc:\n",
      "     d.x -= Tc\n",
      "     d.x = d.x/Tc\n",
      "     l = d.props['L']\n",
      "     d.x = d.x * pow(float(l),a)\n",
      " \n",
      " two_minus_eta=... #your estimate\n",
      " for d in connected_susc:\n",
      "     l = d.props['L']\n",
      "     d.y = d.y/pow(float(l),two_eta)\n",
      " \n",
      " plt.figure()\n",
      " pyalps.plot.plot(connected_susc)\n",
      " plt.xlabel(' $L^a(T-T_c)/T_c$')\n",
      " plt.ylabel(r'$L^{\\gamma/\\nu}\\chi_c$')\n",
      " plt.title('2D Ising model')\n",
      " plt.show()\n",
      "\n",
      " #make a data collapse of the |magnetization| as a function of (T-Tc)/Tc\n",
      " for d in magnetization_abs:\n",
      "     d.x -= Tc\n",
      "     d.x = d.x/Tc\n",
      "     l = d.props['L']\n",
      "     d.x = d.x * pow(float(l),a)\n",
      " beta_over_nu=... #your estimate    \n",
      " for d in magnetization_abs:\n",
      "     l = d.props['L']\n",
      "     d.y = d.y / pow(float(l),-beta_over_nu)\n",
      "  \n",
      " plt.figure()\n",
      " pyalps.plot.plot(magnetization_abs)\n",
      " plt.xlabel(' $L^a(T-T_c)/T_c$')\n",
      " plt.ylabel(r'$L^{-\\beta/\\nu} |m|$')\n",
      " plt.title('2D Ising model')\n",
      " plt.show()"
     ],
     "language": "python",
     "metadata": {},
     "outputs": []
    },
    {
     "cell_type": "markdown",
     "metadata": {},
     "source": [
      "#  Precise estimates of critical exponents "
     ]
    },
    {
     "cell_type": "markdown",
     "metadata": {},
     "source": [
      "The exact critical exponents of the 2d Ising are : $\\nu=1, \\eta=1/4, \\beta=1/8$ and $\\alpha=0$. On this last exponent : the specific heat does diverge, but logarithmically, not as power-law and hence the specific heat exponent is 0 dimensional. How do you compare your estimates with the exact values ?\n",
      " "
     ]
    },
    {
     "cell_type": "markdown",
     "metadata": {},
     "source": [
      "The quality of the estimates one obtains for the critical exponents and temperature increases considerably when using larger system sizes, which were not accessible during the time scale of this tutorial. Moreover, they also rely on the quality of the estimate of the critical temperature. For more precision on critical exponents, one can enforce the exact value of the critical temperature $T_c = 2 / \\ln(1+\\sqrt(2)) = 2.269\\ldots$ and simulate larger system sizes, which we leave to you as an exercise.\n",
      "Since there is only one value of temperature as a parameter, the previous way of determining $\\nu$ through a data collapse is not that helpful. \n",
      "The above scaling form for the Binder cumulant allows for another more direct determination of \\nu. Derivating the Binder cumulant with respect to T, one easily sees that the derivative $dU_4/dT$ scales as $L^{1/\\nu}$ at $T_c$. You can either obtain this derivative from a numerical differentiation of your data, or better, it can also be obtained as a thermodynamical average during the Monte Carlo simulations. Note that this requires good statistics. Once you have obtained the data, the exponent $\\nu$ can be determined by a power-law fit of this derivative $dU_4/dT$ at $T_c$ as a function of system size $L$."
     ]
    }
   ],
   "metadata": {}
  }
 ]
}