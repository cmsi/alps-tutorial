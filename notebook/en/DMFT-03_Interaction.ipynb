{
 "metadata": {
  "name": ""
 },
 "nbformat": 3,
 "nbformat_minor": 0,
 "worksheets": [
  {
   "cells": [
    {
     "cell_type": "markdown",
     "metadata": {},
     "source": [
      "# ALPS_2_Tutorials:DMFT-03_Interaction"
     ]
    },
    {
     "cell_type": "markdown",
     "metadata": {},
     "source": [
      "# Tutorial 03: Interaction Expansion CT-INT"
     ]
    },
    {
     "cell_type": "markdown",
     "metadata": {},
     "source": [
      "It is instructive to run the same calculations as in Tutorial 02  with a CT-INT code. This code performs an [expansion in the interaction](http://link.aps.org/doi/10.1103/PhysRevB.72.035122) (instead of the hybridization in the case of CT-HYB).\n",
      "The corresponding python scripts are very similar, you can find them in the directory <tt>tutorials/dmft-03-interaction</tt>. As in the tutorial DMFT-02 you have the choice between a shorter version [tutorial3.py](http://alps.comp-phys.org/static/tutorials2.2.0/dmft-03-interaction/tutorial3.py) producing data for 2 temperature points (running roughly 10 minutes) or a longer version doing all 6 curves [tutorial3_long.py](http://alps.comp-phys.org/static/tutorials2.2.0/dmft-03-interaction/tutorial3_long.py) (30 minutes). The evaluation may be exactly as in the tutorial [[ALPS_2_Tutorials:DMFT-02_Hybridization]] done using the [tutorial2eval.py](http://alps.comp-phys.org/static/tutorials2.2.0/dmft-02-hybridization/tutorial2eval.py). The vistrails version is [Vistrails file](http://alps.comp-phys.org/static/tutorials2.2.0/dmft-03-interaction/dmft-03-interaction.vt)."
     ]
    },
    {
     "cell_type": "markdown",
     "metadata": {},
     "source": [
      "Tutorial by [[User:Gullc|Emanuel]] - Please don't hesitate to ask"
     ]
    }
   ],
   "metadata": {}
  }
 ]
}