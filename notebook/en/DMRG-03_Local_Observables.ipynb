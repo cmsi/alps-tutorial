{
 "metadata": {
  "name": ""
 },
 "nbformat": 3,
 "nbformat_minor": 0,
 "worksheets": [
  {
   "cells": [
    {
     "cell_type": "markdown",
     "metadata": {},
     "source": [
      "# ALPS_2_Tutorials:DMRG-03_Local_Observables"
     ]
    },
    {
     "cell_type": "markdown",
     "metadata": {},
     "source": [
      "# Local Observables"
     ]
    },
    {
     "cell_type": "markdown",
     "metadata": {},
     "source": [
      "As local observables we consider observables that are linked to one specific site. In the case of spin chains, the meaningful local observable is the local magnetization $\\langle S^z_i \\rangle $."
     ]
    },
    {
     "cell_type": "markdown",
     "metadata": {},
     "source": [
      "## Excitations in the Spin-1 Chain"
     ]
    },
    {
     "cell_type": "markdown",
     "metadata": {},
     "source": [
      "Take a chain of length $L=96$ and $D=200$. Calculate the local magnetization $\\langle S^z_i \\rangle $ and plot it versus the site $i$ for the ground states in the magnetisation sectors 0, 1, and 2."
     ]
    },
    {
     "cell_type": "markdown",
     "metadata": {},
     "source": [
      "What you should obtain is an essentially flat curve for sector 0, a magnetisation which is essentially concentrated at the chain ends for sector 1, and a magnetisation which is both at the chain ends and in the bulk of the chain for sector 2. This means that the first excitation of the open chain is a boundary excitation, which would not exist on a closed system, and the second excitation of the open chain is a boundary plus a bulk excitation, which is the one we are interested in. For an as of now unknown reason, the energy of the first bulk excitation therefore has to be extracted from comparing sectors 1 and 2."
     ]
    },
    {
     "cell_type": "markdown",
     "metadata": {},
     "source": [
      "The morale of the story is that by looking at this local observable, we can distinguish boundary from bulk excitations in the spin-1 chain."
     ]
    },
    {
     "cell_type": "markdown",
     "metadata": {},
     "source": [
      "### Using parameter files"
     ]
    },
    {
     "cell_type": "markdown",
     "metadata": {},
     "source": [
      "The following parameter file [spin_one](http://alps.comp-phys.org/static/tutorials2.2.0/dmrg-03-local-observables/spin_one) will setup three individual runs, one for each spin sector (same as before, we shall use a smaller system and number of states for illustration):"
     ]
    },
    {
     "cell_type": "raw",
     "metadata": {},
     "source": [
      "LATTICE_LIBRARY=\"my_lattices.xml\"\n",
      "LATTICE=\"open chain lattice with special edges 32\"\n",
      "MODEL=\"spin\"\n",
      "local_S0=0.5\n",
      "local_S1=1\n",
      "CONSERVED_QUANTUMNUMBERS=\"N,Sz\"\n",
      "J=1\n",
      "NUMBER_EIGENVALUES=1\n",
      "SWEEPS=4\n",
      "MEASURE_LOCAL[Local magnetization]=Sz\n",
      "MAXSTATES=40\n",
      "{ Sz_total=0 }\n",
      "{ Sz_total=1 }\n",
      "{ Sz_total=2 }"
     ]
    },
    {
     "cell_type": "markdown",
     "metadata": {},
     "source": [
      "### Using Python"
     ]
    },
    {
     "cell_type": "markdown",
     "metadata": {},
     "source": [
      "The script [spin_one.py](http://alps.comp-phys.org/static/tutorials2.2.0/dmrg-03-local-observables/spin_one.py) runs one simulation for each of the three spin sectors."
     ]
    },
    {
     "cell_type": "code",
     "collapsed": false,
     "input": [
      "import pyalps\n",
      "import numpy as np\n",
      "import matplotlib.pyplot as plt\n",
      "import pyalps.plot\n",
      "\n",
      "parms = []\n",
      "for sz in [0,1,2]:\n",
      "   parms.append( { \n",
      "       'LATTICE_LIBRARY'           : 'my_lattices.xml',\n",
      "       'LATTICE'                   : 'open chain lattice with special edges 32',\n",
      "       'MODEL'                     : \"spin\",\n",
      "       'local_S0'                  : '0.5',\n",
      "       'local_S1'                  : '1',\n",
      "       'CONSERVED_QUANTUMNUMBERS'  : 'N,Sz',\n",
      "       'Sz_total'                  : sz,\n",
      "       'J'                         : 1,\n",
      "       'SWEEPS'                    : 4,\n",
      "       'NUMBER_EIGENVALUES'        : 1,\n",
      "       'MAXSTATES'                 : 40,\n",
      "       'MEASURE_LOCAL[Local magnetization]'   : 'Sz'\n",
      "   } )\n",
      "\n",
      "input_file = pyalps.writeInputFiles('parm_spin_one',parms)\n",
      "res = pyalps.runApplication('dmrg',input_file,writexml=True)"
     ],
     "language": "python",
     "metadata": {},
     "outputs": []
    },
    {
     "cell_type": "markdown",
     "metadata": {},
     "source": [
      "After loading the data files, we can extract the results for the local magnetization"
     ]
    },
    {
     "cell_type": "code",
     "collapsed": false,
     "input": [
      "data = pyalps.loadEigenstateMeasurements(pyalps.getResultFiles(prefix='parm_spin_one'))\n",
      "\n",
      "curves = []\n",
      "for run in data:\n",
      "   for s in run:\n",
      "       if s.props['observable'] == 'Local magnetization':\n",
      "           sz = s.props['Sz_total']\n",
      "           s.props['label'] = '$S_z = ' + str(sz) + '$'\n",
      "           s.y = s.y.flatten()\n",
      "           curves.append(s)"
     ],
     "language": "python",
     "metadata": {},
     "outputs": []
    },
    {
     "cell_type": "markdown",
     "metadata": {},
     "source": [
      "and plot them."
     ]
    },
    {
     "cell_type": "code",
     "collapsed": false,
     "input": [
      "plt.figure()\n",
      "pyalps.plot.plot(curves)\n",
      "plt.legend()\n",
      "plt.title('Magnetization of antiferromagnetic Heisenberg chain (S=1)')\n",
      "plt.ylabel('local magnetization')\n",
      "plt.xlabel('site')\n",
      "plt.show()"
     ],
     "language": "python",
     "metadata": {},
     "outputs": []
    },
    {
     "cell_type": "markdown",
     "metadata": {},
     "source": [
      "### Using Vistrails"
     ]
    },
    {
     "cell_type": "markdown",
     "metadata": {},
     "source": [
      "Open the file [dmrg-03-localobs.vt](http://alps.comp-phys.org/static/tutorials2.2.0/dmrg-03-local-observables/dmrg-03-localobs.vt) and select the workflow \"spin 1\"."
     ]
    },
    {
     "cell_type": "markdown",
     "metadata": {},
     "source": [
      "## Magnetisation in the Spin-1/2 Chain"
     ]
    },
    {
     "cell_type": "markdown",
     "metadata": {},
     "source": [
      "Repeat a similar calculation for the spin-1/2 chain in the lowest magnetisation sectors. What do you observe here?"
     ]
    },
    {
     "cell_type": "markdown",
     "metadata": {},
     "source": [
      "### Using parameter files"
     ]
    },
    {
     "cell_type": "markdown",
     "metadata": {},
     "source": [
      "The following parameter file will accomplish this:"
     ]
    },
    {
     "cell_type": "raw",
     "metadata": {},
     "source": [
      "LATTICE=\"open chain lattice\"\n",
      "MODEL=\"spin\"\n",
      "CONSERVED_QUANTUMNUMBERS=\"N,Sz\"\n",
      "SWEEPS=4\n",
      "J=1\n",
      "NUMBER_EIGENVALUES=1\n",
      "MEASURE_LOCAL[Local magnetization]=Sz\n",
      "L=32\n",
      "MAXSTATES=40\n",
      "{ Sz_total=0 }\n",
      "{ Sz_total=1 }\n",
      "{ Sz_total=2 }"
     ]
    },
    {
     "cell_type": "markdown",
     "metadata": {},
     "source": [
      "### Using Python"
     ]
    },
    {
     "cell_type": "markdown",
     "metadata": {},
     "source": [
      "Apart from the obvious parameter changes, the script [spin_one_half.py](http://alps.comp-phys.org/static/tutorials2.2.0/dmrg-03-local-observables/spin_one_half.py) is the same as the spin_one script explained above."
     ]
    },
    {
     "cell_type": "markdown",
     "metadata": {},
     "source": [
      "### Using Vistrails"
     ]
    },
    {
     "cell_type": "markdown",
     "metadata": {},
     "source": [
      "Select the workflow \"spin 1/2\" in the file [dmrg-03-localobs.vt](http://alps.comp-phys.org/static/tutorials2.2.0/dmrg-03-local-observables/dmrg-03-localobs.vt)"
     ]
    }
   ],
   "metadata": {}
  }
 ]
}