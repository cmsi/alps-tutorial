{
 "metadata": {
  "name": ""
 },
 "nbformat": 3,
 "nbformat_minor": 0,
 "worksheets": [
  {
   "cells": [
    {
     "cell_type": "markdown",
     "metadata": {},
     "source": [
      "# ALPS_2_Tutorials:MC-05_Bosons"
     ]
    },
    {
     "cell_type": "markdown",
     "metadata": {},
     "source": [
      "#  Quantum phase transitions in the Bose-Hubbard model  "
     ]
    },
    {
     "cell_type": "markdown",
     "metadata": {},
     "source": [
      "As an example of the worm QMC code we will study a quantum phase transition in the Bose-Hubbard mode."
     ]
    },
    {
     "cell_type": "markdown",
     "metadata": {},
     "source": [
      "## Superfluid density in the Bose Hubbard model "
     ]
    },
    {
     "cell_type": "markdown",
     "metadata": {},
     "source": [
      "### Preparing and running the simulation from the command line "
     ]
    },
    {
     "cell_type": "markdown",
     "metadata": {},
     "source": [
      "The parameter file [parm5a](http://alps.comp-phys.org/static/tutorials2.2.0/mc-05-bosons/parm5a) sets up Monte Carlo simulations of the quantum Bose Hubbard model on a square lattice with 4x4 sites for a couple of hopping parameters ($t=0.01, 0.02, ..., 0.1$) using the worm code."
     ]
    },
    {
     "cell_type": "code",
     "collapsed": false,
     "input": [
      "LATTICE=\"square lattice\";\n",
      "L=4;\n",
      "MODEL=\"boson Hubbard\";\n",
      "NONLOCAL=0;\n",
      "U    = 1.0;\n",
      "mu   = 0.5;\n",
      "Nmax = 2;\n",
      "T = 0.1;\n",
      "SWEEPS=500000;\n",
      "THERMALIZATION=10000;\n",
      "{ t=0.01; }\n",
      "{ t=0.02; }\n",
      "{ t=0.03; }\n",
      "{ t=0.04; }\n",
      "{ t=0.05; }\n",
      "{ t=0.06; }\n",
      "{ t=0.07; }\n",
      "{ t=0.08; }\n",
      "{ t=0.09; }\n",
      "{ t=0.1; }"
     ],
     "language": "python",
     "metadata": {},
     "outputs": []
    },
    {
     "cell_type": "markdown",
     "metadata": {},
     "source": [
      "Using the standard sequence of commands you can run the simulation using the quantum worm code"
     ]
    },
    {
     "cell_type": "code",
     "collapsed": false,
     "input": [
      "%%bash\n",
      "parameter2xml parm5a\n",
      "worm --Tmin 10 --write-xml parm5a.in.xml"
     ],
     "language": "python",
     "metadata": {},
     "outputs": []
    },
    {
     "cell_type": "markdown",
     "metadata": {},
     "source": [
      "### Preparing and running the simulation using Python "
     ]
    },
    {
     "cell_type": "markdown",
     "metadata": {},
     "source": [
      "To set up and run the simulation in Python we use the script [tutorial5a.py](http://alps.comp-phys.org/static/tutorials2.2.0/mc-05-bosons/tutorial5a.py). The first parts of this script imports the required modules and then prepares the input files as a list of Python dictionaries:"
     ]
    },
    {
     "cell_type": "code",
     "collapsed": false,
     "input": [
      "import pyalps\n",
      "import matplotlib.pyplot as plt\n",
      "import pyalps.plot\n",
      "\n",
      "parms = []\n",
      "for t in [0.01, 0.02, 0.03, 0.04, 0.05, 0.06, 0.07, 0.08, 0.09, 0.1]:\n",
      "   parms.append(\n",
      "       { \n",
      "         'LATTICE'        : \"square lattice\", \n",
      "         'MODEL'          : \"boson Hubbard\",\n",
      "         'T'              : 0.1,\n",
      "         'L'              : 4 ,\n",
      "         't'              : t ,\n",
      "         'mu'             : 0.5,\n",
      "         'U'              : 1.0 ,\n",
      "         'NONLOCAL'       : 0 ,\n",
      "         'Nmax'           : 2 ,\n",
      "         'THERMALIZATION' : 10000,\n",
      "         'SWEEPS'         : 500000\n",
      "       }\n",
      "   )"
     ],
     "language": "python",
     "metadata": {},
     "outputs": []
    },
    {
     "cell_type": "markdown",
     "metadata": {},
     "source": [
      "To run this, launch your python interpreter using the convenience scripts <tt>alpspython</tt> or <tt>vispython</tt>."
     ]
    },
    {
     "cell_type": "markdown",
     "metadata": {},
     "source": [
      "We next convert this into a job file in XML format and run the worm simulation:"
     ]
    },
    {
     "cell_type": "code",
     "collapsed": false,
     "input": [
      "input_file = pyalps.writeInputFiles('parm5a',parms)\n",
      "res = pyalps.runApplication('worm',input_file,Tmin=5)"
     ],
     "language": "python",
     "metadata": {},
     "outputs": []
    },
    {
     "cell_type": "markdown",
     "metadata": {},
     "source": [
      "We now have the same output files as in the command line version."
     ]
    },
    {
     "cell_type": "markdown",
     "metadata": {},
     "source": [
      "### Evaluating the simulation and preparing plots using Python "
     ]
    },
    {
     "cell_type": "markdown",
     "metadata": {},
     "source": [
      "To load the results and prepare plots we load the results from the output files and collect the magntization density as a function of magnetic field from all output files starting with <tt>parm5a</tt>. The script is again in [tutorial5a.py](http://alps.comp-phys.org/static/tutorials2.2.0/mc-05-bosons/tutorial5a.py)"
     ]
    },
    {
     "cell_type": "code",
     "collapsed": false,
     "input": [
      "data = pyalps.loadMeasurements(pyalps.getResultFiles(prefix='parm5a'),'Stiffness')\n",
      "magnetization = pyalps.collectXY(data,x='t',y='Stiffness')"
     ],
     "language": "python",
     "metadata": {},
     "outputs": []
    },
    {
     "cell_type": "markdown",
     "metadata": {},
     "source": [
      "To make plots we call the pyalps.plot.plot and then set some nice labels, a title, and a range of y-values:"
     ]
    },
    {
     "cell_type": "code",
     "collapsed": false,
     "input": [
      "plt.figure()\n",
      "pyalps.plot.plot(magnetization)\n",
      "plt.xlabel('Hopping $t/U$')\n",
      "plt.ylabel('Superfluid density $\\\\rho _s$')\n",
      "plt.show()"
     ],
     "language": "python",
     "metadata": {},
     "outputs": []
    },
    {
     "cell_type": "markdown",
     "metadata": {},
     "source": [
      "### Setting up and running the simulation in Vistrails "
     ]
    },
    {
     "cell_type": "markdown",
     "metadata": {},
     "source": [
      "To run the simulation in Vistrails open the file [mc-05-bosons.vt](http://alps.comp-phys.org/static/tutorials2.2.0/mc-05-bosons/mc-05-bosons.vt) and look at the workflow labeled \"L=4\". Click on \"Execute\" to prepare the input file, run the simulation and create the output figure."
     ]
    },
    {
     "cell_type": "markdown",
     "metadata": {},
     "source": [
      "###  Questions  "
     ]
    },
    {
     "cell_type": "markdown",
     "metadata": {},
     "source": [
      "* What is the signature of the phase transition?"
     ]
    },
    {
     "cell_type": "markdown",
     "metadata": {},
     "source": [
      "##  The transition from the Mott insulator to the superfluid  "
     ]
    },
    {
     "cell_type": "markdown",
     "metadata": {},
     "source": [
      "We next want to pin down the location of the phase transition more accurately. For this we simulate  a two-dimensional square lattice for various system sizes and look for a crossing of the quantity $\\rho_sL$."
     ]
    },
    {
     "cell_type": "markdown",
     "metadata": {},
     "source": [
      "### Preparing and running the simulation from the command line "
     ]
    },
    {
     "cell_type": "markdown",
     "metadata": {},
     "source": [
      "In the parameter file [parm5b](http://alps.comp-phys.org/static/tutorials2.2.0/mc-05-bosons/parm5b) we focus on the region around the critical point for three system sizes L=4,6, and 8:"
     ]
    },
    {
     "cell_type": "raw",
     "metadata": {},
     "source": [
      "LATTICE=\"square lattice\";\n",
      "MODEL=\"boson Hubbard\";\n",
      "NONLOCAL=0;\n",
      "U    = 1.0;\n",
      "mu   = 0.5;\n",
      "Nmax = 2;\n",
      "T = 0.05;\n",
      "SWEEPS=600000;\n",
      "THERMALIZATION=150000;\n",
      "{ L=4; t=0.045; }\n",
      "{ L=4; t=0.05; }\n",
      "{ L=4; t=0.0525; }\n",
      "{ L=4; t=0.055; }\n",
      "{ L=4; t=0.0575; }\n",
      "{ L=4; t=0.06; }\n",
      "{ L=4; t=0.065; }\n",
      "{ L=6; t=0.045; }\n",
      "{ L=6; t=0.05; }\n",
      "{ L=6; t=0.0525; }\n",
      "{ L=6; t=0.055; }\n",
      "{ L=6; t=0.0575; }\n",
      "{ L=6; t=0.06; }\n",
      "{ L=6; t=0.065; }\n",
      "{ L=8; t=0.045; }\n",
      "{ L=8; t=0.05; }\n",
      "{ L=8; t=0.0525; }\n",
      "{ L=8; t=0.055; }\n",
      "{ L=8; t=0.0575; }\n",
      "{ L=8; t=0.06; }\n",
      "{ L=8; t=0.065; }"
     ]
    },
    {
     "cell_type": "markdown",
     "metadata": {},
     "source": [
      "The simulation can be run as above and the evaluated using Python"
     ]
    },
    {
     "cell_type": "markdown",
     "metadata": {},
     "source": [
      "### Preparing, running and evaluating the simulation using Python "
     ]
    },
    {
     "cell_type": "markdown",
     "metadata": {},
     "source": [
      "The Python script [tutorial5b.py](http://alps.comp-phys.org/static/tutorials2.2.0/mc-05-bosons/tutorial5b.py) similarly prepares the input file and then runs the simulation. we skip this part and instead focus on the evaluation part. We first load the superfluid density (stiffness) into three different data sets, one for each system size L:"
     ]
    },
    {
     "cell_type": "code",
     "collapsed": false,
     "input": [
      "data = pyalps.loadMeasurements(pyalps.getResultFiles(prefix='parm5b'),'Stiffness')\n",
      "rhos = pyalps.collectXY(data,x='t',y='Stiffness',foreach=['L'])"
     ],
     "language": "python",
     "metadata": {},
     "outputs": []
    },
    {
     "cell_type": "markdown",
     "metadata": {},
     "source": [
      "Next we multiply each data set by the size L:"
     ]
    },
    {
     "cell_type": "code",
     "collapsed": false,
     "input": [
      "for s in rhos:\n",
      "   s.y = s.y * float(s.props['L'])"
     ],
     "language": "python",
     "metadata": {},
     "outputs": []
    },
    {
     "cell_type": "markdown",
     "metadata": {},
     "source": [
      "And finally we make a plot in the usual way:"
     ]
    },
    {
     "cell_type": "code",
     "collapsed": false,
     "input": [
      "plt.figure()\n",
      "pyalps.plot.plot(rhos)\n",
      "plt.xlabel('Hopping $t/U$')\n",
      "plt.ylabel('$\\\\rho _sL$')\n",
      "plt.legend(loc='upper left')\n",
      "plt.title('Scaling plot for Bose-Hubbard model')\n",
      "plt.show()"
     ],
     "language": "python",
     "metadata": {},
     "outputs": []
    },
    {
     "cell_type": "markdown",
     "metadata": {},
     "source": [
      "Note the legend and labels that are nicely set up."
     ]
    },
    {
     "cell_type": "markdown",
     "metadata": {},
     "source": [
      "### Setting up and running the simulation in Vistrails "
     ]
    },
    {
     "cell_type": "markdown",
     "metadata": {},
     "source": [
      "To run the simulation in Vistrails open the file [mc-05-bosons.vt](http://alps.comp-phys.org/static/tutorials2.2.0/mc-05-bosons/mc-05-bosons.vt) and look at the workflow labeled \"scaling plot\". Click on \"Execute\" to prepare the input file, run the simulation and create the output figure:"
     ]
    },
    {
     "cell_type": "raw",
     "metadata": {},
     "source": [
      "<vistrail host=\"alps.comp-phys.org\" db=\"tutorials\" vtid=\"5\" version=\"53\" embedworkflow=\"True\" showspreadsheetonly=\"True\"/>"
     ]
    },
    {
     "cell_type": "markdown",
     "metadata": {},
     "source": [
      "###  Questions  "
     ]
    },
    {
     "cell_type": "markdown",
     "metadata": {},
     "source": [
      "* How can you determine the location of the quantum phase transition in the thermodynamic limit? \n",
      "* *Tip:* Multiply your results for the superfluid stiffness by the respective linear system size L.\n",
      "* Compare your result to the exact result (t/U)c = 0.05974...\n",
      "* Why does the Monte Carlo simulation overestimate the critical point of the transition?"
     ]
    },
    {
     "cell_type": "markdown",
     "metadata": {},
     "source": [
      "&copy; 2003-2010 by Simon Trebst, Synge Todo and Matthias Troyer"
     ]
    }
   ],
   "metadata": {}
  }
 ]
}