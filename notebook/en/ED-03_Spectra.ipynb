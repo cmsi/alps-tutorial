{
 "metadata": {
  "name": ""
 },
 "nbformat": 3,
 "nbformat_minor": 0,
 "worksheets": [
  {
   "cells": [
    {
     "cell_type": "markdown",
     "metadata": {},
     "source": [
      "# ALPS_2_Tutorials:ED-03_Spectra"
     ]
    },
    {
     "cell_type": "markdown",
     "metadata": {},
     "source": [
      "# Spectra of 1D quantum systems "
     ]
    },
    {
     "cell_type": "markdown",
     "metadata": {},
     "source": [
      "In this tutorial we will calculate the spectra of the quantum Heisenberg model on various one-dimensional lattices. The main work will be done by the <tt>sparsediag</tt> application, which implements the Lanczos algorithm, an iterative eigensolver."
     ]
    },
    {
     "cell_type": "markdown",
     "metadata": {},
     "source": [
      "## Heisenberg chain "
     ]
    },
    {
     "cell_type": "markdown",
     "metadata": {},
     "source": [
      "### Preparing and running the simulation from the command line "
     ]
    },
    {
     "cell_type": "markdown",
     "metadata": {},
     "source": [
      "First, we look at a chain of S=1/2 spins with Heisenberg coupling. The parameter file [parm_chain](http://alps.comp-phys.org/static/tutorials2.2.0/ed-03-1dspectra/parm_chain) sets up ED simulations for the S_z=0 sector of chains with {L=10,...16} spins."
     ]
    },
    {
     "cell_type": "raw",
     "metadata": {},
     "source": [
      "LATTICE = \"chain lattice\", \n",
      "MODEL = \"spin\",\n",
      "local_S = 0.5,\n",
      "J = 1,\n",
      "CONSERVED_QUANTUMNUMBERS = \"Sz\"\n",
      "Sz_total = 0\n",
      "{ L = 10; }\n",
      "{ L = 12; }\n",
      "{ L = 14; }\n",
      "{ L = 16; }"
     ]
    },
    {
     "cell_type": "markdown",
     "metadata": {},
     "source": [
      "Using the following sequence of commands you can run the diagonalization, then look at the output file parm_chain.out.xml with your browser."
     ]
    },
    {
     "cell_type": "code",
     "collapsed": false,
     "input": [
      "%%bash\n",
      "parameter2xml parm_chain\n",
      "sparsediag --write-xml parm_chain.in.xml"
     ],
     "language": "python",
     "metadata": {},
     "outputs": []
    },
    {
     "cell_type": "markdown",
     "metadata": {},
     "source": [
      "### Preparing and running the simulation using Python "
     ]
    },
    {
     "cell_type": "markdown",
     "metadata": {},
     "source": [
      "To set up and run the simulation in Python, we use the script [chain.py](http://alps.comp-phys.org/static/tutorials2.2.0/ed-03-1dspectra/chain.py). You can run it with the convenience scripts <tt>alpspython</tt> or <tt>vispython</tt>."
     ]
    },
    {
     "cell_type": "markdown",
     "metadata": {},
     "source": [
      "Looking at the different parts of the script, we see how the input files are prepared as a list of Python dictionaries after importing the required modules."
     ]
    },
    {
     "cell_type": "code",
     "collapsed": false,
     "input": [
      "import pyalps\n",
      "import numpy as np\n",
      "import matplotlib.pyplot as plt\n",
      "import pyalps.plot\n",
      " \n",
      "parms=[]\n",
      "for l in [10, 12, 14, 16]:\n",
      "    parms.append(\n",
      "      { \n",
      "        'LATTICE'                   : \"chain lattice\", \n",
      "        'MODEL'                     : \"spin\",\n",
      "        'local_S'                   : 0.5,\n",
      "        'J'                         : 1,\n",
      "        'L'                         : l,\n",
      "        'CONSERVED_QUANTUMNUMBERS'  : 'Sz',\n",
      "        'Sz_total'                  : 0\n",
      "      }\n",
      "    )"
     ],
     "language": "python",
     "metadata": {},
     "outputs": []
    },
    {
     "cell_type": "markdown",
     "metadata": {},
     "source": [
      "Next, the input parameters are written into XML job files an the <tt>sparsediag</tt> simulation is run."
     ]
    },
    {
     "cell_type": "code",
     "collapsed": false,
     "input": [
      "input_file = pyalps.writeInputFiles('parm_chain',parms)\n",
      "res = pyalps.runApplication('sparsediag',input_file)"
     ],
     "language": "python",
     "metadata": {},
     "outputs": []
    },
    {
     "cell_type": "markdown",
     "metadata": {},
     "source": [
      "For plotting the spectrum, we then load the HDF5 files produced by the simulation"
     ]
    },
    {
     "cell_type": "code",
     "collapsed": false,
     "input": [
      "data = pyalps.loadSpectra(pyalps.getResultFiles(prefix='parm_chain'))"
     ],
     "language": "python",
     "metadata": {},
     "outputs": []
    },
    {
     "cell_type": "markdown",
     "metadata": {},
     "source": [
      "and collect the energies from all momentum sectors into one <tt>DataSet</tt> for each system size <tt>L</tt>. For getting a nice plot we additionally subtract the ground state energy from all eigenvalues and assign a label and line style to each spectrum."
     ]
    },
    {
     "cell_type": "code",
     "collapsed": false,
     "input": [
      "spectra = {}\n",
      "for sim in data:\n",
      "    l = int(sim[0].props['L'])\n",
      "    all_energies = []\n",
      "    spectrum = pyalps.DataSet()\n",
      "    for sec in sim:\n",
      "        all_energies += list(sec.y)\n",
      "        spectrum.x = np.concatenate((spectrum.x,np.array([sec.props['TOTAL_MOMENTUM'] for i in range(len(sec.y))])))\n",
      "        spectrum.y = np.concatenate((spectrum.y,sec.y))\n",
      "    spectrum.y -= np.min(all_energies)\n",
      "    spectrum.props['line'] = 'scatter'\n",
      "    spectrum.props['label'] = 'L='+str(l)\n",
      "    spectra[l] = spectrum"
     ],
     "language": "python",
     "metadata": {},
     "outputs": []
    },
    {
     "cell_type": "markdown",
     "metadata": {},
     "source": [
      "Now the spectra from different system sizes can be plotted into one figure:"
     ]
    },
    {
     "cell_type": "code",
     "collapsed": false,
     "input": [
      "plt.figure()\n",
      "pyalps.plot.plot(spectra.values())\n",
      "plt.legend()\n",
      "plt.title('Antiferromagnetic Heisenberg chain (S=1/2)')\n",
      "plt.ylabel('Energy')\n",
      "plt.xlabel('Momentum')\n",
      "plt.xlim(0,2*3.1416)\n",
      "plt.ylim(0,2)\n",
      "plt.show()"
     ],
     "language": "python",
     "metadata": {},
     "outputs": []
    },
    {
     "cell_type": "markdown",
     "metadata": {},
     "source": [
      "### Setting up and running the simulation in Vistrails "
     ]
    },
    {
     "cell_type": "markdown",
     "metadata": {},
     "source": [
      "To run the simulation in Vistrails open the file [ed-03-spectra.vt](http://alps.comp-phys.org/static/tutorials2.2.0/ed-03-1dspectra/ed-03-spectra.vt) and look at the workflow labeled \"Chain\". Click on \"Execute\" to prepare the input file, run the simulation and create the output figure."
     ]
    },
    {
     "cell_type": "markdown",
     "metadata": {},
     "source": [
      "## Two-leg Heisenberg ladder "
     ]
    },
    {
     "cell_type": "markdown",
     "metadata": {},
     "source": [
      "With only a few small changes to the input parameters used above, we can calculate the spectrum of a two-leg ladder of Heisenberg spins. The new parameter text file [parm_ladder](http://alps.comp-phys.org/static/tutorials2.2.0/ed-03-1dspectra/parm_ladder) looks like this:"
     ]
    },
    {
     "cell_type": "raw",
     "metadata": {},
     "source": [
      "LATTICE = \"ladder\"\n",
      "MODEL = \"spin\"\n",
      "local_S = 0.5\n",
      "J0 = 1\n",
      "J1 = 1\n",
      "CONSERVED_QUANTUMNUMBERS = \"Sz\"\n",
      "Sz_total = 0\n",
      "{ L = 6; }\n",
      "{ L = 8; }\n",
      "{ L = 10; }"
     ]
    },
    {
     "cell_type": "markdown",
     "metadata": {},
     "source": [
      "We have just replaced the \"chain lattice\" by a \"ladder\" and defined two separate coupling constants <tt>J0, J1</tt> for the legs and the rungs, respectively. Apart from that, we have reduced the linear system size <tt>L</tt> because the ladder has <tt>2 L</tt> spins. The same changes have to be made to the Python code, which can be downloaded from here: [ladder.py](http://alps.comp-phys.org/static/tutorials2.2.0/ed-03-1dspectra/ladder.py)"
     ]
    },
    {
     "cell_type": "markdown",
     "metadata": {},
     "source": [
      "The corresponding Vistrails workflow can again be found in the file [ed-03-spectra.vt](http://alps.comp-phys.org/static/tutorials2.2.0/ed-03-1dspectra/ed-03-spectra.vt). In the history view select the workflow labeled \"Ladder\"."
     ]
    },
    {
     "cell_type": "markdown",
     "metadata": {},
     "source": [
      "## Isolated dimers "
     ]
    },
    {
     "cell_type": "markdown",
     "metadata": {},
     "source": [
      "If we set the coupling on the legs of the ladder <tt>J0 = 0</tt>, we get the spectrum of <tt>L</tt> isolated dimers. This is done in the parameter file [parm_dimers](http://alps.comp-phys.org/static/tutorials2.2.0/ed-03-1dspectra/parm_dimers), the Python script [dimers.py](http://alps.comp-phys.org/static/tutorials2.2.0/ed-03-1dspectra/dimers.py) and the workflow labeled \"Isolated dimers\" in the file [ed-03-spectra.vt](http://alps.comp-phys.org/static/tutorials2.2.0/ed-03-1dspectra/ed-03-spectra.vt)."
     ]
    },
    {
     "cell_type": "markdown",
     "metadata": {},
     "source": [
      "## Questions "
     ]
    },
    {
     "cell_type": "markdown",
     "metadata": {},
     "source": [
      "* Observe how putting together spectra from different system sizes produces nice bands\n",
      "* In the spectrum of the Heisenberg ladder: Identify continuum and bound states\n",
      "* What is the major difference between the chain and the ladder spectrum?\n",
      "* Explain the spectrum of isolated dimers\n",
      "* Vary the coupling constants in the ladder and observe how the spectrum changes between the limits discussed before\n",
      "* Bonus question: Have a close look at the spectrum of the chain for different system sizes: There seems to be a difference between cases where <tt>L/2</tt> is even and those where it is odd. Can you explain this? What happens in the TDL where <tt>L</tt> goes to infinity"
     ]
    }
   ],
   "metadata": {}
  }
 ]
}