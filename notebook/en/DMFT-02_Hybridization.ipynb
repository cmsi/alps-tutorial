{
 "metadata": {
  "name": ""
 },
 "nbformat": 3,
 "nbformat_minor": 0,
 "worksheets": [
  {
   "cells": [
    {
     "cell_type": "markdown",
     "metadata": {},
     "source": [
      "# ALPS_2_Tutorials:DMFT-02_Hybridization"
     ]
    },
    {
     "cell_type": "markdown",
     "metadata": {},
     "source": [
      "#Tutorial 02: Hybridization Expansion CT-HYB"
     ]
    },
    {
     "cell_type": "markdown",
     "metadata": {},
     "source": [
      "We start by running a continuous-time quantum Monte Carlo code - the hybridization expansion algorithm CT-HYB. As an example we reproduce Fig. 11 in the DMFT review by [Georges *it et al.*](http://dx.doi.org/10.1103/RevModPhys.68.13). The series of six curves shows how the system, a Hubbard model on the Bethe lattice with interaction $U=3D/\\sqrt{2}$ at half filling, enters an antiferromagnetic phase upon cooling. In tutorials 03 and 07 we will reproduce the same results with the interaction expansion continuous-time solver and with the discrete-time Quantum Monte Carlo Hirsch-Fye code, respectively. The input parameters are there same, apart from few solver-related parameters."
     ]
    },
    {
     "cell_type": "markdown",
     "metadata": {},
     "source": [
      "The CT-HYB simulation will run in total roughly 1 hour if you want to reproduce all 6 curves in the Fig. 11 mentioned above. The files for this tutorial may be found in the directory <tt>tutorials/dmft-02-hybridization</tt>. "
     ]
    },
    {
     "cell_type": "markdown",
     "metadata": {},
     "source": [
      "All DMFT tutorials can either be started using vistrails or a python script. Both the vistrails scripts and the python scripts generate parameter files, run them, and plot the results.  If you want to use Vistrails to run your DMFT-simulations, you can use [dmft-02-hybridization.vt](http://alps.comp-phys.org/static/tutorials2.2.0/dmft-02-hybridization/dmft-02-hybridization.vt). Alternatively you can run the python script [tutorial2_long.py](http://alps.comp-phys.org/static/tutorials2.2.0/dmft-02-hybridization/tutorial2_long.py) (runtime: roughly 1 hour) or its short version reproducing only 2 out of the 6 curves (running roughly 20 minutes)"
     ]
    },
    {
     "cell_type": "code",
     "collapsed": false,
     "input": [
      "%%bash\n",
      "alpspython tutorial2.py"
     ],
     "language": "python",
     "metadata": {},
     "outputs": []
    },
    {
     "cell_type": "markdown",
     "metadata": {},
     "source": [
      "(vispython for Mac instead of alpspython) or the longer version to reproduce all curves in the Fig.11 of [Georges *it et al.*](http://dx.doi.org/10.1103/RevModPhys.68.13)"
     ]
    },
    {
     "cell_type": "code",
     "collapsed": false,
     "input": [
      "%%bash\n",
      "alpspython tutorial2_long.py"
     ],
     "language": "python",
     "metadata": {},
     "outputs": []
    },
    {
     "cell_type": "markdown",
     "metadata": {},
     "source": [
      "The python script <tt>tutorial2.py</tt> automatically prepares the input files for the 2 simulations, <tt>parm_beta_6.0</tt> and <tt>parm_beta_12.0</tt>, and runs them (/path-to-alps-installation/bin/dmft parm_beta_x)."
     ]
    },
    {
     "cell_type": "code",
     "collapsed": false,
     "input": [
      "import pyalps\n",
      "import numpy as np\n",
      "import matplotlib.pyplot as plt\n",
      "import pyalps.plot\n",
      "  \n",
      "#prepare the input parameters\n",
      "parms=[]\n",
      "for b in [6., 12.]:\n",
      "   parms.append(\n",
      "           {\n",
      "             'ANTIFERROMAGNET'     : 1,\n",
      "             'CONVERGED'           : 0.003,\n",
      "             'FLAVORS'             : 2,\n",
      "             'H'                   : 0,\n",
      "             'H_INIT'              : 0.03*b/8.,\n",
      "             'MAX_IT'              : 6,\n",
      "             'MAX_TIME'            : 300,\n",
      "             'MU'                  : 0,\n",
      "             'N'                   : 250,\n",
      "             'NMATSUBARA'          : 250,\n",
      "             'N_MEAS'              : 10000,\n",
      "             'OMEGA_LOOP'          : 1,\n",
      "             'SEED'                : 0,\n",
      "             'SITES'               : 1,\n",
      "             'SOLVER'              : 'hybridization',\n",
      "             'SC_WRITE_DELTA'      : 1,\n",
      "             'SYMMETRIZATION'      : 0,\n",
      "             'U'                   : 3,\n",
      "             't'                   : 0.707106781186547,\n",
      "             'SWEEPS'              : int(10000*b/16.),\n",
      "             'THERMALIZATION'      : 1000,\n",
      "             'BETA'                : b\n",
      "           }\n",
      "       )\n",
      " \n",
      " \n",
      "#write the input file and run the simulation\n",
      "for p in parms:\n",
      "   input_file = pyalps.writeParameterFile('parm_beta_'+str(p['BETA']),p)\n",
      "   res = pyalps.runDMFT(input_file)"
     ],
     "language": "python",
     "metadata": {},
     "outputs": []
    },
    {
     "cell_type": "markdown",
     "metadata": {},
     "source": [
      "The input file <tt>parm_beta_6.0</tt> produced by the script above with added comments on the parameters:"
     ]
    },
    {
     "cell_type": "raw",
     "metadata": {},
     "source": [
      "H_INIT = 0.0225   //  initial magnetic field in the direction of quantization axis, to produce the initial Weiss field\n",
      "ANTIFERROMAGNET = 1   // allow antiferromagnetic ordering; in single site DMFT it is meaningfull only for bipartite lattices\n",
      "SEED = 0   // Monte Carlo Random Number Seed \n",
      "CONVERGED = 0.003   // criterion for the convergency of the iterations\n",
      "MAX_IT = 6   // upper limit on the number of iterations (the selfconsistency may be stopped before if criterion based on CONVERGED is reached)\n",
      "SWEEPS = 3750   // Total number of sweeps to be computed (the solver may be stopped before reaching this limit on run-time limit set by MAX_TIME)\n",
      "FLAVORS = 2   // flavors 0 and 1 correspond to spin up and down\n",
      "SYMMETRIZATION = 0   // We are not enforcing a paramagnetic self consistency condition (symmetry in flavor 0 and 1)\n",
      "NMATSUBARA = 250   // The cut-off for Matsubara frequencies \n",
      "H = 0   // Magnetic field in the direction of quantization axis\n",
      "OMEGA_LOOP = 1   // the selfconsistency runs in Matsubara frequencies\n",
      "SITES = 1   // number of sites of the impurity: for single site DMFT simulation it is 1\n",
      "N = 250   // auxiliary discretization of the imaginary-time Green's function\n",
      "BETA = 6.0   // Inverse temperature\n",
      "U = 3   // Interaction strength\n",
      "MAX_TIME = 300   // Upper time limit in seconds to run the impurity solver (per iteration)\n",
      "SC_WRITE_DELTA = 1   // option for selfconsistency to write the hybridization function for the impurity solver\n",
      "N_MEAS = 10000   // number of updates in between measurements\n",
      "SOLVER = \"hybridization\"   // The Hybridization solver\n",
      "THERMALIZATION = 1000   // Thermalization Sweeps \n",
      "MU = 0   // Chemical potential; for particle-hole symmetric models corresponds MU=0 to half-filled case\n",
      "t = 0.707106781187   // hopping parameter; for the Bethe lattice considered here $W=2D=4t$"
     ]
    },
    {
     "cell_type": "markdown",
     "metadata": {},
     "source": [
      "Note that there is no parameter specifying the band structure or lattice type. By default a Bethe lattice is assumed, but this can be changed (see [[ALPS_2_Tutorials:DMFT-08_Lattices | DMFT-08 Setting a particular lattice ]]). "
     ]
    },
    {
     "cell_type": "markdown",
     "metadata": {},
     "source": [
      "A specification of the initial Weiss field (set by the variables G0OMEGA_INPUT or G0TAU_INPUT) is missing as well - the program will thus at initialization compute the non-interacting Green's function. It will use the initial magnetic field H_INIT, which produces in this case a small difference between flavors (0 and 1 representing $\\uparrow,\\ \\downarrow$) to start away from the paramagnetic solution - the reason for that is that in very short simulations (like this tutorial) starting from paramagnetic Weiss field it could happen that the random noise would not produce enough difference in first few iterations to get the system away from paramagnet. A badly converged paramagnet would then appear as a solution. The dependence of H_INIT on BETA serves for optimization of the run, lowering the number of needed iterations."
     ]
    },
    {
     "cell_type": "markdown",
     "metadata": {},
     "source": [
      "The code will run for up to 6 self-consistency iterations. For a precise simulation one shall raise this number and the simulation shall stop on the convergency criterion specified by the parameter CONVERGED. In the directory in which you run the program you will find Green's functions files <tt>G_tau_i</tt> as well the self energies (<tt>selfenergy_i</tt>) and Green's functions in Matsubara representation (frequency space) <tt>G_omega_i</tt>. <tt>G_tau</tt> in these examples has two entries: a spin-up and a  spin-down column. The entry at <tt>\\tau=\\beta^-</tt> is the negative occupation (density); by that we may get magnetization of the system. "
     ]
    },
    {
     "cell_type": "markdown",
     "metadata": {},
     "source": [
      "Error bars may be estimated via successive iterations on a converged system."
     ]
    },
    {
     "cell_type": "markdown",
     "metadata": {},
     "source": [
      "To rerun a simulation, you can specify a starting solution by defining the input parameter G0OMEGA_INPUT, e.g. copy the desired <tt>G0omega_output</tt> to <tt>filename_X</tt> and specify input parameter 'G0OMEGA_INPUT':'filename_X' in the python script (or G0OMEGA_INPUT=filename_X in the input file directly) and rerun the code. "
     ]
    },
    {
     "cell_type": "markdown",
     "metadata": {},
     "source": [
      "As in the Fig. 11 in the DMFT review [Georges *it et al.*](http://dx.doi.org/10.1103/RevModPhys.68.13) you can observe the transition to the antiferromagnetic phase by plotting the Green's functions in imaginary-time represention (part of <tt>tutorial2.py</tt> and <tt>tutorial2_long.py</tt>):"
     ]
    },
    {
     "cell_type": "code",
     "collapsed": false,
     "input": [
      "listobs=['0', '1']   # we will plot both flavors 0 and 1\n",
      " \n",
      "# load the imaginary-time Green's function in final iteration from all result files\n",
      "data = pyalps.loadMeasurements(pyalps.getResultFiles(pattern='parm_beta_*h5'), respath='/simulation/results/G_tau', what=listobs)\n",
      "for d in pyalps.flatten(data):\n",
      "   d.x = d.x*d.props[\"BETA\"]/float(d.props[\"N\"])   # rescale horizontal axis\n",
      "   d.props['label'] = r'$\\beta=$'+str(d.props['BETA'])+'; flavor='+str(d.props['observable'][len(d.props['observable'])-1])\n",
      " \n",
      "plt.figure()\n",
      "plt.xlabel(r'$\\tau$')\n",
      "plt.ylabel(r'$G_{flavor}(\\tau)$')\n",
      "plt.title('DMFT-02: Neel transition for the Hubbard model on the Bethe lattice\\n(using the Hybridization expansion impurity solver)')\n",
      "pyalps.plot.plot(data)\n",
      "plt.legend()\n",
      "plt.show()"
     ],
     "language": "python",
     "metadata": {},
     "outputs": []
    },
    {
     "cell_type": "markdown",
     "metadata": {},
     "source": [
      "You will notice that the results are relatively noisy. The reason for that is that the expansion order at such high temperatures is very small, which renders the measurement procedure inefficient. You can improve statistics by increasing the total run time (<tt>MAX_TIME</tt>) and/or the number of SWEEPS. The solver may run on more than one CPU using MPI, try <tt>SOLVER = \"mpirun -np procs /path-to-ALPS-installation/bin/hybridization\"</tt> (currently not working due to issue with path prefix) or consult the man page of your mpi installation."
     ]
    },
    {
     "cell_type": "markdown",
     "metadata": {},
     "source": [
      "If you want to check the convergence of your DMFT self-consistency, you can plot the Green's functions of different iterations using [tutorial2eval.py](http://alps.comp-phys.org/static/tutorials2.2.0/dmft-02-hybridization/tutorial2eval.py), the corresponding code is shown here:"
     ]
    },
    {
     "cell_type": "code",
     "collapsed": false,
     "input": [
      "listobs=['0']   # we look at a single flavor (=0) \n",
      "res_files = pyalps.getResultFiles(pattern='parm_*.h5')  # we look for result files\n",
      " \n",
      "## load all iterations of G_{flavor=0}(tau)\n",
      "data = pyalps.loadDMFTIterations(res_files, observable=\"G_tau\", measurements=listobs, verbose=False)\n",
      " \n",
      "## create a figure for each BETA\n",
      "grouped = pyalps.groupSets(pyalps.flatten(data), ['BETA'])\n",
      "for sim in grouped:\n",
      "   common_props = pyalps.dict_intersect([ d.props for d in sim ])\n",
      "    \n",
      "   ## rescale x-axis and set label\n",
      "   for d in sim:\n",
      "       d.x = d.x * d.props['BETA']/float(d.props['N'])\n",
      "       d.props['label'] = 'it'+d.props['iteration']\n",
      "    \n",
      "   ## plot all iterations for this BETA\n",
      "   plt.figure()\n",
      "   plt.xlabel(r'$\\tau$')\n",
      "   plt.ylabel(r'$G_{flavor=0}(\\tau)$')\n",
      "   plt.title('Simulation at ' + r'$\\beta = %.4s$' % common_props['BETA'])\n",
      "   pyalps.plot.plot(sim)\n",
      "   plt.legend()\n",
      " \n",
      "plt.show()"
     ],
     "language": "python",
     "metadata": {},
     "outputs": []
    },
    {
     "cell_type": "markdown",
     "metadata": {},
     "source": [
      "It has to be noted, that the iteration-resolved results are loaded by a different function (<tt>pyalps.loadDMFTIterations</tt>) as the final results (<tt>pyalps.loadMeasurements</tt>), because the iteration-resolved data is stored using a different folder structure (<tt>/simulation/iteration/number/results/</tt>) than the ALPS default (<tt>/simulation/results/</tt>) used for storage of the final results."
     ]
    },
    {
     "cell_type": "markdown",
     "metadata": {},
     "source": [
      "As already mentioned above, the occupation $n_f$ equals to $G_f(\\tau=\\beta^-)$, which is the last entry of the imaginary time Green's function for flavor $f$. Code for printing the final occupancies and plotting them vs $\\beta$ is a part of [tutorial2eval.py](http://alps.comp-phys.org/static/tutorials2.2.0/dmft-02-hybridization/tutorial2eval.py),"
     ]
    },
    {
     "cell_type": "code",
     "collapsed": false,
     "input": [
      "## load the final iteration of G_{flavor=0}(tau)\n",
      "data_G_tau = pyalps.loadMeasurements(res_files, respath='/simulation/results/G_tau', what=listobs, verbose=False)  \n",
      " \n",
      "beta, occupation = [], []\n",
      "print \"Occupation in the last iteration at flavor=0\"\n",
      "for i in range(len(data_G_tau)):\n",
      "   # obtain occupation using relation: <n_{flavor=0}> = -<G_{flavor=0}(tau=beta)>\n",
      "   beta_,n_ = float(data_G_tau[i][0].props['BETA']),-data_G_tau[i][0].y[-1]\n",
      "   print \"n_0(beta =\",beta_,\") =\",n_\n",
      "   beta.append(beta_)\n",
      "   occupation.append(n_)\n",
      " \n",
      "d = pyalps.DataSet()\n",
      "d.y = occupation\n",
      "d.x = beta\n",
      "d.props['line']=\"scatter\"\n",
      "plt.figure()\n",
      "plt.xlabel(r'$\\beta$')\n",
      "plt.ylabel(r'$n_{flavor=0}$')\n",
      "plt.title('Occupation versus BETA')\n",
      "pyalps.plot.plot(d)\n",
      " \n",
      "plt.show()"
     ],
     "language": "python",
     "metadata": {},
     "outputs": []
    },
    {
     "cell_type": "markdown",
     "metadata": {},
     "source": [
      "As our selfconsistency is in Matsubara frequencies (recall parameter OMEGA_LOOP=1), the criterion for convergency is $\\mathrm{max}|G_{f}^{it}(i\\omega_n)-G_{f}^{it+1}(i\\omega_n)|<CONVERGED$. The imaginary part (real part analogously) Matsubara frequency Green's function is plotted by"
     ]
    },
    {
     "cell_type": "code",
     "collapsed": false,
     "input": [
      "from math import pi\n",
      " \n",
      "## load all iterations of G_{flavor=0}(i omega_n)\n",
      "data = pyalps.loadDMFTIterations(pyalps.getResultFiles(pattern='parm_*.h5'), observable=\"G_omega\", measurements=listobs, verbose=False)\n",
      " \n",
      "## create a figure for each BETA\n",
      "grouped = pyalps.groupSets(pyalps.flatten(data), ['BETA'])\n",
      "for sim in grouped:\n",
      "   common_props = pyalps.dict_intersect([ d.props for d in sim ])\n",
      "   \n",
      "   ## rescale x-axis and set label\n",
      "   for d in sim:\n",
      "       d.x = np.array([(2.*n+1)*pi/common_props['BETA'] for n in d.x])\n",
      "       d.y = np.array(d.y.imag)\n",
      "       d.props['label'] = \"it\"+d.props['iteration']\n",
      "       d.props['line']=\"scatter\"\n",
      "       d.props['fillmarkers'] = False\n",
      "    \n",
      "   ## plot all iterations for this BETA\n",
      "   plt.figure()\n",
      "   plt.xlabel(r'$i\\omega_n$')\n",
      "   plt.ylabel(r'$Im\\ G_{flavor=0}(i\\omega_n)$')\n",
      "   plt.title('Simulation at ' + r'$\\beta = %.4s$' % common_props['BETA'])\n",
      "   pyalps.plot.plot(sim)\n",
      "   plt.legend()\n",
      " \n",
      "plt.show()"
     ],
     "language": "python",
     "metadata": {},
     "outputs": []
    },
    {
     "cell_type": "markdown",
     "metadata": {},
     "source": [
      "It is usually best to observe convergence in the selfenergy, which is much more sensitive. Note that longer simulations are required to obtain smoother Green's functions and selfenergies; in this simulation the noise in the intermediate range of Matsubara frequencies is very strong. The selfenergy is obtained via Dyson's equation as $\\Sigma_f^{it}(i\\omega_n)=G0_f^{it}(i\\omega_n)^{-1}-G_f^{it}(i\\omega_n)^{-1}$ and  its imaginary part is plotted by this fragment of [tutorial2eval.py](http://alps.comp-phys.org/static/tutorials2.2.0/dmft-02-hybridization/tutorial2eval.py) (real part analogously):"
     ]
    },
    {
     "cell_type": "code",
     "collapsed": false,
     "input": [
      "## load all iterations of G_{flavor=0}(i omega_n) and G0_{flavor=0}(i omega_n)\n",
      "data_G = pyalps.loadDMFTIterations(pyalps.getResultFiles(pattern='parm_*.h5'), observable=\"G_omega\", measurements=listobs, verbose=False)\n",
      "data_G0 = pyalps.loadDMFTIterations(pyalps.getResultFiles(pattern='parm_*.h5'), observable=\"G0_omega\", measurements=listobs, verbose=False)\n",
      " \n",
      "## create a figure for each BETA\n",
      "grouped_G = pyalps.groupSets(pyalps.flatten(data_G), ['BETA','observable'])\n",
      "for sim in grouped_G:\n",
      "   common_props = pyalps.dict_intersect([ d.props for d in sim ])\n",
      "    \n",
      "   ## compute selfenergy using the Dyson equation, rescale x-axis and set label\n",
      "   for d_G in sim:\n",
      "       # find corresponding dataset from data_G0\n",
      "       d_G0 = [s for s in pyalps.flatten(data_G0) if s.props['iteration']==d_G.props['iteration'] and s.props['BETA']==common_props['BETA']][0]\n",
      "       d_G.x = np.array([(2.*n+1)*pi/common_props['BETA'] for n in d_G.x])\n",
      "       # Dyson equation\n",
      "       Sigma = np.array([1./d_G0.y[w] - 1./d_G.y[w] for w in range(len(d_G.y))])\n",
      "       d_G.y = np.array(Sigma.imag)\n",
      "       d_G.props['label'] = \"it\"+d_G.props['iteration']\n",
      "       d_G.props['line']=\"scatter\"\n",
      "       d_G.props['fillmarkers'] = False\n",
      "    \n",
      "   ## plot all iterations for this BETA\n",
      "   plt.figure()\n",
      "   plt.xlabel(r'$i\\omega_n$')\n",
      "   plt.ylabel(r'$Im\\ \\Sigma_{flavor=0}(i\\omega_n)$')\n",
      "   plt.title('Simulation at ' + r'$\\beta = %.4s$' % common_props['BETA'])\n",
      "   pyalps.plot.plot(sim)\n",
      "   plt.legend()\n",
      " \n",
      "plt.show()"
     ],
     "language": "python",
     "metadata": {},
     "outputs": []
    }
   ],
   "metadata": {}
  }
 ]
}
