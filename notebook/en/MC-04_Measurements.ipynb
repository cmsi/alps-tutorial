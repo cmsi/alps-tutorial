{
 "metadata": {
  "name": ""
 },
 "nbformat": 3,
 "nbformat_minor": 0,
 "worksheets": [
  {
   "cells": [
    {
     "cell_type": "markdown",
     "metadata": {},
     "source": [
      "# ALPS_2_Tutorials:MC-04_Measurements"
     ]
    },
    {
     "cell_type": "markdown",
     "metadata": {},
     "source": [
      "#  Correlation measurements in the directed loop and worm codes "
     ]
    },
    {
     "cell_type": "markdown",
     "metadata": {},
     "source": [
      "In this tutorial we will look at measuring correlation functions in the directed loop and worm codes."
     ]
    },
    {
     "cell_type": "markdown",
     "metadata": {},
     "source": [
      "##  Two-dimensional Heisenberg square lattice  "
     ]
    },
    {
     "cell_type": "markdown",
     "metadata": {},
     "source": [
      "### Preparing and running the simulation from the command line "
     ]
    },
    {
     "cell_type": "markdown",
     "metadata": {},
     "source": [
      "The parameter file [parm4](http://alps.comp-phys.org/static/tutorials2.2.0/mc-04-mc-04-measurements/parm4) sets up Monte Carlo simulations of the quantum mechanical S=1/2 Heisenberg model on a square lattice and turns various measurement options on"
     ]
    },
    {
     "cell_type": "raw",
     "metadata": {},
     "source": [
      "MODEL=\"spin\";\n",
      "LATTICE=\"square lattice\";\n",
      "REPRESENTATION=\"SSE\";\n",
      "MEASURE[Correlations]=true;\n",
      "MEASURE[Structure Factor]=true;\n",
      "MEASURE[Green Function]=true;\n",
      "THERMALIZATION=10000;\n",
      "SWEEPS=500000;\n",
      "J= 1;\n",
      "L=4;\n",
      "W=4;\n",
      "T=0.3;\n",
      "{h=0.1;}"
     ]
    },
    {
     "cell_type": "markdown",
     "metadata": {},
     "source": [
      "Using the standard sequence of commands you can run the simulation using the quantum SSE code and then look at the results in the XML output files"
     ]
    },
    {
     "cell_type": "code",
     "collapsed": false,
     "input": [
      "%%bash\n",
      "parameter2xml parm4\n",
      "dirloop_sse --Tmin 10 --write-xml parm4.in.xml"
     ],
     "language": "python",
     "metadata": {},
     "outputs": []
    },
    {
     "cell_type": "markdown",
     "metadata": {},
     "source": [
      "### Preparing and running the simulation using Python "
     ]
    },
    {
     "cell_type": "markdown",
     "metadata": {},
     "source": [
      "To set up and run the simulation in Python we use the script [tutorial4.py](http://alps.comp-phys.org/static/tutorials2.2.0/mc-04-measurements/tutorial4.py). The first parts of this script imports the required modules, prepares the input files as a list of Python dictionaries, writes the XML input files and runs the simulation:"
     ]
    },
    {
     "cell_type": "code",
     "collapsed": false,
     "input": [
      "import pyalps\n",
      "\n",
      "parms = [{ \n",
      "         'LATTICE'                   : \"square lattice\", \n",
      "         'MODEL'                     : \"spin\",\n",
      "         'MEASURE[Correlations]'     : True,\n",
      "         'MEASURE[Structure Factor]' : True,\n",
      "         'MEASURE[Green Function]'   : True,\n",
      "         'local_S'                   : 0.5,\n",
      "         'T'                         : 0.3,\n",
      "         'J'                         : 1 ,\n",
      "         'THERMALIZATION'            : 10000,\n",
      "         'SWEEPS'                    : 500000,\n",
      "         'L'                         : 4,\n",
      "         'h'                         : 0.1\n",
      "       }]\n",
      "input_file = pyalps.writeInputFiles('parm4',parms)\n",
      "res = pyalps.runApplication('dirloop_sse',input_file,Tmin=5)"
     ],
     "language": "python",
     "metadata": {},
     "outputs": []
    },
    {
     "cell_type": "markdown",
     "metadata": {},
     "source": [
      "To run this, launch your python interpreter using the convenience scripts <tt>alpspython</tt> or <tt>vispython</tt>. We now have the same output files as in the command line version."
     ]
    },
    {
     "cell_type": "markdown",
     "metadata": {},
     "source": [
      "### Evaluating the simulation and preparing plots using Python "
     ]
    },
    {
     "cell_type": "markdown",
     "metadata": {},
     "source": [
      "To look at the results we now load ALL measurements from output files starting with <tt>parm4</tt>. The script is again in [tutorial4.py](http://alps.comp-phys.org/static/tutorials2.2.0/mc-04-measurements/tutorial4.py)"
     ]
    },
    {
     "cell_type": "code",
     "collapsed": false,
     "input": [
      "data = pyalps.loadMeasurements(pyalps.getResultFiles())"
     ],
     "language": "python",
     "metadata": {},
     "outputs": []
    },
    {
     "cell_type": "markdown",
     "metadata": {},
     "source": [
      "We now loop through all measurements and print them:"
     ]
    },
    {
     "cell_type": "code",
     "collapsed": false,
     "input": [
      "for s in pyalps.flatten(data):\n",
      "    if len(s.x)==1:\n",
      "        print s.props['observable'], ' : ', s.y[0]\n",
      "    else:\n",
      "        for (x,y) in zip(s.x,s.y):\n",
      "            print  s.props['observable'], x, ' : ', y"
     ],
     "language": "python",
     "metadata": {},
     "outputs": []
    },
    {
     "cell_type": "markdown",
     "metadata": {},
     "source": [
      "The if statement checks whether the measured quantity is a scalar or vector-valued quantity."
     ]
    },
    {
     "cell_type": "markdown",
     "metadata": {},
     "source": [
      "### Setting up and running the simulation in Vistrails "
     ]
    },
    {
     "cell_type": "markdown",
     "metadata": {},
     "source": [
      "To run the simulation in Vistrails open the file [mc-04-measurements.vt](http://alps.comp-phys.org/static/tutorials2.2.0/mc-04-measurements/mc-04-measurements.vt)."
     ]
    }
   ],
   "metadata": {}
  }
 ]
}