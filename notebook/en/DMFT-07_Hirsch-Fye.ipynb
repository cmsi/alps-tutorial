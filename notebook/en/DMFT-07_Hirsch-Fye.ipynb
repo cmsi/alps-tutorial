{
 "metadata": {
  "name": ""
 },
 "nbformat": 3,
 "nbformat_minor": 0,
 "worksheets": [
  {
   "cells": [
    {
     "cell_type": "markdown",
     "metadata": {},
     "source": [
      "# ALPS_2_Tutorials:DMFT-07_Hirsch-Fye"
     ]
    },
    {
     "cell_type": "markdown",
     "metadata": {},
     "source": [
      "#Tutorial 07: Hirsch Fye Cod"
     ]
    },
    {
     "cell_type": "markdown",
     "metadata": {},
     "source": [
      "We start by running a discrete time Monte Carlo code: the [Hirsch Fye](http://dx.doi.org/10.1103/PhysRevLett.56.2521) code. As an example we reproduce Fig. 11 in the DMFT review by [Georges *it et al.*](http://dx.doi.org/10.1103/RevModPhys.68.13). The series of six curves shows how the system, a Hubbard model on the Bethe lattice with interaction $U=3D/\\sqrt{2}$ at half filling, enters an antiferromagnetic phase upon cooling."
     ]
    },
    {
     "cell_type": "markdown",
     "metadata": {},
     "source": [
      "The Hirsch Fye algorithm is described in [here](http://dx.doi.org/10.1103/RevModPhys.68.13), and this review also provides an open source implementation for the codes. More information can also be found in [Bl&uuml;mer's PhD](http://komet337.physik.uni-mainz.de/Bluemer/Thesis/bluemer_color.pdf). While many improvements have been developed (see e.g. [Alvarez08](http://doi.acm.org/10.1145/1413370.1413433) or [Nukala09](http://dx.doi.org/10.1103/PhysRevB.80.195111)), the  algorithm\n",
      "has been [replaced by continuous-time algorithms](http://dx.doi.org/10.1103/PhysRevB.76.235123) eliminating systematic discretization errors."
     ]
    },
    {
     "cell_type": "markdown",
     "metadata": {},
     "source": [
      "The Hirsch Fye simulation will run for about 20 seconds per iteration. The python scripts for running this simulation can be found in the directory <tt>tutorials/dmft-07-hirschfye</tt>, a short version [tutorial7.py](http://alps.comp-phys.org/static/tutorials2.2.0/dmft-07-hirschfye/tutorial7.py) running simulations at 2 temperatures only (takes 5 minutes) or a version reproducing all 6 temperatures [tutorial7_long.py](http://alps.comp-phys.org/static/tutorials2.2.0/dmft-07-hirschfye/tutorial7_long.py).  For evaluation you may use the same script [tutorial2eval.py](http://alps.comp-phys.org/static/tutorials2.2.0/dmft-02-hybridization/tutorial2eval.py) as it is described in the tutorial [[ALPS_2_Tutorials:DMFT-02_Hybridization]]."
     ]
    },
    {
     "cell_type": "markdown",
     "metadata": {},
     "source": [
      "If you want to use Vistrails to run your DMFT-simulations, you can use [dmft-07-hirschfye.vt](http://alps.comp-phys.org/static/tutorials2.2.0/dmft-07-hirschfye/dmft-07-hirschfye.vt)."
     ]
    },
    {
     "cell_type": "markdown",
     "metadata": {},
     "source": [
      "The main parameters are same as those described in the tutorial [[ALPS_2_Tutorials:DMFT-02_Hybridization]]."
     ]
    },
    {
     "cell_type": "markdown",
     "metadata": {},
     "source": [
      "As a discrete time method, HF suffers from $\\Delta\\tau$ - errors. Pick a set of parameters and run it for sucessively larger <tt>N</tt>."
     ]
    },
    {
     "cell_type": "markdown",
     "metadata": {},
     "source": [
      "Tutorial by [[User:Gullc|Emanuel]] - Please don't hesitate to ask"
     ]
    }
   ],
   "metadata": {}
  }
 ]
}