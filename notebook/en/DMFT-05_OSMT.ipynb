{
 "metadata": {
  "name": ""
 },
 "nbformat": 3,
 "nbformat_minor": 0,
 "worksheets": [
  {
   "cells": [
    {
     "cell_type": "markdown",
     "metadata": {},
     "source": [
      "# ALPS_2_Tutorials:DMFT-05_OSMT"
     ]
    },
    {
     "cell_type": "markdown",
     "metadata": {},
     "source": [
      "#Tutorial 05: Orbitally Selective Mott Transitio"
     ]
    },
    {
     "cell_type": "markdown",
     "metadata": {},
     "source": [
      "An interesting phenomenon in multi-orbital models is the orbitally selective Mott transition, first examined [by Anisimov *et al*](http://www.springerlink.com/content/l9fktwe5l2hdtq3w). A variant of this, a ''momentum-selective'' Mott transition, has recently been discussed in [cluster calculations](http://link.aps.org/abstract/PRB/v80/e045120) as a cluster representation of pseudogap physics."
     ]
    },
    {
     "cell_type": "markdown",
     "metadata": {},
     "source": [
      "In an orbitally selective Mott transition some of the orbitals involved become Mott insulating as a function of doping or interactions, while others stay metallic."
     ]
    },
    {
     "cell_type": "markdown",
     "metadata": {},
     "source": [
      "As a minimal model we consider two bands: a wide band  and a narrow band. In addition to the intra-orbital Coulomb repulsion $U$ we consider interactions $U'$, and $J$, with $U' = U-2J$. We limit ourselves to Ising-like interactions - a simplification that is often problematic for real compounds."
     ]
    },
    {
     "cell_type": "markdown",
     "metadata": {},
     "source": [
      "We choose here a case with two bandwidth $t1=0.5$ and $t2=1$ and density-density like interactions of $U'=U/2$, $J=U/4$, and $U$ between $1.8$ and $2.8$, where the first case shows a Fermi liquid-like behavior in both orbitals, the $U=2.2$ is orbitally selective, and $U=2.8$ is insulating in both orbitals."
     ]
    },
    {
     "cell_type": "markdown",
     "metadata": {},
     "source": [
      "The python command lines for running the simulations are found in [tutorial5a.py](http://alps.comp-phys.org/static/tutorials2.2.0/dmft-05-osmt/tutorial5a.py). Alternatively, you can use the [Vistrails file](http://alps.comp-phys.org/static/tutorials2.2.0/dmft-05-osmt/dmft-05-osmt.vt):"
     ]
    },
    {
     "cell_type": "code",
     "collapsed": false,
     "input": [
      "import pyalps\n",
      "import numpy as np\n",
      "import matplotlib.pyplot as plt\n",
      "import pyalps.plot\n",
      " \n",
      " \n",
      "#prepare the input parameters\n",
      "parms=[]\n",
      "for cp in [[1.8,0.45],[2.2,0.55],[2.8,0.7]]: \n",
      "   parms.append(\n",
      "           { \n",
      "             'CONVERGED'           : 0.001,\n",
      "             'FLAVORS'             : 4,\n",
      "             'H'                   : 0,\n",
      "             'H_INIT'              : 0.,\n",
      "             'MAX_IT'              : 15,\n",
      "             'MAX_TIME'            : 600,\n",
      "             'MU'                  : 0,\n",
      "             'N'                   : 500,\n",
      "             'NMATSUBARA'          : 500,\n",
      "             'N_MEAS'              : 2000,\n",
      "             'N_ORDER'             : 50,\n",
      "             'SEED'                : 0,\n",
      "             'SOLVER'              : 'hybridization',\n",
      "             'SC_WRITE_DELTA'      : 1,\n",
      "             'SYMMETRIZATION'      : 1,\n",
      "             'SWEEPS'              : 10000,\n",
      "             'BETA'                : 30,\n",
      "             'THERMALIZATION'      : 500,\n",
      "             'U'                   : cp[0],\n",
      "             'J'                   : cp[1],\n",
      "             't0'                  : 0.5,\n",
      "             't1'                  : 1,\n",
      "             'CHECKPOINT'          : 'dump'\n",
      "       }\n",
      "       )\n",
      " \n",
      " \n",
      "#write the input file and run the simulation\n",
      "for p in parms:\n",
      "   input_file = pyalps.writeParameterFile('parm_u_'+str(p['U'])+'_j_'+str(p['J']),p)\n",
      "   res = pyalps.runDMFT(input_file) "
     ],
     "language": "python",
     "metadata": {},
     "outputs": []
    },
    {
     "cell_type": "markdown",
     "metadata": {},
     "source": [
      "A paper using the same sample parameters can be found [here](http://dx.doi.org/10.1103/PhysRevB.72.081103)."
     ]
    },
    {
     "cell_type": "markdown",
     "metadata": {},
     "source": [
      "As discussed in the previous tutorial [[ALPS 2 Tutorials:DMFT-04 Mott]], the (non-)metallicity of the Green's function is best observed by plotting the data on a logarithmic scale. "
     ]
    },
    {
     "cell_type": "code",
     "collapsed": false,
     "input": [
      "listobs = ['0', '2']   # flavor 0 is SYMMETRIZED with 1, flavor 2 is SYMMETRIZED with 3\n",
      "    \n",
      "data = pyalps.loadMeasurements(pyalps.getResultFiles(pattern='parm_u_*h5'), respath='/simulation/results/G_tau', what=listobs, verbose=True)\n",
      "for d in pyalps.flatten(data):\n",
      "   d.x = d.x*d.props[\"BETA\"]/float(d.props[\"N\"])\n",
      "   d.y = -d.y\n",
      "   d.props['label'] = r'$U=$'+str(d.props['U'])+'; flavor='+str(d.props['observable'][len(d.props['observable'])-1])\n",
      "plt.figure()\n",
      "plt.yscale('log')\n",
      "plt.xlabel(r'$\\tau$')\n",
      "plt.ylabel(r'$G_{flavor}(\\tau)$')\n",
      "plt.title('DMFT-05: Orbitally Selective Mott Transition on the Bethe lattice')\n",
      "pyalps.plot.plot(data)\n",
      "plt.legend()\n",
      "plt.show()"
     ],
     "language": "python",
     "metadata": {},
     "outputs": []
    },
    {
     "cell_type": "markdown",
     "metadata": {},
     "source": [
      "Convergency may be checked by [tutorial5b.py](http://alps.comp-phys.org/static/tutorials2.2.0/dmft-05-osmt/tutorial5b.py), showing all iterations of $G_f^{it}(\\tau)$ on logarithmic scale."
     ]
    },
    {
     "cell_type": "markdown",
     "metadata": {},
     "source": [
      "Tutorial by [[User:Gullc|Emanuel]] - Please don't hesitate to ask"
     ]
    }
   ],
   "metadata": {}
  }
 ]
}