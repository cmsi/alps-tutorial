{
 "metadata": {
  "name": ""
 },
 "nbformat": 3,
 "nbformat_minor": 0,
 "worksheets": [
  {
   "cells": [
    {
     "cell_type": "markdown",
     "metadata": {},
     "source": [
      "#  ALPS 2 Tutorials:MC-01 Autocorrelations"
     ]
    },
    {
     "cell_type": "markdown",
     "metadata": {},
     "source": [
      "The first tutorial is an introduction to an important topic in Monte Carlo simulations: autocorrelation time. The input files for this tutorial are available in your ALPS distribution, in a directory called `mc-01-autocorrelations`."
     ]
    },
    {
     "cell_type": "markdown",
     "metadata": {},
     "source": [
      "# Local updates"
     ]
    },
    {
     "cell_type": "markdown",
     "metadata": {},
     "source": [
      "We will start with local updates in an Ising model. We will simulate an Ising model on finite square lattices $(L=2, 4, ..., 48)$ at the critical temperature $T_C=2.269186$ using **local** updates."
     ]
    },
    {
     "cell_type": "markdown",
     "metadata": {},
     "source": [
      "This tutorial can be run either on the command line, in Python or Vistrails. We recommend the Python or Vistrails version on your local machine, and the command line version for large simulations on clusters."
     ]
    },
    {
     "cell_type": "markdown",
     "metadata": {},
     "source": [
      "## Setting up and running the simulation on the command line \n",
      "\n",
      "To set up and run the simulation on the command line you first create a parameter file [parm1a](http://alps.comp-phys.org/static/tutorials2.2.0/mc-01-autocorrelations/parm1a)."
     ]
    },
    {
     "cell_type": "raw",
     "metadata": {},
     "source": [
      "LATTICE=\"square lattice\"\n",
      "T=2.269186\n",
      "J=1\n",
      "THERMALIZATION=10000\n",
      "SWEEPS=50000  \n",
      "UPDATE=\"local\"\n",
      "MODEL=\"Ising\"\n",
      "{L=2;}\n",
      "{L=4;}\n",
      "{L=8;}\n",
      "{L=16;}\n",
      "{L=32;}\n",
      "{L=48;}"
     ]
    },
    {
     "cell_type": "markdown",
     "metadata": {},
     "source": [
      "In order to run the simulation you first need to convert this parameter file into a job file in XML format by typing"
     ]
    },
    {
     "cell_type": "code",
     "collapsed": false,
     "input": [
      "%%bash\n",
      "parameter2xml parm1a"
     ],
     "language": "python",
     "metadata": {},
     "outputs": []
    },
    {
     "cell_type": "markdown",
     "metadata": {},
     "source": [
      "This will generate 6 task files (one for each length $L$) and a job description file `parm1a.in.xml` which you can open with an XML browser to check the status of your simulation once you started it. The simulation can be started on a single processor by"
     ]
    },
    {
     "cell_type": "code",
     "collapsed": false,
     "input": [
      "%%bash\n",
      "spinmc --Tmin 10 --write-xml parm1a.in.xml"
     ],
     "language": "python",
     "metadata": {},
     "outputs": []
    },
    {
     "cell_type": "markdown",
     "metadata": {},
     "source": [
      "or on multiple processors (in our example 8) using MPI by"
     ]
    },
    {
     "cell_type": "code",
     "collapsed": false,
     "input": [
      "%%bash\n",
      "mpirun -np 8 spinmc --mpi  --Tmin 10 --write-xml parm1a.in.xml "
     ],
     "language": "python",
     "metadata": {},
     "outputs": []
    },
    {
     "cell_type": "markdown",
     "metadata": {},
     "source": [
      "(In the following examples we will refer to the single processor commands only.)\n",
      "By setting the argument `--Tmin 10` the scheduler initially checks every 10 seconds if the simulation is finished (the time is then dynamically adapted by the scheduler)."
     ]
    },
    {
     "cell_type": "markdown",
     "metadata": {},
     "source": [
      "You can restart a simulation which has been halted (e.g. due to pressing Ctrl-C or reaching the CPU time limit) by starting the simulation with the XML output file, e.g."
     ]
    },
    {
     "cell_type": "code",
     "collapsed": false,
     "input": [
      "%%bash\n",
      "spinmc --Tmin 10 --write-xml parm1a.out.xml"
     ],
     "language": "python",
     "metadata": {},
     "outputs": []
    },
    {
     "cell_type": "markdown",
     "metadata": {},
     "source": [
      "The option `--write-xml` tells the simulation to store the results of each simulation also in an XML output file (`parm1a.task[1-5].out.xml`) which you can open from the job description file `parm1a.out.xml` using your XML browser or alternatively by converting the output to a text file using one of the following commands:"
     ]
    },
    {
     "cell_type": "code",
     "collapsed": false,
     "input": [
      "%%bash\n",
      "firefox ./parm1a.out.xml\n",
      "convert2text parm1a.out.xml"
     ],
     "language": "python",
     "metadata": {},
     "outputs": []
    },
    {
     "cell_type": "markdown",
     "metadata": {},
     "source": [
      "The results of a single task stored for example in `parm1a.task1.out.xml` can be displayed by using either of the following commands:"
     ]
    },
    {
     "cell_type": "markdown",
     "metadata": {},
     "source": [
      "* Linux: `firefox ./parm1a.task1.out.xml`\n",
      "* MacOS: `open -a safari parm1a.task1.out.xml`\n",
      "* Windows:`C:\\Program Files\\Internet Explorer\\iexplore.exe\" parm1a.task1.out.xml`\n",
      "* Text output on Linux or MacOS: `convert2text parm1a.task1.out.xml`"
     ]
    },
    {
     "cell_type": "markdown",
     "metadata": {},
     "source": [
      "Note though that writing XML files can be very slow if you perform many measurements and it is then better to work just with the binary results in the HDF5 files."
     ]
    },
    {
     "cell_type": "markdown",
     "metadata": {},
     "source": [
      "To obtain more detailed information on the simulation runs (e.g. to check the convergence of errors) you can convert the run files of the tasks (`parm1a.task[1-6].out.run1`) into XML files by typing"
     ]
    },
    {
     "cell_type": "code",
     "collapsed": false,
     "input": [
      "%%bash\n",
      "convert2xml parm1a.task*.out.run1"
     ],
     "language": "python",
     "metadata": {},
     "outputs": []
    },
    {
     "cell_type": "markdown",
     "metadata": {},
     "source": [
      "which will generate the XML output files `parm1a.task[1-6].out.run1.xml` which you can open using your XML browser or alternatively convert to text using either of the commands you used to view the other XML files before."
     ]
    },
    {
     "cell_type": "markdown",
     "metadata": {},
     "source": [
      "Look at all six tasks and observe that for large lattices the errors no longer converge by studying the binning analysis in the files `parm1a.task[1-6].out.run1.xml`. To create plots we recommend to use the Python tools described below."
     ]
    },
    {
     "cell_type": "markdown",
     "metadata": {},
     "source": [
      "## Setting up and running the simulation in Python"
     ]
    },
    {
     "cell_type": "markdown",
     "metadata": {},
     "source": [
      "To set up and run the simulation in Python we use the script [tutorial1a.py](http://alps.comp-phys.org/static/tutorials2.2.0/mc-01-autocorrelations/tutorial1a.py). The first parts of this script imports the required modules and then prepares the input files as a list of Python dictionaries:"
     ]
    },
    {
     "cell_type": "code",
     "collapsed": false,
     "input": [
      "import pyalps\n",
      "import matplotlib.pyplot as plt\n",
      "import pyalps.plot\n",
      "\n",
      "parms = []\n",
      "for l in [2,4,8,16,32,48]:\n",
      "   parms.append(\n",
      "       {\n",
      "         'LATTICE'        : \"square lattice\",\n",
      "         'T'              : 2.269186,\n",
      "         'J'              : 1 ,\n",
      "         'THERMALIZATION' : 10000,\n",
      "         'SWEEPS'         : 50000,\n",
      "         'UPDATE'         : \"local\",\n",
      "         'MODEL'          : \"Ising\",\n",
      "         'L'              : l\n",
      "       }\n",
      "   )"
     ],
     "language": "python",
     "metadata": {},
     "outputs": []
    },
    {
     "cell_type": "markdown",
     "metadata": {},
     "source": [
      "To run this, launch your python interpreter:\n",
      "\n",
      "* on Macos or Windows when installing Vistrails and the binary ALPS releases: `vispython`\n",
      "* on Linux or when compiling from source against the system Python: `alpspython`"
     ]
    },
    {
     "cell_type": "markdown",
     "metadata": {},
     "source": [
      "and then type the commands."
     ]
    },
    {
     "cell_type": "markdown",
     "metadata": {},
     "source": [
      "We next convert this into a job file in XML format and by typing"
     ]
    },
    {
     "cell_type": "code",
     "collapsed": false,
     "input": [
      "input_file = pyalps.writeInputFiles('parm1a',parms)"
     ],
     "language": "python",
     "metadata": {},
     "outputs": []
    },
    {
     "cell_type": "markdown",
     "metadata": {},
     "source": [
      "and then run the simulation:"
     ]
    },
    {
     "cell_type": "code",
     "collapsed": false,
     "input": [
      "pyalps.runApplication('spinmc',input_file,Tmin=5,writexml=True)"
     ],
     "language": "python",
     "metadata": {},
     "outputs": []
    },
    {
     "cell_type": "markdown",
     "metadata": {},
     "source": [
      "The option <tt>writexml=True</tt> tells ALPS to write XML files. <tt>spinmc</tt> is the name of the application, <tt>input_file</tt> is the path to the XML job input file, and <tt>Tmin=5</tt> again tells ALPS to check every 5 seconds for completion of the simulation."
     ]
    },
    {
     "cell_type": "markdown",
     "metadata": {},
     "source": [
      "We next load the binning analysis for the absolute value of the magnetization from the output files, and turn the list of lists into just a flat list:"
     ]
    },
    {
     "cell_type": "code",
     "collapsed": false,
     "input": [
      "binning = pyalps.loadBinningAnalysis(pyalps.getResultFiles(prefix='parm1a'),'|Magnetization|')\n",
      "binning = pyalps.flatten(binning)"
     ],
     "language": "python",
     "metadata": {},
     "outputs": []
    },
    {
     "cell_type": "markdown",
     "metadata": {},
     "source": [
      "To make the plots nicer we give each data set a label specifying the size:"
     ]
    },
    {
     "cell_type": "code",
     "collapsed": false,
     "input": [
      "for dataset in binning:\n",
      "    dataset.props['label'] = 'L='+str(dataset.props['L'])"
     ],
     "language": "python",
     "metadata": {},
     "outputs": []
    },
    {
     "cell_type": "markdown",
     "metadata": {},
     "source": [
      "And finally we create a plot showing the binning analysis graphically:"
     ]
    },
    {
     "cell_type": "code",
     "collapsed": false,
     "input": [
      "plt.figure()\n",
      "plt.xlabel('binning level')\n",
      "plt.ylabel('Error of |Magnetization|')\n",
      "pyalps.plot.plot(binning)\n",
      "plt.legend(loc='upper left')\n",
      "plt.show()"
     ],
     "language": "python",
     "metadata": {},
     "outputs": []
    },
    {
     "cell_type": "markdown",
     "metadata": {},
     "source": [
      "To make separate plots for each system size we make a loop over all data sets:"
     ]
    },
    {
     "cell_type": "code",
     "collapsed": false,
     "input": [
      "for dataset in binning:\n",
      "    plt.figure()\n",
      "    plt.title('Binning analysis for L='+str(dataset.props['L']))\n",
      "    plt.xlabel('binning level')\n",
      "    plt.ylabel('Error of |Magnetization|')\n",
      "    pyalps.plot.plot(dataset)\n",
      "\n",
      "plt.show()"
     ],
     "language": "python",
     "metadata": {},
     "outputs": []
    },
    {
     "cell_type": "markdown",
     "metadata": {},
     "source": [
      "You can clearly see that the errors do not converge for large system sizes."
     ]
    },
    {
     "cell_type": "markdown",
     "metadata": {},
     "source": [
      "## Setting up and running the simulation in Vistrails"
     ]
    },
    {
     "cell_type": "markdown",
     "metadata": {},
     "source": [
      "To run the simulation in Vistrails open the file [mc-01-autocorrelations.vt](http://alps.comp-phys.org/static/tutorials2.2.0/mc-01-autocorrelations/mc-01-autocorrelations.vt) and look at the workflow labeled local updates. Click on \"Execute\" to prepare the input file, run the simulation and create the output figures."
     ]
    },
    {
     "cell_type": "markdown",
     "metadata": {},
     "source": [
      "You will get a number of figures that, if combined, will look like the one here, where it is obvious that the errors are not converged for large system sizes:"
     ]
    },
    {
     "cell_type": "raw",
     "metadata": {},
     "source": [
      "<vistrail host=\"alps.ethz.ch\" db=\"tutorials\" vtid=\"2\" version=\"225\" showspreadsheetonly=\"True\" embedworkflow=\"True\"/>"
     ]
    },
    {
     "cell_type": "markdown",
     "metadata": {},
     "source": [
      "This figure is actually not just pasted into the web page but has been created by the web server running Vistrails as you loaded the page. Clicking the  figure will download the workflow that produced it. Comparing this workflow to the one you just executed."
     ]
    },
    {
     "cell_type": "markdown",
     "metadata": {},
     "source": [
      "#  Cluster updates"
     ]
    },
    {
     "cell_type": "markdown",
     "metadata": {},
     "source": [
      "We next repeat the simulations, but using cluster updates. We want to change three parameters:"
     ]
    },
    {
     "cell_type": "raw",
     "metadata": {},
     "source": [
      "THERMALIZATION  1000\n",
      "SWEEPS          100000  \n",
      "UPDATE          \"cluster\""
     ]
    },
    {
     "cell_type": "markdown",
     "metadata": {},
     "source": [
      "To run the simulations please follow the same procedure as above, using either"
     ]
    },
    {
     "cell_type": "markdown",
     "metadata": {},
     "source": [
      "* On the command line the input file [parm1b](http://alps.comp-phys.org/static/tutorials2.2.0/mc-01-autocorrelations/parm1b)\n",
      "* In Python the script [tutorial1b.py](http://alps.comp-phys.org/static/tutorials2.2.0/mc-01-autocorrelations/tutorial1b.py)\n",
      "* In Vistrails the workflow labeled cluster updates in the same file as before [mc-01-autocorrelations.vt](http://alps.comp-phys.org/static/tutorials2.2.0/mc-01-autocorrelations/mc-01-autocorrelations.vt)"
     ]
    },
    {
     "cell_type": "markdown",
     "metadata": {},
     "source": [
      "You will get curves looking like the ones below. Now the errors have converged and can be trusted."
     ]
    },
    {
     "cell_type": "markdown",
     "metadata": {},
     "source": [
      "#  Questions"
     ]
    },
    {
     "cell_type": "markdown",
     "metadata": {},
     "source": [
      "* Are the errors converged? (To check this convert the run files as described above.)\n",
      "* Why do longer autocorrelation times lead to slower error convergence?\n",
      "* On what system parameters do the autocorrelation times depend on? Check by changing parameters in the input file.\n",
      "* Can you explain why cluster updates are more efficient than local updates?"
     ]
    },
    {
     "cell_type": "markdown",
     "metadata": {},
     "source": [
      "&copy; 2003-2010 by Simon Trebst, Fabien Alet, Matthias Troyer, Synge Todo, and Emanuel Gull"
     ]
    }
   ],
   "metadata": {}
  }
 ]
}