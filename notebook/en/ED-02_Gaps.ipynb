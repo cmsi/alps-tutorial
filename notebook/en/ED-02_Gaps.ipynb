{
 "metadata": {
  "name": ""
 },
 "nbformat": 3,
 "nbformat_minor": 0,
 "worksheets": [
  {
   "cells": [
    {
     "cell_type": "markdown",
     "metadata": {},
     "source": [
      "# ALPS_2_Tutorials:ED-02_Gaps"
     ]
    },
    {
     "cell_type": "markdown",
     "metadata": {},
     "source": [
      "#  Spin gaps of 1D quantum spin systems "
     ]
    },
    {
     "cell_type": "markdown",
     "metadata": {},
     "source": [
      "In this tutorial we will lear how to use the sparse diagonalization program using the Lanczos algorithm."
     ]
    },
    {
     "cell_type": "markdown",
     "metadata": {},
     "source": [
      "## Spin gap of a spin-1 chain "
     ]
    },
    {
     "cell_type": "markdown",
     "metadata": {},
     "source": [
      "### Using the command line "
     ]
    },
    {
     "cell_type": "markdown",
     "metadata": {},
     "source": [
      "The parameter file [parm2a](http://alps.comp-phys.org/static/tutorials2.2.0/ed-02-gaps/parm2a) sets up exact diagonalization of the quantum mechanical S=1 chain with 4 to 6 sites in the singlet and trip sector"
     ]
    },
    {
     "cell_type": "raw",
     "metadata": {},
     "source": [
      "MODEL=\"spin\"\n",
      "LATTICE=\"chain lattice\"\n",
      "CONSERVED_QUANTUMNUMBERS=\"Sz\"\n",
      "local_S=1\n",
      "J=1\n",
      "Sz_total=0\n",
      "{L=4}\n",
      "{L=6}\n",
      "{L=8}\n",
      "{L=10}\n",
      "Sz_total=1\n",
      "{L=4}\n",
      "{L=6}\n",
      "{L=8}\n",
      "{L=10}"
     ]
    },
    {
     "cell_type": "markdown",
     "metadata": {},
     "source": [
      "The parameter Sz_total restricts the conserved quantum number Sz to the given value. See the  [[Tutorials:ModelHOWTO |  model library documentation]] for more details on how to set up models and conserved quantum numbers."
     ]
    },
    {
     "cell_type": "markdown",
     "metadata": {},
     "source": [
      "Using the standard sequence of commands you can first convert the input parameters to XML and then run the application sparsediag:"
     ]
    },
    {
     "cell_type": "code",
     "collapsed": false,
     "input": [
      "%%bash\n",
      "parameter2xml parm2a\n",
      "sparsediag --write-xml parm2a.in.xml"
     ],
     "language": "python",
     "metadata": {},
     "outputs": []
    },
    {
     "cell_type": "markdown",
     "metadata": {},
     "source": [
      "Evaluation of the gaps can now be done manually by looking at the output files, or we can use Python or Vistrails to automate the whole workflow."
     ]
    },
    {
     "cell_type": "markdown",
     "metadata": {},
     "source": [
      "### Using Python "
     ]
    },
    {
     "cell_type": "markdown",
     "metadata": {},
     "source": [
      "To set up and run the simulation in Python we use the script  [tutorial2a.py](http://alps.comp-phys.org/static/tutorials2.2.0/ed-02-gaps/tutorial2a.py). The first parts of this script imports the required modules, prepares the input files as a list of Python dictionaries, writes the input files and runs the application"
     ]
    },
    {
     "cell_type": "code",
     "collapsed": false,
     "input": [
      "import pyalps\n",
      "import numpy as np\n",
      "import matplotlib.pyplot as plt\n",
      "import pyalps.plot\n",
      "\n",
      "parms = []\n",
      "for l in [4, 6, 8, 10]:\n",
      "    for sz in [0, 1]:\n",
      "        parms.append({\n",
      "            'LATTICE'                   : \"chain lattice\", \n",
      "            'MODEL'                     : \"spin\",\n",
      "            'local_S'                   : 1,\n",
      "            'J'                         : 1,\n",
      "            'L'                         : l,\n",
      "            'CONSERVED_QUANTUMNUMBERS'  : 'Sz',\n",
      "            'Sz_total'                  : sz\n",
      "        })\n",
      "\n",
      "input_file = pyalps.writeInputFiles('parm2a',parms)\n",
      "res = pyalps.runApplication('sparsediag',input_file)"
     ],
     "language": "python",
     "metadata": {},
     "outputs": []
    },
    {
     "cell_type": "markdown",
     "metadata": {},
     "source": [
      "To run this, launch your python interpreter using the convenience scripts <tt>alpspython</tt> or <tt>vispython</tt>. We now have the same output files as in the command line version."
     ]
    },
    {
     "cell_type": "markdown",
     "metadata": {},
     "source": [
      "We next load the spectra for each of the systems sizes and spin sectors:"
     ]
    },
    {
     "cell_type": "code",
     "collapsed": false,
     "input": [
      "data = pyalps.loadSpectra(pyalps.getResultFiles(prefix='parm2a'))"
     ],
     "language": "python",
     "metadata": {},
     "outputs": []
    },
    {
     "cell_type": "markdown",
     "metadata": {},
     "source": [
      "To extract the gaps we need to write a few lines of Python, to set up a list of lengths and a Python dictionaries of the minimum energy in each (L,Sz) sector:"
     ]
    },
    {
     "cell_type": "code",
     "collapsed": false,
     "input": [
      "lengths = []\n",
      "min_energies = {}\n",
      "for sim in data:\n",
      "    l = int(sim[0].props['L'])\n",
      "    if l not in lengths: lengths.append(l)\n",
      "    sz = int(sim[0].props['Sz_total'])\n",
      "    all_energies = []\n",
      "    for sec in sim:\n",
      "        all_energies += list(sec.y)\n",
      "    min_energies[(l,sz)]= np.min(all_energies)"
     ],
     "language": "python",
     "metadata": {},
     "outputs": []
    },
    {
     "cell_type": "markdown",
     "metadata": {},
     "source": [
      "And finally we make a plot of the gap as a function of 1/L and then show the plot"
     ]
    },
    {
     "cell_type": "code",
     "collapsed": false,
     "input": [
      "gapplot = pyalps.DataSet()\n",
      "gapplot.x = 1./np.sort(lengths)\n",
      "gapplot.y = [min_energies[(l,1)] -min_energies[(l,0)] for l in np.sort(lengths)]  \n",
      "gapplot.props['xlabel']='$1/L$'\n",
      "gapplot.props['ylabel']='Triplet gap $\\Delta/J$'\n",
      "gapplot.props['label']='S=1'\n",
      "\n",
      "plt.figure()\n",
      "pyalps.plot.plot(gapplot)\n",
      "plt.legend(loc='upper left')\n",
      "plt.xlim(0,0.25)\n",
      "plt.ylim(0,1.0)\n",
      "plt.show()"
     ],
     "language": "python",
     "metadata": {},
     "outputs": []
    },
    {
     "cell_type": "markdown",
     "metadata": {},
     "source": [
      "### Using Vistrails "
     ]
    },
    {
     "cell_type": "markdown",
     "metadata": {},
     "source": [
      "To run the simulation in Vistrails open the file [ed-02-gaps.vt](http://alps.comp-phys.org/static/tutorials2.2.0/ed-02-gaps/ed-02-gaps.vt) and select the workflow \"S=1 chain\""
     ]
    },
    {
     "cell_type": "markdown",
     "metadata": {},
     "source": [
      "## Spin gap of a spin-1/2 chain "
     ]
    },
    {
     "cell_type": "markdown",
     "metadata": {},
     "source": [
      "Compare the extrapolated gap of the spin-1 chain to that of a spin-1/2 chain. To do so, just change the local spin local_S=1 to local_S=0.5 and run the simulations (but give them the name parm2b). The parameter file is  [parm2a](http://alps.comp-phys.org/static/tutorials2.2.0/ed-02-gaps/parm2a), the Python script  [tutorial2b.py](http://alps.comp-phys.org/static/tutorials2.2.0/ed-02-gaps/tutorial2b.py) and the Vistrails workflow in the file [ed-02-gaps.vt](http://alps.comp-phys.org/static/tutorials2.2.0/ed-02-gaps/ed-02-gaps.vt) is called \"S=1/2 chain\"."
     ]
    },
    {
     "cell_type": "markdown",
     "metadata": {},
     "source": [
      "## Both systems in one plot "
     ]
    },
    {
     "cell_type": "markdown",
     "metadata": {},
     "source": [
      "To show both gaps in one plot run the Python script  [tutorial2c.py](http://alps.comp-phys.org/static/tutorials2.2.0/ed-02-gaps/tutorial2c.py) after running the first two tutorials or run the Vistrails workflow \"combined\" in the file  [ed-02-gaps.vt](http://alps.comp-phys.org/static/tutorials2.2.0/ed-02-gaps/ed-02-gaps.vt)"
     ]
    },
    {
     "cell_type": "markdown",
     "metadata": {},
     "source": [
      "## Questions"
     ]
    },
    {
     "cell_type": "markdown",
     "metadata": {},
     "source": [
      "* What is the extrapolated value of the gap for an infinite system?\n",
      "* Why do the S=1/2 and S=1 chains show different behavior"
     ]
    }
   ],
   "metadata": {}
  }
 ]
}