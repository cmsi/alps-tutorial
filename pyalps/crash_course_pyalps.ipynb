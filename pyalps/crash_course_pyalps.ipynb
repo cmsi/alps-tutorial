{
 "metadata": {
  "name": "",
  "signature": "sha256:2adc5520f02f1195d9c6c423dbd50bb7b73b06ffc91568f08c2587f84b0dd573"
 },
 "nbformat": 3,
 "nbformat_minor": 0,
 "worksheets": [
  {
   "cells": [
    {
     "cell_type": "markdown",
     "metadata": {},
     "source": [
      "# <font color='blue'>A crash course in ALPS Python</font>\n",
      "\n",
      "**ALPS を Python のモジュールとして利用することができます**\n",
      "\n",
      "ここでは ALPS Python を使ってシミュレーションを実行する手順を説明します．\n",
      "\n",
      "0. 環境設定\n",
      "1. 入力ファイル(XML)の書き出し\n",
      "2. シミュレーションの実行\n",
      "3. 出力ファイル(XML/HDF5)の読み込み\n",
      "4. 結果の可視化(matplotlib)\n",
      "5. 結果の解析\n",
      "\n",
      "以下では具体例として Ising 模型の Monte Carlo シミュレーションを行います．"
     ]
    },
    {
     "cell_type": "markdown",
     "metadata": {},
     "source": [
      "# <font color='blue'>環境設定</font>\n",
      "\n",
      "## pyalps モジュールの準備\n",
      "\n",
      "pyalps モジュールへ `PYTHONPATH`, ALPSのコマンドへ `PATH` を通しておく必要があります．\n",
      "\n",
      "phi 上で ALPS Python へ PATH を通すには次のコマンドを実行してください．"
     ]
    },
    {
     "cell_type": "code",
     "collapsed": true,
     "input": [
      "%%bash\n",
      "source /opt/nano/alps/alpsvars-20121208-r6630.sh"
     ],
     "language": "python",
     "metadata": {},
     "outputs": []
    },
    {
     "cell_type": "markdown",
     "metadata": {},
     "source": [
      "## pyalsp モジュールの読み込み\n",
      "\n",
      "ALPS Python を Python のインタープリタから利用してみましょう\n",
      "\n",
      "- エラーが出たら質問してください"
     ]
    },
    {
     "cell_type": "code",
     "collapsed": false,
     "input": [
      "import pyalps\n",
      "import pyalps.plot\n",
      "import numpy as np"
     ],
     "language": "python",
     "metadata": {},
     "outputs": []
    },
    {
     "cell_type": "markdown",
     "metadata": {},
     "source": [
      "#### *まめ知識*\n",
      "\n",
      "入力は **[tab] 補完** ができます．入力の途中でタブキーを押すことで入力候補となる変数名や関数名などが表示されます．"
     ]
    },
    {
     "cell_type": "code",
     "collapsed": true,
     "input": [
      "pyalps.  # ['.'の次で [tab] キーを押す]"
     ],
     "language": "python",
     "metadata": {},
     "outputs": []
    },
    {
     "cell_type": "markdown",
     "metadata": {},
     "source": [
      "## 1. 入力ファイル (XML) の書き出し\n",
      "\n",
      "python の **辞書型** のデータから **入力用XMLファイル** を書き出すことができます．"
     ]
    },
    {
     "cell_type": "markdown",
     "metadata": {},
     "source": [
      "まず，パラメータを辞書形式で定義します．"
     ]
    },
    {
     "cell_type": "code",
     "collapsed": true,
     "input": [
      "parms = []\n",
      "for t in numpy.linspace(1.5,3.2,12):\n",
      "    parms.append({\n",
      "        'LATTICE': \"square lattice\", \n",
      "        'T': t,\n",
      "        'J': 1 ,\n",
      "        'THERMALIZATION': 1000,\n",
      "        'SWEEPS': 100000,\n",
      "        'UPDATE': \"cluster\",\n",
      "        'MODEL': \"Ising\",\n",
      "        'L': 8\n",
      "})"
     ],
     "language": "python",
     "metadata": {},
     "outputs": []
    },
    {
     "cell_type": "markdown",
     "metadata": {},
     "source": [
      "次にパラメータの辞書から XML 形式の入力ファイルを作成します．"
     ]
    },
    {
     "cell_type": "code",
     "collapsed": true,
     "input": [
      "input_file = pyalps.writeInputFiles('parms',parms)"
     ],
     "language": "python",
     "metadata": {},
     "outputs": []
    },
    {
     "cell_type": "markdown",
     "metadata": {},
     "source": [
      "#### Question\n",
      "1. 作成されたファイルを確かめてみましょう．\n",
      "2. 関数 pyalps.writeInputFiles の定義を確認してみましょう．"
     ]
    },
    {
     "cell_type": "code",
     "collapsed": true,
     "input": [
      "ls"
     ],
     "language": "python",
     "metadata": {},
     "outputs": []
    },
    {
     "cell_type": "code",
     "collapsed": true,
     "input": [
      "pyalps.writeInputFiles?"
     ],
     "language": "python",
     "metadata": {},
     "outputs": []
    },
    {
     "cell_type": "markdown",
     "metadata": {},
     "source": [
      "## 2. シミュレーションの実行"
     ]
    },
    {
     "cell_type": "markdown",
     "metadata": {},
     "source": [
      "### 逐次実行"
     ]
    },
    {
     "cell_type": "code",
     "collapsed": true,
     "input": [
      "pyalps.runApplication(\n",
      "    'spinmc',      # プログラムの実行ファイル\n",
      "    input_file,    # 入力XMLファイル\n",
      "    Tmin=5,        # \n",
      "    writexml=True  # 出力XMLファイルを作成する\n",
      ")"
     ],
     "language": "python",
     "metadata": {},
     "outputs": []
    },
    {
     "cell_type": "markdown",
     "metadata": {},
     "source": [
      "実行が終了すると `parm1.out.xml`, `parm1.task1.out.h5`, $\\cdots$ といったファイルが出力されます．"
     ]
    },
    {
     "cell_type": "markdown",
     "metadata": {},
     "source": [
      "### 並列実行"
     ]
    },
    {
     "cell_type": "code",
     "collapsed": true,
     "input": [
      "pyalps.runApplication(\n",
      "    'spinmc',\n",
      "    input_file,\n",
      "    Tmin=5,\n",
      "    writexml=True,\n",
      "    MPI=4\n",
      ")"
     ],
     "language": "python",
     "metadata": {},
     "outputs": []
    },
    {
     "cell_type": "markdown",
     "metadata": {},
     "source": [
      "MPI=4 で MPI プロセス 4 並列でシミュレーションを実行することを指示しています."
     ]
    },
    {
     "cell_type": "markdown",
     "metadata": {},
     "source": [
      "## 3. 出力ファイル(XML/HDF5)の読み込み"
     ]
    },
    {
     "cell_type": "code",
     "collapsed": true,
     "input": [
      "result_files = pyalps.getResultFiles(prefix='parms')"
     ],
     "language": "python",
     "metadata": {},
     "outputs": []
    },
    {
     "cell_type": "markdown",
     "metadata": {},
     "source": [
      "カレントディレクトリ内からプレフィックスが 'parm1' のファイルを正規表現によるパターンマッチで探してファイル名を出力します．\n",
      "`result_files` はファイル名のリスト．"
     ]
    },
    {
     "cell_type": "markdown",
     "metadata": {},
     "source": [
      "指定したファイル名のリストから，指定した物理量（複数可）を取り出す"
     ]
    },
    {
     "cell_type": "code",
     "collapsed": true,
     "input": [
      "data = pyalps.loadMeasurements(\n",
      "    result_files,\n",
      "    ['|Magnetization|','Magnetization^2']\n",
      ")"
     ],
     "language": "python",
     "metadata": {},
     "outputs": []
    },
    {
     "cell_type": "markdown",
     "metadata": {},
     "source": [
      "### データ構造\n",
      "シミュレーション結果を格納する `DataSet` クラスの定義"
     ]
    },
    {
     "cell_type": "code",
     "collapsed": true,
     "input": [
      "%%python\n",
      "class ResultProperties:\n",
      "    def __init__(self):\n",
      "        self.props = {}\n",
      "\n",
      "class DataSet(ResultProperties):\n",
      "    \"\"\"\n",
      "    The DataSet class stores a set of data, usually in XY format, along with all the properties\n",
      "    describing the data, such as input parameters to the simulation etc.\n",
      "    \n",
      "    Members are:\n",
      "     * x, y - These contain the data and are expected to come as lists of Numpy arrays\n",
      "              by many functions operating on DataSets. However, for user-supplied functions,\n",
      "              other ways of representing data may be used.\n",
      "     * props - This is a dictionary of properties describing the dataset.\n",
      "    \"\"\"\n",
      "    def __init__(self,x=None,y=None,props=None):\n",
      "        ResultProperties.__init__(self)\n",
      "        if x == None:   self.x = np.array([])\n",
      "        else:           self.x = x\n",
      "        if y == None:   self.y = np.array([])\n",
      "        else:           self.y = y\n",
      "        if props != None:   self.props = props\n",
      "    \n",
      "    def __repr__(self):\n",
      "        return \"x=%s\\ny=%s\\nprops=%s\" % (self.x, self.y, self.props)"
     ],
     "language": "python",
     "metadata": {},
     "outputs": []
    },
    {
     "cell_type": "markdown",
     "metadata": {},
     "source": [
      "### 物理量の平均値と標準誤差を取り出してみます"
     ]
    },
    {
     "cell_type": "code",
     "collapsed": true,
     "input": [
      "print data[0][0].y"
     ],
     "language": "python",
     "metadata": {},
     "outputs": []
    },
    {
     "cell_type": "code",
     "collapsed": true,
     "input": [
      "print data[0][0].y[0].mean"
     ],
     "language": "python",
     "metadata": {},
     "outputs": []
    },
    {
     "cell_type": "code",
     "collapsed": true,
     "input": [
      "print data[0][0].y[0].error"
     ],
     "language": "python",
     "metadata": {},
     "outputs": []
    },
    {
     "cell_type": "markdown",
     "metadata": {},
     "source": [
      "## 4. 結果の可視化\n",
      "\n",
      "### データの整形\n",
      "\n",
      "$x$ 軸を `T`とし $y$ 軸を `|Magnetization|` として結果をプロットします．"
     ]
    },
    {
     "cell_type": "code",
     "collapsed": true,
     "input": [
      "mag = pyalps.collectXY(data,'T','|Magnetization|')"
     ],
     "language": "python",
     "metadata": {},
     "outputs": []
    },
    {
     "cell_type": "markdown",
     "metadata": {},
     "source": [
      "### Question\n",
      "mag の中身を確認してみましょう"
     ]
    },
    {
     "cell_type": "code",
     "collapsed": true,
     "input": [
      "print mag[0].x"
     ],
     "language": "python",
     "metadata": {},
     "outputs": []
    },
    {
     "cell_type": "code",
     "collapsed": true,
     "input": [
      "print mag[0].y"
     ],
     "language": "python",
     "metadata": {},
     "outputs": []
    },
    {
     "cell_type": "code",
     "collapsed": true,
     "input": [
      "print mag[0].props"
     ],
     "language": "python",
     "metadata": {},
     "outputs": []
    },
    {
     "cell_type": "markdown",
     "metadata": {},
     "source": [
      "### 結果のプロット\n",
      "\n",
      "関数 pyalps.plot.plot を使って結果をグラフに表示します．pyalps.plot.plot は matplotlib のラッパーです．きれいな図を描きたい場合は matplotlib を使いましょう．"
     ]
    },
    {
     "cell_type": "code",
     "collapsed": true,
     "input": [
      "pyalps.plot.plot(mag) # データをプロット．\n",
      "plt.xlim(1,3)              # x 軸の範囲を設定\n",
      "plt.ylim(0,1)              # y 軸の範囲を設定\n",
      "plt.title('Ising model')   # 図のタイトル\n",
      "plt.savefig('ising.pdf')   # ファイルへ出力\n",
      "plt.show()                 # X11 などで画面に表示"
     ],
     "language": "python",
     "metadata": {},
     "outputs": []
    },
    {
     "cell_type": "markdown",
     "metadata": {},
     "source": [
      "### 他のツールを使いたい場合\n",
      "\n",
      "単なるテキスト, gnuplot, grace といった他のデータフォーマットに変換できます．"
     ]
    },
    {
     "cell_type": "markdown",
     "metadata": {},
     "source": [
      "- text"
     ]
    },
    {
     "cell_type": "code",
     "collapsed": false,
     "input": [
      "print pyalps.plot.convertToText(mag)"
     ],
     "language": "python",
     "metadata": {},
     "outputs": []
    },
    {
     "cell_type": "markdown",
     "metadata": {},
     "source": [
      "- gnuplot"
     ]
    },
    {
     "cell_type": "code",
     "collapsed": true,
     "input": [
      "print pyalps.plot.makeGnuplotPlot(mag)"
     ],
     "language": "python",
     "metadata": {},
     "outputs": []
    },
    {
     "cell_type": "markdown",
     "metadata": {},
     "source": [
      "- grace"
     ]
    },
    {
     "cell_type": "code",
     "collapsed": true,
     "input": [
      "print pyalps.plot.makeGracePlot(mag)"
     ],
     "language": "python",
     "metadata": {},
     "outputs": []
    },
    {
     "cell_type": "markdown",
     "metadata": {},
     "source": [
      "## 結果の解析"
     ]
    },
    {
     "cell_type": "markdown",
     "metadata": {},
     "source": [
      "binder 比 $<m^2>/<|m|>^2$ の計算をしてみます"
     ]
    },
    {
     "cell_type": "code",
     "collapsed": true,
     "input": [
      "binder = pyalps.DataSet()\n",
      "binder.props = pyalps.dict_intersect([d[0].props for d in data])\n",
      "binder.x = [d[0].props['T'] for d in data]\n",
      "binder.y = [d[1].y[0]/(d[0].y[0]*d[0].y[0]) for d in data]\n",
      "print binder"
     ],
     "language": "python",
     "metadata": {},
     "outputs": []
    },
    {
     "cell_type": "markdown",
     "metadata": {},
     "source": [
      "#### Question\n",
      "\n",
      "binder比をプロットしてみましょう．"
     ]
    }
   ],
   "metadata": {}
  }
 ]
}